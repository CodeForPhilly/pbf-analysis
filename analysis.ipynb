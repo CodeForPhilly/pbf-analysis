{
 "cells": [
  {
   "cell_type": "markdown",
   "metadata": {},
   "source": [
    "# Analysis"
   ]
  },
  {
   "cell_type": "code",
   "execution_count": 1,
   "metadata": {},
   "outputs": [],
   "source": [
    "import ast\n",
    "import itertools\n",
    "from datetime import datetime\n",
    "import matplotlib.pyplot as plt\n",
    "import numpy as np\n",
    "import pandas as pd\n",
    "import regex as re\n",
    "import seaborn as sns\n",
    "\n",
    "from scipy.stats import chi2_contingency"
   ]
  },
  {
   "cell_type": "markdown",
   "metadata": {},
   "source": [
    "# Import and preprocessing for updated csv's"
   ]
  },
  {
   "cell_type": "code",
   "execution_count": 5,
   "metadata": {},
   "outputs": [],
   "source": [
    "# Import and join docket and court summary csv files\n",
    "docketdf = pd.read_csv(\"docket-parsed.csv\", index_col=0)\n",
    "courtdf = pd.read_csv(\"court-parsed.csv\", index_col=0)\n",
    "df = docketdf.merge(courtdf, on='docket_no', how='left', suffixes=('', '_y'))\n",
    "df.reset_index(inplace=True)\n",
    "df.drop(columns=['docket_no'], inplace=True)\n",
    "df.drop(df.filter(regex='_y$').columns.tolist(),axis=1, inplace=True)"
   ]
  },
  {
   "cell_type": "code",
   "execution_count": 6,
   "metadata": {},
   "outputs": [],
   "source": [
    "# convert string to datetime\n",
    "df[\"offense_date\"] = pd.to_datetime(df[\"offense_date\"])\n",
    "df[\"arrest_dt\"] = pd.to_datetime(df[\"arrest_dt\"])\n",
    "df[\"dob\"] = pd.to_datetime(df[\"dob\"])\n",
    "df[\"bail_date\"] = pd.to_datetime(df[\"bail_date\"])\n",
    "df[\"prelim_hearing_dt\"] = df[\"prelim_hearing_dt\"].apply(\n",
    "    lambda x: str(x).split(' ')[0] if pd.notnull(x) else x) # This is here because of a parsing issue\n",
    "df[\"prelim_hearing_dt\"] = pd.to_datetime(df[\"prelim_hearing_dt\"])\n",
    "df[\"prelim_hearing_time\"] = pd.to_datetime(df[\"prelim_hearing_time\"])\n",
    "\n",
    "# age column\n",
    "df['age'] = df['arrest_dt'] - df['dob']\n",
    "df['age'] = df['age'].apply(lambda x: np.floor(x.days/365.2425))\n",
    "\n",
    "# public defender column: 1 if public defender, 0 if private defender\n",
    "# note that there is also an \"attorney_type\" column, with \"Public\", \"Private\", and \"Court Appointed\" options\n",
    "df[\"public_defender\"] = df[\"attorney\"].apply(lambda x: 1 if x =='Defender Association of  Philadelphia' else 0)\n",
    "\n",
    "# convert string representation of list to list\n",
    "df[\"offenses\"] = df[\"offenses\"].apply(lambda x: ast.literal_eval(x))\n",
    "df['offense_type'] = df['offense_type'].apply(lambda x: ast.literal_eval(x))\n",
    "df['statute'] = df['statute'].apply(lambda x: ast.literal_eval(x))\n",
    "\n",
    "# zipcode: remove everything after hyphen\n",
    "df[\"zipcode_clean\"] = df[\"zip\"].apply(lambda x: re.sub('-.*$','',x) if type(x) == str else x)\n",
    "\n",
    "# column indicating whether zipcode is in Philadelphia\n",
    "philly_zipcode = list(range(19102, 19155))\n",
    "philly_zipcode = [str(item) for item in philly_zipcode]\n",
    "df['philly_zipcode'] = df['zipcode_clean'].apply(lambda x: 1 if x in philly_zipcode else 0)\n",
    "\n",
    "# categorical column indicating if bail is paid\n",
    "df['bail_paid_YN'] = df['bail_paid'].apply(lambda x: \"no\" if x == 0 else \"yes\")"
   ]
  },
  {
   "cell_type": "code",
   "execution_count": 7,
   "metadata": {},
   "outputs": [],
   "source": [
    "# Define bins for bail amount\n",
    "def bin_bailSet(bailSet):\n",
    "    if bailSet == 0 or pd.isnull(bailSet):\n",
    "        return 'None'\n",
    "    elif bailSet < 1000:\n",
    "        return '<1k'\n",
    "    elif bailSet < 5000:\n",
    "        return '1k to 5k'\n",
    "    elif bailSet < 10000:\n",
    "        return '5k to 10k'\n",
    "    elif bailSet < 25000:\n",
    "        return '10k to 25k'\n",
    "    elif bailSet < 50000:\n",
    "        return '25k to 50k'\n",
    "    elif bailSet < 100000:\n",
    "        return '50k to 100k'\n",
    "    elif bailSet < 500000:\n",
    "        return '100k to 500k'\n",
    "    else:\n",
    "        return '>=500k'\n",
    "\n",
    "# TODO: auto-generate bail_bin_labels to not have to manually update if updating fcn above\n",
    "bail_bin_labels = ['None', '<1k', '1k to 5k', '5k to 10k', '10k to 25k', '25k to 50k', '50k to 100k', '100k to 500k', '>=500k']   \n",
    "    \n",
    "# column for bail amount bins\n",
    "df['bail_set_bin'] = df['bail_amount'].apply(lambda x: bin_bailSet(x))"
   ]
  },
  {
   "cell_type": "code",
   "execution_count": 8,
   "metadata": {},
   "outputs": [],
   "source": [
    "# Define bins for age group\n",
    "def bin_age(age):\n",
    "    if age < 18:\n",
    "        return 'minor'\n",
    "    elif age < 26:\n",
    "        return '18 to 25'\n",
    "    elif age < 34:\n",
    "        return '26 to 33'\n",
    "    elif age < 42:\n",
    "        return '34 to 41'\n",
    "    elif age < 50:\n",
    "        return '42 to 49'\n",
    "    elif age < 58:\n",
    "        return '50 to 57'\n",
    "    elif age < 65:\n",
    "        return '58 to 64'\n",
    "    else:\n",
    "        return 'senior'\n",
    "\n",
    "# column for bail amount bins\n",
    "df['age_group'] = df['age'].apply(lambda x: bin_age(x))"
   ]
  },
  {
   "cell_type": "code",
   "execution_count": 10,
   "metadata": {},
   "outputs": [
    {
     "data": {
      "text/plain": [
       "['age',\n",
       " 'age_group',\n",
       " 'arrest_dt',\n",
       " 'arresting_officer',\n",
       " 'attorney',\n",
       " 'attorney_type',\n",
       " 'bail_amount',\n",
       " 'bail_date',\n",
       " 'bail_paid',\n",
       " 'bail_paid_YN',\n",
       " 'bail_set_bin',\n",
       " 'bail_set_by',\n",
       " 'bail_type',\n",
       " 'case_status',\n",
       " 'dob',\n",
       " 'offense_date',\n",
       " 'offense_type',\n",
       " 'offenses',\n",
       " 'philly_zipcode',\n",
       " 'prelim_hearing_dt',\n",
       " 'prelim_hearing_time',\n",
       " 'public_defender',\n",
       " 'race',\n",
       " 'sex',\n",
       " 'statute',\n",
       " 'zip',\n",
       " 'zipcode_clean']"
      ]
     },
     "execution_count": 10,
     "metadata": {},
     "output_type": "execute_result"
    }
   ],
   "source": [
    "# full list of columns available to work with\n",
    "sorted(df.columns.tolist())"
   ]
  },
  {
   "cell_type": "code",
   "execution_count": 12,
   "metadata": {},
   "outputs": [
    {
     "name": "stdout",
     "output_type": "stream",
     "text": [
      "number of statutes:  534\n"
     ]
    }
   ],
   "source": [
    "# create columns for each statute\n",
    "\n",
    "# number of different offenses (statutes) represented\n",
    "all_statutes = []\n",
    "for i in range(df.shape[0]):\n",
    "    statutes = df.at[i,'statute']\n",
    "    for item in statutes:\n",
    "        if item not in all_statutes:\n",
    "            all_statutes.append(item)\n",
    "            \n",
    "n_statutes = len(all_statutes)\n",
    "print('number of statutes: ', n_statutes)\n",
    "\n",
    "# create a dictionary of feature: statute \n",
    "statute_dict = {}\n",
    "feature_statute = {}\n",
    "for i, item in enumerate(all_statutes):\n",
    "    statute_dict[i] = item\n",
    "    feature_statute[item] = i\n",
    "    \n",
    "statute_cols = ['statute_' + str(i) for i in range(len(all_statutes))]\n",
    "\n",
    "# create new columns, one for each statute\n",
    "df[statute_cols] = 0\n",
    "\n",
    "for i in range(df.shape[0]):\n",
    "    statutes = df.at[i,'statute']\n",
    "    for item in statutes:\n",
    "        statute_idx = 'statute_' + str(all_statutes.index(item))\n",
    "        df.loc[i, statute_idx] += 1\n",
    "        "
   ]
  },
  {
   "cell_type": "code",
   "execution_count": 45,
   "metadata": {
    "scrolled": true
   },
   "outputs": [
    {
     "data": {
      "text/html": [
       "<div>\n",
       "<style scoped>\n",
       "    .dataframe tbody tr th:only-of-type {\n",
       "        vertical-align: middle;\n",
       "    }\n",
       "\n",
       "    .dataframe tbody tr th {\n",
       "        vertical-align: top;\n",
       "    }\n",
       "\n",
       "    .dataframe thead th {\n",
       "        text-align: right;\n",
       "    }\n",
       "</style>\n",
       "<table border=\"1\" class=\"dataframe\">\n",
       "  <thead>\n",
       "    <tr style=\"text-align: right;\">\n",
       "      <th></th>\n",
       "      <th>attorney</th>\n",
       "      <th>attorney_type</th>\n",
       "      <th>offenses</th>\n",
       "      <th>offense_date</th>\n",
       "      <th>statute</th>\n",
       "      <th>offense_type</th>\n",
       "      <th>bail_set_by</th>\n",
       "      <th>bail_amount</th>\n",
       "      <th>bail_paid</th>\n",
       "      <th>bail_date</th>\n",
       "      <th>...</th>\n",
       "      <th>statute_524</th>\n",
       "      <th>statute_525</th>\n",
       "      <th>statute_526</th>\n",
       "      <th>statute_527</th>\n",
       "      <th>statute_528</th>\n",
       "      <th>statute_529</th>\n",
       "      <th>statute_530</th>\n",
       "      <th>statute_531</th>\n",
       "      <th>statute_532</th>\n",
       "      <th>statute_533</th>\n",
       "    </tr>\n",
       "  </thead>\n",
       "  <tbody>\n",
       "    <tr>\n",
       "      <th>0</th>\n",
       "      <td>Defender Association of Philadelphia</td>\n",
       "      <td>Public</td>\n",
       "      <td>[DUI: Gen Imp/Inc of Driving Safely - 1st Off,...</td>\n",
       "      <td>2019-12-31</td>\n",
       "      <td>[75 § 3802, 75 § 3323]</td>\n",
       "      <td>[driving after imbibing alcohol or utilizing d...</td>\n",
       "      <td>Bernard, Francis X.</td>\n",
       "      <td>0.0</td>\n",
       "      <td>0.0</td>\n",
       "      <td>2020-01-01</td>\n",
       "      <td>...</td>\n",
       "      <td>0</td>\n",
       "      <td>0</td>\n",
       "      <td>0</td>\n",
       "      <td>0</td>\n",
       "      <td>0</td>\n",
       "      <td>0</td>\n",
       "      <td>0</td>\n",
       "      <td>0</td>\n",
       "      <td>0</td>\n",
       "      <td>0</td>\n",
       "    </tr>\n",
       "    <tr>\n",
       "      <th>1</th>\n",
       "      <td>Joseph Kevin Kelly</td>\n",
       "      <td>Private</td>\n",
       "      <td>[DUI: Gen Imp/Inc of Driving Safely - 1st Off]</td>\n",
       "      <td>2019-12-31</td>\n",
       "      <td>[75 § 3802]</td>\n",
       "      <td>[driving after imbibing alcohol or utilizing d...</td>\n",
       "      <td>Bernard, Francis X.</td>\n",
       "      <td>0.0</td>\n",
       "      <td>0.0</td>\n",
       "      <td>2020-01-01</td>\n",
       "      <td>...</td>\n",
       "      <td>0</td>\n",
       "      <td>0</td>\n",
       "      <td>0</td>\n",
       "      <td>0</td>\n",
       "      <td>0</td>\n",
       "      <td>0</td>\n",
       "      <td>0</td>\n",
       "      <td>0</td>\n",
       "      <td>0</td>\n",
       "      <td>0</td>\n",
       "    </tr>\n",
       "    <tr>\n",
       "      <th>2</th>\n",
       "      <td>Defender Association of Philadelphia</td>\n",
       "      <td>Public</td>\n",
       "      <td>[Retail Theft-Take Mdse]</td>\n",
       "      <td>2019-12-31</td>\n",
       "      <td>[18 § 3929]</td>\n",
       "      <td>[theft and related offenses]</td>\n",
       "      <td>Bernard, Francis X.</td>\n",
       "      <td>0.0</td>\n",
       "      <td>0.0</td>\n",
       "      <td>2020-01-01</td>\n",
       "      <td>...</td>\n",
       "      <td>0</td>\n",
       "      <td>0</td>\n",
       "      <td>0</td>\n",
       "      <td>0</td>\n",
       "      <td>0</td>\n",
       "      <td>0</td>\n",
       "      <td>0</td>\n",
       "      <td>0</td>\n",
       "      <td>0</td>\n",
       "      <td>0</td>\n",
       "    </tr>\n",
       "    <tr>\n",
       "      <th>3</th>\n",
       "      <td>Defender Association of Philadelphia</td>\n",
       "      <td>Public</td>\n",
       "      <td>[Simple Assault, Recklessly Endangering Anothe...</td>\n",
       "      <td>2019-12-31</td>\n",
       "      <td>[18 § 2701, 18 § 2705]</td>\n",
       "      <td>[assault, assault]</td>\n",
       "      <td>Bernard, Francis X.</td>\n",
       "      <td>30000.0</td>\n",
       "      <td>0.0</td>\n",
       "      <td>2020-01-01</td>\n",
       "      <td>...</td>\n",
       "      <td>0</td>\n",
       "      <td>0</td>\n",
       "      <td>0</td>\n",
       "      <td>0</td>\n",
       "      <td>0</td>\n",
       "      <td>0</td>\n",
       "      <td>0</td>\n",
       "      <td>0</td>\n",
       "      <td>0</td>\n",
       "      <td>0</td>\n",
       "    </tr>\n",
       "    <tr>\n",
       "      <th>4</th>\n",
       "      <td>Lee Mandell</td>\n",
       "      <td>Court Appointed</td>\n",
       "      <td>[Robbery-Inflict Threat Imm Bod Inj, Conspirac...</td>\n",
       "      <td>2019-12-31</td>\n",
       "      <td>[18 § 3701 §§ A1IV, 18 § 903 §§ C, 18 § 3921 §...</td>\n",
       "      <td>[robbery, inchoate crimes, theft and related o...</td>\n",
       "      <td>Pittman, Joffie C. III</td>\n",
       "      <td>30000.0</td>\n",
       "      <td>0.0</td>\n",
       "      <td>2020-01-09</td>\n",
       "      <td>...</td>\n",
       "      <td>0</td>\n",
       "      <td>0</td>\n",
       "      <td>0</td>\n",
       "      <td>0</td>\n",
       "      <td>0</td>\n",
       "      <td>0</td>\n",
       "      <td>0</td>\n",
       "      <td>0</td>\n",
       "      <td>0</td>\n",
       "      <td>0</td>\n",
       "    </tr>\n",
       "  </tbody>\n",
       "</table>\n",
       "<p>5 rows × 561 columns</p>\n",
       "</div>"
      ],
      "text/plain": [
       "                                 attorney    attorney_type  \\\n",
       "0   Defender Association of Philadelphia            Public   \n",
       "1                     Joseph Kevin Kelly           Private   \n",
       "2   Defender Association of Philadelphia            Public   \n",
       "3   Defender Association of Philadelphia            Public   \n",
       "4                            Lee Mandell   Court Appointed   \n",
       "\n",
       "                                            offenses offense_date  \\\n",
       "0  [DUI: Gen Imp/Inc of Driving Safely - 1st Off,...   2019-12-31   \n",
       "1     [DUI: Gen Imp/Inc of Driving Safely - 1st Off]   2019-12-31   \n",
       "2                           [Retail Theft-Take Mdse]   2019-12-31   \n",
       "3  [Simple Assault, Recklessly Endangering Anothe...   2019-12-31   \n",
       "4  [Robbery-Inflict Threat Imm Bod Inj, Conspirac...   2019-12-31   \n",
       "\n",
       "                                             statute  \\\n",
       "0                             [75 § 3802, 75 § 3323]   \n",
       "1                                        [75 § 3802]   \n",
       "2                                        [18 § 3929]   \n",
       "3                             [18 § 2701, 18 § 2705]   \n",
       "4  [18 § 3701 §§ A1IV, 18 § 903 §§ C, 18 § 3921 §...   \n",
       "\n",
       "                                        offense_type             bail_set_by  \\\n",
       "0  [driving after imbibing alcohol or utilizing d...     Bernard, Francis X.   \n",
       "1  [driving after imbibing alcohol or utilizing d...     Bernard, Francis X.   \n",
       "2                       [theft and related offenses]     Bernard, Francis X.   \n",
       "3                                 [assault, assault]     Bernard, Francis X.   \n",
       "4  [robbery, inchoate crimes, theft and related o...  Pittman, Joffie C. III   \n",
       "\n",
       "   bail_amount  bail_paid  bail_date  ... statute_524 statute_525 statute_526  \\\n",
       "0          0.0        0.0 2020-01-01  ...           0           0           0   \n",
       "1          0.0        0.0 2020-01-01  ...           0           0           0   \n",
       "2          0.0        0.0 2020-01-01  ...           0           0           0   \n",
       "3      30000.0        0.0 2020-01-01  ...           0           0           0   \n",
       "4      30000.0        0.0 2020-01-09  ...           0           0           0   \n",
       "\n",
       "  statute_527 statute_528 statute_529 statute_530 statute_531 statute_532  \\\n",
       "0           0           0           0           0           0           0   \n",
       "1           0           0           0           0           0           0   \n",
       "2           0           0           0           0           0           0   \n",
       "3           0           0           0           0           0           0   \n",
       "4           0           0           0           0           0           0   \n",
       "\n",
       "  statute_533  \n",
       "0           0  \n",
       "1           0  \n",
       "2           0  \n",
       "3           0  \n",
       "4           0  \n",
       "\n",
       "[5 rows x 561 columns]"
      ]
     },
     "execution_count": 45,
     "metadata": {},
     "output_type": "execute_result"
    }
   ],
   "source": [
    "df.head()"
   ]
  },
  {
   "cell_type": "markdown",
   "metadata": {},
   "source": [
    "## Preliminary analysis"
   ]
  },
  {
   "cell_type": "markdown",
   "metadata": {},
   "source": [
    "## Q1.1"
   ]
  },
  {
   "cell_type": "markdown",
   "metadata": {},
   "source": [
    "## Q1.2 "
   ]
  },
  {
   "cell_type": "markdown",
   "metadata": {},
   "source": [
    "## Q1.3 What neighborhoods are highly impacted by bail?"
   ]
  },
  {
   "cell_type": "markdown",
   "metadata": {},
   "source": [
    "The following visualizations shows that monetary bail largely impacts those who live in areas with severe poverty. \n",
    "* Left: Number of monetary bail cases by zip code. \n",
    "    * (We can regenerate the image for entire year of 2020 once we have the data) \n",
    "* Right: From US Census Bureau ASC 5-year estimate from 2018. \n",
    "    * data and link to table stored at 'data/poverty'.\n",
    "    * Maybe we can grab 2020 data\n",
    "\n",
    "data          |  visualization\n",
    ":-------------------------:|:-------------------------:\n",
    "Case count of monetary bail by zip code | <img src=\"visualizations/monetary_bail_case_count.png\" alt=\"drawing\" width=\"800\"/>  |\n",
    "Percentage of population living under poverty by zip code | <img src=\"visualizations/percent_below_poverty.png\" alt=\"drawing\" width=\"800\"/> | "
   ]
  },
  {
   "cell_type": "markdown",
   "metadata": {},
   "source": [
    "The following visualizations show that the median household income is higher than median bail amount (\\$25K) in many zip codes. \n",
    "* Left: median monetary bail amount by zip code.\n",
    "    * Median computed only for zipcodes that had 6 or more cases.  \n",
    "    * Median bail amount is usually \\$25K\n",
    "    * We can regenerate the image once we have 2020 data available. \n",
    "* Right: median household income by zipcode\n",
    "    * From US Cenus Bureau 2018 ASC 5-year estimate from 2018. \n",
    "    * data and link to table stored at 'data/income' \n",
    "    * Maybe we can grab 2020 data\n",
    "\n",
    "\n",
    "data          |  visualization\n",
    ":-------------------------:|:-------------------------:\n",
    "Median monetary bail amount by zip code            | <img src=\"visualizations/bail_amount.png\" alt=\"drawing\" width=\"800\"/> |  \n",
    "Median household income by zip code | <img src=\"visualizations/income.png\" alt=\"drawing\" width=\"800\"/>\n"
   ]
  },
  {
   "cell_type": "markdown",
   "metadata": {},
   "source": [
    "## Q2.1 Relationship between bail type / amount and various factors"
   ]
  },
  {
   "cell_type": "markdown",
   "metadata": {},
   "source": [
    "### Q: Are bail type and attorney type related?"
   ]
  },
  {
   "cell_type": "code",
   "execution_count": 235,
   "metadata": {},
   "outputs": [
    {
     "data": {
      "text/html": [
       "<div>\n",
       "<style scoped>\n",
       "    .dataframe tbody tr th:only-of-type {\n",
       "        vertical-align: middle;\n",
       "    }\n",
       "\n",
       "    .dataframe tbody tr th {\n",
       "        vertical-align: top;\n",
       "    }\n",
       "\n",
       "    .dataframe thead th {\n",
       "        text-align: right;\n",
       "    }\n",
       "</style>\n",
       "<table border=\"1\" class=\"dataframe\">\n",
       "  <thead>\n",
       "    <tr style=\"text-align: right;\">\n",
       "      <th>bail_type</th>\n",
       "      <th>Monetary</th>\n",
       "      <th>Nominal</th>\n",
       "      <th>Nonmonetary</th>\n",
       "      <th>ROR</th>\n",
       "      <th>Unsecured</th>\n",
       "    </tr>\n",
       "    <tr>\n",
       "      <th>public_defender</th>\n",
       "      <th></th>\n",
       "      <th></th>\n",
       "      <th></th>\n",
       "      <th></th>\n",
       "      <th></th>\n",
       "    </tr>\n",
       "  </thead>\n",
       "  <tbody>\n",
       "    <tr>\n",
       "      <th>0</th>\n",
       "      <td>2346</td>\n",
       "      <td>1</td>\n",
       "      <td>16</td>\n",
       "      <td>771</td>\n",
       "      <td>974</td>\n",
       "    </tr>\n",
       "    <tr>\n",
       "      <th>1</th>\n",
       "      <td>3188</td>\n",
       "      <td>0</td>\n",
       "      <td>140</td>\n",
       "      <td>3149</td>\n",
       "      <td>2648</td>\n",
       "    </tr>\n",
       "  </tbody>\n",
       "</table>\n",
       "</div>"
      ],
      "text/plain": [
       "bail_type        Monetary  Nominal  Nonmonetary   ROR  Unsecured\n",
       "public_defender                                                 \n",
       "0                    2346        1           16   771        974\n",
       "1                    3188        0          140  3149       2648"
      ]
     },
     "execution_count": 235,
     "metadata": {},
     "output_type": "execute_result"
    }
   ],
   "source": [
    "df_bail_attorney = pd.crosstab(index = df['public_defender'], columns =df['bail_type'])\n",
    "df_bail_attorney"
   ]
  },
  {
   "cell_type": "code",
   "execution_count": 236,
   "metadata": {},
   "outputs": [],
   "source": [
    "# since there are only a few nominal and non-monetary, combine them into 'other'\n",
    "df_bail_attorney['Other'] = df_bail_attorney['Nominal'] + df_bail_attorney['Nonmonetary']"
   ]
  },
  {
   "cell_type": "code",
   "execution_count": 237,
   "metadata": {},
   "outputs": [
    {
     "data": {
      "image/png": "[encoded data removed]",
      "text/plain": [
       "<Figure size 1080x1080 with 2 Axes>"
      ]
     },
     "metadata": {},
     "output_type": "display_data"
    }
   ],
   "source": [
    "bail_types = ['Monetary','ROR', 'Unsecured', 'Other']\n",
    "fig, ax = plt.subplots(ncols = 2, figsize = (15, 15))\n",
    "plt.rcParams['font.size'] = 15\n",
    "fig.suptitle('% of bail type for attorney type')\n",
    "ax[0].pie(df_bail_attorney.loc[0,bail_types], labels = bail_types)\n",
    "ax[0].set_title('private attorney')\n",
    "ax[1].pie(df_bail_attorney.loc[1,bail_types], labels = bail_types)\n",
    "ax[1].set_title('public defender')\n",
    "# common legend\n",
    "fig.subplots_adjust(top=1.35, left=0.1, right=0.9, bottom=0.12)  # create some space below the plots by increasing the bottom-value\n",
    "ax.flatten()[-2].legend(loc='upper center', bbox_to_anchor=(1.1, 0), ncol=4)\n",
    "\n",
    "plt.show()"
   ]
  },
  {
   "cell_type": "code",
   "execution_count": 238,
   "metadata": {},
   "outputs": [
    {
     "name": "stdout",
     "output_type": "stream",
     "text": [
      "p-value of chi-square test:  3.468844034416293e-130\n"
     ]
    }
   ],
   "source": [
    "# remove 'nominal' since we don't have enough cases \n",
    "df_bail_attorney.drop(columns = ['Nominal', 'Nonmonetary', 'Other'], inplace = True)\n",
    "\n",
    "# chi-squared test\n",
    "chi2, p, dof, ex = chi2_contingency(df_bail_attorney)\n",
    "print('p-value of chi-square test: ', p)"
   ]
  },
  {
   "cell_type": "markdown",
   "metadata": {},
   "source": [
    "* chi-square test tells us that **bail type and attorney type are related.**  \n",
    "* Looking at the pie chart for cases with public defenders, around 1/3 of cases end up with monetary, ROR, or unsecured bail. In contrast, cases with private attorney representation ends up with higher proportion of monetary bail cases. \n",
    "* This might be because defendants with serious offenses (and therefore more likely to end up with monetary bail) may be more likely to seek representation by private attornies."
   ]
  },
  {
   "cell_type": "markdown",
   "metadata": {},
   "source": [
    "### Q: Is bail amount and attorney type related?"
   ]
  },
  {
   "cell_type": "code",
   "execution_count": 8,
   "metadata": {},
   "outputs": [],
   "source": [
    "df_monetary = df[df['bail_type'] == 'Monetary'][['public_defender', 'bail_amount']]"
   ]
  },
  {
   "cell_type": "code",
   "execution_count": 38,
   "metadata": {
    "scrolled": true
   },
   "outputs": [
    {
     "data": {
      "image/png": "[encoded data removed]",
      "text/plain": [
       "<Figure size 1080x360 with 2 Axes>"
      ]
     },
     "metadata": {
      "needs_background": "light"
     },
     "output_type": "display_data"
    }
   ],
   "source": [
    "fig, ax = plt.subplots(ncols = 2, figsize = (15, 5))\n",
    "ax[0].hist(df_monetary[df_monetary[\"public_defender\"] == 0].bail_amount, bins = 100)\n",
    "ax[0].set_title('private attorney')\n",
    "ax[1].hist(df_monetary[df_monetary[\"public_defender\"] == 1].bail_amount, bins = 100)\n",
    "ax[1].set_title('public defender')\n",
    "for sub in ax:\n",
    "    sub.set_xlim((0, 300000))\n",
    "    sub.set_xlabel('bail amount ($)')\n",
    "    sub.set_ylabel('frequency')\n",
    "    sub.set_xticks(range(0, 350000, 50000))\n",
    "    sub.set_xticklabels(['0','50k', '100k', '150k', '200k', '250k', '300k'])\n",
    "    #plt.xticks(range(0, 350000, 50000), ['0','50k', '100k', '150k', '200k', '250k', '300k'])\n",
    "plt.suptitle('histogram of monetary bail amount by attorney type')\n",
    "plt.show()"
   ]
  },
  {
   "cell_type": "code",
   "execution_count": 72,
   "metadata": {},
   "outputs": [
    {
     "data": {
      "image/png": "[encoded data removed]",
      "text/plain": [
       "<Figure size 432x288 with 1 Axes>"
      ]
     },
     "metadata": {
      "needs_background": "light"
     },
     "output_type": "display_data"
    }
   ],
   "source": [
    "df_monetary.boxplot(column=['bail_amount'], by = ['public_defender'])\n",
    "plt.ylim(0,300000)\n",
    "plt.yticks(ticks = range(0, 350000, 50000), labels = ['0','50k','100k','150k','200k','250k','300k'])\n",
    "plt.xticks(ticks = [1,2], labels = ['private attorney','public defender'])\n",
    "plt.suptitle('Boxplot of bail amount grouped by attorney type')\n",
    "plt.show()"
   ]
  },
  {
   "cell_type": "code",
   "execution_count": 50,
   "metadata": {},
   "outputs": [
    {
     "name": "stdout",
     "output_type": "stream",
     "text": [
      "Median monetary bail amount for cases with private attorney:  50000.0\n",
      "Median monetary bail amount for cases with public defender:  25000.0\n"
     ]
    }
   ],
   "source": [
    "print('Median monetary bail amount for cases with private attorney: ', df_monetary[df_monetary['public_defender'] == 0].bail_amount.median())\n",
    "print('Median monetary bail amount for cases with public defender: ', df_monetary[df_monetary['public_defender'] == 1].bail_amount.median())"
   ]
  },
  {
   "cell_type": "markdown",
   "metadata": {},
   "source": [
    "* It seems like cases with private attornies have **higher monetary bail amount**.\n",
    "* This may be due to the fact that defendants with serious offenses are more likely to hire private attornies."
   ]
  },
  {
   "cell_type": "markdown",
   "metadata": {},
   "source": [
    "## Q2.2"
   ]
  },
  {
   "cell_type": "markdown",
   "metadata": {},
   "source": [
    "## Q2.3 What are the strongest factors determining bail type / bail amount?"
   ]
  },
  {
   "cell_type": "markdown",
   "metadata": {},
   "source": [
    "* See Q2.1 for starters"
   ]
  },
  {
   "cell_type": "markdown",
   "metadata": {},
   "source": [
    "### Q2.3 a: bail type"
   ]
  },
  {
   "cell_type": "markdown",
   "metadata": {},
   "source": [
    "### Prepare features"
   ]
  },
  {
   "cell_type": "code",
   "execution_count": 19,
   "metadata": {},
   "outputs": [],
   "source": [
    "df.drop(columns = ['dob', 'arresting_officer', 'attorney', 'zip'], inplace = True)"
   ]
  },
  {
   "cell_type": "markdown",
   "metadata": {},
   "source": [
    "### Correlations among categorical variables  \n",
    "* Look at correlations among variables.  \n",
    "* Use to select features for the predictive model\n",
    "* Categorical variables to consider:\n",
    "    * bail type\n",
    "    * attorney type\n",
    "    * arresting officer\n",
    "    * magistrate \n",
    "    * zipcode\n",
    "* Variables to add later: race, gender, offense type"
   ]
  },
  {
   "cell_type": "code",
   "execution_count": 76,
   "metadata": {},
   "outputs": [],
   "source": [
    "def compute_cramers_V(contingency_table):\n",
    "    # comptues Cramers'V measure from the given table\n",
    "    # contingency_table: dataframe\n",
    "    \n",
    "    chi2 = chi2_contingency(contingency_table)[0]\n",
    "    \n",
    "    # sample size\n",
    "    N = np.array(contingency_table).sum()\n",
    "    k = min(contingency_table.shape)\n",
    "    return np.sqrt(chi2 / (N*(k-1)))"
   ]
  },
  {
   "cell_type": "code",
   "execution_count": 121,
   "metadata": {},
   "outputs": [],
   "source": [
    "def compute_cramersV_matrix(df, columns):\n",
    "    # columns: list of columns of df with categorical variables\n",
    "    n_variables = len(columns)\n",
    "    V_matrix = np.identity(n_variables)\n",
    "    \n",
    "    for pair in itertools.combinations(range(n_variables),2):\n",
    "        var1, var2 = pair\n",
    "        cramersV = compute_cramers_V(pd.crosstab(index = df[columns[var1]], columns = df[columns[var2]]))\n",
    "        V_matrix[var1, var2] = cramersV\n",
    "        V_matrix[var2, var1] = cramersV\n",
    "\n",
    "    return V_matrix"
   ]
  },
  {
   "cell_type": "code",
   "execution_count": 122,
   "metadata": {},
   "outputs": [],
   "source": [
    "variables = ['public_defender', 'bail_type', 'zipcode_clean','arresting_officer', 'bail_set_by']\n",
    "V_matrix = compute_cramersV_matrix(df, variables)"
   ]
  },
  {
   "cell_type": "code",
   "execution_count": 123,
   "metadata": {},
   "outputs": [
    {
     "data": {
      "image/png": "[encoded data removed]",
      "text/plain": [
       "<Figure size 432x288 with 2 Axes>"
      ]
     },
     "metadata": {
      "needs_background": "light"
     },
     "output_type": "display_data"
    }
   ],
   "source": [
    "labels = ['defender type', 'bail type', 'zipcode', 'arresting officer', 'magistrate']\n",
    "g = sns.heatmap(V_matrix, annot = True)\n",
    "g.set_xticklabels(labels, rotation = 45)\n",
    "g.set_yticklabels(labels, rotation = 0)\n",
    "plt.show()"
   ]
  },
  {
   "cell_type": "markdown",
   "metadata": {},
   "source": [
    "* Cramer's V score: [0,1], with 0: no association, 1: strong association\n",
    "* It looks like 'arresting officer' is highly correlated with other variables. Probably because officers are in charge of specific types of offenses.  \n",
    "* Caution: this correlation matrix doesn't remove low-frequency rows/columns during chi-square test. To validate results, should perform chi-square after adjusting frequency.\n",
    "    * Ex) zipcode, arresting officer, and magistrate probably have a lot of low frequency categories"
   ]
  },
  {
   "cell_type": "markdown",
   "metadata": {},
   "source": [
    "### Predictive Modeling (w/ updated data)"
   ]
  },
  {
   "cell_type": "markdown",
   "metadata": {},
   "source": [
    "#### Review Features"
   ]
  },
  {
   "cell_type": "markdown",
   "metadata": {},
   "source": [
    "Arrest Date"
   ]
  },
  {
   "cell_type": "code",
   "execution_count": 9,
   "metadata": {},
   "outputs": [
    {
     "data": {
      "text/plain": [
       "[<matplotlib.lines.Line2D at 0x7f8fc3e380a0>]"
      ]
     },
     "execution_count": 9,
     "metadata": {},
     "output_type": "execute_result"
    },
    {
     "data": {
      "image/png": "[encoded data removed]",
      "text/plain": [
       "<Figure size 1080x360 with 1 Axes>"
      ]
     },
     "metadata": {
      "needs_background": "light"
     },
     "output_type": "display_data"
    }
   ],
   "source": [
    "x = new['arrest_dt'].value_counts().index\n",
    "y = new['arrest_dt'].value_counts().values\n",
    "\n",
    "plt.figure(figsize=(15,5))\n",
    "plt.plot_date(x, y)\n",
    "\n",
    "# date or date range (e.g. month, quarter) not a very interpretable feature\n",
    "# consider using day of the week"
   ]
  },
  {
   "cell_type": "markdown",
   "metadata": {},
   "source": [
    "Arresting Officer"
   ]
  },
  {
   "cell_type": "code",
   "execution_count": 10,
   "metadata": {},
   "outputs": [
    {
     "data": {
      "text/plain": [
       " Affiant                1329\n",
       " Balmer, James M.        285\n",
       " Rosa, Ricardo A.        260\n",
       " McCauley, Joseph J.     232\n",
       " Reilly, James M.        230\n",
       "                        ... \n",
       " O'Donnell, Sean           1\n",
       " Sweeney, Brandon          1\n",
       " Market, Matthew F.        1\n",
       " Tejeda, Jimmy             1\n",
       " Roesner, Francis J.       1\n",
       "Name: arresting_officer, Length: 2885, dtype: int64"
      ]
     },
     "execution_count": 10,
     "metadata": {},
     "output_type": "execute_result"
    }
   ],
   "source": [
    "new['arresting_officer'].value_counts()"
   ]
  },
  {
   "cell_type": "code",
   "execution_count": 11,
   "metadata": {},
   "outputs": [
    {
     "data": {
      "text/plain": [
       "2885"
      ]
     },
     "execution_count": 11,
     "metadata": {},
     "output_type": "execute_result"
    }
   ],
   "source": [
    "new['arresting_officer'].nunique()\n",
    "\n",
    "# include top officers and bucket the rest into \"other\""
   ]
  },
  {
   "cell_type": "markdown",
   "metadata": {},
   "source": [
    "Attorney"
   ]
  },
  {
   "cell_type": "code",
   "execution_count": 12,
   "metadata": {},
   "outputs": [
    {
     "data": {
      "text/plain": [
       "497"
      ]
     },
     "execution_count": 12,
     "metadata": {},
     "output_type": "execute_result"
    }
   ],
   "source": [
    "new['attorney'].nunique()\n",
    "\n",
    "# overlaps with attorney type, don't include attorney as feature"
   ]
  },
  {
   "cell_type": "markdown",
   "metadata": {},
   "source": [
    "Bail Date\n",
    "\n",
    "TODO\n",
    "* Look into what bail date is referring to (date bail is assigned? date bail is paid?)"
   ]
  },
  {
   "cell_type": "markdown",
   "metadata": {},
   "source": [
    "Magistrate ('bail_set_by' column)\n",
    "\n",
    "* Use top magistrates from earlier analysis (bucket rest into \"other\")?"
   ]
  },
  {
   "cell_type": "markdown",
   "metadata": {},
   "source": [
    "Offense Date"
   ]
  },
  {
   "cell_type": "code",
   "execution_count": 13,
   "metadata": {},
   "outputs": [
    {
     "data": {
      "text/plain": [
       "[<matplotlib.lines.Line2D at 0x7f8fc483f8b0>]"
      ]
     },
     "execution_count": 13,
     "metadata": {},
     "output_type": "execute_result"
    },
    {
     "data": {
      "image/png": "[encoded data removed]",
      "text/plain": [
       "<Figure size 1080x360 with 1 Axes>"
      ]
     },
     "metadata": {
      "needs_background": "light"
     },
     "output_type": "display_data"
    }
   ],
   "source": [
    "x = new['offense_date'].value_counts().index\n",
    "y = new['offense_date'].value_counts().values\n",
    "\n",
    "plt.figure(figsize=(15,5))\n",
    "plt.plot_date(x, y)"
   ]
  },
  {
   "cell_type": "code",
   "execution_count": 15,
   "metadata": {},
   "outputs": [
    {
     "data": {
      "text/plain": [
       "[<matplotlib.lines.Line2D at 0x7f8fc47e1fd0>]"
      ]
     },
     "execution_count": 15,
     "metadata": {},
     "output_type": "execute_result"
    },
    {
     "data": {
      "image/png": "[encoded data removed]",
      "text/plain": [
       "<Figure size 1080x360 with 1 Axes>"
      ]
     },
     "metadata": {
      "needs_background": "light"
     },
     "output_type": "display_data"
    }
   ],
   "source": [
    "filtered_count = new[new['offense_date'] > datetime(2020, 1, 1)]['offense_date'].value_counts()\n",
    "\n",
    "x = filtered_count.index\n",
    "y = filtered_count.values\n",
    "\n",
    "plt.figure(figsize=(15,5))\n",
    "plt.plot_date(x, y)\n",
    "\n",
    "# date or date range (e.g. month, quarter) not a very interpretable feature\n",
    "# consider using day of the week"
   ]
  },
  {
   "cell_type": "markdown",
   "metadata": {},
   "source": [
    "Zipcode\n",
    "\n",
    "* Group areas?"
   ]
  },
  {
   "cell_type": "code",
   "execution_count": 26,
   "metadata": {},
   "outputs": [
    {
     "data": {
      "text/plain": [
       "585"
      ]
     },
     "execution_count": 26,
     "metadata": {},
     "output_type": "execute_result"
    }
   ],
   "source": [
    "new['zipcode_clean'].nunique()"
   ]
  },
  {
   "cell_type": "markdown",
   "metadata": {},
   "source": [
    "Preliminary Hearing Date & Time\n",
    "\n",
    "*Exclude from modeling*\n",
    "\n",
    "* Bail is determined at initial appearance/arraignment, not at preliminary hearing ([American Bar](https://www.americanbar.org/groups/public_education/resources/law_related_education_network/how_courts_work/pretrial_appearances/#:~:text=The%20matter%20is%20set%20for,sets%20the%20amount%20of%20bail.))\n",
    "* Preliminary hearings only apply to felonies ([American Bar](https://www.americanbar.org/groups/public_education/resources/law_related_education_network/how_courts_work/pretrial_appearances/#:~:text=The%20matter%20is%20set%20for,sets%20the%20amount%20of%20bail.))\n",
    "* Prelims only happen when the defendant pleads not guilty in arraignment ([Nolo](https://www.nolo.com/legal-encyclopedia/all-about-preliminary-hearings-or-prelims.html))\n",
    "* Defendant may make motion to reduce bail at prelims ([PA law firm](https://goldsteinmehta.com/blog/what-happens-at-the-preliminary-hearing))"
   ]
  },
  {
   "cell_type": "markdown",
   "metadata": {},
   "source": [
    "Features to include in model:\n",
    "* age group\n",
    "* arrest date (day of week)\n",
    "* arresting officer\n",
    "* attorney type\n",
    "* magistrate (bail set by)\n",
    "* offense date (day of week)\n",
    "* offense type\n",
    "* race\n",
    "* sex\n",
    "\n",
    "Potential targets:\n",
    "* bail amount\n",
    "* bail set bin\n",
    "* bail paid (yes/no)\n",
    "* bail type"
   ]
  },
  {
   "cell_type": "markdown",
   "metadata": {},
   "source": [
    "#### Check for Multicolliniearity (VIF)"
   ]
  },
  {
   "cell_type": "markdown",
   "metadata": {},
   "source": [
    "#### Regression analysis"
   ]
  },
  {
   "cell_type": "markdown",
   "metadata": {},
   "source": [
    "#### Classification"
   ]
  },
  {
   "cell_type": "markdown",
   "metadata": {},
   "source": [
    "### Q2.3 b bail amount"
   ]
  },
  {
   "cell_type": "markdown",
   "metadata": {},
   "source": [
    "## Q2.4"
   ]
  }
 ],
 "metadata": {
  "kernelspec": {
   "display_name": "Python 3",
   "language": "python",
   "name": "python3"
  },
  "language_info": {
   "codemirror_mode": {
    "name": "ipython",
    "version": 3
   },
   "file_extension": ".py",
   "mimetype": "text/x-python",
   "name": "python",
   "nbconvert_exporter": "python",
   "pygments_lexer": "ipython3",
   "version": "3.9.0"
  }
 },
 "nbformat": 4,
 "nbformat_minor": 4
}
