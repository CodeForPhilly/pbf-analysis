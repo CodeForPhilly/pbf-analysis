{
 "cells": [
  {
   "cell_type": "markdown",
   "metadata": {},
   "source": [
    "# Analysis\n",
    "* This notebook cleans code for analyzing 'parsed1.csv'\n",
    "* Contains some preliminary analysis."
   ]
  },
  {
   "cell_type": "code",
   "execution_count": 1,
   "metadata": {},
   "outputs": [],
   "source": [
    "import ast\n",
    "import matplotlib.pyplot as plt\n",
    "import numpy as np\n",
    "import pandas as pd\n",
    "import regex as re"
   ]
  },
  {
   "cell_type": "code",
   "execution_count": 7,
   "metadata": {},
   "outputs": [],
   "source": [
    "df = pd.read_csv(\"../Data/parsed1.csv\", index_col = 0)\n",
    "df.drop(columns = ['docket_no'], inplace = True)"
   ]
  },
  {
   "cell_type": "code",
   "execution_count": 8,
   "metadata": {},
   "outputs": [
    {
     "data": {
      "text/html": [
       "<div>\n",
       "<style scoped>\n",
       "    .dataframe tbody tr th:only-of-type {\n",
       "        vertical-align: middle;\n",
       "    }\n",
       "\n",
       "    .dataframe tbody tr th {\n",
       "        vertical-align: top;\n",
       "    }\n",
       "\n",
       "    .dataframe thead th {\n",
       "        text-align: right;\n",
       "    }\n",
       "</style>\n",
       "<table border=\"1\" class=\"dataframe\">\n",
       "  <thead>\n",
       "    <tr style=\"text-align: right;\">\n",
       "      <th></th>\n",
       "      <th>offenses</th>\n",
       "      <th>offense_date</th>\n",
       "      <th>arrest_dt</th>\n",
       "      <th>case_status</th>\n",
       "      <th>arresting_officer</th>\n",
       "      <th>attorney</th>\n",
       "      <th>dob</th>\n",
       "      <th>zip</th>\n",
       "      <th>bail_set_by</th>\n",
       "      <th>bail_amount</th>\n",
       "      <th>bail_paid</th>\n",
       "      <th>bail_date</th>\n",
       "      <th>bail_type</th>\n",
       "      <th>prelim_hearing_dt</th>\n",
       "      <th>prelim_hearing_time</th>\n",
       "      <th>parsed_offenses</th>\n",
       "    </tr>\n",
       "  </thead>\n",
       "  <tbody>\n",
       "    <tr>\n",
       "      <th>0</th>\n",
       "      <td>['Rape Forcible Compulsion', 'Rape Forcible Co...</td>\n",
       "      <td>5/28/20</td>\n",
       "      <td>7/27/20</td>\n",
       "      <td>Active</td>\n",
       "      <td>Bengochea, William</td>\n",
       "      <td>Defender Association of  Philadelphia</td>\n",
       "      <td>5/19/93</td>\n",
       "      <td>19123</td>\n",
       "      <td>Bernard, Francis X.</td>\n",
       "      <td>300000</td>\n",
       "      <td>0</td>\n",
       "      <td>7/28/20</td>\n",
       "      <td>Monetary</td>\n",
       "      <td>7/28/20</td>\n",
       "      <td>4:49 AM</td>\n",
       "      <td>['False Imprisonment', 'Indec Asslt-W/O Cons O...</td>\n",
       "    </tr>\n",
       "    <tr>\n",
       "      <th>1</th>\n",
       "      <td>['Aggravated Assault - Attempts to cause SBI o...</td>\n",
       "      <td>5/4/20</td>\n",
       "      <td>5/4/20</td>\n",
       "      <td>Active</td>\n",
       "      <td>Soares, Baldomiro J. Jr.</td>\n",
       "      <td>Defender Association of  Philadelphia</td>\n",
       "      <td>5/5/97</td>\n",
       "      <td>19121</td>\n",
       "      <td>E-Filing Judge</td>\n",
       "      <td>50000</td>\n",
       "      <td>5000</td>\n",
       "      <td>5/5/20</td>\n",
       "      <td>Monetary</td>\n",
       "      <td>5/4/20</td>\n",
       "      <td>5:33 PM</td>\n",
       "      <td>['Aggravated Assault - Attempts to cause SBI o...</td>\n",
       "    </tr>\n",
       "    <tr>\n",
       "      <th>2</th>\n",
       "      <td>['Simple Assault', 'Simple Assault', 'Reckless...</td>\n",
       "      <td>2/2/20</td>\n",
       "      <td>2/12/20</td>\n",
       "      <td>Active</td>\n",
       "      <td>Jones, James</td>\n",
       "      <td>Defender Association of  Philadelphia</td>\n",
       "      <td>11/15/86</td>\n",
       "      <td>19124</td>\n",
       "      <td>Stack, Patrick</td>\n",
       "      <td>7500</td>\n",
       "      <td>750</td>\n",
       "      <td>2/13/20</td>\n",
       "      <td>Monetary</td>\n",
       "      <td>2/13/20</td>\n",
       "      <td>8:22 AM</td>\n",
       "      <td>['Recklessly Endangering Another Person', 'Sim...</td>\n",
       "    </tr>\n",
       "    <tr>\n",
       "      <th>3</th>\n",
       "      <td>['Contraband/Controlled Substance', 'Contraban...</td>\n",
       "      <td>2/10/20</td>\n",
       "      <td>2/21/20</td>\n",
       "      <td>Active</td>\n",
       "      <td>Balmer, James M.</td>\n",
       "      <td>Defender Association of  Philadelphia</td>\n",
       "      <td>12/13/80</td>\n",
       "      <td>19135</td>\n",
       "      <td>Bernard, Francis X.</td>\n",
       "      <td>5000</td>\n",
       "      <td>0</td>\n",
       "      <td>2/21/20</td>\n",
       "      <td>Unsecured</td>\n",
       "      <td>2/21/20</td>\n",
       "      <td>8:34 PM</td>\n",
       "      <td>['Contraband/Controlled Substance', 'Int Poss ...</td>\n",
       "    </tr>\n",
       "    <tr>\n",
       "      <th>4</th>\n",
       "      <td>['Manufacture, Delivery, or Possession With In...</td>\n",
       "      <td>3/13/20</td>\n",
       "      <td>3/14/20</td>\n",
       "      <td>Active</td>\n",
       "      <td>Sima, Raymond</td>\n",
       "      <td>Richard T. Brown Jr.</td>\n",
       "      <td>11/5/97</td>\n",
       "      <td>19144</td>\n",
       "      <td>Stack, Patrick</td>\n",
       "      <td>0</td>\n",
       "      <td>0</td>\n",
       "      <td>3/14/20</td>\n",
       "      <td>ROR</td>\n",
       "      <td>3/14/20</td>\n",
       "      <td>8:40 AM</td>\n",
       "      <td>['Conspiracy', 'Int Poss Contr Subst By Per No...</td>\n",
       "    </tr>\n",
       "  </tbody>\n",
       "</table>\n",
       "</div>"
      ],
      "text/plain": [
       "                                            offenses offense_date arrest_dt  \\\n",
       "0  ['Rape Forcible Compulsion', 'Rape Forcible Co...      5/28/20   7/27/20   \n",
       "1  ['Aggravated Assault - Attempts to cause SBI o...       5/4/20    5/4/20   \n",
       "2  ['Simple Assault', 'Simple Assault', 'Reckless...       2/2/20   2/12/20   \n",
       "3  ['Contraband/Controlled Substance', 'Contraban...      2/10/20   2/21/20   \n",
       "4  ['Manufacture, Delivery, or Possession With In...      3/13/20   3/14/20   \n",
       "\n",
       "  case_status         arresting_officer  \\\n",
       "0      Active        Bengochea, William   \n",
       "1      Active  Soares, Baldomiro J. Jr.   \n",
       "2      Active              Jones, James   \n",
       "3      Active          Balmer, James M.   \n",
       "4      Active             Sima, Raymond   \n",
       "\n",
       "                                attorney       dob    zip  \\\n",
       "0  Defender Association of  Philadelphia   5/19/93  19123   \n",
       "1  Defender Association of  Philadelphia    5/5/97  19121   \n",
       "2  Defender Association of  Philadelphia  11/15/86  19124   \n",
       "3  Defender Association of  Philadelphia  12/13/80  19135   \n",
       "4                  Richard T. Brown Jr.    11/5/97  19144   \n",
       "\n",
       "           bail_set_by  bail_amount  bail_paid bail_date  bail_type  \\\n",
       "0  Bernard, Francis X.       300000          0   7/28/20   Monetary   \n",
       "1       E-Filing Judge        50000       5000    5/5/20   Monetary   \n",
       "2       Stack, Patrick         7500        750   2/13/20   Monetary   \n",
       "3  Bernard, Francis X.         5000          0   2/21/20  Unsecured   \n",
       "4       Stack, Patrick            0          0   3/14/20        ROR   \n",
       "\n",
       "  prelim_hearing_dt prelim_hearing_time  \\\n",
       "0           7/28/20             4:49 AM   \n",
       "1            5/4/20             5:33 PM   \n",
       "2           2/13/20             8:22 AM   \n",
       "3           2/21/20             8:34 PM   \n",
       "4           3/14/20             8:40 AM   \n",
       "\n",
       "                                     parsed_offenses  \n",
       "0  ['False Imprisonment', 'Indec Asslt-W/O Cons O...  \n",
       "1  ['Aggravated Assault - Attempts to cause SBI o...  \n",
       "2  ['Recklessly Endangering Another Person', 'Sim...  \n",
       "3  ['Contraband/Controlled Substance', 'Int Poss ...  \n",
       "4  ['Conspiracy', 'Int Poss Contr Subst By Per No...  "
      ]
     },
     "execution_count": 8,
     "metadata": {},
     "output_type": "execute_result"
    }
   ],
   "source": [
    "df.head()"
   ]
  },
  {
   "cell_type": "code",
   "execution_count": 9,
   "metadata": {},
   "outputs": [],
   "source": [
    "# convert string to datetime\n",
    "#df[\"offense_date\"] = pd.to_datetime(df[\"offense_date\"])\n",
    "df[\"arrest_dt\"] = pd.to_datetime(df[\"arrest_dt\"])\n",
    "df[\"dob\"] = pd.to_datetime(df[\"dob\"])\n",
    "df[\"bail_date\"] = pd.to_datetime(df[\"bail_date\"])\n",
    "df[\"prelim_hearing_dt\"] = pd.to_datetime(df[\"prelim_hearing_dt\"])\n",
    "\n",
    "# public defender column: 1 if public defender, 0 if private defender\n",
    "df[\"public_defender\"] = df[\"attorney\"].apply(lambda x: 1 if x =='Defender Association of  Philadelphia' else 0)\n",
    "\n",
    "# convert type of \"offenses\" and \"parsed_offenses\" from string representation of list to list\n",
    "df[\"offenses\"] = df[\"offenses\"].apply(lambda x: ast.literal_eval(x))\n",
    "df[\"parsed_offenses\"] = df[\"parsed_offenses\"].apply(lambda x: ast.literal_eval(x))\n",
    "\n",
    "# zipcode: remove everything after hyphen\n",
    "df[\"zipcode_clean\"] = df[\"zip\"].apply(lambda x: re.sub('-.*$','',x) if type(x) == str else x)\n",
    "\n",
    "# Create column indicating whether zipcode is in philadelphia or not\n",
    "philly_zipcode = list(range(19102, 19155))\n",
    "philly_zipcode = [str(item) for item in philly_zipcode]\n",
    "df['philly_zipcode'] = df['zipcode_clean'].apply(lambda x: 1 if x in philly_zipcode else 0)"
   ]
  },
  {
   "cell_type": "markdown",
   "metadata": {},
   "source": [
    "Note:\n",
    "* For some reason, 'offense date' has multiple formats, so I couldn't easily convert to datetime format. Hopefully, the newly parsed dockets will all have uniform date format."
   ]
  },
  {
   "cell_type": "code",
   "execution_count": 13,
   "metadata": {},
   "outputs": [],
   "source": [
    "# save\n",
    "# df.to_csv(\"../Data/parsed1_cleaned.csv\")"
   ]
  },
  {
   "cell_type": "markdown",
   "metadata": {},
   "source": [
    "## Preliminary analysis"
   ]
  },
  {
   "cell_type": "code",
   "execution_count": 8,
   "metadata": {},
   "outputs": [
    {
     "data": {
      "text/plain": [
       "1    9148\n",
       "0    4290\n",
       "Name: public_defender, dtype: int64"
      ]
     },
     "execution_count": 8,
     "metadata": {},
     "output_type": "execute_result"
    }
   ],
   "source": [
    "df[\"public_defender\"].value_counts()"
   ]
  },
  {
   "cell_type": "code",
   "execution_count": 8,
   "metadata": {},
   "outputs": [
    {
     "data": {
      "text/plain": [
       "Monetary       5534\n",
       "ROR            3920\n",
       "Unsecured      3622\n",
       "Nonmonetary     156\n",
       "Nominal           1\n",
       "Name: bail_type, dtype: int64"
      ]
     },
     "execution_count": 8,
     "metadata": {},
     "output_type": "execute_result"
    }
   ],
   "source": [
    "df[\"bail_type\"].value_counts()"
   ]
  },
  {
   "cell_type": "code",
   "execution_count": 9,
   "metadata": {},
   "outputs": [
    {
     "data": {
      "image/png": "[encoded data removed]",
      "text/plain": [
       "<Figure size 432x288 with 1 Axes>"
      ]
     },
     "metadata": {
      "needs_background": "light"
     },
     "output_type": "display_data"
    }
   ],
   "source": [
    "# types of bail\n",
    "fig, ax = plt.subplots()\n",
    "ax = df['bail_type'].value_counts().plot(kind = 'bar')\n",
    "ax.set_xlabel('bail type')\n",
    "ax.set_ylabel('frequency')\n",
    "ax.xaxis.set_tick_params(rotation=0)\n",
    "plt.show()"
   ]
  },
  {
   "cell_type": "markdown",
   "metadata": {},
   "source": [
    "<b> Bail amount for monetary bail </b>"
   ]
  },
  {
   "cell_type": "code",
   "execution_count": 10,
   "metadata": {},
   "outputs": [
    {
     "data": {
      "text/plain": [
       "count    5.534000e+03\n",
       "mean     9.940039e+04\n",
       "std      2.404077e+05\n",
       "min      0.000000e+00\n",
       "25%      1.000000e+04\n",
       "50%      2.500000e+04\n",
       "75%      1.000000e+05\n",
       "max      5.000000e+06\n",
       "Name: bail_amount, dtype: float64"
      ]
     },
     "execution_count": 10,
     "metadata": {},
     "output_type": "execute_result"
    }
   ],
   "source": [
    "df[df[\"bail_type\"] == \"Monetary\"].bail_amount.describe()"
   ]
  },
  {
   "cell_type": "code",
   "execution_count": 11,
   "metadata": {},
   "outputs": [
    {
     "name": "stdout",
     "output_type": "stream",
     "text": [
      "median bail amount:  25000.0\n"
     ]
    }
   ],
   "source": [
    "# median bail amount\n",
    "print('median bail amount: ', df[df[\"bail_type\"] == \"Monetary\"].bail_amount.median())"
   ]
  },
  {
   "cell_type": "code",
   "execution_count": 12,
   "metadata": {
    "scrolled": true
   },
   "outputs": [
    {
     "data": {
      "image/png": "[encoded data removed]",
      "text/plain": [
       "<Figure size 432x288 with 1 Axes>"
      ]
     },
     "metadata": {
      "needs_background": "light"
     },
     "output_type": "display_data"
    }
   ],
   "source": [
    "# distribution of bail amount for monetary bail\n",
    "fig, ax = plt.subplots()\n",
    "ax = df[df[\"bail_type\"] == \"Monetary\"].bail_amount.plot.hist(bins = 100)\n",
    "ax.set_xlim((0,300000))\n",
    "ax.set_xlabel('bail amount ($)')\n",
    "ax.set_ylabel('frequency')\n",
    "plt.xticks(range(0, 350000, 50000), ['0','50k', '100k', '150k', '200k', '250k', '300k'])\n",
    "plt.show()"
   ]
  },
  {
   "cell_type": "code",
   "execution_count": null,
   "metadata": {},
   "outputs": [],
   "source": [
    "# median bail amount over time "
   ]
  },
  {
   "cell_type": "markdown",
   "metadata": {},
   "source": [
    "<b> Quesiton:</b> When a bail is paid, is it always 10% of the bail amount? Yes"
   ]
  },
  {
   "cell_type": "code",
   "execution_count": 13,
   "metadata": {},
   "outputs": [
    {
     "data": {
      "text/plain": [
       "True    3005\n",
       "dtype: int64"
      ]
     },
     "execution_count": 13,
     "metadata": {},
     "output_type": "execute_result"
    }
   ],
   "source": [
    "# when a bail is paid, it's always 10% of the bail amount\n",
    "(df[df[\"bail_paid\"] > 0].bail_amount * 0.1 == df[df[\"bail_paid\"] > 0].bail_paid).value_counts()"
   ]
  },
  {
   "cell_type": "markdown",
   "metadata": {},
   "source": [
    "<b> Number of cases over time </b>"
   ]
  },
  {
   "cell_type": "code",
   "execution_count": 23,
   "metadata": {},
   "outputs": [
    {
     "data": {
      "text/plain": [
       "Timestamp('2020-07-29 00:00:00')"
      ]
     },
     "execution_count": 23,
     "metadata": {},
     "output_type": "execute_result"
    }
   ],
   "source": [
    "day_count = df['arrest_dt'].value_counts()\n",
    "day_count.keys().max()"
   ]
  },
  {
   "cell_type": "code",
   "execution_count": 26,
   "metadata": {
    "scrolled": true
   },
   "outputs": [
    {
     "data": {
      "image/png": "[encoded data removed]",
      "text/plain": [
       "<Figure size 1080x360 with 1 Axes>"
      ]
     },
     "metadata": {
      "needs_background": "light"
     },
     "output_type": "display_data"
    }
   ],
   "source": [
    "plt.figure(figsize = (15,5))\n",
    "plt.scatter(day_count.index, day_count.values)\n",
    "day_count.plot()\n",
    "plt.xlim('2020-01-01','2020-07-31')\n",
    "plt.show()"
   ]
  },
  {
   "cell_type": "code",
   "execution_count": null,
   "metadata": {},
   "outputs": [],
   "source": [
    "# maybe we should exclude those arrested from 05-31 to 06-03"
   ]
  },
  {
   "cell_type": "markdown",
   "metadata": {},
   "source": [
    "## Q1.1"
   ]
  },
  {
   "cell_type": "markdown",
   "metadata": {},
   "source": [
    "## Q1.2 "
   ]
  },
  {
   "cell_type": "markdown",
   "metadata": {},
   "source": [
    "## Q1.3"
   ]
  },
  {
   "cell_type": "markdown",
   "metadata": {},
   "source": [
    "## Q2.1"
   ]
  },
  {
   "cell_type": "markdown",
   "metadata": {},
   "source": [
    "## Q2.2"
   ]
  },
  {
   "cell_type": "markdown",
   "metadata": {},
   "source": [
    "## Q2.3"
   ]
  },
  {
   "cell_type": "markdown",
   "metadata": {},
   "source": [
    "## Q2.4"
   ]
  }
 ],
 "metadata": {
  "kernelspec": {
   "display_name": "Python 3",
   "language": "python",
   "name": "python3"
  },
  "language_info": {
   "codemirror_mode": {
    "name": "ipython",
    "version": 3
   },
   "file_extension": ".py",
   "mimetype": "text/x-python",
   "name": "python",
   "nbconvert_exporter": "python",
   "pygments_lexer": "ipython3",
   "version": "3.8.5"
  }
 },
 "nbformat": 4,
 "nbformat_minor": 4
}
