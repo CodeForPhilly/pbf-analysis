{
 "cells": [
  {
   "cell_type": "markdown",
   "metadata": {},
   "source": [
    "# Dashboard\n",
    "* This notebook contains visualiations that could be incorporated into the final dashboard"
   ]
  },
  {
   "cell_type": "code",
   "execution_count": 1,
   "metadata": {},
   "outputs": [],
   "source": [
    "import ast\n",
    "import itertools\n",
    "import matplotlib.pyplot as plt\n",
    "import numpy as np\n",
    "import pandas as pd\n",
    "import regex as re\n",
    "import seaborn as sns\n",
    "\n",
    "from scipy.stats import chi2_contingency"
   ]
  },
  {
   "cell_type": "code",
   "execution_count": 4,
   "metadata": {},
   "outputs": [],
   "source": [
    "df = pd.read_csv(\"parsed1.csv\", index_col = 0)\n",
    "df.drop(columns = ['docket_no'], inplace = True)"
   ]
  },
  {
   "cell_type": "code",
   "execution_count": 5,
   "metadata": {},
   "outputs": [],
   "source": [
    "# convert string to datetime\n",
    "#df[\"offense_date\"] = pd.to_datetime(df[\"offense_date\"])\n",
    "df[\"arrest_dt\"] = pd.to_datetime(df[\"arrest_dt\"])\n",
    "df[\"dob\"] = pd.to_datetime(df[\"dob\"])\n",
    "df[\"bail_date\"] = pd.to_datetime(df[\"bail_date\"])\n",
    "df[\"prelim_hearing_dt\"] = pd.to_datetime(df[\"prelim_hearing_dt\"])\n",
    "\n",
    "# age column\n",
    "df['age'] = df['dob'].apply(lambda x: 2020-x.year)\n",
    "\n",
    "# public defender column: 1 if public defender, 0 if private defender\n",
    "df[\"public_defender\"] = df[\"attorney\"].apply(lambda x: 1 if x =='Defender Association of  Philadelphia' else 0)\n",
    "\n",
    "# convert type of \"offenses\" and \"parsed_offenses\" from string representation of list to list\n",
    "df[\"offenses\"] = df[\"offenses\"].apply(lambda x: ast.literal_eval(x))\n",
    "df[\"parsed_offenses\"] = df[\"parsed_offenses\"].apply(lambda x: ast.literal_eval(x))\n",
    "\n",
    "# zipcode: remove everything after hyphen\n",
    "df[\"zipcode_clean\"] = df[\"zip\"].apply(lambda x: re.sub('-.*$','',x) if type(x) == str else x)\n",
    "\n",
    "# Create column indicating whether zipcode is in philadelphia or not\n",
    "philly_zipcode = list(range(19102, 19155))\n",
    "philly_zipcode = [str(item) for item in philly_zipcode]\n",
    "df['philly_zipcode'] = df['zipcode_clean'].apply(lambda x: 1 if x in philly_zipcode else 0)"
   ]
  },
  {
   "cell_type": "code",
   "execution_count": 6,
   "metadata": {},
   "outputs": [
    {
     "data": {
      "text/html": [
       "<div>\n",
       "<style scoped>\n",
       "    .dataframe tbody tr th:only-of-type {\n",
       "        vertical-align: middle;\n",
       "    }\n",
       "\n",
       "    .dataframe tbody tr th {\n",
       "        vertical-align: top;\n",
       "    }\n",
       "\n",
       "    .dataframe thead th {\n",
       "        text-align: right;\n",
       "    }\n",
       "</style>\n",
       "<table border=\"1\" class=\"dataframe\">\n",
       "  <thead>\n",
       "    <tr style=\"text-align: right;\">\n",
       "      <th></th>\n",
       "      <th>offenses</th>\n",
       "      <th>offense_date</th>\n",
       "      <th>arrest_dt</th>\n",
       "      <th>case_status</th>\n",
       "      <th>arresting_officer</th>\n",
       "      <th>attorney</th>\n",
       "      <th>dob</th>\n",
       "      <th>zip</th>\n",
       "      <th>bail_set_by</th>\n",
       "      <th>bail_amount</th>\n",
       "      <th>bail_paid</th>\n",
       "      <th>bail_date</th>\n",
       "      <th>bail_type</th>\n",
       "      <th>prelim_hearing_dt</th>\n",
       "      <th>prelim_hearing_time</th>\n",
       "      <th>parsed_offenses</th>\n",
       "      <th>age</th>\n",
       "      <th>public_defender</th>\n",
       "      <th>zipcode_clean</th>\n",
       "      <th>philly_zipcode</th>\n",
       "    </tr>\n",
       "  </thead>\n",
       "  <tbody>\n",
       "    <tr>\n",
       "      <th>0</th>\n",
       "      <td>[Rape Forcible Compulsion, Rape Forcible Compu...</td>\n",
       "      <td>5/28/20</td>\n",
       "      <td>2020-07-27</td>\n",
       "      <td>Active</td>\n",
       "      <td>Bengochea, William</td>\n",
       "      <td>Defender Association of  Philadelphia</td>\n",
       "      <td>1993-05-19</td>\n",
       "      <td>19123</td>\n",
       "      <td>Bernard, Francis X.</td>\n",
       "      <td>300000</td>\n",
       "      <td>0</td>\n",
       "      <td>2020-07-28</td>\n",
       "      <td>Monetary</td>\n",
       "      <td>2020-07-28</td>\n",
       "      <td>4:49 AM</td>\n",
       "      <td>[False Imprisonment, Indec Asslt-W/O Cons Of O...</td>\n",
       "      <td>27.0</td>\n",
       "      <td>1</td>\n",
       "      <td>19123</td>\n",
       "      <td>1</td>\n",
       "    </tr>\n",
       "    <tr>\n",
       "      <th>1</th>\n",
       "      <td>[Aggravated Assault - Attempts to cause SBI or...</td>\n",
       "      <td>5/4/20</td>\n",
       "      <td>2020-05-04</td>\n",
       "      <td>Active</td>\n",
       "      <td>Soares, Baldomiro J. Jr.</td>\n",
       "      <td>Defender Association of  Philadelphia</td>\n",
       "      <td>1997-05-05</td>\n",
       "      <td>19121</td>\n",
       "      <td>E-Filing Judge</td>\n",
       "      <td>50000</td>\n",
       "      <td>5000</td>\n",
       "      <td>2020-05-05</td>\n",
       "      <td>Monetary</td>\n",
       "      <td>2020-05-04</td>\n",
       "      <td>5:33 PM</td>\n",
       "      <td>[Aggravated Assault - Attempts to cause SBI or...</td>\n",
       "      <td>23.0</td>\n",
       "      <td>1</td>\n",
       "      <td>19121</td>\n",
       "      <td>1</td>\n",
       "    </tr>\n",
       "    <tr>\n",
       "      <th>2</th>\n",
       "      <td>[Simple Assault, Simple Assault, Recklessly En...</td>\n",
       "      <td>2/2/20</td>\n",
       "      <td>2020-02-12</td>\n",
       "      <td>Active</td>\n",
       "      <td>Jones, James</td>\n",
       "      <td>Defender Association of  Philadelphia</td>\n",
       "      <td>1986-11-15</td>\n",
       "      <td>19124</td>\n",
       "      <td>Stack, Patrick</td>\n",
       "      <td>7500</td>\n",
       "      <td>750</td>\n",
       "      <td>2020-02-13</td>\n",
       "      <td>Monetary</td>\n",
       "      <td>2020-02-13</td>\n",
       "      <td>8:22 AM</td>\n",
       "      <td>[Recklessly Endangering Another Person, Simple...</td>\n",
       "      <td>34.0</td>\n",
       "      <td>1</td>\n",
       "      <td>19124</td>\n",
       "      <td>1</td>\n",
       "    </tr>\n",
       "    <tr>\n",
       "      <th>3</th>\n",
       "      <td>[Contraband/Controlled Substance, Contraband/C...</td>\n",
       "      <td>2/10/20</td>\n",
       "      <td>2020-02-21</td>\n",
       "      <td>Active</td>\n",
       "      <td>Balmer, James M.</td>\n",
       "      <td>Defender Association of  Philadelphia</td>\n",
       "      <td>1980-12-13</td>\n",
       "      <td>19135</td>\n",
       "      <td>Bernard, Francis X.</td>\n",
       "      <td>5000</td>\n",
       "      <td>0</td>\n",
       "      <td>2020-02-21</td>\n",
       "      <td>Unsecured</td>\n",
       "      <td>2020-02-21</td>\n",
       "      <td>8:34 PM</td>\n",
       "      <td>[Contraband/Controlled Substance, Int Poss Con...</td>\n",
       "      <td>40.0</td>\n",
       "      <td>1</td>\n",
       "      <td>19135</td>\n",
       "      <td>1</td>\n",
       "    </tr>\n",
       "    <tr>\n",
       "      <th>4</th>\n",
       "      <td>[Manufacture, Delivery, or Possession With Int...</td>\n",
       "      <td>3/13/20</td>\n",
       "      <td>2020-03-14</td>\n",
       "      <td>Active</td>\n",
       "      <td>Sima, Raymond</td>\n",
       "      <td>Richard T. Brown Jr.</td>\n",
       "      <td>1997-11-05</td>\n",
       "      <td>19144</td>\n",
       "      <td>Stack, Patrick</td>\n",
       "      <td>0</td>\n",
       "      <td>0</td>\n",
       "      <td>2020-03-14</td>\n",
       "      <td>ROR</td>\n",
       "      <td>2020-03-14</td>\n",
       "      <td>8:40 AM</td>\n",
       "      <td>[Conspiracy, Int Poss Contr Subst By Per Not R...</td>\n",
       "      <td>23.0</td>\n",
       "      <td>0</td>\n",
       "      <td>19144</td>\n",
       "      <td>1</td>\n",
       "    </tr>\n",
       "  </tbody>\n",
       "</table>\n",
       "</div>"
      ],
      "text/plain": [
       "                                            offenses offense_date  arrest_dt  \\\n",
       "0  [Rape Forcible Compulsion, Rape Forcible Compu...      5/28/20 2020-07-27   \n",
       "1  [Aggravated Assault - Attempts to cause SBI or...       5/4/20 2020-05-04   \n",
       "2  [Simple Assault, Simple Assault, Recklessly En...       2/2/20 2020-02-12   \n",
       "3  [Contraband/Controlled Substance, Contraband/C...      2/10/20 2020-02-21   \n",
       "4  [Manufacture, Delivery, or Possession With Int...      3/13/20 2020-03-14   \n",
       "\n",
       "  case_status         arresting_officer  \\\n",
       "0      Active        Bengochea, William   \n",
       "1      Active  Soares, Baldomiro J. Jr.   \n",
       "2      Active              Jones, James   \n",
       "3      Active          Balmer, James M.   \n",
       "4      Active             Sima, Raymond   \n",
       "\n",
       "                                attorney        dob    zip  \\\n",
       "0  Defender Association of  Philadelphia 1993-05-19  19123   \n",
       "1  Defender Association of  Philadelphia 1997-05-05  19121   \n",
       "2  Defender Association of  Philadelphia 1986-11-15  19124   \n",
       "3  Defender Association of  Philadelphia 1980-12-13  19135   \n",
       "4                  Richard T. Brown Jr.  1997-11-05  19144   \n",
       "\n",
       "           bail_set_by  bail_amount  bail_paid  bail_date  bail_type  \\\n",
       "0  Bernard, Francis X.       300000          0 2020-07-28   Monetary   \n",
       "1       E-Filing Judge        50000       5000 2020-05-05   Monetary   \n",
       "2       Stack, Patrick         7500        750 2020-02-13   Monetary   \n",
       "3  Bernard, Francis X.         5000          0 2020-02-21  Unsecured   \n",
       "4       Stack, Patrick            0          0 2020-03-14        ROR   \n",
       "\n",
       "  prelim_hearing_dt prelim_hearing_time  \\\n",
       "0        2020-07-28             4:49 AM   \n",
       "1        2020-05-04             5:33 PM   \n",
       "2        2020-02-13             8:22 AM   \n",
       "3        2020-02-21             8:34 PM   \n",
       "4        2020-03-14             8:40 AM   \n",
       "\n",
       "                                     parsed_offenses   age  public_defender  \\\n",
       "0  [False Imprisonment, Indec Asslt-W/O Cons Of O...  27.0                1   \n",
       "1  [Aggravated Assault - Attempts to cause SBI or...  23.0                1   \n",
       "2  [Recklessly Endangering Another Person, Simple...  34.0                1   \n",
       "3  [Contraband/Controlled Substance, Int Poss Con...  40.0                1   \n",
       "4  [Conspiracy, Int Poss Contr Subst By Per Not R...  23.0                0   \n",
       "\n",
       "  zipcode_clean  philly_zipcode  \n",
       "0         19123               1  \n",
       "1         19121               1  \n",
       "2         19124               1  \n",
       "3         19135               1  \n",
       "4         19144               1  "
      ]
     },
     "execution_count": 6,
     "metadata": {},
     "output_type": "execute_result"
    }
   ],
   "source": [
    "df.head()"
   ]
  },
  {
   "cell_type": "markdown",
   "metadata": {},
   "source": [
    "## 1. Aggregate bail information for the year 2020"
   ]
  },
  {
   "cell_type": "markdown",
   "metadata": {},
   "source": [
    "## 2. Visualizations on magistrate information"
   ]
  },
  {
   "cell_type": "code",
   "execution_count": 9,
   "metadata": {
    "scrolled": false
   },
   "outputs": [
    {
     "data": {
      "text/plain": [
       "O'Brien, James                            2704\n",
       "Bernard, Francis X.                       2680\n",
       "Stack, Patrick                            2454\n",
       "Emergency Arraignment Court Magistrate    1835\n",
       "E-Filing Judge                            1564\n",
       "                                          ... \n",
       "Means, Rayford A.                            1\n",
       "Palumbo, Frank                               1\n",
       "Active Criminal Records Department           1\n",
       "Whitfield, Stephanie Yvonne                  1\n",
       "Pierre, Christopher                          1\n",
       "Name: bail_set_by, Length: 88, dtype: int64"
      ]
     },
     "execution_count": 9,
     "metadata": {},
     "output_type": "execute_result"
    }
   ],
   "source": [
    "df['bail_set_by'].value_counts()"
   ]
  },
  {
   "cell_type": "markdown",
   "metadata": {},
   "source": [
    "## 3. Which neighborhoods are heavily impacted by bail?"
   ]
  },
  {
   "cell_type": "markdown",
   "metadata": {},
   "source": [
    "The following visualizations shows that monetary bail largely impacts those who live in areas with severe poverty. \n",
    "* Left: Number of monetary bail cases by zip code. \n",
    "    * (We can regenerate the image for entire year of 2020 once we have the data) \n",
    "* Right: From US Census Bureau ASC 5-year estimate from 2018. \n",
    "    * data and link to table stored at 'data/poverty'.\n",
    "    * Maybe we can grab 2020 data\n",
    "\n",
    "data          |  visualization\n",
    ":-------------------------:|:-------------------------:\n",
    "Case count of monetary bail by zip code | <img src=\"visualizations/monetary_bail_case_count.png\" alt=\"drawing\" width=\"800\"/>  |\n",
    "Percentage of population living under poverty by zip code | <img src=\"visualizations/percent_below_poverty.png\" alt=\"drawing\" width=\"800\"/> | "
   ]
  },
  {
   "cell_type": "markdown",
   "metadata": {},
   "source": [
    "The following visualizations show that the median household income is higher than median bail amount (\\$25K) in many zip codes. \n",
    "* Left: median monetary bail amount by zip code.\n",
    "    * Median computed only for zipcodes that had 6 or more cases.  \n",
    "    * Median bail amount is usually \\$25K\n",
    "    * We can regenerate the image once we have 2020 data available. \n",
    "* Right: median household income by zipcode\n",
    "    * From US Cenus Bureau 2018 ASC 5-year estimate from 2018. \n",
    "    * data and link to table stored at 'data/income' \n",
    "    * Maybe we can grab 2020 data\n",
    "\n",
    "\n",
    "data          |  visualization\n",
    ":-------------------------:|:-------------------------:\n",
    "Median monetary bail amount by zip code            | <img src=\"visualizations/bail_amount.png\" alt=\"drawing\" width=\"800\"/> |  \n",
    "Median household income by zip code | <img src=\"visualizations/income.png\" alt=\"drawing\" width=\"800\"/>\n"
   ]
  },
  {
   "cell_type": "markdown",
   "metadata": {},
   "source": [
    "## 4. Break down by race and gender"
   ]
  },
  {
   "cell_type": "markdown",
   "metadata": {},
   "source": [
    "## 5. How much Philadelphians paid in bail "
   ]
  }
 ],
 "metadata": {
  "kernelspec": {
   "display_name": "Python [conda env:PBF] *",
   "language": "python",
   "name": "conda-env-PBF-py"
  },
  "language_info": {
   "codemirror_mode": {
    "name": "ipython",
    "version": 3
   },
   "file_extension": ".py",
   "mimetype": "text/x-python",
   "name": "python",
   "nbconvert_exporter": "python",
   "pygments_lexer": "ipython3",
   "version": "3.8.5"
  }
 },
 "nbformat": 4,
 "nbformat_minor": 4
}
