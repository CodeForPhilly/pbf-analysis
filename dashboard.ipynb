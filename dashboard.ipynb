{
 "cells": [
  {
   "cell_type": "markdown",
   "metadata": {},
   "source": [
    "# Dashboard\n",
    "* This notebook contains visualiations that could be incorporated into the final dashboard\n",
    "* \"Could your grandmother understand these visualizations?\""
   ]
  },
  {
   "cell_type": "code",
   "execution_count": 1,
   "metadata": {},
   "outputs": [],
   "source": [
    "import ast\n",
    "import datetime\n",
    "import itertools\n",
    "import matplotlib.pyplot as plt\n",
    "import numpy as np\n",
    "import pandas as pd\n",
    "import random\n",
    "import regex as re\n",
    "import seaborn as sns\n",
    "\n",
    "from dateutil.relativedelta import relativedelta\n",
    "from gensim.models.nmf import Nmf\n",
    "from gensim.corpora import Dictionary\n",
    "from gensim.models.coherencemodel import CoherenceModel\n",
    "from scipy.stats import chi2_contingency, mannwhitneyu"
   ]
  },
  {
   "cell_type": "markdown",
   "metadata": {},
   "source": [
    "## 0. Import and preprocess"
   ]
  },
  {
   "cell_type": "code",
   "execution_count": 2,
   "metadata": {},
   "outputs": [
    {
     "data": {
      "text/html": [
       "<div>\n",
       "<style scoped>\n",
       "    .dataframe tbody tr th:only-of-type {\n",
       "        vertical-align: middle;\n",
       "    }\n",
       "\n",
       "    .dataframe tbody tr th {\n",
       "        vertical-align: top;\n",
       "    }\n",
       "\n",
       "    .dataframe thead th {\n",
       "        text-align: right;\n",
       "    }\n",
       "</style>\n",
       "<table border=\"1\" class=\"dataframe\">\n",
       "  <thead>\n",
       "    <tr style=\"text-align: right;\">\n",
       "      <th></th>\n",
       "      <th>attorney</th>\n",
       "      <th>attorney_type</th>\n",
       "      <th>offenses</th>\n",
       "      <th>offense_date</th>\n",
       "      <th>statute</th>\n",
       "      <th>offense_type</th>\n",
       "      <th>bail_set_by</th>\n",
       "      <th>bail_amount</th>\n",
       "      <th>bail_paid</th>\n",
       "      <th>bail_date</th>\n",
       "      <th>bail_type</th>\n",
       "      <th>dob</th>\n",
       "      <th>zip</th>\n",
       "      <th>arresting_officer</th>\n",
       "      <th>case_status</th>\n",
       "      <th>arrest_dt</th>\n",
       "      <th>prelim_hearing_dt</th>\n",
       "      <th>prelim_hearing_time</th>\n",
       "      <th>sex</th>\n",
       "      <th>race</th>\n",
       "    </tr>\n",
       "  </thead>\n",
       "  <tbody>\n",
       "    <tr>\n",
       "      <th>0</th>\n",
       "      <td>Defender Association of Philadelphia</td>\n",
       "      <td>Public</td>\n",
       "      <td>['DUI: Gen Imp/Inc of Driving Safely - 1st Off...</td>\n",
       "      <td>12/31/2019</td>\n",
       "      <td>['75 § 3802', '75 § 3323']</td>\n",
       "      <td>['driving after imbibing alcohol or utilizing ...</td>\n",
       "      <td>Bernard, Francis X.</td>\n",
       "      <td>0.0</td>\n",
       "      <td>0.0</td>\n",
       "      <td>01/01/2020</td>\n",
       "      <td>ROR</td>\n",
       "      <td>04/06/1994</td>\n",
       "      <td>19115</td>\n",
       "      <td>Jimenez Gonzalez, Edgardo</td>\n",
       "      <td>Active</td>\n",
       "      <td>01/01/2020</td>\n",
       "      <td>01/01/2020</td>\n",
       "      <td>4:05 am</td>\n",
       "      <td>Male</td>\n",
       "      <td>White</td>\n",
       "    </tr>\n",
       "    <tr>\n",
       "      <th>1</th>\n",
       "      <td>Joseph Kevin Kelly</td>\n",
       "      <td>Private</td>\n",
       "      <td>['DUI: Gen Imp/Inc of Driving Safely - 1st Off']</td>\n",
       "      <td>12/31/2019</td>\n",
       "      <td>['75 § 3802']</td>\n",
       "      <td>['driving after imbibing alcohol or utilizing ...</td>\n",
       "      <td>Bernard, Francis X.</td>\n",
       "      <td>0.0</td>\n",
       "      <td>0.0</td>\n",
       "      <td>01/01/2020</td>\n",
       "      <td>ROR</td>\n",
       "      <td>12/24/1995</td>\n",
       "      <td>19134</td>\n",
       "      <td>Fuentes, Kristina</td>\n",
       "      <td>Active</td>\n",
       "      <td>01/01/2020</td>\n",
       "      <td>01/01/2020</td>\n",
       "      <td>4:07 am</td>\n",
       "      <td>Male</td>\n",
       "      <td>White</td>\n",
       "    </tr>\n",
       "    <tr>\n",
       "      <th>2</th>\n",
       "      <td>Defender Association of Philadelphia</td>\n",
       "      <td>Public</td>\n",
       "      <td>['Retail Theft-Take Mdse']</td>\n",
       "      <td>12/31/2019</td>\n",
       "      <td>['18 § 3929']</td>\n",
       "      <td>['theft and related offenses']</td>\n",
       "      <td>Bernard, Francis X.</td>\n",
       "      <td>0.0</td>\n",
       "      <td>0.0</td>\n",
       "      <td>01/01/2020</td>\n",
       "      <td>ROR</td>\n",
       "      <td>09/30/1962</td>\n",
       "      <td>19131</td>\n",
       "      <td>Castro-Baez, Geovanny</td>\n",
       "      <td>Adjudicated</td>\n",
       "      <td>12/31/2019</td>\n",
       "      <td>01/01/2020</td>\n",
       "      <td>4:10 am</td>\n",
       "      <td>Male</td>\n",
       "      <td>Black</td>\n",
       "    </tr>\n",
       "    <tr>\n",
       "      <th>3</th>\n",
       "      <td>Defender Association of Philadelphia</td>\n",
       "      <td>Public</td>\n",
       "      <td>['Simple Assault', 'Recklessly Endangering Ano...</td>\n",
       "      <td>12/31/2019</td>\n",
       "      <td>['18 § 2701', '18 § 2705']</td>\n",
       "      <td>['assault', 'assault']</td>\n",
       "      <td>Bernard, Francis X.</td>\n",
       "      <td>30000.0</td>\n",
       "      <td>0.0</td>\n",
       "      <td>01/01/2020</td>\n",
       "      <td>Monetary</td>\n",
       "      <td>10/04/1987</td>\n",
       "      <td>19121</td>\n",
       "      <td>Rios, Christina</td>\n",
       "      <td>Active</td>\n",
       "      <td>12/31/2019</td>\n",
       "      <td>01/01/2020</td>\n",
       "      <td>4:15 am</td>\n",
       "      <td>Male</td>\n",
       "      <td>Black</td>\n",
       "    </tr>\n",
       "    <tr>\n",
       "      <th>4</th>\n",
       "      <td>Lee Mandell</td>\n",
       "      <td>Court Appointed</td>\n",
       "      <td>['Robbery-Inflict Threat Imm Bod Inj', 'Conspi...</td>\n",
       "      <td>12/31/2019</td>\n",
       "      <td>['18 § 3701 §§ A1IV', '18 § 903 §§ C', '18 § 3...</td>\n",
       "      <td>['robbery', 'inchoate crimes', 'theft and rela...</td>\n",
       "      <td>Pittman, Joffie C. III</td>\n",
       "      <td>30000.0</td>\n",
       "      <td>0.0</td>\n",
       "      <td>01/09/2020</td>\n",
       "      <td>Unsecured</td>\n",
       "      <td>04/23/2001</td>\n",
       "      <td>19135-3509</td>\n",
       "      <td>Affiant</td>\n",
       "      <td>Closed</td>\n",
       "      <td>01/01/2020</td>\n",
       "      <td>01/01/2020</td>\n",
       "      <td>8:39 am</td>\n",
       "      <td>Male</td>\n",
       "      <td>Black</td>\n",
       "    </tr>\n",
       "  </tbody>\n",
       "</table>\n",
       "</div>"
      ],
      "text/plain": [
       "                                 attorney    attorney_type  \\\n",
       "0   Defender Association of Philadelphia            Public   \n",
       "1                     Joseph Kevin Kelly           Private   \n",
       "2   Defender Association of Philadelphia            Public   \n",
       "3   Defender Association of Philadelphia            Public   \n",
       "4                            Lee Mandell   Court Appointed   \n",
       "\n",
       "                                            offenses offense_date  \\\n",
       "0  ['DUI: Gen Imp/Inc of Driving Safely - 1st Off...   12/31/2019   \n",
       "1   ['DUI: Gen Imp/Inc of Driving Safely - 1st Off']   12/31/2019   \n",
       "2                         ['Retail Theft-Take Mdse']   12/31/2019   \n",
       "3  ['Simple Assault', 'Recklessly Endangering Ano...   12/31/2019   \n",
       "4  ['Robbery-Inflict Threat Imm Bod Inj', 'Conspi...   12/31/2019   \n",
       "\n",
       "                                             statute  \\\n",
       "0                         ['75 § 3802', '75 § 3323']   \n",
       "1                                      ['75 § 3802']   \n",
       "2                                      ['18 § 3929']   \n",
       "3                         ['18 § 2701', '18 § 2705']   \n",
       "4  ['18 § 3701 §§ A1IV', '18 § 903 §§ C', '18 § 3...   \n",
       "\n",
       "                                        offense_type             bail_set_by  \\\n",
       "0  ['driving after imbibing alcohol or utilizing ...     Bernard, Francis X.   \n",
       "1  ['driving after imbibing alcohol or utilizing ...     Bernard, Francis X.   \n",
       "2                     ['theft and related offenses']     Bernard, Francis X.   \n",
       "3                             ['assault', 'assault']     Bernard, Francis X.   \n",
       "4  ['robbery', 'inchoate crimes', 'theft and rela...  Pittman, Joffie C. III   \n",
       "\n",
       "   bail_amount  bail_paid   bail_date  bail_type         dob         zip  \\\n",
       "0          0.0        0.0  01/01/2020        ROR  04/06/1994       19115   \n",
       "1          0.0        0.0  01/01/2020        ROR  12/24/1995       19134   \n",
       "2          0.0        0.0  01/01/2020        ROR  09/30/1962       19131   \n",
       "3      30000.0        0.0  01/01/2020   Monetary  10/04/1987       19121   \n",
       "4      30000.0        0.0  01/09/2020  Unsecured  04/23/2001  19135-3509   \n",
       "\n",
       "            arresting_officer  case_status   arrest_dt prelim_hearing_dt  \\\n",
       "0   Jimenez Gonzalez, Edgardo       Active  01/01/2020        01/01/2020   \n",
       "1           Fuentes, Kristina       Active  01/01/2020        01/01/2020   \n",
       "2       Castro-Baez, Geovanny  Adjudicated  12/31/2019        01/01/2020   \n",
       "3             Rios, Christina       Active  12/31/2019        01/01/2020   \n",
       "4                     Affiant       Closed  01/01/2020        01/01/2020   \n",
       "\n",
       "  prelim_hearing_time   sex   race  \n",
       "0             4:05 am  Male  White  \n",
       "1             4:07 am  Male  White  \n",
       "2             4:10 am  Male  Black  \n",
       "3             4:15 am  Male  Black  \n",
       "4             8:39 am  Male  Black  "
      ]
     },
     "execution_count": 2,
     "metadata": {},
     "output_type": "execute_result"
    }
   ],
   "source": [
    "# Import and join docket and court summary csv files\n",
    "docketdf = pd.read_csv(\"docket-parsed.csv\", index_col=0)\n",
    "courtdf = pd.read_csv(\"court-parsed.csv\", index_col=0)\n",
    "df = docketdf.merge(courtdf, on='docket_no', how='left')\n",
    "df.reset_index(inplace=True)\n",
    "df.drop(columns=['docket_no'], inplace=True)\n",
    "df.head()"
   ]
  },
  {
   "cell_type": "code",
   "execution_count": 3,
   "metadata": {},
   "outputs": [],
   "source": [
    "# Note: will need to change _dt to _date for column headings in new data\n",
    "\n",
    "# convert string to datetime\n",
    "#df[\"offense_date\"] = pd.to_datetime(df[\"offense_date\"])\n",
    "df[\"arrest_dt\"] = pd.to_datetime(df[\"arrest_dt\"])\n",
    "df[\"dob\"] = pd.to_datetime(df[\"dob\"])\n",
    "df[\"bail_date\"] = pd.to_datetime(df[\"bail_date\"])\n",
    "df[\"prelim_hearing_dt\"] = pd.to_datetime(df[\"prelim_hearing_dt\"])\n",
    "df[\"prelim_hearing_time\"] = pd.to_datetime(df[\"prelim_hearing_time\"])\n",
    "\n",
    "# age column\n",
    "#df['age'] = df['dob'].apply(lambda x: 2020-x.year)\n",
    "df['age'] = df['arrest_dt'] - df['dob']\n",
    "df['age'] = df['age'].apply(lambda x: np.floor(x.days/365.2425))\n",
    "\n",
    "# public defender column: 1 if public defender, 0 if private defender\n",
    "df[\"public_defender\"] = df[\"attorney\"].apply(lambda x: 1 if x =='Defender Association of  Philadelphia' else 0)\n",
    "\n",
    "# convert type of \"offenses\" and \"parsed_offenses\" from string representation of list to list\n",
    "df[\"offenses\"] = df[\"offenses\"].apply(lambda x: ast.literal_eval(x))\n",
    "#df[\"parsed_offenses\"] = df[\"parsed_offenses\"].apply(lambda x: ast.literal_eval(x))\n",
    "\n",
    "# zipcode: remove everything after hyphen\n",
    "df[\"zipcode_clean\"] = df[\"zip\"].apply(lambda x: re.sub('-.*$','',x) if type(x) == str else x)\n",
    "\n",
    "# Create column indicating whether zipcode is in philadelphia or not\n",
    "philly_zipcode = list(range(19102, 19155))\n",
    "philly_zipcode = [str(item) for item in philly_zipcode]\n",
    "df['philly_zipcode'] = df['zipcode_clean'].apply(lambda x: 1 if x in philly_zipcode else 0)"
   ]
  },
  {
   "cell_type": "code",
   "execution_count": 4,
   "metadata": {},
   "outputs": [],
   "source": [
    "# remove arrests that occurred between 5/31 - 6/3\n",
    "df = df[(df['arrest_dt'] < np.datetime64('2020-05-31')) | (df['arrest_dt'] > np.datetime64('2020-06-03'))]"
   ]
  },
  {
   "cell_type": "code",
   "execution_count": 5,
   "metadata": {},
   "outputs": [
    {
     "data": {
      "text/html": [
       "<div>\n",
       "<style scoped>\n",
       "    .dataframe tbody tr th:only-of-type {\n",
       "        vertical-align: middle;\n",
       "    }\n",
       "\n",
       "    .dataframe tbody tr th {\n",
       "        vertical-align: top;\n",
       "    }\n",
       "\n",
       "    .dataframe thead th {\n",
       "        text-align: right;\n",
       "    }\n",
       "</style>\n",
       "<table border=\"1\" class=\"dataframe\">\n",
       "  <thead>\n",
       "    <tr style=\"text-align: right;\">\n",
       "      <th></th>\n",
       "      <th>attorney</th>\n",
       "      <th>attorney_type</th>\n",
       "      <th>offenses</th>\n",
       "      <th>offense_date</th>\n",
       "      <th>statute</th>\n",
       "      <th>offense_type</th>\n",
       "      <th>bail_set_by</th>\n",
       "      <th>bail_amount</th>\n",
       "      <th>bail_paid</th>\n",
       "      <th>bail_date</th>\n",
       "      <th>...</th>\n",
       "      <th>case_status</th>\n",
       "      <th>arrest_dt</th>\n",
       "      <th>prelim_hearing_dt</th>\n",
       "      <th>prelim_hearing_time</th>\n",
       "      <th>sex</th>\n",
       "      <th>race</th>\n",
       "      <th>age</th>\n",
       "      <th>public_defender</th>\n",
       "      <th>zipcode_clean</th>\n",
       "      <th>philly_zipcode</th>\n",
       "    </tr>\n",
       "  </thead>\n",
       "  <tbody>\n",
       "    <tr>\n",
       "      <th>0</th>\n",
       "      <td>Defender Association of Philadelphia</td>\n",
       "      <td>Public</td>\n",
       "      <td>[DUI: Gen Imp/Inc of Driving Safely - 1st Off,...</td>\n",
       "      <td>12/31/2019</td>\n",
       "      <td>['75 § 3802', '75 § 3323']</td>\n",
       "      <td>['driving after imbibing alcohol or utilizing ...</td>\n",
       "      <td>Bernard, Francis X.</td>\n",
       "      <td>0.0</td>\n",
       "      <td>0.0</td>\n",
       "      <td>2020-01-01</td>\n",
       "      <td>...</td>\n",
       "      <td>Active</td>\n",
       "      <td>2020-01-01</td>\n",
       "      <td>2020-01-01</td>\n",
       "      <td>2020-12-04 04:05:00</td>\n",
       "      <td>Male</td>\n",
       "      <td>White</td>\n",
       "      <td>25.0</td>\n",
       "      <td>0</td>\n",
       "      <td>19115</td>\n",
       "      <td>1</td>\n",
       "    </tr>\n",
       "    <tr>\n",
       "      <th>1</th>\n",
       "      <td>Joseph Kevin Kelly</td>\n",
       "      <td>Private</td>\n",
       "      <td>[DUI: Gen Imp/Inc of Driving Safely - 1st Off]</td>\n",
       "      <td>12/31/2019</td>\n",
       "      <td>['75 § 3802']</td>\n",
       "      <td>['driving after imbibing alcohol or utilizing ...</td>\n",
       "      <td>Bernard, Francis X.</td>\n",
       "      <td>0.0</td>\n",
       "      <td>0.0</td>\n",
       "      <td>2020-01-01</td>\n",
       "      <td>...</td>\n",
       "      <td>Active</td>\n",
       "      <td>2020-01-01</td>\n",
       "      <td>2020-01-01</td>\n",
       "      <td>2020-12-04 04:07:00</td>\n",
       "      <td>Male</td>\n",
       "      <td>White</td>\n",
       "      <td>24.0</td>\n",
       "      <td>0</td>\n",
       "      <td>19134</td>\n",
       "      <td>1</td>\n",
       "    </tr>\n",
       "    <tr>\n",
       "      <th>2</th>\n",
       "      <td>Defender Association of Philadelphia</td>\n",
       "      <td>Public</td>\n",
       "      <td>[Retail Theft-Take Mdse]</td>\n",
       "      <td>12/31/2019</td>\n",
       "      <td>['18 § 3929']</td>\n",
       "      <td>['theft and related offenses']</td>\n",
       "      <td>Bernard, Francis X.</td>\n",
       "      <td>0.0</td>\n",
       "      <td>0.0</td>\n",
       "      <td>2020-01-01</td>\n",
       "      <td>...</td>\n",
       "      <td>Adjudicated</td>\n",
       "      <td>2019-12-31</td>\n",
       "      <td>2020-01-01</td>\n",
       "      <td>2020-12-04 04:10:00</td>\n",
       "      <td>Male</td>\n",
       "      <td>Black</td>\n",
       "      <td>57.0</td>\n",
       "      <td>0</td>\n",
       "      <td>19131</td>\n",
       "      <td>1</td>\n",
       "    </tr>\n",
       "    <tr>\n",
       "      <th>3</th>\n",
       "      <td>Defender Association of Philadelphia</td>\n",
       "      <td>Public</td>\n",
       "      <td>[Simple Assault, Recklessly Endangering Anothe...</td>\n",
       "      <td>12/31/2019</td>\n",
       "      <td>['18 § 2701', '18 § 2705']</td>\n",
       "      <td>['assault', 'assault']</td>\n",
       "      <td>Bernard, Francis X.</td>\n",
       "      <td>30000.0</td>\n",
       "      <td>0.0</td>\n",
       "      <td>2020-01-01</td>\n",
       "      <td>...</td>\n",
       "      <td>Active</td>\n",
       "      <td>2019-12-31</td>\n",
       "      <td>2020-01-01</td>\n",
       "      <td>2020-12-04 04:15:00</td>\n",
       "      <td>Male</td>\n",
       "      <td>Black</td>\n",
       "      <td>32.0</td>\n",
       "      <td>0</td>\n",
       "      <td>19121</td>\n",
       "      <td>1</td>\n",
       "    </tr>\n",
       "    <tr>\n",
       "      <th>4</th>\n",
       "      <td>Lee Mandell</td>\n",
       "      <td>Court Appointed</td>\n",
       "      <td>[Robbery-Inflict Threat Imm Bod Inj, Conspirac...</td>\n",
       "      <td>12/31/2019</td>\n",
       "      <td>['18 § 3701 §§ A1IV', '18 § 903 §§ C', '18 § 3...</td>\n",
       "      <td>['robbery', 'inchoate crimes', 'theft and rela...</td>\n",
       "      <td>Pittman, Joffie C. III</td>\n",
       "      <td>30000.0</td>\n",
       "      <td>0.0</td>\n",
       "      <td>2020-01-09</td>\n",
       "      <td>...</td>\n",
       "      <td>Closed</td>\n",
       "      <td>2020-01-01</td>\n",
       "      <td>2020-01-01</td>\n",
       "      <td>2020-12-04 08:39:00</td>\n",
       "      <td>Male</td>\n",
       "      <td>Black</td>\n",
       "      <td>18.0</td>\n",
       "      <td>0</td>\n",
       "      <td>19135</td>\n",
       "      <td>1</td>\n",
       "    </tr>\n",
       "  </tbody>\n",
       "</table>\n",
       "<p>5 rows × 24 columns</p>\n",
       "</div>"
      ],
      "text/plain": [
       "                                 attorney    attorney_type  \\\n",
       "0   Defender Association of Philadelphia            Public   \n",
       "1                     Joseph Kevin Kelly           Private   \n",
       "2   Defender Association of Philadelphia            Public   \n",
       "3   Defender Association of Philadelphia            Public   \n",
       "4                            Lee Mandell   Court Appointed   \n",
       "\n",
       "                                            offenses offense_date  \\\n",
       "0  [DUI: Gen Imp/Inc of Driving Safely - 1st Off,...   12/31/2019   \n",
       "1     [DUI: Gen Imp/Inc of Driving Safely - 1st Off]   12/31/2019   \n",
       "2                           [Retail Theft-Take Mdse]   12/31/2019   \n",
       "3  [Simple Assault, Recklessly Endangering Anothe...   12/31/2019   \n",
       "4  [Robbery-Inflict Threat Imm Bod Inj, Conspirac...   12/31/2019   \n",
       "\n",
       "                                             statute  \\\n",
       "0                         ['75 § 3802', '75 § 3323']   \n",
       "1                                      ['75 § 3802']   \n",
       "2                                      ['18 § 3929']   \n",
       "3                         ['18 § 2701', '18 § 2705']   \n",
       "4  ['18 § 3701 §§ A1IV', '18 § 903 §§ C', '18 § 3...   \n",
       "\n",
       "                                        offense_type             bail_set_by  \\\n",
       "0  ['driving after imbibing alcohol or utilizing ...     Bernard, Francis X.   \n",
       "1  ['driving after imbibing alcohol or utilizing ...     Bernard, Francis X.   \n",
       "2                     ['theft and related offenses']     Bernard, Francis X.   \n",
       "3                             ['assault', 'assault']     Bernard, Francis X.   \n",
       "4  ['robbery', 'inchoate crimes', 'theft and rela...  Pittman, Joffie C. III   \n",
       "\n",
       "   bail_amount  bail_paid  bail_date  ...  case_status  arrest_dt  \\\n",
       "0          0.0        0.0 2020-01-01  ...       Active 2020-01-01   \n",
       "1          0.0        0.0 2020-01-01  ...       Active 2020-01-01   \n",
       "2          0.0        0.0 2020-01-01  ...  Adjudicated 2019-12-31   \n",
       "3      30000.0        0.0 2020-01-01  ...       Active 2019-12-31   \n",
       "4      30000.0        0.0 2020-01-09  ...       Closed 2020-01-01   \n",
       "\n",
       "  prelim_hearing_dt prelim_hearing_time   sex   race   age public_defender  \\\n",
       "0        2020-01-01 2020-12-04 04:05:00  Male  White  25.0               0   \n",
       "1        2020-01-01 2020-12-04 04:07:00  Male  White  24.0               0   \n",
       "2        2020-01-01 2020-12-04 04:10:00  Male  Black  57.0               0   \n",
       "3        2020-01-01 2020-12-04 04:15:00  Male  Black  32.0               0   \n",
       "4        2020-01-01 2020-12-04 08:39:00  Male  Black  18.0               0   \n",
       "\n",
       "  zipcode_clean philly_zipcode  \n",
       "0         19115              1  \n",
       "1         19134              1  \n",
       "2         19131              1  \n",
       "3         19121              1  \n",
       "4         19135              1  \n",
       "\n",
       "[5 rows x 24 columns]"
      ]
     },
     "execution_count": 5,
     "metadata": {},
     "output_type": "execute_result"
    }
   ],
   "source": [
    "df.head()"
   ]
  },
  {
   "cell_type": "markdown",
   "metadata": {},
   "source": [
    "## 1. Aggregate bail information for the year 2020"
   ]
  },
  {
   "cell_type": "code",
   "execution_count": 6,
   "metadata": {},
   "outputs": [
    {
     "name": "stdout",
     "output_type": "stream",
     "text": [
      "Total number of cases analyzed (excluding 5/31 - 6/3): 20,426\n",
      "Monetary       8744\n",
      "ROR            5627\n",
      "Unsecured      5599\n",
      "Nonmonetary     122\n",
      "Nominal           4\n",
      "Name: bail_type, dtype: int64\n",
      "-> Monetary bail set in 42.8% of cases\n",
      "\n",
      "Total bail set: $1,121,468,796.0\n",
      "Total bail paid: $19,638,385.0\n"
     ]
    },
    {
     "data": {
      "image/png": "[encoded data removed]",
      "text/plain": [
       "<Figure size 432x288 with 1 Axes>"
      ]
     },
     "metadata": {},
     "output_type": "display_data"
    }
   ],
   "source": [
    "# Total cases, distribution of bail set\n",
    "totalCases = len(df.index)\n",
    "print(\"Total number of cases analyzed (excluding 5/31 - 6/3): {0:,}\".format(totalCases))\n",
    "\n",
    "# Bail type distribution\n",
    "df_bail = df['bail_type'].value_counts()\n",
    "print(df_bail)\n",
    "bailTypes = df_bail.keys().tolist()\n",
    "bailTypeCounts = df_bail.values\n",
    "\n",
    "plt.pie(bailTypeCounts, labels=bailTypes, autopct='%1.0f%%')\n",
    "\n",
    "# Total amount of bail set\n",
    "df_monetary = df[df['bail_type'] == \"Monetary\"]\n",
    "totalBailSet = df['bail_amount'].sum()\n",
    "totalBailPaid = df['bail_paid'].sum()\n",
    "print(\"-> Monetary bail set in {0:.1f}% of cases\".format(100*df_bail[\"Monetary\"]/totalCases))\n",
    "print(\"\\nTotal bail set: ${0:,}\".format(totalBailSet))\n",
    "print(\"Total bail paid: ${0:,}\".format(totalBailPaid))"
   ]
  },
  {
   "cell_type": "markdown",
   "metadata": {},
   "source": [
    "## 2. Visualizations on magistrate information"
   ]
  },
  {
   "cell_type": "markdown",
   "metadata": {},
   "source": [
    "### 2.1 Select magistrates to include in the analysis  \n",
    "* Out of 88 magistrates in data, select magistrates to analyze"
   ]
  },
  {
   "cell_type": "code",
   "execution_count": 7,
   "metadata": {},
   "outputs": [
    {
     "name": "stdout",
     "output_type": "stream",
     "text": [
      "Total number of magistrates:  612\n"
     ]
    }
   ],
   "source": [
    "print('Total number of magistrates: ', len(df['bail_set_by'].value_counts()))"
   ]
  },
  {
   "cell_type": "markdown",
   "metadata": {},
   "source": [
    "<b> Total number of cases handled by each magistrate </b>"
   ]
  },
  {
   "cell_type": "code",
   "execution_count": 8,
   "metadata": {
    "scrolled": true
   },
   "outputs": [
    {
     "data": {
      "image/png": "[encoded data removed]",
      "text/plain": [
       "<Figure size 432x288 with 1 Axes>"
      ]
     },
     "metadata": {
      "needs_background": "light"
     },
     "output_type": "display_data"
    }
   ],
   "source": [
    "n_magistrates = 11\n",
    "plt.barh(df['bail_set_by'].value_counts()[:n_magistrates].keys()[::-1], df['bail_set_by'].value_counts()[:n_magistrates].values[::-1])\n",
    "plt.xlabel('number of cases')\n",
    "plt.ylabel('magistrate')\n",
    "plt.title('Total number of cases by magistrate in 2020')\n",
    "plt.show()"
   ]
  },
  {
   "cell_type": "code",
   "execution_count": 9,
   "metadata": {},
   "outputs": [
    {
     "data": {
      "text/html": [
       "<div>\n",
       "<style scoped>\n",
       "    .dataframe tbody tr th:only-of-type {\n",
       "        vertical-align: middle;\n",
       "    }\n",
       "\n",
       "    .dataframe tbody tr th {\n",
       "        vertical-align: top;\n",
       "    }\n",
       "\n",
       "    .dataframe thead th {\n",
       "        text-align: right;\n",
       "    }\n",
       "</style>\n",
       "<table border=\"1\" class=\"dataframe\">\n",
       "  <thead>\n",
       "    <tr style=\"text-align: right;\">\n",
       "      <th>bail_type</th>\n",
       "      <th>Monetary</th>\n",
       "      <th>Nominal</th>\n",
       "      <th>Nonmonetary</th>\n",
       "      <th>ROR</th>\n",
       "      <th>Unsecured</th>\n",
       "      <th>Total</th>\n",
       "    </tr>\n",
       "    <tr>\n",
       "      <th>bail_set_by</th>\n",
       "      <th></th>\n",
       "      <th></th>\n",
       "      <th></th>\n",
       "      <th></th>\n",
       "      <th></th>\n",
       "      <th></th>\n",
       "    </tr>\n",
       "  </thead>\n",
       "  <tbody>\n",
       "    <tr>\n",
       "      <th>O'Brien, James</th>\n",
       "      <td>1523</td>\n",
       "      <td>0</td>\n",
       "      <td>37</td>\n",
       "      <td>807</td>\n",
       "      <td>1151</td>\n",
       "      <td>3518</td>\n",
       "    </tr>\n",
       "    <tr>\n",
       "      <th>Bernard, Francis X.</th>\n",
       "      <td>1501</td>\n",
       "      <td>0</td>\n",
       "      <td>37</td>\n",
       "      <td>849</td>\n",
       "      <td>1112</td>\n",
       "      <td>3499</td>\n",
       "    </tr>\n",
       "    <tr>\n",
       "      <th>Stack, Patrick</th>\n",
       "      <td>1191</td>\n",
       "      <td>0</td>\n",
       "      <td>2</td>\n",
       "      <td>1313</td>\n",
       "      <td>483</td>\n",
       "      <td>2989</td>\n",
       "    </tr>\n",
       "    <tr>\n",
       "      <th>Emergency Arraignment Court Magistrate</th>\n",
       "      <td>481</td>\n",
       "      <td>0</td>\n",
       "      <td>40</td>\n",
       "      <td>620</td>\n",
       "      <td>324</td>\n",
       "      <td>1465</td>\n",
       "    </tr>\n",
       "    <tr>\n",
       "      <th>Rigmaiden-DeLeon, Marilyn</th>\n",
       "      <td>584</td>\n",
       "      <td>0</td>\n",
       "      <td>0</td>\n",
       "      <td>382</td>\n",
       "      <td>319</td>\n",
       "      <td>1285</td>\n",
       "    </tr>\n",
       "    <tr>\n",
       "      <th>E-Filing Judge</th>\n",
       "      <td>375</td>\n",
       "      <td>0</td>\n",
       "      <td>1</td>\n",
       "      <td>308</td>\n",
       "      <td>486</td>\n",
       "      <td>1170</td>\n",
       "    </tr>\n",
       "    <tr>\n",
       "      <th>Williams, Naomi</th>\n",
       "      <td>349</td>\n",
       "      <td>0</td>\n",
       "      <td>0</td>\n",
       "      <td>277</td>\n",
       "      <td>295</td>\n",
       "      <td>921</td>\n",
       "    </tr>\n",
       "    <tr>\n",
       "      <th>Rainey, Debra</th>\n",
       "      <td>330</td>\n",
       "      <td>0</td>\n",
       "      <td>0</td>\n",
       "      <td>202</td>\n",
       "      <td>191</td>\n",
       "      <td>723</td>\n",
       "    </tr>\n",
       "    <tr>\n",
       "      <th>Connor, Lauren</th>\n",
       "      <td>294</td>\n",
       "      <td>0</td>\n",
       "      <td>0</td>\n",
       "      <td>159</td>\n",
       "      <td>223</td>\n",
       "      <td>676</td>\n",
       "    </tr>\n",
       "    <tr>\n",
       "      <th>Devlin, Kevin R.</th>\n",
       "      <td>262</td>\n",
       "      <td>0</td>\n",
       "      <td>4</td>\n",
       "      <td>303</td>\n",
       "      <td>107</td>\n",
       "      <td>676</td>\n",
       "    </tr>\n",
       "    <tr>\n",
       "      <th>Rodriguez, Teresa</th>\n",
       "      <td>62</td>\n",
       "      <td>0</td>\n",
       "      <td>0</td>\n",
       "      <td>89</td>\n",
       "      <td>48</td>\n",
       "      <td>199</td>\n",
       "    </tr>\n",
       "  </tbody>\n",
       "</table>\n",
       "</div>"
      ],
      "text/plain": [
       "bail_type                               Monetary  Nominal  Nonmonetary   ROR  \\\n",
       "bail_set_by                                                                    \n",
       "O'Brien, James                              1523        0           37   807   \n",
       "Bernard, Francis X.                         1501        0           37   849   \n",
       "Stack, Patrick                              1191        0            2  1313   \n",
       "Emergency Arraignment Court Magistrate       481        0           40   620   \n",
       "Rigmaiden-DeLeon, Marilyn                    584        0            0   382   \n",
       "E-Filing Judge                               375        0            1   308   \n",
       "Williams, Naomi                              349        0            0   277   \n",
       "Rainey, Debra                                330        0            0   202   \n",
       "Connor, Lauren                               294        0            0   159   \n",
       "Devlin, Kevin R.                             262        0            4   303   \n",
       "Rodriguez, Teresa                             62        0            0    89   \n",
       "\n",
       "bail_type                               Unsecured  Total  \n",
       "bail_set_by                                               \n",
       "O'Brien, James                               1151   3518  \n",
       "Bernard, Francis X.                          1112   3499  \n",
       "Stack, Patrick                                483   2989  \n",
       "Emergency Arraignment Court Magistrate        324   1465  \n",
       "Rigmaiden-DeLeon, Marilyn                     319   1285  \n",
       "E-Filing Judge                                486   1170  \n",
       "Williams, Naomi                               295    921  \n",
       "Rainey, Debra                                 191    723  \n",
       "Connor, Lauren                                223    676  \n",
       "Devlin, Kevin R.                              107    676  \n",
       "Rodriguez, Teresa                              48    199  "
      ]
     },
     "execution_count": 9,
     "metadata": {},
     "output_type": "execute_result"
    }
   ],
   "source": [
    "df_magistrate = pd.crosstab(index = df['bail_set_by'], columns =df['bail_type'])\n",
    "# note: total here excludes any entries with 'bail_type' == NaN\n",
    "df_magistrate['Total'] = df_magistrate.sum(axis = 1)\n",
    "df_magistrate.sort_values(by = ['Total'], ascending = False, inplace = True)\n",
    "df_magistrate.head(11)"
   ]
  },
  {
   "cell_type": "code",
   "execution_count": 10,
   "metadata": {
    "scrolled": true
   },
   "outputs": [
    {
     "ename": "IndexError",
     "evalue": "index 3 is out of bounds for axis 0 with size 3",
     "output_type": "error",
     "traceback": [
      "\u001b[0;31m---------------------------------------------------------------------------\u001b[0m",
      "\u001b[0;31mIndexError\u001b[0m                                Traceback (most recent call last)",
      "\u001b[0;32m<ipython-input-10-e881505e16ff>\u001b[0m in \u001b[0;36m<module>\u001b[0;34m\u001b[0m\n\u001b[1;32m     19\u001b[0m     \u001b[0mrow\u001b[0m \u001b[0;34m=\u001b[0m \u001b[0midx\u001b[0m \u001b[0;34m//\u001b[0m \u001b[0;36m6\u001b[0m\u001b[0;34m\u001b[0m\u001b[0;34m\u001b[0m\u001b[0m\n\u001b[1;32m     20\u001b[0m     \u001b[0mcol\u001b[0m \u001b[0;34m=\u001b[0m \u001b[0midx\u001b[0m \u001b[0;34m%\u001b[0m \u001b[0;36m6\u001b[0m\u001b[0;34m\u001b[0m\u001b[0;34m\u001b[0m\u001b[0m\n\u001b[0;32m---> 21\u001b[0;31m     \u001b[0max\u001b[0m\u001b[0;34m[\u001b[0m\u001b[0mrow\u001b[0m\u001b[0;34m]\u001b[0m\u001b[0;34m[\u001b[0m\u001b[0mcol\u001b[0m\u001b[0;34m]\u001b[0m\u001b[0;34m.\u001b[0m\u001b[0mhist\u001b[0m\u001b[0;34m(\u001b[0m\u001b[0mdf\u001b[0m\u001b[0;34m[\u001b[0m\u001b[0mdf\u001b[0m\u001b[0;34m[\u001b[0m\u001b[0;34m'bail_set_by'\u001b[0m\u001b[0;34m]\u001b[0m \u001b[0;34m==\u001b[0m \u001b[0mname\u001b[0m\u001b[0;34m]\u001b[0m\u001b[0;34m.\u001b[0m\u001b[0mprelim_hearing_dt\u001b[0m\u001b[0;34m,\u001b[0m \u001b[0mbins\u001b[0m \u001b[0;34m=\u001b[0m \u001b[0;36m12\u001b[0m\u001b[0;34m,\u001b[0m \u001b[0mrange\u001b[0m \u001b[0;34m=\u001b[0m \u001b[0;34m(\u001b[0m\u001b[0mdatetime\u001b[0m\u001b[0;34m.\u001b[0m\u001b[0mdate\u001b[0m\u001b[0;34m(\u001b[0m\u001b[0;36m2020\u001b[0m\u001b[0;34m,\u001b[0m\u001b[0;36m1\u001b[0m\u001b[0;34m,\u001b[0m\u001b[0;36m1\u001b[0m\u001b[0;34m)\u001b[0m\u001b[0;34m,\u001b[0m \u001b[0mdatetime\u001b[0m\u001b[0;34m.\u001b[0m\u001b[0mdate\u001b[0m\u001b[0;34m(\u001b[0m\u001b[0;36m2020\u001b[0m\u001b[0;34m,\u001b[0m \u001b[0;36m12\u001b[0m \u001b[0;34m,\u001b[0m\u001b[0;36m31\u001b[0m\u001b[0;34m)\u001b[0m\u001b[0;34m)\u001b[0m\u001b[0;34m)\u001b[0m\u001b[0;34m\u001b[0m\u001b[0;34m\u001b[0m\u001b[0m\n\u001b[0m\u001b[1;32m     22\u001b[0m     \u001b[0max\u001b[0m\u001b[0;34m[\u001b[0m\u001b[0mrow\u001b[0m\u001b[0;34m]\u001b[0m\u001b[0;34m[\u001b[0m\u001b[0mcol\u001b[0m\u001b[0;34m]\u001b[0m\u001b[0;34m.\u001b[0m\u001b[0mset_title\u001b[0m\u001b[0;34m(\u001b[0m\u001b[0mname\u001b[0m\u001b[0;34m)\u001b[0m\u001b[0;34m\u001b[0m\u001b[0;34m\u001b[0m\u001b[0m\n\u001b[1;32m     23\u001b[0m \u001b[0;34m\u001b[0m\u001b[0m\n",
      "\u001b[0;31mIndexError\u001b[0m: index 3 is out of bounds for axis 0 with size 3"
     ]
    },
    {
     "data": {
      "image/png": "[encoded data removed]",
      "text/plain": [
       "<Figure size 1440x720 with 18 Axes>"
      ]
     },
     "metadata": {
      "needs_background": "light"
     },
     "output_type": "display_data"
    }
   ],
   "source": [
    "# prelim hearing date of each magistrate that were involved in more than 10 cases\n",
    "magistrates = df_magistrate[df_magistrate['Total'] > 10].index\n",
    "\n",
    "# get date ranges\n",
    "start_date = datetime.date(2020, 1, 1)\n",
    "end_date = datetime.date(2020, 12, 31)\n",
    "delta = relativedelta(months = 1)\n",
    "date_range = []\n",
    "\n",
    "while start_date <= end_date:\n",
    "    date_range.append(start_date)\n",
    "    start_date += delta\n",
    "\n",
    "# plot\n",
    "fig, ax = plt.subplots(nrows = 3, ncols = 6, figsize = (20, 10))\n",
    "plt.rcParams['font.size'] = 10\n",
    "fig.suptitle('prelim hearing date for magistrate')\n",
    "for idx, name in enumerate(magistrates):\n",
    "    row = idx // 6\n",
    "    col = idx % 6\n",
    "    ax[row][col].hist(df[df['bail_set_by'] == name].prelim_hearing_dt, bins = 12, range = (datetime.date(2020,1,1), datetime.date(2020, 12 ,31)))\n",
    "    ax[row][col].set_title(name)\n",
    "\n",
    "for sub in ax.flat:\n",
    "    sub.set_xticks(date_range)\n",
    "    sub.set_xticklabels([item.month for item in date_range])\n",
    "    sub.set_xlabel('month')\n",
    "    sub.set_ylabel('count')\n",
    "plt.tight_layout()\n",
    "plt.show()"
   ]
  },
  {
   "cell_type": "markdown",
   "metadata": {},
   "source": [
    "* Note: we only have data upto July 31.  \n",
    "* 'Emergency Arraignment Court Magistrate' and 'E-Filing Judge' are probably the same entity -> 'E-filing Judge'\n",
    "* Devlin stopped after February, but we'll include him in the list of magistrates since he was involved in many cases\n",
    "* A few people started in July (Williams, Ebert, Bass, Rodriguez, Caudo). They may be new magistrates, so keep them in the list"
   ]
  },
  {
   "cell_type": "code",
   "execution_count": null,
   "metadata": {
    "scrolled": true
   },
   "outputs": [],
   "source": [
    "# Correct 'Emergency Arraignment Court Magistrate' to 'E-Filing Judge'\n",
    "df['bail_set_by'] = df['bail_set_by'].apply(lambda x: 'E-Filing Judge' if x == 'Emergency Arraignment Court Magistrate' else x)"
   ]
  },
  {
   "cell_type": "code",
   "execution_count": null,
   "metadata": {
    "scrolled": true
   },
   "outputs": [],
   "source": [
    "# selected magistrates \n",
    "magistrates = ['Bernard, Francis X.', \"O'Brien, James\", 'Stack, Patrick', 'E-Filing Judge', 'Devlin, Kevin R.', 'Williams, Naomi','Ebert, Stefanie','Bass, Sheldon', 'Rodriguez, Teresa', 'Caudo, Michael A.']\n",
    "print(\"Selected magistrates: \")\n",
    "for name in magistrates:\n",
    "    print(name)"
   ]
  },
  {
   "cell_type": "code",
   "execution_count": null,
   "metadata": {},
   "outputs": [],
   "source": [
    "core_magistrates = ['Bernard, Francis X.', \"O'Brien, James\", 'Stack, Patrick', 'E-Filing Judge']"
   ]
  },
  {
   "cell_type": "markdown",
   "metadata": {},
   "source": [
    "### 2.2 Are bail type and magistrate correlated?"
   ]
  },
  {
   "cell_type": "code",
   "execution_count": null,
   "metadata": {},
   "outputs": [],
   "source": [
    "monetary = df_magistrate['Monetary'][magistrates].values[::-1]\n",
    "ROR = df_magistrate['ROR'][magistrates].values[::-1]\n",
    "Unsecured = df_magistrate['Unsecured'][magistrates].values[::-1]\n",
    "Nonmonetary = df_magistrate['Nonmonetary'][magistrates].values[::-1]\n",
    "Nominal = df_magistrate['Nominal'][magistrates].values[::-1]\n",
    "ind = range(len(magistrates))\n",
    "\n",
    "plt.barh(ind, monetary)\n",
    "plt.barh(ind, ROR, left = monetary)\n",
    "plt.barh(ind, Unsecured, left = monetary + ROR)\n",
    "plt.barh(ind, Nonmonetary, left = monetary + ROR + Unsecured)\n",
    "plt.barh(ind, Nominal, left = monetary + ROR + Unsecured + Nonmonetary)\n",
    "plt.legend(labels = ['Monetary', 'ROR', 'Unsecured', 'Nonmonetary', 'Nominal'])\n",
    "plt.ylabel('magistrate')\n",
    "plt.yticks(ind, magistrates[::-1])\n",
    "plt.ylabel('case count')\n",
    "plt.title('Bail type by magistrate')\n",
    "plt.show()"
   ]
  },
  {
   "cell_type": "code",
   "execution_count": null,
   "metadata": {},
   "outputs": [],
   "source": [
    "# since there are only a few nominal and non-monetary, combine them into 'other'\n",
    "df_magistrate['Other'] = df_magistrate['Nominal'] + df_magistrate['Nonmonetary']\n",
    "\n",
    "bail_types = ['Monetary','ROR', 'Unsecured', 'Other']\n",
    "fig, ax = plt.subplots(nrows = 2, ncols = 5, figsize = (15, 5))\n",
    "plt.rcParams['font.size'] = 10\n",
    "fig.suptitle('% of bail type for magistrate')\n",
    "for idx, name in enumerate(magistrates):\n",
    "    row = idx // 5\n",
    "    col = idx % 5\n",
    "    ax[row][col].pie(df_magistrate.loc[name, bail_types], labels = bail_types, autopct='%1.0f%%')\n",
    "    ax[row][col].set_title(name)\n",
    "\n",
    "# common legend\n",
    "fig.subplots_adjust(top=0.9, left=0.1, right=0.9, bottom=0.12)  # create some space below the plots by increasing the bottom-value\n",
    "ax.flatten()[-2].legend(loc='upper center', bbox_to_anchor=(0.5, 0), ncol=4)\n",
    "\n",
    "plt.show()"
   ]
  },
  {
   "cell_type": "markdown",
   "metadata": {},
   "source": [
    "Q: Are bail type and magistrate related?  "
   ]
  },
  {
   "cell_type": "code",
   "execution_count": null,
   "metadata": {},
   "outputs": [],
   "source": [
    "# remove 'nominal' since we don't have enough cases \n",
    "df_chi = df_magistrate.drop(columns = ['Nominal', 'Nonmonetary', 'Total'])\n",
    "\n",
    "# chi-squared test\n",
    "chi2, p, dof, ex = chi2_contingency(df_chi.loc[magistrates])\n",
    "print('p-value of chi-square test: ', p)"
   ]
  },
  {
   "cell_type": "markdown",
   "metadata": {},
   "source": [
    "* chi-square test tells us that **bail type and magistrate are related.**  "
   ]
  },
  {
   "cell_type": "markdown",
   "metadata": {},
   "source": [
    "Q: Are bail type (monetary vs others) and magistrate related?"
   ]
  },
  {
   "cell_type": "code",
   "execution_count": null,
   "metadata": {},
   "outputs": [],
   "source": [
    "# Keep only \"monetary\"\n",
    "df_chi = df_magistrate[['Monetary', 'Total']]\n",
    "\n",
    "# chi-squared test\n",
    "chi2, p, dof, ex = chi2_contingency(df_chi.loc[magistrates])\n",
    "print('p-value of chi-square test: ', p)\n"
   ]
  },
  {
   "cell_type": "markdown",
   "metadata": {},
   "source": [
    "* chi-square test tells us that **bail type and magistrate are related.**  "
   ]
  },
  {
   "cell_type": "markdown",
   "metadata": {},
   "source": [
    "### 2.3 For monetary bail, does bail amount vary by magistrate? "
   ]
  },
  {
   "cell_type": "code",
   "execution_count": null,
   "metadata": {},
   "outputs": [],
   "source": [
    "df['magistrate'] = df['bail_set_by'].apply(lambda x: 1 if x in magistrates else 0)\n",
    "df_monetary = df[(df['bail_type'] == 'Monetary') & (df['magistrate'] == 1)][['bail_set_by', 'bail_amount']]\n",
    "\n",
    "# order by median amount\n",
    "order = df_monetary.groupby(['bail_set_by']).bail_amount.median().sort_values(ascending = False).keys()\n",
    "\n",
    "# plot\n",
    "plt.rcParams['font.size'] = 10\n",
    "sns.boxplot( y=df_monetary[\"bail_set_by\"], x=df[\"bail_amount\"], \n",
    "           order = order)\n",
    "plt.xlim(0, 300000)\n",
    "plt.xlabel('bail amount')\n",
    "plt.xticks(ticks = range(0, 350000, 50000), labels = ['0','50k','100k','150k','200k','250k','300k'])\n",
    "plt.ylabel('magistrate')\n",
    "plt.title('bail amount by magistrate')\n",
    "plt.show()"
   ]
  },
  {
   "cell_type": "markdown",
   "metadata": {},
   "source": [
    "Histogram for a particular magistrate"
   ]
  },
  {
   "cell_type": "code",
   "execution_count": null,
   "metadata": {},
   "outputs": [],
   "source": [
    "# ignore bail amount == 0\n",
    "df_monetary = df_monetary[df_monetary['bail_amount']!= 0]\n",
    "\n",
    "# apply log transform\n",
    "df_monetary['log_bail_amount'] = df_monetary['bail_amount'].apply(lambda x: np.log(x))\n",
    "\n",
    "fig, ax = plt.subplots(ncols = 2, figsize = (10, 3))\n",
    "ax[0].hist(df_monetary[df_monetary[\"bail_set_by\"] == 'Bernard, Francis X.'].bail_amount, bins =100)\n",
    "ax[1].hist(df_monetary[df_monetary[\"bail_set_by\"] == 'Bernard, Francis X.'].log_bail_amount, bins =100)\n",
    "plt.show()"
   ]
  },
  {
   "cell_type": "markdown",
   "metadata": {},
   "source": [
    "* log transform doesn't help in getting the distribution to look normal.\n",
    "* Instead of doing a t-test, we'll use a non-parametric test: Mann-Whitney U-test"
   ]
  },
  {
   "cell_type": "code",
   "execution_count": null,
   "metadata": {},
   "outputs": [],
   "source": [
    "# create order of magistrates\n",
    "# note: the index was manually decided to make the correlation matrix look nice.\n",
    "\n",
    "magistrate_order = ['Caudo, Michael A.','Bernard, Francis X.','Bass, Sheldon','Williams, Naomi','Ebert, Stefanie','Rodriguez, Teresa', \n",
    "                    'E-Filing Judge' ,'Stack, Patrick',\n",
    "                   \"O'Brien, James\", 'Devlin, Kevin R.']\n",
    "\n",
    "magistrate_index = {}\n",
    "for idx, person in enumerate(magistrate_order):\n",
    "    magistrate_index[person] = idx"
   ]
  },
  {
   "cell_type": "code",
   "execution_count": null,
   "metadata": {},
   "outputs": [],
   "source": [
    "# matrix of differences\n",
    "n_magistrates = len(magistrates)\n",
    "diff_matrix = np.zeros((n_magistrates, n_magistrates))\n",
    "\n",
    "for item in itertools.combinations(order, 2):\n",
    " \n",
    "    # select two magistrates to compare\n",
    "    data1 = df_monetary[df_monetary['bail_set_by'] == item[0]].bail_amount\n",
    "    data2 = df_monetary[df_monetary['bail_set_by'] == item[1]].bail_amount\n",
    "\n",
    "    # Mann-Whitney U test\n",
    "    statistic, pvalue = mannwhitneyu(data1, data2, alternative = 'greater')\n",
    "    \n",
    "    # save p-values\n",
    "    if pvalue < 0.005:\n",
    "        idx0 = magistrate_index[item[0]]\n",
    "        idx1 = magistrate_index[item[1]]\n",
    "        \n",
    "        #diff_matrix[idx0, idx1] = 1\n",
    "        diff_matrix[idx1, idx0] = 1\n",
    "        \n",
    "# plot\n",
    "g = sns.heatmap(diff_matrix, linewidths=.5, annot = True, cbar = False)\n",
    "g.set_xticklabels(magistrate_order, rotation = 90)\n",
    "g.set_yticklabels(magistrate_order, rotation = 0)\n",
    "plt.show()"
   ]
  },
  {
   "cell_type": "markdown",
   "metadata": {},
   "source": [
    "* Interpretation\n",
    "    * If entry at particular row and column is white: Bail set by column-magistrate is likely to be higher than bail set by row-magistrate\n",
    "    * If X: bail set by column magistrate, Y: bail set by row-magistrate, P(X>Y) > 0.5\n",
    "    * ex) first column: Bail set by Caudo is likely to be higher than bail set by E-Filing Judge, Stack, O'Brien, and Devlin\n",
    "* Among the core magistrates (O'Brien, Stack, Bernard, and E-Filing Judge)\n",
    "    * Bail amount set by Bernard is likely to be higher than bail set by E-Filing Judge, Stack, and O'Brien."
   ]
  },
  {
   "cell_type": "code",
   "execution_count": null,
   "metadata": {
    "scrolled": true
   },
   "outputs": [],
   "source": [
    "# image for the core magistrates\n",
    "core_magistrates = ['Bernard, Francis X.', 'E-Filing Judge' ,'Stack, Patrick', \"O'Brien, James\"]\n",
    "df['core_magistrate'] = df['bail_set_by'].apply(lambda x: 1 if x in core_magistrates else 0)\n",
    "df_monetary = df[(df['bail_type'] == 'Monetary') & (df['magistrate'] == 1)][['bail_set_by', 'bail_amount']]\n",
    "\n",
    "# Bail amount by groups\n",
    "plt.rcParams['font.size'] = 10\n",
    "sns.boxplot( y=df_monetary[\"bail_set_by\"], x=df[\"bail_amount\"], \n",
    "           order = core_magistrates)\n",
    "plt.xlim(0, 300000)\n",
    "plt.xlabel('bail amount')\n",
    "plt.xticks(ticks = range(0, 350000, 50000), labels = ['0','50k','100k','150k','200k','250k','300k'])\n",
    "plt.ylabel('magistrate')\n",
    "plt.title('bail amount by magistrate')\n",
    "plt.show()"
   ]
  },
  {
   "cell_type": "code",
   "execution_count": null,
   "metadata": {},
   "outputs": [],
   "source": [
    "# Maybe 4 histograms will be easier to see"
   ]
  },
  {
   "cell_type": "markdown",
   "metadata": {},
   "source": [
    "### 2.4 Are preliminary hearing date and time related to magistrates?"
   ]
  },
  {
   "cell_type": "markdown",
   "metadata": {},
   "source": [
    "This may be relevant, as offense severity may depend on hearing time "
   ]
  },
  {
   "cell_type": "code",
   "execution_count": null,
   "metadata": {},
   "outputs": [],
   "source": [
    "df['prelim_hearing_hour'] = df['prelim_hearing_time'].apply(lambda x: x.hour)\n",
    "# prelim hearing time (hour) of each magistrate\n",
    "\n",
    "fig, ax = plt.subplots(nrows = 2, ncols = 5, figsize = (15, 6))\n",
    "plt.rcParams['font.size'] = 10\n",
    "fig.suptitle('prelim hearing time for magistrate')\n",
    "for idx, name in enumerate(magistrates):\n",
    "    row = idx // 5\n",
    "    col = idx % 5 \n",
    "    ax[row][col].hist(df[df['bail_set_by'] == name].prelim_hearing_hour, bins=24, range=(0,24))\n",
    "    ax[row][col].set_title(name)\n",
    "\n",
    "for sub in ax.flat:\n",
    "    sub.set_xlim(0,24)\n",
    "    sub.set_xlabel('prelim hearing time')\n",
    "    sub.set_ylabel('case count')\n",
    "plt.tight_layout()\n",
    "plt.show()"
   ]
  },
  {
   "cell_type": "markdown",
   "metadata": {},
   "source": [
    "### 2.5 Are specific magistrates more likely to handle specific types of offenses?"
   ]
  },
  {
   "cell_type": "markdown",
   "metadata": {},
   "source": [
    "Use topic modeling to extract offense type (for now)\n",
    "Options:\n",
    "* TF-IDF\n",
    "* LDA\n",
    "* NMF\n"
   ]
  },
  {
   "cell_type": "markdown",
   "metadata": {},
   "source": [
    "<b> Remove offenses with super long length </b>"
   ]
  },
  {
   "cell_type": "code",
   "execution_count": null,
   "metadata": {},
   "outputs": [],
   "source": [
    "# remove offenses with super long length\n",
    "df['max_offense_length'] = df['parsed_offenses'].apply(lambda x: max([len(item) for item in x]))"
   ]
  },
  {
   "cell_type": "code",
   "execution_count": null,
   "metadata": {},
   "outputs": [],
   "source": [
    "plt.hist(df['max_offense_length'], bins = 40)\n",
    "plt.show()"
   ]
  },
  {
   "cell_type": "code",
   "execution_count": null,
   "metadata": {},
   "outputs": [],
   "source": [
    "# look at those with max offense length >= 200 \n",
    "df_long = df[df['max_offense_length'] >= 200]"
   ]
  },
  {
   "cell_type": "code",
   "execution_count": null,
   "metadata": {},
   "outputs": [],
   "source": [
    "# remove offenses with long length\n",
    "df['cleaned_offenses'] = df['parsed_offenses'].apply(lambda x: [item for item in x if len(item) < 200])"
   ]
  },
  {
   "cell_type": "markdown",
   "metadata": {},
   "source": [
    "<b> topic modeling via NMF </b>"
   ]
  },
  {
   "cell_type": "code",
   "execution_count": null,
   "metadata": {},
   "outputs": [],
   "source": [
    "# prepare text (offenses)\n",
    "corpus = df['cleaned_offenses'].apply(lambda x: ' '.join(x)).tolist()\n",
    "\n",
    "# remove stop words\n",
    "stopwords = ['for','a','of','the','and','to','in', 'or']\n",
    "\n",
    "# corpus format: list of list\n",
    "# lowercase\n",
    "corpus = [[word for word in text.lower().split() if word not in stopwords] for text in corpus]"
   ]
  },
  {
   "cell_type": "code",
   "execution_count": null,
   "metadata": {},
   "outputs": [],
   "source": [
    "# create dictionary of worrds\n",
    "dictionary = Dictionary(corpus)"
   ]
  },
  {
   "cell_type": "code",
   "execution_count": null,
   "metadata": {},
   "outputs": [],
   "source": [
    "# split to training and CV set \n",
    "n_documents = len(corpus)\n",
    "\n",
    "total = list(range(n_documents))\n",
    "random.shuffle(total)\n",
    "\n",
    "train_size = int(n_documents * 0.7)\n",
    "train_idx = total[:train_size]\n",
    "cv_idx = total[train_size:]\n",
    "\n",
    "# train document\n",
    "train_doc = [corpus[idx] for idx in train_idx]\n",
    "cv_doc = [corpus[idx] for idx in cv_idx]\n",
    "\n",
    "# prepare corpus\n",
    "train_corpus = [dictionary.doc2bow(text) for text in train_doc]\n",
    "cv_corpus = [dictionary.doc2bow(text) for text in cv_doc]\n",
    "total_corpus = [dictionary.doc2bow(text) for text in corpus]\n",
    "\n",
    "print('number of training set: ', len(train_idx))\n",
    "print('number of cv set: ', len(cv_idx))"
   ]
  },
  {
   "cell_type": "code",
   "execution_count": null,
   "metadata": {},
   "outputs": [],
   "source": [
    "# compute coherence scores for NMF models of various topic numbers\n",
    "topic_numbers = list(range(5,30))\n",
    "scores = {}\n",
    "\n",
    "for k in topic_numbers:\n",
    "    # train NMF model\n",
    "    nmf = Nmf(train_corpus, id2word = dictionary, num_topics = k)\n",
    "    \n",
    "    # compute coherence on cv\n",
    "    cm = CoherenceModel(model=nmf, texts=cv_doc, window_size = 50, coherence='c_uci')\n",
    "    coherence = cm.get_coherence() \n",
    "    scores[k] = coherence"
   ]
  },
  {
   "cell_type": "code",
   "execution_count": null,
   "metadata": {},
   "outputs": [],
   "source": [
    "plt.plot(topic_numbers, [scores[item] for item in topic_numbers])\n",
    "plt.xlabel('number of topics')\n",
    "plt.ylabel('coherence score')\n",
    "plt.title('coherence scores')\n",
    "plt.show()"
   ]
  },
  {
   "cell_type": "markdown",
   "metadata": {},
   "source": [
    "It seems like coherence score is maximized when number of topics is 15 \n",
    "Q: Why is the coherence score not computed for some topic numbers?"
   ]
  },
  {
   "cell_type": "code",
   "execution_count": null,
   "metadata": {},
   "outputs": [],
   "source": [
    "# train NMF model\n",
    "nmf = Nmf(total_corpus, id2word = dictionary, num_topics = 15)"
   ]
  },
  {
   "cell_type": "code",
   "execution_count": null,
   "metadata": {},
   "outputs": [],
   "source": [
    "# Visualize topic representations for 4 (out of 15) topics\n",
    "fig, ax = plt.subplots(nrows = 5, ncols = 3, figsize = (15, 20))\n",
    "\n",
    "for i in range(15):\n",
    "    row = i // 3\n",
    "    col = i % 3\n",
    "    \n",
    "    topic_rep = nmf.show_topic(i)\n",
    "    words = [item[0] for item in topic_rep][::-1]\n",
    "    prob = [item[1] for item in topic_rep][::-1]\n",
    "    \n",
    "    ax[row][col].barh(words, prob)\n",
    "    ax[row][col].tick_params(axis=\"y\", labelsize=14)\n",
    "    ax[row][col].set_xlabel('probability')\n",
    "    ax[row][col].set_title('Representations of topic '+ str(i))\n",
    "    \n",
    "fig.subplots_adjust(wspace=0.4, hspace = 0.3)\n",
    "plt.show()"
   ]
  },
  {
   "cell_type": "code",
   "execution_count": null,
   "metadata": {},
   "outputs": [],
   "source": [
    "# save NMF model\n",
    "#nmf.save('offenses_nmf')\n",
    "\n",
    "# to load\n",
    "nmf = Nmf.load('offenses_nmf')"
   ]
  },
  {
   "cell_type": "code",
   "execution_count": null,
   "metadata": {},
   "outputs": [],
   "source": [
    "# for each offense, assign topic number \n",
    "topic_numbers = []\n",
    "\n",
    "for case in total_corpus:\n",
    "    topics = nmf[case]\n",
    "    topic_num = [item[0] for item in topics]\n",
    "    topic_prob = [item[1] for item in topics]\n",
    "    topic_numbers.append(topic_num[topic_prob.index(max(topic_prob))])"
   ]
  },
  {
   "cell_type": "code",
   "execution_count": null,
   "metadata": {},
   "outputs": [],
   "source": [
    "# create column of offense type\n",
    "df['topic_numbers'] = topic_numbers\n",
    "\n",
    "# create dummy variables\n",
    "#df = pd.concat([df, pd.get_dummies(df['topic_numbers'], prefix = 'offense_')], axis=1)"
   ]
  },
  {
   "cell_type": "markdown",
   "metadata": {},
   "source": [
    "<b> Q: Are there correlations between offense type and magistrate? </b>"
   ]
  },
  {
   "cell_type": "code",
   "execution_count": null,
   "metadata": {},
   "outputs": [],
   "source": [
    "df_magistrate_offense = pd.crosstab(index = df['bail_set_by'], columns =df['topic_numbers'])\n",
    "df_magistrate_offense['Total'] = df_magistrate_offense.sum(axis = 1)"
   ]
  },
  {
   "cell_type": "code",
   "execution_count": null,
   "metadata": {},
   "outputs": [],
   "source": [
    "df_magistrate_offense.loc[core_magistrates]"
   ]
  },
  {
   "cell_type": "code",
   "execution_count": null,
   "metadata": {},
   "outputs": [],
   "source": [
    "# visualize\n",
    "\n",
    "topic_nums = list(range(15))\n",
    "\n",
    "fig, ax = plt.subplots(ncols = 4, figsize = (15, 5))\n",
    "plt.rcParams['font.size'] = 10\n",
    "fig.suptitle('% of offense type for magistrate')\n",
    "for idx, name in enumerate(core_magistrates):\n",
    "\n",
    "    ax[idx].pie(df_magistrate_offense.loc[name, topic_nums], labels = topic_nums, autopct='%1.0f%%')\n",
    "    ax[idx].set_title(name)\n",
    "\n",
    "# common legend\n",
    "fig.subplots_adjust(top=0.9, left=0.1, right=0.9, bottom=0.12)  # create some space below the plots by increasing the bottom-value\n",
    "ax.flatten()[-2].legend(loc='upper center', bbox_to_anchor=(0.5, 0), ncol=4)\n",
    "\n",
    "plt.show()"
   ]
  },
  {
   "cell_type": "markdown",
   "metadata": {},
   "source": [
    "From what we see above, each magistrate seems to handle similar proportions of offense types"
   ]
  },
  {
   "cell_type": "code",
   "execution_count": null,
   "metadata": {},
   "outputs": [],
   "source": [
    "# test\n",
    "df_chi = df_magistrate_offense.drop(columns = ['Total'])\n",
    "\n",
    "# chi-squared test\n",
    "chi2, p, dof, ex = chi2_contingency(df_chi.loc[core_magistrates])\n",
    "print('p-value of chi-square test: ', p)"
   ]
  },
  {
   "cell_type": "markdown",
   "metadata": {},
   "source": [
    "From the above, it's kind of hard to tell why we get a significant result. we may need more specific tests\n",
    "\n",
    "<b>To do</b>: Do chi-square test for each topic number as following: topic i vs non-topic i"
   ]
  },
  {
   "cell_type": "code",
   "execution_count": null,
   "metadata": {},
   "outputs": [],
   "source": [
    "# example for topic 1\n",
    "df_chi = df_magistrate_offense.loc[core_magistrates]\n",
    "df_chi['not_1'] = df_chi['Total'] - df_chi[1]\n",
    "\n",
    "# chi-squared test\n",
    "chi2, p, dof, ex = chi2_contingency(df_chi[[1, 'not_1']])\n",
    "print('p-value of chi-square test: ', p)"
   ]
  },
  {
   "cell_type": "markdown",
   "metadata": {},
   "source": [
    "### 2.6 Predict bail type and bail amount. Find the important factors"
   ]
  },
  {
   "cell_type": "markdown",
   "metadata": {},
   "source": [
    "## 3. Which neighborhoods are heavily impacted by bail?"
   ]
  },
  {
   "cell_type": "markdown",
   "metadata": {},
   "source": [
    "The following visualizations shows that monetary bail largely impacts those who live in areas with severe poverty. \n",
    "* Left: Number of monetary bail cases by zip code. \n",
    "    * (We can regenerate the image for entire year of 2020 once we have the data) \n",
    "* Right: From US Census Bureau ASC 5-year estimate from 2018. \n",
    "    * data and link to table stored at 'data/poverty'.\n",
    "    * Maybe we can grab 2020 data\n",
    "\n",
    "data          |  visualization\n",
    ":-------------------------:|:-------------------------:\n",
    "Case count of monetary bail by zip code | <img src=\"visualizations/monetary_bail_case_count.png\" alt=\"drawing\" width=\"800\"/>  |\n",
    "Percentage of population living under poverty by zip code | <img src=\"visualizations/percent_below_poverty.png\" alt=\"drawing\" width=\"800\"/> | "
   ]
  },
  {
   "cell_type": "markdown",
   "metadata": {},
   "source": [
    "The following visualizations show that the median household income is higher than median bail amount (\\$25K) in many zip codes. \n",
    "* Left: median monetary bail amount by zip code.\n",
    "    * Median computed only for zipcodes that had 6 or more cases.  \n",
    "    * Median bail amount is usually \\$25K\n",
    "    * We can regenerate the image once we have 2020 data available. \n",
    "* Right: median household income by zipcode\n",
    "    * From US Cenus Bureau 2018 ASC 5-year estimate from 2018. \n",
    "    * data and link to table stored at 'data/income' \n",
    "    * Maybe we can grab 2020 data\n",
    "\n",
    "\n",
    "data          |  visualization\n",
    ":-------------------------:|:-------------------------:\n",
    "Median monetary bail amount by zip code            | <img src=\"visualizations/bail_amount.png\" alt=\"drawing\" width=\"800\"/> |  \n",
    "Median household income by zip code | <img src=\"visualizations/income.png\" alt=\"drawing\" width=\"800\"/>\n"
   ]
  },
  {
   "cell_type": "markdown",
   "metadata": {},
   "source": [
    "## 4. Break down by race (and gender/age?)\n",
    "For all bail:\n",
    "- Raw numbers for race/sex and bail type\n",
    "- Are race and bail type correlated? (for comparable offense types?)\n",
    "- Same for gender and age\n",
    "\n",
    "For monetary bail:\n",
    "- Histogram of race/sex and bail amount\n",
    "- Are race and bail amount correlated? (for comparable offense types?)\n",
    "- Same for gender and age\n",
    "\n",
    "Most generally: what are the strongest factors determining bail type and bail amount?\n",
    "- Do a predictive modeling (e.g., regression, decision trees, random forest) and feature importance analysis\n",
    "- Possible factors: race, age, sex; offense types, offense number; magistrate, arresting officer; public/private defender"
   ]
  },
  {
   "cell_type": "code",
   "execution_count": null,
   "metadata": {},
   "outputs": [],
   "source": []
  },
  {
   "cell_type": "markdown",
   "metadata": {},
   "source": [
    "## 5. How much Philadelphians paid in bail \n",
    "(see 1)"
   ]
  }
 ],
 "metadata": {
  "kernelspec": {
   "display_name": "Python 3",
   "language": "python",
   "name": "python3"
  },
  "language_info": {
   "codemirror_mode": {
    "name": "ipython",
    "version": 3
   },
   "file_extension": ".py",
   "mimetype": "text/x-python",
   "name": "python",
   "nbconvert_exporter": "python",
   "pygments_lexer": "ipython3",
   "version": "3.8.5"
  }
 },
 "nbformat": 4,
 "nbformat_minor": 4
}
