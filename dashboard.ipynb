{
 "cells": [
  {
   "cell_type": "markdown",
   "metadata": {},
   "source": [
    "# Dashboard\n",
    "* This notebook contains visualiations that could be incorporated into the final dashboard\n",
    "* \"Could your grandmother understand these visualizations?\""
   ]
  },
  {
   "cell_type": "code",
   "execution_count": 1,
   "metadata": {},
   "outputs": [],
   "source": [
    "import ast\n",
    "import datetime\n",
    "import itertools\n",
    "import matplotlib.pyplot as plt\n",
    "import numpy as np\n",
    "import pandas as pd\n",
    "import random\n",
    "import regex as re\n",
    "import seaborn as sns\n",
    "\n",
    "from dateutil.relativedelta import relativedelta\n",
    "from gensim.models.nmf import Nmf\n",
    "from gensim.corpora import Dictionary\n",
    "from gensim.models.coherencemodel import CoherenceModel\n",
    "from scipy.stats import chi2_contingency, mannwhitneyu\n",
    "from scipy.spatial.distance import pdist\n",
    "from scipy.spatial.distance import squareform\n",
    "\n",
    "import plotly.express as px\n",
    "import plotly.graph_objs as go\n",
    "import plotly.figure_factory as ff\n",
    "from ipywidgets import widgets\n",
    "from plotly.offline import download_plotlyjs, init_notebook_mode, plot, iplot\n",
    "\n",
    "import json\n",
    "import copy"
   ]
  },
  {
   "cell_type": "markdown",
   "metadata": {},
   "source": [
    "# 0. Import and preprocess"
   ]
  },
  {
   "cell_type": "code",
   "execution_count": 2,
   "metadata": {},
   "outputs": [],
   "source": [
    "# Import and join docket and court summary csv files\n",
    "docketdf = pd.read_csv(\"docket-parsed.csv\", index_col=0)\n",
    "courtdf = pd.read_csv(\"court-parsed.csv\", index_col=0)\n",
    "df = docketdf.merge(courtdf, on='docket_no', how='left', suffixes=('', '_y'))\n",
    "df.reset_index(inplace=True)\n",
    "df.drop(columns=['docket_no'], inplace=True)\n",
    "df.drop(df.filter(regex='_y$').columns.tolist(),axis=1, inplace=True)"
   ]
  },
  {
   "cell_type": "code",
   "execution_count": 3,
   "metadata": {},
   "outputs": [],
   "source": [
    "# convert string to datetime\n",
    "df[\"offense_date\"] = pd.to_datetime(df[\"offense_date\"])\n",
    "df[\"arrest_dt\"] = pd.to_datetime(df[\"arrest_dt\"])\n",
    "df[\"dob\"] = pd.to_datetime(df[\"dob\"])\n",
    "df[\"bail_date\"] = pd.to_datetime(df[\"bail_date\"])\n",
    "df[\"prelim_hearing_dt\"] = df[\"prelim_hearing_dt\"].apply(\n",
    "    lambda x: str(x).split(' ')[0] if pd.notnull(x) else x) # This is here because of a parsing issue\n",
    "df[\"prelim_hearing_dt\"] = pd.to_datetime(df[\"prelim_hearing_dt\"])\n",
    "df[\"prelim_hearing_time\"] = pd.to_datetime(df[\"prelim_hearing_time\"])\n",
    "\n",
    "# age column\n",
    "df['age'] = df['arrest_dt'] - df['dob']\n",
    "df['age'] = df['age'].apply(lambda x: np.floor(x.days/365.2425))\n",
    "\n",
    "# public defender column: 1 if public defender, 0 if private defender\n",
    "# note that there is also an \"attorney_type\" column, with \"Public\", \"Private\", and \"Court Appointed\" options\n",
    "df[\"public_defender\"] = df[\"attorney\"].apply(lambda x: 1 if x =='Defender Association of  Philadelphia' else 0)\n",
    "\n",
    "# convert string representation of list to list\n",
    "df[\"offenses\"] = df[\"offenses\"].apply(lambda x: ast.literal_eval(x))\n",
    "df['offense_type'] = df['offense_type'].apply(lambda x: ast.literal_eval(x))\n",
    "df['statute'] = df['statute'].apply(lambda x: ast.literal_eval(x))\n",
    "\n",
    "# zipcode: remove everything after hyphen\n",
    "df[\"zipcode_clean\"] = df[\"zip\"].apply(lambda x: re.sub('-.*$','',x) if type(x) == str else x)\n",
    "\n",
    "# column indicating whether zipcode is in Philadelphia\n",
    "philly_zipcode = list(range(19102, 19155))\n",
    "philly_zipcode = [str(item) for item in philly_zipcode]\n",
    "df['philly_zipcode'] = df['zipcode_clean'].apply(lambda x: 1 if x in philly_zipcode else 0)\n",
    "\n",
    "# outstanding bail column\n",
    "df['bail_outstanding'] = df['bail_amount'] - df['bail_paid']"
   ]
  },
  {
   "cell_type": "code",
   "execution_count": 4,
   "metadata": {},
   "outputs": [],
   "source": [
    "# Define bins for bail amount\n",
    "def bin_bailSet(bailSet):\n",
    "    if bailSet == 0 or pd.isnull(bailSet):\n",
    "        return 'None'\n",
    "    elif bailSet < 1000:\n",
    "        return '<1k'\n",
    "    elif bailSet < 5000:\n",
    "        return '1k to 5k'\n",
    "    elif bailSet < 10000:\n",
    "        return '5k to 10k'\n",
    "    elif bailSet < 25000:\n",
    "        return '10k to 25k'\n",
    "    elif bailSet < 50000:\n",
    "        return '25k to 50k'\n",
    "    elif bailSet < 100000:\n",
    "        return '50k to 100k'\n",
    "    elif bailSet < 500000:\n",
    "        return '100k to 500k'\n",
    "    else:\n",
    "        return '>=500k'\n",
    "\n",
    "# TODO: auto-generate bail_bin_labels to not have to manually update if updating fcn above\n",
    "bail_bin_labels = ['None', '<1k', '1k to 5k', '5k to 10k', '10k to 25k', '25k to 50k', '50k to 100k', '100k to 500k', '>=500k']   \n",
    "    \n",
    "# column for bail amount bins\n",
    "df['bail_set_bin'] = df['bail_amount'].apply(lambda x: bin_bailSet(x))\n",
    "\n",
    "# column for bail outstanding bins\n",
    "df['bail_outstanding_bin'] = df['bail_outstanding'].apply(lambda x: bin_bailSet(x))"
   ]
  },
  {
   "cell_type": "code",
   "execution_count": 5,
   "metadata": {},
   "outputs": [],
   "source": [
    "# Define bins for age group\n",
    "def bin_age(age):\n",
    "    if age < 18:\n",
    "        return 'minor'\n",
    "    elif age < 26:\n",
    "        return '18 to 25'\n",
    "    elif age < 34:\n",
    "        return '26 to 33'\n",
    "    elif age < 42:\n",
    "        return '34 to 41'\n",
    "    elif age < 50:\n",
    "        return '42 to 49'\n",
    "    elif age < 58:\n",
    "        return '50 to 57'\n",
    "    elif age < 65:\n",
    "        return '58 to 64'\n",
    "    else:\n",
    "        return 'senior'\n",
    "\n",
    "# column for bail amount bins\n",
    "df['age_group'] = df['age'].apply(lambda x: bin_age(x))"
   ]
  },
  {
   "cell_type": "code",
   "execution_count": 6,
   "metadata": {},
   "outputs": [],
   "source": [
    "# remove arrests that occurred between 5/31 - 6/3 (BLM movement)\n",
    "df = df[(df['arrest_dt'] < np.datetime64('2020-05-31')) | (df['arrest_dt'] > np.datetime64('2020-06-03'))]\n",
    "df.reset_index(drop = True, inplace = True)"
   ]
  },
  {
   "cell_type": "code",
   "execution_count": 7,
   "metadata": {},
   "outputs": [
    {
     "data": {
      "text/plain": [
       "['age',\n",
       " 'age_group',\n",
       " 'arrest_dt',\n",
       " 'arresting_officer',\n",
       " 'attorney',\n",
       " 'attorney_type',\n",
       " 'bail_amount',\n",
       " 'bail_date',\n",
       " 'bail_outstanding',\n",
       " 'bail_outstanding_bin',\n",
       " 'bail_paid',\n",
       " 'bail_set_bin',\n",
       " 'bail_set_by',\n",
       " 'bail_type',\n",
       " 'case_status',\n",
       " 'dob',\n",
       " 'offense_date',\n",
       " 'offense_type',\n",
       " 'offenses',\n",
       " 'philly_zipcode',\n",
       " 'prelim_hearing_dt',\n",
       " 'prelim_hearing_time',\n",
       " 'public_defender',\n",
       " 'race',\n",
       " 'sex',\n",
       " 'statute',\n",
       " 'zip',\n",
       " 'zipcode_clean']"
      ]
     },
     "execution_count": 7,
     "metadata": {},
     "output_type": "execute_result"
    }
   ],
   "source": [
    "# full list of columns available to work with\n",
    "sorted(df.columns.tolist())"
   ]
  },
  {
   "cell_type": "code",
   "execution_count": 8,
   "metadata": {},
   "outputs": [
    {
     "data": {
      "text/html": [
       "<div>\n",
       "<style scoped>\n",
       "    .dataframe tbody tr th:only-of-type {\n",
       "        vertical-align: middle;\n",
       "    }\n",
       "\n",
       "    .dataframe tbody tr th {\n",
       "        vertical-align: top;\n",
       "    }\n",
       "\n",
       "    .dataframe thead th {\n",
       "        text-align: right;\n",
       "    }\n",
       "</style>\n",
       "<table border=\"1\" class=\"dataframe\">\n",
       "  <thead>\n",
       "    <tr style=\"text-align: right;\">\n",
       "      <th></th>\n",
       "      <th>attorney</th>\n",
       "      <th>attorney_type</th>\n",
       "      <th>offenses</th>\n",
       "      <th>offense_date</th>\n",
       "      <th>statute</th>\n",
       "      <th>offense_type</th>\n",
       "      <th>bail_set_by</th>\n",
       "      <th>bail_amount</th>\n",
       "      <th>bail_paid</th>\n",
       "      <th>bail_date</th>\n",
       "      <th>...</th>\n",
       "      <th>sex</th>\n",
       "      <th>race</th>\n",
       "      <th>age</th>\n",
       "      <th>public_defender</th>\n",
       "      <th>zipcode_clean</th>\n",
       "      <th>philly_zipcode</th>\n",
       "      <th>bail_outstanding</th>\n",
       "      <th>bail_set_bin</th>\n",
       "      <th>bail_outstanding_bin</th>\n",
       "      <th>age_group</th>\n",
       "    </tr>\n",
       "  </thead>\n",
       "  <tbody>\n",
       "    <tr>\n",
       "      <th>0</th>\n",
       "      <td>Defender Association of Philadelphia</td>\n",
       "      <td>Public</td>\n",
       "      <td>[DUI: Gen Imp/Inc of Driving Safely - 1st Off,...</td>\n",
       "      <td>2019-12-31</td>\n",
       "      <td>[75 § 3802, 75 § 3323]</td>\n",
       "      <td>[driving after imbibing alcohol or utilizing d...</td>\n",
       "      <td>Bernard, Francis X.</td>\n",
       "      <td>0.0</td>\n",
       "      <td>0.0</td>\n",
       "      <td>2020-01-01</td>\n",
       "      <td>...</td>\n",
       "      <td>Male</td>\n",
       "      <td>White</td>\n",
       "      <td>25.0</td>\n",
       "      <td>0</td>\n",
       "      <td>19115</td>\n",
       "      <td>1</td>\n",
       "      <td>0.0</td>\n",
       "      <td>None</td>\n",
       "      <td>None</td>\n",
       "      <td>18 to 25</td>\n",
       "    </tr>\n",
       "    <tr>\n",
       "      <th>1</th>\n",
       "      <td>Joseph Kevin Kelly</td>\n",
       "      <td>Private</td>\n",
       "      <td>[DUI: Gen Imp/Inc of Driving Safely - 1st Off]</td>\n",
       "      <td>2019-12-31</td>\n",
       "      <td>[75 § 3802]</td>\n",
       "      <td>[driving after imbibing alcohol or utilizing d...</td>\n",
       "      <td>Bernard, Francis X.</td>\n",
       "      <td>0.0</td>\n",
       "      <td>0.0</td>\n",
       "      <td>2020-01-01</td>\n",
       "      <td>...</td>\n",
       "      <td>Male</td>\n",
       "      <td>White</td>\n",
       "      <td>24.0</td>\n",
       "      <td>0</td>\n",
       "      <td>19134</td>\n",
       "      <td>1</td>\n",
       "      <td>0.0</td>\n",
       "      <td>None</td>\n",
       "      <td>None</td>\n",
       "      <td>18 to 25</td>\n",
       "    </tr>\n",
       "    <tr>\n",
       "      <th>2</th>\n",
       "      <td>Defender Association of Philadelphia</td>\n",
       "      <td>Public</td>\n",
       "      <td>[Retail Theft-Take Mdse]</td>\n",
       "      <td>2019-12-31</td>\n",
       "      <td>[18 § 3929]</td>\n",
       "      <td>[theft and related offenses]</td>\n",
       "      <td>Bernard, Francis X.</td>\n",
       "      <td>0.0</td>\n",
       "      <td>0.0</td>\n",
       "      <td>2020-01-01</td>\n",
       "      <td>...</td>\n",
       "      <td>Male</td>\n",
       "      <td>Black</td>\n",
       "      <td>57.0</td>\n",
       "      <td>0</td>\n",
       "      <td>19131</td>\n",
       "      <td>1</td>\n",
       "      <td>0.0</td>\n",
       "      <td>None</td>\n",
       "      <td>None</td>\n",
       "      <td>50 to 57</td>\n",
       "    </tr>\n",
       "    <tr>\n",
       "      <th>3</th>\n",
       "      <td>Defender Association of Philadelphia</td>\n",
       "      <td>Public</td>\n",
       "      <td>[Simple Assault, Recklessly Endangering Anothe...</td>\n",
       "      <td>2019-12-31</td>\n",
       "      <td>[18 § 2701, 18 § 2705]</td>\n",
       "      <td>[assault, assault]</td>\n",
       "      <td>Bernard, Francis X.</td>\n",
       "      <td>30000.0</td>\n",
       "      <td>0.0</td>\n",
       "      <td>2020-01-01</td>\n",
       "      <td>...</td>\n",
       "      <td>Male</td>\n",
       "      <td>Black</td>\n",
       "      <td>32.0</td>\n",
       "      <td>0</td>\n",
       "      <td>19121</td>\n",
       "      <td>1</td>\n",
       "      <td>30000.0</td>\n",
       "      <td>25k to 50k</td>\n",
       "      <td>25k to 50k</td>\n",
       "      <td>26 to 33</td>\n",
       "    </tr>\n",
       "    <tr>\n",
       "      <th>4</th>\n",
       "      <td>Lee Mandell</td>\n",
       "      <td>Court Appointed</td>\n",
       "      <td>[Robbery-Inflict Threat Imm Bod Inj, Conspirac...</td>\n",
       "      <td>2019-12-31</td>\n",
       "      <td>[18 § 3701 §§ A1IV, 18 § 903 §§ C, 18 § 3921 §...</td>\n",
       "      <td>[robbery, inchoate crimes, theft and related o...</td>\n",
       "      <td>Pittman, Joffie C. III</td>\n",
       "      <td>30000.0</td>\n",
       "      <td>0.0</td>\n",
       "      <td>2020-01-09</td>\n",
       "      <td>...</td>\n",
       "      <td>Male</td>\n",
       "      <td>Black</td>\n",
       "      <td>18.0</td>\n",
       "      <td>0</td>\n",
       "      <td>19135</td>\n",
       "      <td>1</td>\n",
       "      <td>30000.0</td>\n",
       "      <td>25k to 50k</td>\n",
       "      <td>25k to 50k</td>\n",
       "      <td>18 to 25</td>\n",
       "    </tr>\n",
       "  </tbody>\n",
       "</table>\n",
       "<p>5 rows × 28 columns</p>\n",
       "</div>"
      ],
      "text/plain": [
       "                                 attorney    attorney_type  \\\n",
       "0   Defender Association of Philadelphia            Public   \n",
       "1                     Joseph Kevin Kelly           Private   \n",
       "2   Defender Association of Philadelphia            Public   \n",
       "3   Defender Association of Philadelphia            Public   \n",
       "4                            Lee Mandell   Court Appointed   \n",
       "\n",
       "                                            offenses offense_date  \\\n",
       "0  [DUI: Gen Imp/Inc of Driving Safely - 1st Off,...   2019-12-31   \n",
       "1     [DUI: Gen Imp/Inc of Driving Safely - 1st Off]   2019-12-31   \n",
       "2                           [Retail Theft-Take Mdse]   2019-12-31   \n",
       "3  [Simple Assault, Recklessly Endangering Anothe...   2019-12-31   \n",
       "4  [Robbery-Inflict Threat Imm Bod Inj, Conspirac...   2019-12-31   \n",
       "\n",
       "                                             statute  \\\n",
       "0                             [75 § 3802, 75 § 3323]   \n",
       "1                                        [75 § 3802]   \n",
       "2                                        [18 § 3929]   \n",
       "3                             [18 § 2701, 18 § 2705]   \n",
       "4  [18 § 3701 §§ A1IV, 18 § 903 §§ C, 18 § 3921 §...   \n",
       "\n",
       "                                        offense_type             bail_set_by  \\\n",
       "0  [driving after imbibing alcohol or utilizing d...     Bernard, Francis X.   \n",
       "1  [driving after imbibing alcohol or utilizing d...     Bernard, Francis X.   \n",
       "2                       [theft and related offenses]     Bernard, Francis X.   \n",
       "3                                 [assault, assault]     Bernard, Francis X.   \n",
       "4  [robbery, inchoate crimes, theft and related o...  Pittman, Joffie C. III   \n",
       "\n",
       "   bail_amount  bail_paid  bail_date  ...   sex   race   age public_defender  \\\n",
       "0          0.0        0.0 2020-01-01  ...  Male  White  25.0               0   \n",
       "1          0.0        0.0 2020-01-01  ...  Male  White  24.0               0   \n",
       "2          0.0        0.0 2020-01-01  ...  Male  Black  57.0               0   \n",
       "3      30000.0        0.0 2020-01-01  ...  Male  Black  32.0               0   \n",
       "4      30000.0        0.0 2020-01-09  ...  Male  Black  18.0               0   \n",
       "\n",
       "  zipcode_clean philly_zipcode bail_outstanding bail_set_bin  \\\n",
       "0         19115              1              0.0         None   \n",
       "1         19134              1              0.0         None   \n",
       "2         19131              1              0.0         None   \n",
       "3         19121              1          30000.0   25k to 50k   \n",
       "4         19135              1          30000.0   25k to 50k   \n",
       "\n",
       "  bail_outstanding_bin age_group  \n",
       "0                 None  18 to 25  \n",
       "1                 None  18 to 25  \n",
       "2                 None  50 to 57  \n",
       "3           25k to 50k  26 to 33  \n",
       "4           25k to 50k  18 to 25  \n",
       "\n",
       "[5 rows x 28 columns]"
      ]
     },
     "execution_count": 8,
     "metadata": {},
     "output_type": "execute_result"
    }
   ],
   "source": [
    "df.head()"
   ]
  },
  {
   "cell_type": "markdown",
   "metadata": {},
   "source": [
    "# 1. Aggregate bail information for the year 2020"
   ]
  },
  {
   "cell_type": "code",
   "execution_count": 9,
   "metadata": {},
   "outputs": [
    {
     "name": "stdout",
     "output_type": "stream",
     "text": [
      "Total number of cases analyzed (excluding 5/31 - 6/3): 20,426\n"
     ]
    }
   ],
   "source": [
    "# Total cases, distribution of bail set\n",
    "totalCases = len(df.index)\n",
    "print(\"Total number of cases analyzed (excluding 5/31 - 6/3): {0:,}\".format(totalCases))"
   ]
  },
  {
   "cell_type": "code",
   "execution_count": 10,
   "metadata": {},
   "outputs": [
    {
     "name": "stdout",
     "output_type": "stream",
     "text": [
      "Monetary       8744\n",
      "ROR            5627\n",
      "Unsecured      5599\n",
      "Nonmonetary     122\n",
      "Nominal           4\n",
      "Name: bail_type, dtype: int64\n"
     ]
    },
    {
     "data": {
      "image/png": "[encoded data removed]",
      "text/plain": [
       "<Figure size 432x288 with 1 Axes>"
      ]
     },
     "metadata": {},
     "output_type": "display_data"
    }
   ],
   "source": [
    "# Plot pie chart of bail type\n",
    "# Note that this excludes cases where bail type was not recorded\n",
    "df_bail = df['bail_type'].value_counts()\n",
    "plt.pie(df_bail.values, labels=df_bail.keys().tolist(), autopct='%1.0f%%')\n",
    "\n",
    "print(df_bail)"
   ]
  },
  {
   "cell_type": "code",
   "execution_count": 11,
   "metadata": {},
   "outputs": [
    {
     "name": "stdout",
     "output_type": "stream",
     "text": [
      "-> Monetary bail set in 43.5% of cases\n",
      "\n",
      "Total bail set: $879,302,493.0\n",
      "Total bail paid: $19,631,035.0 (2.2% of set)\n"
     ]
    }
   ],
   "source": [
    "# Total amount of bail set\n",
    "df_monetary = df[df['bail_type'] == \"Monetary\"]\n",
    "totalBailSet = df_monetary['bail_amount'].sum()\n",
    "totalBailPaid = df_monetary['bail_paid'].sum()\n",
    "print(\"-> Monetary bail set in {0:.1f}% of cases\".format(100*len(df_monetary)/df_bail.sum()))\n",
    "print(\"\\nTotal bail set: ${0:,}\".format(totalBailSet))\n",
    "print(\"Total bail paid: ${0:,} ({1:.1f}% of set)\".format(totalBailPaid, 100*totalBailPaid/totalBailSet))"
   ]
  },
  {
   "cell_type": "code",
   "execution_count": 12,
   "metadata": {},
   "outputs": [
    {
     "name": "stdout",
     "output_type": "stream",
     "text": [
      "Mean bail: \t$100,561\n",
      "Median bail: \t$30,000\n",
      "Mode bail: \t$25,000\n"
     ]
    }
   ],
   "source": [
    "# Bail set averages\n",
    "print(\"Mean bail: \\t${0:,.0f}\".format(df_monetary['bail_amount'].mean()))\n",
    "print(\"Median bail: \\t${0:,.0f}\".format(df_monetary['bail_amount'].median()))\n",
    "print(\"Mode bail: \\t${0:,.0f}\".format(df_monetary['bail_amount'].mode()[0]))"
   ]
  },
  {
   "cell_type": "code",
   "execution_count": 13,
   "metadata": {},
   "outputs": [
    {
     "name": "stdout",
     "output_type": "stream",
     "text": [
      "Mean bail paid: \t$2,245\n",
      "Median bail paid: \t$500\n",
      "Mode bail paid: \t$0\n",
      "In 46.6% of cases with monetary bail, bail has not been posted\n"
     ]
    }
   ],
   "source": [
    "# Bail paid averages\n",
    "print(\"Mean bail paid: \\t${0:,.0f}\".format(df_monetary['bail_paid'].mean()))\n",
    "print(\"Median bail paid: \\t${0:,.0f}\".format(df_monetary['bail_paid'].median()))\n",
    "print(\"Mode bail paid: \\t${0:,.0f}\".format(df_monetary['bail_paid'].mode()[0]))\n",
    "zeroPosted = df_monetary['bail_paid'].value_counts()[0.0]\n",
    "print(\"In {0:.1f}% of cases with monetary bail, bail has not been posted\".format(100*zeroPosted/len(df_monetary)))"
   ]
  },
  {
   "cell_type": "code",
   "execution_count": 14,
   "metadata": {},
   "outputs": [
    {
     "name": "stdout",
     "output_type": "stream",
     "text": [
      "100k to 500k   23.3%\n",
      "10k to 25k     22.2%\n",
      "50k to 100k    17.7%\n",
      "25k to 50k     16.7%\n",
      "5k to 10k       9.5%\n",
      ">=500k          4.8%\n",
      "1k to 5k        3.3%\n",
      "<1k             2.5%\n",
      "None            0.0%\n",
      "Name: bail_set_bin, dtype: float64\n",
      "(For 8744 cases with monetary bail)\n"
     ]
    },
    {
     "data": {
      "text/plain": [
       "[Text(0.5, 0, 'Percentage'), Text(0, 0.5, 'Bail Set')]"
      ]
     },
     "execution_count": 14,
     "metadata": {},
     "output_type": "execute_result"
    },
    {
     "data": {
      "image/png": "[encoded data removed]",
      "text/plain": [
       "<Figure size 432x288 with 1 Axes>"
      ]
     },
     "metadata": {
      "needs_background": "light"
     },
     "output_type": "display_data"
    }
   ],
   "source": [
    "# Typical amounts of bail set, if monetary bail\n",
    "series_monetary = df_monetary['bail_set_bin'].value_counts()\n",
    "totalMonetary = sum(series_monetary)\n",
    "series_monetary = series_monetary.apply(lambda x: 100*x/totalMonetary)\n",
    "with pd.option_context('display.float_format', '{:,.1f}%'.format):\n",
    "    print(series_monetary)\n",
    "print(\"(For {0} cases with monetary bail)\".format(totalMonetary))\n",
    "\n",
    "# Plot counts of bail set bins\n",
    "series_monetary = series_monetary.reindex(bail_bin_labels)\n",
    "ax = sns.barplot(x=series_monetary.values, y=series_monetary.index, order=bail_bin_labels[1:])\n",
    "ax.set(xlabel='Percentage', ylabel='Bail Set')"
   ]
  },
  {
   "cell_type": "markdown",
   "metadata": {},
   "source": [
    "### Per Malik: Moving average (plot over time) of % of people getting bail, average amount of bail, # of cases getting bail"
   ]
  },
  {
   "cell_type": "markdown",
   "metadata": {},
   "source": [
    "## Attorney type"
   ]
  },
  {
   "cell_type": "code",
   "execution_count": 15,
   "metadata": {},
   "outputs": [
    {
     "name": "stdout",
     "output_type": "stream",
     "text": [
      "Public            63.7%\n",
      "Private           26.1%\n",
      "Court Appointed   10.3%\n",
      "Name: attorney_type, dtype: float64\n",
      "(For 19259 cases with valid attorney type)\n"
     ]
    }
   ],
   "source": [
    "ax.set(xlabel='common xlabel', ylabel='common ylabel')# Attorney types\n",
    "df_defender = df['attorney_type'].value_counts()\n",
    "totalAttorneys = sum(df_defender)\n",
    "with pd.option_context('display.float_format', '{:,.1f}%'.format):\n",
    "    print(df_defender.apply(lambda x: 100*x/totalAttorneys))\n",
    "print(\"(For {0} cases with valid attorney type)\".format(totalAttorneys))"
   ]
  },
  {
   "cell_type": "markdown",
   "metadata": {},
   "source": [
    "### Below is just the above reproduced in a sample interactive viz where one can use the slider to select a range of dates. Not sure how to incorporate the distribution of bail types yet."
   ]
  },
  {
   "cell_type": "markdown",
   "metadata": {},
   "source": [
    "*Also not sure whether `bail_date` or another date field should be used"
   ]
  },
  {
   "cell_type": "code",
   "execution_count": 16,
   "metadata": {},
   "outputs": [],
   "source": [
    "# Get start/end dates for date range to be used in slider\n",
    "start_date = df['bail_date'].min()\n",
    "end_date = df['bail_date'].max()\n",
    "dates = pd.date_range(start_date, end_date, freq='D')"
   ]
  },
  {
   "cell_type": "code",
   "execution_count": 17,
   "metadata": {},
   "outputs": [
    {
     "data": {
      "application/vnd.jupyter.widget-view+json": {
       "model_id": "99630ed504fe4842b665f297b9440fee",
       "version_major": 2,
       "version_minor": 0
      },
      "text/plain": [
       "VBox(children=(SelectionRangeSlider(description='Dates', index=(0, 331), layout=Layout(width='550px'), options…"
      ]
     },
     "metadata": {},
     "output_type": "display_data"
    }
   ],
   "source": [
    "# Turn dates into options on slider\n",
    "options = [(date.strftime('%d %b %Y'), date) for date in dates]\n",
    "index = (0, len(options)-1)\n",
    "\n",
    "# Date range slider\n",
    "select_date = widgets.SelectionRangeSlider(\n",
    "    options=options,\n",
    "    index=index,\n",
    "    description='Dates',\n",
    "    orientation='horizontal',\n",
    "    layout={'width': '550px'}\n",
    ")\n",
    "\n",
    "# Card for Case Count\n",
    "cases = go.Indicator(\n",
    "    mode = 'number',\n",
    "    value = len(df),\n",
    "    domain = {'row': 0, 'column': 0 }, \n",
    "    title = {'text': 'Total Cases'})\n",
    "\n",
    "# Card for Monetary Bail Frequency\n",
    "frequency = go.Indicator(\n",
    "    mode = 'number',\n",
    "    value = len(df[df['bail_type'] == 'Monetary']) / len(df) * 100.,\n",
    "    number = {'suffix': '%'},\n",
    "    domain = {'row': 0, 'column': 1 }, \n",
    "    title = {'text': 'Monetary Bail Frequency'})\n",
    "\n",
    "# Card for Total Bail Amt\n",
    "amount = go.Indicator(\n",
    "    mode = 'number',\n",
    "    value = df['bail_amount'].sum(),\n",
    "    number = {'prefix': '$'},\n",
    "    domain = {'row': 1, 'column': 0 }, \n",
    "    title = {'text': 'Total Bail Set'})\n",
    "\n",
    "# Card for Total Bail Paid\n",
    "paid = go.Indicator(\n",
    "    mode = 'number',\n",
    "    value = df['bail_paid'].sum(),\n",
    "    number = {'prefix': '$'},\n",
    "    domain = {'row': 1, 'column': 1 }, \n",
    "    title = {'text': 'Total Bail Paid'})\n",
    "\n",
    "# Set up figure as 2x2 grid of the cards in the order specified\n",
    "card_fig = go.FigureWidget()\n",
    "card_fig.add_trace(cases)\n",
    "card_fig.add_trace(frequency)\n",
    "card_fig.add_trace(amount)\n",
    "card_fig.add_trace(paid)\n",
    "card_fig.update_layout(\n",
    "    grid = {'rows': 2, 'columns': 2, 'pattern': \"independent\"})\n",
    "\n",
    "# Function that updates each card based on the new date range selected on slider\n",
    "def response(change):\n",
    "    # New date range and filter df\n",
    "    start, end = select_date.value[0], select_date.value[1]\n",
    "    tmp = df[(df['bail_date'] >= start)&(df['bail_date'] <= end)]\n",
    "    \n",
    "    # Update values for each card\n",
    "    card_fig.data[0].value = len(tmp)\n",
    "    card_fig.data[1].value = len(tmp[tmp['bail_type'] == 'Monetary']) / len(tmp) * 100.\n",
    "    card_fig.data[2].value = tmp['bail_amount'].sum()\n",
    "    card_fig.data[3].value = tmp['bail_paid'].sum()\n",
    "\n",
    "# Set up date range slider to update cards\n",
    "select_date.observe(response, names='value')\n",
    "\n",
    "widgets.VBox([select_date, card_fig])"
   ]
  },
  {
   "cell_type": "markdown",
   "metadata": {},
   "source": [
    "# 2. Visualizations on magistrate information"
   ]
  },
  {
   "cell_type": "markdown",
   "metadata": {},
   "source": [
    "## 2.1 Select magistrates to include in the analysis  \n",
    "* Out of 612 magistrates in data, select magistrates to analyze"
   ]
  },
  {
   "cell_type": "code",
   "execution_count": 18,
   "metadata": {},
   "outputs": [
    {
     "name": "stdout",
     "output_type": "stream",
     "text": [
      "Total number of magistrates:  612\n"
     ]
    }
   ],
   "source": [
    "print('Total number of magistrates: ', len(df['bail_set_by'].value_counts()))"
   ]
  },
  {
   "cell_type": "markdown",
   "metadata": {},
   "source": [
    "<b> Total number of cases handled by each magistrate </b>"
   ]
  },
  {
   "cell_type": "code",
   "execution_count": 19,
   "metadata": {
    "scrolled": true
   },
   "outputs": [
    {
     "data": {
      "image/png": "[encoded data removed]",
      "text/plain": [
       "<Figure size 432x288 with 1 Axes>"
      ]
     },
     "metadata": {
      "needs_background": "light"
     },
     "output_type": "display_data"
    }
   ],
   "source": [
    "n_magistrates = 11\n",
    "plt.barh(df['bail_set_by'].value_counts()[:n_magistrates].keys()[::-1], df['bail_set_by'].value_counts()[:n_magistrates].values[::-1])\n",
    "plt.xlabel('number of cases')\n",
    "plt.ylabel('magistrate')\n",
    "plt.title('Total number of cases by magistrate')\n",
    "plt.show()"
   ]
  },
  {
   "cell_type": "code",
   "execution_count": 20,
   "metadata": {},
   "outputs": [
    {
     "name": "stdout",
     "output_type": "stream",
     "text": [
      "Total number of magistrates (with valid bail type): 610\n",
      "Number of magistrates with more than 175 cases: 12\n"
     ]
    }
   ],
   "source": [
    "# create dataframe summarizing magistrate-level information\n",
    "df_magistrate = pd.crosstab(index = df['bail_set_by'], columns =df['bail_type'])\n",
    "# note: total excludes any entries with 'bail_type' == NaN\n",
    "df_magistrate['Total'] = df_magistrate.sum(axis = 1)\n",
    "df_magistrate.sort_values(by = ['Total'], ascending = False, inplace = True)\n",
    "print('Total number of magistrates (with valid bail type): {0}'.format(len(df_magistrate.index)))\n",
    "\n",
    "# Magistrates that were involved in more than caseFloor cases\n",
    "caseFloor = 175\n",
    "magistrates = df_magistrate[df_magistrate['Total'] > caseFloor].index\n",
    "print(\"Number of magistrates with more than {0} cases: {1}\".format(caseFloor, len(magistrates)))"
   ]
  },
  {
   "cell_type": "code",
   "execution_count": 21,
   "metadata": {
    "scrolled": true
   },
   "outputs": [
    {
     "data": {
      "image/png": "[encoded data removed]",
      "text/plain": [
       "<Figure size 1440x432 with 12 Axes>"
      ]
     },
     "metadata": {
      "needs_background": "light"
     },
     "output_type": "display_data"
    }
   ],
   "source": [
    "# get date ranges\n",
    "start_date = datetime.date(2020, 1, 1)\n",
    "end_date = datetime.date(2020, 12, 31)\n",
    "delta = relativedelta(months = 1)\n",
    "date_range = []\n",
    "\n",
    "while start_date <= end_date:\n",
    "    date_range.append(start_date)\n",
    "    start_date += delta\n",
    "\n",
    "# plot\n",
    "fig, ax = plt.subplots(nrows = 2, ncols = 6, figsize = (20, 6))\n",
    "plt.rcParams['font.size'] = 10\n",
    "fig.suptitle('prelim hearing date for magistrate')\n",
    "for idx, name in enumerate(magistrates):\n",
    "    row = idx // 6\n",
    "    col = idx % 6\n",
    "    ax[row][col].hist(df[df['bail_set_by'] == name].prelim_hearing_dt, bins = 12, range = (datetime.date(2020,1,1), datetime.date(2020, 12 ,31)))\n",
    "    ax[row][col].set_title(name)\n",
    "\n",
    "for sub in ax.flat:\n",
    "    sub.set_xticks(date_range)\n",
    "    sub.set_xticklabels([item.month for item in date_range])\n",
    "    sub.set_xlabel('month')\n",
    "    sub.set_ylabel('count')\n",
    "plt.tight_layout()\n",
    "plt.show()"
   ]
  },
  {
   "cell_type": "markdown",
   "metadata": {},
   "source": [
    "<b> <font color='red'>Questions</font> </b>\n",
    "1. Are 'Emergency Arraignment Court Magistrate' and 'E-Filing Judge' the same entity? (I assumed this was the case)\n",
    "2. Are 'E-Filing Judge' filed under a different name starting October? Not sure why we don't see 'E-Filing Judge' after October  \n",
    "3. Who are these 'Emergency Arraignment Court Magistrate' and 'E-Filing Judge'?\n",
    "4. Who are the magistrates (Riamaiden-DeLeon, Williams, Rainey, Connor, Devlin, Rodriguez) that were involved only during part of the year? "
   ]
  },
  {
   "cell_type": "code",
   "execution_count": 22,
   "metadata": {
    "scrolled": true
   },
   "outputs": [],
   "source": [
    "# Correct 'Emergency Arraignment Court Magistrate' to 'E-Filing Judge'\n",
    "df['bail_set_by'] = df['bail_set_by'].apply(lambda x: 'E-Filing Judge' if x == 'Emergency Arraignment Court Magistrate' else x)"
   ]
  },
  {
   "cell_type": "code",
   "execution_count": 23,
   "metadata": {
    "scrolled": false
   },
   "outputs": [
    {
     "name": "stdout",
     "output_type": "stream",
     "text": [
      "Selected magistrates: \n",
      "Bernard, Francis X.\n",
      "O'Brien, James\n",
      "Stack, Patrick\n",
      "Rigmaiden-DeLeon, Marilyn\n",
      "E-Filing Judge\n",
      "Williams, Naomi\n",
      "Rainey, Debra\n",
      "Connor, Lauren\n",
      "Devlin, Kevin R.\n",
      "\n",
      "Selected core magistrates: \n",
      "Bernard, Francis X.\n",
      "Rigmaiden-DeLeon, Marilyn\n",
      "O'Brien, James\n",
      "Stack, Patrick\n",
      "E-Filing Judge\n"
     ]
    }
   ],
   "source": [
    "# select magistrates \n",
    "magistrates = ['Bernard, Francis X.', \n",
    "               \"O'Brien, James\", \n",
    "               'Stack, Patrick', \n",
    "               'Rigmaiden-DeLeon, Marilyn',\n",
    "               'E-Filing Judge', \n",
    "               'Williams, Naomi',\n",
    "               'Rainey, Debra', \n",
    "               'Connor, Lauren', \n",
    "               'Devlin, Kevin R.']\n",
    "print(\"Selected magistrates: \")\n",
    "for name in magistrates:\n",
    "    print(name)\n",
    "    \n",
    "# select core magistrates\n",
    "core_magistrates = ['Bernard, Francis X.', 'Rigmaiden-DeLeon, Marilyn', \"O'Brien, James\", 'Stack, Patrick', 'E-Filing Judge']\n",
    "print(\"\\nSelected core magistrates: \")\n",
    "for name in core_magistrates:\n",
    "    print(name)\n",
    "    \n",
    "# create column\n",
    "df['core_magistrate'] = df['bail_set_by'].apply(lambda x: 1 if x in core_magistrates else 0)"
   ]
  },
  {
   "cell_type": "markdown",
   "metadata": {},
   "source": [
    "## 2.2 Are preliminary hearing date and time related to magistrates?"
   ]
  },
  {
   "cell_type": "markdown",
   "metadata": {},
   "source": [
    "This may be relevant, as offense severity may depend on hearing time "
   ]
  },
  {
   "cell_type": "code",
   "execution_count": 24,
   "metadata": {
    "scrolled": true
   },
   "outputs": [
    {
     "data": {
      "image/png": "[encoded data removed]",
      "text/plain": [
       "<Figure size 1080x432 with 10 Axes>"
      ]
     },
     "metadata": {
      "needs_background": "light"
     },
     "output_type": "display_data"
    }
   ],
   "source": [
    "df['prelim_hearing_hour'] = df['prelim_hearing_time'].apply(lambda x: x.hour)\n",
    "# prelim hearing time (hour) of each magistrate\n",
    "\n",
    "fig, ax = plt.subplots(nrows = 2, ncols = 5, figsize = (15, 6))\n",
    "plt.rcParams['font.size'] = 10\n",
    "fig.suptitle('prelim hearing time for magistrate')\n",
    "for idx, name in enumerate(magistrates):\n",
    "    row = idx // 5\n",
    "    col = idx % 5 \n",
    "    ax[row][col].hist(df[df['bail_set_by'] == name].prelim_hearing_hour, bins=24, range=(0,24))\n",
    "    ax[row][col].set_title(name)\n",
    "\n",
    "for sub in ax.flat:\n",
    "    sub.set_xlim(0,24)\n",
    "    sub.set_xlabel('prelim hearing time')\n",
    "    sub.set_ylabel('case count')\n",
    "plt.tight_layout()\n",
    "plt.show()"
   ]
  },
  {
   "cell_type": "markdown",
   "metadata": {},
   "source": [
    "## 2.3 Summary of bail type and bail amount by magistrate"
   ]
  },
  {
   "cell_type": "code",
   "execution_count": 25,
   "metadata": {},
   "outputs": [
    {
     "data": {
      "image/png": "[encoded data removed]",
      "text/plain": [
       "<Figure size 432x288 with 1 Axes>"
      ]
     },
     "metadata": {
      "needs_background": "light"
     },
     "output_type": "display_data"
    }
   ],
   "source": [
    "monetary = df_magistrate['Monetary'][magistrates].values[::-1]\n",
    "ROR = df_magistrate['ROR'][magistrates].values[::-1]\n",
    "Unsecured = df_magistrate['Unsecured'][magistrates].values[::-1]\n",
    "Nonmonetary = df_magistrate['Nonmonetary'][magistrates].values[::-1]\n",
    "Nominal = df_magistrate['Nominal'][magistrates].values[::-1]\n",
    "ind = range(len(magistrates))\n",
    "\n",
    "plt.barh(ind, monetary)\n",
    "plt.barh(ind, ROR, left = monetary)\n",
    "plt.barh(ind, Unsecured, left = monetary + ROR)\n",
    "plt.barh(ind, Nonmonetary, left = monetary + ROR + Unsecured)\n",
    "plt.barh(ind, Nominal, left = monetary + ROR + Unsecured + Nonmonetary)\n",
    "plt.legend(labels = ['Monetary', 'ROR', 'Unsecured', 'Nonmonetary', 'Nominal'])\n",
    "plt.ylabel('magistrate')\n",
    "plt.yticks(ind, magistrates[::-1])\n",
    "plt.ylabel('case count')\n",
    "plt.title('Bail type by magistrate')\n",
    "plt.show()"
   ]
  },
  {
   "cell_type": "code",
   "execution_count": 26,
   "metadata": {
    "scrolled": true
   },
   "outputs": [
    {
     "data": {
      "image/png": "[encoded data removed]",
      "text/plain": [
       "<Figure size 1080x360 with 5 Axes>"
      ]
     },
     "metadata": {},
     "output_type": "display_data"
    }
   ],
   "source": [
    "# Pie chart of core magistrates\n",
    "\n",
    "# combine 'nominal' and 'nonmonetary' to 'other'\n",
    "df_magistrate['Other'] = df_magistrate['Nominal'] + df_magistrate['Nonmonetary']\n",
    "\n",
    "bail_types = ['Monetary','ROR', 'Unsecured', 'Other']\n",
    "fig, ax = plt.subplots(ncols = 5, figsize = (15, 5))\n",
    "plt.rcParams['font.size'] = 10\n",
    "fig.suptitle('% of bail type for magistrate')\n",
    "for idx, name in enumerate(core_magistrates):\n",
    "    ax[idx].pie(df_magistrate.loc[name, bail_types], labels = bail_types, autopct='%1.0f%%')\n",
    "    ax[idx].set_title(name)\n",
    "\n",
    "# common legend\n",
    "fig.subplots_adjust(top=0.9, left=0.1, right=0.9, bottom=0.12)  # create some space below the plots by increasing the bottom-value\n",
    "ax.flatten()[-2].legend(loc='upper center', bbox_to_anchor=(-0.7, 0), ncol=4)\n",
    "\n",
    "plt.show()"
   ]
  },
  {
   "cell_type": "code",
   "execution_count": 27,
   "metadata": {
    "scrolled": true
   },
   "outputs": [
    {
     "data": {
      "image/png": "[encoded data removed]",
      "text/plain": [
       "<Figure size 432x288 with 1 Axes>"
      ]
     },
     "metadata": {
      "needs_background": "light"
     },
     "output_type": "display_data"
    }
   ],
   "source": [
    "# plot bail amount (bar plot) by magistrate\n",
    "df['magistrate'] = df['bail_set_by'].apply(lambda x: 1 if x in magistrates else 0)\n",
    "df_monetary = df[(df['bail_type'] == 'Monetary') & (df['magistrate'] == 1)][['bail_set_by', 'bail_amount']]\n",
    "\n",
    "# order by median amount\n",
    "order = df_monetary.groupby(['bail_set_by']).bail_amount.median().sort_values(ascending = False).keys()\n",
    "\n",
    "# plot\n",
    "plt.rcParams['font.size'] = 10\n",
    "sns.boxplot( y=df_monetary[\"bail_set_by\"], x=df[\"bail_amount\"], \n",
    "           order = order)\n",
    "plt.xlim(0, 300000)\n",
    "plt.xlabel('bail amount')\n",
    "plt.xticks(ticks = range(0, 350000, 50000), labels = ['0','50k','100k','150k','200k','250k','300k'])\n",
    "plt.ylabel('magistrate')\n",
    "plt.title('bail amount by magistrate')\n",
    "plt.show()"
   ]
  },
  {
   "cell_type": "code",
   "execution_count": 28,
   "metadata": {},
   "outputs": [
    {
     "data": {
      "image/png": "[encoded data removed]",
      "text/plain": [
       "<Figure size 432x288 with 1 Axes>"
      ]
     },
     "metadata": {
      "needs_background": "light"
     },
     "output_type": "display_data"
    }
   ],
   "source": [
    "# plot bail amount (bar plot) for core magistrates\n",
    "df['core_magistrate'] = df['bail_set_by'].apply(lambda x: 1 if x in core_magistrates else 0)\n",
    "df_monetary = df[(df['bail_type'] == 'Monetary') & (df['core_magistrate'] == 1)][['bail_set_by', 'bail_amount']]\n",
    "\n",
    "# Bail amount by groups\n",
    "plt.rcParams['font.size'] = 10\n",
    "sns.boxplot( y=df_monetary[\"bail_set_by\"], x=df[\"bail_amount\"], order = core_magistrates)\n",
    "plt.xlim(0, 300000)\n",
    "plt.xlabel('bail amount')\n",
    "plt.xticks(ticks = range(0, 350000, 50000), labels = ['0','50k','100k','150k','200k','250k','300k'])\n",
    "plt.ylabel('magistrate')\n",
    "plt.title('bail amount by magistrate')\n",
    "plt.show()"
   ]
  },
  {
   "cell_type": "markdown",
   "metadata": {},
   "source": [
    "* These can be useful summaries to include.  \n",
    "* However, these summaries cannot tell if particular magistrates are \"worse\" than others. See analysis below"
   ]
  },
  {
   "cell_type": "markdown",
   "metadata": {},
   "source": [
    "## 2.4 Are specific magistrates more likely to handle specific types of offenses?"
   ]
  },
  {
   "cell_type": "code",
   "execution_count": 29,
   "metadata": {},
   "outputs": [
    {
     "name": "stdout",
     "output_type": "stream",
     "text": [
      "number of offense types:  38\n"
     ]
    }
   ],
   "source": [
    "offense_types = []\n",
    "for i in range(df.shape[0]):\n",
    "    case_offense = df.at[i,'offense_type']\n",
    "    for item in case_offense:\n",
    "        if item not in offense_types:\n",
    "            offense_types.append(item)\n",
    "            \n",
    "n_offense_type = len(offense_types)\n",
    "print('number of offense types: ', n_offense_type)"
   ]
  },
  {
   "cell_type": "code",
   "execution_count": 30,
   "metadata": {},
   "outputs": [],
   "source": [
    "# add offense type as separate columns\n",
    "df[offense_types] = 0\n",
    "\n",
    "# entry 1 if the particular offense type occured in the case\n",
    "for i in range(df.shape[0]):\n",
    "    case_offense = df.at[i,'offense_type']\n",
    "    for item in case_offense: \n",
    "        for category in offense_types:\n",
    "            if item == category:\n",
    "                df.at[i, category] = 1"
   ]
  },
  {
   "cell_type": "code",
   "execution_count": 31,
   "metadata": {},
   "outputs": [
    {
     "data": {
      "text/plain": [
       "assault                                                     7405\n",
       "inchoate crimes                                             7331\n",
       "drug and substance                                          5735\n",
       "theft and related offenses                                  3808\n",
       "firearms and other dangerous articles                       3135\n",
       "arson, criminal mischief, and other property destruction    1726\n",
       "burglary and other criminal intrusion                       1721\n",
       "driving after imbibing alcohol or utilizing drugs           1696\n",
       "robbery                                                     1107\n",
       "domestic relations and abuse                                 864\n",
       "dtype: int64"
      ]
     },
     "execution_count": 31,
     "metadata": {},
     "output_type": "execute_result"
    }
   ],
   "source": [
    "# frequency of offense types\n",
    "df[offense_types].sum(axis = 0).sort_values(ascending = False)[:10]"
   ]
  },
  {
   "cell_type": "code",
   "execution_count": 32,
   "metadata": {},
   "outputs": [],
   "source": [
    "# combine offense types with frequency < 50 into one column 'offense type: other'\n",
    "\n",
    "offense_type_others = df[offense_types].sum(axis = 0).sort_values(ascending = False)[-9:].keys()\n",
    "df['offense_type_others'] = df[offense_type_others].sum(axis=1)\n",
    "df.drop(columns = offense_type_others, inplace = True)\n",
    "offense_types = [item for item in offense_types if item not in offense_type_others]\n",
    "offense_types.append('offense_type_others')"
   ]
  },
  {
   "cell_type": "code",
   "execution_count": 33,
   "metadata": {},
   "outputs": [],
   "source": [
    "# dataframe to study correlation between offense type and magistrates\n",
    "df_offense = df.groupby('bail_set_by').sum().loc[core_magistrates, offense_types]\n",
    "df_offense['Total'] = df.groupby('bail_set_by').size()[core_magistrates]"
   ]
  },
  {
   "cell_type": "code",
   "execution_count": 30,
   "metadata": {},
   "outputs": [],
   "source": [
    "# Visualize: For each magistrate, what % of cases concern the top 5 offense types?"
   ]
  },
  {
   "cell_type": "code",
   "execution_count": 44,
   "metadata": {},
   "outputs": [],
   "source": [
    "def chisquare_by_column(df_offense, column):\n",
    "    df_chi = df_offense.copy()\n",
    "    df_chi['not'] = df_chi['Total'] - df_chi[column]\n",
    "    # chi-squared test\"\n",
    "    chi2, p, dof, ex = chi2_contingency(df_chi[[column, 'not']])\n",
    "    return p"
   ]
  },
  {
   "cell_type": "code",
   "execution_count": 45,
   "metadata": {
    "scrolled": true
   },
   "outputs": [
    {
     "name": "stdout",
     "output_type": "stream",
     "text": [
      "Topics with significant p-values\n",
      "p-value for offense type driving after imbibing alcohol or utilizing drugs : 0.0000\n",
      "p-value for offense type general traffic offense : 0.0091\n",
      "p-value for offense type assault : 0.0093\n",
      "p-value for offense type inchoate crimes : 0.0005\n",
      "p-value for offense type drug and substance : 0.0000\n",
      "p-value for offense type firearms and other dangerous articles : 0.0000\n",
      "p-value for offense type sexual offenses : 0.0021\n",
      "p-value for offense type kidnapping : 0.0454\n",
      "p-value for offense type burglary and other criminal intrusion : 0.0006\n",
      "p-value for offense type forgery and fraudulent practices : 0.0000\n",
      "p-value for offense type domestic relations and abuse : 0.0026\n",
      "p-value for offense type vehicles: lighting equipment : 0.0013\n",
      "p-value for offense type falsification and intimidation : 0.0000\n",
      "p-value for offense type criminal homicide : 0.0002\n",
      "p-value for offense type other offenses : 0.0012\n",
      "p-value for offense type minors : 0.0049\n",
      "p-value for offense type public indecency : 0.0248\n"
     ]
    }
   ],
   "source": [
    "print('Topics with significant p-values')\n",
    "for offense in offense_types:\n",
    "    p = chisquare_by_column(df_offense, offense)\n",
    "    if p < 0.05:\n",
    "        print('p-value for offense type %s : %.4f' %(offense, p))"
   ]
  },
  {
   "cell_type": "markdown",
   "metadata": {},
   "source": [
    "* The above shows that some magistrates are more likely to handle cases involving particular offenses.\n",
    "* When we analyze magistrate's effect on bail type and bail amount, we should control for the different types of offenses handled by each magistrate. -- Do a matched study\n"
   ]
  },
  {
   "cell_type": "markdown",
   "metadata": {},
   "source": [
    "## 2.5 Do bail type and bail amount depend on the magistrate (controlling for offenses)? \n",
    "\n",
    "#### Matched study   \n",
    "* The above analysis shows that offense types are not equally represented across magistrates. (That is, some magistrates are more likely to handle cases involving specific offenses)  \n",
    "* We want to examine whether bail type and bail amount depends on the magistrate while controling for the difference in offense type. \n",
    "* Conduct a matched study, where we pair the cases handled by each magistrate based on offenses.\n",
    "* Use the statute numbers to perform the matching."
   ]
  },
  {
   "cell_type": "code",
   "execution_count": 46,
   "metadata": {},
   "outputs": [],
   "source": [
    "# Extract cases involving core magistrates\n",
    "df_core = df[df['core_magistrate'] == 1]\n",
    "df_core.reset_index(drop = True, inplace = True)"
   ]
  },
  {
   "cell_type": "code",
   "execution_count": 47,
   "metadata": {},
   "outputs": [
    {
     "name": "stdout",
     "output_type": "stream",
     "text": [
      "number of statutes:  484\n"
     ]
    }
   ],
   "source": [
    "# number of different offenses (statutes) represented\n",
    "all_statutes = []\n",
    "for i in range(df_core.shape[0]):\n",
    "    statutes = df_core.at[i,'statute']\n",
    "    for item in statutes:\n",
    "        if item not in all_statutes:\n",
    "            all_statutes.append(item)\n",
    "            \n",
    "n_statutes = len(all_statutes)\n",
    "print('number of statutes: ', n_statutes)"
   ]
  },
  {
   "cell_type": "code",
   "execution_count": 35,
   "metadata": {},
   "outputs": [],
   "source": [
    "# Create new columns, one for each statute\n",
    "df_core[all_statutes] = 0\n",
    "\n",
    "# update columns for each statute\n",
    "for i in range(df_core.shape[0]):\n",
    "    statutes = df_core.at[i,'statute']\n",
    "    for item in statutes: \n",
    "        for category in all_statutes:\n",
    "            if item == category:\n",
    "                df_core.at[i, category] += 1"
   ]
  },
  {
   "cell_type": "code",
   "execution_count": 37,
   "metadata": {},
   "outputs": [],
   "source": [
    "# compute distance among cases based on statute features\n",
    "dis = pdist(np.array(df_core[all_statutes]), 'cosine')\n",
    "distance = squareform(dis)"
   ]
  },
  {
   "cell_type": "code",
   "execution_count": 38,
   "metadata": {},
   "outputs": [
    {
     "data": {
      "image/png": "[encoded data removed]",
      "text/plain": [
       "<Figure size 432x288 with 1 Axes>"
      ]
     },
     "metadata": {
      "needs_background": "light"
     },
     "output_type": "display_data"
    }
   ],
   "source": [
    "# plot histogram of pairwise distances among cases\n",
    "plt.hist(dis)\n",
    "plt.xlabel('distance')\n",
    "plt.ylabel('count')\n",
    "plt.title('Histogram of distances among cases')\n",
    "plt.show()"
   ]
  },
  {
   "cell_type": "markdown",
   "metadata": {},
   "source": [
    "Examples of similar cases and their distances"
   ]
  },
  {
   "cell_type": "code",
   "execution_count": 39,
   "metadata": {
    "scrolled": true
   },
   "outputs": [
    {
     "name": "stdout",
     "output_type": "stream",
     "text": [
      "distance between case 98 and 275: 0.100\n",
      "\n",
      "offenses for case 98\n",
      "Manufacture, Delivery, or Possession With Intent to Manufacture or Deliver\n",
      "Deliver/Intent To Del Drug Para\n",
      "Int Poss Contr Subst By Per Not Reg\n",
      "Improper Turn / Green Light\n",
      "\n",
      "offenses for case 275\n",
      "Manufacture, Delivery, or Possession With Intent to Manufacture or Deliver\n",
      "Conspiracy\n",
      "Int Poss Contr Subst By Per Not Reg\n",
      "Poss Of Marijuana\n"
     ]
    }
   ],
   "source": [
    "# Example cases whose distance is around \"d\"\n",
    "d = 0.1\n",
    "args = np.where(np.isclose(distance, d))\n",
    "\n",
    "case1 = args[0][0]\n",
    "case2 = args[1][0]\n",
    "\n",
    "print('distance between case %d and %d: %.3f' %(case1, case2, distance[case1, case2]))\n",
    "print('\\noffenses for case %d' %case1)\n",
    "for item in df_core.at[case1,'offenses']:\n",
    "    print(item)\n",
    "print('\\noffenses for case %d' %case2)\n",
    "for item in df_core.at[case2,'offenses']:\n",
    "    print(item)"
   ]
  },
  {
   "cell_type": "code",
   "execution_count": 40,
   "metadata": {},
   "outputs": [],
   "source": [
    "# create dataframe for matched dataset\n",
    "columns = df_core.columns\n",
    "df_matched = pd.DataFrame(columns = columns)"
   ]
  },
  {
   "cell_type": "code",
   "execution_count": 41,
   "metadata": {
    "scrolled": true
   },
   "outputs": [],
   "source": [
    "n_cases = df_core.shape[0]\n",
    "\n",
    "for i in range(n_cases):\n",
    "    \n",
    "    # check that index \"i\" is present in df_core\n",
    "    if i in df_core.index:\n",
    "    \n",
    "        # find all cases with distance <= 0.01 \n",
    "        possible_idx = np.argwhere(distance[i,:] <= 0.01).flatten().tolist()\n",
    "        possible_idx = [item for item in possible_idx if item in df_core.index]\n",
    "\n",
    "        # check if every core_magistrate handled a similar case\n",
    "        df_possible = df_core.loc[possible_idx]\n",
    "        if len(df_possible.bail_set_by.value_counts()) == len(core_magistrates):\n",
    "            \n",
    "            # add case to df_matched\n",
    "            df_matched = pd.concat([df_matched, df_core.loc[[i]]])\n",
    "            # record magistrate\n",
    "            magistrate = df_core.at[i,'bail_set_by']\n",
    "            # remove case from df_core\n",
    "            df_core.drop(i, inplace = True)\n",
    "\n",
    "            # add the closest cases for each magistrate\n",
    "            for name in core_magistrates:\n",
    "                if name != magistrate: \n",
    "                    idx = df_possible[df_possible['bail_set_by'] == name].index\n",
    "                    j = np.argmin(distance[i, idx])\n",
    "                    df_matched = pd.concat([df_matched, df_core.loc[[idx[j]]]])\n",
    "                    df_core.drop(idx[j], inplace = True)   \n",
    "                    \n",
    "# reset index                   \n",
    "df_matched.reset_index(inplace = True)"
   ]
  },
  {
   "cell_type": "code",
   "execution_count": 42,
   "metadata": {},
   "outputs": [
    {
     "name": "stdout",
     "output_type": "stream",
     "text": [
      "number of matched cases:  3455\n"
     ]
    }
   ],
   "source": [
    "print('number of matched cases: ', df_matched.shape[0])"
   ]
  },
  {
   "cell_type": "code",
   "execution_count": 60,
   "metadata": {},
   "outputs": [
    {
     "data": {
      "text/html": [
       "<div>\n",
       "<style scoped>\n",
       "    .dataframe tbody tr th:only-of-type {\n",
       "        vertical-align: middle;\n",
       "    }\n",
       "\n",
       "    .dataframe tbody tr th {\n",
       "        vertical-align: top;\n",
       "    }\n",
       "\n",
       "    .dataframe thead th {\n",
       "        text-align: right;\n",
       "    }\n",
       "</style>\n",
       "<table border=\"1\" class=\"dataframe\">\n",
       "  <thead>\n",
       "    <tr style=\"text-align: right;\">\n",
       "      <th></th>\n",
       "      <th>index</th>\n",
       "      <th>attorney</th>\n",
       "      <th>attorney_type</th>\n",
       "      <th>offenses</th>\n",
       "      <th>offense_date</th>\n",
       "      <th>statute</th>\n",
       "      <th>offense_type</th>\n",
       "      <th>bail_set_by</th>\n",
       "      <th>bail_amount</th>\n",
       "      <th>bail_paid</th>\n",
       "      <th>...</th>\n",
       "      <th>18 § 2909</th>\n",
       "      <th>18 § 6161</th>\n",
       "      <th>18 § 7306</th>\n",
       "      <th>18 § 2905</th>\n",
       "      <th>75 § 3734</th>\n",
       "      <th>75 § 6308</th>\n",
       "      <th>18 § 3122.1 §§ A2 18 § 3126 §§ A2</th>\n",
       "      <th>18 § 5124</th>\n",
       "      <th>75 § 3322</th>\n",
       "      <th>18 § 2707.2</th>\n",
       "    </tr>\n",
       "  </thead>\n",
       "  <tbody>\n",
       "    <tr>\n",
       "      <th>2000</th>\n",
       "      <td>2203</td>\n",
       "      <td>Defender Association of Philadelphia</td>\n",
       "      <td>Public</td>\n",
       "      <td>[DUI: Gen Imp/Inc of Driving Safely - 1st Off]</td>\n",
       "      <td>2020-02-13</td>\n",
       "      <td>[75 § 3802]</td>\n",
       "      <td>[driving after imbibing alcohol or utilizing d...</td>\n",
       "      <td>E-Filing Judge</td>\n",
       "      <td>0.0</td>\n",
       "      <td>0.0</td>\n",
       "      <td>...</td>\n",
       "      <td>0</td>\n",
       "      <td>0</td>\n",
       "      <td>0</td>\n",
       "      <td>0</td>\n",
       "      <td>0</td>\n",
       "      <td>0</td>\n",
       "      <td>0</td>\n",
       "      <td>0</td>\n",
       "      <td>0</td>\n",
       "      <td>0</td>\n",
       "    </tr>\n",
       "    <tr>\n",
       "      <th>2001</th>\n",
       "      <td>5282</td>\n",
       "      <td>Defender Association of Philadelphia</td>\n",
       "      <td>Public</td>\n",
       "      <td>[DUI: Gen Imp/Inc of Driving Safely - 1st Off]</td>\n",
       "      <td>2020-05-06</td>\n",
       "      <td>[75 § 3802]</td>\n",
       "      <td>[driving after imbibing alcohol or utilizing d...</td>\n",
       "      <td>Bernard, Francis X.</td>\n",
       "      <td>0.0</td>\n",
       "      <td>0.0</td>\n",
       "      <td>...</td>\n",
       "      <td>0</td>\n",
       "      <td>0</td>\n",
       "      <td>0</td>\n",
       "      <td>0</td>\n",
       "      <td>0</td>\n",
       "      <td>0</td>\n",
       "      <td>0</td>\n",
       "      <td>0</td>\n",
       "      <td>0</td>\n",
       "      <td>0</td>\n",
       "    </tr>\n",
       "    <tr>\n",
       "      <th>2002</th>\n",
       "      <td>13924</td>\n",
       "      <td>Defender Association of Philadelphia</td>\n",
       "      <td>Public</td>\n",
       "      <td>[DUI: Gen Imp/Inc of Driving Safely - 1st Off]</td>\n",
       "      <td>2020-11-18</td>\n",
       "      <td>[75 § 3802]</td>\n",
       "      <td>[driving after imbibing alcohol or utilizing d...</td>\n",
       "      <td>Rigmaiden-DeLeon, Marilyn</td>\n",
       "      <td>0.0</td>\n",
       "      <td>0.0</td>\n",
       "      <td>...</td>\n",
       "      <td>0</td>\n",
       "      <td>0</td>\n",
       "      <td>0</td>\n",
       "      <td>0</td>\n",
       "      <td>0</td>\n",
       "      <td>0</td>\n",
       "      <td>0</td>\n",
       "      <td>0</td>\n",
       "      <td>0</td>\n",
       "      <td>0</td>\n",
       "    </tr>\n",
       "    <tr>\n",
       "      <th>2003</th>\n",
       "      <td>2746</td>\n",
       "      <td>Defender Association of Philadelphia</td>\n",
       "      <td>Public</td>\n",
       "      <td>[DUI: Gen Imp/Inc of Driving Safely - 1st Off]</td>\n",
       "      <td>2020-02-22</td>\n",
       "      <td>[75 § 3802]</td>\n",
       "      <td>[driving after imbibing alcohol or utilizing d...</td>\n",
       "      <td>O'Brien, James</td>\n",
       "      <td>0.0</td>\n",
       "      <td>0.0</td>\n",
       "      <td>...</td>\n",
       "      <td>0</td>\n",
       "      <td>0</td>\n",
       "      <td>0</td>\n",
       "      <td>0</td>\n",
       "      <td>0</td>\n",
       "      <td>0</td>\n",
       "      <td>0</td>\n",
       "      <td>0</td>\n",
       "      <td>0</td>\n",
       "      <td>0</td>\n",
       "    </tr>\n",
       "    <tr>\n",
       "      <th>2004</th>\n",
       "      <td>4125</td>\n",
       "      <td>Joseph Kevin Kelly</td>\n",
       "      <td>Private</td>\n",
       "      <td>[DUI: Gen Imp/Inc of Driving Safely - 1st Off]</td>\n",
       "      <td>2020-03-16</td>\n",
       "      <td>[75 § 3802]</td>\n",
       "      <td>[driving after imbibing alcohol or utilizing d...</td>\n",
       "      <td>Stack, Patrick</td>\n",
       "      <td>0.0</td>\n",
       "      <td>0.0</td>\n",
       "      <td>...</td>\n",
       "      <td>0</td>\n",
       "      <td>0</td>\n",
       "      <td>0</td>\n",
       "      <td>0</td>\n",
       "      <td>0</td>\n",
       "      <td>0</td>\n",
       "      <td>0</td>\n",
       "      <td>0</td>\n",
       "      <td>0</td>\n",
       "      <td>0</td>\n",
       "    </tr>\n",
       "  </tbody>\n",
       "</table>\n",
       "<p>5 rows × 545 columns</p>\n",
       "</div>"
      ],
      "text/plain": [
       "      index                                attorney attorney_type  \\\n",
       "2000   2203   Defender Association of Philadelphia         Public   \n",
       "2001   5282   Defender Association of Philadelphia         Public   \n",
       "2002  13924   Defender Association of Philadelphia         Public   \n",
       "2003   2746   Defender Association of Philadelphia         Public   \n",
       "2004   4125                     Joseph Kevin Kelly        Private   \n",
       "\n",
       "                                            offenses offense_date  \\\n",
       "2000  [DUI: Gen Imp/Inc of Driving Safely - 1st Off]   2020-02-13   \n",
       "2001  [DUI: Gen Imp/Inc of Driving Safely - 1st Off]   2020-05-06   \n",
       "2002  [DUI: Gen Imp/Inc of Driving Safely - 1st Off]   2020-11-18   \n",
       "2003  [DUI: Gen Imp/Inc of Driving Safely - 1st Off]   2020-02-22   \n",
       "2004  [DUI: Gen Imp/Inc of Driving Safely - 1st Off]   2020-03-16   \n",
       "\n",
       "          statute                                       offense_type  \\\n",
       "2000  [75 § 3802]  [driving after imbibing alcohol or utilizing d...   \n",
       "2001  [75 § 3802]  [driving after imbibing alcohol or utilizing d...   \n",
       "2002  [75 § 3802]  [driving after imbibing alcohol or utilizing d...   \n",
       "2003  [75 § 3802]  [driving after imbibing alcohol or utilizing d...   \n",
       "2004  [75 § 3802]  [driving after imbibing alcohol or utilizing d...   \n",
       "\n",
       "                    bail_set_by  bail_amount  bail_paid  ... 18 § 2909  \\\n",
       "2000             E-Filing Judge          0.0        0.0  ...         0   \n",
       "2001        Bernard, Francis X.          0.0        0.0  ...         0   \n",
       "2002  Rigmaiden-DeLeon, Marilyn          0.0        0.0  ...         0   \n",
       "2003             O'Brien, James          0.0        0.0  ...         0   \n",
       "2004             Stack, Patrick          0.0        0.0  ...         0   \n",
       "\n",
       "     18 § 6161 18 § 7306 18 § 2905 75 § 3734 75 § 6308  \\\n",
       "2000         0         0         0         0         0   \n",
       "2001         0         0         0         0         0   \n",
       "2002         0         0         0         0         0   \n",
       "2003         0         0         0         0         0   \n",
       "2004         0         0         0         0         0   \n",
       "\n",
       "     18 § 3122.1 §§ A2 18 § 3126 §§ A2 18 § 5124 75 § 3322 18 § 2707.2  \n",
       "2000                                 0         0         0           0  \n",
       "2001                                 0         0         0           0  \n",
       "2002                                 0         0         0           0  \n",
       "2003                                 0         0         0           0  \n",
       "2004                                 0         0         0           0  \n",
       "\n",
       "[5 rows x 545 columns]"
      ]
     },
     "execution_count": 60,
     "metadata": {},
     "output_type": "execute_result"
    }
   ],
   "source": [
    "# Checking the matched cases. \n",
    "# The result of the following should give cases of similar offense types \n",
    "# assigned to 5 different magistrates\n",
    "\n",
    "# enter any multiple of 5 as i\n",
    "i =2000 \n",
    "df_matched.loc[i:i+4]"
   ]
  },
  {
   "cell_type": "code",
   "execution_count": 55,
   "metadata": {},
   "outputs": [
    {
     "data": {
      "text/plain": [
       "bail_set_by\n",
       "Bernard, Francis X.          691\n",
       "E-Filing Judge               691\n",
       "O'Brien, James               691\n",
       "Rigmaiden-DeLeon, Marilyn    691\n",
       "Stack, Patrick               691\n",
       "Name: index, dtype: int64"
      ]
     },
     "execution_count": 55,
     "metadata": {},
     "output_type": "execute_result"
    }
   ],
   "source": [
    "# number of cases per magistrate\n",
    "df_matched.groupby('bail_set_by').index.count()"
   ]
  },
  {
   "cell_type": "code",
   "execution_count": 57,
   "metadata": {},
   "outputs": [],
   "source": [
    "# save\n",
    "# df_matched.to_csv('matched_data.csv')"
   ]
  },
  {
   "cell_type": "code",
   "execution_count": 61,
   "metadata": {},
   "outputs": [
    {
     "data": {
      "image/png": "[encoded data removed]",
      "text/plain": [
       "<Figure size 1080x360 with 5 Axes>"
      ]
     },
     "metadata": {},
     "output_type": "display_data"
    }
   ],
   "source": [
    "# Compare bail types by magistrate\n",
    "df_bailtype = pd.crosstab(index = df_matched['bail_set_by'], columns =df_matched['bail_type'])\n",
    "\n",
    "bail_types = ['Monetary','ROR', 'Unsecured', 'Nonmonetary']\n",
    "fig, ax = plt.subplots(ncols = 5, figsize = (15, 5))\n",
    "plt.rcParams['font.size'] = 10\n",
    "fig.suptitle('% of bail type for magistrate')\n",
    "for idx, name in enumerate(core_magistrates):\n",
    "    ax[idx].pie(df_bailtype.loc[name, bail_types], labels = bail_types, autopct='%1.0f%%')\n",
    "    ax[idx].set_title(name)\n",
    "\n",
    "# common legend\n",
    "fig.subplots_adjust(top=0.9, left=0.1, right=0.9, bottom=0.12)  # create some space below the plots by increasing the bottom-value\n",
    "ax.flatten()[-2].legend(loc='upper center', bbox_to_anchor=(-0.7, 0), ncol=4)\n",
    "\n",
    "plt.show()"
   ]
  },
  {
   "cell_type": "markdown",
   "metadata": {},
   "source": [
    "Q: Are bail type (monetary vs others) and magistrate related?  "
   ]
  },
  {
   "cell_type": "code",
   "execution_count": 65,
   "metadata": {},
   "outputs": [],
   "source": [
    "df_magistrate = pd.crosstab(index = df_matched['bail_set_by'], columns =df_matched['bail_type'])\n",
    "# note: total excludes any entries with 'bail_type' == NaN\n",
    "df_magistrate['Total'] = df_magistrate.sum(axis = 1)"
   ]
  },
  {
   "cell_type": "code",
   "execution_count": 68,
   "metadata": {},
   "outputs": [
    {
     "name": "stdout",
     "output_type": "stream",
     "text": [
      "p-value of chi-square test:  0.050961473793120306\n"
     ]
    }
   ],
   "source": [
    "# get column for non-monetary\n",
    "df_magistrate['non_monetary'] = df_magistrate['Total'] - df_magistrate['Monetary']\n",
    "df_chi = df_magistrate[['Monetary', 'non_monetary']]\n",
    "\n",
    "# chi-squared test\n",
    "chi2, p, dof, ex = chi2_contingency(df_chi.loc[core_magistrates])\n",
    "print('p-value of chi-square test: ', p)"
   ]
  },
  {
   "cell_type": "markdown",
   "metadata": {},
   "source": [
    "* At significance level 0.05, chi-square test tells us that **bail type (monetary vs other) and magistrate are not related.** \n",
    "* Note that there probably is a significant difference in whether someone gets ROR or not"
   ]
  },
  {
   "cell_type": "code",
   "execution_count": 62,
   "metadata": {},
   "outputs": [
    {
     "data": {
      "image/png": "[encoded data removed]",
      "text/plain": [
       "<Figure size 432x288 with 1 Axes>"
      ]
     },
     "metadata": {
      "needs_background": "light"
     },
     "output_type": "display_data"
    }
   ],
   "source": [
    "# Compare bail amounts by magistrate\n",
    "magistrates_list = ['Rigmaiden-DeLeon, Marilyn', 'Bernard, Francis X.', 'Stack, Patrick', 'E-Filing Judge', \"O'Brien, James\"]\n",
    "df_plot = df_matched[(df_matched['bail_type'] == 'Monetary')][['bail_set_by', 'bail_amount']]\n",
    "\n",
    "# Bail amount by groups\n",
    "plt.rcParams['font.size'] = 10\n",
    "sns.boxplot( y = df_plot[\"bail_set_by\"], x = df_plot[\"bail_amount\"], order = magistrates_list)\n",
    "plt.xlim(0, 150000)\n",
    "plt.xlabel('bail amount')\n",
    "plt.xticks(ticks = range(0, 150000, 50000), labels = ['0','50k','100k'])\n",
    "plt.ylabel('magistrate')\n",
    "plt.title('bail amount by magistrate')\n",
    "plt.show()"
   ]
  },
  {
   "cell_type": "markdown",
   "metadata": {},
   "source": [
    "Are these differences statistically significant?"
   ]
  },
  {
   "cell_type": "code",
   "execution_count": 73,
   "metadata": {},
   "outputs": [
    {
     "data": {
      "text/plain": [
       "bail_set_by\n",
       "Bernard, Francis X.          249\n",
       "E-Filing Judge               207\n",
       "O'Brien, James               245\n",
       "Rigmaiden-DeLeon, Marilyn    209\n",
       "Stack, Patrick               234\n",
       "Name: index, dtype: int64"
      ]
     },
     "execution_count": 73,
     "metadata": {},
     "output_type": "execute_result"
    }
   ],
   "source": [
    "# check that we have enough cases to analze \n",
    "# (Minimum 50 cases per magistrate)\n",
    "df_matched[df_matched['bail_type'] == \"Monetary\"].groupby('bail_set_by').index.count()"
   ]
  },
  {
   "cell_type": "code",
   "execution_count": 63,
   "metadata": {
    "scrolled": true
   },
   "outputs": [
    {
     "data": {
      "image/png": "[encoded data removed]",
      "text/plain": [
       "<Figure size 432x288 with 1 Axes>"
      ]
     },
     "metadata": {
      "needs_background": "light"
     },
     "output_type": "display_data"
    }
   ],
   "source": [
    "# matrix of differences (Just for core magistrates)\n",
    "magistrate_index = {}\n",
    "for idx, person in enumerate(magistrates_list):\n",
    "    magistrate_index[person] = idx\n",
    "\n",
    "\n",
    "df_monetary = df_matched[(df_matched['bail_type'] == 'Monetary')][['bail_set_by', 'bail_amount']]\n",
    "n_magistrates = len(magistrates_list)\n",
    "diff_matrix = np.zeros((n_magistrates, n_magistrates))\n",
    "\n",
    "for magistrate1 in core_magistrates:\n",
    "    for magistrate2 in core_magistrates:\n",
    "        if magistrate1 != magistrate2:\n",
    "            # select data for two magistrates\n",
    "            data1 = df_monetary[df_monetary['bail_set_by'] == magistrate1].bail_amount\n",
    "            data2 = df_monetary[df_monetary['bail_set_by'] == magistrate2].bail_amount\n",
    "\n",
    "            # Mann-Whitney U test \n",
    "            statistic, pvalue = mannwhitneyu(data1, data2, alternative = 'greater')\n",
    "            \n",
    "            # save p-values\n",
    "            if pvalue < 0.01:\n",
    "                idx1 = magistrate_index[magistrate1]\n",
    "                idx2 = magistrate_index[magistrate2]\n",
    "\n",
    "                diff_matrix[idx1, idx2] = 1\n",
    "  \n",
    "        \n",
    "# plot\n",
    "g = sns.heatmap(diff_matrix, linewidths=.5, annot = True, cbar = False)\n",
    "g.set_xticklabels(magistrates_list, rotation = 90)\n",
    "g.set_yticklabels(magistrates_list, rotation = 0)\n",
    "plt.show()"
   ]
  },
  {
   "cell_type": "markdown",
   "metadata": {},
   "source": [
    "* Interpretation\n",
    "    * If entry at particular row and column is white: Bail set by row-magistrate is likely to be higher than bail set by column-magistrate\n",
    "    * If X: bail set by row magistrate, Y: bail set by column-magistrate, P(X>Y) > 0.5\n",
    "* first row: Bail set by Rigmaiden-DeLeon is likely to be higher than bail set by Stack, E-filing Judge, and O'Brien\n",
    "* second row: Bail set by Bernard is likely to be higher than bail set by Stack, E-filing Judge, and O'Brien\n",
    "* third row: Bail set by Stack is likely to be higher than bail set by O'Brien."
   ]
  },
  {
   "cell_type": "markdown",
   "metadata": {},
   "source": [
    "## 2.6 Comparing bail amount for specific offense types"
   ]
  },
  {
   "cell_type": "code",
   "execution_count": 59,
   "metadata": {},
   "outputs": [
    {
     "data": {
      "image/png": "[encoded data removed]",
      "text/plain": [
       "<Figure size 432x288 with 1 Axes>"
      ]
     },
     "metadata": {
      "needs_background": "light"
     },
     "output_type": "display_data"
    }
   ],
   "source": [
    "# for offense of type assault, do the bail amount differ by magistrate?\n",
    "df['core_magistrate'] = df['bail_set_by'].apply(lambda x: 1 if x in core_magistrates else 0)\n",
    "df_monetary = df[(df['bail_type'] == 'Monetary') & (df['core_magistrate'] == 1) & (df['assault'] == 1)][['bail_set_by', 'bail_amount']]\n",
    "\n",
    "# Bail amount by groups\n",
    "plt.rcParams['font.size'] = 10\n",
    "sns.boxplot( y=df_monetary[\"bail_set_by\"], x=df_monetary[\"bail_amount\"], order = core_magistrates)\n",
    "plt.xlim(0, 300000)\n",
    "plt.xlabel('bail amount')\n",
    "plt.xticks(ticks = range(0, 350000, 50000), labels = ['0','50k','100k','150k','200k','250k','300k'])\n",
    "plt.ylabel('magistrate')\n",
    "plt.title('bail amount by magistrate')\n",
    "plt.show()"
   ]
  },
  {
   "cell_type": "code",
   "execution_count": 60,
   "metadata": {
    "scrolled": false
   },
   "outputs": [
    {
     "data": {
      "image/png": "[encoded data removed]",
      "text/plain": [
       "<Figure size 432x288 with 1 Axes>"
      ]
     },
     "metadata": {
      "needs_background": "light"
     },
     "output_type": "display_data"
    }
   ],
   "source": [
    "# for offense of type \"drug possession and delivery\", do the bail amount differ by magistrate?\n",
    "df['core_magistrate'] = df['bail_set_by'].apply(lambda x: 1 if x in core_magistrates else 0)\n",
    "df_monetary = df[(df['bail_type'] == 'Monetary') & (df['core_magistrate'] == 1) & (df['drug and substance'] == 1)][['bail_set_by', 'bail_amount']]\n",
    "\n",
    "# Bail amount by groups\n",
    "plt.rcParams['font.size'] = 10\n",
    "sns.boxplot( y=df_monetary[\"bail_set_by\"], x = df_monetary[\"bail_amount\"], order = core_magistrates)\n",
    "plt.xlim(0, 300000)\n",
    "plt.xlabel('bail amount')\n",
    "plt.xticks(ticks = range(0, 350000, 50000), labels = ['0','50k','100k','150k','200k','250k','300k'])\n",
    "plt.ylabel('magistrate')\n",
    "plt.title('bail amount by magistrate')\n",
    "plt.show()"
   ]
  },
  {
   "cell_type": "markdown",
   "metadata": {},
   "source": [
    "## 2.7 Predict bail type and bail amount. Find the important factors"
   ]
  },
  {
   "cell_type": "markdown",
   "metadata": {},
   "source": [
    "# 3. Which neighborhoods are heavily impacted by bail?"
   ]
  },
  {
   "cell_type": "markdown",
   "metadata": {},
   "source": [
    "The following visualizations shows that monetary bail largely impacts those who live in areas with severe poverty. \n",
    "* Left: Number of monetary bail cases by zip code. \n",
    "    * (We can regenerate the image for entire year of 2020 once we have the data) \n",
    "* Right: From US Census Bureau ASC 5-year estimate from 2018. \n",
    "    * data and link to table stored at 'data/poverty'.\n",
    "    * Maybe we can grab 2020 data\n",
    "\n",
    "data          |  visualization\n",
    ":-------------------------:|:-------------------------:\n",
    "Case count of monetary bail by zip code | <img src=\"visualizations/monetary_bail_case_count.png\" alt=\"drawing\" width=\"800\"/>  |\n",
    "Percentage of population living under poverty by zip code | <img src=\"visualizations/percent_below_poverty.png\" alt=\"drawing\" width=\"800\"/> | "
   ]
  },
  {
   "cell_type": "markdown",
   "metadata": {},
   "source": [
    "The following visualizations show that the median household income is higher than median bail amount (\\$25K) in many zip codes. \n",
    "* Left: median monetary bail amount by zip code.\n",
    "    * Median computed only for zipcodes that had 6 or more cases.  \n",
    "    * Median bail amount is usually \\$25K\n",
    "    * We can regenerate the image once we have 2020 data available. \n",
    "* Right: median household income by zipcode\n",
    "    * From US Cenus Bureau 2018 ASC 5-year estimate from 2018. \n",
    "    * data and link to table stored at 'data/income' \n",
    "    * Maybe we can grab 2020 data\n",
    "\n",
    "\n",
    "data          |  visualization\n",
    ":-------------------------:|:-------------------------:\n",
    "Median monetary bail amount by zip code            | <img src=\"visualizations/bail_amount.png\" alt=\"drawing\" width=\"800\"/> |  \n",
    "Median household income by zip code | <img src=\"visualizations/income.png\" alt=\"drawing\" width=\"800\"/>\n"
   ]
  },
  {
   "cell_type": "markdown",
   "metadata": {},
   "source": [
    "### Basically a reproduction of some of the above with some interactive elements.\n",
    "\n",
    "I can add even more filters if there's a good reason to do so. Also might need to do something to handle certain Metric/Type combos (as Bail Amount/Paid is N/A for some bail types)."
   ]
  },
  {
   "cell_type": "markdown",
   "metadata": {},
   "source": [
    "#### Setting up data for viz"
   ]
  },
  {
   "cell_type": "code",
   "execution_count": null,
   "metadata": {},
   "outputs": [],
   "source": [
    "# Create data assoc. w/ each metric (over all bail types) and put in dict\n",
    "case_counts = pd.DataFrame(df['zip'].value_counts().reset_index().rename(columns={'index': 'zip', 'zip': 'count'}))\n",
    "bail_amounts = df.groupby('zip').sum()[['bail_amount']].reset_index()\n",
    "bail_paid = df.groupby('zip').sum()[['bail_paid']].reset_index()\n",
    "cases_dfs = {'Case Count': case_counts, 'Bail Amount': bail_amounts, 'Bail Paid': bail_paid}"
   ]
  },
  {
   "cell_type": "code",
   "execution_count": null,
   "metadata": {},
   "outputs": [],
   "source": [
    "# Same as above but also filtering by bail type\n",
    "case_counts_by_type = df.groupby(['zip', 'bail_type']).\\\n",
    "                    size().unstack(fill_value=0).stack().reset_index().rename(columns={0: 'count'})\n",
    "bail_amounts_by_type = df.groupby(['zip', 'bail_type']).sum().unstack(fill_value=0).\\\n",
    "                    stack()[['bail_amount']].reset_index()\n",
    "bail_paid_by_type = df.groupby(['zip', 'bail_type']).sum().unstack(fill_value=0).\\\n",
    "                    stack()[['bail_paid']].reset_index()\n",
    "type_dfs = {'Case Count': case_counts_by_type, 'Bail Amount': bail_amounts_by_type, 'Bail Paid': bail_paid_by_type}"
   ]
  },
  {
   "cell_type": "code",
   "execution_count": null,
   "metadata": {},
   "outputs": [],
   "source": [
    "# Geo data\n",
    "# Approximate Philly lat/long\n",
    "philly = (40.00, -75.16)\n",
    "\n",
    "# Open geojson of philly zip code borders\n",
    "zips_geo = 'Zipcodes_Poly.geojson'\n",
    "with open(zips_geo) as f:\n",
    "    zips_data = json.load(f)"
   ]
  },
  {
   "cell_type": "markdown",
   "metadata": {},
   "source": [
    "#### Setting up viz"
   ]
  },
  {
   "cell_type": "code",
   "execution_count": null,
   "metadata": {},
   "outputs": [],
   "source": [
    "# Unique bail types, remove 'nan'\n",
    "types = df[df['bail_type'].notnull()]['bail_type'].unique().tolist()\n",
    "\n",
    "# Dropdown menu for metrics\n",
    "metrics = widgets.Dropdown(\n",
    "    options=['Case Count', 'Bail Amount', 'Bail Paid'],\n",
    "    value='Case Count',\n",
    "    description='Metric'\n",
    ")\n",
    "\n",
    "# Dropdown menu for bail type\n",
    "types = widgets.Dropdown(\n",
    "    options=['All']+types,\n",
    "    value='All',\n",
    "    description='Bail Type',\n",
    ")\n",
    "\n",
    "# Set up figure object (choropleth map) with our geo data\n",
    "map_fig = go.FigureWidget(go.Choroplethmapbox(geojson=zips_data, # geojson data\n",
    "                                          z=bail_amounts['bail_amount'], # what colors will rep. in map from our data\n",
    "                                          locations=bail_amounts['zip'], # zip codes in our data\n",
    "                                          featureidkey=\"properties.CODE\", # key index in geojson for zip\n",
    "                                         ))\n",
    "map_fig.update_layout(mapbox_style=\"carto-positron\",\n",
    "                   mapbox_zoom=9.75, mapbox_center = {\"lat\": philly[0], \"lon\": philly[1]})\n",
    "map_fig.update_layout(margin={\"r\":0,\"t\":0,\"l\":0,\"b\":0})\n",
    "\n",
    "# Function that updates map based on dropdown selections\n",
    "def response(change):\n",
    "    if types.value == 'All':\n",
    "        df = cases_dfs[metrics.value]\n",
    "        map_fig.data[0].z = df[df.columns[1]]\n",
    "        map_fig.data[0].locations = df[df.columns[0]]\n",
    "    else:\n",
    "        df = type_dfs[metrics.value].loc[type_dfs[metrics.value]['bail_type'] == types.value]\n",
    "        map_fig.data[0].z = df[df.columns[2]]\n",
    "        map_fig.data[0].locations = df[df.columns[0]]\n",
    "\n",
    "# Set up dropdowns to update map\n",
    "metrics.observe(response, names='value')\n",
    "types.observe(response, names='value')\n",
    "\n",
    "widgets.VBox([widgets.HBox([metrics, types]), map_fig])"
   ]
  },
  {
   "cell_type": "markdown",
   "metadata": {},
   "source": [
    "# 4. Breakdown by demographics\n",
    "For all bail:\n",
    "- Raw numbers for race/sex and bail type\n",
    "- Are race and bail type correlated? (for comparable offense types?)\n",
    "- Same for gender and age\n",
    "\n",
    "For monetary bail:\n",
    "- Histogram of race/sex and bail amount\n",
    "- Are race and bail amount correlated? (for comparable offense types?)\n",
    "- Same for gender and age\n",
    "\n",
    "Most generally: what are the strongest factors determining bail type and bail amount?\n",
    "- Do a predictive modeling (e.g., regression, decision trees, random forest) and feature importance analysis\n",
    "- Possible factors: race, age, sex; offense types, offense number; magistrate, arresting officer; public/private defender"
   ]
  },
  {
   "cell_type": "code",
   "execution_count": 12,
   "metadata": {},
   "outputs": [],
   "source": [
    "bail_type_filter = (df['bail_type'] != 'Nominal') & (df['bail_type'] != 'Nonmonetary')"
   ]
  },
  {
   "cell_type": "markdown",
   "metadata": {},
   "source": [
    "## Are race and bail related?"
   ]
  },
  {
   "cell_type": "markdown",
   "metadata": {},
   "source": [
    "### Race and bail type"
   ]
  },
  {
   "cell_type": "code",
   "execution_count": 13,
   "metadata": {},
   "outputs": [
    {
     "data": {
      "text/plain": [
       "Black                             13570\n",
       "White                              6603\n",
       "Asian/Pacific Islander              178\n",
       "Unknown/Unreported                   49\n",
       "Native American/Alaskan Native       15\n",
       "Bi-Racial                             2\n",
       "Name: race, dtype: int64"
      ]
     },
     "execution_count": 13,
     "metadata": {},
     "output_type": "execute_result"
    }
   ],
   "source": [
    "df['race'].value_counts()"
   ]
  },
  {
   "cell_type": "code",
   "execution_count": 14,
   "metadata": {},
   "outputs": [],
   "source": [
    "# Set race filter to remove values without enough representation in the data\n",
    "race_filter = (  (df['race'] != 'Unknown/Unreported')\n",
    "               & (df['race'] != 'Native American/Alaskan Native')\n",
    "               & (df['race'] != 'Bi-Racial')\n",
    "               & (df['race'] != 'Asian/Pacific Islander'))\n",
    "df_race = df[race_filter]"
   ]
  },
  {
   "cell_type": "code",
   "execution_count": 15,
   "metadata": {},
   "outputs": [
    {
     "data": {
      "text/plain": [
       "<AxesSubplot:xlabel='bail_type', ylabel='count'>"
      ]
     },
     "execution_count": 15,
     "metadata": {},
     "output_type": "execute_result"
    },
    {
     "data": {
      "image/png": "[encoded data removed]",
      "text/plain": [
       "<Figure size 432x288 with 1 Axes>"
      ]
     },
     "metadata": {
      "needs_background": "light"
     },
     "output_type": "display_data"
    }
   ],
   "source": [
    "sns.countplot(data = df[race_filter & bail_type_filter], x='bail_type', hue='race')"
   ]
  },
  {
   "cell_type": "code",
   "execution_count": 16,
   "metadata": {},
   "outputs": [
    {
     "name": "stdout",
     "output_type": "stream",
     "text": [
      "bail_type  Monetary   ROR  Unsecured\n",
      "race                                \n",
      "Black          6159  3332       3724\n",
      "White          2477  2212       1817\n"
     ]
    }
   ],
   "source": [
    "# Create cross-tabulation of race and bail type\n",
    "df_race_bailType = df[race_filter & bail_type_filter]\n",
    "df_race_bailType = pd.crosstab(index=df_race_bailType['race'], columns=df_race_bailType['bail_type'])\n",
    "print(df_race_bailType)#.describe()"
   ]
  },
  {
   "cell_type": "code",
   "execution_count": 17,
   "metadata": {},
   "outputs": [
    {
     "name": "stdout",
     "output_type": "stream",
     "text": [
      "bail_type  Monetary   ROR  Unsecured\n",
      "race                                \n",
      "Black         46.6% 25.2%      28.2%\n",
      "White         38.1% 34.0%      27.9%\n"
     ]
    },
    {
     "data": {
      "image/png": "[encoded data removed]",
      "text/plain": [
       "<Figure size 432x288 with 1 Axes>"
      ]
     },
     "metadata": {
      "needs_background": "light"
     },
     "output_type": "display_data"
    }
   ],
   "source": [
    "# Find percentage of cases for each race for which each bail type was assigned\n",
    "race_sum = df_race_bailType.sum(axis=1)\n",
    "df_race_bailType_percent = df_race_bailType.apply(lambda x: 100*x/race_sum)\n",
    "with pd.option_context('display.float_format', '{:,.1f}%'.format):\n",
    "    print(df_race_bailType_percent)\n",
    "\n",
    "# Plot the above\n",
    "x_monetary = df_race_bailType_percent[\"Monetary\"]\n",
    "x_ror = df_race_bailType_percent[\"ROR\"]\n",
    "x_unsecured = df_race_bailType_percent[\"Unsecured\"]\n",
    "ind = range(len(df_race_bailType_percent))\n",
    "plt.barh(ind, x_monetary, label=\"Monetary\")\n",
    "plt.barh(ind, x_unsecured, left=x_monetary, label=\"Unsecured\")\n",
    "plt.barh(ind, x_ror, left=x_monetary+x_unsecured, label=\"ROR\")\n",
    "plt.title('Bail type by race')\n",
    "plt.xlabel('Percentage')\n",
    "plt.ylabel('Race')\n",
    "plt.yticks(ind, [\"Black\", \"White\"])\n",
    "plt.legend(bbox_to_anchor=(1.05, 1), loc='upper left')\n",
    "plt.show()"
   ]
  },
  {
   "cell_type": "code",
   "execution_count": 18,
   "metadata": {},
   "outputs": [
    {
     "name": "stdout",
     "output_type": "stream",
     "text": [
      "p-value = 1.75e-42 (chi-square = 192.30, 2 dof)\n"
     ]
    }
   ],
   "source": [
    "# Chi-square test: is there a statistically significant relationship between bail type and race?\n",
    "chi2, p, dof, ex = chi2_contingency(df_race_bailType)\n",
    "print('p-value = {1:.2e} (chi-square = {0:.2f}, {2} dof)'.format(chi2, p, dof))"
   ]
  },
  {
   "cell_type": "markdown",
   "metadata": {},
   "source": [
    "- Compared to White defendants, a smaller percentage of Black defendants are given ROR, and a larger percentage are given monetary bail.\n",
    "- The small p-value indicates that **race and bail type are related**. Need to narrow this down:\n",
    "    - Are Black defendants less likely to be given ROR?\n",
    "    - Are Black defendants more likely to have monetary bail set? \n",
    "    - If true, do the above hold even when accounting for offense types?"
   ]
  },
  {
   "cell_type": "markdown",
   "metadata": {},
   "source": [
    "### Race and bail amount"
   ]
  },
  {
   "cell_type": "code",
   "execution_count": 19,
   "metadata": {},
   "outputs": [],
   "source": [
    "df_race_monetary = df[race_filter & (df['bail_type'] == \"Monetary\")]\n",
    "df_race_monetary = df_race_monetary[df_race_monetary['bail_set_bin'] != 'None'] #There are a couple spurious zeros"
   ]
  },
  {
   "cell_type": "code",
   "execution_count": 20,
   "metadata": {},
   "outputs": [
    {
     "name": "stdout",
     "output_type": "stream",
     "text": [
      "race          Black  White\n",
      "bail_set_bin              \n",
      "100k to 500k  25.1%  19.0%\n",
      "10k to 25k    20.6%  26.4%\n",
      "1k to 5k       3.0%   4.0%\n",
      "25k to 50k    16.4%  17.2%\n",
      "50k to 100k   17.7%  17.6%\n",
      "5k to 10k      9.2%  10.4%\n",
      "<1k            3.0%   1.4%\n",
      ">=500k         5.0%   4.0%\n",
      "Most common bin for Black defendants: 100k to 500k\n",
      "Most common bin for White defendants: 10k to 25k\n"
     ]
    }
   ],
   "source": [
    "# Create cross-tabulation of race and amount, by bins\n",
    "ct_race_monetary = pd.crosstab(index=df_race_monetary['bail_set_bin'], columns=df_race_monetary['race'])\n",
    "\n",
    "# Find percentage of cases for each race for which each bail type was assigned\n",
    "race_sum = ct_race_monetary.sum(axis=0)\n",
    "ct_race_monetary_percent = ct_race_monetary.apply(lambda x: 100*x/race_sum, axis=1)\n",
    "with pd.option_context('display.float_format', '{:,.1f}%'.format):\n",
    "    print(ct_race_monetary_percent)\n",
    "print(\"Most common bin for Black defendants: {0}\".format(ct_race_monetary_percent[\"Black\"].idxmax()))\n",
    "print(\"Most common bin for White defendants: {0}\".format(ct_race_monetary_percent[\"White\"].idxmax()))"
   ]
  },
  {
   "cell_type": "code",
   "execution_count": 21,
   "metadata": {},
   "outputs": [
    {
     "data": {
      "text/plain": [
       "<AxesSubplot:xlabel='bail_set_bin', ylabel='percentage'>"
      ]
     },
     "execution_count": 21,
     "metadata": {},
     "output_type": "execute_result"
    },
    {
     "data": {
      "image/png": "[encoded data removed]",
      "text/plain": [
       "<Figure size 432x288 with 1 Axes>"
      ]
     },
     "metadata": {
      "needs_background": "light"
     },
     "output_type": "display_data"
    }
   ],
   "source": [
    "# Plot above as grouped bar chart\n",
    "ct_stacked = ct_race_monetary_percent.reindex(bail_bin_labels[1:]).stack().reset_index().rename(columns={0:'percentage'})\n",
    "sns.barplot(x=ct_stacked.bail_set_bin, y=ct_stacked.percentage, hue=ct_stacked.race, order=bail_bin_labels[1:])"
   ]
  },
  {
   "cell_type": "code",
   "execution_count": 22,
   "metadata": {},
   "outputs": [
    {
     "name": "stdout",
     "output_type": "stream",
     "text": [
      "p-value = 1.54e-15 (chi-square = 84.66, 7 dof)\n"
     ]
    }
   ],
   "source": [
    "# Chi-square test: is there a statistically significant relationship between bail type and race?\n",
    "chi2, p, dof, ex = chi2_contingency(ct_race_monetary)\n",
    "print('p-value = {1:.2e} (chi-square = {0:.2f}, {2} dof)'.format(chi2, p, dof))"
   ]
  },
  {
   "cell_type": "markdown",
   "metadata": {},
   "source": [
    "- The small p-value indicates that **race and bail amount are related**. Need to narrow this down:\n",
    "    - Are Black defendants likelier to recieve higher set bail amounts?\n",
    "    - If true, does the above hold even when accounting for offense types?"
   ]
  },
  {
   "cell_type": "markdown",
   "metadata": {},
   "source": [
    "### Accounting for offense type\n",
    "TODO (Lucia):\n",
    "- group by offense types in a more coarse-grained way (e.g., by article as in https://www.legis.state.pa.us/WU01/LI/LI/CT/HTM/18/18.HTM)\n",
    "    - this is something we might want to do at the parsing level in the future. For now, maybe something like this? Looks like it would get very slow very quickly though https://stackoverflow.com/questions/17340922/how-to-search-if-dictionary-value-contains-certain-string-with-python\n",
    "- for offense types with enough samples:\n",
    "    - compare mean/median bail set for Black and White defendants: e.g., is bail set X% higher for a given offense type?\n",
    "    - test of significance for such an effect, if present, across offense types\n",
    "\n",
    "Note that this might also depend on number of offenses - how to account for that?"
   ]
  },
  {
   "cell_type": "markdown",
   "metadata": {},
   "source": [
    "### Race and bail paid\n",
    "- Are defendants of a given race more likely to (be able to) pay bail?"
   ]
  },
  {
   "cell_type": "code",
   "execution_count": 23,
   "metadata": {},
   "outputs": [
    {
     "data": {
      "text/plain": [
       "<AxesSubplot:xlabel='bail_outstanding_bin', ylabel='count'>"
      ]
     },
     "execution_count": 23,
     "metadata": {},
     "output_type": "execute_result"
    },
    {
     "data": {
      "image/png": "[encoded data removed]",
      "text/plain": [
       "<Figure size 432x288 with 1 Axes>"
      ]
     },
     "metadata": {
      "needs_background": "light"
     },
     "output_type": "display_data"
    }
   ],
   "source": [
    "sns.countplot(data = df_race_monetary, x = 'bail_outstanding_bin', hue = 'race')"
   ]
  },
  {
   "cell_type": "code",
   "execution_count": 24,
   "metadata": {},
   "outputs": [
    {
     "data": {
      "text/plain": [
       "<seaborn.axisgrid.FacetGrid at 0x7fc637597dd0>"
      ]
     },
     "execution_count": 24,
     "metadata": {},
     "output_type": "execute_result"
    },
    {
     "data": {
      "image/png": "[encoded data removed]",
      "text/plain": [
       "<Figure size 425.125x360 with 1 Axes>"
      ]
     },
     "metadata": {
      "needs_background": "light"
     },
     "output_type": "display_data"
    }
   ],
   "source": [
    "x,y = 'bail_outstanding_bin', 'race'\n",
    "\n",
    "(df_race_monetary\n",
    ".groupby(x)[y]\n",
    ".value_counts(normalize=True)\n",
    ".mul(100)\n",
    ".rename('percent')\n",
    ".reset_index()\n",
    ".pipe((sns.catplot,'data'), x=x,y='percent',hue=y,kind='bar'))"
   ]
  },
  {
   "cell_type": "code",
   "execution_count": 26,
   "metadata": {},
   "outputs": [
    {
     "data": {
      "text/plain": [
       "<seaborn.axisgrid.FacetGrid at 0x7fc637601ed0>"
      ]
     },
     "execution_count": 26,
     "metadata": {},
     "output_type": "execute_result"
    },
    {
     "data": {
      "image/png": "[encoded data removed]",
      "text/plain": [
       "<Figure size 471.5x360 with 1 Axes>"
      ]
     },
     "metadata": {
      "needs_background": "light"
     },
     "output_type": "display_data"
    }
   ],
   "source": [
    "x,y = 'race', 'bail_outstanding_bin'\n",
    "\n",
    "(df_race_monetary\n",
    ".groupby(x)[y]\n",
    ".value_counts(normalize=True)\n",
    ".mul(100)\n",
    ".rename('percent')\n",
    ".reset_index()\n",
    ".pipe((sns.catplot,'data'), x=x,y='percent',hue=y,kind='bar'))\n",
    "\n",
    "# TODO: lower the amount of bail outstanding bins (i.e. widen the bins) to make the graph easier to read"
   ]
  },
  {
   "cell_type": "markdown",
   "metadata": {},
   "source": [
    "Chi square test (significance level of 0.1)"
   ]
  },
  {
   "cell_type": "code",
   "execution_count": 28,
   "metadata": {},
   "outputs": [],
   "source": [
    "contingency_table = pd.crosstab(index = df_race_monetary['race'], columns = df_race_monetary['bail_outstanding_bin'])\n",
    "\n",
    "chi2, p, dof, expected = chi2_contingency(contingency_table)"
   ]
  },
  {
   "cell_type": "code",
   "execution_count": 29,
   "metadata": {},
   "outputs": [
    {
     "name": "stdout",
     "output_type": "stream",
     "text": [
      "The resulting p-value is  4.186024910118743e-14\n"
     ]
    }
   ],
   "source": [
    "print('The resulting p-value is ', p)"
   ]
  },
  {
   "cell_type": "markdown",
   "metadata": {},
   "source": [
    "Based on the low p-value, race and the ability to pay off bail are related.\n",
    "* Are black defendants less likely to pay bail?\n",
    "* If so, does this hold true across other variables (such as offense type)?"
   ]
  },
  {
   "cell_type": "markdown",
   "metadata": {},
   "source": [
    "## Are sex and bail type related?"
   ]
  },
  {
   "cell_type": "markdown",
   "metadata": {},
   "source": [
    "### Sex and bail type"
   ]
  },
  {
   "cell_type": "code",
   "execution_count": 27,
   "metadata": {},
   "outputs": [
    {
     "data": {
      "text/plain": [
       "Male                  17128\n",
       "Female                 3294\n",
       "Unreported/Unknown        1\n",
       "Name: sex, dtype: int64"
      ]
     },
     "execution_count": 27,
     "metadata": {},
     "output_type": "execute_result"
    }
   ],
   "source": [
    "df['sex'].value_counts()"
   ]
  },
  {
   "cell_type": "code",
   "execution_count": 28,
   "metadata": {},
   "outputs": [],
   "source": [
    "# Set sex filter to remove values without enough representation in the data\n",
    "sex_filter = (df['sex'] != 'Unreported/Unknown')\n",
    "df_sex = df[sex_filter]"
   ]
  },
  {
   "cell_type": "code",
   "execution_count": 29,
   "metadata": {},
   "outputs": [
    {
     "data": {
      "text/plain": [
       "<AxesSubplot:xlabel='bail_type', ylabel='count'>"
      ]
     },
     "execution_count": 29,
     "metadata": {},
     "output_type": "execute_result"
    },
    {
     "data": {
      "image/png": "[encoded data removed]",
      "text/plain": [
       "<Figure size 432x288 with 1 Axes>"
      ]
     },
     "metadata": {
      "needs_background": "light"
     },
     "output_type": "display_data"
    }
   ],
   "source": [
    "sns.countplot(data = df[sex_filter & bail_type_filter], x='bail_type', hue='sex')"
   ]
  },
  {
   "cell_type": "code",
   "execution_count": 30,
   "metadata": {},
   "outputs": [
    {
     "name": "stdout",
     "output_type": "stream",
     "text": [
      "bail_type  Monetary   ROR  Unsecured\n",
      "sex                                 \n",
      "Female          908  1187       1160\n",
      "Male           7834  4438       4439\n"
     ]
    }
   ],
   "source": [
    "# Create cross-tabulation of race and bail type\n",
    "df_sex_bailType = pd.crosstab(index=df_sex['sex'], columns=df_sex['bail_type'])\n",
    "df_sex_bailType = df_sex_bailType[[\"Monetary\", \"ROR\", \"Unsecured\"]]\n",
    "print(df_sex_bailType)"
   ]
  },
  {
   "cell_type": "code",
   "execution_count": 31,
   "metadata": {},
   "outputs": [
    {
     "name": "stdout",
     "output_type": "stream",
     "text": [
      "bail_type   Monetary        ROR  Unsecured\n",
      "sex                                       \n",
      "Female     27.895545  36.466974  35.637481\n",
      "Male       46.879301  26.557357  26.563342\n"
     ]
    },
    {
     "data": {
      "image/png": "[encoded data removed]",
      "text/plain": [
       "<Figure size 432x288 with 1 Axes>"
      ]
     },
     "metadata": {
      "needs_background": "light"
     },
     "output_type": "display_data"
    }
   ],
   "source": [
    "# Find percentage of cases for each sex for which each bail type was assigned\n",
    "sex_sum = df_sex_bailType.sum(axis=1)\n",
    "df_sex_bailType_percent = df_sex_bailType.apply(lambda x: 100*x/sex_sum)\n",
    "print(df_sex_bailType_percent)\n",
    "\n",
    "# Plot the above\n",
    "x_monetary = df_sex_bailType_percent[\"Monetary\"]\n",
    "x_ror = df_sex_bailType_percent[\"ROR\"]\n",
    "x_unsecured = df_sex_bailType_percent[\"Unsecured\"]\n",
    "ind = range(len(df_sex_bailType_percent))\n",
    "plt.barh(ind, x_monetary, label=\"Monetary\")\n",
    "plt.barh(ind, x_unsecured, left=x_monetary, label=\"Unsecured\")\n",
    "plt.barh(ind, x_ror, left=x_monetary+x_unsecured, label=\"ROR\")\n",
    "plt.title('Bail type by gender')\n",
    "plt.xlabel('Percentage')\n",
    "plt.ylabel('Gender')\n",
    "plt.yticks(ind, [\"Female\", \"Male\"])\n",
    "plt.legend(bbox_to_anchor=(1.05, 1), loc='upper left')\n",
    "plt.show()"
   ]
  },
  {
   "cell_type": "code",
   "execution_count": 32,
   "metadata": {},
   "outputs": [
    {
     "name": "stdout",
     "output_type": "stream",
     "text": [
      "p-value = 2.07e-87 (chi-square = 399.19, 2 dof)\n"
     ]
    }
   ],
   "source": [
    "# Chi-square test: is there a statistically significant relationship between bail type and race?\n",
    "chi2, p, dof, ex = chi2_contingency(df_sex_bailType)\n",
    "print('p-value = {1:.2e} (chi-square = {0:.2f}, {2} dof)'.format(chi2, p, dof))"
   ]
  },
  {
   "cell_type": "markdown",
   "metadata": {},
   "source": [
    "- Compared to male defendants, a larger percentage of female defendants are given either ROR or unsecured bail, and a smaller percentage are given monetary bail.\n",
    "- The small p-value indicates that **sex and bail type are not independent**."
   ]
  },
  {
   "cell_type": "markdown",
   "metadata": {},
   "source": [
    "### Sex and bail amount"
   ]
  },
  {
   "cell_type": "markdown",
   "metadata": {},
   "source": [
    "## Are age and bail related?"
   ]
  },
  {
   "cell_type": "markdown",
   "metadata": {},
   "source": [
    "### Age and bail type"
   ]
  },
  {
   "cell_type": "code",
   "execution_count": 33,
   "metadata": {},
   "outputs": [
    {
     "data": {
      "text/plain": [
       "26 to 33    6033\n",
       "18 to 25    5821\n",
       "34 to 41    4000\n",
       "42 to 49    2164\n",
       "50 to 57    1473\n",
       "58 to 64     630\n",
       "senior       222\n",
       "minor         83\n",
       "Name: age_group, dtype: int64"
      ]
     },
     "execution_count": 33,
     "metadata": {},
     "output_type": "execute_result"
    }
   ],
   "source": [
    "df['age_group'].value_counts()"
   ]
  },
  {
   "cell_type": "code",
   "execution_count": 34,
   "metadata": {},
   "outputs": [
    {
     "data": {
      "text/plain": [
       "<AxesSubplot:xlabel='bail_type', ylabel='count'>"
      ]
     },
     "execution_count": 34,
     "metadata": {},
     "output_type": "execute_result"
    },
    {
     "data": {
      "image/png": "[encoded data removed]",
      "text/plain": [
       "<Figure size 432x288 with 1 Axes>"
      ]
     },
     "metadata": {
      "needs_background": "light"
     },
     "output_type": "display_data"
    }
   ],
   "source": [
    "sns.countplot(data = df[bail_type_filter], x='bail_type', hue='age_group')"
   ]
  },
  {
   "cell_type": "code",
   "execution_count": 35,
   "metadata": {},
   "outputs": [
    {
     "data": {
      "image/png": "[encoded data removed]",
      "text/plain": [
       "<Figure size 432x288 with 1 Axes>"
      ]
     },
     "metadata": {
      "needs_background": "light"
     },
     "output_type": "display_data"
    },
    {
     "data": {
      "image/png": "[encoded data removed]",
      "text/plain": [
       "<Figure size 432x288 with 1 Axes>"
      ]
     },
     "metadata": {
      "needs_background": "light"
     },
     "output_type": "display_data"
    },
    {
     "data": {
      "image/png": "[encoded data removed]",
      "text/plain": [
       "<Figure size 432x288 with 1 Axes>"
      ]
     },
     "metadata": {
      "needs_background": "light"
     },
     "output_type": "display_data"
    },
    {
     "data": {
      "image/png": "[encoded data removed]",
      "text/plain": [
       "<Figure size 432x288 with 1 Axes>"
      ]
     },
     "metadata": {
      "needs_background": "light"
     },
     "output_type": "display_data"
    },
    {
     "data": {
      "image/png": "[encoded data removed]",
      "text/plain": [
       "<Figure size 432x288 with 1 Axes>"
      ]
     },
     "metadata": {
      "needs_background": "light"
     },
     "output_type": "display_data"
    },
    {
     "data": {
      "image/png": "[encoded data removed]",
      "text/plain": [
       "<Figure size 432x288 with 1 Axes>"
      ]
     },
     "metadata": {
      "needs_background": "light"
     },
     "output_type": "display_data"
    },
    {
     "data": {
      "image/png": "[encoded data removed]",
      "text/plain": [
       "<Figure size 432x288 with 1 Axes>"
      ]
     },
     "metadata": {
      "needs_background": "light"
     },
     "output_type": "display_data"
    },
    {
     "data": {
      "image/png": "[encoded data removed]",
      "text/plain": [
       "<Figure size 432x288 with 1 Axes>"
      ]
     },
     "metadata": {
      "needs_background": "light"
     },
     "output_type": "display_data"
    }
   ],
   "source": [
    "for i, age_group in enumerate(df['age_group'].unique()):\n",
    "    plt.figure(i)\n",
    "    plt.title(age_group)\n",
    "    sns.countplot(data = df[bail_type_filter & (df['age_group'] == age_group)], x = 'bail_type')"
   ]
  },
  {
   "cell_type": "markdown",
   "metadata": {},
   "source": [
    "### 4.? Predictive Modeling"
   ]
  },
  {
   "cell_type": "code",
   "execution_count": 36,
   "metadata": {},
   "outputs": [],
   "source": [
    "#sns.pairplot(df)"
   ]
  },
  {
   "cell_type": "markdown",
   "metadata": {},
   "source": [
    "# 5. How much did Philadelphians pay in bail?\n",
    "\n",
    "Much of this analysis overlaps with section 1 - see that section for the full tally. The goal of having this section separate is to generate a compelling visualization, per Malik/the Philly Bail Fund's request, of the total amount paid by Philadelphians. \n",
    "\n",
    "Ideally, this would look something like the national debt clock (https://www.usdebtclock.org/), but since real-time tracking of bail paid is very difficult, we'll probably have to settle for something more like the following:\n",
    "https://inorganik.github.io/countUp.js/"
   ]
  },
  {
   "cell_type": "markdown",
   "metadata": {},
   "source": [
    "### 5.1 Summary Stats"
   ]
  },
  {
   "cell_type": "markdown",
   "metadata": {},
   "source": [
    "**Summary statistics of bail amount**"
   ]
  },
  {
   "cell_type": "code",
   "execution_count": 38,
   "metadata": {},
   "outputs": [
    {
     "data": {
      "text/plain": [
       "count    8.744000e+03\n",
       "mean     1.005607e+05\n",
       "std      2.295750e+05\n",
       "min      0.000000e+00\n",
       "25%      1.000000e+04\n",
       "50%      3.000000e+04\n",
       "75%      1.000000e+05\n",
       "max      5.000000e+06\n",
       "Name: bail_amount, dtype: float64"
      ]
     },
     "execution_count": 38,
     "metadata": {},
     "output_type": "execute_result"
    }
   ],
   "source": [
    "monetary_bail = df[df['bail_type']=='Monetary']\n",
    "monetary_bail['bail_amount'].describe()"
   ]
  },
  {
   "cell_type": "code",
   "execution_count": 39,
   "metadata": {},
   "outputs": [
    {
     "data": {
      "text/plain": [
       "(-5000.001, 500000.0]     8542\n",
       "(500000.0, 1000000.0]      156\n",
       "(1500000.0, 2000000.0]      34\n",
       "(2500000.0, 3000000.0]       7\n",
       "(4500000.0, 5000000.0]       3\n",
       "(2000000.0, 2500000.0]       2\n",
       "(4000000.0, 4500000.0]       0\n",
       "(3500000.0, 4000000.0]       0\n",
       "(3000000.0, 3500000.0]       0\n",
       "(1000000.0, 1500000.0]       0\n",
       "Name: bail_amount, dtype: int64"
      ]
     },
     "execution_count": 39,
     "metadata": {},
     "output_type": "execute_result"
    }
   ],
   "source": [
    "monetary_bail['bail_amount'].value_counts(bins=10)"
   ]
  },
  {
   "cell_type": "code",
   "execution_count": 40,
   "metadata": {},
   "outputs": [
    {
     "name": "stdout",
     "output_type": "stream",
     "text": [
      "96 unique (nonzero) bail values were set, with $25,000 being the most common (1082 times)\n"
     ]
    }
   ],
   "source": [
    "bail_set_values = monetary_bail['bail_amount'].value_counts()\n",
    "print(\"{0} unique (nonzero) bail values were set, with ${1:,.0f} being the most common ({2} times)\".format(len(bail_set_values), bail_set_values.idxmax(), max(bail_set_values)))"
   ]
  },
  {
   "cell_type": "markdown",
   "metadata": {},
   "source": [
    "**Summary statistics of bail paid**"
   ]
  },
  {
   "cell_type": "code",
   "execution_count": 41,
   "metadata": {},
   "outputs": [
    {
     "data": {
      "text/plain": [
       "count     8744.000000\n",
       "mean      2245.086345\n",
       "std       4917.802319\n",
       "min          0.000000\n",
       "25%          0.000000\n",
       "50%        500.000000\n",
       "75%       2500.000000\n",
       "max      75000.000000\n",
       "Name: bail_paid, dtype: float64"
      ]
     },
     "execution_count": 41,
     "metadata": {},
     "output_type": "execute_result"
    }
   ],
   "source": [
    "monetary_bail['bail_paid'].describe()"
   ]
  },
  {
   "cell_type": "code",
   "execution_count": 42,
   "metadata": {},
   "outputs": [
    {
     "data": {
      "text/plain": [
       "(-75.001, 7500.0]     8138\n",
       "(7500.0, 15000.0]      433\n",
       "(22500.0, 30000.0]      76\n",
       "(15000.0, 22500.0]      66\n",
       "(45000.0, 52500.0]      18\n",
       "(30000.0, 37500.0]       8\n",
       "(67500.0, 75000.0]       3\n",
       "(37500.0, 45000.0]       2\n",
       "(60000.0, 67500.0]       0\n",
       "(52500.0, 60000.0]       0\n",
       "Name: bail_paid, dtype: int64"
      ]
     },
     "execution_count": 42,
     "metadata": {},
     "output_type": "execute_result"
    }
   ],
   "source": [
    "monetary_bail['bail_paid'].value_counts(bins=10)"
   ]
  },
  {
   "cell_type": "code",
   "execution_count": 43,
   "metadata": {},
   "outputs": [
    {
     "data": {
      "text/plain": [
       "0.0        4074\n",
       "2500.0      753\n",
       "1000.0      652\n",
       "5000.0      583\n",
       "500.0       446\n",
       "           ... \n",
       "27500.0       1\n",
       "25.0          1\n",
       "32500.0       1\n",
       "5030.0        1\n",
       "1550.0        1\n",
       "Name: bail_paid, Length: 66, dtype: int64"
      ]
     },
     "execution_count": 43,
     "metadata": {},
     "output_type": "execute_result"
    }
   ],
   "source": [
    "monetary_bail['bail_paid'].value_counts()"
   ]
  },
  {
   "cell_type": "markdown",
   "metadata": {},
   "source": [
    "### 5.2 Bail Amount vs. Bail Paid Across Offense Types"
   ]
  },
  {
   "cell_type": "code",
   "execution_count": 44,
   "metadata": {},
   "outputs": [],
   "source": [
    "# requires nmf topic modeling results"
   ]
  }
 ],
 "metadata": {
  "kernelspec": {
   "display_name": "Python 3",
   "language": "python",
   "name": "python3"
  },
  "language_info": {
   "codemirror_mode": {
    "name": "ipython",
    "version": 3
   },
   "file_extension": ".py",
   "mimetype": "text/x-python",
   "name": "python",
   "nbconvert_exporter": "python",
   "pygments_lexer": "ipython3",
   "version": "3.8.5"
  },
  "varInspector": {
   "cols": {
    "lenName": 16,
    "lenType": 16,
    "lenVar": 40
   },
   "kernels_config": {
    "python": {
     "delete_cmd_postfix": "",
     "delete_cmd_prefix": "del ",
     "library": "var_list.py",
     "varRefreshCmd": "print(var_dic_list())"
    },
    "r": {
     "delete_cmd_postfix": ") ",
     "delete_cmd_prefix": "rm(",
     "library": "var_list.r",
     "varRefreshCmd": "cat(var_dic_list()) "
    }
   },
   "types_to_exclude": [
    "module",
    "function",
    "builtin_function_or_method",
    "instance",
    "_Feature"
   ],
   "window_display": false
  }
 },
 "nbformat": 4,
 "nbformat_minor": 4
}
