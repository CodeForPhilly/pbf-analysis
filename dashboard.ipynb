{
 "cells": [
  {
   "cell_type": "markdown",
   "metadata": {},
   "source": [
    "# Dashboard\n",
    "* This notebook contains visualiations that could be incorporated into the final dashboard\n",
    "* \"Could your grandmother understand these visualizations?\""
   ]
  },
  {
   "cell_type": "code",
   "execution_count": 1,
   "metadata": {},
   "outputs": [],
   "source": [
    "import ast\n",
    "import datetime\n",
    "import itertools\n",
    "import matplotlib.pyplot as plt\n",
    "import numpy as np\n",
    "import pandas as pd\n",
    "import random\n",
    "import regex as re\n",
    "import seaborn as sns\n",
    "\n",
    "from dateutil.relativedelta import relativedelta\n",
    "from gensim.models.nmf import Nmf\n",
    "from gensim.corpora import Dictionary\n",
    "from gensim.models.coherencemodel import CoherenceModel\n",
    "from scipy.stats import chi2_contingency, mannwhitneyu\n",
    "\n",
    "import plotly.express as px\n",
    "import plotly.graph_objs as go\n",
    "import plotly.figure_factory as ff\n",
    "from ipywidgets import widgets\n",
    "from plotly.offline import download_plotlyjs, init_notebook_mode, plot, iplot\n",
    "\n",
    "import json\n",
    "import copy"
   ]
  },
  {
   "cell_type": "markdown",
   "metadata": {},
   "source": [
    "# 0. Import and preprocess"
   ]
  },
  {
   "cell_type": "code",
   "execution_count": 2,
   "metadata": {},
   "outputs": [
    {
     "data": {
      "text/html": [
       "<div>\n",
       "<style scoped>\n",
       "    .dataframe tbody tr th:only-of-type {\n",
       "        vertical-align: middle;\n",
       "    }\n",
       "\n",
       "    .dataframe tbody tr th {\n",
       "        vertical-align: top;\n",
       "    }\n",
       "\n",
       "    .dataframe thead th {\n",
       "        text-align: right;\n",
       "    }\n",
       "</style>\n",
       "<table border=\"1\" class=\"dataframe\">\n",
       "  <thead>\n",
       "    <tr style=\"text-align: right;\">\n",
       "      <th></th>\n",
       "      <th>attorney</th>\n",
       "      <th>attorney_type</th>\n",
       "      <th>offenses</th>\n",
       "      <th>offense_date</th>\n",
       "      <th>statute</th>\n",
       "      <th>offense_type</th>\n",
       "      <th>bail_set_by</th>\n",
       "      <th>bail_amount</th>\n",
       "      <th>bail_paid</th>\n",
       "      <th>bail_date</th>\n",
       "      <th>bail_type</th>\n",
       "      <th>dob</th>\n",
       "      <th>zip</th>\n",
       "      <th>arresting_officer</th>\n",
       "      <th>case_status</th>\n",
       "      <th>arrest_dt</th>\n",
       "      <th>prelim_hearing_dt</th>\n",
       "      <th>prelim_hearing_time</th>\n",
       "      <th>sex</th>\n",
       "      <th>race</th>\n",
       "    </tr>\n",
       "  </thead>\n",
       "  <tbody>\n",
       "    <tr>\n",
       "      <th>0</th>\n",
       "      <td>Defender Association of Philadelphia</td>\n",
       "      <td>Public</td>\n",
       "      <td>['DUI: Gen Imp/Inc of Driving Safely - 1st Off...</td>\n",
       "      <td>12/31/2019</td>\n",
       "      <td>['75 § 3802', '75 § 3323']</td>\n",
       "      <td>['driving after imbibing alcohol or utilizing ...</td>\n",
       "      <td>Bernard, Francis X.</td>\n",
       "      <td>0.0</td>\n",
       "      <td>0.0</td>\n",
       "      <td>01/01/2020</td>\n",
       "      <td>ROR</td>\n",
       "      <td>04/06/1994</td>\n",
       "      <td>19115</td>\n",
       "      <td>Jimenez Gonzalez, Edgardo</td>\n",
       "      <td>Active</td>\n",
       "      <td>01/01/2020</td>\n",
       "      <td>01/01/2020</td>\n",
       "      <td>4:05 am</td>\n",
       "      <td>Male</td>\n",
       "      <td>White</td>\n",
       "    </tr>\n",
       "    <tr>\n",
       "      <th>1</th>\n",
       "      <td>Joseph Kevin Kelly</td>\n",
       "      <td>Private</td>\n",
       "      <td>['DUI: Gen Imp/Inc of Driving Safely - 1st Off']</td>\n",
       "      <td>12/31/2019</td>\n",
       "      <td>['75 § 3802']</td>\n",
       "      <td>['driving after imbibing alcohol or utilizing ...</td>\n",
       "      <td>Bernard, Francis X.</td>\n",
       "      <td>0.0</td>\n",
       "      <td>0.0</td>\n",
       "      <td>01/01/2020</td>\n",
       "      <td>ROR</td>\n",
       "      <td>12/24/1995</td>\n",
       "      <td>19134</td>\n",
       "      <td>Fuentes, Kristina</td>\n",
       "      <td>Active</td>\n",
       "      <td>01/01/2020</td>\n",
       "      <td>01/01/2020</td>\n",
       "      <td>4:07 am</td>\n",
       "      <td>Male</td>\n",
       "      <td>White</td>\n",
       "    </tr>\n",
       "    <tr>\n",
       "      <th>2</th>\n",
       "      <td>Defender Association of Philadelphia</td>\n",
       "      <td>Public</td>\n",
       "      <td>['Retail Theft-Take Mdse']</td>\n",
       "      <td>12/31/2019</td>\n",
       "      <td>['18 § 3929']</td>\n",
       "      <td>['theft and related offenses']</td>\n",
       "      <td>Bernard, Francis X.</td>\n",
       "      <td>0.0</td>\n",
       "      <td>0.0</td>\n",
       "      <td>01/01/2020</td>\n",
       "      <td>ROR</td>\n",
       "      <td>09/30/1962</td>\n",
       "      <td>19131</td>\n",
       "      <td>Castro-Baez, Geovanny</td>\n",
       "      <td>Adjudicated</td>\n",
       "      <td>12/31/2019</td>\n",
       "      <td>01/01/2020</td>\n",
       "      <td>4:10 am</td>\n",
       "      <td>Male</td>\n",
       "      <td>Black</td>\n",
       "    </tr>\n",
       "    <tr>\n",
       "      <th>3</th>\n",
       "      <td>Defender Association of Philadelphia</td>\n",
       "      <td>Public</td>\n",
       "      <td>['Simple Assault', 'Recklessly Endangering Ano...</td>\n",
       "      <td>12/31/2019</td>\n",
       "      <td>['18 § 2701', '18 § 2705']</td>\n",
       "      <td>['assault', 'assault']</td>\n",
       "      <td>Bernard, Francis X.</td>\n",
       "      <td>30000.0</td>\n",
       "      <td>0.0</td>\n",
       "      <td>01/01/2020</td>\n",
       "      <td>Monetary</td>\n",
       "      <td>10/04/1987</td>\n",
       "      <td>19121</td>\n",
       "      <td>Rios, Christina</td>\n",
       "      <td>Active</td>\n",
       "      <td>12/31/2019</td>\n",
       "      <td>01/01/2020</td>\n",
       "      <td>4:15 am</td>\n",
       "      <td>Male</td>\n",
       "      <td>Black</td>\n",
       "    </tr>\n",
       "    <tr>\n",
       "      <th>4</th>\n",
       "      <td>Lee Mandell</td>\n",
       "      <td>Court Appointed</td>\n",
       "      <td>['Robbery-Inflict Threat Imm Bod Inj', 'Conspi...</td>\n",
       "      <td>12/31/2019</td>\n",
       "      <td>['18 § 3701 §§ A1IV', '18 § 903 §§ C', '18 § 3...</td>\n",
       "      <td>['robbery', 'inchoate crimes', 'theft and rela...</td>\n",
       "      <td>Pittman, Joffie C. III</td>\n",
       "      <td>30000.0</td>\n",
       "      <td>0.0</td>\n",
       "      <td>01/09/2020</td>\n",
       "      <td>Unsecured</td>\n",
       "      <td>04/23/2001</td>\n",
       "      <td>19135-3509</td>\n",
       "      <td>Affiant</td>\n",
       "      <td>Closed</td>\n",
       "      <td>01/01/2020</td>\n",
       "      <td>01/01/2020</td>\n",
       "      <td>8:39 am</td>\n",
       "      <td>Male</td>\n",
       "      <td>Black</td>\n",
       "    </tr>\n",
       "  </tbody>\n",
       "</table>\n",
       "</div>"
      ],
      "text/plain": [
       "                                 attorney    attorney_type  \\\n",
       "0   Defender Association of Philadelphia            Public   \n",
       "1                     Joseph Kevin Kelly           Private   \n",
       "2   Defender Association of Philadelphia            Public   \n",
       "3   Defender Association of Philadelphia            Public   \n",
       "4                            Lee Mandell   Court Appointed   \n",
       "\n",
       "                                            offenses offense_date  \\\n",
       "0  ['DUI: Gen Imp/Inc of Driving Safely - 1st Off...   12/31/2019   \n",
       "1   ['DUI: Gen Imp/Inc of Driving Safely - 1st Off']   12/31/2019   \n",
       "2                         ['Retail Theft-Take Mdse']   12/31/2019   \n",
       "3  ['Simple Assault', 'Recklessly Endangering Ano...   12/31/2019   \n",
       "4  ['Robbery-Inflict Threat Imm Bod Inj', 'Conspi...   12/31/2019   \n",
       "\n",
       "                                             statute  \\\n",
       "0                         ['75 § 3802', '75 § 3323']   \n",
       "1                                      ['75 § 3802']   \n",
       "2                                      ['18 § 3929']   \n",
       "3                         ['18 § 2701', '18 § 2705']   \n",
       "4  ['18 § 3701 §§ A1IV', '18 § 903 §§ C', '18 § 3...   \n",
       "\n",
       "                                        offense_type             bail_set_by  \\\n",
       "0  ['driving after imbibing alcohol or utilizing ...     Bernard, Francis X.   \n",
       "1  ['driving after imbibing alcohol or utilizing ...     Bernard, Francis X.   \n",
       "2                     ['theft and related offenses']     Bernard, Francis X.   \n",
       "3                             ['assault', 'assault']     Bernard, Francis X.   \n",
       "4  ['robbery', 'inchoate crimes', 'theft and rela...  Pittman, Joffie C. III   \n",
       "\n",
       "   bail_amount  bail_paid   bail_date  bail_type         dob         zip  \\\n",
       "0          0.0        0.0  01/01/2020        ROR  04/06/1994       19115   \n",
       "1          0.0        0.0  01/01/2020        ROR  12/24/1995       19134   \n",
       "2          0.0        0.0  01/01/2020        ROR  09/30/1962       19131   \n",
       "3      30000.0        0.0  01/01/2020   Monetary  10/04/1987       19121   \n",
       "4      30000.0        0.0  01/09/2020  Unsecured  04/23/2001  19135-3509   \n",
       "\n",
       "            arresting_officer  case_status   arrest_dt prelim_hearing_dt  \\\n",
       "0   Jimenez Gonzalez, Edgardo       Active  01/01/2020        01/01/2020   \n",
       "1           Fuentes, Kristina       Active  01/01/2020        01/01/2020   \n",
       "2       Castro-Baez, Geovanny  Adjudicated  12/31/2019        01/01/2020   \n",
       "3             Rios, Christina       Active  12/31/2019        01/01/2020   \n",
       "4                     Affiant       Closed  01/01/2020        01/01/2020   \n",
       "\n",
       "  prelim_hearing_time   sex   race  \n",
       "0             4:05 am  Male  White  \n",
       "1             4:07 am  Male  White  \n",
       "2             4:10 am  Male  Black  \n",
       "3             4:15 am  Male  Black  \n",
       "4             8:39 am  Male  Black  "
      ]
     },
     "execution_count": 2,
     "metadata": {},
     "output_type": "execute_result"
    }
   ],
   "source": [
    "# Import and join docket and court summary csv files\n",
    "docketdf = pd.read_csv(\"docket-parsed.csv\", index_col=0)\n",
    "courtdf = pd.read_csv(\"court-parsed.csv\", index_col=0)\n",
    "df = docketdf.merge(courtdf, on='docket_no', how='left', suffixes=('', '_y'))\n",
    "df.reset_index(inplace=True)\n",
    "df.drop(columns=['docket_no'], inplace=True)\n",
    "df.drop(df.filter(regex='_y$').columns.tolist(),axis=1, inplace=True)\n",
    "df.head()"
   ]
  },
  {
   "cell_type": "code",
   "execution_count": 3,
   "metadata": {},
   "outputs": [],
   "source": [
    "# Note: will need to change _dt to _date for column headings in new data\n",
    "\n",
    "# convert string to datetime\n",
    "#df[\"offense_date\"] = pd.to_datetime(df[\"offense_date\"])\n",
    "df[\"arrest_dt\"] = pd.to_datetime(df[\"arrest_dt\"])\n",
    "df[\"dob\"] = pd.to_datetime(df[\"dob\"])\n",
    "df[\"bail_date\"] = pd.to_datetime(df[\"bail_date\"])\n",
    "df[\"prelim_hearing_dt\"] = df[\"prelim_hearing_dt\"].apply(lambda x: str(x).split(' ')[0] if pd.notnull(x) else x)\n",
    "df[\"prelim_hearing_dt\"] = pd.to_datetime(df[\"prelim_hearing_dt\"])\n",
    "df[\"prelim_hearing_time\"] = pd.to_datetime(df[\"prelim_hearing_time\"])\n",
    "\n",
    "# age column\n",
    "#df['age'] = df['dob'].apply(lambda x: 2020-x.year)\n",
    "df['age'] = df['arrest_dt'] - df['dob']\n",
    "df['age'] = df['age'].apply(lambda x: np.floor(x.days/365.2425))\n",
    "\n",
    "# public defender column: 1 if public defender, 0 if private defender\n",
    "df[\"public_defender\"] = df[\"attorney\"].apply(lambda x: 1 if x =='Defender Association of  Philadelphia' else 0)\n",
    "\n",
    "# convert type of \"offenses\" and \"parsed_offenses\" from string representation of list to list\n",
    "df[\"offenses\"] = df[\"offenses\"].apply(lambda x: ast.literal_eval(x))\n",
    "df['offense_type'] = df['offense_type'].apply(lambda x: ast.literal_eval(x))\n",
    "#df[\"parsed_offenses\"] = df[\"parsed_offenses\"].apply(lambda x: ast.literal_eval(x))\n",
    "\n",
    "# zipcode: remove everything after hyphen\n",
    "df[\"zipcode_clean\"] = df[\"zip\"].apply(lambda x: re.sub('-.*$','',x) if type(x) == str else x)\n",
    "\n",
    "# Create column indicating whether zipcode is in philadelphia or not\n",
    "philly_zipcode = list(range(19102, 19155))\n",
    "philly_zipcode = [str(item) for item in philly_zipcode]\n",
    "df['philly_zipcode'] = df['zipcode_clean'].apply(lambda x: 1 if x in philly_zipcode else 0)"
   ]
  },
  {
   "cell_type": "code",
   "execution_count": 4,
   "metadata": {},
   "outputs": [],
   "source": [
    "# remove arrests that occurred between 5/31 - 6/3 (BLM movement)\n",
    "df = df[(df['arrest_dt'] < np.datetime64('2020-05-31')) | (df['arrest_dt'] > np.datetime64('2020-06-03'))]\n",
    "df.reset_index(drop = True, inplace = True)"
   ]
  },
  {
   "cell_type": "code",
   "execution_count": 5,
   "metadata": {},
   "outputs": [
    {
     "data": {
      "text/html": [
       "<div>\n",
       "<style scoped>\n",
       "    .dataframe tbody tr th:only-of-type {\n",
       "        vertical-align: middle;\n",
       "    }\n",
       "\n",
       "    .dataframe tbody tr th {\n",
       "        vertical-align: top;\n",
       "    }\n",
       "\n",
       "    .dataframe thead th {\n",
       "        text-align: right;\n",
       "    }\n",
       "</style>\n",
       "<table border=\"1\" class=\"dataframe\">\n",
       "  <thead>\n",
       "    <tr style=\"text-align: right;\">\n",
       "      <th></th>\n",
       "      <th>attorney</th>\n",
       "      <th>attorney_type</th>\n",
       "      <th>offenses</th>\n",
       "      <th>offense_date</th>\n",
       "      <th>statute</th>\n",
       "      <th>offense_type</th>\n",
       "      <th>bail_set_by</th>\n",
       "      <th>bail_amount</th>\n",
       "      <th>bail_paid</th>\n",
       "      <th>bail_date</th>\n",
       "      <th>...</th>\n",
       "      <th>case_status</th>\n",
       "      <th>arrest_dt</th>\n",
       "      <th>prelim_hearing_dt</th>\n",
       "      <th>prelim_hearing_time</th>\n",
       "      <th>sex</th>\n",
       "      <th>race</th>\n",
       "      <th>age</th>\n",
       "      <th>public_defender</th>\n",
       "      <th>zipcode_clean</th>\n",
       "      <th>philly_zipcode</th>\n",
       "    </tr>\n",
       "  </thead>\n",
       "  <tbody>\n",
       "    <tr>\n",
       "      <th>0</th>\n",
       "      <td>Defender Association of Philadelphia</td>\n",
       "      <td>Public</td>\n",
       "      <td>[DUI: Gen Imp/Inc of Driving Safely - 1st Off,...</td>\n",
       "      <td>12/31/2019</td>\n",
       "      <td>['75 § 3802', '75 § 3323']</td>\n",
       "      <td>[driving after imbibing alcohol or utilizing d...</td>\n",
       "      <td>Bernard, Francis X.</td>\n",
       "      <td>0.0</td>\n",
       "      <td>0.0</td>\n",
       "      <td>2020-01-01</td>\n",
       "      <td>...</td>\n",
       "      <td>Active</td>\n",
       "      <td>2020-01-01</td>\n",
       "      <td>2020-01-01</td>\n",
       "      <td>2020-12-06 04:05:00</td>\n",
       "      <td>Male</td>\n",
       "      <td>White</td>\n",
       "      <td>25.0</td>\n",
       "      <td>0</td>\n",
       "      <td>19115</td>\n",
       "      <td>1</td>\n",
       "    </tr>\n",
       "    <tr>\n",
       "      <th>1</th>\n",
       "      <td>Joseph Kevin Kelly</td>\n",
       "      <td>Private</td>\n",
       "      <td>[DUI: Gen Imp/Inc of Driving Safely - 1st Off]</td>\n",
       "      <td>12/31/2019</td>\n",
       "      <td>['75 § 3802']</td>\n",
       "      <td>[driving after imbibing alcohol or utilizing d...</td>\n",
       "      <td>Bernard, Francis X.</td>\n",
       "      <td>0.0</td>\n",
       "      <td>0.0</td>\n",
       "      <td>2020-01-01</td>\n",
       "      <td>...</td>\n",
       "      <td>Active</td>\n",
       "      <td>2020-01-01</td>\n",
       "      <td>2020-01-01</td>\n",
       "      <td>2020-12-06 04:07:00</td>\n",
       "      <td>Male</td>\n",
       "      <td>White</td>\n",
       "      <td>24.0</td>\n",
       "      <td>0</td>\n",
       "      <td>19134</td>\n",
       "      <td>1</td>\n",
       "    </tr>\n",
       "    <tr>\n",
       "      <th>2</th>\n",
       "      <td>Defender Association of Philadelphia</td>\n",
       "      <td>Public</td>\n",
       "      <td>[Retail Theft-Take Mdse]</td>\n",
       "      <td>12/31/2019</td>\n",
       "      <td>['18 § 3929']</td>\n",
       "      <td>[theft and related offenses]</td>\n",
       "      <td>Bernard, Francis X.</td>\n",
       "      <td>0.0</td>\n",
       "      <td>0.0</td>\n",
       "      <td>2020-01-01</td>\n",
       "      <td>...</td>\n",
       "      <td>Adjudicated</td>\n",
       "      <td>2019-12-31</td>\n",
       "      <td>2020-01-01</td>\n",
       "      <td>2020-12-06 04:10:00</td>\n",
       "      <td>Male</td>\n",
       "      <td>Black</td>\n",
       "      <td>57.0</td>\n",
       "      <td>0</td>\n",
       "      <td>19131</td>\n",
       "      <td>1</td>\n",
       "    </tr>\n",
       "    <tr>\n",
       "      <th>3</th>\n",
       "      <td>Defender Association of Philadelphia</td>\n",
       "      <td>Public</td>\n",
       "      <td>[Simple Assault, Recklessly Endangering Anothe...</td>\n",
       "      <td>12/31/2019</td>\n",
       "      <td>['18 § 2701', '18 § 2705']</td>\n",
       "      <td>[assault, assault]</td>\n",
       "      <td>Bernard, Francis X.</td>\n",
       "      <td>30000.0</td>\n",
       "      <td>0.0</td>\n",
       "      <td>2020-01-01</td>\n",
       "      <td>...</td>\n",
       "      <td>Active</td>\n",
       "      <td>2019-12-31</td>\n",
       "      <td>2020-01-01</td>\n",
       "      <td>2020-12-06 04:15:00</td>\n",
       "      <td>Male</td>\n",
       "      <td>Black</td>\n",
       "      <td>32.0</td>\n",
       "      <td>0</td>\n",
       "      <td>19121</td>\n",
       "      <td>1</td>\n",
       "    </tr>\n",
       "    <tr>\n",
       "      <th>4</th>\n",
       "      <td>Lee Mandell</td>\n",
       "      <td>Court Appointed</td>\n",
       "      <td>[Robbery-Inflict Threat Imm Bod Inj, Conspirac...</td>\n",
       "      <td>12/31/2019</td>\n",
       "      <td>['18 § 3701 §§ A1IV', '18 § 903 §§ C', '18 § 3...</td>\n",
       "      <td>[robbery, inchoate crimes, theft and related o...</td>\n",
       "      <td>Pittman, Joffie C. III</td>\n",
       "      <td>30000.0</td>\n",
       "      <td>0.0</td>\n",
       "      <td>2020-01-09</td>\n",
       "      <td>...</td>\n",
       "      <td>Closed</td>\n",
       "      <td>2020-01-01</td>\n",
       "      <td>2020-01-01</td>\n",
       "      <td>2020-12-06 08:39:00</td>\n",
       "      <td>Male</td>\n",
       "      <td>Black</td>\n",
       "      <td>18.0</td>\n",
       "      <td>0</td>\n",
       "      <td>19135</td>\n",
       "      <td>1</td>\n",
       "    </tr>\n",
       "  </tbody>\n",
       "</table>\n",
       "<p>5 rows × 24 columns</p>\n",
       "</div>"
      ],
      "text/plain": [
       "                                 attorney    attorney_type  \\\n",
       "0   Defender Association of Philadelphia            Public   \n",
       "1                     Joseph Kevin Kelly           Private   \n",
       "2   Defender Association of Philadelphia            Public   \n",
       "3   Defender Association of Philadelphia            Public   \n",
       "4                            Lee Mandell   Court Appointed   \n",
       "\n",
       "                                            offenses offense_date  \\\n",
       "0  [DUI: Gen Imp/Inc of Driving Safely - 1st Off,...   12/31/2019   \n",
       "1     [DUI: Gen Imp/Inc of Driving Safely - 1st Off]   12/31/2019   \n",
       "2                           [Retail Theft-Take Mdse]   12/31/2019   \n",
       "3  [Simple Assault, Recklessly Endangering Anothe...   12/31/2019   \n",
       "4  [Robbery-Inflict Threat Imm Bod Inj, Conspirac...   12/31/2019   \n",
       "\n",
       "                                             statute  \\\n",
       "0                         ['75 § 3802', '75 § 3323']   \n",
       "1                                      ['75 § 3802']   \n",
       "2                                      ['18 § 3929']   \n",
       "3                         ['18 § 2701', '18 § 2705']   \n",
       "4  ['18 § 3701 §§ A1IV', '18 § 903 §§ C', '18 § 3...   \n",
       "\n",
       "                                        offense_type             bail_set_by  \\\n",
       "0  [driving after imbibing alcohol or utilizing d...     Bernard, Francis X.   \n",
       "1  [driving after imbibing alcohol or utilizing d...     Bernard, Francis X.   \n",
       "2                       [theft and related offenses]     Bernard, Francis X.   \n",
       "3                                 [assault, assault]     Bernard, Francis X.   \n",
       "4  [robbery, inchoate crimes, theft and related o...  Pittman, Joffie C. III   \n",
       "\n",
       "   bail_amount  bail_paid  bail_date  ...  case_status  arrest_dt  \\\n",
       "0          0.0        0.0 2020-01-01  ...       Active 2020-01-01   \n",
       "1          0.0        0.0 2020-01-01  ...       Active 2020-01-01   \n",
       "2          0.0        0.0 2020-01-01  ...  Adjudicated 2019-12-31   \n",
       "3      30000.0        0.0 2020-01-01  ...       Active 2019-12-31   \n",
       "4      30000.0        0.0 2020-01-09  ...       Closed 2020-01-01   \n",
       "\n",
       "  prelim_hearing_dt prelim_hearing_time   sex   race   age public_defender  \\\n",
       "0        2020-01-01 2020-12-06 04:05:00  Male  White  25.0               0   \n",
       "1        2020-01-01 2020-12-06 04:07:00  Male  White  24.0               0   \n",
       "2        2020-01-01 2020-12-06 04:10:00  Male  Black  57.0               0   \n",
       "3        2020-01-01 2020-12-06 04:15:00  Male  Black  32.0               0   \n",
       "4        2020-01-01 2020-12-06 08:39:00  Male  Black  18.0               0   \n",
       "\n",
       "  zipcode_clean philly_zipcode  \n",
       "0         19115              1  \n",
       "1         19134              1  \n",
       "2         19131              1  \n",
       "3         19121              1  \n",
       "4         19135              1  \n",
       "\n",
       "[5 rows x 24 columns]"
      ]
     },
     "execution_count": 5,
     "metadata": {},
     "output_type": "execute_result"
    }
   ],
   "source": [
    "df.head()"
   ]
  },
  {
   "cell_type": "markdown",
   "metadata": {},
   "source": [
    "# 1. Aggregate bail information for the year 2020"
   ]
  },
  {
   "cell_type": "code",
   "execution_count": 6,
   "metadata": {},
   "outputs": [
    {
     "name": "stdout",
     "output_type": "stream",
     "text": [
      "Total number of cases analyzed (excluding 5/31 - 6/3): 20,426\n",
      "Monetary       8744\n",
      "ROR            5627\n",
      "Unsecured      5599\n",
      "Nonmonetary     122\n",
      "Nominal           4\n",
      "Name: bail_type, dtype: int64\n",
      "-> Monetary bail set in 42.8% of cases\n",
      "\n",
      "Total bail set: $1,121,468,796.0\n",
      "Total bail paid: $19,638,385.0\n"
     ]
    },
    {
     "data": {
      "image/png": "[encoded data removed]",
      "text/plain": [
       "<Figure size 432x288 with 1 Axes>"
      ]
     },
     "metadata": {},
     "output_type": "display_data"
    }
   ],
   "source": [
    "# Total cases, distribution of bail set\n",
    "totalCases = len(df.index)\n",
    "print(\"Total number of cases analyzed (excluding 5/31 - 6/3): {0:,}\".format(totalCases))\n",
    "\n",
    "# Bail type distribution\n",
    "df_bail = df['bail_type'].value_counts()\n",
    "print(df_bail)\n",
    "bailTypes = df_bail.keys().tolist()\n",
    "bailTypeCounts = df_bail.values\n",
    "\n",
    "plt.pie(bailTypeCounts, labels=bailTypes, autopct='%1.0f%%')\n",
    "\n",
    "# Total amount of bail set\n",
    "df_monetary = df[df['bail_type'] == \"Monetary\"]\n",
    "totalBailSet = df['bail_amount'].sum()\n",
    "totalBailPaid = df['bail_paid'].sum()\n",
    "print(\"-> Monetary bail set in {0:.1f}% of cases\".format(100*df_bail[\"Monetary\"]/totalCases))\n",
    "print(\"\\nTotal bail set: ${0:,}\".format(totalBailSet))\n",
    "print(\"Total bail paid: ${0:,}\".format(totalBailPaid))"
   ]
  },
  {
   "cell_type": "markdown",
   "metadata": {},
   "source": [
    "### Below is just the above reproduced in a sample interactive viz where one can use the slider to select a range of dates. Not sure how to incorporate the distribution of bail types yet."
   ]
  },
  {
   "cell_type": "markdown",
   "metadata": {},
   "source": [
    "*Also not sure whether `bail_date` or another date field should be used"
   ]
  },
  {
   "cell_type": "code",
   "execution_count": 7,
   "metadata": {},
   "outputs": [],
   "source": [
    "# Get start/end dates for date range to be used in slider\n",
    "start_date = df['bail_date'].min()\n",
    "end_date = df['bail_date'].max()\n",
    "dates = pd.date_range(start_date, end_date, freq='D')"
   ]
  },
  {
   "cell_type": "code",
   "execution_count": 8,
   "metadata": {},
   "outputs": [
    {
     "data": {
      "application/vnd.jupyter.widget-view+json": {
       "model_id": "091d7486531e474f977249911259bbcf",
       "version_major": 2,
       "version_minor": 0
      },
      "text/plain": [
       "VBox(children=(SelectionRangeSlider(description='Dates', index=(0, 331), layout=Layout(width='550px'), options…"
      ]
     },
     "metadata": {},
     "output_type": "display_data"
    }
   ],
   "source": [
    "# Turn dates into options on slider\n",
    "options = [(date.strftime('%d %b %Y'), date) for date in dates]\n",
    "index = (0, len(options)-1)\n",
    "\n",
    "# Date range slider\n",
    "select_date = widgets.SelectionRangeSlider(\n",
    "    options=options,\n",
    "    index=index,\n",
    "    description='Dates',\n",
    "    orientation='horizontal',\n",
    "    layout={'width': '550px'}\n",
    ")\n",
    "\n",
    "# Card for Case Count\n",
    "cases = go.Indicator(\n",
    "    mode = 'number',\n",
    "    value = len(df),\n",
    "    domain = {'row': 0, 'column': 0 }, \n",
    "    title = {'text': 'Total Cases'})\n",
    "\n",
    "# Card for Monetary Bail Frequency\n",
    "frequency = go.Indicator(\n",
    "    mode = 'number',\n",
    "    value = len(df[df['bail_type'] == 'Monetary']) / len(df) * 100.,\n",
    "    number = {'suffix': '%'},\n",
    "    domain = {'row': 0, 'column': 1 }, \n",
    "    title = {'text': 'Monetary Bail Frequency'})\n",
    "\n",
    "# Card for Total Bail Amt\n",
    "amount = go.Indicator(\n",
    "    mode = 'number',\n",
    "    value = df['bail_amount'].sum(),\n",
    "    number = {'prefix': '$'},\n",
    "    domain = {'row': 1, 'column': 0 }, \n",
    "    title = {'text': 'Total Bail Set'})\n",
    "\n",
    "# Card for Total Bail Paid\n",
    "paid = go.Indicator(\n",
    "    mode = 'number',\n",
    "    value = df['bail_paid'].sum(),\n",
    "    number = {'prefix': '$'},\n",
    "    domain = {'row': 1, 'column': 1 }, \n",
    "    title = {'text': 'Total Bail Paid'})\n",
    "\n",
    "# Set up figure as 2x2 grid of the cards in the order specified\n",
    "card_fig = go.FigureWidget()\n",
    "card_fig.add_trace(cases)\n",
    "card_fig.add_trace(frequency)\n",
    "card_fig.add_trace(amount)\n",
    "card_fig.add_trace(paid)\n",
    "card_fig.update_layout(\n",
    "    grid = {'rows': 2, 'columns': 2, 'pattern': \"independent\"})\n",
    "\n",
    "# Function that updates each card based on the new date range selected on slider\n",
    "def response(change):\n",
    "    # New date range and filter df\n",
    "    start, end = select_date.value[0], select_date.value[1]\n",
    "    tmp = df[(df['bail_date'] >= start)&(df['bail_date'] <= end)]\n",
    "    \n",
    "    # Update values for each card\n",
    "    card_fig.data[0].value = len(tmp)\n",
    "    card_fig.data[1].value = len(tmp[tmp['bail_type'] == 'Monetary']) / len(tmp) * 100.\n",
    "    card_fig.data[2].value = tmp['bail_amount'].sum()\n",
    "    card_fig.data[3].value = tmp['bail_paid'].sum()\n",
    "\n",
    "# Set up date range slider to update cards\n",
    "select_date.observe(response, names='value')\n",
    "\n",
    "widgets.VBox([select_date, card_fig])"
   ]
  },
  {
   "cell_type": "markdown",
   "metadata": {},
   "source": [
    "# 2. Visualizations on magistrate information"
   ]
  },
  {
   "cell_type": "markdown",
   "metadata": {},
   "source": [
    "## 2.1 Select magistrates to include in the analysis  \n",
    "* Out of 612 magistrates in data, select magistrates to analyze"
   ]
  },
  {
   "cell_type": "code",
   "execution_count": null,
   "metadata": {},
   "outputs": [],
   "source": [
    "print('Total number of magistrates: ', len(df['bail_set_by'].value_counts()))"
   ]
  },
  {
   "cell_type": "markdown",
   "metadata": {},
   "source": [
    "<b> Total number of cases handled by each magistrate </b>"
   ]
  },
  {
   "cell_type": "code",
   "execution_count": null,
   "metadata": {
    "scrolled": true
   },
   "outputs": [],
   "source": [
    "n_magistrates = 11\n",
    "plt.barh(df['bail_set_by'].value_counts()[:n_magistrates].keys()[::-1], df['bail_set_by'].value_counts()[:n_magistrates].values[::-1])\n",
    "plt.xlabel('number of cases')\n",
    "plt.ylabel('magistrate')\n",
    "plt.title('Total number of cases by magistrate')\n",
    "plt.show()"
   ]
  },
  {
   "cell_type": "code",
   "execution_count": null,
   "metadata": {
    "scrolled": true
   },
   "outputs": [],
   "source": [
    "df_magistrate = pd.crosstab(index = df['bail_set_by'], columns =df['bail_type'])\n",
    "# note: total excludes any entries with 'bail_type' == NaN\n",
    "df_magistrate['Total'] = df_magistrate.sum(axis = 1)\n",
    "df_magistrate.sort_values(by = ['Total'], ascending = False, inplace = True)\n",
    "print('Total number of magistrates (with valid bail type): {0}'.format(len(df_magistrate.index)))"
   ]
  },
  {
   "cell_type": "code",
   "execution_count": null,
   "metadata": {},
   "outputs": [],
   "source": [
    "# Magistrates that were involved in more than caseFloor cases\n",
    "caseFloor = 175\n",
    "magistrates = df_magistrate[df_magistrate['Total'] > caseFloor].index\n",
    "print(\"Number of magistrates with more than {0} cases: {1}\".format(caseFloor, len(magistrates)))"
   ]
  },
  {
   "cell_type": "code",
   "execution_count": null,
   "metadata": {
    "scrolled": true
   },
   "outputs": [],
   "source": [
    "# get date ranges\n",
    "start_date = datetime.date(2020, 1, 1)\n",
    "end_date = datetime.date(2020, 12, 31)\n",
    "delta = relativedelta(months = 1)\n",
    "date_range = []\n",
    "\n",
    "while start_date <= end_date:\n",
    "    date_range.append(start_date)\n",
    "    start_date += delta\n",
    "\n",
    "# plot\n",
    "fig, ax = plt.subplots(nrows = 2, ncols = 6, figsize = (20, 6))\n",
    "plt.rcParams['font.size'] = 10\n",
    "fig.suptitle('prelim hearing date for magistrate')\n",
    "for idx, name in enumerate(magistrates):\n",
    "    row = idx // 6\n",
    "    col = idx % 6\n",
    "    ax[row][col].hist(df[df['bail_set_by'] == name].prelim_hearing_dt, bins = 12, range = (datetime.date(2020,1,1), datetime.date(2020, 12 ,31)))\n",
    "    ax[row][col].set_title(name)\n",
    "\n",
    "for sub in ax.flat:\n",
    "    sub.set_xticks(date_range)\n",
    "    sub.set_xticklabels([item.month for item in date_range])\n",
    "    sub.set_xlabel('month')\n",
    "    sub.set_ylabel('count')\n",
    "plt.tight_layout()\n",
    "plt.show()"
   ]
  },
  {
   "cell_type": "markdown",
   "metadata": {},
   "source": [
    "* 'Emergency Arraignment Court Magistrate' and 'E-Filing Judge' are probably the same entity.\n",
    "    * Are they filed under a different name starting October? Not sure why we don't see 'E-Filing Judge' after October\n",
    "* There are a few people (Riamaiden-DeLeon, Williams, Rainey, Connor, Devlin, Rodriguez) that were involved in part of the year. \n"
   ]
  },
  {
   "cell_type": "code",
   "execution_count": null,
   "metadata": {
    "scrolled": true
   },
   "outputs": [],
   "source": [
    "# Correct 'Emergency Arraignment Court Magistrate' to 'E-Filing Judge'\n",
    "df['bail_set_by'] = df['bail_set_by'].apply(lambda x: 'E-Filing Judge' if x == 'Emergency Arraignment Court Magistrate' else x)"
   ]
  },
  {
   "cell_type": "code",
   "execution_count": null,
   "metadata": {
    "scrolled": true
   },
   "outputs": [],
   "source": [
    "# selected magistrates \n",
    "magistrates = ['Bernard, Francis X.', \n",
    "               \"O'Brien, James\", \n",
    "               'Stack, Patrick', \n",
    "               'Rigmaiden-DeLeon, Marilyn',\n",
    "               'E-Filing Judge', \n",
    "               'Williams, Naomi',\n",
    "               'Rainey, Debra', \n",
    "               'Connor, Lauren', \n",
    "               'Devlin, Kevin R.']\n",
    "print(\"Selected magistrates: \")\n",
    "for name in magistrates:\n",
    "    print(name)"
   ]
  },
  {
   "cell_type": "code",
   "execution_count": null,
   "metadata": {},
   "outputs": [],
   "source": [
    "# select core magistrates\n",
    "core_magistrates = ['Bernard, Francis X.', 'Rigmaiden-DeLeon, Marilyn', \"O'Brien, James\", 'Stack, Patrick', 'E-Filing Judge']\n",
    "print(\"Selected core magistrates: \")\n",
    "for name in core_magistrates:\n",
    "    print(name)"
   ]
  },
  {
   "cell_type": "markdown",
   "metadata": {},
   "source": [
    "## 2.2 Are bail type and magistrate correlated?"
   ]
  },
  {
   "cell_type": "code",
   "execution_count": null,
   "metadata": {},
   "outputs": [],
   "source": [
    "monetary = df_magistrate['Monetary'][magistrates].values[::-1]\n",
    "ROR = df_magistrate['ROR'][magistrates].values[::-1]\n",
    "Unsecured = df_magistrate['Unsecured'][magistrates].values[::-1]\n",
    "Nonmonetary = df_magistrate['Nonmonetary'][magistrates].values[::-1]\n",
    "Nominal = df_magistrate['Nominal'][magistrates].values[::-1]\n",
    "ind = range(len(magistrates))\n",
    "\n",
    "plt.barh(ind, monetary)\n",
    "plt.barh(ind, ROR, left = monetary)\n",
    "plt.barh(ind, Unsecured, left = monetary + ROR)\n",
    "plt.barh(ind, Nonmonetary, left = monetary + ROR + Unsecured)\n",
    "plt.barh(ind, Nominal, left = monetary + ROR + Unsecured + Nonmonetary)\n",
    "plt.legend(labels = ['Monetary', 'ROR', 'Unsecured', 'Nonmonetary', 'Nominal'])\n",
    "plt.ylabel('magistrate')\n",
    "plt.yticks(ind, magistrates[::-1])\n",
    "plt.ylabel('case count')\n",
    "plt.title('Bail type by magistrate')\n",
    "plt.show()"
   ]
  },
  {
   "cell_type": "code",
   "execution_count": null,
   "metadata": {},
   "outputs": [],
   "source": [
    "# Pie chart of core magistrates\n",
    "\n",
    "# combine 'nominal' and 'nonmonetary' to 'other'\n",
    "df_magistrate['Other'] = df_magistrate['Nominal'] + df_magistrate['Nonmonetary']\n",
    "\n",
    "bail_types = ['Monetary','ROR', 'Unsecured', 'Other']\n",
    "fig, ax = plt.subplots(ncols = 5, figsize = (15, 5))\n",
    "plt.rcParams['font.size'] = 10\n",
    "fig.suptitle('% of bail type for magistrate')\n",
    "for idx, name in enumerate(core_magistrates):\n",
    "    ax[idx].pie(df_magistrate.loc[name, bail_types], labels = bail_types, autopct='%1.0f%%')\n",
    "    ax[idx].set_title(name)\n",
    "\n",
    "# common legend\n",
    "fig.subplots_adjust(top=0.9, left=0.1, right=0.9, bottom=0.12)  # create some space below the plots by increasing the bottom-value\n",
    "ax.flatten()[-2].legend(loc='upper center', bbox_to_anchor=(-0.7, 0), ncol=4)\n",
    "\n",
    "plt.show()"
   ]
  },
  {
   "cell_type": "markdown",
   "metadata": {},
   "source": [
    "Q: Are bail type (monetary vs others) and magistrate related?  "
   ]
  },
  {
   "cell_type": "code",
   "execution_count": null,
   "metadata": {},
   "outputs": [],
   "source": [
    "# get column for non-monetary\n",
    "df_magistrate['non_monetary'] = df_magistrate['Total'] - df_magistrate['Monetary']\n",
    "df_chi = df_magistrate[['Monetary', 'non_monetary']]\n",
    "\n",
    "# chi-squared test\n",
    "chi2, p, dof, ex = chi2_contingency(df_chi.loc[core_magistrates])\n",
    "print('p-value of chi-square test: ', p)"
   ]
  },
  {
   "cell_type": "markdown",
   "metadata": {},
   "source": [
    "* At significance level 0.01, chi-square test tells us that **bail type and magistrate are related.** \n",
    "* It's probably detecting the fact that bails set by E-Filing Judge is less likely to result in monetary bail, while bail set by Rigmaiden-DeLeon is more likely to result in monetary bail."
   ]
  },
  {
   "cell_type": "markdown",
   "metadata": {},
   "source": [
    "## 2.3 For monetary bail, does bail amount vary by magistrate? "
   ]
  },
  {
   "cell_type": "code",
   "execution_count": null,
   "metadata": {},
   "outputs": [],
   "source": [
    "# plot bail amount (bar plot) by magistrate\n",
    "df['magistrate'] = df['bail_set_by'].apply(lambda x: 1 if x in magistrates else 0)\n",
    "df_monetary = df[(df['bail_type'] == 'Monetary') & (df['magistrate'] == 1)][['bail_set_by', 'bail_amount']]\n",
    "\n",
    "# order by median amount\n",
    "order = df_monetary.groupby(['bail_set_by']).bail_amount.median().sort_values(ascending = False).keys()\n",
    "\n",
    "# plot\n",
    "plt.rcParams['font.size'] = 10\n",
    "sns.boxplot( y=df_monetary[\"bail_set_by\"], x=df[\"bail_amount\"], \n",
    "           order = order)\n",
    "plt.xlim(0, 300000)\n",
    "plt.xlabel('bail amount')\n",
    "plt.xticks(ticks = range(0, 350000, 50000), labels = ['0','50k','100k','150k','200k','250k','300k'])\n",
    "plt.ylabel('magistrate')\n",
    "plt.title('bail amount by magistrate')\n",
    "plt.show()"
   ]
  },
  {
   "cell_type": "code",
   "execution_count": null,
   "metadata": {},
   "outputs": [],
   "source": [
    "# plot bail amount (bar plot) for core magistrates\n",
    "df['core_magistrate'] = df['bail_set_by'].apply(lambda x: 1 if x in core_magistrates else 0)\n",
    "df_monetary = df[(df['bail_type'] == 'Monetary') & (df['core_magistrate'] == 1)][['bail_set_by', 'bail_amount']]\n",
    "\n",
    "# Bail amount by groups\n",
    "plt.rcParams['font.size'] = 10\n",
    "sns.boxplot( y=df_monetary[\"bail_set_by\"], x=df[\"bail_amount\"], order = core_magistrates)\n",
    "plt.xlim(0, 300000)\n",
    "plt.xlabel('bail amount')\n",
    "plt.xticks(ticks = range(0, 350000, 50000), labels = ['0','50k','100k','150k','200k','250k','300k'])\n",
    "plt.ylabel('magistrate')\n",
    "plt.title('bail amount by magistrate')\n",
    "plt.show()"
   ]
  },
  {
   "cell_type": "markdown",
   "metadata": {},
   "source": [
    "* It seems like Bernard and Rigmaiden-DeLeon sets higher bail amount than the others.\n",
    "* To test this, either use t-test or Mann-Whitney U test  \n",
    "* The following diagram shows that the distribution of bail amounts (for a fixed magistrate) is far from normal. Even log transform isn't enough. \n",
    "* We'll thus use Mann-Whitney U-test instead of t-test"
   ]
  },
  {
   "cell_type": "markdown",
   "metadata": {},
   "source": [
    "Plot histogram of bail amount for a particular magistrate"
   ]
  },
  {
   "cell_type": "code",
   "execution_count": null,
   "metadata": {},
   "outputs": [],
   "source": [
    "# ignore bail amount == 0\n",
    "df_monetary = df[df['bail_type'] == 'Monetary'][['bail_set_by', 'bail_amount']]\n",
    "df_monetary = df_monetary[df_monetary['bail_amount']!= 0]\n",
    "\n",
    "# apply log transform\n",
    "df_monetary['log_bail_amount'] = df_monetary['bail_amount'].apply(lambda x: np.log(x))\n",
    "\n",
    "fig, ax = plt.subplots(ncols = 2, figsize = (10, 3))\n",
    "ax[0].hist(df_monetary[df_monetary[\"bail_set_by\"] == 'Bernard, Francis X.'].bail_amount, bins =100)\n",
    "ax[1].hist(df_monetary[df_monetary[\"bail_set_by\"] == 'Bernard, Francis X.'].log_bail_amount, bins =100)\n",
    "plt.show()"
   ]
  },
  {
   "cell_type": "markdown",
   "metadata": {},
   "source": [
    "* log transform doesn't help in getting the distribution to look normal.\n",
    "* Instead of doing a t-test, we'll use a non-parametric test: Mann-Whitney U-test  \n",
    "* Perform Mann-Whitney U-test on every pair of magistrates"
   ]
  },
  {
   "cell_type": "code",
   "execution_count": null,
   "metadata": {},
   "outputs": [],
   "source": [
    "# create order of magistrates\n",
    "# note: the index was manually decided to make the correlation matrix look nice.\n",
    "\n",
    "magistrate_order = ['Bernard, Francis X.',\n",
    "                    'Rigmaiden-DeLeon, Marilyn',\n",
    "                    'Stack, Patrick',\n",
    "                    \"O'Brien, James\",\n",
    "                    'E-Filing Judge',\n",
    "                    'Williams, Naomi',\n",
    "                    'Rainey, Debra',\n",
    "                    'Connor, Lauren',\n",
    "                    'Devlin, Kevin R.']\n",
    "\n",
    "magistrate_index = {}\n",
    "for idx, person in enumerate(magistrate_order):\n",
    "    magistrate_index[person] = idx"
   ]
  },
  {
   "cell_type": "code",
   "execution_count": null,
   "metadata": {
    "scrolled": true
   },
   "outputs": [],
   "source": [
    "# matrix of differences\n",
    "df_monetary = df[(df['bail_type'] == 'Monetary')][['bail_set_by', 'bail_amount']]\n",
    "n_magistrates = len(magistrate_order)\n",
    "diff_matrix = np.zeros((n_magistrates, n_magistrates))\n",
    "\n",
    "for magistrate1 in magistrate_order:\n",
    "    for magistrate2 in magistrate_order:\n",
    "        if magistrate1 != magistrate2:\n",
    "            # select data for two magistrates\n",
    "            data1 = df_monetary[df_monetary['bail_set_by'] == magistrate1].bail_amount\n",
    "            data2 = df_monetary[df_monetary['bail_set_by'] == magistrate2].bail_amount\n",
    "\n",
    "            # Mann-Whitney U test \n",
    "            statistic, pvalue = mannwhitneyu(data1, data2, alternative = 'greater')\n",
    "            \n",
    "            # save p-values\n",
    "            if pvalue < 0.01:\n",
    "                idx1 = magistrate_index[magistrate1]\n",
    "                idx2 = magistrate_index[magistrate2]\n",
    "\n",
    "                diff_matrix[idx1, idx2] = 1\n",
    "  \n",
    "        \n",
    "# plot\n",
    "g = sns.heatmap(diff_matrix, linewidths=.5, annot = True, cbar = False)\n",
    "g.set_xticklabels(magistrate_order, rotation = 90)\n",
    "g.set_yticklabels(magistrate_order, rotation = 0)\n",
    "plt.show()"
   ]
  },
  {
   "cell_type": "code",
   "execution_count": null,
   "metadata": {},
   "outputs": [],
   "source": [
    "# matrix of differences (Just for core magistrates)\n",
    "magistrate_index = {}\n",
    "for idx, person in enumerate(core_magistrates):\n",
    "    magistrate_index[person] = idx\n",
    "\n",
    "\n",
    "df_monetary = df[(df['bail_type'] == 'Monetary')][['bail_set_by', 'bail_amount']]\n",
    "n_magistrates = len(core_magistrates)\n",
    "diff_matrix = np.zeros((n_magistrates, n_magistrates))\n",
    "\n",
    "for magistrate1 in core_magistrates:\n",
    "    for magistrate2 in core_magistrates:\n",
    "        if magistrate1 != magistrate2:\n",
    "            # select data for two magistrates\n",
    "            data1 = df_monetary[df_monetary['bail_set_by'] == magistrate1].bail_amount\n",
    "            data2 = df_monetary[df_monetary['bail_set_by'] == magistrate2].bail_amount\n",
    "\n",
    "            # Mann-Whitney U test \n",
    "            statistic, pvalue = mannwhitneyu(data1, data2, alternative = 'greater')\n",
    "            \n",
    "            # save p-values\n",
    "            if pvalue < 0.01:\n",
    "                idx1 = magistrate_index[magistrate1]\n",
    "                idx2 = magistrate_index[magistrate2]\n",
    "\n",
    "                diff_matrix[idx1, idx2] = 1\n",
    "  \n",
    "        \n",
    "# plot\n",
    "g = sns.heatmap(diff_matrix, linewidths=.5, annot = True, cbar = False)\n",
    "g.set_xticklabels(core_magistrates, rotation = 90)\n",
    "g.set_yticklabels(core_magistrates, rotation = 0)\n",
    "plt.show()"
   ]
  },
  {
   "cell_type": "markdown",
   "metadata": {},
   "source": [
    "* Interpretation\n",
    "    * If entry at particular row and column is white: Bail set by row-magistrate is likely to be higher than bail set by column-magistrate\n",
    "    * If X: bail set by row magistrate, Y: bail set by column-magistrate, P(X>Y) > 0.5\n",
    "* first row: Bail set by Bernard is likely to be higher than bail set by O'Brien, Stack, and E-Filing Judge\n",
    "* second row: Bail set by Rigmaiden-DeLeon is likely to be higher than bail set by O'Brien, Stack, E-filing Judge\n",
    "* third row: Bail set by Stack is likely to be higher than O'Brien\n",
    "    * This was a bit confusing. See the following histogram"
   ]
  },
  {
   "cell_type": "code",
   "execution_count": null,
   "metadata": {},
   "outputs": [],
   "source": [
    "# why is there a difference between Stack and O'Brien?\n",
    "bins = range(0, 350000, 10000)\n",
    "fig, ax = plt.subplots(ncols = 2, figsize = (10, 4))\n",
    "ax[0].hist(df_monetary[df_monetary['bail_set_by'] == \"Stack, Patrick\"].bail_amount, bins = bins)\n",
    "ax[0].set_title(\"Stack, Patrick\")\n",
    "ax[1].hist(df_monetary[df_monetary['bail_set_by'] == \"O'Brien, James\"].bail_amount, bins = bins)\n",
    "ax[1].set_title(\"O'Brien, James\")\n",
    "\n",
    "for sub in ax.flat:\n",
    "    sub.set_xlim((0, 350000))\n",
    "    sub.set_xticks(range(0,350000,50000))\n",
    "    sub.set_xticklabels(['0','50k','100k','150k','200k','250k','300k'])\n",
    "    sub.set_xlabel('bail amount')\n",
    "    sub.set_ylabel('count')\n",
    "plt.show()"
   ]
  },
  {
   "cell_type": "markdown",
   "metadata": {},
   "source": [
    "## 2.4 Are preliminary hearing date and time related to magistrates?"
   ]
  },
  {
   "cell_type": "markdown",
   "metadata": {},
   "source": [
    "This may be relevant, as offense severity may depend on hearing time "
   ]
  },
  {
   "cell_type": "code",
   "execution_count": null,
   "metadata": {},
   "outputs": [],
   "source": [
    "df['prelim_hearing_hour'] = df['prelim_hearing_time'].apply(lambda x: x.hour)\n",
    "# prelim hearing time (hour) of each magistrate\n",
    "\n",
    "fig, ax = plt.subplots(nrows = 2, ncols = 5, figsize = (15, 6))\n",
    "plt.rcParams['font.size'] = 10\n",
    "fig.suptitle('prelim hearing time for magistrate')\n",
    "for idx, name in enumerate(magistrates):\n",
    "    row = idx // 5\n",
    "    col = idx % 5 \n",
    "    ax[row][col].hist(df[df['bail_set_by'] == name].prelim_hearing_hour, bins=24, range=(0,24))\n",
    "    ax[row][col].set_title(name)\n",
    "\n",
    "for sub in ax.flat:\n",
    "    sub.set_xlim(0,24)\n",
    "    sub.set_xlabel('prelim hearing time')\n",
    "    sub.set_ylabel('case count')\n",
    "plt.tight_layout()\n",
    "plt.show()"
   ]
  },
  {
   "cell_type": "markdown",
   "metadata": {},
   "source": [
    "## 2.5 Are specific magistrates more likely to handle specific types of offenses?"
   ]
  },
  {
   "cell_type": "markdown",
   "metadata": {},
   "source": [
    "Use topic modeling (via NMF) to extract offense type (for now)\n"
   ]
  },
  {
   "cell_type": "markdown",
   "metadata": {},
   "source": [
    "<b> Remove offenses with super long length </b>"
   ]
  },
  {
   "cell_type": "code",
   "execution_count": null,
   "metadata": {},
   "outputs": [],
   "source": [
    "# remove offenses with super long length\n",
    "df['max_offense_length'] = df['offenses'].apply(lambda x: max([len(item) for item in x]))"
   ]
  },
  {
   "cell_type": "code",
   "execution_count": null,
   "metadata": {},
   "outputs": [],
   "source": [
    "plt.hist(df['max_offense_length'], bins = 50)\n",
    "plt.show()"
   ]
  },
  {
   "cell_type": "code",
   "execution_count": null,
   "metadata": {},
   "outputs": [],
   "source": [
    "df_long = df[df['max_offense_length'] > 200]"
   ]
  },
  {
   "cell_type": "code",
   "execution_count": null,
   "metadata": {},
   "outputs": [],
   "source": [
    "df_long['offenses']"
   ]
  },
  {
   "cell_type": "markdown",
   "metadata": {},
   "source": [
    "Error with parsing offenses"
   ]
  },
  {
   "cell_type": "code",
   "execution_count": null,
   "metadata": {},
   "outputs": [],
   "source": [
    "df.at[9529, 'offenses']"
   ]
  },
  {
   "cell_type": "code",
   "execution_count": null,
   "metadata": {},
   "outputs": [],
   "source": [
    "# remove offenses with long length\n",
    "df['cleaned_offenses'] = df['offenses'].apply(lambda x: [item for item in x if len(item) < 200])\n",
    "\n",
    "# manually adjust for item 10678\n",
    "df.at[10018, 'cleaned_offenses'] = ['Photograph/Film/Depict on Computer Sex Act - Knowingly or Permitting Child',\n",
    "                                    'Child Pornography']"
   ]
  },
  {
   "cell_type": "markdown",
   "metadata": {},
   "source": [
    "<b> topic modeling via NMF </b>"
   ]
  },
  {
   "cell_type": "code",
   "execution_count": null,
   "metadata": {},
   "outputs": [],
   "source": [
    "def cleanText(text):\n",
    "    \n",
    "    # remove punctuations\n",
    "    text = re.sub('\\,','', text)\n",
    "    text = re.sub('\\.','', text)\n",
    "    text = re.sub('\\:','', text)\n",
    "    text = re.sub('\\-', ' ',text)\n",
    "    \n",
    "    return text"
   ]
  },
  {
   "cell_type": "code",
   "execution_count": null,
   "metadata": {},
   "outputs": [],
   "source": [
    "# prepare text (offenses)\n",
    "df['corpus'] = df['cleaned_offenses'].apply(lambda x: ' '.join(x))\n",
    "df['corpus'] = df['corpus'].apply(cleanText)\n",
    "corpus = df['corpus'].tolist()\n",
    "\n",
    "# remove stop words\n",
    "stopwords = ['for','a','of','the','and','to','in', 'or']\n",
    "\n",
    "# corpus format: list of list\n",
    "# lowercase\n",
    "corpus = [[word for word in text.lower().split() if word not in stopwords] for text in corpus]\n",
    "\n",
    "# create dictionary of worrds\n",
    "dictionary = Dictionary(corpus)\n",
    "\n",
    "# prepare corpus\n",
    "total_corpus = [dictionary.doc2bow(text) for text in corpus]"
   ]
  },
  {
   "cell_type": "code",
   "execution_count": null,
   "metadata": {},
   "outputs": [],
   "source": [
    "# compute coherence scores for NMF models of various topic numbers\n",
    "topic_numbers = list(range(2,30))\n",
    "scores = {}\n",
    "\n",
    "for k in topic_numbers:\n",
    "    # train NMF model\n",
    "    nmf = Nmf(total_corpus, id2word = dictionary, kappa = 0.1, passes = 20, num_topics = k, normalize = True)\n",
    "    \n",
    "    # compute coherence on cv\n",
    "    cm = CoherenceModel(model=nmf, texts=corpus, coherence='u_mass')\n",
    "    coherence = cm.get_coherence() \n",
    "    scores[k] = coherence"
   ]
  },
  {
   "cell_type": "code",
   "execution_count": null,
   "metadata": {},
   "outputs": [],
   "source": [
    "plt.plot(topic_numbers, [scores[item] for item in topic_numbers])\n",
    "plt.xlabel('number of topics')\n",
    "plt.ylabel('coherence score')\n",
    "plt.title('coherence scores')\n",
    "plt.show()"
   ]
  },
  {
   "cell_type": "markdown",
   "metadata": {},
   "source": [
    "The U-mass coherence score plateaus around 8. So appropriate topic number is around 10-20"
   ]
  },
  {
   "cell_type": "code",
   "execution_count": null,
   "metadata": {},
   "outputs": [],
   "source": [
    "# train NMF model\n",
    "n_topics = 11\n",
    "nmf = Nmf(total_corpus, id2word = dictionary, kappa = 0.1, passes =20, num_topics = n_topics, normalize = True)"
   ]
  },
  {
   "cell_type": "code",
   "execution_count": null,
   "metadata": {},
   "outputs": [],
   "source": [
    "# Visualize topic representations \n",
    "fig, ax = plt.subplots(nrows = 4, ncols = 3, figsize = (15, 14))\n",
    "\n",
    "for i in range(n_topics):\n",
    "    row = i // 3\n",
    "    col = i % 3\n",
    "    \n",
    "    topic_rep = nmf.show_topic(i)\n",
    "    words = [item[0] for item in topic_rep][::-1]\n",
    "    prob = [item[1] for item in topic_rep][::-1]\n",
    "    \n",
    "    ax[row][col].barh(words, prob)\n",
    "    ax[row][col].tick_params(axis=\"y\", labelsize=14)\n",
    "    ax[row][col].set_xlabel('probability')\n",
    "    ax[row][col].set_title('Representations of topic '+ str(i))\n",
    "    \n",
    "fig.subplots_adjust(wspace=0.4, hspace = 0.3)\n",
    "plt.show()"
   ]
  },
  {
   "cell_type": "code",
   "execution_count": null,
   "metadata": {},
   "outputs": [],
   "source": [
    "# save NMF model\n",
    "nmf.save('offenses_nmf')\n",
    "\n",
    "# to load\n",
    "#nmf = Nmf.load('offenses_nmf')"
   ]
  },
  {
   "cell_type": "code",
   "execution_count": null,
   "metadata": {},
   "outputs": [],
   "source": [
    "# for each offense, assign topic number \n",
    "topic_numbers = []\n",
    "\n",
    "for case in total_corpus:\n",
    "    topics = nmf[case]\n",
    "    topic_num = [item[0] for item in topics]\n",
    "    topic_prob = [item[1] for item in topics]\n",
    "    topic_numbers.append(topic_num[topic_prob.index(max(topic_prob))])\n",
    "    \n",
    "# create column of offense type\n",
    "df['topic_numbers'] = topic_numbers"
   ]
  },
  {
   "cell_type": "markdown",
   "metadata": {},
   "source": [
    "<b> Q: Are there correlations between offense type and magistrate? </b>"
   ]
  },
  {
   "cell_type": "code",
   "execution_count": null,
   "metadata": {},
   "outputs": [],
   "source": [
    "df_magistrate_offense = pd.crosstab(index = df['bail_set_by'], columns =df['topic_numbers'])\n",
    "df_magistrate_offense['Total'] = df_magistrate_offense.sum(axis = 1)"
   ]
  },
  {
   "cell_type": "code",
   "execution_count": null,
   "metadata": {},
   "outputs": [],
   "source": [
    "df_magistrate_offense.loc[core_magistrates]"
   ]
  },
  {
   "cell_type": "code",
   "execution_count": null,
   "metadata": {},
   "outputs": [],
   "source": [
    "# visualize\n",
    "\n",
    "topic_nums = list(range(n_topics))\n",
    "\n",
    "fig, ax = plt.subplots(ncols = 5, figsize = (15, 5))\n",
    "plt.rcParams['font.size'] = 10\n",
    "fig.suptitle('% of offense type for magistrate')\n",
    "for idx, name in enumerate(core_magistrates):\n",
    "\n",
    "    ax[idx].pie(df_magistrate_offense.loc[name, topic_nums], labels = topic_nums, autopct='%1.0f%%')\n",
    "    ax[idx].set_title(name)\n",
    "\n",
    "# common legend\n",
    "fig.subplots_adjust(top=0.9, left=0.1, right=0.9, bottom=0.12)  # create some space below the plots by increasing the bottom-value\n",
    "ax.flatten()[-2].legend(loc='upper center', bbox_to_anchor=(0.5, 0), ncol=4)\n",
    "\n",
    "plt.show()"
   ]
  },
  {
   "cell_type": "markdown",
   "metadata": {},
   "source": [
    "From what we see above, each magistrate seems to handle similar proportions of offense types"
   ]
  },
  {
   "cell_type": "code",
   "execution_count": null,
   "metadata": {},
   "outputs": [],
   "source": [
    "# test\n",
    "df_chi = df_magistrate_offense.drop(columns = ['Total'])\n",
    "\n",
    "# chi-squared test\n",
    "chi2, p, dof, ex = chi2_contingency(df_chi.loc[core_magistrates])\n",
    "print('p-value of chi-square test: ', p)"
   ]
  },
  {
   "cell_type": "markdown",
   "metadata": {},
   "source": [
    "From the above, it's kind of hard to tell why we get a significant result. we may need more specific tests\n",
    "\n",
    "<b>To do</b>: Do chi-square test for each topic number as following: topic i vs non-topic i"
   ]
  },
  {
   "cell_type": "code",
   "execution_count": null,
   "metadata": {},
   "outputs": [],
   "source": [
    "def chisquare_by_topic(df_magistrate_offense, topic_num, magistrates):\n",
    "    df_chi = df_magistrate_offense.loc[magistrates]\n",
    "    df_chi['not'] = df_chi['Total'] - df_chi[topic_num]\n",
    "    # chi-squared test\"\n",
    "    chi2, p, dof, ex = chi2_contingency(df_chi[[topic_num, 'not']])\n",
    "    return p"
   ]
  },
  {
   "cell_type": "code",
   "execution_count": null,
   "metadata": {},
   "outputs": [],
   "source": [
    "# chi-square test for topics 0-5\n",
    "for i in range(n_topics):\n",
    "    p = chisquare_by_topic(df_magistrate_offense, i, core_magistrates)\n",
    "    print('p-value of chi-square test for topic %d : %.4f' %(i,p))\n",
    "    "
   ]
  },
  {
   "cell_type": "markdown",
   "metadata": {},
   "source": [
    "* The above shows that some magistrates are more likely to handle cases involving particular offenses.\n",
    "* When we analyze magistrate's effect on bail type and bail amount, we should do a matched analysis"
   ]
  },
  {
   "cell_type": "code",
   "execution_count": null,
   "metadata": {
    "scrolled": false
   },
   "outputs": [],
   "source": [
    "# for offense of type 8 (drug possession and delivery), do the bail amount differ by magistrate?\n",
    "df['core_magistrate'] = df['bail_set_by'].apply(lambda x: 1 if x in core_magistrates else 0)\n",
    "df_monetary = df[(df['bail_type'] == 'Monetary') & (df['core_magistrate'] == 1) & (df['topic_numbers'] == 8)][['bail_set_by', 'bail_amount']]\n",
    "\n",
    "# Bail amount by groups\n",
    "plt.rcParams['font.size'] = 10\n",
    "sns.boxplot( y=df_monetary[\"bail_set_by\"], x=df[\"bail_amount\"], order = core_magistrates)\n",
    "plt.xlim(0, 300000)\n",
    "plt.xlabel('bail amount')\n",
    "plt.xticks(ticks = range(0, 350000, 50000), labels = ['0','50k','100k','150k','200k','250k','300k'])\n",
    "plt.ylabel('magistrate')\n",
    "plt.title('bail amount by magistrate')\n",
    "plt.show()"
   ]
  },
  {
   "cell_type": "markdown",
   "metadata": {},
   "source": [
    "It does look like given the same offense type (drug possession and delivery) Bernard and Rigmaiden-DeLeon tend to set higher bails than the others"
   ]
  },
  {
   "cell_type": "markdown",
   "metadata": {},
   "source": [
    "<b> Examine different offense types</b>"
   ]
  },
  {
   "cell_type": "code",
   "execution_count": null,
   "metadata": {},
   "outputs": [],
   "source": [
    "offense_types = []\n",
    "for i in range(df.shape[0]):\n",
    "    case_offense = df.at[i,'offense_type']\n",
    "    for item in case_offense:\n",
    "        if item not in offense_types:\n",
    "            offense_types.append(item)\n",
    "            \n",
    "n_offense_type = len(offense_types)\n",
    "print('number of offense types: ', n_offense_type)"
   ]
  },
  {
   "cell_type": "code",
   "execution_count": null,
   "metadata": {},
   "outputs": [],
   "source": [
    "# add offense type as separate columns\n",
    "df[offense_types] = 0\n",
    "\n",
    "# entry 1 if the particular offense type occured in the case\n",
    "for i in range(df.shape[0]):\n",
    "    case_offense = df.at[i,'offense_type']\n",
    "    for item in case_offense: \n",
    "        for offense_type in offense_type_total:\n",
    "            if item == offense_type:\n",
    "                df.at[i,offense_type] = 1"
   ]
  },
  {
   "cell_type": "code",
   "execution_count": null,
   "metadata": {},
   "outputs": [],
   "source": [
    "# frequency of offense types\n",
    "df[offense_type_total].sum(axis = 0).sort_values(ascending = False)"
   ]
  },
  {
   "cell_type": "code",
   "execution_count": null,
   "metadata": {},
   "outputs": [],
   "source": [
    "# combine offense types with frequency < 50 into one column 'offense type: other'\n",
    "\n",
    "offense_type_others = df[offense_type_total].sum(axis = 0).sort_values(ascending = False)[-9:].keys()\n",
    "df['offense_type_others'] = df[offense_type_others].sum(axis=1)"
   ]
  },
  {
   "cell_type": "code",
   "execution_count": null,
   "metadata": {},
   "outputs": [],
   "source": [
    "df.drop(columns = offense_type_others, inplace = True)"
   ]
  },
  {
   "cell_type": "code",
   "execution_count": null,
   "metadata": {},
   "outputs": [],
   "source": [
    "offense_types = [item for item in offense_types if item not in offense_type_others]\n",
    "offense_types.append('offense_type_others')"
   ]
  },
  {
   "cell_type": "code",
   "execution_count": null,
   "metadata": {},
   "outputs": [],
   "source": [
    "def compute_cramers_V(contingency_table):\n",
    "    # comptues Cramers'V measure from the given table\n",
    "    # contingency_table: dataframe\n",
    "    \n",
    "    chi2 = chi2_contingency(contingency_table)[0]\n",
    "    \n",
    "    # sample size\n",
    "    N = np.array(contingency_table).sum()\n",
    "    k = min(contingency_table.shape)\n",
    "    return np.sqrt(chi2 / (N*(k-1)))"
   ]
  },
  {
   "cell_type": "code",
   "execution_count": null,
   "metadata": {},
   "outputs": [],
   "source": [
    "def compute_cramersV_matrix(df, columns):\n",
    "    # columns: list of columns of df with categorical variables\n",
    "    n_variables = len(columns)\n",
    "    V_matrix = np.identity(n_variables)\n",
    "    \n",
    "    for pair in itertools.combinations(range(n_variables),2):\n",
    "        var1, var2 = pair\n",
    "        cramersV = compute_cramers_V(pd.crosstab(index = df[columns[var1]], columns = df[columns[var2]]))\n",
    "        V_matrix[var1, var2] = cramersV\n",
    "        V_matrix[var2, var1] = cramersV\n",
    "\n",
    "    return V_matrix"
   ]
  },
  {
   "cell_type": "code",
   "execution_count": null,
   "metadata": {},
   "outputs": [],
   "source": [
    "V_matrix = compute_cramersV_matrix(df, offense_types)"
   ]
  },
  {
   "cell_type": "code",
   "execution_count": null,
   "metadata": {
    "scrolled": false
   },
   "outputs": [],
   "source": [
    "labels = offense_type_total\n",
    "plt.figure(figsize = (12,10))\n",
    "g = sns.heatmap(V_matrix)\n",
    "plt.show()"
   ]
  },
  {
   "cell_type": "code",
   "execution_count": null,
   "metadata": {},
   "outputs": [],
   "source": [
    "# print the highly correlated offense types\n",
    "n_offense_type = len(offense_types)\n",
    "print('Correlated offense types')\n",
    "corr_floor = 0.3\n",
    "for item in itertools.combinations(range(n_offense_type),2):\n",
    "    if V_matrix[item[0],item[1]] >= corr_floor:\n",
    "        print(offense_types[item[0]], '&', offense_types[item[1]])"
   ]
  },
  {
   "cell_type": "code",
   "execution_count": null,
   "metadata": {},
   "outputs": [],
   "source": [
    "# correlation between offense type and magistrate information\n",
    "df_offense = df.groupby('bail_set_by').sum()[offense_types]\n",
    "df_offense = df_offense.loc[core_magistrates]\n",
    "df_offense['Total'] = df_offense.sum(axis = 1)"
   ]
  },
  {
   "cell_type": "code",
   "execution_count": null,
   "metadata": {
    "scrolled": true
   },
   "outputs": [],
   "source": [
    "print('Topics with significant p-values')\n",
    "for topic in offense_types:\n",
    "    p = chisquare_by_topic(df_offense, topic, core_magistrates)\n",
    "    if p < 0.05:\n",
    "        print('p-value for topic %s : %.4f' %(topic, p))"
   ]
  },
  {
   "cell_type": "code",
   "execution_count": null,
   "metadata": {
    "scrolled": true
   },
   "outputs": [],
   "source": [
    "# for offense of type assault, do the bail amount differ by magistrate?\n",
    "df['core_magistrate'] = df['bail_set_by'].apply(lambda x: 1 if x in core_magistrates else 0)\n",
    "df_monetary = df[(df['bail_type'] == 'Monetary') & (df['core_magistrate'] == 1) & (df['assault'] == 1)][['bail_set_by', 'bail_amount']]\n",
    "\n",
    "# Bail amount by groups\n",
    "plt.rcParams['font.size'] = 10\n",
    "sns.boxplot( y=df_monetary[\"bail_set_by\"], x=df[\"bail_amount\"], order = core_magistrates)\n",
    "plt.xlim(0, 300000)\n",
    "plt.xlabel('bail amount')\n",
    "plt.xticks(ticks = range(0, 350000, 50000), labels = ['0','50k','100k','150k','200k','250k','300k'])\n",
    "plt.ylabel('magistrate')\n",
    "plt.title('bail amount by magistrate')\n",
    "plt.show()"
   ]
  },
  {
   "cell_type": "code",
   "execution_count": null,
   "metadata": {},
   "outputs": [],
   "source": [
    "# for offense of type \"drug possession and delivery\", do the bail amount differ by magistrate?\n",
    "df['core_magistrate'] = df['bail_set_by'].apply(lambda x: 1 if x in core_magistrates else 0)\n",
    "df_monetary = df[(df['bail_type'] == 'Monetary') & (df['core_magistrate'] == 1) & (df['drug and substance'] == 1)][['bail_set_by', 'bail_amount']]\n",
    "\n",
    "# Bail amount by groups\n",
    "plt.rcParams['font.size'] = 10\n",
    "sns.boxplot( y=df_monetary[\"bail_set_by\"], x=df[\"bail_amount\"], order = core_magistrates)\n",
    "plt.xlim(0, 300000)\n",
    "plt.xlabel('bail amount')\n",
    "plt.xticks(ticks = range(0, 350000, 50000), labels = ['0','50k','100k','150k','200k','250k','300k'])\n",
    "plt.ylabel('magistrate')\n",
    "plt.title('bail amount by magistrate')\n",
    "plt.show()"
   ]
  },
  {
   "cell_type": "markdown",
   "metadata": {},
   "source": [
    "### Matched study\n",
    "* Sample paired cases from each magistrate, based on offense types"
   ]
  },
  {
   "cell_type": "markdown",
   "metadata": {},
   "source": [
    "### 2.6 Predict bail type and bail amount. Find the important factors"
   ]
  },
  {
   "cell_type": "markdown",
   "metadata": {},
   "source": [
    "# 3. Which neighborhoods are heavily impacted by bail?"
   ]
  },
  {
   "cell_type": "markdown",
   "metadata": {},
   "source": [
    "The following visualizations shows that monetary bail largely impacts those who live in areas with severe poverty. \n",
    "* Left: Number of monetary bail cases by zip code. \n",
    "    * (We can regenerate the image for entire year of 2020 once we have the data) \n",
    "* Right: From US Census Bureau ASC 5-year estimate from 2018. \n",
    "    * data and link to table stored at 'data/poverty'.\n",
    "    * Maybe we can grab 2020 data\n",
    "\n",
    "data          |  visualization\n",
    ":-------------------------:|:-------------------------:\n",
    "Case count of monetary bail by zip code | <img src=\"visualizations/monetary_bail_case_count.png\" alt=\"drawing\" width=\"800\"/>  |\n",
    "Percentage of population living under poverty by zip code | <img src=\"visualizations/percent_below_poverty.png\" alt=\"drawing\" width=\"800\"/> | "
   ]
  },
  {
   "cell_type": "markdown",
   "metadata": {},
   "source": [
    "The following visualizations show that the median household income is higher than median bail amount (\\$25K) in many zip codes. \n",
    "* Left: median monetary bail amount by zip code.\n",
    "    * Median computed only for zipcodes that had 6 or more cases.  \n",
    "    * Median bail amount is usually \\$25K\n",
    "    * We can regenerate the image once we have 2020 data available. \n",
    "* Right: median household income by zipcode\n",
    "    * From US Cenus Bureau 2018 ASC 5-year estimate from 2018. \n",
    "    * data and link to table stored at 'data/income' \n",
    "    * Maybe we can grab 2020 data\n",
    "\n",
    "\n",
    "data          |  visualization\n",
    ":-------------------------:|:-------------------------:\n",
    "Median monetary bail amount by zip code            | <img src=\"visualizations/bail_amount.png\" alt=\"drawing\" width=\"800\"/> |  \n",
    "Median household income by zip code | <img src=\"visualizations/income.png\" alt=\"drawing\" width=\"800\"/>\n"
   ]
  },
  {
   "cell_type": "markdown",
   "metadata": {},
   "source": [
    "### Basically a reproduction of some of the above with some interactive elements.\n",
    "\n",
    "I can add even more filters if there's a good reason to do so. Also might need to do something to handle certain Metric/Type combos (as Bail Amount/Paid is N/A for some bail types)."
   ]
  },
  {
   "cell_type": "markdown",
   "metadata": {},
   "source": [
    "#### Setting up data for viz"
   ]
  },
  {
   "cell_type": "code",
   "execution_count": null,
   "metadata": {},
   "outputs": [],
   "source": [
    "# Create data assoc. w/ each metric (over all bail types) and put in dict\n",
    "case_counts = pd.DataFrame(df['zip'].value_counts().reset_index().rename(columns={'index': 'zip', 'zip': 'count'}))\n",
    "bail_amounts = df.groupby('zip').sum()[['bail_amount']].reset_index()\n",
    "bail_paid = df.groupby('zip').sum()[['bail_paid']].reset_index()\n",
    "cases_dfs = {'Case Count': case_counts, 'Bail Amount': bail_amounts, 'Bail Paid': bail_paid}"
   ]
  },
  {
   "cell_type": "code",
   "execution_count": null,
   "metadata": {},
   "outputs": [],
   "source": [
    "# Same as above but also filtering by bail type\n",
    "case_counts_by_type = df.groupby(['zip', 'bail_type']).\\\n",
    "                    size().unstack(fill_value=0).stack().reset_index().rename(columns={0: 'count'})\n",
    "bail_amounts_by_type = df.groupby(['zip', 'bail_type']).sum().unstack(fill_value=0).\\\n",
    "                    stack()[['bail_amount']].reset_index()\n",
    "bail_paid_by_type = df.groupby(['zip', 'bail_type']).sum().unstack(fill_value=0).\\\n",
    "                    stack()[['bail_paid']].reset_index()\n",
    "type_dfs = {'Case Count': case_counts_by_type, 'Bail Amount': bail_amounts_by_type, 'Bail Paid': bail_paid_by_type}"
   ]
  },
  {
   "cell_type": "code",
   "execution_count": null,
   "metadata": {},
   "outputs": [],
   "source": [
    "# Geo data\n",
    "# Approximate Philly lat/long\n",
    "philly = (40.00, -75.16)\n",
    "\n",
    "# Open geojson of philly zip code borders\n",
    "zips_geo = 'Zipcodes_Poly.geojson'\n",
    "with open(zips_geo) as f:\n",
    "    zips_data = json.load(f)"
   ]
  },
  {
   "cell_type": "markdown",
   "metadata": {},
   "source": [
    "#### Setting up viz"
   ]
  },
  {
   "cell_type": "code",
   "execution_count": null,
   "metadata": {},
   "outputs": [],
   "source": [
    "# Unique bail types, remove 'nan'\n",
    "types = df[df['bail_type'].notnull()]['bail_type'].unique().tolist()\n",
    "\n",
    "# Dropdown menu for metrics\n",
    "metrics = widgets.Dropdown(\n",
    "    options=['Case Count', 'Bail Amount', 'Bail Paid'],\n",
    "    value='Case Count',\n",
    "    description='Metric'\n",
    ")\n",
    "\n",
    "# Dropdown menu for bail type\n",
    "types = widgets.Dropdown(\n",
    "    options=['All']+types,\n",
    "    value='All',\n",
    "    description='Bail Type',\n",
    ")\n",
    "\n",
    "# Set up figure object (choropleth map) with our geo data\n",
    "map_fig = go.FigureWidget(go.Choroplethmapbox(geojson=zips_data, # geojson data\n",
    "                                          z=bail_amounts['bail_amount'], # what colors will rep. in map from our data\n",
    "                                          locations=bail_amounts['zip'], # zip codes in our data\n",
    "                                          featureidkey=\"properties.CODE\", # key index in geojson for zip\n",
    "                                         ))\n",
    "map_fig.update_layout(mapbox_style=\"carto-positron\",\n",
    "                   mapbox_zoom=9.75, mapbox_center = {\"lat\": philly[0], \"lon\": philly[1]})\n",
    "map_fig.update_layout(margin={\"r\":0,\"t\":0,\"l\":0,\"b\":0})\n",
    "\n",
    "# Function that updates map based on dropdown selections\n",
    "def response(change):\n",
    "    if types.value == 'All':\n",
    "        df = cases_dfs[metrics.value]\n",
    "        map_fig.data[0].z = df[df.columns[1]]\n",
    "        map_fig.data[0].locations = df[df.columns[0]]\n",
    "    else:\n",
    "        df = type_dfs[metrics.value].loc[type_dfs[metrics.value]['bail_type'] == types.value]\n",
    "        map_fig.data[0].z = df[df.columns[2]]\n",
    "        map_fig.data[0].locations = df[df.columns[0]]\n",
    "\n",
    "# Set up dropdowns to update map\n",
    "metrics.observe(response, names='value')\n",
    "types.observe(response, names='value')\n",
    "\n",
    "widgets.VBox([widgets.HBox([metrics, types]), map_fig])"
   ]
  },
  {
   "cell_type": "markdown",
   "metadata": {},
   "source": [
    "# 4. Breakdown by demographics\n",
    "For all bail:\n",
    "- Raw numbers for race/sex and bail type\n",
    "- Are race and bail type correlated? (for comparable offense types?)\n",
    "- Same for gender and age\n",
    "\n",
    "For monetary bail:\n",
    "- Histogram of race/sex and bail amount\n",
    "- Are race and bail amount correlated? (for comparable offense types?)\n",
    "- Same for gender and age\n",
    "\n",
    "Most generally: what are the strongest factors determining bail type and bail amount?\n",
    "- Do a predictive modeling (e.g., regression, decision trees, random forest) and feature importance analysis\n",
    "- Possible factors: race, age, sex; offense types, offense number; magistrate, arresting officer; public/private defender"
   ]
  },
  {
   "cell_type": "code",
   "execution_count": 58,
   "metadata": {},
   "outputs": [],
   "source": [
    "bail_type_filter = (df['bail_type'] != 'Nominal')"
   ]
  },
  {
   "cell_type": "markdown",
   "metadata": {},
   "source": [
    "## Are race and bail related?"
   ]
  },
  {
   "cell_type": "markdown",
   "metadata": {},
   "source": [
    "### Race and bail type"
   ]
  },
  {
   "cell_type": "code",
   "execution_count": 59,
   "metadata": {},
   "outputs": [
    {
     "data": {
      "text/plain": [
       "Black                             13570\n",
       "White                              6603\n",
       "Asian/Pacific Islander              178\n",
       "Unknown/Unreported                   49\n",
       "Native American/Alaskan Native       15\n",
       "Bi-Racial                             2\n",
       "Name: race, dtype: int64"
      ]
     },
     "execution_count": 59,
     "metadata": {},
     "output_type": "execute_result"
    }
   ],
   "source": [
    "df['race'].value_counts()"
   ]
  },
  {
   "cell_type": "code",
   "execution_count": 60,
   "metadata": {},
   "outputs": [],
   "source": [
    "# Set race filter to remove values without enough representation in the data\n",
    "race_filter = (  (df['race'] != 'Unknown/Unreported')\n",
    "               & (df['race'] != 'Native American/Alaskan Native')\n",
    "               & (df['race'] != 'Bi-Racial'))\n",
    "df_race = df[race_filter]"
   ]
  },
  {
   "cell_type": "code",
   "execution_count": 61,
   "metadata": {},
   "outputs": [
    {
     "data": {
      "text/plain": [
       "<AxesSubplot:xlabel='bail_type', ylabel='count'>"
      ]
     },
     "execution_count": 61,
     "metadata": {},
     "output_type": "execute_result"
    },
    {
     "data": {
      "image/png": "[encoded data removed]",
      "text/plain": [
       "<Figure size 432x288 with 1 Axes>"
      ]
     },
     "metadata": {
      "needs_background": "light"
     },
     "output_type": "display_data"
    }
   ],
   "source": [
    "sns.countplot(data = df[race_filter & bail_type_filter], x='bail_type', hue='race')"
   ]
  },
  {
   "cell_type": "code",
   "execution_count": 62,
   "metadata": {},
   "outputs": [
    {
     "name": "stdout",
     "output_type": "stream",
     "text": [
      "bail_type               Monetary   ROR  Unsecured\n",
      "race                                             \n",
      "Asian/Pacific Islander        75    58         42\n",
      "Black                       6159  3332       3724\n",
      "White                       2477  2212       1817\n"
     ]
    }
   ],
   "source": [
    "# Create cross-tabulation of race and bail type\n",
    "df_race_bailType = pd.crosstab(index=df_race['race'], columns=df_race['bail_type'])\n",
    "df_race_bailType = df_race_bailType[[\"Monetary\", \"ROR\", \"Unsecured\"]]\n",
    "print(df_race_bailType)"
   ]
  },
  {
   "cell_type": "code",
   "execution_count": 63,
   "metadata": {},
   "outputs": [
    {
     "name": "stdout",
     "output_type": "stream",
     "text": [
      "bail_type                Monetary        ROR  Unsecured\n",
      "race                                                   \n",
      "Asian/Pacific Islander  42.857143  33.142857  24.000000\n",
      "Black                   46.606129  25.213772  28.180098\n",
      "White                   38.072548  33.999385  27.928066\n"
     ]
    },
    {
     "data": {
      "image/png": "[encoded data removed]",
      "text/plain": [
       "<Figure size 432x288 with 1 Axes>"
      ]
     },
     "metadata": {
      "needs_background": "light"
     },
     "output_type": "display_data"
    }
   ],
   "source": [
    "# Find percentage of cases for each race for which each bail type was assigned\n",
    "race_sum = df_race_bailType.sum(axis=1)\n",
    "df_race_bailType_percent = df_race_bailType.apply(lambda x: 100*x/race_sum)\n",
    "print(df_race_bailType_percent)\n",
    "\n",
    "# Plot the above\n",
    "x_monetary = df_race_bailType_percent[\"Monetary\"]\n",
    "x_ror = df_race_bailType_percent[\"ROR\"]\n",
    "x_unsecured = df_race_bailType_percent[\"Unsecured\"]\n",
    "ind = range(len(df_race_bailType_percent))\n",
    "plt.barh(ind, x_monetary, label=\"Monetary\")\n",
    "plt.barh(ind, x_unsecured, left=x_monetary, label=\"Unsecured\")\n",
    "plt.barh(ind, x_ror, left=x_monetary+x_unsecured, label=\"ROR\")\n",
    "plt.title('Bail type by race')\n",
    "plt.xlabel('Percentage')\n",
    "plt.ylabel('Race')\n",
    "plt.yticks(ind, [\"Asian/Pacific Islander\", \"Black\", \"White\"])\n",
    "plt.legend(bbox_to_anchor=(1.05, 1), loc='upper left')\n",
    "plt.show()"
   ]
  },
  {
   "cell_type": "code",
   "execution_count": 64,
   "metadata": {},
   "outputs": [
    {
     "name": "stdout",
     "output_type": "stream",
     "text": [
      "p-value = 5.04e-41 (chi-square = 194.76, 4 dof)\n"
     ]
    }
   ],
   "source": [
    "# Chi-square test: is there a statistically significant relationship between bail type and race?\n",
    "chi2, p, dof, ex = chi2_contingency(df_race_bailType)\n",
    "print('p-value = {1:.2e} (chi-square = {0:.2f}, {2} dof)'.format(chi2, p, dof))"
   ]
  },
  {
   "cell_type": "markdown",
   "metadata": {},
   "source": [
    "- Compared to White and Asian/Pacific Islander defendants, a smaller percentage of Black defendants are given ROR, and a larger percentage are given monetary bail.\n",
    "- The small p-value indicates that **race and bail type are not independent**. Need to narrow this down:\n",
    "    - Are Black defendants less likely to be given ROR?\n",
    "    - Are Black defendants more likely to have monetary bail set? \n",
    "    - If true, do the above hold even when accounting for offense types?"
   ]
  },
  {
   "cell_type": "markdown",
   "metadata": {},
   "source": [
    "### Race and bail amount"
   ]
  },
  {
   "cell_type": "markdown",
   "metadata": {},
   "source": [
    "## Are sex and bail type related?"
   ]
  },
  {
   "cell_type": "markdown",
   "metadata": {},
   "source": [
    "### Sex and bail type"
   ]
  },
  {
   "cell_type": "code",
   "execution_count": 65,
   "metadata": {},
   "outputs": [
    {
     "data": {
      "text/plain": [
       "Male                  17128\n",
       "Female                 3294\n",
       "Unreported/Unknown        1\n",
       "Name: sex, dtype: int64"
      ]
     },
     "execution_count": 65,
     "metadata": {},
     "output_type": "execute_result"
    }
   ],
   "source": [
    "df['sex'].value_counts()"
   ]
  },
  {
   "cell_type": "code",
   "execution_count": 66,
   "metadata": {},
   "outputs": [],
   "source": [
    "# Set sex filter to remove values without enough representation in the data\n",
    "sex_filter = (df['sex'] != 'Unreported/Unknown')\n",
    "df_sex = df[sex_filter]"
   ]
  },
  {
   "cell_type": "code",
   "execution_count": 71,
   "metadata": {},
   "outputs": [
    {
     "data": {
      "text/plain": [
       "<AxesSubplot:xlabel='bail_type', ylabel='count'>"
      ]
     },
     "execution_count": 71,
     "metadata": {},
     "output_type": "execute_result"
    },
    {
     "data": {
      "image/png": "[encoded data removed]",
      "text/plain": [
       "<Figure size 432x288 with 1 Axes>"
      ]
     },
     "metadata": {
      "needs_background": "light"
     },
     "output_type": "display_data"
    }
   ],
   "source": [
    "sns.countplot(data = df[sex_filter & bail_type_filter], x='bail_type', hue='sex')"
   ]
  },
  {
   "cell_type": "code",
   "execution_count": 67,
   "metadata": {},
   "outputs": [
    {
     "name": "stdout",
     "output_type": "stream",
     "text": [
      "bail_type  Monetary   ROR  Unsecured\n",
      "sex                                 \n",
      "Female          908  1187       1160\n",
      "Male           7834  4438       4439\n"
     ]
    }
   ],
   "source": [
    "# Create cross-tabulation of race and bail type\n",
    "df_sex_bailType = pd.crosstab(index=df_sex['sex'], columns=df_sex['bail_type'])\n",
    "df_sex_bailType = df_sex_bailType[[\"Monetary\", \"ROR\", \"Unsecured\"]]\n",
    "print(df_sex_bailType)"
   ]
  },
  {
   "cell_type": "code",
   "execution_count": 68,
   "metadata": {},
   "outputs": [
    {
     "name": "stdout",
     "output_type": "stream",
     "text": [
      "bail_type   Monetary        ROR  Unsecured\n",
      "sex                                       \n",
      "Female     27.895545  36.466974  35.637481\n",
      "Male       46.879301  26.557357  26.563342\n"
     ]
    },
    {
     "data": {
      "image/png": "[encoded data removed]",
      "text/plain": [
       "<Figure size 432x288 with 1 Axes>"
      ]
     },
     "metadata": {
      "needs_background": "light"
     },
     "output_type": "display_data"
    }
   ],
   "source": [
    "# Find percentage of cases for each sex for which each bail type was assigned\n",
    "sex_sum = df_sex_bailType.sum(axis=1)\n",
    "df_sex_bailType_percent = df_sex_bailType.apply(lambda x: 100*x/sex_sum)\n",
    "print(df_sex_bailType_percent)\n",
    "\n",
    "# Plot the above\n",
    "x_monetary = df_sex_bailType_percent[\"Monetary\"]\n",
    "x_ror = df_sex_bailType_percent[\"ROR\"]\n",
    "x_unsecured = df_sex_bailType_percent[\"Unsecured\"]\n",
    "ind = range(len(df_sex_bailType_percent))\n",
    "plt.barh(ind, x_monetary, label=\"Monetary\")\n",
    "plt.barh(ind, x_unsecured, left=x_monetary, label=\"Unsecured\")\n",
    "plt.barh(ind, x_ror, left=x_monetary+x_unsecured, label=\"ROR\")\n",
    "plt.title('Bail type by gender')\n",
    "plt.xlabel('Percentage')\n",
    "plt.ylabel('Gender')\n",
    "plt.yticks(ind, [\"Female\", \"Male\"])\n",
    "plt.legend(bbox_to_anchor=(1.05, 1), loc='upper left')\n",
    "plt.show()"
   ]
  },
  {
   "cell_type": "code",
   "execution_count": 69,
   "metadata": {},
   "outputs": [
    {
     "name": "stdout",
     "output_type": "stream",
     "text": [
      "p-value = 2.07e-87 (chi-square = 399.19, 2 dof)\n"
     ]
    }
   ],
   "source": [
    "# Chi-square test: is there a statistically significant relationship between bail type and race?\n",
    "chi2, p, dof, ex = chi2_contingency(df_sex_bailType)\n",
    "print('p-value = {1:.2e} (chi-square = {0:.2f}, {2} dof)'.format(chi2, p, dof))"
   ]
  },
  {
   "cell_type": "markdown",
   "metadata": {},
   "source": [
    "- Compared to male defendants, a larger percentage of female defendants are given either ROR or unsecured bail, and a smaller percentage are given monetary bail.\n",
    "- The small p-value indicates that **sex and bail type are not independent**."
   ]
  },
  {
   "cell_type": "markdown",
   "metadata": {},
   "source": [
    "### Sex and bail amount"
   ]
  },
  {
   "cell_type": "markdown",
   "metadata": {},
   "source": [
    "## Are age and bail related?"
   ]
  },
  {
   "cell_type": "markdown",
   "metadata": {},
   "source": [
    "### Age and bail type"
   ]
  },
  {
   "cell_type": "code",
   "execution_count": 70,
   "metadata": {},
   "outputs": [
    {
     "data": {
      "text/plain": [
       "26 to 33    6033\n",
       "18 to 25    5821\n",
       "34 to 41    4000\n",
       "42 to 49    2164\n",
       "50 to 57    1473\n",
       "58 to 64     630\n",
       "senior       222\n",
       "minor         83\n",
       "Name: age_group, dtype: int64"
      ]
     },
     "execution_count": 70,
     "metadata": {},
     "output_type": "execute_result"
    }
   ],
   "source": [
    "def bin_age(age):\n",
    "    if age < 18:\n",
    "        return 'minor'\n",
    "    elif age < 26:\n",
    "        return '18 to 25'\n",
    "    elif age < 34:\n",
    "        return '26 to 33'\n",
    "    elif age < 42:\n",
    "        return '34 to 41'\n",
    "    elif age < 50:\n",
    "        return '42 to 49'\n",
    "    elif age < 58:\n",
    "        return '50 to 57'\n",
    "    elif age < 65:\n",
    "        return '58 to 64'\n",
    "    else:\n",
    "        return 'senior'\n",
    "    \n",
    "df['age_group'] = df['age'].apply(lambda x: bin_age(x))\n",
    "df['age_group'].value_counts()"
   ]
  },
  {
   "cell_type": "code",
   "execution_count": 72,
   "metadata": {},
   "outputs": [
    {
     "data": {
      "text/plain": [
       "<AxesSubplot:xlabel='bail_type', ylabel='count'>"
      ]
     },
     "execution_count": 72,
     "metadata": {},
     "output_type": "execute_result"
    },
    {
     "data": {
      "image/png": "[encoded data removed]",
      "text/plain": [
       "<Figure size 432x288 with 1 Axes>"
      ]
     },
     "metadata": {
      "needs_background": "light"
     },
     "output_type": "display_data"
    }
   ],
   "source": [
    "sns.countplot(data = df[bail_type_filter], x='bail_type', hue='age_group')"
   ]
  },
  {
   "cell_type": "code",
   "execution_count": 73,
   "metadata": {},
   "outputs": [
    {
     "data": {
      "image/png": "[encoded data removed]",
      "text/plain": [
       "<Figure size 432x288 with 1 Axes>"
      ]
     },
     "metadata": {
      "needs_background": "light"
     },
     "output_type": "display_data"
    },
    {
     "data": {
      "image/png": "[encoded data removed]",
      "text/plain": [
       "<Figure size 432x288 with 1 Axes>"
      ]
     },
     "metadata": {
      "needs_background": "light"
     },
     "output_type": "display_data"
    },
    {
     "data": {
      "image/png": "[encoded data removed]",
      "text/plain": [
       "<Figure size 432x288 with 1 Axes>"
      ]
     },
     "metadata": {
      "needs_background": "light"
     },
     "output_type": "display_data"
    },
    {
     "data": {
      "image/png": "[encoded data removed]",
      "text/plain": [
       "<Figure size 432x288 with 1 Axes>"
      ]
     },
     "metadata": {
      "needs_background": "light"
     },
     "output_type": "display_data"
    },
    {
     "data": {
      "image/png": "[encoded data removed]",
      "text/plain": [
       "<Figure size 432x288 with 1 Axes>"
      ]
     },
     "metadata": {
      "needs_background": "light"
     },
     "output_type": "display_data"
    },
    {
     "data": {
      "image/png": "[encoded data removed]",
      "text/plain": [
       "<Figure size 432x288 with 1 Axes>"
      ]
     },
     "metadata": {
      "needs_background": "light"
     },
     "output_type": "display_data"
    },
    {
     "data": {
      "image/png": "[encoded data removed]",
      "text/plain": [
       "<Figure size 432x288 with 1 Axes>"
      ]
     },
     "metadata": {
      "needs_background": "light"
     },
     "output_type": "display_data"
    },
    {
     "data": {
      "image/png": "[encoded data removed]",
      "text/plain": [
       "<Figure size 432x288 with 1 Axes>"
      ]
     },
     "metadata": {
      "needs_background": "light"
     },
     "output_type": "display_data"
    }
   ],
   "source": [
    "for i, age_group in enumerate(df['age_group'].unique()):\n",
    "    plt.figure(i)\n",
    "    plt.title(age_group)\n",
    "    sns.countplot(data = df[bail_type_filter & (df['age_group'] == age_group)], x = 'bail_type')"
   ]
  },
  {
   "cell_type": "markdown",
   "metadata": {},
   "source": [
    "### 4.? Predictive Modeling"
   ]
  },
  {
   "cell_type": "code",
   "execution_count": 74,
   "metadata": {},
   "outputs": [],
   "source": [
    "#sns.pairplot(df)"
   ]
  },
  {
   "cell_type": "markdown",
   "metadata": {},
   "source": [
    "# 5. How much did Philadelphians pay in bail?"
   ]
  },
  {
   "cell_type": "code",
   "execution_count": 75,
   "metadata": {},
   "outputs": [
    {
     "name": "stdout",
     "output_type": "stream",
     "text": [
      "The total bail set is $879,302,493, while the bail paid is $19,631,035 (2.23%)\n"
     ]
    }
   ],
   "source": [
    "monetary_bail = df[df['bail_type']=='Monetary']\n",
    "\n",
    "# TODO: Check why total bail amount here doesn't equal that found above\n",
    "monetary_bail_total = monetary_bail['bail_amount'].sum()\n",
    "monetary_bail_paid = monetary_bail['bail_paid'].sum()\n",
    "\n",
    "print('The total bail set is ${:,.0f}, while the bail paid is ${:,.0f} ({:.2f}%)'.format(\n",
    "    monetary_bail_total, monetary_bail_paid, (monetary_bail_paid/monetary_bail_total)*100\n",
    "))"
   ]
  },
  {
   "cell_type": "markdown",
   "metadata": {},
   "source": [
    "### 5.1 Summary Stats"
   ]
  },
  {
   "cell_type": "markdown",
   "metadata": {},
   "source": [
    "**Summary statistics of bail amount**"
   ]
  },
  {
   "cell_type": "code",
   "execution_count": 76,
   "metadata": {},
   "outputs": [
    {
     "data": {
      "text/plain": [
       "count    8.744000e+03\n",
       "mean     1.005607e+05\n",
       "std      2.295750e+05\n",
       "min      0.000000e+00\n",
       "25%      1.000000e+04\n",
       "50%      3.000000e+04\n",
       "75%      1.000000e+05\n",
       "max      5.000000e+06\n",
       "Name: bail_amount, dtype: float64"
      ]
     },
     "execution_count": 76,
     "metadata": {},
     "output_type": "execute_result"
    }
   ],
   "source": [
    "monetary_bail['bail_amount'].describe()"
   ]
  },
  {
   "cell_type": "code",
   "execution_count": 77,
   "metadata": {},
   "outputs": [
    {
     "data": {
      "text/plain": [
       "(-5000.001, 500000.0]     8542\n",
       "(500000.0, 1000000.0]      156\n",
       "(1500000.0, 2000000.0]      34\n",
       "(2500000.0, 3000000.0]       7\n",
       "(4500000.0, 5000000.0]       3\n",
       "(2000000.0, 2500000.0]       2\n",
       "(4000000.0, 4500000.0]       0\n",
       "(3500000.0, 4000000.0]       0\n",
       "(3000000.0, 3500000.0]       0\n",
       "(1000000.0, 1500000.0]       0\n",
       "Name: bail_amount, dtype: int64"
      ]
     },
     "execution_count": 77,
     "metadata": {},
     "output_type": "execute_result"
    }
   ],
   "source": [
    "monetary_bail['bail_amount'].value_counts(bins=10)"
   ]
  },
  {
   "cell_type": "code",
   "execution_count": 78,
   "metadata": {},
   "outputs": [
    {
     "name": "stdout",
     "output_type": "stream",
     "text": [
      "96 unique (nonzero) bail values were set, with $25,000 being the most common (1082 times)\n"
     ]
    }
   ],
   "source": [
    "bail_set_values = monetary_bail['bail_amount'].value_counts()\n",
    "print(\"{0} unique (nonzero) bail values were set, with ${1:,.0f} being the most common ({2} times)\".format(len(bail_set_values), bail_set_values.idxmax(), max(bail_set_values)))"
   ]
  },
  {
   "cell_type": "markdown",
   "metadata": {},
   "source": [
    "**Summary statistics of bail paid**"
   ]
  },
  {
   "cell_type": "code",
   "execution_count": 79,
   "metadata": {},
   "outputs": [
    {
     "data": {
      "text/plain": [
       "count     8744.000000\n",
       "mean      2245.086345\n",
       "std       4917.802319\n",
       "min          0.000000\n",
       "25%          0.000000\n",
       "50%        500.000000\n",
       "75%       2500.000000\n",
       "max      75000.000000\n",
       "Name: bail_paid, dtype: float64"
      ]
     },
     "execution_count": 79,
     "metadata": {},
     "output_type": "execute_result"
    }
   ],
   "source": [
    "monetary_bail['bail_paid'].describe()"
   ]
  },
  {
   "cell_type": "code",
   "execution_count": 80,
   "metadata": {},
   "outputs": [
    {
     "data": {
      "text/plain": [
       "(-75.001, 7500.0]     8138\n",
       "(7500.0, 15000.0]      433\n",
       "(22500.0, 30000.0]      76\n",
       "(15000.0, 22500.0]      66\n",
       "(45000.0, 52500.0]      18\n",
       "(30000.0, 37500.0]       8\n",
       "(67500.0, 75000.0]       3\n",
       "(37500.0, 45000.0]       2\n",
       "(60000.0, 67500.0]       0\n",
       "(52500.0, 60000.0]       0\n",
       "Name: bail_paid, dtype: int64"
      ]
     },
     "execution_count": 80,
     "metadata": {},
     "output_type": "execute_result"
    }
   ],
   "source": [
    "monetary_bail['bail_paid'].value_counts(bins=10)"
   ]
  },
  {
   "cell_type": "code",
   "execution_count": 81,
   "metadata": {},
   "outputs": [
    {
     "data": {
      "text/plain": [
       "0.0        4074\n",
       "2500.0      753\n",
       "1000.0      652\n",
       "5000.0      583\n",
       "500.0       446\n",
       "           ... \n",
       "27500.0       1\n",
       "25.0          1\n",
       "32500.0       1\n",
       "5030.0        1\n",
       "1550.0        1\n",
       "Name: bail_paid, Length: 66, dtype: int64"
      ]
     },
     "execution_count": 81,
     "metadata": {},
     "output_type": "execute_result"
    }
   ],
   "source": [
    "monetary_bail['bail_paid'].value_counts()"
   ]
  },
  {
   "cell_type": "markdown",
   "metadata": {},
   "source": [
    "### 5.2 Bail Amount vs. Bail Paid Across Offense Types"
   ]
  },
  {
   "cell_type": "code",
   "execution_count": 82,
   "metadata": {},
   "outputs": [],
   "source": [
    "# requires nmf topic modeling results"
   ]
  }
 ],
 "metadata": {
  "kernelspec": {
   "display_name": "Python 3",
   "language": "python",
   "name": "python3"
  },
  "language_info": {
   "codemirror_mode": {
    "name": "ipython",
    "version": 3
   },
   "file_extension": ".py",
   "mimetype": "text/x-python",
   "name": "python",
   "nbconvert_exporter": "python",
   "pygments_lexer": "ipython3",
   "version": "3.8.5"
  },
  "varInspector": {
   "cols": {
    "lenName": 16,
    "lenType": 16,
    "lenVar": 40
   },
   "kernels_config": {
    "python": {
     "delete_cmd_postfix": "",
     "delete_cmd_prefix": "del ",
     "library": "var_list.py",
     "varRefreshCmd": "print(var_dic_list())"
    },
    "r": {
     "delete_cmd_postfix": ") ",
     "delete_cmd_prefix": "rm(",
     "library": "var_list.r",
     "varRefreshCmd": "cat(var_dic_list()) "
    }
   },
   "types_to_exclude": [
    "module",
    "function",
    "builtin_function_or_method",
    "instance",
    "_Feature"
   ],
   "window_display": false
  }
 },
 "nbformat": 4,
 "nbformat_minor": 4
}
