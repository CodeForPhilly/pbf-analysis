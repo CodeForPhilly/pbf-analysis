{
 "cells": [
  {
   "cell_type": "code",
   "execution_count": 15,
   "metadata": {},
   "outputs": [
    {
     "ename": "ModuleNotFoundError",
     "evalue": "No module named 'PIL'",
     "output_type": "error",
     "traceback": [
      "\u001b[0;31m---------------------------------------------------------------------------\u001b[0m",
      "\u001b[0;31mModuleNotFoundError\u001b[0m                       Traceback (most recent call last)",
      "\u001b[0;32m<ipython-input-15-9d7936e8a3af>\u001b[0m in \u001b[0;36m<module>\u001b[0;34m\u001b[0m\n\u001b[1;32m      2\u001b[0m \u001b[0;32mfrom\u001b[0m \u001b[0mnltk\u001b[0m \u001b[0;32mimport\u001b[0m \u001b[0mword_tokenize\u001b[0m\u001b[0;34m\u001b[0m\u001b[0;34m\u001b[0m\u001b[0m\n\u001b[1;32m      3\u001b[0m \u001b[0;32mfrom\u001b[0m \u001b[0mgensim\u001b[0m \u001b[0;32mimport\u001b[0m \u001b[0mcorpora\u001b[0m\u001b[0;34m,\u001b[0m \u001b[0mmodels\u001b[0m\u001b[0;34m\u001b[0m\u001b[0;34m\u001b[0m\u001b[0m\n\u001b[0;32m----> 4\u001b[0;31m \u001b[0;32mfrom\u001b[0m \u001b[0mwordcloud\u001b[0m \u001b[0;32mimport\u001b[0m \u001b[0mWordCloud\u001b[0m\u001b[0;34m,\u001b[0m \u001b[0mSTOPWORDS\u001b[0m\u001b[0;34m\u001b[0m\u001b[0;34m\u001b[0m\u001b[0m\n\u001b[0m",
      "\u001b[0;32m~/opt/anaconda3/envs/metis/lib/python3.7/site-packages/wordcloud/__init__.py\u001b[0m in \u001b[0;36m<module>\u001b[0;34m\u001b[0m\n\u001b[0;32m----> 1\u001b[0;31m from .wordcloud import (WordCloud, STOPWORDS, random_color_func,\n\u001b[0m\u001b[1;32m      2\u001b[0m                         get_single_color_func)\n\u001b[1;32m      3\u001b[0m \u001b[0;32mfrom\u001b[0m \u001b[0;34m.\u001b[0m\u001b[0mcolor_from_image\u001b[0m \u001b[0;32mimport\u001b[0m \u001b[0mImageColorGenerator\u001b[0m\u001b[0;34m\u001b[0m\u001b[0;34m\u001b[0m\u001b[0m\n\u001b[1;32m      4\u001b[0m \u001b[0;34m\u001b[0m\u001b[0m\n\u001b[1;32m      5\u001b[0m __all__ = ['WordCloud', 'STOPWORDS', 'random_color_func',\n",
      "\u001b[0;32m~/opt/anaconda3/envs/metis/lib/python3.7/site-packages/wordcloud/wordcloud.py\u001b[0m in \u001b[0;36m<module>\u001b[0;34m\u001b[0m\n\u001b[1;32m     22\u001b[0m \u001b[0;32mfrom\u001b[0m \u001b[0mxml\u001b[0m\u001b[0;34m.\u001b[0m\u001b[0msax\u001b[0m \u001b[0;32mimport\u001b[0m \u001b[0msaxutils\u001b[0m\u001b[0;34m\u001b[0m\u001b[0;34m\u001b[0m\u001b[0m\n\u001b[1;32m     23\u001b[0m \u001b[0;34m\u001b[0m\u001b[0m\n\u001b[0;32m---> 24\u001b[0;31m \u001b[0;32mfrom\u001b[0m \u001b[0mPIL\u001b[0m \u001b[0;32mimport\u001b[0m \u001b[0mImage\u001b[0m\u001b[0;34m\u001b[0m\u001b[0;34m\u001b[0m\u001b[0m\n\u001b[0m\u001b[1;32m     25\u001b[0m \u001b[0;32mfrom\u001b[0m \u001b[0mPIL\u001b[0m \u001b[0;32mimport\u001b[0m \u001b[0mImageColor\u001b[0m\u001b[0;34m\u001b[0m\u001b[0;34m\u001b[0m\u001b[0m\n\u001b[1;32m     26\u001b[0m \u001b[0;32mfrom\u001b[0m \u001b[0mPIL\u001b[0m \u001b[0;32mimport\u001b[0m \u001b[0mImageDraw\u001b[0m\u001b[0;34m\u001b[0m\u001b[0;34m\u001b[0m\u001b[0m\n",
      "\u001b[0;31mModuleNotFoundError\u001b[0m: No module named 'PIL'"
     ]
    }
   ],
   "source": [
    "from re import sub\n",
    "import pandas as pd\n",
    "from nltk import word_tokenize\n",
    "from gensim import corpora, models\n",
    "from wordcloud import WordCloud, STOPWORDS "
   ]
  },
  {
   "cell_type": "code",
   "execution_count": 2,
   "metadata": {},
   "outputs": [],
   "source": [
    "pd.options.display.max_rows = 1000"
   ]
  },
  {
   "cell_type": "code",
   "execution_count": 3,
   "metadata": {},
   "outputs": [
    {
     "data": {
      "text/html": [
       "<div>\n",
       "<style scoped>\n",
       "    .dataframe tbody tr th:only-of-type {\n",
       "        vertical-align: middle;\n",
       "    }\n",
       "\n",
       "    .dataframe tbody tr th {\n",
       "        vertical-align: top;\n",
       "    }\n",
       "\n",
       "    .dataframe thead th {\n",
       "        text-align: right;\n",
       "    }\n",
       "</style>\n",
       "<table border=\"1\" class=\"dataframe\">\n",
       "  <thead>\n",
       "    <tr style=\"text-align: right;\">\n",
       "      <th></th>\n",
       "      <th>id</th>\n",
       "      <th>age</th>\n",
       "      <th>address</th>\n",
       "      <th>docket_number</th>\n",
       "      <th>filing_date</th>\n",
       "      <th>charge</th>\n",
       "      <th>represented_by</th>\n",
       "      <th>bail_type</th>\n",
       "      <th>bail_status</th>\n",
       "      <th>bail_amount</th>\n",
       "      <th>outstanding_bail_amount</th>\n",
       "    </tr>\n",
       "  </thead>\n",
       "  <tbody>\n",
       "    <tr>\n",
       "      <th>0</th>\n",
       "      <td>3909</td>\n",
       "      <td>27.0</td>\n",
       "      <td>Philadelphia, PA 19141</td>\n",
       "      <td>MC-51-CR-0011746-2020</td>\n",
       "      <td>2020-06-16T00:37:00Z</td>\n",
       "      <td>DUI: Gen Imp/Inc of Driving Safely - 1st Off</td>\n",
       "      <td>Defender Association of Philadelphia</td>\n",
       "      <td>Posted</td>\n",
       "      <td>ROR</td>\n",
       "      <td>0</td>\n",
       "      <td>0</td>\n",
       "    </tr>\n",
       "    <tr>\n",
       "      <th>1</th>\n",
       "      <td>4538</td>\n",
       "      <td>44.0</td>\n",
       "      <td>Philadelphia, PA 19124</td>\n",
       "      <td>MC-51-CR-0011747-2020</td>\n",
       "      <td>2020-06-16T00:41:00Z</td>\n",
       "      <td>Verify Address or Photographed as Required</td>\n",
       "      <td>Defender Association of Philadelphia</td>\n",
       "      <td>Set</td>\n",
       "      <td>Monetary</td>\n",
       "      <td>50000</td>\n",
       "      <td>0</td>\n",
       "    </tr>\n",
       "    <tr>\n",
       "      <th>2</th>\n",
       "      <td>120</td>\n",
       "      <td>24.0</td>\n",
       "      <td>Philadelphia, PA 19142</td>\n",
       "      <td>MC-51-CR-0011743-2020</td>\n",
       "      <td>2020-06-16T00:52:00Z</td>\n",
       "      <td>Criminal Mischief</td>\n",
       "      <td>Defender Association of Philadelphia</td>\n",
       "      <td>Posted</td>\n",
       "      <td>ROR</td>\n",
       "      <td>0</td>\n",
       "      <td>0</td>\n",
       "    </tr>\n",
       "    <tr>\n",
       "      <th>3</th>\n",
       "      <td>120</td>\n",
       "      <td>24.0</td>\n",
       "      <td>Philadelphia, PA 19142</td>\n",
       "      <td>MC-51-CR-0011744-2020</td>\n",
       "      <td>2020-06-16T00:52:00Z</td>\n",
       "      <td>Criminal Mischief</td>\n",
       "      <td>Defender Association of Philadelphia</td>\n",
       "      <td>Posted</td>\n",
       "      <td>ROR</td>\n",
       "      <td>0</td>\n",
       "      <td>0</td>\n",
       "    </tr>\n",
       "    <tr>\n",
       "      <th>4</th>\n",
       "      <td>120</td>\n",
       "      <td>24.0</td>\n",
       "      <td>Philadelphia, PA 19142</td>\n",
       "      <td>MC-51-CR-0011745-2020</td>\n",
       "      <td>2020-06-16T00:52:00Z</td>\n",
       "      <td>Criminal Mischief</td>\n",
       "      <td>Defender Association of Philadelphia</td>\n",
       "      <td>Posted</td>\n",
       "      <td>ROR</td>\n",
       "      <td>0</td>\n",
       "      <td>0</td>\n",
       "    </tr>\n",
       "  </tbody>\n",
       "</table>\n",
       "</div>"
      ],
      "text/plain": [
       "     id   age                 address          docket_number  \\\n",
       "0  3909  27.0  Philadelphia, PA 19141  MC-51-CR-0011746-2020   \n",
       "1  4538  44.0  Philadelphia, PA 19124  MC-51-CR-0011747-2020   \n",
       "2   120  24.0  Philadelphia, PA 19142  MC-51-CR-0011743-2020   \n",
       "3   120  24.0  Philadelphia, PA 19142  MC-51-CR-0011744-2020   \n",
       "4   120  24.0  Philadelphia, PA 19142  MC-51-CR-0011745-2020   \n",
       "\n",
       "            filing_date                                        charge  \\\n",
       "0  2020-06-16T00:37:00Z  DUI: Gen Imp/Inc of Driving Safely - 1st Off   \n",
       "1  2020-06-16T00:41:00Z    Verify Address or Photographed as Required   \n",
       "2  2020-06-16T00:52:00Z                             Criminal Mischief   \n",
       "3  2020-06-16T00:52:00Z                             Criminal Mischief   \n",
       "4  2020-06-16T00:52:00Z                             Criminal Mischief   \n",
       "\n",
       "                         represented_by bail_type bail_status  bail_amount  \\\n",
       "0  Defender Association of Philadelphia    Posted         ROR            0   \n",
       "1  Defender Association of Philadelphia       Set    Monetary        50000   \n",
       "2  Defender Association of Philadelphia    Posted         ROR            0   \n",
       "3  Defender Association of Philadelphia    Posted         ROR            0   \n",
       "4  Defender Association of Philadelphia    Posted         ROR            0   \n",
       "\n",
       "   outstanding_bail_amount  \n",
       "0                        0  \n",
       "1                        0  \n",
       "2                        0  \n",
       "3                        0  \n",
       "4                        0  "
      ]
     },
     "execution_count": 3,
     "metadata": {},
     "output_type": "execute_result"
    }
   ],
   "source": [
    "data = pd.read_csv('/Users/wasilaq/pbf-analysis/Data/0c_distinct_dockets.csv')\n",
    "data.head()"
   ]
  },
  {
   "cell_type": "markdown",
   "metadata": {},
   "source": [
    "## Explore Charges"
   ]
  },
  {
   "cell_type": "code",
   "execution_count": 4,
   "metadata": {},
   "outputs": [
    {
     "data": {
      "text/plain": [
       "136"
      ]
     },
     "execution_count": 4,
     "metadata": {},
     "output_type": "execute_result"
    }
   ],
   "source": [
    "data.charge.nunique()"
   ]
  },
  {
   "cell_type": "code",
   "execution_count": 5,
   "metadata": {
    "scrolled": true
   },
   "outputs": [
    {
     "data": {
      "text/plain": [
       "Manufacture, Delivery, or Possession With Intent to Manufacture or Deliver                    836\n",
       "Burglary - Not Adapted for Overnight Accommodation, No Person Present                         580\n",
       "Aggravated Assault - Attempts to cause SBI or causes injury with extreme indifference         537\n",
       "DUI: Gen Imp/Inc of Driving Safely - 1st Off                                                  344\n",
       "Simple Assault                                                                                258\n",
       "Firearms Not To Be Carried W/O License                                                        238\n",
       "Theft By Unlaw Taking-Movable Prop                                                            236\n",
       "Int Poss Contr Subst By Per Not Reg                                                           200\n",
       "Contempt For Violation of Order or Agreement                                                  200\n",
       "Burglary - Overnight Accommodations Person Present, Bodily Injury Crime                       199\n",
       "Poss Instrument Of Crime W/Int                                                                185\n",
       "Possession Of Firearm Prohibited                                                              172\n",
       "Receiving Stolen Property                                                                     144\n",
       "Purc/Rec Of Cont Substby Unauth Per                                                           144\n",
       "Robbery-Inflict Serious Bodily Injury                                                         118\n",
       "Robbery-Inflict Threat Imm Bod Inj                                                             97\n",
       "Arrest Prior To Requisition                                                                    96\n",
       "Strangulation - Applying Pressure to Throat or Neck                                            85\n",
       "Terroristic Threats W/ Int To Terrorize Another                                                76\n",
       "Crim Tres-Break Into Structure                                                                 61\n",
       "Criminal Attempt - Murder                                                                      54\n",
       "Murder                                                                                         50\n",
       "Aggravated Assault                                                                             49\n",
       "Criminal Mischief                                                                              47\n",
       "Theft From A Motor Vehicle                                                                     45\n",
       "Rape Forcible Compulsion                                                                       42\n",
       "Retail Theft-Take Mdse                                                                         35\n",
       "Arson-Danger Of Death Or Bodily Inj                                                            28\n",
       "Posses Firearm W/Manufacturer Number Altered, Etc                                              26\n",
       "Crim Tres-Enter Structure                                                                      24\n",
       "Criminal Attempt - Murder of A Law Enforcement Officer of the First Degree                     24\n",
       "Endangering Welfare of Children - Parent/Guardian/Other Commits Offense                        23\n",
       "Robbery-Take Property Fr Other/Force                                                           19\n",
       "Criminal Attempt - Burglary - Overnight Accommodations Person Present, Bodily Injury Crime     17\n",
       "Def Tres Posted                                                                                16\n",
       "Forgery - Alter Writing                                                                        14\n",
       "Resist Arrest/Other Law Enforce                                                                13\n",
       "Criminal Attempt - Burglary - Not Adapted for Overnight Accommodation, No Person Present       13\n",
       "Unauth Use Motor/Other Vehicles                                                                12\n",
       "Contraband/Controlled Substance                                                                12\n",
       "Fleeing or Attempting to Elude Officer                                                         11\n",
       "Unlawful Contact With Minor - Sexual Offenses                                                  10\n",
       "Unlawful Sales Of Liquor                                                                       10\n",
       "Indec Asslt-W/O Cons Of Other                                                                  10\n",
       "Recklessly Endangering Another Person                                                           9\n",
       "Accidents Involving Death Or Personal Injury                                                    9\n",
       "Criminal Attempt - Rape Forcible Compulsion                                                     9\n",
       "Obstruct Admin Law/Other Govt Func                                                              8\n",
       "Escape                                                                                          8\n",
       "Criminal Attempt - Theft By Unlaw Taking-Movable Prop                                           7\n",
       "Criminal Attempt - Theft From A Motor Vehicle                                                   7\n",
       "Intim Wit/Vit - Refrain From Report                                                             7\n",
       "Verify Address or Photographed as Required                                                      6\n",
       "Institutional Vandalism/Illegal Possession                                                      6\n",
       "Unlawful Restraint/ Serious Bodily Injury                                                       6\n",
       "Unknown Statute                                                                                 6\n",
       "Poss Of Marijuana                                                                               5\n",
       "Aggravated assault by vehicle                                                                   5\n",
       "Ethnic Intimidation                                                                             5\n",
       "Access Device Used To Obt Or Att Obt Prop/Service                                               5\n",
       "Stalking - Repeatedly Commit Acts To Cause Fear                                                 4\n",
       "Prom Pros-Inmate In House Of Prost/Business                                                     4\n",
       "Harassment - Comm. Lewd, Threatening, Etc. Language                                             4\n",
       "Corruption Of Minors                                                                            4\n",
       "Discharge Of A Firearm Into Occupied Structure                                                  4\n",
       "IDSI Forcible Compulsion                                                                        4\n",
       "Patronizing Prostitutes                                                                         4\n",
       "Theft By Decep-False Impression                                                                 4\n",
       "Aggravated Harassment By Prisoner                                                               3\n",
       "Retaliation Against Witness or Victim                                                           3\n",
       "Alter/Obliterate Mark Of Identification                                                         3\n",
       "Aggravated Assault By Vehicle While Dui                                                         3\n",
       "Criminal Solicitation - IDSI Forcible Compulsion                                                3\n",
       "Agg. Ind. Assault W/O Consent                                                                   3\n",
       "Robbery Of Motor Vehicle                                                                        3\n",
       "Hinder App/Prosec-Harbor Or Conceal                                                             3\n",
       "False Imprisonment                                                                              3\n",
       "Tamper With Public Record/information                                                           3\n",
       "Propel Missile Into Occ Vehicles                                                                3\n",
       "Weapons of Mass Dest. - Unlawful Poss or Manu                                                   2\n",
       "Owning Operating Conducting A Chop Shop                                                         2\n",
       "Criminal Attempt - Criminal Homicide                                                            2\n",
       "Disorder Conduct Hazardous/Physi Off                                                            2\n",
       "Deliver Firearm After 48 Hours Elapsed                                                          2\n",
       "Theft Of Services-Acquis Of Service                                                             2\n",
       "Indecent Exposure                                                                               2\n",
       "Involuntary Manslaughter                                                                        2\n",
       "Assault of Law Enforcement Officer                                                              2\n",
       "Criminal Homicide                                                                               2\n",
       "Kidnapping For Ransom                                                                           2\n",
       "Indecent Assault Forcible Compulsion                                                            2\n",
       "Failure to Comply With Registration of Sexual Offender Requirements                             2\n",
       "Harassment - Subject Other to Physical Contact                                                  2\n",
       "Contact/Comm.W/Minor-Sexual Offenses                                                            1\n",
       "Police Animals - Illegal to Taunt                                                               1\n",
       "Criminal Attempt - IDSI Forcible Compulsion                                                     1\n",
       "Burglary - Overnight Accommodation, Person Present                                              1\n",
       "Criminal Attempt - Murder Of The First Degree                                                   1\n",
       "Criminal Attempt - Causing Catastrophe                                                          1\n",
       "Fraud Alter/Forg/Counter Title Reg Ins                                                          1\n",
       "Criminal Attempt - DUI: Gen Imp/Inc of Driving Safely - 1st Off                                 1\n",
       "Causing Catastrophe                                                                             1\n",
       "Criminal Attempt - Possession Of Firearm Prohibited                                             1\n",
       "Accident Involv Damage Attended Vehicle/Prop                                                    1\n",
       "Criminal Use Of Communication Facility                                                          1\n",
       "Criminal Attempt - Kidnapping For Ransom                                                        1\n",
       "Criminal Attempt - Crim Tres-Break Into Structure                                               1\n",
       "Carry Firearms Public In Phila                                                                  1\n",
       "Homicide by Vehicle While DUI                                                                   1\n",
       "Unsworn Falsification to Authorities                                                            1\n",
       "Criminal Attempt - Robbery-Inflict Serious Bodily Injury                                        1\n",
       "First Degree Murder Of Unborn Child                                                             1\n",
       "Make Repairs/Sell/Etc Offens Weap                                                               1\n",
       "Use/Poss Of Drug Paraph                                                                         1\n",
       "Disarming Law Enforcement Officer - Without Lawful Authorization                                1\n",
       "Criminal Attempt - Arson-Danger Of Death Or Bodily Inj                                          1\n",
       "Bad Checks                                                                                      1\n",
       "Conspiracy - Manufacture, Delivery, or Possession With Intent to Manufacture or Deliver         1\n",
       "Identity Theft                                                                                  1\n",
       "Tamper With/Fabricate Physical Evidence                                                         1\n",
       "Drug Delivery Resulting In Death                                                                1\n",
       "Neglect Of Care-Dependent Person                                                                1\n",
       "Lure Child Into Motor Vehicle                                                                   1\n",
       "Murder Of The Third Degree                                                                      1\n",
       "Invasion of Privacy - view, photograph, etc. person w/out consent                               1\n",
       "False Alarm To Agency Of Public Safety                                                          1\n",
       "Statutory Sexual Assault:  8-11 Years Older                                                     1\n",
       "Acci Dam To Unattended Veh Or Propert                                                           1\n",
       "Statutory Sexual Assault                                                                        1\n",
       "Corruption Of Minors - Defendant Age 18 or Above                                                1\n",
       "Computer Trespass - Remove Data                                                                 1\n",
       "Unlawful Dissemination of Intimate Image                                                        1\n",
       "Criminal Attempt - Theft By Decep-False Impression                                              1\n",
       "Statutory Sexual Assault:  11 Years Older                                                       1\n",
       "Criminal Attempt - Crim Tres-Enter Structure                                                    1\n",
       "Conspiracy - Burglary - Not Adapted for Overnight Accommodation, No Person Present              1\n",
       "Name: charge, dtype: int64"
      ]
     },
     "execution_count": 5,
     "metadata": {},
     "output_type": "execute_result"
    }
   ],
   "source": [
    "data.charge.value_counts()"
   ]
  },
  {
   "cell_type": "markdown",
   "metadata": {},
   "source": [
    "### Top Charges\n",
    "\n",
    "\"Manufacture, Delivery, or Possession With Intent to Manufacture or Deliver\"\n",
    "<br> **drug dealing**\n",
    "<br> http://www.phillybestdefense.com/possession-with-intent-to-deliver-manufacturing\n",
    "\n",
    "\"Burglary - Not Adapted for Overnight Accommodation, No Person Present\"\n",
    "<br> **burglary**\n",
    "<br>https://www.pittsburghcriminalattorney.com/theft/burglary/ ('*However, if you were caught in a building where no one was present and that was not adapted for overnight accommodation, you can be charged with a felony of the second degree.*')\n",
    "\n",
    "\"Aggravated Assault - Attempts to cause SBI or causes injury with extreme indifference\"\n",
    "<br> **assault**\n",
    "<br> https://www.legis.state.pa.us/cfdocs/legis/LI/consCheck.cfm?txtType=HTM&ttl=18&div=0&chpt=27&sctn=2&subsctn=0\n",
    "\n",
    "\"DUI: Gen Imp/Inc of Driving Safely - 1st Off\"\n",
    "<br> **DUI 1st offense**\n",
    "\n",
    "\"Simple Assault\"\n",
    "<br> **assault**\n",
    "<br>https://www.legis.state.pa.us/cfdocs/legis/LI/consCheck.cfm?txtType=HTM&ttl=18&div=0&chpt=27&sctn=1&subsctn=0"
   ]
  },
  {
   "cell_type": "markdown",
   "metadata": {},
   "source": [
    "## Charges Topic Modeling"
   ]
  },
  {
   "cell_type": "markdown",
   "metadata": {},
   "source": [
    "potentially use category and/or severity of charge as a feature"
   ]
  },
  {
   "cell_type": "markdown",
   "metadata": {},
   "source": [
    "https://www.kdnuggets.com/2019/09/overview-topics-extraction-python-latent-dirichlet-allocation.html\n",
    "\n",
    "Supervised: https://www.freecodecamp.org/news/how-we-changed-unsupervised-lda-to-semi-supervised-guidedlda-e36a95f3a164/\n",
    "\n",
    "CorEx: https://gist.github.com/patrickvankessel/0d5bd690910edece831dbdf32fb2fb2d"
   ]
  },
  {
   "cell_type": "code",
   "execution_count": 6,
   "metadata": {},
   "outputs": [],
   "source": [
    "charges = data.charge.unique()"
   ]
  },
  {
   "cell_type": "code",
   "execution_count": 8,
   "metadata": {},
   "outputs": [],
   "source": [
    "def clean_text(text):\n",
    "    '''\n",
    "    remove punctuation and stop words, lowercase\n",
    "    '''\n",
    "    no_line_breaks = text.replace('\\n','')\n",
    "    lowercase = no_line_breaks.lower()\n",
    "    no_punc = sub('[^\\w\\s]', '', lowercase)\n",
    "    final = no_punc\n",
    "    \n",
    "    for word in STOPWORDS:\n",
    "        final = final.replace(word, '')\n",
    "    \n",
    "    return final\n",
    "    \n",
    "charges = [clean_text(charge) for charge in charges]"
   ]
  },
  {
   "cell_type": "code",
   "execution_count": 7,
   "metadata": {},
   "outputs": [],
   "source": [
    "charges_corpus = [word_tokenize(charge) for charge in charges]"
   ]
  },
  {
   "cell_type": "code",
   "execution_count": 9,
   "metadata": {},
   "outputs": [],
   "source": [
    "dictionary_LDA = corpora.Dictionary(charges_corpus)\n",
    "# dictionary_LDA.filter_extremes(no_below=3)\n",
    "corpus = [dictionary_LDA.doc2bow(charge) for charge in charges_corpus]\n",
    "\n",
    "num_topics = 4\n",
    "lda_model = models.LdaModel(corpus, num_topics=num_topics,\n",
    "                            id2word=dictionary_LDA,\n",
    "                            passes=4,\n",
    "                            alpha=[0.01]*num_topics,\n",
    "                            eta=[0.01]*len(dictionary_LDA.keys()))"
   ]
  },
  {
   "cell_type": "code",
   "execution_count": 10,
   "metadata": {},
   "outputs": [
    {
     "name": "stdout",
     "output_type": "stream",
     "text": [
      "0: 0.079*\"Of\" + 0.031*\"Assault\" + 0.024*\"Death\" + 0.023*\"Statutory\" + 0.023*\"Sexual\" + 0.020*\"-\" + 0.017*\"Theft\" + 0.016*\"Years\" + 0.016*\"Older\" + 0.016*\"Arson-Danger\"\n",
      "\n",
      "1: 0.088*\"-\" + 0.065*\"Criminal\" + 0.053*\"Attempt\" + 0.028*\"of\" + 0.017*\".\" + 0.017*\"Theft\" + 0.015*\"Assault\" + 0.014*\"to\" + 0.014*\"Compulsion\" + 0.014*\"Forcible\"\n",
      "\n",
      "2: 0.062*\"Of\" + 0.051*\",\" + 0.037*\"-\" + 0.028*\"Possession\" + 0.024*\"Manufacture\" + 0.024*\"or\" + 0.022*\"Murder\" + 0.022*\"Firearm\" + 0.022*\"Overnight\" + 0.022*\"Burglary\"\n",
      "\n",
      "3: 0.038*\"-\" + 0.034*\"or\" + 0.033*\"Bodily\" + 0.033*\"Injury\" + 0.020*\"To\" + 0.020*\"Serious\" + 0.020*\"Robbery-Inflict\" + 0.014*\"Aggravated\" + 0.014*\"Reg\" + 0.014*\"Not\"\n",
      "\n"
     ]
    }
   ],
   "source": [
    "# print topics\n",
    "\n",
    "for i,topic in lda_model.show_topics(formatted=True, num_topics=num_topics, num_words=10):\n",
    "    print(str(i)+\": \"+ topic)\n",
    "    print()"
   ]
  },
  {
   "cell_type": "code",
   "execution_count": 12,
   "metadata": {},
   "outputs": [
    {
     "data": {
      "text/html": [
       "\n",
       "<link rel=\"stylesheet\" type=\"text/css\" href=\"https://cdn.rawgit.com/bmabey/pyLDAvis/files/ldavis.v1.0.0.css\">\n",
       "\n",
       "\n",
       "<div id=\"ldavis_el12451402513272910886425303721\"></div>\n",
       "<script type=\"text/javascript\">\n",
       "\n",
       "var ldavis_el12451402513272910886425303721_data = {\"mdsDat\": {\"x\": [0.06824024211961703, -0.1501439039503423, -0.19155198560321254, 0.2734556474339379], \"y\": [-0.12716387984315136, -0.19019343916442027, 0.2293765415268228, 0.08798077748074877], \"topics\": [1, 2, 3, 4], \"cluster\": [1, 1, 1, 1], \"Freq\": [43.650245666503906, 21.95640754699707, 18.71710968017578, 15.676238059997559]}, \"tinfo\": {\"Term\": [\"Of\", \"Criminal\", \"Attempt\", \",\", \"Injury\", \"Bodily\", \"Possession\", \"Manufacture\", \"Assault\", \"Death\", \"of\", \"Theft\", \"Sexual\", \"Statutory\", \"Serious\", \"Robbery-Inflict\", \"or\", \"Murder\", \"Accommodation\", \"Present\", \"Burglary\", \"Overnight\", \".\", \"Firearm\", \":\", \"Not\", \"Degree\", \"for\", \"Adapted\", \"No\", \".\", \"Crim\", \"From\", \"Safely\", \"Endangering\", \"Contact\", \"1st\", \"Use\", \"Tres-Enter\", \"Vehicles\", \"Imp/Inc\", \"Tres-Break\", \"Gen\", \"Driving\", \"Rape\", \"Attempt\", \"Offense\", \"Unsworn\", \"Accidents\", \"Wit/Vit\", \"Welfare\", \"Subject\", \"Report\", \"Commits\", \"causes\", \"Dissemination\", \"Resist\", \"Personal\", \"Alter\", \"Forgery\", \"Criminal\", \"Missile\", \"Ind\", \"Accident\", \"Requirements\", \"Arrest/Other\", \"Taking-Movable\", \"with\", \"Threatening\", \"consent\", \"Comm\", \"Offender\", \"IDSI\", \"Unlaw\", \"Prop\", \"of\", \"-\", \"Compulsion\", \"Forcible\", \"Structure\", \"Theft\", \"Law\", \"to\", \"Assault\", \"By\", \"Aggravated\", \"Unlawful\", \"Into\", \"With\", \"A\", \",\", \"Vehicle\", \"Person\", \"Of\", \"Or\", \":\", \"Murder\", \"Sexual\", \"Manufacture\", \"Obt\", \"Child\", \"Intent\", \"Conducting\", \"Operating\", \"Third\", \"Simple\", \"House\", \"Altered\", \"W/Int\", \"Vandalism/Illegal\", \"Used\", \"Theft-Take\", \"Prop/Service\", \"Chop\", \"Device\", \"Patronizing\", \"Contraband/Controlled\", \"W/Manufacturer\", \"Occupied\", \"Indec\", \"Posses\", \"Unborn\", \"Asslt-W/O\", \"Number\", \"Cons\", \"Robbery\", \"Mdse\", \"Evidence\", \"Substance\", \"Shop\", \"Receiving\", \"Prom\", \"Prost/Business\", \"Discharge\", \"Possession\", \"Owning\", \"Retail\", \"Conspiracy\", \"Accommodation\", \"No\", \"Adapted\", \"for\", \"The\", \"Firearm\", \",\", \"Murder\", \"Degree\", \"Of\", \"Burglary\", \"Present\", \"Overnight\", \"Deliver\", \"Delivery\", \"Person\", \"Not\", \"or\", \"Motor\", \"-\", \"A\", \"With\", \"Into\", \"First\", \"Vehicle\", \"to\", \"Robbery-Inflict\", \"Serious\", \"Int\", \"Firearms\", \"Reg\", \"Commit\", \"Bod\", \"Above\", \"Conceal\", \"Fr\", \"Retaliation\", \"assault\", \"vehicle\", \"Elude\", \"Contact/Comm.W/Minor-Sexual\", \"Law/Other\", \"Age\", \"Contr\", \"License\", \"Contempt\", \"Other/Force\", \"Fleeing\", \"Carried\", \"Be\", \"Against\", \"Violation\", \"Victim\", \"Witness\", \"Order\", \"Robbery-Take\", \"Pressure\", \"Attempting\", \"Govt\", \"Title\", \"Phila\", \"Carry\", \"Admin\", \"Manslaughter\", \"App/Prosec-Harbor\", \"Stalking\", \"Hinder\", \"Exposure\", \"Prisoner\", \"Ins\", \"Accommodations\", \"Defendant\", \"Terroristic\", \"Terrorize\", \"Agreement\", \"Injury\", \"Bodily\", \"or\", \"Crime\", \"To\", \"-\", \"Aggravated\", \"Not\", \"Present\", \"Burglary\", \"Overnight\", \"By\", \"to\", \"Person\", \",\", \"Of\", \"Bad\", \"Address\", \"48\", \"11\", \"Service\", \"Resulting\", \"Tres\", \"Identification\", \"Intimidation\", \"Trespass\", \"Without\", \"Disarming\", \"Ethnic\", \"Required\", \"Def\", \"Posted\", \"Lawful\", \"Hazardous/Physi\", \"Services-Acquis\", \"Marijuana\", \"Elapsed\", \"Disorder\", \"Substby\", \"Safety\", \"as\", \"Conduct\", \"Remove\", \"Checks\", \"After\", \"Liquor\", \"Photographed\", \"Authorization\", \"Statutory\", \"Years\", \"Older\", \"Arson-Danger\", \"Ransom\", \"Kidnapping\", \"Death\", \"Of\", \"Sexual\", \"Drug\", \"Assault\", \"Inj\", \"For\", \":\", \"Theft\", \"Bodily\", \"Or\", \"-\", \"By\", \"Firearm\", \"While\", \"Enforcement\"], \"Freq\": [24.0, 23.0, 18.0, 14.0, 5.0, 6.0, 5.0, 4.0, 9.0, 4.0, 10.0, 7.0, 4.0, 3.0, 2.0, 2.0, 11.0, 5.0, 4.0, 6.0, 6.0, 6.0, 5.0, 5.0, 3.0, 5.0, 4.0, 3.0, 3.0, 3.0, 5.737734794616699, 3.828308582305908, 2.873612642288208, 1.918904423713684, 1.918904423713684, 1.9189064502716064, 1.9189066886901855, 1.9189034700393677, 1.9189066886901855, 1.918907880783081, 1.9189012050628662, 1.9189012050628662, 1.9189026355743408, 1.9189001321792603, 1.9189021587371826, 17.741601943969727, 0.9641878604888916, 0.9641854763031006, 0.9641839861869812, 0.9641867876052856, 0.9641848206520081, 0.9641839861869812, 0.9641867876052856, 0.9641844630241394, 0.9641854763031006, 0.9641861319541931, 0.964185357093811, 0.964185357093811, 0.9641848206520081, 0.9641860723495483, 21.91335678100586, 0.9641863703727722, 0.9641861319541931, 0.964185357093811, 0.9641857147216797, 0.9641860723495483, 1.8742507696151733, 0.9641863703727722, 0.9641860723495483, 0.9641859531402588, 0.9641863107681274, 0.9641863107681274, 2.762082576751709, 1.8621190786361694, 1.8593347072601318, 9.556539535522461, 29.47450828552246, 4.6715006828308105, 4.671485424041748, 3.8283228874206543, 5.693626880645752, 2.8736133575439453, 4.783024787902832, 4.9933881759643555, 3.773144245147705, 2.8736116886138916, 2.8736166954040527, 2.8736155033111572, 2.873612642288208, 2.8736143112182617, 4.525205612182617, 2.8736133575439453, 2.5502798557281494, 3.043888807296753, 2.2938125133514404, 2.1386613845825195, 2.193098545074463, 2.118295192718506, 4.063214302062988, 2.0366551876068115, 2.0366592407226562, 2.0366530418395996, 1.0233758687973022, 1.0233770608901978, 1.023376703262329, 1.023377776145935, 1.0233770608901978, 1.0233772993087769, 1.023377776145935, 1.023377537727356, 1.0233784914016724, 1.023376703262329, 1.0233768224716187, 1.023376703262329, 1.023375153541565, 1.0233758687973022, 1.023377537727356, 1.0233765840530396, 1.0233770608901978, 1.0233790874481201, 1.0233793258666992, 1.0233750343322754, 1.0233752727508545, 1.0233757495880127, 1.02337646484375, 1.0233770608901978, 1.023376226425171, 1.0233752727508545, 1.0233772993087769, 1.0233772993087769, 1.0233772993087769, 1.0233770608901978, 1.0233782529830933, 1.0233745574951172, 4.792779922485352, 1.023376226425171, 1.0233757495880127, 1.9182862043380737, 3.5217294692993164, 2.615354061126709, 2.6153554916381836, 2.6153564453125, 1.8335773944854736, 3.7527308464050293, 8.684012413024902, 3.7721903324127197, 2.782788038253784, 10.455598831176758, 3.642284631729126, 3.642284631729126, 3.642284870147705, 2.0366570949554443, 2.0366554260253906, 3.5851502418518066, 2.615354299545288, 4.063203811645508, 2.0366597175598145, 6.284701347351074, 2.036659002304077, 2.0366549491882324, 2.0366554260253906, 1.6268998384475708, 2.036656379699707, 2.0366554260253906, 2.9526331424713135, 2.952636957168579, 1.971686601638794, 1.971688151359558, 1.971689224243164, 0.9907312393188477, 0.9907326698303223, 0.9907324314117432, 0.9907323122024536, 0.9907324314117432, 0.9907318353652954, 0.990730881690979, 0.990730881690979, 0.9907329082489014, 0.9907323122024536, 0.990730881690979, 0.990730881690979, 0.9907324314117432, 0.9907326698303223, 0.9907326698303223, 0.9907313585281372, 0.990730345249176, 0.9907294511795044, 0.9907280206680298, 0.9907317161560059, 0.9907316565513611, 0.9907297492027283, 0.9907301068305969, 0.990730345249176, 0.9907296299934387, 0.9907295107841492, 0.9907302260398865, 0.9907317161560059, 0.9907321333885193, 0.990730345249176, 0.9907321929931641, 0.9907317161560059, 0.9907315373420715, 0.9907305836677551, 0.9907326102256775, 0.9907311797142029, 0.9907321929931641, 0.9907321929931641, 0.9907327890396118, 1.8570841550827026, 0.9907315373420715, 0.9907317161560059, 0.9907321929931641, 0.9907317161560059, 4.758734226226807, 4.787473201751709, 4.914534091949463, 1.8570847511291504, 2.952639102935791, 5.5219597816467285, 1.9716894626617432, 1.9716887474060059, 1.9145010709762573, 1.9144961833953857, 1.9144946336746216, 1.9716800451278687, 1.9716856479644775, 1.7857632637023926, 1.6869975328445435, 1.1334949731826782, 1.0263845920562744, 1.0263835191726685, 1.0263848304748535, 1.0263843536376953, 1.026384711265564, 1.0263848304748535, 1.0263848304748535, 1.0263856649398804, 1.026384711265564, 1.026383876800537, 1.026384949684143, 1.0263835191726685, 1.0263841152191162, 1.0263837575912476, 1.0263830423355103, 1.0263837575912476, 1.0263816118240356, 1.0263832807540894, 1.0263829231262207, 1.026382565498352, 1.0263828039169312, 1.026383399963379, 1.0263842344284058, 1.026383638381958, 1.0263808965682983, 1.026383638381958, 1.0263808965682983, 1.0263843536376953, 1.0263831615447998, 1.026382565498352, 1.026383638381958, 1.0263842344284058, 2.802420139312744, 1.9042013883590698, 1.9041990041732788, 1.8818012475967407, 1.8002524375915527, 1.8002463579177856, 2.858273506164551, 9.52976131439209, 2.727917432785034, 1.5424737930297852, 3.732475519180298, 1.881797432899475, 1.800250768661499, 1.8087058067321777, 2.089564085006714, 1.88051176071167, 1.643555760383606, 2.373284339904785, 1.0851163864135742, 1.0263848304748535, 1.0263848304748535, 1.0263844728469849], \"Total\": [24.0, 23.0, 18.0, 14.0, 5.0, 6.0, 5.0, 4.0, 9.0, 4.0, 10.0, 7.0, 4.0, 3.0, 2.0, 2.0, 11.0, 5.0, 4.0, 6.0, 6.0, 6.0, 5.0, 5.0, 3.0, 5.0, 4.0, 3.0, 3.0, 3.0, 5.767839431762695, 3.8584134578704834, 2.903717517852783, 1.9490092992782593, 1.9490092992782593, 1.9490113258361816, 1.9490115642547607, 1.9490083456039429, 1.9490115642547607, 1.9490127563476562, 1.9490060806274414, 1.9490060806274414, 1.949007511138916, 1.9490050077438354, 1.9490070343017578, 18.195697784423828, 0.9942927360534668, 0.9942903518676758, 0.9942888617515564, 0.9942916631698608, 0.9942896962165833, 0.9942888617515564, 0.9942916631698608, 0.9942893385887146, 0.9942903518676758, 0.9942910075187683, 0.9942902326583862, 0.9942902326583862, 0.9942896962165833, 0.9942909479141235, 23.007165908813477, 0.9942912459373474, 0.9942910075187683, 0.9942902326583862, 0.9942905902862549, 0.9942909479141235, 1.951879858970642, 0.9942912459373474, 0.9942909479141235, 0.994290828704834, 0.9942911863327026, 0.9942911863327026, 2.910548448562622, 1.9526528120040894, 1.9528368711471558, 10.56756591796875, 43.65445327758789, 5.836184024810791, 5.836170196533203, 4.871670246124268, 7.803133010864258, 3.9199399948120117, 8.801527976989746, 9.877418518066406, 6.840073585510254, 4.865596294403076, 4.900864124298096, 4.930242538452148, 4.930239677429199, 4.930245399475098, 14.906377792358398, 5.946462154388428, 7.931355953216553, 24.162744522094727, 5.951472282409668, 3.9673094749450684, 5.985260963439941, 4.984513282775879, 4.092733383178711, 2.066174268722534, 2.066178321838379, 2.0661721229553223, 1.0528950691223145, 1.05289626121521, 1.0528959035873413, 1.0528969764709473, 1.05289626121521, 1.052896499633789, 1.0528969764709473, 1.0528967380523682, 1.0528976917266846, 1.0528959035873413, 1.0528960227966309, 1.0528959035873413, 1.0528943538665771, 1.0528950691223145, 1.0528967380523682, 1.0528957843780518, 1.05289626121521, 1.0528982877731323, 1.0528985261917114, 1.0528942346572876, 1.0528944730758667, 1.052894949913025, 1.0528956651687622, 1.05289626121521, 1.052895426750183, 1.0528944730758667, 1.052896499633789, 1.052896499633789, 1.052896499633789, 1.05289626121521, 1.0528974533081055, 1.0528937578201294, 5.093051433563232, 1.052895426750183, 1.052894949913025, 2.0593230724334717, 4.064465522766113, 3.054302930831909, 3.054304838180542, 3.0543086528778076, 2.0544121265411377, 5.094663143157959, 14.906377792358398, 5.985260963439941, 4.018669128417969, 24.162744522094727, 6.028722763061523, 6.02872371673584, 6.028724193572998, 3.0823938846588135, 3.082394599914551, 7.931355953216553, 5.01618766784668, 11.92302131652832, 3.9755303859710693, 43.65445327758789, 4.930245399475098, 4.930239677429199, 4.930242538452148, 2.997131586074829, 5.946462154388428, 8.801527976989746, 2.982475757598877, 2.9824795722961426, 2.0015289783477783, 2.001530647277832, 2.0015316009521484, 1.020573616027832, 1.0205750465393066, 1.0205748081207275, 1.020574688911438, 1.0205748081207275, 1.0205742120742798, 1.0205732583999634, 1.0205732583999634, 1.0205752849578857, 1.020574688911438, 1.0205732583999634, 1.0205732583999634, 1.0205748081207275, 1.0205750465393066, 1.0205750465393066, 1.0205737352371216, 1.0205727815628052, 1.0205718278884888, 1.0205703973770142, 1.0205740928649902, 1.0205740928649902, 1.0205721855163574, 1.020572543144226, 1.0205727815628052, 1.0205720663070679, 1.0205719470977783, 1.0205726623535156, 1.0205740928649902, 1.0205745697021484, 1.0205727815628052, 1.0205745697021484, 1.0205740928649902, 1.0205739736557007, 1.0205730199813843, 1.0205750465393066, 1.020573616027832, 1.0205745697021484, 1.0205745697021484, 1.0205751657485962, 2.005284309387207, 1.0205739736557007, 1.0205740928649902, 1.0205745697021484, 1.0205740928649902, 5.9016828536987305, 6.970441818237305, 11.92302131652832, 3.018547534942627, 6.921301364898682, 43.65445327758789, 4.865596294403076, 5.01618766784668, 6.02872371673584, 6.028722763061523, 6.028724193572998, 6.840073585510254, 8.801527976989746, 7.931355953216553, 14.906377792358398, 24.162744522094727, 1.0558741092681885, 1.0558730363845825, 1.0558743476867676, 1.0558738708496094, 1.055874228477478, 1.0558743476867676, 1.0558743476867676, 1.0558751821517944, 1.055874228477478, 1.0558733940124512, 1.0558744668960571, 1.0558730363845825, 1.0558736324310303, 1.0558732748031616, 1.0558725595474243, 1.0558732748031616, 1.0558711290359497, 1.0558727979660034, 1.0558724403381348, 1.0558720827102661, 1.0558723211288452, 1.055872917175293, 1.0558737516403198, 1.055873155593872, 1.0558704137802124, 1.055873155593872, 1.0558704137802124, 1.0558738708496094, 1.0558726787567139, 1.0558720827102661, 1.055873155593872, 1.0558737516403198, 3.0796618461608887, 2.0637245178222656, 2.0637259483337402, 2.0623619556427, 2.0574142932891846, 2.057417154312134, 4.030877590179443, 24.162744522094727, 4.984513282775879, 2.0417850017547607, 9.877418518066406, 3.0432844161987305, 3.038334608078003, 3.9673094749450684, 7.803133010864258, 6.970441818237305, 5.951472282409668, 43.65445327758789, 6.840073585510254, 5.094663143157959, 2.010509490966797, 2.9652323722839355], \"Category\": [\"Default\", \"Default\", \"Default\", \"Default\", \"Default\", \"Default\", \"Default\", \"Default\", \"Default\", \"Default\", \"Default\", \"Default\", \"Default\", \"Default\", \"Default\", \"Default\", \"Default\", \"Default\", \"Default\", \"Default\", \"Default\", \"Default\", \"Default\", \"Default\", \"Default\", \"Default\", \"Default\", \"Default\", \"Default\", \"Default\", \"Topic1\", \"Topic1\", \"Topic1\", \"Topic1\", \"Topic1\", \"Topic1\", \"Topic1\", \"Topic1\", \"Topic1\", \"Topic1\", \"Topic1\", \"Topic1\", \"Topic1\", \"Topic1\", \"Topic1\", \"Topic1\", \"Topic1\", \"Topic1\", \"Topic1\", \"Topic1\", \"Topic1\", \"Topic1\", \"Topic1\", \"Topic1\", \"Topic1\", \"Topic1\", \"Topic1\", \"Topic1\", \"Topic1\", \"Topic1\", \"Topic1\", \"Topic1\", \"Topic1\", \"Topic1\", \"Topic1\", \"Topic1\", \"Topic1\", \"Topic1\", \"Topic1\", \"Topic1\", \"Topic1\", \"Topic1\", \"Topic1\", \"Topic1\", \"Topic1\", \"Topic1\", \"Topic1\", \"Topic1\", \"Topic1\", \"Topic1\", \"Topic1\", \"Topic1\", \"Topic1\", \"Topic1\", \"Topic1\", \"Topic1\", \"Topic1\", \"Topic1\", \"Topic1\", \"Topic1\", \"Topic1\", \"Topic1\", \"Topic1\", \"Topic1\", \"Topic1\", \"Topic1\", \"Topic1\", \"Topic1\", \"Topic2\", \"Topic2\", \"Topic2\", \"Topic2\", \"Topic2\", \"Topic2\", \"Topic2\", \"Topic2\", \"Topic2\", \"Topic2\", \"Topic2\", \"Topic2\", \"Topic2\", \"Topic2\", \"Topic2\", \"Topic2\", \"Topic2\", \"Topic2\", \"Topic2\", \"Topic2\", \"Topic2\", \"Topic2\", \"Topic2\", \"Topic2\", \"Topic2\", \"Topic2\", \"Topic2\", \"Topic2\", \"Topic2\", \"Topic2\", \"Topic2\", \"Topic2\", \"Topic2\", \"Topic2\", \"Topic2\", \"Topic2\", \"Topic2\", \"Topic2\", \"Topic2\", \"Topic2\", \"Topic2\", \"Topic2\", \"Topic2\", \"Topic2\", \"Topic2\", \"Topic2\", \"Topic2\", \"Topic2\", \"Topic2\", \"Topic2\", \"Topic2\", \"Topic2\", \"Topic2\", \"Topic2\", \"Topic2\", \"Topic2\", \"Topic2\", \"Topic2\", \"Topic2\", \"Topic2\", \"Topic2\", \"Topic2\", \"Topic2\", \"Topic2\", \"Topic2\", \"Topic2\", \"Topic3\", \"Topic3\", \"Topic3\", \"Topic3\", \"Topic3\", \"Topic3\", \"Topic3\", \"Topic3\", \"Topic3\", \"Topic3\", \"Topic3\", \"Topic3\", \"Topic3\", \"Topic3\", \"Topic3\", \"Topic3\", \"Topic3\", \"Topic3\", \"Topic3\", \"Topic3\", \"Topic3\", \"Topic3\", \"Topic3\", \"Topic3\", \"Topic3\", \"Topic3\", \"Topic3\", \"Topic3\", \"Topic3\", \"Topic3\", \"Topic3\", \"Topic3\", \"Topic3\", \"Topic3\", \"Topic3\", \"Topic3\", \"Topic3\", \"Topic3\", \"Topic3\", \"Topic3\", \"Topic3\", \"Topic3\", \"Topic3\", \"Topic3\", \"Topic3\", \"Topic3\", \"Topic3\", \"Topic3\", \"Topic3\", \"Topic3\", \"Topic3\", \"Topic3\", \"Topic3\", \"Topic3\", \"Topic3\", \"Topic3\", \"Topic3\", \"Topic3\", \"Topic3\", \"Topic3\", \"Topic3\", \"Topic3\", \"Topic3\", \"Topic3\", \"Topic3\", \"Topic4\", \"Topic4\", \"Topic4\", \"Topic4\", \"Topic4\", \"Topic4\", \"Topic4\", \"Topic4\", \"Topic4\", \"Topic4\", \"Topic4\", \"Topic4\", \"Topic4\", \"Topic4\", \"Topic4\", \"Topic4\", \"Topic4\", \"Topic4\", \"Topic4\", \"Topic4\", \"Topic4\", \"Topic4\", \"Topic4\", \"Topic4\", \"Topic4\", \"Topic4\", \"Topic4\", \"Topic4\", \"Topic4\", \"Topic4\", \"Topic4\", \"Topic4\", \"Topic4\", \"Topic4\", \"Topic4\", \"Topic4\", \"Topic4\", \"Topic4\", \"Topic4\", \"Topic4\", \"Topic4\", \"Topic4\", \"Topic4\", \"Topic4\", \"Topic4\", \"Topic4\", \"Topic4\", \"Topic4\", \"Topic4\", \"Topic4\", \"Topic4\", \"Topic4\", \"Topic4\", \"Topic4\"], \"logprob\": [30.0, 29.0, 28.0, 27.0, 26.0, 25.0, 24.0, 23.0, 22.0, 21.0, 20.0, 19.0, 18.0, 17.0, 16.0, 15.0, 14.0, 13.0, 12.0, 11.0, 10.0, 9.0, 8.0, 7.0, 6.0, 5.0, 4.0, 3.0, 2.0, 1.0, -4.071700096130371, -4.47629976272583, -4.763199806213379, -5.166999816894531, -5.166999816894531, -5.166999816894531, -5.166999816894531, -5.166999816894531, -5.166999816894531, -5.166999816894531, -5.166999816894531, -5.166999816894531, -5.166999816894531, -5.166999816894531, -5.166999816894531, -2.9428000450134277, -5.855199813842773, -5.855199813842773, -5.855199813842773, -5.855199813842773, -5.855199813842773, -5.855199813842773, -5.855199813842773, -5.855199813842773, -5.855199813842773, -5.855199813842773, -5.855199813842773, -5.855199813842773, -5.855199813842773, -5.855199813842773, -2.731600046157837, -5.855199813842773, -5.855199813842773, -5.855199813842773, -5.855199813842773, -5.855199813842773, -5.190499782562256, -5.855199813842773, -5.855199813842773, -5.855199813842773, -5.855199813842773, -5.855199813842773, -4.802700042724609, -5.197000026702881, -5.198500156402588, -3.561500072479248, -2.4351999759674072, -4.277200222015381, -4.277200222015381, -4.47629976272583, -4.079400062561035, -4.763199806213379, -4.253699779510498, -4.210599899291992, -4.490799903869629, -4.763199806213379, -4.763199806213379, -4.763199806213379, -4.763199806213379, -4.763199806213379, -4.309100151062012, -4.763199806213379, -4.882500171661377, -4.705599784851074, -4.988500118255615, -5.058499813079834, -5.033400058746338, -5.0680999755859375, -3.729599952697754, -4.420300006866455, -4.420300006866455, -4.420300006866455, -5.108500003814697, -5.108500003814697, -5.108500003814697, -5.108500003814697, -5.108500003814697, -5.108500003814697, -5.108500003814697, -5.108500003814697, -5.108500003814697, -5.108500003814697, -5.108500003814697, -5.108500003814697, -5.108500003814697, -5.108500003814697, -5.108500003814697, -5.108500003814697, -5.108500003814697, -5.108500003814697, -5.108500003814697, -5.108500003814697, -5.108500003814697, -5.108500003814697, -5.108500003814697, -5.108500003814697, -5.108500003814697, -5.108500003814697, -5.108500003814697, -5.108500003814697, -5.108500003814697, -5.108500003814697, -5.108500003814697, -5.108500003814697, -3.564500093460083, -5.108500003814697, -5.108500003814697, -4.480100154876709, -3.8726000785827637, -4.170199871063232, -4.170199871063232, -4.170199871063232, -4.525300025939941, -3.8090999126434326, -2.970099925994873, -3.8039000034332275, -4.108099937438965, -2.78439998626709, -3.8389999866485596, -3.8389999866485596, -3.8389999866485596, -4.420300006866455, -4.420300006866455, -3.85479998588562, -4.170199871063232, -3.729599952697754, -4.420300006866455, -3.2934999465942383, -4.420300006866455, -4.420300006866455, -4.420300006866455, -4.644899845123291, -4.420300006866455, -4.420300006866455, -3.8893001079559326, -3.8893001079559326, -4.293099880218506, -4.293099880218506, -4.293099880218506, -4.981299877166748, -4.981299877166748, -4.981299877166748, -4.981299877166748, -4.981299877166748, -4.981299877166748, -4.981299877166748, -4.981299877166748, -4.981299877166748, -4.981299877166748, -4.981299877166748, -4.981299877166748, -4.981299877166748, -4.981299877166748, -4.981299877166748, -4.981299877166748, -4.981299877166748, -4.981299877166748, -4.981299877166748, -4.981299877166748, -4.981299877166748, -4.981299877166748, -4.981299877166748, -4.981299877166748, -4.981299877166748, -4.981299877166748, -4.981299877166748, -4.981299877166748, -4.981299877166748, -4.981299877166748, -4.981299877166748, -4.981299877166748, -4.981299877166748, -4.981299877166748, -4.981299877166748, -4.981299877166748, -4.981299877166748, -4.981299877166748, -4.981299877166748, -4.35290002822876, -4.981299877166748, -4.981299877166748, -4.981299877166748, -4.981299877166748, -3.4119999408721924, -3.4059998989105225, -3.3798000812530518, -4.35290002822876, -3.8893001079559326, -3.263200044631958, -4.293099880218506, -4.293099880218506, -4.322500228881836, -4.322500228881836, -4.322500228881836, -4.293099880218506, -4.293099880218506, -4.392099857330322, -4.448999881744385, -4.846700191497803, -4.768599987030029, -4.768599987030029, -4.768599987030029, -4.768599987030029, -4.768599987030029, -4.768599987030029, -4.768599987030029, -4.768599987030029, -4.768599987030029, -4.768599987030029, -4.768599987030029, -4.768599987030029, -4.768599987030029, -4.768599987030029, -4.768599987030029, -4.768599987030029, -4.768599987030029, -4.768599987030029, -4.768599987030029, -4.768599987030029, -4.768599987030029, -4.768599987030029, -4.768599987030029, -4.768599987030029, -4.768599987030029, -4.768599987030029, -4.768599987030029, -4.768599987030029, -4.768599987030029, -4.768599987030029, -4.768599987030029, -4.768599987030029, -3.76419997215271, -4.150599956512451, -4.150599956512451, -4.162399768829346, -4.206699848175049, -4.206699848175049, -3.7444000244140625, -2.5401999950408936, -3.791100025177002, -4.361299991607666, -3.47760009765625, -4.162399768829346, -4.206699848175049, -4.202099800109863, -4.057700157165527, -4.163099765777588, -4.297800064086914, -3.9303998947143555, -4.7129998207092285, -4.768599987030029, -4.768599987030029, -4.768599987030029], \"loglift\": [30.0, 29.0, 28.0, 27.0, 26.0, 25.0, 24.0, 23.0, 22.0, 21.0, 20.0, 19.0, 18.0, 17.0, 16.0, 15.0, 14.0, 13.0, 12.0, 11.0, 10.0, 9.0, 8.0, 7.0, 6.0, 5.0, 4.0, 3.0, 2.0, 1.0, 0.8237000107765198, 0.8210999965667725, 0.8184999823570251, 0.8133999705314636, 0.8133999705314636, 0.8133999705314636, 0.8133999705314636, 0.8133999705314636, 0.8133999705314636, 0.8133999705314636, 0.8133999705314636, 0.8133999705314636, 0.8133999705314636, 0.8133999705314636, 0.8133999705314636, 0.8036999702453613, 0.7982000112533569, 0.7982000112533569, 0.7982000112533569, 0.7982000112533569, 0.7982000112533569, 0.7982000112533569, 0.7982000112533569, 0.7982000112533569, 0.7982000112533569, 0.7982000112533569, 0.7982000112533569, 0.7982000112533569, 0.7982000112533569, 0.7982000112533569, 0.7803000211715698, 0.7982000112533569, 0.7982000112533569, 0.7982000112533569, 0.7982000112533569, 0.7982000112533569, 0.7883999943733215, 0.7982000112533569, 0.7982000112533569, 0.7982000112533569, 0.7982000112533569, 0.7982000112533569, 0.7766000032424927, 0.781499981880188, 0.7799000144004822, 0.7283999919891357, 0.43619999289512634, 0.6064000129699707, 0.6064000129699707, 0.5879999995231628, 0.5138000249862671, 0.5184999704360962, 0.2190999984741211, 0.1467999964952469, 0.23409999907016754, 0.30230000615119934, 0.29510000348091125, 0.2890999913215637, 0.2890999913215637, 0.2890999913215637, -0.36320000886917114, 0.10170000046491623, -0.30570000410079956, -1.2426999807357788, -0.12449999898672104, 0.2110999971628189, -0.17499999701976776, -0.026799999177455902, 1.5089000463485718, 1.5017000436782837, 1.5017000436782837, 1.5017000436782837, 1.4876999855041504, 1.4876999855041504, 1.4876999855041504, 1.4876999855041504, 1.4876999855041504, 1.4876999855041504, 1.4876999855041504, 1.4876999855041504, 1.4876999855041504, 1.4876999855041504, 1.4876999855041504, 1.4876999855041504, 1.4876999855041504, 1.4876999855041504, 1.4876999855041504, 1.4876999855041504, 1.4876999855041504, 1.4876999855041504, 1.4876999855041504, 1.4876999855041504, 1.4876999855041504, 1.4876999855041504, 1.4876999855041504, 1.4876999855041504, 1.4876999855041504, 1.4876999855041504, 1.4876999855041504, 1.4876999855041504, 1.4876999855041504, 1.4876999855041504, 1.4876999855041504, 1.4876999855041504, 1.455299973487854, 1.4876999855041504, 1.4876999855041504, 1.445199966430664, 1.3727999925613403, 1.3609999418258667, 1.3609999418258667, 1.3609999418258667, 1.402400016784668, 1.2103999853134155, 0.9757999777793884, 1.0544999837875366, 1.1485999822616577, 0.6783999800682068, 1.0121999979019165, 1.0121999979019165, 1.0121999979019165, 1.101699948310852, 1.101699948310852, 0.722100019454956, 0.864799976348877, 0.43959999084472656, 0.8472999930381775, -0.4221000075340271, 0.6320000290870667, 0.6320000290870667, 0.6320000290870667, 0.9050999879837036, 0.444599986076355, 0.05249999836087227, 1.6656999588012695, 1.6656999588012695, 1.6606999635696411, 1.6606999635696411, 1.6606999635696411, 1.6461000442504883, 1.6461000442504883, 1.6461000442504883, 1.6461000442504883, 1.6461000442504883, 1.6461000442504883, 1.6461000442504883, 1.6461000442504883, 1.6461000442504883, 1.6461000442504883, 1.6461000442504883, 1.6461000442504883, 1.6461000442504883, 1.6461000442504883, 1.6461000442504883, 1.6461000442504883, 1.6461000442504883, 1.6461000442504883, 1.6461000442504883, 1.6461000442504883, 1.6461000442504883, 1.6461000442504883, 1.6461000442504883, 1.6461000442504883, 1.6461000442504883, 1.6461000442504883, 1.6461000442504883, 1.6461000442504883, 1.6461000442504883, 1.6461000442504883, 1.6461000442504883, 1.6461000442504883, 1.6461000442504883, 1.6461000442504883, 1.6461000442504883, 1.6461000442504883, 1.6461000442504883, 1.6461000442504883, 1.6461000442504883, 1.5989999771118164, 1.6461000442504883, 1.6461000442504883, 1.6461000442504883, 1.6461000442504883, 1.4605000019073486, 1.3000999689102173, 0.7894999980926514, 1.190000057220459, 0.8238000273704529, -0.3917999863624573, 0.7724000215530396, 0.7419999837875366, 0.5286999940872192, 0.5286999940872192, 0.5286999940872192, 0.4318000078201294, 0.17970000207424164, 0.18479999899864197, -0.5030999779701233, -1.3838000297546387, 1.8246999979019165, 1.8246999979019165, 1.8246999979019165, 1.8246999979019165, 1.8246999979019165, 1.8246999979019165, 1.8246999979019165, 1.8246999979019165, 1.8246999979019165, 1.8246999979019165, 1.8246999979019165, 1.8246999979019165, 1.8246999979019165, 1.8246999979019165, 1.8246999979019165, 1.8246999979019165, 1.8246999979019165, 1.8246999979019165, 1.8246999979019165, 1.8246999979019165, 1.8246999979019165, 1.8246999979019165, 1.8246999979019165, 1.8246999979019165, 1.8246999979019165, 1.8246999979019165, 1.8246999979019165, 1.8246999979019165, 1.8246999979019165, 1.8246999979019165, 1.8246999979019165, 1.8246999979019165, 1.7587000131607056, 1.7726000547409058, 1.7726000547409058, 1.7613999843597412, 1.719499945640564, 1.719499945640564, 1.5092999935150146, 0.9225999712944031, 1.2502000331878662, 1.57260000705719, 0.879800021648407, 1.3723000288009644, 1.3295999765396118, 1.0674999952316284, 0.5354999899864197, 0.542900025844574, 0.5662000179290771, -1.059000015258789, 0.011900000274181366, 0.250900000333786, 1.1806999444961548, 0.7921000123023987]}, \"token.table\": {\"Topic\": [1, 2, 3, 1, 2, 3, 4, 1, 4, 1, 4, 1, 4, 1, 2, 3, 1, 1, 2, 3, 2, 4, 3, 4, 3, 3, 1, 3, 3, 1, 2, 3, 1, 4, 1, 2, 4, 2, 1, 3, 4, 4, 3, 3, 3, 4, 2, 3, 1, 3, 4, 3, 3, 4, 2, 2, 1, 3, 1, 1, 4, 3, 4, 2, 2, 2, 1, 3, 3, 3, 2, 1, 2, 3, 1, 2, 1, 4, 4, 3, 1, 2, 2, 4, 2, 4, 2, 4, 2, 4, 1, 1, 4, 4, 3, 1, 1, 4, 4, 2, 3, 2, 4, 3, 1, 2, 3, 3, 4, 1, 4, 1, 3, 1, 1, 3, 4, 3, 2, 1, 4, 1, 1, 2, 3, 4, 1, 3, 3, 3, 2, 4, 1, 2, 4, 1, 4, 3, 4, 3, 4, 3, 2, 4, 2, 1, 1, 2, 1, 2, 2, 2, 3, 2, 2, 2, 1, 2, 3, 4, 1, 1, 4, 2, 1, 2, 3, 4, 3, 3, 2, 3, 2, 2, 1, 2, 3, 1, 3, 4, 2, 2, 4, 2, 3, 3, 3, 2, 1, 2, 2, 4, 1, 2, 3, 4, 1, 4, 1, 1, 4, 2, 3, 2, 3, 3, 1, 4, 3, 4, 4, 1, 4, 2, 2, 3, 4, 1, 2, 1, 2, 4, 1, 3, 3, 2, 1, 4, 2, 2, 1, 3, 1, 2, 3, 4, 4, 1, 1, 4, 2, 1, 1, 3, 4, 1, 1, 2, 2, 1, 2, 4, 1, 3, 3, 2, 2, 1, 1, 4, 1, 1, 2, 4, 3, 4, 4, 3, 1, 1, 2, 1, 3, 1, 2, 3, 4, 1, 2, 3, 3, 1], \"Freq\": [0.3354268968105316, 0.6037684082984924, 0.1341707557439804, 0.6643079519271851, 0.13744302093982697, 0.13744302093982697, 0.04581433907151222, 1.0402508974075317, 0.9470828175544739, 1.0261611938476562, 0.9470824003219604, 0.5041199922561646, 0.5041199922561646, 0.6084889769554138, 0.4056593179702759, 0.9798399806022644, 1.0057425498962402, 1.0057439804077148, 0.9841392636299133, 0.9973648190498352, 0.9822202324867249, 0.947083592414856, 0.9798406958580017, 0.9470838904380798, 0.9798406958580017, 0.9798414707183838, 0.6165739893913269, 0.4110493063926697, 0.9798406958580017, 1.005743145942688, 0.9497609734535217, 0.9798417091369629, 1.005741834640503, 0.969761848449707, 0.506205141544342, 0.10124102979898453, 0.4049641191959381, 0.9497628211975098, 0.989244818687439, 0.9798420667648315, 0.9470829367637634, 0.9470825791358948, 0.9798442125320435, 0.9798397421836853, 0.7173146605491638, 0.2869258522987366, 0.6634904742240906, 0.3317452371120453, 0.5847890377044678, 0.2923945188522339, 0.14619725942611694, 0.9798428416252136, 0.9798402190208435, 0.9470828175544739, 0.9679706692695618, 0.9497615098953247, 1.0057415962219238, 0.9798411130905151, 1.0057435035705566, 0.856724202632904, 0.1713448315858841, 0.979840099811554, 0.9470834732055664, 0.9497622847557068, 0.9497617483139038, 0.9711928963661194, 1.0261613130569458, 0.979840099811554, 0.9798397421836853, 0.9798399806022644, 0.9497607350349426, 1.0366954803466797, 0.33128514885902405, 0.6625702977180481, 0.9562238454818726, 0.043464720249176025, 0.2480849325656891, 0.7442548274993896, 0.9470840096473694, 0.9798407554626465, 0.2488386034965515, 0.7465158104896545, 0.6488463282585144, 0.3244231641292572, 0.6488462090492249, 0.3244231045246124, 0.9497628808021545, 0.947083592414856, 0.9497634172439575, 0.9470836520195007, 1.0057417154312134, 1.0261646509170532, 0.9795350432395935, 0.9470841884613037, 0.9798395037651062, 1.0261623859405518, 0.6744834184646606, 0.3372417092323303, 0.947083055973053, 0.9497628211975098, 0.9798402190208435, 0.7851353287696838, 0.19628383219242096, 0.9992352724075317, 0.3336523473262787, 0.6673046946525574, 0.979841947555542, 0.3291276693344116, 0.6582553386688232, 0.8567262291908264, 0.17134524881839752, 1.005741834640503, 0.9798399806022644, 1.033158302307129, 1.0261633396148682, 0.9798406958580017, 0.9470837712287903, 0.9798411130905151, 0.9497612118721008, 1.030733585357666, 0.9470816254615784, 1.0261640548706055, 1.0057417154312134, 0.9497593641281128, 0.32859236001968384, 0.6571847200393677, 0.16944319009780884, 0.8472159504890442, 0.9798396229743958, 0.9992361068725586, 0.9679735898971558, 0.94708251953125, 0.6084893345832825, 0.405659556388855, 0.9720926284790039, 0.7653178572654724, 0.2551059424877167, 0.9798414707183838, 0.9470852613449097, 0.9798397421836853, 0.9470844268798828, 0.9798407554626465, 0.9773419499397278, 0.9470844268798828, 0.9497619271278381, 1.0057414770126343, 0.503077507019043, 0.503077507019043, 0.3341541886329651, 0.6683083772659302, 0.9822208285331726, 0.5980637669563293, 0.39870917797088623, 0.9497623443603516, 0.9679725766181946, 0.9497612118721008, 0.12415808439254761, 0.4138602614402771, 0.04138602688908577, 0.4138602614402771, 1.0057415962219238, 1.0057400465011597, 0.9691209197044373, 0.9497612118721008, 0.3360513150691986, 0.1680256575345993, 0.1680256575345993, 0.3360513150691986, 0.979841947555542, 0.9798409938812256, 0.6634902954101562, 0.3317451477050781, 0.9497619271278381, 0.9497622847557068, 0.3782455325126648, 0.5043273568153381, 0.25216367840766907, 1.0057425498962402, 0.979841947555542, 0.9470834732055664, 0.9497591257095337, 0.9817297458648682, 0.9470833539962769, 0.663490355014801, 0.3317451775074005, 0.9798427224159241, 0.9798402190208435, 0.9497612118721008, 1.024151086807251, 0.9497613906860352, 0.9497600793838501, 0.972093939781189, 1.0261635780334473, 0.9497609734535217, 0.9992347955703735, 0.9470859169960022, 1.0057411193847656, 0.9470833539962769, 1.0057421922683716, 1.0057425498962402, 0.9470824003219604, 0.9497623443603516, 0.9798405766487122, 0.9497612118721008, 1.0058757066726685, 0.9798426032066345, 1.0261623859405518, 0.9470834732055664, 1.0058743953704834, 0.94708251953125, 0.9470841288566589, 0.40124279260635376, 0.6018641591072083, 0.9497609734535217, 0.9497605562210083, 0.9798397421836853, 0.9741328954696655, 0.8210736513137817, 0.20526841282844543, 1.0057439804077148, 0.9497609734535217, 0.9470829367637634, 1.0246531963348389, 0.9798406958580017, 0.9798402190208435, 0.9735144972801208, 0.7689219117164612, 0.25630730390548706, 0.9497615098953247, 0.9497615098953247, 1.005741834640503, 0.9798402190208435, 0.2889629900455475, 0.14448149502277374, 0.4334444999694824, 0.14448149502277374, 0.9470824003219604, 1.0261640548706055, 1.0261611938476562, 0.9470832347869873, 0.9497630000114441, 1.024247646331787, 0.612136960029602, 0.20404565334320068, 0.20404565334320068, 1.0057424306869507, 1.02616286277771, 0.9497599005699158, 0.9497607350349426, 0.5045016407966614, 0.3363344371318817, 0.16816721856594086, 1.0261605978012085, 0.979842483997345, 0.9798406958580017, 0.9497605562210083, 0.9497616291046143, 1.005743145942688, 0.4973863661289215, 0.4973863661289215, 1.0057411193847656, 0.6084896922111511, 0.4056597948074341, 0.9470822811126709, 0.9798421263694763, 0.9691215753555298, 0.9470859169960022, 0.9798414707183838, 1.0057424306869507, 1.0057419538497925, 0.9822189807891846, 0.9462916851043701, 0.09462916851043701, 0.16774271428585052, 0.33548542857170105, 0.4193567931652069, 0.08387135714292526, 0.5680831670761108, 0.22723327577114105, 0.22723327577114105, 0.9798414707183838, 1.0057414770126343], \"Term\": [\",\", \",\", \",\", \"-\", \"-\", \"-\", \"-\", \".\", \"11\", \"1st\", \"48\", \":\", \":\", \"A\", \"A\", \"Above\", \"Accident\", \"Accidents\", \"Accommodation\", \"Accommodations\", \"Adapted\", \"Address\", \"Admin\", \"After\", \"Against\", \"Age\", \"Aggravated\", \"Aggravated\", \"Agreement\", \"Alter\", \"Altered\", \"App/Prosec-Harbor\", \"Arrest/Other\", \"Arson-Danger\", \"Assault\", \"Assault\", \"Assault\", \"Asslt-W/O\", \"Attempt\", \"Attempting\", \"Authorization\", \"Bad\", \"Be\", \"Bod\", \"Bodily\", \"Bodily\", \"Burglary\", \"Burglary\", \"By\", \"By\", \"By\", \"Carried\", \"Carry\", \"Checks\", \"Child\", \"Chop\", \"Comm\", \"Commit\", \"Commits\", \"Compulsion\", \"Compulsion\", \"Conceal\", \"Conduct\", \"Conducting\", \"Cons\", \"Conspiracy\", \"Contact\", \"Contact/Comm.W/Minor-Sexual\", \"Contempt\", \"Contr\", \"Contraband/Controlled\", \"Crim\", \"Crime\", \"Crime\", \"Criminal\", \"Criminal\", \"Death\", \"Death\", \"Def\", \"Defendant\", \"Degree\", \"Degree\", \"Deliver\", \"Deliver\", \"Delivery\", \"Delivery\", \"Device\", \"Disarming\", \"Discharge\", \"Disorder\", \"Dissemination\", \"Driving\", \"Drug\", \"Elapsed\", \"Elude\", \"Endangering\", \"Enforcement\", \"Enforcement\", \"Ethnic\", \"Evidence\", \"Exposure\", \"Firearm\", \"Firearm\", \"Firearms\", \"First\", \"First\", \"Fleeing\", \"For\", \"For\", \"Forcible\", \"Forcible\", \"Forgery\", \"Fr\", \"From\", \"Gen\", \"Govt\", \"Hazardous/Physi\", \"Hinder\", \"House\", \"IDSI\", \"Identification\", \"Imp/Inc\", \"Ind\", \"Indec\", \"Inj\", \"Inj\", \"Injury\", \"Injury\", \"Ins\", \"Int\", \"Intent\", \"Intimidation\", \"Into\", \"Into\", \"Kidnapping\", \"Law\", \"Law\", \"Law/Other\", \"Lawful\", \"License\", \"Liquor\", \"Manslaughter\", \"Manufacture\", \"Marijuana\", \"Mdse\", \"Missile\", \"Motor\", \"Motor\", \"Murder\", \"Murder\", \"No\", \"Not\", \"Not\", \"Number\", \"Obt\", \"Occupied\", \"Of\", \"Of\", \"Of\", \"Of\", \"Offender\", \"Offense\", \"Older\", \"Operating\", \"Or\", \"Or\", \"Or\", \"Or\", \"Order\", \"Other/Force\", \"Overnight\", \"Overnight\", \"Owning\", \"Patronizing\", \"Person\", \"Person\", \"Person\", \"Personal\", \"Phila\", \"Photographed\", \"Posses\", \"Possession\", \"Posted\", \"Present\", \"Present\", \"Pressure\", \"Prisoner\", \"Prom\", \"Prop\", \"Prop/Service\", \"Prost/Business\", \"Ransom\", \"Rape\", \"Receiving\", \"Reg\", \"Remove\", \"Report\", \"Required\", \"Requirements\", \"Resist\", \"Resulting\", \"Retail\", \"Retaliation\", \"Robbery\", \"Robbery-Inflict\", \"Robbery-Take\", \"Safely\", \"Safety\", \"Serious\", \"Service\", \"Services-Acquis\", \"Sexual\", \"Sexual\", \"Shop\", \"Simple\", \"Stalking\", \"Statutory\", \"Structure\", \"Structure\", \"Subject\", \"Substance\", \"Substby\", \"Taking-Movable\", \"Terroristic\", \"Terrorize\", \"The\", \"Theft\", \"Theft\", \"Theft-Take\", \"Third\", \"Threatening\", \"Title\", \"To\", \"To\", \"To\", \"To\", \"Tres\", \"Tres-Break\", \"Tres-Enter\", \"Trespass\", \"Unborn\", \"Unlaw\", \"Unlawful\", \"Unlawful\", \"Unlawful\", \"Unsworn\", \"Use\", \"Used\", \"Vandalism/Illegal\", \"Vehicle\", \"Vehicle\", \"Vehicle\", \"Vehicles\", \"Victim\", \"Violation\", \"W/Int\", \"W/Manufacturer\", \"Welfare\", \"While\", \"While\", \"Wit/Vit\", \"With\", \"With\", \"Without\", \"Witness\", \"Years\", \"as\", \"assault\", \"causes\", \"consent\", \"for\", \"of\", \"of\", \"or\", \"or\", \"or\", \"or\", \"to\", \"to\", \"to\", \"vehicle\", \"with\"]}, \"R\": 30, \"lambda.step\": 0.01, \"plot.opts\": {\"xlab\": \"PC1\", \"ylab\": \"PC2\"}, \"topic.order\": [2, 3, 4, 1]};\n",
       "\n",
       "function LDAvis_load_lib(url, callback){\n",
       "  var s = document.createElement('script');\n",
       "  s.src = url;\n",
       "  s.async = true;\n",
       "  s.onreadystatechange = s.onload = callback;\n",
       "  s.onerror = function(){console.warn(\"failed to load library \" + url);};\n",
       "  document.getElementsByTagName(\"head\")[0].appendChild(s);\n",
       "}\n",
       "\n",
       "if(typeof(LDAvis) !== \"undefined\"){\n",
       "   // already loaded: just create the visualization\n",
       "   !function(LDAvis){\n",
       "       new LDAvis(\"#\" + \"ldavis_el12451402513272910886425303721\", ldavis_el12451402513272910886425303721_data);\n",
       "   }(LDAvis);\n",
       "}else if(typeof define === \"function\" && define.amd){\n",
       "   // require.js is available: use it to load d3/LDAvis\n",
       "   require.config({paths: {d3: \"https://cdnjs.cloudflare.com/ajax/libs/d3/3.5.5/d3.min\"}});\n",
       "   require([\"d3\"], function(d3){\n",
       "      window.d3 = d3;\n",
       "      LDAvis_load_lib(\"https://cdn.rawgit.com/bmabey/pyLDAvis/files/ldavis.v1.0.0.js\", function(){\n",
       "        new LDAvis(\"#\" + \"ldavis_el12451402513272910886425303721\", ldavis_el12451402513272910886425303721_data);\n",
       "      });\n",
       "    });\n",
       "}else{\n",
       "    // require.js not available: dynamically load d3 & LDAvis\n",
       "    LDAvis_load_lib(\"https://cdnjs.cloudflare.com/ajax/libs/d3/3.5.5/d3.min.js\", function(){\n",
       "         LDAvis_load_lib(\"https://cdn.rawgit.com/bmabey/pyLDAvis/files/ldavis.v1.0.0.js\", function(){\n",
       "                 new LDAvis(\"#\" + \"ldavis_el12451402513272910886425303721\", ldavis_el12451402513272910886425303721_data);\n",
       "            })\n",
       "         });\n",
       "}\n",
       "</script>"
      ],
      "text/plain": [
       "<IPython.core.display.HTML object>"
      ]
     },
     "execution_count": 12,
     "metadata": {},
     "output_type": "execute_result"
    }
   ],
   "source": [
    "# visualize LDA results\n",
    "\n",
    "%matplotlib inline\n",
    "import pyLDAvis\n",
    "import pyLDAvis.gensim\n",
    "vis = pyLDAvis.gensim.prepare(topic_model=lda_model, corpus=corpus, dictionary=dictionary_LDA)\n",
    "pyLDAvis.enable_notebook()\n",
    "pyLDAvis.display(vis)"
   ]
  },
  {
   "cell_type": "markdown",
   "metadata": {},
   "source": [
    "## Wordclouds"
   ]
  },
  {
   "cell_type": "markdown",
   "metadata": {},
   "source": [
    "pre2000_wordcloud = WordCloud(\n",
    "    width = 800, height = 800, background_color ='white', stopwords = set(STOPWORDS), min_font_size = 10\n",
    ").generate(pre2000_words) \n",
    "\n",
    "plt.figure(figsize = (8, 8), facecolor = None) \n",
    "plt.imshow(pre2000_wordcloud) \n",
    "plt.axis(\"off\") \n",
    "plt.tight_layout(pad = 0)\n",
    "  \n",
    "plt.show()"
   ]
  }
 ],
 "metadata": {
  "kernelspec": {
   "display_name": "Python [conda env:metis] *",
   "language": "python",
   "name": "conda-env-metis-py"
  },
  "language_info": {
   "codemirror_mode": {
    "name": "ipython",
    "version": 3
   },
   "file_extension": ".py",
   "mimetype": "text/x-python",
   "name": "python",
   "nbconvert_exporter": "python",
   "pygments_lexer": "ipython3",
   "version": "3.7.7"
  },
  "varInspector": {
   "cols": {
    "lenName": 16,
    "lenType": 16,
    "lenVar": 40
   },
   "kernels_config": {
    "python": {
     "delete_cmd_postfix": "",
     "delete_cmd_prefix": "del ",
     "library": "var_list.py",
     "varRefreshCmd": "print(var_dic_list())"
    },
    "r": {
     "delete_cmd_postfix": ") ",
     "delete_cmd_prefix": "rm(",
     "library": "var_list.r",
     "varRefreshCmd": "cat(var_dic_list()) "
    }
   },
   "types_to_exclude": [
    "module",
    "function",
    "builtin_function_or_method",
    "instance",
    "_Feature"
   ],
   "window_display": false
  }
 },
 "nbformat": 4,
 "nbformat_minor": 4
}
