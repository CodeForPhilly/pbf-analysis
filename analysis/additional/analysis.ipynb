{
 "cells": [
  {
   "cell_type": "markdown",
   "metadata": {},
   "source": [
    "# Analysis"
   ]
  },
  {
   "cell_type": "code",
   "execution_count": 32,
   "metadata": {},
   "outputs": [],
   "source": [
    "import ast\n",
    "import itertools\n",
    "from datetime import datetime\n",
    "import matplotlib.pyplot as plt\n",
    "plt.style.use('ggplot')\n",
    "\n",
    "import os\n",
    "import numpy as np\n",
    "import pandas as pd\n",
    "import regex as re\n",
    "import seaborn as sns\n",
    "\n",
    "from scipy.stats import chi2_contingency\n",
    "\n",
    "from statsmodels.stats.outliers_influence import variance_inflation_factor\n",
    "from statsmodels.tools.tools import add_constant"
   ]
  },
  {
   "cell_type": "markdown",
   "metadata": {},
   "source": [
    "# Import and preprocessing for updated csv's"
   ]
  },
  {
   "cell_type": "code",
   "execution_count": 2,
   "metadata": {},
   "outputs": [],
   "source": [
    "# Set various data and figure directories relative to cwd\n",
    "# (which is hopefully always this file's dirname)\n",
    "cwd = os.getcwd()\n",
    "root = os.path.split(os.path.split(cwd)[0])[0]\n",
    "rawdir = os.path.join(root, \"data/raw\") # Raw csv files; local only!\n",
    "tmpdir = os.path.join(root, \"data/tmp\") # Intermediate data products; local only!\n",
    "extdir = os.path.join(root, \"data/external\") # Data from external sources; in repo\n",
    "cleandir = os.path.join(root, \"data/cleaned\") # Data for dashboard generation; in repo\n",
    "figdir = os.path.join(root, \"figures\") # Final figures; in repo"
   ]
  },
  {
   "cell_type": "code",
   "execution_count": 3,
   "metadata": {},
   "outputs": [],
   "source": [
    "# Set raw csv data file paths\n",
    "docketcsv = \"docket_reparse_03_02_2021.csv\"\n",
    "courtcsv = \"court_summary.csv\"\n",
    "\n",
    "docketpath = os.path.join(rawdir, docketcsv)\n",
    "courtpath = os.path.join(rawdir, courtcsv)"
   ]
  },
  {
   "cell_type": "code",
   "execution_count": 4,
   "metadata": {},
   "outputs": [],
   "source": [
    "# Import and join docket and court summary csv files\n",
    "docketdf = pd.read_csv(docketpath, index_col = 0)\n",
    "courtdf = pd.read_csv(courtpath, index_col=0)\n",
    "df = docketdf.merge(courtdf, on='docket_no', how='left', suffixes=('', '_y'))\n",
    "df.reset_index(inplace=True)\n",
    "df.drop(columns=['docket_no'], inplace=True)\n",
    "df.drop(df.filter(regex='_y$').columns.tolist(),axis=1, inplace=True)"
   ]
  },
  {
   "cell_type": "code",
   "execution_count": 5,
   "metadata": {},
   "outputs": [],
   "source": [
    "# Fill empty bail_type with 'Denied'\n",
    "df[['bail_type']] = df[['bail_type']].fillna('Denied')"
   ]
  },
  {
   "cell_type": "code",
   "execution_count": 6,
   "metadata": {},
   "outputs": [],
   "source": [
    "# Correct 'Emergency Arraignment Court Magistrate' to 'E-Filing Judge'\n",
    "df['bail_set_by'] = df['bail_set_by'].apply(lambda x: 'E-Filing Judge' if x == 'Emergency Arraignment Court Magistrate' else x)"
   ]
  },
  {
   "cell_type": "code",
   "execution_count": 7,
   "metadata": {},
   "outputs": [],
   "source": [
    "df[\"offense_date\"] = pd.to_datetime(df[\"offense_date\"])\n",
    "df[\"arrest_dt\"] = pd.to_datetime(df[\"arrest_dt\"])\n",
    "df[\"dob\"] = pd.to_datetime(df[\"dob\"])\n",
    "df[\"bail_date\"] = pd.to_datetime(df[\"bail_date\"])\n",
    "df[\"prelim_hearing_dt\"] = df[\"prelim_hearing_dt\"].apply(\n",
    "    lambda x: str(x).split(' ')[0] if pd.notnull(x) else x) # This is here because of a parsing issue\n",
    "df[\"prelim_hearing_dt\"] = pd.to_datetime(df[\"prelim_hearing_dt\"])\n",
    "df[\"prelim_hearing_time\"] = pd.to_datetime(df[\"prelim_hearing_time\"])\n",
    "\n",
    "# Convert string representations of lists to lists\n",
    "df[\"offenses\"] = df[\"offenses\"].apply(lambda x: ast.literal_eval(x))\n",
    "df['offense_type'] = df['offense_type'].apply(lambda x: ast.literal_eval(x))\n",
    "df['statute'] = df['statute'].apply(lambda x: ast.literal_eval(x))\n",
    "\n",
    "# Create age column\n",
    "df['age'] = df['arrest_dt'] - df['dob']\n",
    "df['age'] = df['age'].apply(lambda x: np.floor(x.days/365.2425))\n",
    "\n",
    "# Create public defender column: 1 if public defender, 0 if private defender\n",
    "# note that there is also an \"attorney_type\" column, with \"Public\", \"Private\", and \"Court Appointed\" options\n",
    "#df[\"public_defender\"] = df[\"attorney\"].apply(lambda x: 1 if x =='Defender Association of  Philadelphia' else 0)\n",
    "\n",
    "# Create clean zipcode column: remove everything after hyphen\n",
    "df[\"zipcode_clean\"] = df[\"zip\"].apply(lambda x: re.sub('-.*$','',x) if type(x) == str else x)\n",
    "\n",
    "# Create column indicating whether zipcode is in Philadelphia\n",
    "philly_zipcode = list(range(19102, 19155))\n",
    "philly_zipcode = [str(item) for item in philly_zipcode]\n",
    "df['philly_zipcode'] = df['zipcode_clean'].apply(lambda x: 1 if x in philly_zipcode else 0)\n",
    "\n",
    "# Create categorical column indicating if bail is paid\n",
    "df['bail_paid_YN'] = df['bail_paid'].apply(lambda x: \"no\" if x == 0 else \"yes\")"
   ]
  },
  {
   "cell_type": "code",
   "execution_count": 8,
   "metadata": {},
   "outputs": [],
   "source": [
    "# Define bins for bail amount\n",
    "# Note that these are somewhat arbitrary, though roughly in order-of-magnitude increments\n",
    "def bin_bailSet(bailSet):\n",
    "    if bailSet == 0 or pd.isnull(bailSet):\n",
    "        return 'None'\n",
    "    elif bailSet < 1000:\n",
    "        return '<1k'\n",
    "    elif bailSet < 5000:\n",
    "        return '1k to 5k'\n",
    "    elif bailSet < 10000:\n",
    "        return '5k to 10k'\n",
    "    elif bailSet < 25000:\n",
    "        return '10k to 25k'\n",
    "    elif bailSet < 50000:\n",
    "        return '25k to 50k'\n",
    "    elif bailSet < 100000:\n",
    "        return '50k to 100k'\n",
    "    elif bailSet < 500000:\n",
    "        return '100k to 500k'\n",
    "    else:\n",
    "        return '>=500k'\n",
    "\n",
    "# TODO: auto-generate bail_bin_labels to not have to manually update if updating fcn above\n",
    "bail_bin_labels = ['None', '<1k', '1k to 5k', '5k to 10k', '10k to 25k', '25k to 50k', '50k to 100k', '100k to 500k', '>=500k']   \n",
    "    \n",
    "# Create column for bail amount bins\n",
    "df['bail_set_bin'] = df['bail_amount'].apply(lambda x: bin_bailSet(x))"
   ]
  },
  {
   "cell_type": "code",
   "execution_count": 9,
   "metadata": {},
   "outputs": [],
   "source": [
    "# Define bins for age group\n",
    "def bin_age(age):\n",
    "    if age < 18:\n",
    "        return 'minor'\n",
    "    elif age < 26:\n",
    "        return '18 to 25'\n",
    "    elif age < 34:\n",
    "        return '26 to 33'\n",
    "    elif age < 42:\n",
    "        return '34 to 41'\n",
    "    elif age < 50:\n",
    "        return '42 to 49'\n",
    "    elif age < 58:\n",
    "        return '50 to 57'\n",
    "    elif age < 65:\n",
    "        return '58 to 64'\n",
    "    else:\n",
    "        return 'senior'\n",
    "\n",
    "# Create column for bail amount bins\n",
    "df['age_group'] = df['age'].apply(lambda x: bin_age(x))"
   ]
  },
  {
   "cell_type": "code",
   "execution_count": 10,
   "metadata": {},
   "outputs": [
    {
     "name": "stdout",
     "output_type": "stream",
     "text": [
      "number of statutes:  517\n"
     ]
    }
   ],
   "source": [
    "# create columns for each statute\n",
    "\n",
    "# number of different offenses (statutes) represented\n",
    "all_statutes = []\n",
    "for i in range(df.shape[0]):\n",
    "    statutes = df.at[i,'statute']\n",
    "    for item in statutes:\n",
    "        if item not in all_statutes:\n",
    "            all_statutes.append(item)\n",
    "            \n",
    "n_statutes = len(all_statutes)\n",
    "print('number of statutes: ', n_statutes)\n",
    "\n",
    "# create a dictionary of feature: statute \n",
    "statute_dict = {}\n",
    "feature_statute = {}\n",
    "for i, item in enumerate(all_statutes):\n",
    "    statute_dict[i] = item\n",
    "    feature_statute[item] = i\n",
    "    \n",
    "statute_cols = ['statute_' + str(i) for i in range(len(all_statutes))]\n",
    "\n",
    "# create new columns, one for each statute\n",
    "df[statute_cols] = 0\n",
    "\n",
    "for i in range(df.shape[0]):\n",
    "    statutes = df.at[i,'statute']\n",
    "    for item in statutes:\n",
    "        statute_idx = 'statute_' + str(all_statutes.index(item))\n",
    "        df.loc[i, statute_idx] += 1\n",
    "        "
   ]
  },
  {
   "cell_type": "code",
   "execution_count": 11,
   "metadata": {},
   "outputs": [
    {
     "data": {
      "text/plain": [
       "['age',\n",
       " 'age_group',\n",
       " 'arrest_dt',\n",
       " 'arresting_officer',\n",
       " 'attorney',\n",
       " 'attorney_type',\n",
       " 'bail_amount',\n",
       " 'bail_date',\n",
       " 'bail_paid',\n",
       " 'bail_paid_YN',\n",
       " 'bail_set_bin',\n",
       " 'bail_set_by',\n",
       " 'bail_type',\n",
       " 'case_status',\n",
       " 'dob',\n",
       " 'offense_date',\n",
       " 'offense_type',\n",
       " 'offenses',\n",
       " 'philly_zipcode',\n",
       " 'prelim_hearing_dt',\n",
       " 'prelim_hearing_time',\n",
       " 'race',\n",
       " 'sex',\n",
       " 'statute',\n",
       " 'statute_0',\n",
       " 'statute_1',\n",
       " 'statute_10',\n",
       " 'statute_100',\n",
       " 'statute_101',\n",
       " 'statute_102',\n",
       " 'statute_103',\n",
       " 'statute_104',\n",
       " 'statute_105',\n",
       " 'statute_106',\n",
       " 'statute_107',\n",
       " 'statute_108',\n",
       " 'statute_109',\n",
       " 'statute_11',\n",
       " 'statute_110',\n",
       " 'statute_111',\n",
       " 'statute_112',\n",
       " 'statute_113',\n",
       " 'statute_114',\n",
       " 'statute_115',\n",
       " 'statute_116',\n",
       " 'statute_117',\n",
       " 'statute_118',\n",
       " 'statute_119',\n",
       " 'statute_12',\n",
       " 'statute_120',\n",
       " 'statute_121',\n",
       " 'statute_122',\n",
       " 'statute_123',\n",
       " 'statute_124',\n",
       " 'statute_125',\n",
       " 'statute_126',\n",
       " 'statute_127',\n",
       " 'statute_128',\n",
       " 'statute_129',\n",
       " 'statute_13',\n",
       " 'statute_130',\n",
       " 'statute_131',\n",
       " 'statute_132',\n",
       " 'statute_133',\n",
       " 'statute_134',\n",
       " 'statute_135',\n",
       " 'statute_136',\n",
       " 'statute_137',\n",
       " 'statute_138',\n",
       " 'statute_139',\n",
       " 'statute_14',\n",
       " 'statute_140',\n",
       " 'statute_141',\n",
       " 'statute_142',\n",
       " 'statute_143',\n",
       " 'statute_144',\n",
       " 'statute_145',\n",
       " 'statute_146',\n",
       " 'statute_147',\n",
       " 'statute_148',\n",
       " 'statute_149',\n",
       " 'statute_15',\n",
       " 'statute_150',\n",
       " 'statute_151',\n",
       " 'statute_152',\n",
       " 'statute_153',\n",
       " 'statute_154',\n",
       " 'statute_155',\n",
       " 'statute_156',\n",
       " 'statute_157',\n",
       " 'statute_158',\n",
       " 'statute_159',\n",
       " 'statute_16',\n",
       " 'statute_160',\n",
       " 'statute_161',\n",
       " 'statute_162',\n",
       " 'statute_163',\n",
       " 'statute_164',\n",
       " 'statute_165',\n",
       " 'statute_166',\n",
       " 'statute_167',\n",
       " 'statute_168',\n",
       " 'statute_169',\n",
       " 'statute_17',\n",
       " 'statute_170',\n",
       " 'statute_171',\n",
       " 'statute_172',\n",
       " 'statute_173',\n",
       " 'statute_174',\n",
       " 'statute_175',\n",
       " 'statute_176',\n",
       " 'statute_177',\n",
       " 'statute_178',\n",
       " 'statute_179',\n",
       " 'statute_18',\n",
       " 'statute_180',\n",
       " 'statute_181',\n",
       " 'statute_182',\n",
       " 'statute_183',\n",
       " 'statute_184',\n",
       " 'statute_185',\n",
       " 'statute_186',\n",
       " 'statute_187',\n",
       " 'statute_188',\n",
       " 'statute_189',\n",
       " 'statute_19',\n",
       " 'statute_190',\n",
       " 'statute_191',\n",
       " 'statute_192',\n",
       " 'statute_193',\n",
       " 'statute_194',\n",
       " 'statute_195',\n",
       " 'statute_196',\n",
       " 'statute_197',\n",
       " 'statute_198',\n",
       " 'statute_199',\n",
       " 'statute_2',\n",
       " 'statute_20',\n",
       " 'statute_200',\n",
       " 'statute_201',\n",
       " 'statute_202',\n",
       " 'statute_203',\n",
       " 'statute_204',\n",
       " 'statute_205',\n",
       " 'statute_206',\n",
       " 'statute_207',\n",
       " 'statute_208',\n",
       " 'statute_209',\n",
       " 'statute_21',\n",
       " 'statute_210',\n",
       " 'statute_211',\n",
       " 'statute_212',\n",
       " 'statute_213',\n",
       " 'statute_214',\n",
       " 'statute_215',\n",
       " 'statute_216',\n",
       " 'statute_217',\n",
       " 'statute_218',\n",
       " 'statute_219',\n",
       " 'statute_22',\n",
       " 'statute_220',\n",
       " 'statute_221',\n",
       " 'statute_222',\n",
       " 'statute_223',\n",
       " 'statute_224',\n",
       " 'statute_225',\n",
       " 'statute_226',\n",
       " 'statute_227',\n",
       " 'statute_228',\n",
       " 'statute_229',\n",
       " 'statute_23',\n",
       " 'statute_230',\n",
       " 'statute_231',\n",
       " 'statute_232',\n",
       " 'statute_233',\n",
       " 'statute_234',\n",
       " 'statute_235',\n",
       " 'statute_236',\n",
       " 'statute_237',\n",
       " 'statute_238',\n",
       " 'statute_239',\n",
       " 'statute_24',\n",
       " 'statute_240',\n",
       " 'statute_241',\n",
       " 'statute_242',\n",
       " 'statute_243',\n",
       " 'statute_244',\n",
       " 'statute_245',\n",
       " 'statute_246',\n",
       " 'statute_247',\n",
       " 'statute_248',\n",
       " 'statute_249',\n",
       " 'statute_25',\n",
       " 'statute_250',\n",
       " 'statute_251',\n",
       " 'statute_252',\n",
       " 'statute_253',\n",
       " 'statute_254',\n",
       " 'statute_255',\n",
       " 'statute_256',\n",
       " 'statute_257',\n",
       " 'statute_258',\n",
       " 'statute_259',\n",
       " 'statute_26',\n",
       " 'statute_260',\n",
       " 'statute_261',\n",
       " 'statute_262',\n",
       " 'statute_263',\n",
       " 'statute_264',\n",
       " 'statute_265',\n",
       " 'statute_266',\n",
       " 'statute_267',\n",
       " 'statute_268',\n",
       " 'statute_269',\n",
       " 'statute_27',\n",
       " 'statute_270',\n",
       " 'statute_271',\n",
       " 'statute_272',\n",
       " 'statute_273',\n",
       " 'statute_274',\n",
       " 'statute_275',\n",
       " 'statute_276',\n",
       " 'statute_277',\n",
       " 'statute_278',\n",
       " 'statute_279',\n",
       " 'statute_28',\n",
       " 'statute_280',\n",
       " 'statute_281',\n",
       " 'statute_282',\n",
       " 'statute_283',\n",
       " 'statute_284',\n",
       " 'statute_285',\n",
       " 'statute_286',\n",
       " 'statute_287',\n",
       " 'statute_288',\n",
       " 'statute_289',\n",
       " 'statute_29',\n",
       " 'statute_290',\n",
       " 'statute_291',\n",
       " 'statute_292',\n",
       " 'statute_293',\n",
       " 'statute_294',\n",
       " 'statute_295',\n",
       " 'statute_296',\n",
       " 'statute_297',\n",
       " 'statute_298',\n",
       " 'statute_299',\n",
       " 'statute_3',\n",
       " 'statute_30',\n",
       " 'statute_300',\n",
       " 'statute_301',\n",
       " 'statute_302',\n",
       " 'statute_303',\n",
       " 'statute_304',\n",
       " 'statute_305',\n",
       " 'statute_306',\n",
       " 'statute_307',\n",
       " 'statute_308',\n",
       " 'statute_309',\n",
       " 'statute_31',\n",
       " 'statute_310',\n",
       " 'statute_311',\n",
       " 'statute_312',\n",
       " 'statute_313',\n",
       " 'statute_314',\n",
       " 'statute_315',\n",
       " 'statute_316',\n",
       " 'statute_317',\n",
       " 'statute_318',\n",
       " 'statute_319',\n",
       " 'statute_32',\n",
       " 'statute_320',\n",
       " 'statute_321',\n",
       " 'statute_322',\n",
       " 'statute_323',\n",
       " 'statute_324',\n",
       " 'statute_325',\n",
       " 'statute_326',\n",
       " 'statute_327',\n",
       " 'statute_328',\n",
       " 'statute_329',\n",
       " 'statute_33',\n",
       " 'statute_330',\n",
       " 'statute_331',\n",
       " 'statute_332',\n",
       " 'statute_333',\n",
       " 'statute_334',\n",
       " 'statute_335',\n",
       " 'statute_336',\n",
       " 'statute_337',\n",
       " 'statute_338',\n",
       " 'statute_339',\n",
       " 'statute_34',\n",
       " 'statute_340',\n",
       " 'statute_341',\n",
       " 'statute_342',\n",
       " 'statute_343',\n",
       " 'statute_344',\n",
       " 'statute_345',\n",
       " 'statute_346',\n",
       " 'statute_347',\n",
       " 'statute_348',\n",
       " 'statute_349',\n",
       " 'statute_35',\n",
       " 'statute_350',\n",
       " 'statute_351',\n",
       " 'statute_352',\n",
       " 'statute_353',\n",
       " 'statute_354',\n",
       " 'statute_355',\n",
       " 'statute_356',\n",
       " 'statute_357',\n",
       " 'statute_358',\n",
       " 'statute_359',\n",
       " 'statute_36',\n",
       " 'statute_360',\n",
       " 'statute_361',\n",
       " 'statute_362',\n",
       " 'statute_363',\n",
       " 'statute_364',\n",
       " 'statute_365',\n",
       " 'statute_366',\n",
       " 'statute_367',\n",
       " 'statute_368',\n",
       " 'statute_369',\n",
       " 'statute_37',\n",
       " 'statute_370',\n",
       " 'statute_371',\n",
       " 'statute_372',\n",
       " 'statute_373',\n",
       " 'statute_374',\n",
       " 'statute_375',\n",
       " 'statute_376',\n",
       " 'statute_377',\n",
       " 'statute_378',\n",
       " 'statute_379',\n",
       " 'statute_38',\n",
       " 'statute_380',\n",
       " 'statute_381',\n",
       " 'statute_382',\n",
       " 'statute_383',\n",
       " 'statute_384',\n",
       " 'statute_385',\n",
       " 'statute_386',\n",
       " 'statute_387',\n",
       " 'statute_388',\n",
       " 'statute_389',\n",
       " 'statute_39',\n",
       " 'statute_390',\n",
       " 'statute_391',\n",
       " 'statute_392',\n",
       " 'statute_393',\n",
       " 'statute_394',\n",
       " 'statute_395',\n",
       " 'statute_396',\n",
       " 'statute_397',\n",
       " 'statute_398',\n",
       " 'statute_399',\n",
       " 'statute_4',\n",
       " 'statute_40',\n",
       " 'statute_400',\n",
       " 'statute_401',\n",
       " 'statute_402',\n",
       " 'statute_403',\n",
       " 'statute_404',\n",
       " 'statute_405',\n",
       " 'statute_406',\n",
       " 'statute_407',\n",
       " 'statute_408',\n",
       " 'statute_409',\n",
       " 'statute_41',\n",
       " 'statute_410',\n",
       " 'statute_411',\n",
       " 'statute_412',\n",
       " 'statute_413',\n",
       " 'statute_414',\n",
       " 'statute_415',\n",
       " 'statute_416',\n",
       " 'statute_417',\n",
       " 'statute_418',\n",
       " 'statute_419',\n",
       " 'statute_42',\n",
       " 'statute_420',\n",
       " 'statute_421',\n",
       " 'statute_422',\n",
       " 'statute_423',\n",
       " 'statute_424',\n",
       " 'statute_425',\n",
       " 'statute_426',\n",
       " 'statute_427',\n",
       " 'statute_428',\n",
       " 'statute_429',\n",
       " 'statute_43',\n",
       " 'statute_430',\n",
       " 'statute_431',\n",
       " 'statute_432',\n",
       " 'statute_433',\n",
       " 'statute_434',\n",
       " 'statute_435',\n",
       " 'statute_436',\n",
       " 'statute_437',\n",
       " 'statute_438',\n",
       " 'statute_439',\n",
       " 'statute_44',\n",
       " 'statute_440',\n",
       " 'statute_441',\n",
       " 'statute_442',\n",
       " 'statute_443',\n",
       " 'statute_444',\n",
       " 'statute_445',\n",
       " 'statute_446',\n",
       " 'statute_447',\n",
       " 'statute_448',\n",
       " 'statute_449',\n",
       " 'statute_45',\n",
       " 'statute_450',\n",
       " 'statute_451',\n",
       " 'statute_452',\n",
       " 'statute_453',\n",
       " 'statute_454',\n",
       " 'statute_455',\n",
       " 'statute_456',\n",
       " 'statute_457',\n",
       " 'statute_458',\n",
       " 'statute_459',\n",
       " 'statute_46',\n",
       " 'statute_460',\n",
       " 'statute_461',\n",
       " 'statute_462',\n",
       " 'statute_463',\n",
       " 'statute_464',\n",
       " 'statute_465',\n",
       " 'statute_466',\n",
       " 'statute_467',\n",
       " 'statute_468',\n",
       " 'statute_469',\n",
       " 'statute_47',\n",
       " 'statute_470',\n",
       " 'statute_471',\n",
       " 'statute_472',\n",
       " 'statute_473',\n",
       " 'statute_474',\n",
       " 'statute_475',\n",
       " 'statute_476',\n",
       " 'statute_477',\n",
       " 'statute_478',\n",
       " 'statute_479',\n",
       " 'statute_48',\n",
       " 'statute_480',\n",
       " 'statute_481',\n",
       " 'statute_482',\n",
       " 'statute_483',\n",
       " 'statute_484',\n",
       " 'statute_485',\n",
       " 'statute_486',\n",
       " 'statute_487',\n",
       " 'statute_488',\n",
       " 'statute_489',\n",
       " 'statute_49',\n",
       " 'statute_490',\n",
       " 'statute_491',\n",
       " 'statute_492',\n",
       " 'statute_493',\n",
       " 'statute_494',\n",
       " 'statute_495',\n",
       " 'statute_496',\n",
       " 'statute_497',\n",
       " 'statute_498',\n",
       " 'statute_499',\n",
       " 'statute_5',\n",
       " 'statute_50',\n",
       " 'statute_500',\n",
       " 'statute_501',\n",
       " 'statute_502',\n",
       " 'statute_503',\n",
       " 'statute_504',\n",
       " 'statute_505',\n",
       " 'statute_506',\n",
       " 'statute_507',\n",
       " 'statute_508',\n",
       " 'statute_509',\n",
       " 'statute_51',\n",
       " 'statute_510',\n",
       " 'statute_511',\n",
       " 'statute_512',\n",
       " 'statute_513',\n",
       " 'statute_514',\n",
       " 'statute_515',\n",
       " 'statute_516',\n",
       " 'statute_52',\n",
       " 'statute_53',\n",
       " 'statute_54',\n",
       " 'statute_55',\n",
       " 'statute_56',\n",
       " 'statute_57',\n",
       " 'statute_58',\n",
       " 'statute_59',\n",
       " 'statute_6',\n",
       " 'statute_60',\n",
       " 'statute_61',\n",
       " 'statute_62',\n",
       " 'statute_63',\n",
       " 'statute_64',\n",
       " 'statute_65',\n",
       " 'statute_66',\n",
       " 'statute_67',\n",
       " 'statute_68',\n",
       " 'statute_69',\n",
       " 'statute_7',\n",
       " 'statute_70',\n",
       " 'statute_71',\n",
       " 'statute_72',\n",
       " 'statute_73',\n",
       " 'statute_74',\n",
       " 'statute_75',\n",
       " 'statute_76',\n",
       " 'statute_77',\n",
       " 'statute_78',\n",
       " 'statute_79',\n",
       " 'statute_8',\n",
       " 'statute_80',\n",
       " 'statute_81',\n",
       " 'statute_82',\n",
       " 'statute_83',\n",
       " 'statute_84',\n",
       " 'statute_85',\n",
       " 'statute_86',\n",
       " 'statute_87',\n",
       " 'statute_88',\n",
       " 'statute_89',\n",
       " 'statute_9',\n",
       " 'statute_90',\n",
       " 'statute_91',\n",
       " 'statute_92',\n",
       " 'statute_93',\n",
       " 'statute_94',\n",
       " 'statute_95',\n",
       " 'statute_96',\n",
       " 'statute_97',\n",
       " 'statute_98',\n",
       " 'statute_99',\n",
       " 'zip',\n",
       " 'zipcode_clean']"
      ]
     },
     "execution_count": 11,
     "metadata": {},
     "output_type": "execute_result"
    }
   ],
   "source": [
    "# full list of columns available to work with\n",
    "sorted(df.columns.tolist())"
   ]
  },
  {
   "cell_type": "code",
   "execution_count": 12,
   "metadata": {
    "scrolled": true
   },
   "outputs": [
    {
     "data": {
      "text/html": [
       "<div>\n",
       "<style scoped>\n",
       "    .dataframe tbody tr th:only-of-type {\n",
       "        vertical-align: middle;\n",
       "    }\n",
       "\n",
       "    .dataframe tbody tr th {\n",
       "        vertical-align: top;\n",
       "    }\n",
       "\n",
       "    .dataframe thead th {\n",
       "        text-align: right;\n",
       "    }\n",
       "</style>\n",
       "<table border=\"1\" class=\"dataframe\">\n",
       "  <thead>\n",
       "    <tr style=\"text-align: right;\">\n",
       "      <th></th>\n",
       "      <th>attorney</th>\n",
       "      <th>attorney_type</th>\n",
       "      <th>offenses</th>\n",
       "      <th>offense_date</th>\n",
       "      <th>statute</th>\n",
       "      <th>offense_type</th>\n",
       "      <th>bail_set_by</th>\n",
       "      <th>bail_amount</th>\n",
       "      <th>bail_paid</th>\n",
       "      <th>bail_date</th>\n",
       "      <th>...</th>\n",
       "      <th>statute_507</th>\n",
       "      <th>statute_508</th>\n",
       "      <th>statute_509</th>\n",
       "      <th>statute_510</th>\n",
       "      <th>statute_511</th>\n",
       "      <th>statute_512</th>\n",
       "      <th>statute_513</th>\n",
       "      <th>statute_514</th>\n",
       "      <th>statute_515</th>\n",
       "      <th>statute_516</th>\n",
       "    </tr>\n",
       "  </thead>\n",
       "  <tbody>\n",
       "    <tr>\n",
       "      <th>0</th>\n",
       "      <td>Defender Association of Philadelphia</td>\n",
       "      <td>Public</td>\n",
       "      <td>[DUI: Gen Imp/Inc of Driving Safely - 1st Off,...</td>\n",
       "      <td>2019-12-31</td>\n",
       "      <td>[75 § 3802, 75 § 3323]</td>\n",
       "      <td>[driving after imbibing alcohol or utilizing d...</td>\n",
       "      <td>Bernard, Francis X.</td>\n",
       "      <td>0.0</td>\n",
       "      <td>0.0</td>\n",
       "      <td>2020-01-01</td>\n",
       "      <td>...</td>\n",
       "      <td>0</td>\n",
       "      <td>0</td>\n",
       "      <td>0</td>\n",
       "      <td>0</td>\n",
       "      <td>0</td>\n",
       "      <td>0</td>\n",
       "      <td>0</td>\n",
       "      <td>0</td>\n",
       "      <td>0</td>\n",
       "      <td>0</td>\n",
       "    </tr>\n",
       "    <tr>\n",
       "      <th>1</th>\n",
       "      <td>Joseph Kevin Kelly</td>\n",
       "      <td>Private</td>\n",
       "      <td>[DUI: Gen Imp/Inc of Driving Safely - 1st Off]</td>\n",
       "      <td>2019-12-31</td>\n",
       "      <td>[75 § 3802]</td>\n",
       "      <td>[driving after imbibing alcohol or utilizing d...</td>\n",
       "      <td>Bernard, Francis X.</td>\n",
       "      <td>0.0</td>\n",
       "      <td>0.0</td>\n",
       "      <td>2020-01-01</td>\n",
       "      <td>...</td>\n",
       "      <td>0</td>\n",
       "      <td>0</td>\n",
       "      <td>0</td>\n",
       "      <td>0</td>\n",
       "      <td>0</td>\n",
       "      <td>0</td>\n",
       "      <td>0</td>\n",
       "      <td>0</td>\n",
       "      <td>0</td>\n",
       "      <td>0</td>\n",
       "    </tr>\n",
       "    <tr>\n",
       "      <th>2</th>\n",
       "      <td>Defender Association of Philadelphia</td>\n",
       "      <td>Public</td>\n",
       "      <td>[Retail Theft-Take Mdse]</td>\n",
       "      <td>2019-12-31</td>\n",
       "      <td>[18 § 3929]</td>\n",
       "      <td>[theft and related offenses]</td>\n",
       "      <td>Bernard, Francis X.</td>\n",
       "      <td>0.0</td>\n",
       "      <td>0.0</td>\n",
       "      <td>2020-01-01</td>\n",
       "      <td>...</td>\n",
       "      <td>0</td>\n",
       "      <td>0</td>\n",
       "      <td>0</td>\n",
       "      <td>0</td>\n",
       "      <td>0</td>\n",
       "      <td>0</td>\n",
       "      <td>0</td>\n",
       "      <td>0</td>\n",
       "      <td>0</td>\n",
       "      <td>0</td>\n",
       "    </tr>\n",
       "    <tr>\n",
       "      <th>3</th>\n",
       "      <td>Defender Association of Philadelphia</td>\n",
       "      <td>Public</td>\n",
       "      <td>[Simple Assault, Recklessly Endangering Anothe...</td>\n",
       "      <td>2019-12-31</td>\n",
       "      <td>[18 § 2701, 18 § 2705]</td>\n",
       "      <td>[assault, assault]</td>\n",
       "      <td>Bernard, Francis X.</td>\n",
       "      <td>30000.0</td>\n",
       "      <td>0.0</td>\n",
       "      <td>2020-01-01</td>\n",
       "      <td>...</td>\n",
       "      <td>0</td>\n",
       "      <td>0</td>\n",
       "      <td>0</td>\n",
       "      <td>0</td>\n",
       "      <td>0</td>\n",
       "      <td>0</td>\n",
       "      <td>0</td>\n",
       "      <td>0</td>\n",
       "      <td>0</td>\n",
       "      <td>0</td>\n",
       "    </tr>\n",
       "    <tr>\n",
       "      <th>4</th>\n",
       "      <td>Lee Mandell</td>\n",
       "      <td>Court Appointed</td>\n",
       "      <td>[Robbery-Inflict Threat Imm Bod Inj, Conspirac...</td>\n",
       "      <td>2019-12-31</td>\n",
       "      <td>[18 § 3701 §§ A1IV, 18 § 903 §§ C, 18 § 3921 §...</td>\n",
       "      <td>[robbery, inchoate crimes, theft and related o...</td>\n",
       "      <td>No Magistrate Found</td>\n",
       "      <td>30000.0</td>\n",
       "      <td>0.0</td>\n",
       "      <td>2020-01-01</td>\n",
       "      <td>...</td>\n",
       "      <td>0</td>\n",
       "      <td>0</td>\n",
       "      <td>0</td>\n",
       "      <td>0</td>\n",
       "      <td>0</td>\n",
       "      <td>0</td>\n",
       "      <td>0</td>\n",
       "      <td>0</td>\n",
       "      <td>0</td>\n",
       "      <td>0</td>\n",
       "    </tr>\n",
       "  </tbody>\n",
       "</table>\n",
       "<p>5 rows × 543 columns</p>\n",
       "</div>"
      ],
      "text/plain": [
       "                               attorney    attorney_type  \\\n",
       "0  Defender Association of Philadelphia           Public   \n",
       "1                    Joseph Kevin Kelly          Private   \n",
       "2  Defender Association of Philadelphia           Public   \n",
       "3  Defender Association of Philadelphia           Public   \n",
       "4                           Lee Mandell  Court Appointed   \n",
       "\n",
       "                                            offenses offense_date  \\\n",
       "0  [DUI: Gen Imp/Inc of Driving Safely - 1st Off,...   2019-12-31   \n",
       "1     [DUI: Gen Imp/Inc of Driving Safely - 1st Off]   2019-12-31   \n",
       "2                           [Retail Theft-Take Mdse]   2019-12-31   \n",
       "3  [Simple Assault, Recklessly Endangering Anothe...   2019-12-31   \n",
       "4  [Robbery-Inflict Threat Imm Bod Inj, Conspirac...   2019-12-31   \n",
       "\n",
       "                                             statute  \\\n",
       "0                             [75 § 3802, 75 § 3323]   \n",
       "1                                        [75 § 3802]   \n",
       "2                                        [18 § 3929]   \n",
       "3                             [18 § 2701, 18 § 2705]   \n",
       "4  [18 § 3701 §§ A1IV, 18 § 903 §§ C, 18 § 3921 §...   \n",
       "\n",
       "                                        offense_type          bail_set_by  \\\n",
       "0  [driving after imbibing alcohol or utilizing d...  Bernard, Francis X.   \n",
       "1  [driving after imbibing alcohol or utilizing d...  Bernard, Francis X.   \n",
       "2                       [theft and related offenses]  Bernard, Francis X.   \n",
       "3                                 [assault, assault]  Bernard, Francis X.   \n",
       "4  [robbery, inchoate crimes, theft and related o...  No Magistrate Found   \n",
       "\n",
       "   bail_amount  bail_paid  bail_date  ... statute_507 statute_508 statute_509  \\\n",
       "0          0.0        0.0 2020-01-01  ...           0           0           0   \n",
       "1          0.0        0.0 2020-01-01  ...           0           0           0   \n",
       "2          0.0        0.0 2020-01-01  ...           0           0           0   \n",
       "3      30000.0        0.0 2020-01-01  ...           0           0           0   \n",
       "4      30000.0        0.0 2020-01-01  ...           0           0           0   \n",
       "\n",
       "  statute_510 statute_511 statute_512 statute_513 statute_514 statute_515  \\\n",
       "0           0           0           0           0           0           0   \n",
       "1           0           0           0           0           0           0   \n",
       "2           0           0           0           0           0           0   \n",
       "3           0           0           0           0           0           0   \n",
       "4           0           0           0           0           0           0   \n",
       "\n",
       "  statute_516  \n",
       "0           0  \n",
       "1           0  \n",
       "2           0  \n",
       "3           0  \n",
       "4           0  \n",
       "\n",
       "[5 rows x 543 columns]"
      ]
     },
     "execution_count": 12,
     "metadata": {},
     "output_type": "execute_result"
    }
   ],
   "source": [
    "df.head()"
   ]
  },
  {
   "cell_type": "markdown",
   "metadata": {},
   "source": [
    "## Preliminary analysis"
   ]
  },
  {
   "cell_type": "markdown",
   "metadata": {},
   "source": [
    "## Q1.1"
   ]
  },
  {
   "cell_type": "markdown",
   "metadata": {},
   "source": [
    "## Q1.2 "
   ]
  },
  {
   "cell_type": "markdown",
   "metadata": {},
   "source": [
    "## Q1.3 What neighborhoods are highly impacted by bail?"
   ]
  },
  {
   "cell_type": "markdown",
   "metadata": {},
   "source": [
    "The following visualizations shows that monetary bail largely impacts those who live in areas with severe poverty. \n",
    "* Left: Number of monetary bail cases by zip code. \n",
    "    * (We can regenerate the image for entire year of 2020 once we have the data) \n",
    "* Right: From US Census Bureau ASC 5-year estimate from 2018. \n",
    "    * data and link to table stored at 'data/poverty'.\n",
    "    * Maybe we can grab 2020 data\n",
    "\n",
    "data          |  visualization\n",
    ":-------------------------:|:-------------------------:\n",
    "Case count of monetary bail by zip code | <img src=\"visualizations/monetary_bail_case_count.png\" alt=\"drawing\" width=\"800\"/>  |\n",
    "Percentage of population living under poverty by zip code | <img src=\"visualizations/percent_below_poverty.png\" alt=\"drawing\" width=\"800\"/> | "
   ]
  },
  {
   "cell_type": "markdown",
   "metadata": {},
   "source": [
    "The following visualizations show that the median household income is higher than median bail amount (\\$25K) in many zip codes. \n",
    "* Left: median monetary bail amount by zip code.\n",
    "    * Median computed only for zipcodes that had 6 or more cases.  \n",
    "    * Median bail amount is usually \\$25K\n",
    "    * We can regenerate the image once we have 2020 data available. \n",
    "* Right: median household income by zipcode\n",
    "    * From US Cenus Bureau 2018 ASC 5-year estimate from 2018. \n",
    "    * data and link to table stored at 'data/income' \n",
    "    * Maybe we can grab 2020 data\n",
    "\n",
    "\n",
    "data          |  visualization\n",
    ":-------------------------:|:-------------------------:\n",
    "Median monetary bail amount by zip code            | <img src=\"visualizations/bail_amount.png\" alt=\"drawing\" width=\"800\"/> |  \n",
    "Median household income by zip code | <img src=\"visualizations/income.png\" alt=\"drawing\" width=\"800\"/>\n"
   ]
  },
  {
   "cell_type": "markdown",
   "metadata": {},
   "source": [
    "## Q2.1 Relationship between bail type / amount and various factors"
   ]
  },
  {
   "cell_type": "markdown",
   "metadata": {},
   "source": [
    "### Q: Are bail type and attorney type related?"
   ]
  },
  {
   "cell_type": "code",
   "execution_count": 13,
   "metadata": {},
   "outputs": [
    {
     "data": {
      "text/html": [
       "<div>\n",
       "<style scoped>\n",
       "    .dataframe tbody tr th:only-of-type {\n",
       "        vertical-align: middle;\n",
       "    }\n",
       "\n",
       "    .dataframe tbody tr th {\n",
       "        vertical-align: top;\n",
       "    }\n",
       "\n",
       "    .dataframe thead th {\n",
       "        text-align: right;\n",
       "    }\n",
       "</style>\n",
       "<table border=\"1\" class=\"dataframe\">\n",
       "  <thead>\n",
       "    <tr style=\"text-align: right;\">\n",
       "      <th>bail_type</th>\n",
       "      <th>Denied</th>\n",
       "      <th>Monetary</th>\n",
       "      <th>Nonmonetary</th>\n",
       "      <th>ROR</th>\n",
       "      <th>Unsecured</th>\n",
       "    </tr>\n",
       "    <tr>\n",
       "      <th>attorney_type</th>\n",
       "      <th></th>\n",
       "      <th></th>\n",
       "      <th></th>\n",
       "      <th></th>\n",
       "      <th></th>\n",
       "    </tr>\n",
       "  </thead>\n",
       "  <tbody>\n",
       "    <tr>\n",
       "      <th>Court Appointed</th>\n",
       "      <td>123</td>\n",
       "      <td>1208</td>\n",
       "      <td>7</td>\n",
       "      <td>382</td>\n",
       "      <td>578</td>\n",
       "    </tr>\n",
       "    <tr>\n",
       "      <th>Private</th>\n",
       "      <td>160</td>\n",
       "      <td>3658</td>\n",
       "      <td>7</td>\n",
       "      <td>878</td>\n",
       "      <td>782</td>\n",
       "    </tr>\n",
       "    <tr>\n",
       "      <th>Public</th>\n",
       "      <td>51</td>\n",
       "      <td>6783</td>\n",
       "      <td>149</td>\n",
       "      <td>5471</td>\n",
       "      <td>3605</td>\n",
       "    </tr>\n",
       "  </tbody>\n",
       "</table>\n",
       "</div>"
      ],
      "text/plain": [
       "bail_type        Denied  Monetary  Nonmonetary   ROR  Unsecured\n",
       "attorney_type                                                  \n",
       "Court Appointed     123      1208            7   382        578\n",
       "Private             160      3658            7   878        782\n",
       "Public               51      6783          149  5471       3605"
      ]
     },
     "execution_count": 13,
     "metadata": {},
     "output_type": "execute_result"
    }
   ],
   "source": [
    "df_attorney = pd.crosstab(index = df['attorney_type'], columns =df['bail_type'])\n",
    "df_attorney"
   ]
  },
  {
   "cell_type": "code",
   "execution_count": 15,
   "metadata": {},
   "outputs": [
    {
     "ename": "KeyError",
     "evalue": "'Nominal'",
     "output_type": "error",
     "traceback": [
      "\u001b[0;31m---------------------------------------------------------------------------\u001b[0m",
      "\u001b[0;31mKeyError\u001b[0m                                  Traceback (most recent call last)",
      "\u001b[0;32m~/opt/anaconda3/envs/pbf/lib/python3.8/site-packages/pandas/core/indexes/base.py\u001b[0m in \u001b[0;36mget_loc\u001b[0;34m(self, key, method, tolerance)\u001b[0m\n\u001b[1;32m   3079\u001b[0m             \u001b[0;32mtry\u001b[0m\u001b[0;34m:\u001b[0m\u001b[0;34m\u001b[0m\u001b[0;34m\u001b[0m\u001b[0m\n\u001b[0;32m-> 3080\u001b[0;31m                 \u001b[0;32mreturn\u001b[0m \u001b[0mself\u001b[0m\u001b[0;34m.\u001b[0m\u001b[0m_engine\u001b[0m\u001b[0;34m.\u001b[0m\u001b[0mget_loc\u001b[0m\u001b[0;34m(\u001b[0m\u001b[0mcasted_key\u001b[0m\u001b[0;34m)\u001b[0m\u001b[0;34m\u001b[0m\u001b[0;34m\u001b[0m\u001b[0m\n\u001b[0m\u001b[1;32m   3081\u001b[0m             \u001b[0;32mexcept\u001b[0m \u001b[0mKeyError\u001b[0m \u001b[0;32mas\u001b[0m \u001b[0merr\u001b[0m\u001b[0;34m:\u001b[0m\u001b[0;34m\u001b[0m\u001b[0;34m\u001b[0m\u001b[0m\n",
      "\u001b[0;32mpandas/_libs/index.pyx\u001b[0m in \u001b[0;36mpandas._libs.index.IndexEngine.get_loc\u001b[0;34m()\u001b[0m\n",
      "\u001b[0;32mpandas/_libs/index.pyx\u001b[0m in \u001b[0;36mpandas._libs.index.IndexEngine.get_loc\u001b[0;34m()\u001b[0m\n",
      "\u001b[0;32mpandas/_libs/hashtable_class_helper.pxi\u001b[0m in \u001b[0;36mpandas._libs.hashtable.PyObjectHashTable.get_item\u001b[0;34m()\u001b[0m\n",
      "\u001b[0;32mpandas/_libs/hashtable_class_helper.pxi\u001b[0m in \u001b[0;36mpandas._libs.hashtable.PyObjectHashTable.get_item\u001b[0;34m()\u001b[0m\n",
      "\u001b[0;31mKeyError\u001b[0m: 'Nominal'",
      "\nThe above exception was the direct cause of the following exception:\n",
      "\u001b[0;31mKeyError\u001b[0m                                  Traceback (most recent call last)",
      "\u001b[0;32m<ipython-input-15-a9e685a8d80a>\u001b[0m in \u001b[0;36m<module>\u001b[0;34m\u001b[0m\n\u001b[1;32m      1\u001b[0m \u001b[0;31m# since there are only a few nominal and non-monetary, combine them into 'other'\u001b[0m\u001b[0;34m\u001b[0m\u001b[0;34m\u001b[0m\u001b[0;34m\u001b[0m\u001b[0m\n\u001b[0;32m----> 2\u001b[0;31m \u001b[0mdf_attorney\u001b[0m\u001b[0;34m[\u001b[0m\u001b[0;34m'Other'\u001b[0m\u001b[0;34m]\u001b[0m \u001b[0;34m=\u001b[0m \u001b[0mdf_attorney\u001b[0m\u001b[0;34m[\u001b[0m\u001b[0;34m'Nominal'\u001b[0m\u001b[0;34m]\u001b[0m \u001b[0;34m+\u001b[0m \u001b[0mdf_attorney\u001b[0m\u001b[0;34m[\u001b[0m\u001b[0;34m'Nonmonetary'\u001b[0m\u001b[0;34m]\u001b[0m\u001b[0;34m\u001b[0m\u001b[0;34m\u001b[0m\u001b[0m\n\u001b[0m",
      "\u001b[0;32m~/opt/anaconda3/envs/pbf/lib/python3.8/site-packages/pandas/core/frame.py\u001b[0m in \u001b[0;36m__getitem__\u001b[0;34m(self, key)\u001b[0m\n\u001b[1;32m   3022\u001b[0m             \u001b[0;32mif\u001b[0m \u001b[0mself\u001b[0m\u001b[0;34m.\u001b[0m\u001b[0mcolumns\u001b[0m\u001b[0;34m.\u001b[0m\u001b[0mnlevels\u001b[0m \u001b[0;34m>\u001b[0m \u001b[0;36m1\u001b[0m\u001b[0;34m:\u001b[0m\u001b[0;34m\u001b[0m\u001b[0;34m\u001b[0m\u001b[0m\n\u001b[1;32m   3023\u001b[0m                 \u001b[0;32mreturn\u001b[0m \u001b[0mself\u001b[0m\u001b[0;34m.\u001b[0m\u001b[0m_getitem_multilevel\u001b[0m\u001b[0;34m(\u001b[0m\u001b[0mkey\u001b[0m\u001b[0;34m)\u001b[0m\u001b[0;34m\u001b[0m\u001b[0;34m\u001b[0m\u001b[0m\n\u001b[0;32m-> 3024\u001b[0;31m             \u001b[0mindexer\u001b[0m \u001b[0;34m=\u001b[0m \u001b[0mself\u001b[0m\u001b[0;34m.\u001b[0m\u001b[0mcolumns\u001b[0m\u001b[0;34m.\u001b[0m\u001b[0mget_loc\u001b[0m\u001b[0;34m(\u001b[0m\u001b[0mkey\u001b[0m\u001b[0;34m)\u001b[0m\u001b[0;34m\u001b[0m\u001b[0;34m\u001b[0m\u001b[0m\n\u001b[0m\u001b[1;32m   3025\u001b[0m             \u001b[0;32mif\u001b[0m \u001b[0mis_integer\u001b[0m\u001b[0;34m(\u001b[0m\u001b[0mindexer\u001b[0m\u001b[0;34m)\u001b[0m\u001b[0;34m:\u001b[0m\u001b[0;34m\u001b[0m\u001b[0;34m\u001b[0m\u001b[0m\n\u001b[1;32m   3026\u001b[0m                 \u001b[0mindexer\u001b[0m \u001b[0;34m=\u001b[0m \u001b[0;34m[\u001b[0m\u001b[0mindexer\u001b[0m\u001b[0;34m]\u001b[0m\u001b[0;34m\u001b[0m\u001b[0;34m\u001b[0m\u001b[0m\n",
      "\u001b[0;32m~/opt/anaconda3/envs/pbf/lib/python3.8/site-packages/pandas/core/indexes/base.py\u001b[0m in \u001b[0;36mget_loc\u001b[0;34m(self, key, method, tolerance)\u001b[0m\n\u001b[1;32m   3080\u001b[0m                 \u001b[0;32mreturn\u001b[0m \u001b[0mself\u001b[0m\u001b[0;34m.\u001b[0m\u001b[0m_engine\u001b[0m\u001b[0;34m.\u001b[0m\u001b[0mget_loc\u001b[0m\u001b[0;34m(\u001b[0m\u001b[0mcasted_key\u001b[0m\u001b[0;34m)\u001b[0m\u001b[0;34m\u001b[0m\u001b[0;34m\u001b[0m\u001b[0m\n\u001b[1;32m   3081\u001b[0m             \u001b[0;32mexcept\u001b[0m \u001b[0mKeyError\u001b[0m \u001b[0;32mas\u001b[0m \u001b[0merr\u001b[0m\u001b[0;34m:\u001b[0m\u001b[0;34m\u001b[0m\u001b[0;34m\u001b[0m\u001b[0m\n\u001b[0;32m-> 3082\u001b[0;31m                 \u001b[0;32mraise\u001b[0m \u001b[0mKeyError\u001b[0m\u001b[0;34m(\u001b[0m\u001b[0mkey\u001b[0m\u001b[0;34m)\u001b[0m \u001b[0;32mfrom\u001b[0m \u001b[0merr\u001b[0m\u001b[0;34m\u001b[0m\u001b[0;34m\u001b[0m\u001b[0m\n\u001b[0m\u001b[1;32m   3083\u001b[0m \u001b[0;34m\u001b[0m\u001b[0m\n\u001b[1;32m   3084\u001b[0m         \u001b[0;32mif\u001b[0m \u001b[0mtolerance\u001b[0m \u001b[0;32mis\u001b[0m \u001b[0;32mnot\u001b[0m \u001b[0;32mNone\u001b[0m\u001b[0;34m:\u001b[0m\u001b[0;34m\u001b[0m\u001b[0;34m\u001b[0m\u001b[0m\n",
      "\u001b[0;31mKeyError\u001b[0m: 'Nominal'"
     ]
    }
   ],
   "source": [
    "# since there are only a few nominal and non-monetary, combine them into 'other'\n",
    "df_attorney['Other'] = df_attorney['Nominal'] + df_attorney['Nonmonetary']"
   ]
  },
  {
   "cell_type": "code",
   "execution_count": 73,
   "metadata": {},
   "outputs": [
    {
     "data": {
      "image/png": "[encoded data removed]",
      "text/plain": [
       "<Figure size 1080x1080 with 3 Axes>"
      ]
     },
     "metadata": {},
     "output_type": "display_data"
    }
   ],
   "source": [
    "bail_types = ['Monetary','ROR', 'Unsecured', 'Denied','Other']\n",
    "fig, ax = plt.subplots(ncols = 3, figsize = (15, 15))\n",
    "plt.rcParams['font.size'] = 15\n",
    "fig.suptitle('% of bail type for attorney type')\n",
    "ax[0].pie(df_attorney.loc['Public',bail_types], labels = bail_types)\n",
    "ax[0].set_title('Public')\n",
    "ax[1].pie(df_attorney.loc['Court Appointed',bail_types], labels = bail_types)\n",
    "ax[1].set_title('Court Appointed')\n",
    "ax[2].pie(df_attorney.loc['Private',bail_types], labels = bail_types)\n",
    "ax[2].set_title('Private')\n",
    "# common legend\n",
    "fig.subplots_adjust(top=1.5, left=0.1, right=0.9, bottom=0.12)  # create some space below the plots by increasing the bottom-value\n",
    "ax.flatten()[-2].legend(loc='upper center', bbox_to_anchor=(1.1, 0), ncol=4)\n",
    "\n",
    "plt.show()"
   ]
  },
  {
   "cell_type": "code",
   "execution_count": 16,
   "metadata": {},
   "outputs": [
    {
     "ename": "KeyError",
     "evalue": "\"['Nominal' 'Other'] not found in axis\"",
     "output_type": "error",
     "traceback": [
      "\u001b[0;31m---------------------------------------------------------------------------\u001b[0m",
      "\u001b[0;31mKeyError\u001b[0m                                  Traceback (most recent call last)",
      "\u001b[0;32m<ipython-input-16-4237c913eac8>\u001b[0m in \u001b[0;36m<module>\u001b[0;34m\u001b[0m\n\u001b[1;32m      1\u001b[0m \u001b[0;31m# remove 'nominal' since we don't have enough cases\u001b[0m\u001b[0;34m\u001b[0m\u001b[0;34m\u001b[0m\u001b[0;34m\u001b[0m\u001b[0m\n\u001b[0;32m----> 2\u001b[0;31m \u001b[0mdf_attorney\u001b[0m\u001b[0;34m.\u001b[0m\u001b[0mdrop\u001b[0m\u001b[0;34m(\u001b[0m\u001b[0mcolumns\u001b[0m \u001b[0;34m=\u001b[0m \u001b[0;34m[\u001b[0m\u001b[0;34m'Nominal'\u001b[0m\u001b[0;34m,\u001b[0m \u001b[0;34m'Nonmonetary'\u001b[0m\u001b[0;34m,\u001b[0m \u001b[0;34m'Other'\u001b[0m\u001b[0;34m]\u001b[0m\u001b[0;34m,\u001b[0m \u001b[0minplace\u001b[0m \u001b[0;34m=\u001b[0m \u001b[0;32mTrue\u001b[0m\u001b[0;34m)\u001b[0m\u001b[0;34m\u001b[0m\u001b[0;34m\u001b[0m\u001b[0m\n\u001b[0m\u001b[1;32m      3\u001b[0m \u001b[0;34m\u001b[0m\u001b[0m\n\u001b[1;32m      4\u001b[0m \u001b[0;31m# chi-squared test: Whether someone\u001b[0m\u001b[0;34m\u001b[0m\u001b[0;34m\u001b[0m\u001b[0;34m\u001b[0m\u001b[0m\n\u001b[1;32m      5\u001b[0m \u001b[0mchi2\u001b[0m\u001b[0;34m,\u001b[0m \u001b[0mp\u001b[0m\u001b[0;34m,\u001b[0m \u001b[0mdof\u001b[0m\u001b[0;34m,\u001b[0m \u001b[0mex\u001b[0m \u001b[0;34m=\u001b[0m \u001b[0mchi2_contingency\u001b[0m\u001b[0;34m(\u001b[0m\u001b[0mdf_bail_attorney\u001b[0m\u001b[0;34m)\u001b[0m\u001b[0;34m\u001b[0m\u001b[0;34m\u001b[0m\u001b[0m\n",
      "\u001b[0;32m~/opt/anaconda3/envs/pbf/lib/python3.8/site-packages/pandas/core/frame.py\u001b[0m in \u001b[0;36mdrop\u001b[0;34m(self, labels, axis, index, columns, level, inplace, errors)\u001b[0m\n\u001b[1;32m   4303\u001b[0m                 \u001b[0mweight\u001b[0m  \u001b[0;36m1.0\u001b[0m     \u001b[0;36m0.8\u001b[0m\u001b[0;34m\u001b[0m\u001b[0;34m\u001b[0m\u001b[0m\n\u001b[1;32m   4304\u001b[0m         \"\"\"\n\u001b[0;32m-> 4305\u001b[0;31m         return super().drop(\n\u001b[0m\u001b[1;32m   4306\u001b[0m             \u001b[0mlabels\u001b[0m\u001b[0;34m=\u001b[0m\u001b[0mlabels\u001b[0m\u001b[0;34m,\u001b[0m\u001b[0;34m\u001b[0m\u001b[0;34m\u001b[0m\u001b[0m\n\u001b[1;32m   4307\u001b[0m             \u001b[0maxis\u001b[0m\u001b[0;34m=\u001b[0m\u001b[0maxis\u001b[0m\u001b[0;34m,\u001b[0m\u001b[0;34m\u001b[0m\u001b[0;34m\u001b[0m\u001b[0m\n",
      "\u001b[0;32m~/opt/anaconda3/envs/pbf/lib/python3.8/site-packages/pandas/core/generic.py\u001b[0m in \u001b[0;36mdrop\u001b[0;34m(self, labels, axis, index, columns, level, inplace, errors)\u001b[0m\n\u001b[1;32m   4150\u001b[0m         \u001b[0;32mfor\u001b[0m \u001b[0maxis\u001b[0m\u001b[0;34m,\u001b[0m \u001b[0mlabels\u001b[0m \u001b[0;32min\u001b[0m \u001b[0maxes\u001b[0m\u001b[0;34m.\u001b[0m\u001b[0mitems\u001b[0m\u001b[0;34m(\u001b[0m\u001b[0;34m)\u001b[0m\u001b[0;34m:\u001b[0m\u001b[0;34m\u001b[0m\u001b[0;34m\u001b[0m\u001b[0m\n\u001b[1;32m   4151\u001b[0m             \u001b[0;32mif\u001b[0m \u001b[0mlabels\u001b[0m \u001b[0;32mis\u001b[0m \u001b[0;32mnot\u001b[0m \u001b[0;32mNone\u001b[0m\u001b[0;34m:\u001b[0m\u001b[0;34m\u001b[0m\u001b[0;34m\u001b[0m\u001b[0m\n\u001b[0;32m-> 4152\u001b[0;31m                 \u001b[0mobj\u001b[0m \u001b[0;34m=\u001b[0m \u001b[0mobj\u001b[0m\u001b[0;34m.\u001b[0m\u001b[0m_drop_axis\u001b[0m\u001b[0;34m(\u001b[0m\u001b[0mlabels\u001b[0m\u001b[0;34m,\u001b[0m \u001b[0maxis\u001b[0m\u001b[0;34m,\u001b[0m \u001b[0mlevel\u001b[0m\u001b[0;34m=\u001b[0m\u001b[0mlevel\u001b[0m\u001b[0;34m,\u001b[0m \u001b[0merrors\u001b[0m\u001b[0;34m=\u001b[0m\u001b[0merrors\u001b[0m\u001b[0;34m)\u001b[0m\u001b[0;34m\u001b[0m\u001b[0;34m\u001b[0m\u001b[0m\n\u001b[0m\u001b[1;32m   4153\u001b[0m \u001b[0;34m\u001b[0m\u001b[0m\n\u001b[1;32m   4154\u001b[0m         \u001b[0;32mif\u001b[0m \u001b[0minplace\u001b[0m\u001b[0;34m:\u001b[0m\u001b[0;34m\u001b[0m\u001b[0;34m\u001b[0m\u001b[0m\n",
      "\u001b[0;32m~/opt/anaconda3/envs/pbf/lib/python3.8/site-packages/pandas/core/generic.py\u001b[0m in \u001b[0;36m_drop_axis\u001b[0;34m(self, labels, axis, level, errors)\u001b[0m\n\u001b[1;32m   4185\u001b[0m                 \u001b[0mnew_axis\u001b[0m \u001b[0;34m=\u001b[0m \u001b[0maxis\u001b[0m\u001b[0;34m.\u001b[0m\u001b[0mdrop\u001b[0m\u001b[0;34m(\u001b[0m\u001b[0mlabels\u001b[0m\u001b[0;34m,\u001b[0m \u001b[0mlevel\u001b[0m\u001b[0;34m=\u001b[0m\u001b[0mlevel\u001b[0m\u001b[0;34m,\u001b[0m \u001b[0merrors\u001b[0m\u001b[0;34m=\u001b[0m\u001b[0merrors\u001b[0m\u001b[0;34m)\u001b[0m\u001b[0;34m\u001b[0m\u001b[0;34m\u001b[0m\u001b[0m\n\u001b[1;32m   4186\u001b[0m             \u001b[0;32melse\u001b[0m\u001b[0;34m:\u001b[0m\u001b[0;34m\u001b[0m\u001b[0;34m\u001b[0m\u001b[0m\n\u001b[0;32m-> 4187\u001b[0;31m                 \u001b[0mnew_axis\u001b[0m \u001b[0;34m=\u001b[0m \u001b[0maxis\u001b[0m\u001b[0;34m.\u001b[0m\u001b[0mdrop\u001b[0m\u001b[0;34m(\u001b[0m\u001b[0mlabels\u001b[0m\u001b[0;34m,\u001b[0m \u001b[0merrors\u001b[0m\u001b[0;34m=\u001b[0m\u001b[0merrors\u001b[0m\u001b[0;34m)\u001b[0m\u001b[0;34m\u001b[0m\u001b[0;34m\u001b[0m\u001b[0m\n\u001b[0m\u001b[1;32m   4188\u001b[0m             \u001b[0mresult\u001b[0m \u001b[0;34m=\u001b[0m \u001b[0mself\u001b[0m\u001b[0;34m.\u001b[0m\u001b[0mreindex\u001b[0m\u001b[0;34m(\u001b[0m\u001b[0;34m**\u001b[0m\u001b[0;34m{\u001b[0m\u001b[0maxis_name\u001b[0m\u001b[0;34m:\u001b[0m \u001b[0mnew_axis\u001b[0m\u001b[0;34m}\u001b[0m\u001b[0;34m)\u001b[0m\u001b[0;34m\u001b[0m\u001b[0;34m\u001b[0m\u001b[0m\n\u001b[1;32m   4189\u001b[0m \u001b[0;34m\u001b[0m\u001b[0m\n",
      "\u001b[0;32m~/opt/anaconda3/envs/pbf/lib/python3.8/site-packages/pandas/core/indexes/base.py\u001b[0m in \u001b[0;36mdrop\u001b[0;34m(self, labels, errors)\u001b[0m\n\u001b[1;32m   5589\u001b[0m         \u001b[0;32mif\u001b[0m \u001b[0mmask\u001b[0m\u001b[0;34m.\u001b[0m\u001b[0many\u001b[0m\u001b[0;34m(\u001b[0m\u001b[0;34m)\u001b[0m\u001b[0;34m:\u001b[0m\u001b[0;34m\u001b[0m\u001b[0;34m\u001b[0m\u001b[0m\n\u001b[1;32m   5590\u001b[0m             \u001b[0;32mif\u001b[0m \u001b[0merrors\u001b[0m \u001b[0;34m!=\u001b[0m \u001b[0;34m\"ignore\"\u001b[0m\u001b[0;34m:\u001b[0m\u001b[0;34m\u001b[0m\u001b[0;34m\u001b[0m\u001b[0m\n\u001b[0;32m-> 5591\u001b[0;31m                 \u001b[0;32mraise\u001b[0m \u001b[0mKeyError\u001b[0m\u001b[0;34m(\u001b[0m\u001b[0;34mf\"{labels[mask]} not found in axis\"\u001b[0m\u001b[0;34m)\u001b[0m\u001b[0;34m\u001b[0m\u001b[0;34m\u001b[0m\u001b[0m\n\u001b[0m\u001b[1;32m   5592\u001b[0m             \u001b[0mindexer\u001b[0m \u001b[0;34m=\u001b[0m \u001b[0mindexer\u001b[0m\u001b[0;34m[\u001b[0m\u001b[0;34m~\u001b[0m\u001b[0mmask\u001b[0m\u001b[0;34m]\u001b[0m\u001b[0;34m\u001b[0m\u001b[0;34m\u001b[0m\u001b[0m\n\u001b[1;32m   5593\u001b[0m         \u001b[0;32mreturn\u001b[0m \u001b[0mself\u001b[0m\u001b[0;34m.\u001b[0m\u001b[0mdelete\u001b[0m\u001b[0;34m(\u001b[0m\u001b[0mindexer\u001b[0m\u001b[0;34m)\u001b[0m\u001b[0;34m\u001b[0m\u001b[0;34m\u001b[0m\u001b[0m\n",
      "\u001b[0;31mKeyError\u001b[0m: \"['Nominal' 'Other'] not found in axis\""
     ]
    }
   ],
   "source": [
    "# remove 'nominal' since we don't have enough cases \n",
    "df_attorney.drop(columns = ['Nominal', 'Nonmonetary', 'Other'], inplace = True)\n",
    "\n",
    "# chi-squared test: Whether someone \n",
    "chi2, p, dof, ex = chi2_contingency(df_bail_attorney)\n",
    "print('p-value of chi-square test: ', p)"
   ]
  },
  {
   "cell_type": "markdown",
   "metadata": {},
   "source": [
    "* chi-square test tells us that **bail type and attorney type are related.**  \n",
    "* Looking at the pie chart for cases with public defenders, around 1/3 of cases end up with monetary, ROR, or unsecured bail. In contrast, cases with private attorney representation ends up with higher proportion of monetary bail cases. \n",
    "* This might be because defendants with serious offenses (and therefore more likely to end up with monetary bail) may be more likely to seek representation by private attornies."
   ]
  },
  {
   "cell_type": "markdown",
   "metadata": {},
   "source": [
    "### Q: Is bail amount and attorney type related?"
   ]
  },
  {
   "cell_type": "code",
   "execution_count": 17,
   "metadata": {},
   "outputs": [],
   "source": [
    "df_monetary = df[df['bail_type'] == 'Monetary'][['attorney_type', 'bail_amount']]"
   ]
  },
  {
   "cell_type": "code",
   "execution_count": 126,
   "metadata": {},
   "outputs": [
    {
     "data": {
      "image/png": "[encoded data removed]",
      "text/plain": [
       "<Figure size 432x288 with 1 Axes>"
      ]
     },
     "metadata": {},
     "output_type": "display_data"
    }
   ],
   "source": [
    "ax = sns.boxplot(x = 'bail_amount', y = 'attorney_type', data = df_monetary)\n",
    "ax.set_xlim((0,300000))\n",
    "ax.set_xticks(ticks = range(0, 350000, 50000))\n",
    "ax.set_xticklabels(['0','50k','100k','150k','200k','250k','300k'])\n",
    "ax.set_xlabel('bail amount')\n",
    "ax.set_ylabel('attorney type')\n",
    "plt.show()"
   ]
  },
  {
   "cell_type": "code",
   "execution_count": 127,
   "metadata": {},
   "outputs": [
    {
     "name": "stdout",
     "output_type": "stream",
     "text": [
      "Median monetary bail amount for cases with public attorney:  25000.0\n",
      "Median monetary bail amount for cases with court appointed defender:  25000.0\n",
      "Median monetary bail amount for cases with private attorney:  50000.0\n"
     ]
    }
   ],
   "source": [
    "print('Median monetary bail amount for cases with public attorney: ', df_monetary[df_monetary['attorney_type'] == 'Public'].bail_amount.median())\n",
    "print('Median monetary bail amount for cases with court appointed defender: ', df_monetary[df_monetary['attorney_type'] == 'Court Appointed'].bail_amount.median())\n",
    "print('Median monetary bail amount for cases with private attorney: ', df_monetary[df_monetary['attorney_type'] == 'Private'].bail_amount.median())\n"
   ]
  },
  {
   "cell_type": "markdown",
   "metadata": {},
   "source": [
    "* It seems like cases with private attornies have **higher monetary bail amount**.\n",
    "* This may be due to the fact that defendants with serious offenses are more likely to hire private attornies."
   ]
  },
  {
   "cell_type": "markdown",
   "metadata": {},
   "source": [
    "## Q2.2"
   ]
  },
  {
   "cell_type": "markdown",
   "metadata": {},
   "source": [
    "## Q2.3 What are the strongest factors determining bail type / bail amount?"
   ]
  },
  {
   "cell_type": "markdown",
   "metadata": {},
   "source": [
    "* See Q2.1 for starters"
   ]
  },
  {
   "cell_type": "markdown",
   "metadata": {},
   "source": [
    "Potential targets:\n",
    "* bail amount\n",
    "* bail set bin\n",
    "* bail paid (yes/no)\n",
    "* bail type"
   ]
  },
  {
   "cell_type": "markdown",
   "metadata": {},
   "source": [
    "### Q2.3 a: bail type"
   ]
  },
  {
   "cell_type": "markdown",
   "metadata": {},
   "source": [
    "### Prepare features"
   ]
  },
  {
   "cell_type": "code",
   "execution_count": 18,
   "metadata": {},
   "outputs": [],
   "source": [
    "df.drop(columns = ['dob', 'arresting_officer', 'attorney', 'zip'], inplace = True)"
   ]
  },
  {
   "cell_type": "markdown",
   "metadata": {},
   "source": [
    "### Correlations among categorical variables  \n",
    "* Look at correlations among variables.  \n",
    "* Use to select features for the predictive model\n",
    "* Categorical variables to consider:\n",
    "    * bail type\n",
    "    * attorney type\n",
    "    * arresting officer\n",
    "    * magistrate \n",
    "    * zipcode\n",
    "* Variables to add later: race, gender, offense type"
   ]
  },
  {
   "cell_type": "code",
   "execution_count": 76,
   "metadata": {},
   "outputs": [],
   "source": [
    "def compute_cramers_V(contingency_table):\n",
    "    # comptues Cramers'V measure from the given table\n",
    "    # contingency_table: dataframe\n",
    "    \n",
    "    chi2 = chi2_contingency(contingency_table)[0]\n",
    "    \n",
    "    # sample size\n",
    "    N = np.array(contingency_table).sum()\n",
    "    k = min(contingency_table.shape)\n",
    "    return np.sqrt(chi2 / (N*(k-1)))"
   ]
  },
  {
   "cell_type": "code",
   "execution_count": 121,
   "metadata": {},
   "outputs": [],
   "source": [
    "def compute_cramersV_matrix(df, columns):\n",
    "    # columns: list of columns of df with categorical variables\n",
    "    n_variables = len(columns)\n",
    "    V_matrix = np.identity(n_variables)\n",
    "    \n",
    "    for pair in itertools.combinations(range(n_variables),2):\n",
    "        var1, var2 = pair\n",
    "        cramersV = compute_cramers_V(pd.crosstab(index = df[columns[var1]], columns = df[columns[var2]]))\n",
    "        V_matrix[var1, var2] = cramersV\n",
    "        V_matrix[var2, var1] = cramersV\n",
    "\n",
    "    return V_matrix"
   ]
  },
  {
   "cell_type": "code",
   "execution_count": 122,
   "metadata": {},
   "outputs": [],
   "source": [
    "variables = ['public_defender', 'bail_type', 'zipcode_clean','arresting_officer', 'bail_set_by']\n",
    "V_matrix = compute_cramersV_matrix(df, variables)"
   ]
  },
  {
   "cell_type": "code",
   "execution_count": 123,
   "metadata": {},
   "outputs": [
    {
     "data": {
      "image/png": "[encoded data removed]",
      "text/plain": [
       "<Figure size 432x288 with 2 Axes>"
      ]
     },
     "metadata": {
      "needs_background": "light"
     },
     "output_type": "display_data"
    }
   ],
   "source": [
    "labels = ['defender type', 'bail type', 'zipcode', 'arresting officer', 'magistrate']\n",
    "g = sns.heatmap(V_matrix, annot = True)\n",
    "g.set_xticklabels(labels, rotation = 45)\n",
    "g.set_yticklabels(labels, rotation = 0)\n",
    "plt.show()"
   ]
  },
  {
   "cell_type": "markdown",
   "metadata": {},
   "source": [
    "* Cramer's V score: [0,1], with 0: no association, 1: strong association\n",
    "* It looks like 'arresting officer' is highly correlated with other variables. Probably because officers are in charge of specific types of offenses.  \n",
    "* Caution: this correlation matrix doesn't remove low-frequency rows/columns during chi-square test. To validate results, should perform chi-square after adjusting frequency.\n",
    "    * Ex) zipcode, arresting officer, and magistrate probably have a lot of low frequency categories"
   ]
  },
  {
   "cell_type": "markdown",
   "metadata": {},
   "source": [
    "### Predictive Modeling"
   ]
  },
  {
   "cell_type": "markdown",
   "metadata": {},
   "source": [
    "#### Review Columns"
   ]
  },
  {
   "cell_type": "markdown",
   "metadata": {},
   "source": [
    "Arrest Date"
   ]
  },
  {
   "cell_type": "code",
   "execution_count": 19,
   "metadata": {},
   "outputs": [
    {
     "data": {
      "text/plain": [
       "[<matplotlib.lines.Line2D at 0x7f97487f7e50>]"
      ]
     },
     "execution_count": 19,
     "metadata": {},
     "output_type": "execute_result"
    },
    {
     "data": {
      "image/png": "[encoded data removed]",
      "text/plain": [
       "<Figure size 1080x360 with 1 Axes>"
      ]
     },
     "metadata": {},
     "output_type": "display_data"
    }
   ],
   "source": [
    "x = df['arrest_dt'].value_counts().index\n",
    "y = df['arrest_dt'].value_counts().values\n",
    "\n",
    "plt.figure(figsize=(15,5))\n",
    "plt.plot_date(x, y)"
   ]
  },
  {
   "cell_type": "markdown",
   "metadata": {},
   "source": [
    "Offense Date"
   ]
  },
  {
   "cell_type": "code",
   "execution_count": 20,
   "metadata": {},
   "outputs": [
    {
     "data": {
      "text/plain": [
       "[<matplotlib.lines.Line2D at 0x7f97488acf40>]"
      ]
     },
     "execution_count": 20,
     "metadata": {},
     "output_type": "execute_result"
    },
    {
     "data": {
      "image/png": "[encoded data removed]",
      "text/plain": [
       "<Figure size 1080x360 with 1 Axes>"
      ]
     },
     "metadata": {},
     "output_type": "display_data"
    }
   ],
   "source": [
    "x = df['offense_date'].value_counts().index\n",
    "y = df['offense_date'].value_counts().values\n",
    "\n",
    "plt.figure(figsize=(15,5))\n",
    "plt.plot_date(x, y)"
   ]
  },
  {
   "cell_type": "code",
   "execution_count": 21,
   "metadata": {},
   "outputs": [
    {
     "data": {
      "text/plain": [
       "[<matplotlib.lines.Line2D at 0x7f9748910e50>]"
      ]
     },
     "execution_count": 21,
     "metadata": {},
     "output_type": "execute_result"
    },
    {
     "data": {
      "image/png": "[encoded data removed]",
      "text/plain": [
       "<Figure size 1080x360 with 1 Axes>"
      ]
     },
     "metadata": {},
     "output_type": "display_data"
    }
   ],
   "source": [
    "filtered_count = df[df['offense_date'] > datetime(2020, 1, 1)]['offense_date'].value_counts()\n",
    "\n",
    "x = filtered_count.index\n",
    "y = filtered_count.values\n",
    "\n",
    "plt.figure(figsize=(15,5))\n",
    "plt.plot_date(x, y)\n",
    "\n",
    "# date or date range (e.g. month, quarter) not a very interpretable feature\n",
    "# consider using day of the week"
   ]
  },
  {
   "cell_type": "markdown",
   "metadata": {},
   "source": [
    "Bail Date\n",
    "\n",
    "TODO\n",
    "* Look into what bail date is referring to (date bail is assigned? date bail is paid?)"
   ]
  },
  {
   "cell_type": "markdown",
   "metadata": {},
   "source": [
    "Attorney Type"
   ]
  },
  {
   "cell_type": "code",
   "execution_count": 22,
   "metadata": {},
   "outputs": [
    {
     "data": {
      "text/plain": [
       "Public             16059\n",
       "Private             5485\n",
       "Court Appointed     2298\n",
       "Name: attorney_type, dtype: int64"
      ]
     },
     "execution_count": 22,
     "metadata": {},
     "output_type": "execute_result"
    }
   ],
   "source": [
    "df['attorney_type'].value_counts()"
   ]
  },
  {
   "cell_type": "markdown",
   "metadata": {},
   "source": [
    "Magistrate ('bail_set_by' column)\n",
    "\n",
    "* Use top magistrates from earlier analysis (bucket rest into \"other\")?"
   ]
  },
  {
   "cell_type": "code",
   "execution_count": 23,
   "metadata": {},
   "outputs": [
    {
     "data": {
      "text/plain": [
       "O'Brien, James                4520\n",
       "Bernard, Francis X.           4460\n",
       "Stack, Patrick                4063\n",
       "E-Filing Judge                3488\n",
       "Rigmaiden-DeLeon, Marilyn     1761\n",
       "Rainey, Debra                 1107\n",
       "Williams, Naomi                992\n",
       "Connor, Lauren                 985\n",
       "Devlin, Kevin R.               899\n",
       "No Magistrate Found            734\n",
       "Rodriguez, Teresa              221\n",
       "Bass, Sheldon                  189\n",
       "Ebert, Stefanie                185\n",
       "Caudo, Michael A.              143\n",
       "Capone, Joseph P.              138\n",
       "Hope, Christine M.              74\n",
       "Wolf, Matthew S.                65\n",
       "Conroy, David H.                62\n",
       "Lewandowski, Henry 3rd          50\n",
       "Pittman, Joffie C. III          28\n",
       "Bryant-Powell, Crystal          18\n",
       "DeLeon, James M.                12\n",
       "Lynn, James Murray              10\n",
       "Meehan, William Austin Jr.       6\n",
       "Bedford, Sheila M.               5\n",
       "Frazier-Lyde, Jacquelyn          4\n",
       "Neifield, Marsha H.              3\n",
       "Pew, Wendy L.                    3\n",
       "Simmons, Karen Y.                3\n",
       "Washington, Craig M.             2\n",
       "Jimenez, Nazario Jr.             2\n",
       "Shuter, David C.                 2\n",
       "Gordon, Richard J.               1\n",
       "Brady, Frank T.                  1\n",
       "Scott, Kai                       1\n",
       "Williams, Marvin Louis Sr.       1\n",
       "Sawyer, Stephanie                1\n",
       "Williams-Losier, Sharon          1\n",
       "Name: bail_set_by, dtype: int64"
      ]
     },
     "execution_count": 23,
     "metadata": {},
     "output_type": "execute_result"
    }
   ],
   "source": [
    "df['bail_set_by'].value_counts()"
   ]
  },
  {
   "cell_type": "markdown",
   "metadata": {},
   "source": [
    "Zipcode\n",
    "\n",
    "* Group areas?"
   ]
  },
  {
   "cell_type": "code",
   "execution_count": 24,
   "metadata": {},
   "outputs": [
    {
     "data": {
      "text/plain": [
       "648"
      ]
     },
     "execution_count": 24,
     "metadata": {},
     "output_type": "execute_result"
    }
   ],
   "source": [
    "df['zipcode_clean'].nunique()"
   ]
  },
  {
   "cell_type": "markdown",
   "metadata": {},
   "source": [
    "Age Group"
   ]
  },
  {
   "cell_type": "code",
   "execution_count": 28,
   "metadata": {},
   "outputs": [
    {
     "data": {
      "text/plain": [
       "26 to 33    7170\n",
       "18 to 25    6926\n",
       "34 to 41    4681\n",
       "42 to 49    2573\n",
       "50 to 57    1725\n",
       "58 to 64     755\n",
       "senior       275\n",
       "minor        135\n",
       "Name: age_group, dtype: int64"
      ]
     },
     "execution_count": 28,
     "metadata": {},
     "output_type": "execute_result"
    }
   ],
   "source": [
    "df['age_group'].value_counts()"
   ]
  },
  {
   "cell_type": "markdown",
   "metadata": {},
   "source": [
    "Preliminary Hearing Date & Time\n",
    "\n",
    "*Exclude from modeling*\n",
    "\n",
    "* Bail is determined at initial appearance/arraignment, not at preliminary hearing ([American Bar](https://www.americanbar.org/groups/public_education/resources/law_related_education_network/how_courts_work/pretrial_appearances/#:~:text=The%20matter%20is%20set%20for,sets%20the%20amount%20of%20bail.))\n",
    "* Preliminary hearings only apply to felonies ([American Bar](https://www.americanbar.org/groups/public_education/resources/law_related_education_network/how_courts_work/pretrial_appearances/#:~:text=The%20matter%20is%20set%20for,sets%20the%20amount%20of%20bail.))\n",
    "* Prelims only happen when the defendant pleads not guilty in arraignment ([Nolo](https://www.nolo.com/legal-encyclopedia/all-about-preliminary-hearings-or-prelims.html))\n",
    "* Defendant may make motion to reduce bail at prelims ([PA law firm](https://goldsteinmehta.com/blog/what-happens-at-the-preliminary-hearing))"
   ]
  },
  {
   "cell_type": "markdown",
   "metadata": {},
   "source": [
    "Features to include in model:\n",
    "* age group\n",
    "* ~~arrest date weekday~~\n",
    "* attorney type\n",
    "* ~~magistrate, i.e. bail_set_by (must be grouped)~~\n",
    "* offense type\n",
    "* race\n",
    "* sex"
   ]
  },
  {
   "cell_type": "markdown",
   "metadata": {},
   "source": [
    "**Prepare data for modeling**"
   ]
  },
  {
   "cell_type": "code",
   "execution_count": 21,
   "metadata": {},
   "outputs": [
    {
     "data": {
      "text/html": [
       "<div>\n",
       "<style scoped>\n",
       "    .dataframe tbody tr th:only-of-type {\n",
       "        vertical-align: middle;\n",
       "    }\n",
       "\n",
       "    .dataframe tbody tr th {\n",
       "        vertical-align: top;\n",
       "    }\n",
       "\n",
       "    .dataframe thead th {\n",
       "        text-align: right;\n",
       "    }\n",
       "</style>\n",
       "<table border=\"1\" class=\"dataframe\">\n",
       "  <thead>\n",
       "    <tr style=\"text-align: right;\">\n",
       "      <th></th>\n",
       "      <th>bail_type</th>\n",
       "      <th>age_group</th>\n",
       "      <th>attorney_type</th>\n",
       "      <th>offense_type</th>\n",
       "      <th>race</th>\n",
       "      <th>sex</th>\n",
       "    </tr>\n",
       "  </thead>\n",
       "  <tbody>\n",
       "    <tr>\n",
       "      <th>0</th>\n",
       "      <td>ROR</td>\n",
       "      <td>18 to 25</td>\n",
       "      <td>Public</td>\n",
       "      <td>driving after imbibing alcohol or utilizing drugs</td>\n",
       "      <td>White</td>\n",
       "      <td>Male</td>\n",
       "    </tr>\n",
       "    <tr>\n",
       "      <th>0</th>\n",
       "      <td>ROR</td>\n",
       "      <td>18 to 25</td>\n",
       "      <td>Public</td>\n",
       "      <td>general traffic offense</td>\n",
       "      <td>White</td>\n",
       "      <td>Male</td>\n",
       "    </tr>\n",
       "    <tr>\n",
       "      <th>1</th>\n",
       "      <td>ROR</td>\n",
       "      <td>18 to 25</td>\n",
       "      <td>Private</td>\n",
       "      <td>driving after imbibing alcohol or utilizing drugs</td>\n",
       "      <td>White</td>\n",
       "      <td>Male</td>\n",
       "    </tr>\n",
       "    <tr>\n",
       "      <th>2</th>\n",
       "      <td>ROR</td>\n",
       "      <td>50 to 57</td>\n",
       "      <td>Public</td>\n",
       "      <td>theft and related offenses</td>\n",
       "      <td>Black</td>\n",
       "      <td>Male</td>\n",
       "    </tr>\n",
       "    <tr>\n",
       "      <th>3</th>\n",
       "      <td>Monetary</td>\n",
       "      <td>26 to 33</td>\n",
       "      <td>Public</td>\n",
       "      <td>assault</td>\n",
       "      <td>Black</td>\n",
       "      <td>Male</td>\n",
       "    </tr>\n",
       "  </tbody>\n",
       "</table>\n",
       "</div>"
      ],
      "text/plain": [
       "  bail_type age_group attorney_type  \\\n",
       "0       ROR  18 to 25        Public   \n",
       "0       ROR  18 to 25        Public   \n",
       "1       ROR  18 to 25       Private   \n",
       "2       ROR  50 to 57        Public   \n",
       "3  Monetary  26 to 33        Public   \n",
       "\n",
       "                                        offense_type   race   sex  \n",
       "0  driving after imbibing alcohol or utilizing drugs  White  Male  \n",
       "0                            general traffic offense  White  Male  \n",
       "1  driving after imbibing alcohol or utilizing drugs  White  Male  \n",
       "2                         theft and related offenses  Black  Male  \n",
       "3                                            assault  Black  Male  "
      ]
     },
     "execution_count": 21,
     "metadata": {},
     "output_type": "execute_result"
    }
   ],
   "source": [
    "model_df = df.loc[:, ['bail_type', 'age_group', 'attorney_type', 'offense_type', 'race', 'sex']].explode('offense_type').copy()\n",
    "\n",
    "model_df.head()"
   ]
  },
  {
   "cell_type": "code",
   "execution_count": 22,
   "metadata": {},
   "outputs": [
    {
     "data": {
      "text/plain": [
       "assault                                                          21121\n",
       "drug and substance                                               12964\n",
       "inchoate crimes                                                  10936\n",
       "firearms and other dangerous articles                             9689\n",
       "theft and related offenses                                        9396\n",
       "burglary and other criminal intrusion                             4282\n",
       "arson, criminal mischief, and other property destruction          2222\n",
       "driving after imbibing alcohol or utilizing drugs                 1941\n",
       "sexual offenses                                                   1587\n",
       "robbery                                                           1396\n",
       "falsification and intimidation                                    1144\n",
       "general traffic offense                                           1051\n",
       "domestic relations and abuse                                       992\n",
       "obstructing governmental operations                                912\n",
       "forgery and fraudulent practices                                   792\n",
       "minors                                                             783\n",
       "kidnapping                                                         526\n",
       "offenses against the family                                        501\n",
       "arrest prior to requisition                                        421\n",
       "riot, disorderly conduct and related offenses                      415\n",
       "serious traffic offense                                            399\n",
       "NA                                                                 361\n",
       "criminal homicide                                                  271\n",
       "accidents report                                                   238\n",
       "other offenses                                                     217\n",
       "public indecency                                                   108\n",
       "unknown statute                                                     92\n",
       "vehicles: other required equipment                                  69\n",
       "vehicles: lighting equipment                                        62\n",
       "nuisances                                                           14\n",
       "crimes against unborn child                                         11\n",
       "public utilities                                                    10\n",
       "computer offense                                                     9\n",
       "abuse of office                                                      7\n",
       "trade and commerce                                                   6\n",
       "vehicle chop shop and illegally obtained and altered property        3\n",
       "bribery and corrupt influence                                        3\n",
       "human trafficking                                                    1\n",
       "Name: offense_type, dtype: int64"
      ]
     },
     "execution_count": 22,
     "metadata": {},
     "output_type": "execute_result"
    }
   ],
   "source": [
    "# find least common offense_type value\n",
    "\n",
    "model_df['offense_type'].value_counts()"
   ]
  },
  {
   "cell_type": "code",
   "execution_count": 23,
   "metadata": {},
   "outputs": [],
   "source": [
    "model_df = model_df.loc[model_df['offense_type'] != 'NA']"
   ]
  },
  {
   "cell_type": "code",
   "execution_count": 24,
   "metadata": {},
   "outputs": [],
   "source": [
    "# drop rows with unknown values and least common category\n",
    "# least likely to get information in model from least common category (not enough data)\n",
    "\n",
    "model_df = model_df.loc[model_df['offense_type'] != 'human trafficking']\n",
    "model_df = model_df.loc[model_df['age_group'] != 'minor']\n",
    "model_df = model_df.loc[model_df['attorney_type'] != 'Court Appointed']\n",
    "model_df = model_df.loc[(model_df['race'] != 'Unknown/Unreported') & (model_df['race'] != 'Bi-Racial')]\n",
    "model_df = model_df.loc[model_df['sex'] == 'Male']"
   ]
  },
  {
   "cell_type": "code",
   "execution_count": 25,
   "metadata": {},
   "outputs": [],
   "source": [
    "model_df = pd.get_dummies(model_df, columns = ['age_group', 'attorney_type', 'race', 'sex', 'offense_type'])"
   ]
  },
  {
   "cell_type": "code",
   "execution_count": 26,
   "metadata": {},
   "outputs": [
    {
     "data": {
      "text/html": [
       "<div>\n",
       "<style scoped>\n",
       "    .dataframe tbody tr th:only-of-type {\n",
       "        vertical-align: middle;\n",
       "    }\n",
       "\n",
       "    .dataframe tbody tr th {\n",
       "        vertical-align: top;\n",
       "    }\n",
       "\n",
       "    .dataframe thead th {\n",
       "        text-align: right;\n",
       "    }\n",
       "</style>\n",
       "<table border=\"1\" class=\"dataframe\">\n",
       "  <thead>\n",
       "    <tr style=\"text-align: right;\">\n",
       "      <th></th>\n",
       "      <th>bail_type</th>\n",
       "      <th>age_group_18 to 25</th>\n",
       "      <th>age_group_26 to 33</th>\n",
       "      <th>age_group_34 to 41</th>\n",
       "      <th>age_group_42 to 49</th>\n",
       "      <th>age_group_50 to 57</th>\n",
       "      <th>age_group_58 to 64</th>\n",
       "      <th>age_group_senior</th>\n",
       "      <th>attorney_type_Private</th>\n",
       "      <th>attorney_type_Public</th>\n",
       "      <th>...</th>\n",
       "      <th>offense_type_riot, disorderly conduct and related offenses</th>\n",
       "      <th>offense_type_robbery</th>\n",
       "      <th>offense_type_serious traffic offense</th>\n",
       "      <th>offense_type_sexual offenses</th>\n",
       "      <th>offense_type_theft and related offenses</th>\n",
       "      <th>offense_type_trade and commerce</th>\n",
       "      <th>offense_type_unknown statute</th>\n",
       "      <th>offense_type_vehicle chop shop and illegally obtained and altered property</th>\n",
       "      <th>offense_type_vehicles: lighting equipment</th>\n",
       "      <th>offense_type_vehicles: other required equipment</th>\n",
       "    </tr>\n",
       "  </thead>\n",
       "  <tbody>\n",
       "    <tr>\n",
       "      <th>0</th>\n",
       "      <td>ROR</td>\n",
       "      <td>1</td>\n",
       "      <td>0</td>\n",
       "      <td>0</td>\n",
       "      <td>0</td>\n",
       "      <td>0</td>\n",
       "      <td>0</td>\n",
       "      <td>0</td>\n",
       "      <td>0</td>\n",
       "      <td>1</td>\n",
       "      <td>...</td>\n",
       "      <td>0</td>\n",
       "      <td>0</td>\n",
       "      <td>0</td>\n",
       "      <td>0</td>\n",
       "      <td>0</td>\n",
       "      <td>0</td>\n",
       "      <td>0</td>\n",
       "      <td>0</td>\n",
       "      <td>0</td>\n",
       "      <td>0</td>\n",
       "    </tr>\n",
       "    <tr>\n",
       "      <th>0</th>\n",
       "      <td>ROR</td>\n",
       "      <td>1</td>\n",
       "      <td>0</td>\n",
       "      <td>0</td>\n",
       "      <td>0</td>\n",
       "      <td>0</td>\n",
       "      <td>0</td>\n",
       "      <td>0</td>\n",
       "      <td>0</td>\n",
       "      <td>1</td>\n",
       "      <td>...</td>\n",
       "      <td>0</td>\n",
       "      <td>0</td>\n",
       "      <td>0</td>\n",
       "      <td>0</td>\n",
       "      <td>0</td>\n",
       "      <td>0</td>\n",
       "      <td>0</td>\n",
       "      <td>0</td>\n",
       "      <td>0</td>\n",
       "      <td>0</td>\n",
       "    </tr>\n",
       "    <tr>\n",
       "      <th>1</th>\n",
       "      <td>ROR</td>\n",
       "      <td>1</td>\n",
       "      <td>0</td>\n",
       "      <td>0</td>\n",
       "      <td>0</td>\n",
       "      <td>0</td>\n",
       "      <td>0</td>\n",
       "      <td>0</td>\n",
       "      <td>1</td>\n",
       "      <td>0</td>\n",
       "      <td>...</td>\n",
       "      <td>0</td>\n",
       "      <td>0</td>\n",
       "      <td>0</td>\n",
       "      <td>0</td>\n",
       "      <td>0</td>\n",
       "      <td>0</td>\n",
       "      <td>0</td>\n",
       "      <td>0</td>\n",
       "      <td>0</td>\n",
       "      <td>0</td>\n",
       "    </tr>\n",
       "    <tr>\n",
       "      <th>2</th>\n",
       "      <td>ROR</td>\n",
       "      <td>0</td>\n",
       "      <td>0</td>\n",
       "      <td>0</td>\n",
       "      <td>0</td>\n",
       "      <td>1</td>\n",
       "      <td>0</td>\n",
       "      <td>0</td>\n",
       "      <td>0</td>\n",
       "      <td>1</td>\n",
       "      <td>...</td>\n",
       "      <td>0</td>\n",
       "      <td>0</td>\n",
       "      <td>0</td>\n",
       "      <td>0</td>\n",
       "      <td>1</td>\n",
       "      <td>0</td>\n",
       "      <td>0</td>\n",
       "      <td>0</td>\n",
       "      <td>0</td>\n",
       "      <td>0</td>\n",
       "    </tr>\n",
       "    <tr>\n",
       "      <th>3</th>\n",
       "      <td>Monetary</td>\n",
       "      <td>0</td>\n",
       "      <td>1</td>\n",
       "      <td>0</td>\n",
       "      <td>0</td>\n",
       "      <td>0</td>\n",
       "      <td>0</td>\n",
       "      <td>0</td>\n",
       "      <td>0</td>\n",
       "      <td>1</td>\n",
       "      <td>...</td>\n",
       "      <td>0</td>\n",
       "      <td>0</td>\n",
       "      <td>0</td>\n",
       "      <td>0</td>\n",
       "      <td>0</td>\n",
       "      <td>0</td>\n",
       "      <td>0</td>\n",
       "      <td>0</td>\n",
       "      <td>0</td>\n",
       "      <td>0</td>\n",
       "    </tr>\n",
       "  </tbody>\n",
       "</table>\n",
       "<p>5 rows × 51 columns</p>\n",
       "</div>"
      ],
      "text/plain": [
       "  bail_type  age_group_18 to 25  age_group_26 to 33  age_group_34 to 41  \\\n",
       "0       ROR                   1                   0                   0   \n",
       "0       ROR                   1                   0                   0   \n",
       "1       ROR                   1                   0                   0   \n",
       "2       ROR                   0                   0                   0   \n",
       "3  Monetary                   0                   1                   0   \n",
       "\n",
       "   age_group_42 to 49  age_group_50 to 57  age_group_58 to 64  \\\n",
       "0                   0                   0                   0   \n",
       "0                   0                   0                   0   \n",
       "1                   0                   0                   0   \n",
       "2                   0                   1                   0   \n",
       "3                   0                   0                   0   \n",
       "\n",
       "   age_group_senior  attorney_type_Private  attorney_type_Public  ...  \\\n",
       "0                 0                      0                     1  ...   \n",
       "0                 0                      0                     1  ...   \n",
       "1                 0                      1                     0  ...   \n",
       "2                 0                      0                     1  ...   \n",
       "3                 0                      0                     1  ...   \n",
       "\n",
       "   offense_type_riot, disorderly conduct and related offenses  \\\n",
       "0                                                  0            \n",
       "0                                                  0            \n",
       "1                                                  0            \n",
       "2                                                  0            \n",
       "3                                                  0            \n",
       "\n",
       "   offense_type_robbery  offense_type_serious traffic offense  \\\n",
       "0                     0                                     0   \n",
       "0                     0                                     0   \n",
       "1                     0                                     0   \n",
       "2                     0                                     0   \n",
       "3                     0                                     0   \n",
       "\n",
       "   offense_type_sexual offenses  offense_type_theft and related offenses  \\\n",
       "0                             0                                        0   \n",
       "0                             0                                        0   \n",
       "1                             0                                        0   \n",
       "2                             0                                        1   \n",
       "3                             0                                        0   \n",
       "\n",
       "   offense_type_trade and commerce  offense_type_unknown statute  \\\n",
       "0                                0                             0   \n",
       "0                                0                             0   \n",
       "1                                0                             0   \n",
       "2                                0                             0   \n",
       "3                                0                             0   \n",
       "\n",
       "   offense_type_vehicle chop shop and illegally obtained and altered property  \\\n",
       "0                                                  0                            \n",
       "0                                                  0                            \n",
       "1                                                  0                            \n",
       "2                                                  0                            \n",
       "3                                                  0                            \n",
       "\n",
       "   offense_type_vehicles: lighting equipment  \\\n",
       "0                                          0   \n",
       "0                                          0   \n",
       "1                                          0   \n",
       "2                                          0   \n",
       "3                                          0   \n",
       "\n",
       "   offense_type_vehicles: other required equipment  \n",
       "0                                                0  \n",
       "0                                                0  \n",
       "1                                                0  \n",
       "2                                                0  \n",
       "3                                                0  \n",
       "\n",
       "[5 rows x 51 columns]"
      ]
     },
     "execution_count": 26,
     "metadata": {},
     "output_type": "execute_result"
    }
   ],
   "source": [
    "model_df.head()"
   ]
  },
  {
   "cell_type": "markdown",
   "metadata": {},
   "source": [
    "**Check for multicollinearity**"
   ]
  },
  {
   "cell_type": "code",
   "execution_count": 27,
   "metadata": {},
   "outputs": [
    {
     "name": "stderr",
     "output_type": "stream",
     "text": [
      "/Users/wasilaq/opt/anaconda3/envs/pbf/lib/python3.8/site-packages/statsmodels/stats/outliers_influence.py:193: RuntimeWarning: divide by zero encountered in double_scalars\n",
      "  vif = 1. / (1. - r_squared_i)\n",
      "/Users/wasilaq/opt/anaconda3/envs/pbf/lib/python3.8/site-packages/statsmodels/regression/linear_model.py:1715: RuntimeWarning: divide by zero encountered in double_scalars\n",
      "  return 1 - self.ssr/self.centered_tss\n"
     ]
    },
    {
     "data": {
      "text/plain": [
       "age_group_18 to 25                                                                   inf\n",
       "age_group_26 to 33                                                                   inf\n",
       "age_group_34 to 41                                                                   inf\n",
       "age_group_42 to 49                                                                   inf\n",
       "age_group_50 to 57                                                                   inf\n",
       "age_group_58 to 64                                                                   inf\n",
       "age_group_senior                                                                     inf\n",
       "attorney_type_Private                                                          12.681540\n",
       "attorney_type_Public                                                           12.719864\n",
       "race_Asian/Pacific Islander                                                    53.140721\n",
       "race_Black                                                                    868.079539\n",
       "race_Native American/Alaskan Native                                             4.333754\n",
       "race_White                                                                    845.257252\n",
       "sex_Male                                                                        0.000000\n",
       "offense_type_abuse of office                                                         inf\n",
       "offense_type_accidents report                                                        inf\n",
       "offense_type_arrest prior to requisition                                             inf\n",
       "offense_type_arson, criminal mischief, and other property destruction                inf\n",
       "offense_type_assault                                                                 inf\n",
       "offense_type_bribery and corrupt influence                                           inf\n",
       "offense_type_burglary and other criminal intrusion                                   inf\n",
       "offense_type_computer offense                                                        inf\n",
       "offense_type_crimes against unborn child                                             inf\n",
       "offense_type_criminal homicide                                                       inf\n",
       "offense_type_domestic relations and abuse                                            inf\n",
       "offense_type_driving after imbibing alcohol or utilizing drugs                       inf\n",
       "offense_type_drug and substance                                                      inf\n",
       "offense_type_falsification and intimidation                                          inf\n",
       "offense_type_firearms and other dangerous articles                                   inf\n",
       "offense_type_forgery and fraudulent practices                                        inf\n",
       "offense_type_general traffic offense                                                 inf\n",
       "offense_type_inchoate crimes                                                         inf\n",
       "offense_type_kidnapping                                                              inf\n",
       "offense_type_minors                                                                  inf\n",
       "offense_type_nuisances                                                               inf\n",
       "offense_type_obstructing governmental operations                                     inf\n",
       "offense_type_offenses against the family                                             inf\n",
       "offense_type_other offenses                                                          inf\n",
       "offense_type_public indecency                                                        inf\n",
       "offense_type_public utilities                                                        inf\n",
       "offense_type_riot, disorderly conduct and related offenses                           inf\n",
       "offense_type_robbery                                                                 inf\n",
       "offense_type_serious traffic offense                                                 inf\n",
       "offense_type_sexual offenses                                                         inf\n",
       "offense_type_theft and related offenses                                              inf\n",
       "offense_type_trade and commerce                                                      inf\n",
       "offense_type_unknown statute                                                         inf\n",
       "offense_type_vehicle chop shop and illegally obtained and altered property           inf\n",
       "offense_type_vehicles: lighting equipment                                            inf\n",
       "offense_type_vehicles: other required equipment                                      inf\n",
       "dtype: float64"
      ]
     },
     "execution_count": 27,
     "metadata": {},
     "output_type": "execute_result"
    }
   ],
   "source": [
    "vif_df = add_constant(model_df.drop(columns = ['bail_type']))\n",
    "\n",
    "pd.Series(\n",
    "    [\n",
    "        variance_inflation_factor(vif_df.values, i) for i in range(vif_df.shape[1])\n",
    "    ], index = vif_df.columns\n",
    ")"
   ]
  },
  {
   "cell_type": "code",
   "execution_count": 30,
   "metadata": {},
   "outputs": [
    {
     "data": {
      "text/plain": [
       "age_group_18 to 25                                                        22.851712\n",
       "age_group_26 to 33                                                        22.383033\n",
       "age_group_34 to 41                                                        16.114302\n",
       "age_group_42 to 49                                                        10.089745\n",
       "age_group_50 to 57                                                         7.351366\n",
       "age_group_58 to 64                                                         3.839864\n",
       "attorney_type_Public                                                       1.095947\n",
       "race_Asian/Pacific Islander                                                1.062328\n",
       "race_Black                                                                 1.071807\n",
       "race_Native American/Alaskan Native                                        1.003080\n",
       "sex_Male                                                                   8.463943\n",
       "offense_type_accidents report                                              8.523330\n",
       "offense_type_arrest prior to requisition                                  13.035113\n",
       "offense_type_arson, criminal mischief, and other property destruction     67.627804\n",
       "offense_type_assault                                                     469.740732\n",
       "offense_type_burglary and other criminal intrusion                       122.281379\n",
       "offense_type_crimes against unborn child                                   1.375221\n",
       "offense_type_criminal homicide                                             7.736998\n",
       "offense_type_domestic relations and abuse                                 29.976033\n",
       "offense_type_driving after imbibing alcohol or utilizing drugs            63.861088\n",
       "offense_type_drug and substance                                          330.438847\n",
       "offense_type_falsification and intimidation                               30.504301\n",
       "offense_type_firearms and other dangerous articles                       294.222911\n",
       "offense_type_forgery and fraudulent practices                             19.094108\n",
       "offense_type_general traffic offense                                      36.304159\n",
       "offense_type_inchoate crimes                                             257.840837\n",
       "offense_type_kidnapping                                                   19.373813\n",
       "offense_type_minors                                                       28.515375\n",
       "offense_type_nuisances                                                     1.500305\n",
       "offense_type_obstructing governmental operations                          28.054994\n",
       "offense_type_offenses against the family                                  15.543443\n",
       "offense_type_other offenses                                                8.438834\n",
       "offense_type_public indecency                                              3.998514\n",
       "offense_type_public utilities                                              1.333759\n",
       "offense_type_riot, disorderly conduct and related offenses                12.166019\n",
       "offense_type_robbery                                                      41.812707\n",
       "offense_type_serious traffic offense                                      15.013599\n",
       "offense_type_sexual offenses                                              60.116388\n",
       "offense_type_theft and related offenses                                  257.417905\n",
       "offense_type_unknown statute                                               4.038703\n",
       "offense_type_vehicles: lighting equipment                                  2.833856\n",
       "offense_type_vehicles: other required equipment                            3.541587\n",
       "dtype: float64"
      ]
     },
     "execution_count": 30,
     "metadata": {},
     "output_type": "execute_result"
    }
   ],
   "source": [
    "# drop additional columns, drop all offense types with less than 10 instances\n",
    "\n",
    "colinear_features = ['race_White', 'attorney_type_Private', 'age_group_senior', 'offense_type_bribery and corrupt influence', 'offense_type_vehicle chop shop and illegally obtained and altered property', 'offense_type_trade and commerce', 'offense_type_abuse of office', 'offense_type_computer offense']\n",
    "\n",
    "vif_df = add_constant(model_df.drop(columns = ['bail_type'] + colinear_features))\n",
    "\n",
    "pd.Series(\n",
    "    [\n",
    "        variance_inflation_factor(vif_df.values, i) for i in range(vif_df.shape[1])\n",
    "    ], index = vif_df.columns\n",
    ")"
   ]
  },
  {
   "cell_type": "code",
   "execution_count": 31,
   "metadata": {},
   "outputs": [
    {
     "data": {
      "text/plain": [
       "age_group_26 to 33                                                       1.369731\n",
       "age_group_34 to 41                                                       1.334875\n",
       "age_group_42 to 49                                                       1.223995\n",
       "age_group_50 to 57                                                       1.160869\n",
       "age_group_58 to 64                                                       1.072877\n",
       "attorney_type_Public                                                     1.094832\n",
       "race_Asian/Pacific Islander                                              1.062285\n",
       "race_Black                                                               1.071365\n",
       "race_Native American/Alaskan Native                                      1.003062\n",
       "sex_Male                                                                 0.035458\n",
       "offense_type_accidents report                                            1.009558\n",
       "offense_type_arrest prior to requisition                                 1.016067\n",
       "offense_type_arson, criminal mischief, and other property destruction    1.085409\n",
       "offense_type_burglary and other criminal intrusion                       1.153047\n",
       "offense_type_crimes against unborn child                                 1.000652\n",
       "offense_type_criminal homicide                                           1.011980\n",
       "offense_type_domestic relations and abuse                                1.039389\n",
       "offense_type_driving after imbibing alcohol or utilizing drugs           1.080861\n",
       "offense_type_drug and substance                                          1.390079\n",
       "offense_type_falsification and intimidation                              1.038141\n",
       "offense_type_firearms and other dangerous articles                       1.404335\n",
       "offense_type_forgery and fraudulent practices                            1.028534\n",
       "offense_type_general traffic offense                                     1.044046\n",
       "offense_type_inchoate crimes                                             1.309098\n",
       "offense_type_kidnapping                                                  1.023104\n",
       "offense_type_minors                                                      1.065659\n",
       "offense_type_nuisances                                                   1.000755\n",
       "offense_type_obstructing governmental operations                         1.034197\n",
       "offense_type_offenses against the family                                 1.019124\n",
       "offense_type_other offenses                                              1.011732\n",
       "offense_type_public indecency                                            1.004056\n",
       "offense_type_public utilities                                            1.000538\n",
       "offense_type_riot, disorderly conduct and related offenses               1.014304\n",
       "offense_type_robbery                                                     1.050323\n",
       "offense_type_serious traffic offense                                     1.018132\n",
       "offense_type_sexual offenses                                             1.078961\n",
       "offense_type_theft and related offenses                                  1.312264\n",
       "offense_type_unknown statute                                             1.004109\n",
       "offense_type_vehicles: lighting equipment                                1.002502\n",
       "offense_type_vehicles: other required equipment                          1.003910\n",
       "dtype: float64"
      ]
     },
     "execution_count": 31,
     "metadata": {},
     "output_type": "execute_result"
    }
   ],
   "source": [
    "# drop additional columns\n",
    "\n",
    "colinear_features += ['age_group_18 to 25', 'offense_type_assault']\n",
    "\n",
    "vif_df = add_constant(model_df.drop(columns = ['bail_type'] + colinear_features))\n",
    "\n",
    "pd.Series(\n",
    "    [\n",
    "        variance_inflation_factor(vif_df.values, i) for i in range(vif_df.shape[1])\n",
    "    ], index = vif_df.columns\n",
    ")"
   ]
  },
  {
   "cell_type": "code",
   "execution_count": null,
   "metadata": {},
   "outputs": [],
   "source": [
    "model_df.drop(columns = colinear_features, inplace = True)"
   ]
  },
  {
   "cell_type": "markdown",
   "metadata": {},
   "source": [
    "### Q2.3 b bail amount"
   ]
  },
  {
   "cell_type": "markdown",
   "metadata": {},
   "source": [
    "## Q2.4"
   ]
  }
 ],
 "metadata": {
  "kernelspec": {
   "display_name": "Python 3",
   "language": "python",
   "name": "python3"
  },
  "language_info": {
   "codemirror_mode": {
    "name": "ipython",
    "version": 3
   },
   "file_extension": ".py",
   "mimetype": "text/x-python",
   "name": "python",
   "nbconvert_exporter": "python",
   "pygments_lexer": "ipython3",
   "version": "3.8.0"
  }
 },
 "nbformat": 4,
 "nbformat_minor": 4
}
