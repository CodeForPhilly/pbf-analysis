{
 "cells": [
  {
   "cell_type": "markdown",
   "metadata": {},
   "source": [
    "# Live sumamry\n",
    "* Preprocess and prepare dataframe for the live summary on top of dashboard.\n",
    "* Creates a smaller dataframe to use when generating the live summary.\n",
    "* Contains code for generating the live summary. The code here is used to play around with the layout of the summary. A very similar code (with different margins and order of columns) are used in the app.py\n"
   ]
  },
  {
   "cell_type": "code",
   "execution_count": 1,
   "metadata": {},
   "outputs": [],
   "source": [
    "import ast\n",
    "import datetime\n",
    "import itertools\n",
    "import matplotlib.pyplot as plt\n",
    "from matplotlib import rc_file_defaults\n",
    "from matplotlib import ticker\n",
    "\n",
    "plt.style.use('ggplot')\n",
    "\n",
    "import os\n",
    "import sys\n",
    "import numpy as np\n",
    "import pandas as pd\n",
    "import random\n",
    "import regex as re\n",
    "import seaborn as sns\n",
    "\n",
    "from dateutil.relativedelta import relativedelta\n",
    "from gensim.models.nmf import Nmf\n",
    "from gensim.corpora import Dictionary\n",
    "from gensim.models.coherencemodel import CoherenceModel\n",
    "from scipy.stats import chi2_contingency, mannwhitneyu, wilcoxon\n",
    "from scipy.spatial.distance import pdist\n",
    "from scipy.spatial.distance import squareform\n",
    "from wordcloud import WordCloud\n",
    "\n",
    "import plotly.express as px\n",
    "import plotly.graph_objs as go\n",
    "from ipywidgets import widgets\n",
    "from plotly.subplots import make_subplots\n",
    "\n",
    "import json\n",
    "import copy"
   ]
  },
  {
   "cell_type": "code",
   "execution_count": 2,
   "metadata": {},
   "outputs": [],
   "source": [
    "# Set various data and figure directories relative to cwd\n",
    "# (which is hopefully always this file's dirname)\n",
    "cwd = os.getcwd()\n",
    "cwd_split = os.path.split(cwd)\n",
    "srcdir = cwd_split[0]\n",
    "#sys.path.append(os.path.abspath(os.path.join('..', cwd_split[-1])))\n",
    "sys.path.append(srcdir)\n",
    "root = os.path.split(srcdir)[0]\n",
    "rawdir = os.path.join(root, \"data/raw\") # Raw csv files; local only!\n",
    "tmpdir = os.path.join(root, \"data/tmp\") # Intermediate data products; local only!\n",
    "extdir = os.path.join(root, \"data/external\") # Data from external sources; in repo\n",
    "cleandir = os.path.join(root, \"data/cleaned\") # Data for dashboard generation; in repo\n",
    "figdir = os.path.join(root, \"figures\") # Final figures; in repo"
   ]
  },
  {
   "cell_type": "code",
   "execution_count": 3,
   "metadata": {},
   "outputs": [],
   "source": [
    "import pltformat\n",
    "colorDict = pltformat.get_color_dictionary()"
   ]
  },
  {
   "cell_type": "markdown",
   "metadata": {},
   "source": [
    "# 1. import and preprocess"
   ]
  },
  {
   "cell_type": "code",
   "execution_count": 4,
   "metadata": {},
   "outputs": [],
   "source": [
    "import preprocess"
   ]
  },
  {
   "cell_type": "markdown",
   "metadata": {},
   "source": [
    "## 1(a) 2020 data"
   ]
  },
  {
   "cell_type": "code",
   "execution_count": 14,
   "metadata": {},
   "outputs": [],
   "source": [
    "# Set raw csv data file paths\n",
    "#docketcsv = \"docket_reparse_03_02_2021.csv\"\n",
    "docketcsv = \"2020_added_bail.csv\"\n",
    "courtcsv = \"court_summary.csv\"\n",
    "outcsv = \"processed_data.csv\"\n",
    "trimmedcsv = \"app_data.csv\"\n",
    "\n",
    "docketpath = os.path.join(rawdir, docketcsv)\n",
    "courtpath = os.path.join(rawdir, courtcsv)\n",
    "outpath = os.path.join(tmpdir, outcsv)\n",
    "trimmedpath = os.path.join(cleandir, trimmedcsv)\n"
   ]
  },
  {
   "cell_type": "code",
   "execution_count": 15,
   "metadata": {},
   "outputs": [
    {
     "name": "stdout",
     "output_type": "stream",
     "text": [
      "Removing 13 cases for which prelim_hearing_dt - bail_date was more than 5...\n",
      "> Imported 24225 rows with 25 columns:\n",
      "age\n",
      "age_group\n",
      "arrest_dt\n",
      "arresting_officer\n",
      "attorney\n",
      "attorney_type\n",
      "bail_amount\n",
      "bail_date\n",
      "bail_paid\n",
      "bail_set_bin\n",
      "bail_set_by\n",
      "bail_type\n",
      "case_status\n",
      "dob\n",
      "is_bail_posted\n",
      "is_philly_zipcode\n",
      "offense_date\n",
      "offense_type\n",
      "offenses\n",
      "prelim_hearing_dt\n",
      "prelim_hearing_time\n",
      "race\n",
      "sex\n",
      "statute\n",
      "zip\n",
      "> Saved new file\n"
     ]
    }
   ],
   "source": [
    "# Merge and clean docket and court summary data and save to new csv file\n",
    "df_2020 = preprocess.merge_and_clean_data(docketpath, courtpath,\n",
    "                                     outPath=outpath, verbose=True)"
   ]
  },
  {
   "cell_type": "markdown",
   "metadata": {},
   "source": [
    "## 1(b) 2021 data"
   ]
  },
  {
   "cell_type": "code",
   "execution_count": 72,
   "metadata": {},
   "outputs": [],
   "source": [
    "# Set raw csv data file paths\n",
    "\n",
    "docketcsv = \"2021_added_bail.csv\" # most updated docket parsing (Sent by Adam on April 26)\n",
    "# docketcsv = \"2021-jan_feb_march_dockets.csv\"\n",
    "courtcsv = \"2021-jan_feb_march_court.csv\"\n",
    "outcsv = \"processed_data_2021.csv\"\n",
    "trimmedcsv = \"app_data_2021.csv\"\n",
    "\n",
    "docketpath = os.path.join(rawdir, docketcsv)\n",
    "courtpath = os.path.join(rawdir, courtcsv)\n",
    "outpath = os.path.join(tmpdir, outcsv)\n",
    "trimmedpath = os.path.join(cleandir, trimmedcsv)\n"
   ]
  },
  {
   "cell_type": "code",
   "execution_count": 73,
   "metadata": {},
   "outputs": [
    {
     "name": "stdout",
     "output_type": "stream",
     "text": [
      "Removing 1 cases for which prelim_hearing_dt - bail_date was more than 5...\n",
      "> Imported 6017 rows with 25 columns:\n",
      "age\n",
      "age_group\n",
      "arrest_dt\n",
      "arresting_officer\n",
      "attorney\n",
      "attorney_type\n",
      "bail_amount\n",
      "bail_date\n",
      "bail_paid\n",
      "bail_set_bin\n",
      "bail_set_by\n",
      "bail_type\n",
      "case_status\n",
      "dob\n",
      "is_bail_posted\n",
      "is_philly_zipcode\n",
      "offense_date\n",
      "offense_type\n",
      "offenses\n",
      "prelim_hearing_dt\n",
      "prelim_hearing_time\n",
      "race\n",
      "sex\n",
      "statute\n",
      "zip\n",
      "> Saved new file\n"
     ]
    }
   ],
   "source": [
    "# Merge and clean docket and court summary data and save to new csv file\n",
    "df_2021 = preprocess.merge_and_clean_data(docketpath, courtpath,\n",
    "                                     outPath=outpath, verbose=True)"
   ]
  },
  {
   "cell_type": "markdown",
   "metadata": {},
   "source": [
    "# 2. Prepare aggregate data to use for figures  \n"
   ]
  },
  {
   "cell_type": "code",
   "execution_count": 124,
   "metadata": {},
   "outputs": [],
   "source": [
    "# concatenate data\n",
    "df = pd.concat([df_2020, df_2021])\n",
    "df.reset_index(inplace = True, drop = True)\n",
    "\n",
    "# create columns \n",
    "df['bail_year'] = df['bail_date'].dt.year\n",
    "df['bail_month'] = df['bail_date'].dt.month"
   ]
  },
  {
   "cell_type": "code",
   "execution_count": 125,
   "metadata": {},
   "outputs": [],
   "source": [
    "df['monetary_bail'] = df['bail_type'].apply(lambda x : 1 if x == 'Monetary' else 0)\n"
   ]
  },
  {
   "cell_type": "code",
   "execution_count": 127,
   "metadata": {},
   "outputs": [],
   "source": [
    "df_summary = df.groupby([\"bail_year\", \"bail_month\"])[[\"bail_amount\", \"bail_paid\", \"monetary_bail\"]].sum()\n",
    "df_summary[\"count\"] = df.groupby([\"bail_year\", \"bail_month\"]).size()"
   ]
  },
  {
   "cell_type": "code",
   "execution_count": 212,
   "metadata": {},
   "outputs": [
    {
     "data": {
      "text/html": [
       "<div>\n",
       "<style scoped>\n",
       "    .dataframe tbody tr th:only-of-type {\n",
       "        vertical-align: middle;\n",
       "    }\n",
       "\n",
       "    .dataframe tbody tr th {\n",
       "        vertical-align: top;\n",
       "    }\n",
       "\n",
       "    .dataframe thead th {\n",
       "        text-align: right;\n",
       "    }\n",
       "</style>\n",
       "<table border=\"1\" class=\"dataframe\">\n",
       "  <thead>\n",
       "    <tr style=\"text-align: right;\">\n",
       "      <th></th>\n",
       "      <th></th>\n",
       "      <th>bail_amount</th>\n",
       "      <th>bail_paid</th>\n",
       "      <th>monetary_bail</th>\n",
       "      <th>count</th>\n",
       "    </tr>\n",
       "    <tr>\n",
       "      <th>bail_year</th>\n",
       "      <th>bail_month</th>\n",
       "      <th></th>\n",
       "      <th></th>\n",
       "      <th></th>\n",
       "      <th></th>\n",
       "    </tr>\n",
       "  </thead>\n",
       "  <tbody>\n",
       "    <tr>\n",
       "      <th rowspan=\"12\" valign=\"top\">2020</th>\n",
       "      <th>1</th>\n",
       "      <td>108507700.0</td>\n",
       "      <td>2775850.0</td>\n",
       "      <td>1308</td>\n",
       "      <td>2516</td>\n",
       "    </tr>\n",
       "    <tr>\n",
       "      <th>2</th>\n",
       "      <td>125310300.0</td>\n",
       "      <td>4069140.0</td>\n",
       "      <td>1265</td>\n",
       "      <td>2676</td>\n",
       "    </tr>\n",
       "    <tr>\n",
       "      <th>3</th>\n",
       "      <td>74407400.0</td>\n",
       "      <td>2364740.0</td>\n",
       "      <td>798</td>\n",
       "      <td>1738</td>\n",
       "    </tr>\n",
       "    <tr>\n",
       "      <th>4</th>\n",
       "      <td>89115200.0</td>\n",
       "      <td>2163680.0</td>\n",
       "      <td>510</td>\n",
       "      <td>880</td>\n",
       "    </tr>\n",
       "    <tr>\n",
       "      <th>5</th>\n",
       "      <td>180731048.0</td>\n",
       "      <td>4661405.0</td>\n",
       "      <td>1002</td>\n",
       "      <td>2123</td>\n",
       "    </tr>\n",
       "    <tr>\n",
       "      <th>6</th>\n",
       "      <td>98238899.0</td>\n",
       "      <td>2958600.0</td>\n",
       "      <td>830</td>\n",
       "      <td>1955</td>\n",
       "    </tr>\n",
       "    <tr>\n",
       "      <th>7</th>\n",
       "      <td>123966800.0</td>\n",
       "      <td>2582670.0</td>\n",
       "      <td>891</td>\n",
       "      <td>1860</td>\n",
       "    </tr>\n",
       "    <tr>\n",
       "      <th>8</th>\n",
       "      <td>160580400.0</td>\n",
       "      <td>3584930.0</td>\n",
       "      <td>926</td>\n",
       "      <td>2055</td>\n",
       "    </tr>\n",
       "    <tr>\n",
       "      <th>9</th>\n",
       "      <td>170847000.0</td>\n",
       "      <td>3499280.0</td>\n",
       "      <td>1151</td>\n",
       "      <td>2245</td>\n",
       "    </tr>\n",
       "    <tr>\n",
       "      <th>10</th>\n",
       "      <td>188363496.0</td>\n",
       "      <td>3889770.0</td>\n",
       "      <td>1311</td>\n",
       "      <td>2685</td>\n",
       "    </tr>\n",
       "    <tr>\n",
       "      <th>11</th>\n",
       "      <td>116159749.0</td>\n",
       "      <td>2215230.0</td>\n",
       "      <td>846</td>\n",
       "      <td>1553</td>\n",
       "    </tr>\n",
       "    <tr>\n",
       "      <th>12</th>\n",
       "      <td>134683800.0</td>\n",
       "      <td>1956400.0</td>\n",
       "      <td>969</td>\n",
       "      <td>1927</td>\n",
       "    </tr>\n",
       "    <tr>\n",
       "      <th rowspan=\"3\" valign=\"top\">2021</th>\n",
       "      <th>1</th>\n",
       "      <td>198458448.0</td>\n",
       "      <td>3030370.0</td>\n",
       "      <td>1151</td>\n",
       "      <td>2159</td>\n",
       "    </tr>\n",
       "    <tr>\n",
       "      <th>2</th>\n",
       "      <td>155248700.0</td>\n",
       "      <td>2908420.0</td>\n",
       "      <td>985</td>\n",
       "      <td>1785</td>\n",
       "    </tr>\n",
       "    <tr>\n",
       "      <th>3</th>\n",
       "      <td>183210199.0</td>\n",
       "      <td>2637280.0</td>\n",
       "      <td>1125</td>\n",
       "      <td>2085</td>\n",
       "    </tr>\n",
       "  </tbody>\n",
       "</table>\n",
       "</div>"
      ],
      "text/plain": [
       "                      bail_amount  bail_paid  monetary_bail  count\n",
       "bail_year bail_month                                              \n",
       "2020      1           108507700.0  2775850.0           1308   2516\n",
       "          2           125310300.0  4069140.0           1265   2676\n",
       "          3            74407400.0  2364740.0            798   1738\n",
       "          4            89115200.0  2163680.0            510    880\n",
       "          5           180731048.0  4661405.0           1002   2123\n",
       "          6            98238899.0  2958600.0            830   1955\n",
       "          7           123966800.0  2582670.0            891   1860\n",
       "          8           160580400.0  3584930.0            926   2055\n",
       "          9           170847000.0  3499280.0           1151   2245\n",
       "          10          188363496.0  3889770.0           1311   2685\n",
       "          11          116159749.0  2215230.0            846   1553\n",
       "          12          134683800.0  1956400.0            969   1927\n",
       "2021      1           198458448.0  3030370.0           1151   2159\n",
       "          2           155248700.0  2908420.0            985   1785\n",
       "          3           183210199.0  2637280.0           1125   2085"
      ]
     },
     "execution_count": 212,
     "metadata": {},
     "output_type": "execute_result"
    }
   ],
   "source": [
    "df_summary"
   ]
  },
  {
   "cell_type": "code",
   "execution_count": 213,
   "metadata": {},
   "outputs": [],
   "source": [
    "# save data\n",
    "summary_path = os.path.join(cleandir, \"app_year_summary.csv\")\n",
    "#df_summary.to_csv(summary_path)"
   ]
  },
  {
   "cell_type": "code",
   "execution_count": 218,
   "metadata": {},
   "outputs": [],
   "source": [
    "# read data\n",
    "df_summary = pd.read_csv(summary_path, index_col = (0,1))"
   ]
  },
  {
   "cell_type": "code",
   "execution_count": 219,
   "metadata": {},
   "outputs": [
    {
     "data": {
      "text/html": [
       "<div>\n",
       "<style scoped>\n",
       "    .dataframe tbody tr th:only-of-type {\n",
       "        vertical-align: middle;\n",
       "    }\n",
       "\n",
       "    .dataframe tbody tr th {\n",
       "        vertical-align: top;\n",
       "    }\n",
       "\n",
       "    .dataframe thead th {\n",
       "        text-align: right;\n",
       "    }\n",
       "</style>\n",
       "<table border=\"1\" class=\"dataframe\">\n",
       "  <thead>\n",
       "    <tr style=\"text-align: right;\">\n",
       "      <th></th>\n",
       "      <th></th>\n",
       "      <th>bail_amount</th>\n",
       "      <th>bail_paid</th>\n",
       "      <th>monetary_bail</th>\n",
       "      <th>count</th>\n",
       "    </tr>\n",
       "    <tr>\n",
       "      <th>bail_year</th>\n",
       "      <th>bail_month</th>\n",
       "      <th></th>\n",
       "      <th></th>\n",
       "      <th></th>\n",
       "      <th></th>\n",
       "    </tr>\n",
       "  </thead>\n",
       "  <tbody>\n",
       "    <tr>\n",
       "      <th rowspan=\"12\" valign=\"top\">2020</th>\n",
       "      <th>1</th>\n",
       "      <td>108507700.0</td>\n",
       "      <td>2775850.0</td>\n",
       "      <td>1308</td>\n",
       "      <td>2516</td>\n",
       "    </tr>\n",
       "    <tr>\n",
       "      <th>2</th>\n",
       "      <td>125310300.0</td>\n",
       "      <td>4069140.0</td>\n",
       "      <td>1265</td>\n",
       "      <td>2676</td>\n",
       "    </tr>\n",
       "    <tr>\n",
       "      <th>3</th>\n",
       "      <td>74407400.0</td>\n",
       "      <td>2364740.0</td>\n",
       "      <td>798</td>\n",
       "      <td>1738</td>\n",
       "    </tr>\n",
       "    <tr>\n",
       "      <th>4</th>\n",
       "      <td>89115200.0</td>\n",
       "      <td>2163680.0</td>\n",
       "      <td>510</td>\n",
       "      <td>880</td>\n",
       "    </tr>\n",
       "    <tr>\n",
       "      <th>5</th>\n",
       "      <td>180731048.0</td>\n",
       "      <td>4661405.0</td>\n",
       "      <td>1002</td>\n",
       "      <td>2123</td>\n",
       "    </tr>\n",
       "    <tr>\n",
       "      <th>6</th>\n",
       "      <td>98238899.0</td>\n",
       "      <td>2958600.0</td>\n",
       "      <td>830</td>\n",
       "      <td>1955</td>\n",
       "    </tr>\n",
       "    <tr>\n",
       "      <th>7</th>\n",
       "      <td>123966800.0</td>\n",
       "      <td>2582670.0</td>\n",
       "      <td>891</td>\n",
       "      <td>1860</td>\n",
       "    </tr>\n",
       "    <tr>\n",
       "      <th>8</th>\n",
       "      <td>160580400.0</td>\n",
       "      <td>3584930.0</td>\n",
       "      <td>926</td>\n",
       "      <td>2055</td>\n",
       "    </tr>\n",
       "    <tr>\n",
       "      <th>9</th>\n",
       "      <td>170847000.0</td>\n",
       "      <td>3499280.0</td>\n",
       "      <td>1151</td>\n",
       "      <td>2245</td>\n",
       "    </tr>\n",
       "    <tr>\n",
       "      <th>10</th>\n",
       "      <td>188363496.0</td>\n",
       "      <td>3889770.0</td>\n",
       "      <td>1311</td>\n",
       "      <td>2685</td>\n",
       "    </tr>\n",
       "    <tr>\n",
       "      <th>11</th>\n",
       "      <td>116159749.0</td>\n",
       "      <td>2215230.0</td>\n",
       "      <td>846</td>\n",
       "      <td>1553</td>\n",
       "    </tr>\n",
       "    <tr>\n",
       "      <th>12</th>\n",
       "      <td>134683800.0</td>\n",
       "      <td>1956400.0</td>\n",
       "      <td>969</td>\n",
       "      <td>1927</td>\n",
       "    </tr>\n",
       "    <tr>\n",
       "      <th rowspan=\"3\" valign=\"top\">2021</th>\n",
       "      <th>1</th>\n",
       "      <td>198458448.0</td>\n",
       "      <td>3030370.0</td>\n",
       "      <td>1151</td>\n",
       "      <td>2159</td>\n",
       "    </tr>\n",
       "    <tr>\n",
       "      <th>2</th>\n",
       "      <td>155248700.0</td>\n",
       "      <td>2908420.0</td>\n",
       "      <td>985</td>\n",
       "      <td>1785</td>\n",
       "    </tr>\n",
       "    <tr>\n",
       "      <th>3</th>\n",
       "      <td>183210199.0</td>\n",
       "      <td>2637280.0</td>\n",
       "      <td>1125</td>\n",
       "      <td>2085</td>\n",
       "    </tr>\n",
       "  </tbody>\n",
       "</table>\n",
       "</div>"
      ],
      "text/plain": [
       "                      bail_amount  bail_paid  monetary_bail  count\n",
       "bail_year bail_month                                              \n",
       "2020      1           108507700.0  2775850.0           1308   2516\n",
       "          2           125310300.0  4069140.0           1265   2676\n",
       "          3            74407400.0  2364740.0            798   1738\n",
       "          4            89115200.0  2163680.0            510    880\n",
       "          5           180731048.0  4661405.0           1002   2123\n",
       "          6            98238899.0  2958600.0            830   1955\n",
       "          7           123966800.0  2582670.0            891   1860\n",
       "          8           160580400.0  3584930.0            926   2055\n",
       "          9           170847000.0  3499280.0           1151   2245\n",
       "          10          188363496.0  3889770.0           1311   2685\n",
       "          11          116159749.0  2215230.0            846   1553\n",
       "          12          134683800.0  1956400.0            969   1927\n",
       "2021      1           198458448.0  3030370.0           1151   2159\n",
       "          2           155248700.0  2908420.0            985   1785\n",
       "          3           183210199.0  2637280.0           1125   2085"
      ]
     },
     "execution_count": 219,
     "metadata": {},
     "output_type": "execute_result"
    }
   ],
   "source": [
    "df_summary"
   ]
  },
  {
   "cell_type": "code",
   "execution_count": 220,
   "metadata": {},
   "outputs": [],
   "source": [
    "# get most recent month in 2021 YTD\n",
    "last_month = df_summary.loc[2021].index.max()\n",
    "\n",
    "# get summary information\n",
    "summary_2020 = df_summary.loc[(2020,)].sum()\n",
    "summary_2021 = df_summary.loc[(2021,)].sum()\n",
    "\n",
    "idx = pd.IndexSlice\n",
    "summary_2020_YTM = df_summary.loc[idx[2020, range(last_month + 1)], idx[:]].sum()"
   ]
  },
  {
   "cell_type": "code",
   "execution_count": 221,
   "metadata": {},
   "outputs": [],
   "source": [
    "# add monetary bail percentage for all summaries\n",
    "summary_2020[\"monetary_bail_perct\"] = summary_2020[\"monetary_bail\"]/summary_2020[\"count\"]\n",
    "summary_2020_YTM[\"monetary_bail_perct\"] = summary_2020_YTM[\"monetary_bail\"] / summary_2020_YTM[\"count\"]\n",
    "summary_2021[\"monetary_bail_perct\"] = summary_2021[\"monetary_bail\"]/summary_2021[\"count\"]"
   ]
  },
  {
   "cell_type": "code",
   "execution_count": 222,
   "metadata": {},
   "outputs": [],
   "source": [
    "# find string corresponding to last month\n",
    "month = {1: \"Jan\",\n",
    "         2: \"Feb\",\n",
    "         3: \"Mar\",\n",
    "         4: \"Apr\",\n",
    "         5: \"May\",\n",
    "         6: \"Jun\",\n",
    "         7: \"Jul\",\n",
    "         8: \"Aug\",\n",
    "         9: \"Sep\",\n",
    "         10: \"Oct\",\n",
    "         11: \"Nov\",\n",
    "         12: \"Dec\"}\n",
    "month_str = month[last_month]"
   ]
  },
  {
   "cell_type": "code",
   "execution_count": 223,
   "metadata": {},
   "outputs": [
    {
     "data": {
      "application/vnd.plotly.v1+json": {
       "config": {
        "plotlyServerURL": "https://plot.ly"
       },
       "data": [
        {
         "domain": {
          "x": [
           0,
           0.04
          ],
          "y": [
           0.66,
           1
          ]
         },
         "mode": "number",
         "number": {
          "font": {
           "size": 15
          }
         },
         "type": "indicator",
         "value": 2020
        },
        {
         "domain": {
          "x": [
           0.04,
           0.28
          ],
          "y": [
           0.66,
           1
          ]
         },
         "mode": "number",
         "number": {
          "font": {
           "size": 40
          },
          "prefix": "$"
         },
         "title": {
          "text": "<span style='font-size:1.4em'>Amount of bail set</span>"
         },
         "type": "indicator",
         "value": 1570911792
        },
        {
         "domain": {
          "x": [
           0.28,
           0.52
          ],
          "y": [
           0.66,
           1
          ]
         },
         "mode": "number",
         "number": {
          "font": {
           "size": 40
          },
          "suffix": "%"
         },
         "title": {
          "text": "<span style='font-size:1.4em'>Percentage of bail set</span>"
         },
         "type": "indicator",
         "value": 48.76306116548961
        },
        {
         "domain": {
          "x": [
           0.52,
           0.76
          ],
          "y": [
           0.66,
           1
          ]
         },
         "mode": "number",
         "number": {
          "font": {
           "size": 40
          }
         },
         "title": {
          "text": "<span style='font-size:1.4em'>Number of people impacted</span>"
         },
         "type": "indicator",
         "value": 11807
        },
        {
         "domain": {
          "x": [
           0.76,
           1
          ],
          "y": [
           0.66,
           1
          ]
         },
         "mode": "number",
         "number": {
          "font": {
           "size": 40
          },
          "prefix": "$"
         },
         "title": {
          "text": "<span style='font-size:1.4em'>Amount of bail paid</span>"
         },
         "type": "indicator",
         "value": 36721695
        },
        {
         "domain": {
          "x": [
           0,
           0.04
          ],
          "y": [
           0.33,
           0.66
          ]
         },
         "mode": "number",
         "number": {
          "font": {
           "size": 15
          },
          "suffix": " Jan-Mar"
         },
         "type": "indicator",
         "value": 2020
        },
        {
         "domain": {
          "x": [
           0.04,
           0.28
          ],
          "y": [
           0.33,
           0.66
          ]
         },
         "mode": "number",
         "number": {
          "font": {
           "size": 40
          },
          "prefix": "$"
         },
         "type": "indicator",
         "value": 308225400
        },
        {
         "domain": {
          "x": [
           0.28,
           0.52
          ],
          "y": [
           0.33,
           0.66
          ]
         },
         "mode": "number",
         "number": {
          "font": {
           "size": 40
          },
          "suffix": "%"
         },
         "type": "indicator",
         "value": 48.64357864357864
        },
        {
         "domain": {
          "x": [
           0.52,
           0.76
          ],
          "y": [
           0.33,
           0.66
          ]
         },
         "mode": "number",
         "number": {
          "font": {
           "size": 40
          }
         },
         "type": "indicator",
         "value": 3371
        },
        {
         "domain": {
          "x": [
           0.76,
           1
          ],
          "y": [
           0.33,
           0.66
          ]
         },
         "mode": "number",
         "number": {
          "font": {
           "size": 40
          },
          "prefix": "$"
         },
         "type": "indicator",
         "value": 9209730
        },
        {
         "domain": {
          "x": [
           0,
           0.04
          ],
          "y": [
           0.1,
           0.33
          ]
         },
         "mode": "number",
         "number": {
          "font": {
           "size": 15
          },
          "suffix": " Jan-Mar"
         },
         "type": "indicator",
         "value": 2021
        },
        {
         "domain": {
          "x": [
           0.04,
           0.28
          ],
          "y": [
           0.1,
           0.33
          ]
         },
         "mode": "number",
         "number": {
          "font": {
           "size": 40
          },
          "prefix": "$"
         },
         "type": "indicator",
         "value": 536917347
        },
        {
         "domain": {
          "x": [
           0.28,
           0.52
          ],
          "y": [
           0.1,
           0.33
          ]
         },
         "mode": "number",
         "number": {
          "font": {
           "size": 40
          },
          "suffix": "%"
         },
         "type": "indicator",
         "value": 54.08857190247139
        },
        {
         "domain": {
          "x": [
           0.52,
           0.76
          ],
          "y": [
           0.1,
           0.33
          ]
         },
         "mode": "number",
         "number": {
          "font": {
           "size": 40
          }
         },
         "type": "indicator",
         "value": 3261
        },
        {
         "domain": {
          "x": [
           0.76,
           1
          ],
          "y": [
           0.1,
           0.33
          ]
         },
         "mode": "number",
         "number": {
          "font": {
           "size": 40
          },
          "prefix": "$"
         },
         "type": "indicator",
         "value": 8576070
        }
       ],
       "layout": {
        "height": 200,
        "margin": {
         "b": 0,
         "t": 0
        },
        "template": {
         "data": {
          "bar": [
           {
            "error_x": {
             "color": "#2a3f5f"
            },
            "error_y": {
             "color": "#2a3f5f"
            },
            "marker": {
             "line": {
              "color": "#E5ECF6",
              "width": 0.5
             }
            },
            "type": "bar"
           }
          ],
          "barpolar": [
           {
            "marker": {
             "line": {
              "color": "#E5ECF6",
              "width": 0.5
             }
            },
            "type": "barpolar"
           }
          ],
          "carpet": [
           {
            "aaxis": {
             "endlinecolor": "#2a3f5f",
             "gridcolor": "white",
             "linecolor": "white",
             "minorgridcolor": "white",
             "startlinecolor": "#2a3f5f"
            },
            "baxis": {
             "endlinecolor": "#2a3f5f",
             "gridcolor": "white",
             "linecolor": "white",
             "minorgridcolor": "white",
             "startlinecolor": "#2a3f5f"
            },
            "type": "carpet"
           }
          ],
          "choropleth": [
           {
            "colorbar": {
             "outlinewidth": 0,
             "ticks": ""
            },
            "type": "choropleth"
           }
          ],
          "contour": [
           {
            "colorbar": {
             "outlinewidth": 0,
             "ticks": ""
            },
            "colorscale": [
             [
              0,
              "#0d0887"
             ],
             [
              0.1111111111111111,
              "#46039f"
             ],
             [
              0.2222222222222222,
              "#7201a8"
             ],
             [
              0.3333333333333333,
              "#9c179e"
             ],
             [
              0.4444444444444444,
              "#bd3786"
             ],
             [
              0.5555555555555556,
              "#d8576b"
             ],
             [
              0.6666666666666666,
              "#ed7953"
             ],
             [
              0.7777777777777778,
              "#fb9f3a"
             ],
             [
              0.8888888888888888,
              "#fdca26"
             ],
             [
              1,
              "#f0f921"
             ]
            ],
            "type": "contour"
           }
          ],
          "contourcarpet": [
           {
            "colorbar": {
             "outlinewidth": 0,
             "ticks": ""
            },
            "type": "contourcarpet"
           }
          ],
          "heatmap": [
           {
            "colorbar": {
             "outlinewidth": 0,
             "ticks": ""
            },
            "colorscale": [
             [
              0,
              "#0d0887"
             ],
             [
              0.1111111111111111,
              "#46039f"
             ],
             [
              0.2222222222222222,
              "#7201a8"
             ],
             [
              0.3333333333333333,
              "#9c179e"
             ],
             [
              0.4444444444444444,
              "#bd3786"
             ],
             [
              0.5555555555555556,
              "#d8576b"
             ],
             [
              0.6666666666666666,
              "#ed7953"
             ],
             [
              0.7777777777777778,
              "#fb9f3a"
             ],
             [
              0.8888888888888888,
              "#fdca26"
             ],
             [
              1,
              "#f0f921"
             ]
            ],
            "type": "heatmap"
           }
          ],
          "heatmapgl": [
           {
            "colorbar": {
             "outlinewidth": 0,
             "ticks": ""
            },
            "colorscale": [
             [
              0,
              "#0d0887"
             ],
             [
              0.1111111111111111,
              "#46039f"
             ],
             [
              0.2222222222222222,
              "#7201a8"
             ],
             [
              0.3333333333333333,
              "#9c179e"
             ],
             [
              0.4444444444444444,
              "#bd3786"
             ],
             [
              0.5555555555555556,
              "#d8576b"
             ],
             [
              0.6666666666666666,
              "#ed7953"
             ],
             [
              0.7777777777777778,
              "#fb9f3a"
             ],
             [
              0.8888888888888888,
              "#fdca26"
             ],
             [
              1,
              "#f0f921"
             ]
            ],
            "type": "heatmapgl"
           }
          ],
          "histogram": [
           {
            "marker": {
             "colorbar": {
              "outlinewidth": 0,
              "ticks": ""
             }
            },
            "type": "histogram"
           }
          ],
          "histogram2d": [
           {
            "colorbar": {
             "outlinewidth": 0,
             "ticks": ""
            },
            "colorscale": [
             [
              0,
              "#0d0887"
             ],
             [
              0.1111111111111111,
              "#46039f"
             ],
             [
              0.2222222222222222,
              "#7201a8"
             ],
             [
              0.3333333333333333,
              "#9c179e"
             ],
             [
              0.4444444444444444,
              "#bd3786"
             ],
             [
              0.5555555555555556,
              "#d8576b"
             ],
             [
              0.6666666666666666,
              "#ed7953"
             ],
             [
              0.7777777777777778,
              "#fb9f3a"
             ],
             [
              0.8888888888888888,
              "#fdca26"
             ],
             [
              1,
              "#f0f921"
             ]
            ],
            "type": "histogram2d"
           }
          ],
          "histogram2dcontour": [
           {
            "colorbar": {
             "outlinewidth": 0,
             "ticks": ""
            },
            "colorscale": [
             [
              0,
              "#0d0887"
             ],
             [
              0.1111111111111111,
              "#46039f"
             ],
             [
              0.2222222222222222,
              "#7201a8"
             ],
             [
              0.3333333333333333,
              "#9c179e"
             ],
             [
              0.4444444444444444,
              "#bd3786"
             ],
             [
              0.5555555555555556,
              "#d8576b"
             ],
             [
              0.6666666666666666,
              "#ed7953"
             ],
             [
              0.7777777777777778,
              "#fb9f3a"
             ],
             [
              0.8888888888888888,
              "#fdca26"
             ],
             [
              1,
              "#f0f921"
             ]
            ],
            "type": "histogram2dcontour"
           }
          ],
          "mesh3d": [
           {
            "colorbar": {
             "outlinewidth": 0,
             "ticks": ""
            },
            "type": "mesh3d"
           }
          ],
          "parcoords": [
           {
            "line": {
             "colorbar": {
              "outlinewidth": 0,
              "ticks": ""
             }
            },
            "type": "parcoords"
           }
          ],
          "pie": [
           {
            "automargin": true,
            "type": "pie"
           }
          ],
          "scatter": [
           {
            "marker": {
             "colorbar": {
              "outlinewidth": 0,
              "ticks": ""
             }
            },
            "type": "scatter"
           }
          ],
          "scatter3d": [
           {
            "line": {
             "colorbar": {
              "outlinewidth": 0,
              "ticks": ""
             }
            },
            "marker": {
             "colorbar": {
              "outlinewidth": 0,
              "ticks": ""
             }
            },
            "type": "scatter3d"
           }
          ],
          "scattercarpet": [
           {
            "marker": {
             "colorbar": {
              "outlinewidth": 0,
              "ticks": ""
             }
            },
            "type": "scattercarpet"
           }
          ],
          "scattergeo": [
           {
            "marker": {
             "colorbar": {
              "outlinewidth": 0,
              "ticks": ""
             }
            },
            "type": "scattergeo"
           }
          ],
          "scattergl": [
           {
            "marker": {
             "colorbar": {
              "outlinewidth": 0,
              "ticks": ""
             }
            },
            "type": "scattergl"
           }
          ],
          "scattermapbox": [
           {
            "marker": {
             "colorbar": {
              "outlinewidth": 0,
              "ticks": ""
             }
            },
            "type": "scattermapbox"
           }
          ],
          "scatterpolar": [
           {
            "marker": {
             "colorbar": {
              "outlinewidth": 0,
              "ticks": ""
             }
            },
            "type": "scatterpolar"
           }
          ],
          "scatterpolargl": [
           {
            "marker": {
             "colorbar": {
              "outlinewidth": 0,
              "ticks": ""
             }
            },
            "type": "scatterpolargl"
           }
          ],
          "scatterternary": [
           {
            "marker": {
             "colorbar": {
              "outlinewidth": 0,
              "ticks": ""
             }
            },
            "type": "scatterternary"
           }
          ],
          "surface": [
           {
            "colorbar": {
             "outlinewidth": 0,
             "ticks": ""
            },
            "colorscale": [
             [
              0,
              "#0d0887"
             ],
             [
              0.1111111111111111,
              "#46039f"
             ],
             [
              0.2222222222222222,
              "#7201a8"
             ],
             [
              0.3333333333333333,
              "#9c179e"
             ],
             [
              0.4444444444444444,
              "#bd3786"
             ],
             [
              0.5555555555555556,
              "#d8576b"
             ],
             [
              0.6666666666666666,
              "#ed7953"
             ],
             [
              0.7777777777777778,
              "#fb9f3a"
             ],
             [
              0.8888888888888888,
              "#fdca26"
             ],
             [
              1,
              "#f0f921"
             ]
            ],
            "type": "surface"
           }
          ],
          "table": [
           {
            "cells": {
             "fill": {
              "color": "#EBF0F8"
             },
             "line": {
              "color": "white"
             }
            },
            "header": {
             "fill": {
              "color": "#C8D4E3"
             },
             "line": {
              "color": "white"
             }
            },
            "type": "table"
           }
          ]
         },
         "layout": {
          "annotationdefaults": {
           "arrowcolor": "#2a3f5f",
           "arrowhead": 0,
           "arrowwidth": 1
          },
          "coloraxis": {
           "colorbar": {
            "outlinewidth": 0,
            "ticks": ""
           }
          },
          "colorscale": {
           "diverging": [
            [
             0,
             "#8e0152"
            ],
            [
             0.1,
             "#c51b7d"
            ],
            [
             0.2,
             "#de77ae"
            ],
            [
             0.3,
             "#f1b6da"
            ],
            [
             0.4,
             "#fde0ef"
            ],
            [
             0.5,
             "#f7f7f7"
            ],
            [
             0.6,
             "#e6f5d0"
            ],
            [
             0.7,
             "#b8e186"
            ],
            [
             0.8,
             "#7fbc41"
            ],
            [
             0.9,
             "#4d9221"
            ],
            [
             1,
             "#276419"
            ]
           ],
           "sequential": [
            [
             0,
             "#0d0887"
            ],
            [
             0.1111111111111111,
             "#46039f"
            ],
            [
             0.2222222222222222,
             "#7201a8"
            ],
            [
             0.3333333333333333,
             "#9c179e"
            ],
            [
             0.4444444444444444,
             "#bd3786"
            ],
            [
             0.5555555555555556,
             "#d8576b"
            ],
            [
             0.6666666666666666,
             "#ed7953"
            ],
            [
             0.7777777777777778,
             "#fb9f3a"
            ],
            [
             0.8888888888888888,
             "#fdca26"
            ],
            [
             1,
             "#f0f921"
            ]
           ],
           "sequentialminus": [
            [
             0,
             "#0d0887"
            ],
            [
             0.1111111111111111,
             "#46039f"
            ],
            [
             0.2222222222222222,
             "#7201a8"
            ],
            [
             0.3333333333333333,
             "#9c179e"
            ],
            [
             0.4444444444444444,
             "#bd3786"
            ],
            [
             0.5555555555555556,
             "#d8576b"
            ],
            [
             0.6666666666666666,
             "#ed7953"
            ],
            [
             0.7777777777777778,
             "#fb9f3a"
            ],
            [
             0.8888888888888888,
             "#fdca26"
            ],
            [
             1,
             "#f0f921"
            ]
           ]
          },
          "colorway": [
           "#636efa",
           "#EF553B",
           "#00cc96",
           "#ab63fa",
           "#FFA15A",
           "#19d3f3",
           "#FF6692",
           "#B6E880",
           "#FF97FF",
           "#FECB52"
          ],
          "font": {
           "color": "#2a3f5f"
          },
          "geo": {
           "bgcolor": "white",
           "lakecolor": "white",
           "landcolor": "#E5ECF6",
           "showlakes": true,
           "showland": true,
           "subunitcolor": "white"
          },
          "hoverlabel": {
           "align": "left"
          },
          "hovermode": "closest",
          "mapbox": {
           "style": "light"
          },
          "paper_bgcolor": "white",
          "plot_bgcolor": "#E5ECF6",
          "polar": {
           "angularaxis": {
            "gridcolor": "white",
            "linecolor": "white",
            "ticks": ""
           },
           "bgcolor": "#E5ECF6",
           "radialaxis": {
            "gridcolor": "white",
            "linecolor": "white",
            "ticks": ""
           }
          },
          "scene": {
           "xaxis": {
            "backgroundcolor": "#E5ECF6",
            "gridcolor": "white",
            "gridwidth": 2,
            "linecolor": "white",
            "showbackground": true,
            "ticks": "",
            "zerolinecolor": "white"
           },
           "yaxis": {
            "backgroundcolor": "#E5ECF6",
            "gridcolor": "white",
            "gridwidth": 2,
            "linecolor": "white",
            "showbackground": true,
            "ticks": "",
            "zerolinecolor": "white"
           },
           "zaxis": {
            "backgroundcolor": "#E5ECF6",
            "gridcolor": "white",
            "gridwidth": 2,
            "linecolor": "white",
            "showbackground": true,
            "ticks": "",
            "zerolinecolor": "white"
           }
          },
          "shapedefaults": {
           "line": {
            "color": "#2a3f5f"
           }
          },
          "ternary": {
           "aaxis": {
            "gridcolor": "white",
            "linecolor": "white",
            "ticks": ""
           },
           "baxis": {
            "gridcolor": "white",
            "linecolor": "white",
            "ticks": ""
           },
           "bgcolor": "#E5ECF6",
           "caxis": {
            "gridcolor": "white",
            "linecolor": "white",
            "ticks": ""
           }
          },
          "title": {
           "x": 0.05
          },
          "xaxis": {
           "automargin": true,
           "gridcolor": "white",
           "linecolor": "white",
           "ticks": "",
           "title": {
            "standoff": 15
           },
           "zerolinecolor": "white",
           "zerolinewidth": 2
          },
          "yaxis": {
           "automargin": true,
           "gridcolor": "white",
           "linecolor": "white",
           "ticks": "",
           "title": {
            "standoff": 15
           },
           "zerolinecolor": "white",
           "zerolinewidth": 2
          }
         }
        }
       }
      },
      "text/html": [
       "<div>                            <div id=\"dc414ae6-3123-4743-a363-eae9e1b85a72\" class=\"plotly-graph-div\" style=\"height:200px; width:100%;\"></div>            <script type=\"text/javascript\">                require([\"plotly\"], function(Plotly) {                    window.PLOTLYENV=window.PLOTLYENV || {};                                    if (document.getElementById(\"dc414ae6-3123-4743-a363-eae9e1b85a72\")) {                    Plotly.newPlot(                        \"dc414ae6-3123-4743-a363-eae9e1b85a72\",                        [{\"domain\": {\"x\": [0, 0.04], \"y\": [0.66, 1]}, \"mode\": \"number\", \"number\": {\"font\": {\"size\": 15}}, \"type\": \"indicator\", \"value\": 2020}, {\"domain\": {\"x\": [0.04, 0.28], \"y\": [0.66, 1]}, \"mode\": \"number\", \"number\": {\"font\": {\"size\": 40}, \"prefix\": \"$\"}, \"title\": {\"text\": \"<span style='font-size:1.4em'>Amount of bail set</span>\"}, \"type\": \"indicator\", \"value\": 1570911792.0}, {\"domain\": {\"x\": [0.28, 0.52], \"y\": [0.66, 1]}, \"mode\": \"number\", \"number\": {\"font\": {\"size\": 40}, \"suffix\": \"%\"}, \"title\": {\"text\": \"<span style='font-size:1.4em'>Percentage of bail set</span>\"}, \"type\": \"indicator\", \"value\": 48.76306116548961}, {\"domain\": {\"x\": [0.52, 0.76], \"y\": [0.66, 1]}, \"mode\": \"number\", \"number\": {\"font\": {\"size\": 40}}, \"title\": {\"text\": \"<span style='font-size:1.4em'>Number of people impacted</span>\"}, \"type\": \"indicator\", \"value\": 11807.0}, {\"domain\": {\"x\": [0.76, 1], \"y\": [0.66, 1]}, \"mode\": \"number\", \"number\": {\"font\": {\"size\": 40}, \"prefix\": \"$\"}, \"title\": {\"text\": \"<span style='font-size:1.4em'>Amount of bail paid</span>\"}, \"type\": \"indicator\", \"value\": 36721695.0}, {\"domain\": {\"x\": [0, 0.04], \"y\": [0.33, 0.66]}, \"mode\": \"number\", \"number\": {\"font\": {\"size\": 15}, \"suffix\": \" Jan-Mar\"}, \"type\": \"indicator\", \"value\": 2020}, {\"domain\": {\"x\": [0.04, 0.28], \"y\": [0.33, 0.66]}, \"mode\": \"number\", \"number\": {\"font\": {\"size\": 40}, \"prefix\": \"$\"}, \"type\": \"indicator\", \"value\": 308225400.0}, {\"domain\": {\"x\": [0.28, 0.52], \"y\": [0.33, 0.66]}, \"mode\": \"number\", \"number\": {\"font\": {\"size\": 40}, \"suffix\": \"%\"}, \"type\": \"indicator\", \"value\": 48.64357864357864}, {\"domain\": {\"x\": [0.52, 0.76], \"y\": [0.33, 0.66]}, \"mode\": \"number\", \"number\": {\"font\": {\"size\": 40}}, \"type\": \"indicator\", \"value\": 3371.0}, {\"domain\": {\"x\": [0.76, 1], \"y\": [0.33, 0.66]}, \"mode\": \"number\", \"number\": {\"font\": {\"size\": 40}, \"prefix\": \"$\"}, \"type\": \"indicator\", \"value\": 9209730.0}, {\"domain\": {\"x\": [0, 0.04], \"y\": [0.1, 0.33]}, \"mode\": \"number\", \"number\": {\"font\": {\"size\": 15}, \"suffix\": \" Jan-Mar\"}, \"type\": \"indicator\", \"value\": 2021}, {\"domain\": {\"x\": [0.04, 0.28], \"y\": [0.1, 0.33]}, \"mode\": \"number\", \"number\": {\"font\": {\"size\": 40}, \"prefix\": \"$\"}, \"type\": \"indicator\", \"value\": 536917347.0}, {\"domain\": {\"x\": [0.28, 0.52], \"y\": [0.1, 0.33]}, \"mode\": \"number\", \"number\": {\"font\": {\"size\": 40}, \"suffix\": \"%\"}, \"type\": \"indicator\", \"value\": 54.08857190247139}, {\"domain\": {\"x\": [0.52, 0.76], \"y\": [0.1, 0.33]}, \"mode\": \"number\", \"number\": {\"font\": {\"size\": 40}}, \"type\": \"indicator\", \"value\": 3261.0}, {\"domain\": {\"x\": [0.76, 1], \"y\": [0.1, 0.33]}, \"mode\": \"number\", \"number\": {\"font\": {\"size\": 40}, \"prefix\": \"$\"}, \"type\": \"indicator\", \"value\": 8576070.0}],                        {\"height\": 200, \"margin\": {\"b\": 0, \"t\": 0}, \"template\": {\"data\": {\"bar\": [{\"error_x\": {\"color\": \"#2a3f5f\"}, \"error_y\": {\"color\": \"#2a3f5f\"}, \"marker\": {\"line\": {\"color\": \"#E5ECF6\", \"width\": 0.5}}, \"type\": \"bar\"}], \"barpolar\": [{\"marker\": {\"line\": {\"color\": \"#E5ECF6\", \"width\": 0.5}}, \"type\": \"barpolar\"}], \"carpet\": [{\"aaxis\": {\"endlinecolor\": \"#2a3f5f\", \"gridcolor\": \"white\", \"linecolor\": \"white\", \"minorgridcolor\": \"white\", \"startlinecolor\": \"#2a3f5f\"}, \"baxis\": {\"endlinecolor\": \"#2a3f5f\", \"gridcolor\": \"white\", \"linecolor\": \"white\", \"minorgridcolor\": \"white\", \"startlinecolor\": \"#2a3f5f\"}, \"type\": \"carpet\"}], \"choropleth\": [{\"colorbar\": {\"outlinewidth\": 0, \"ticks\": \"\"}, \"type\": \"choropleth\"}], \"contour\": [{\"colorbar\": {\"outlinewidth\": 0, \"ticks\": \"\"}, \"colorscale\": [[0.0, \"#0d0887\"], [0.1111111111111111, \"#46039f\"], [0.2222222222222222, \"#7201a8\"], [0.3333333333333333, \"#9c179e\"], [0.4444444444444444, \"#bd3786\"], [0.5555555555555556, \"#d8576b\"], [0.6666666666666666, \"#ed7953\"], [0.7777777777777778, \"#fb9f3a\"], [0.8888888888888888, \"#fdca26\"], [1.0, \"#f0f921\"]], \"type\": \"contour\"}], \"contourcarpet\": [{\"colorbar\": {\"outlinewidth\": 0, \"ticks\": \"\"}, \"type\": \"contourcarpet\"}], \"heatmap\": [{\"colorbar\": {\"outlinewidth\": 0, \"ticks\": \"\"}, \"colorscale\": [[0.0, \"#0d0887\"], [0.1111111111111111, \"#46039f\"], [0.2222222222222222, \"#7201a8\"], [0.3333333333333333, \"#9c179e\"], [0.4444444444444444, \"#bd3786\"], [0.5555555555555556, \"#d8576b\"], [0.6666666666666666, \"#ed7953\"], [0.7777777777777778, \"#fb9f3a\"], [0.8888888888888888, \"#fdca26\"], [1.0, \"#f0f921\"]], \"type\": \"heatmap\"}], \"heatmapgl\": [{\"colorbar\": {\"outlinewidth\": 0, \"ticks\": \"\"}, \"colorscale\": [[0.0, \"#0d0887\"], [0.1111111111111111, \"#46039f\"], [0.2222222222222222, \"#7201a8\"], [0.3333333333333333, \"#9c179e\"], [0.4444444444444444, \"#bd3786\"], [0.5555555555555556, \"#d8576b\"], [0.6666666666666666, \"#ed7953\"], [0.7777777777777778, \"#fb9f3a\"], [0.8888888888888888, \"#fdca26\"], [1.0, \"#f0f921\"]], \"type\": \"heatmapgl\"}], \"histogram\": [{\"marker\": {\"colorbar\": {\"outlinewidth\": 0, \"ticks\": \"\"}}, \"type\": \"histogram\"}], \"histogram2d\": [{\"colorbar\": {\"outlinewidth\": 0, \"ticks\": \"\"}, \"colorscale\": [[0.0, \"#0d0887\"], [0.1111111111111111, \"#46039f\"], [0.2222222222222222, \"#7201a8\"], [0.3333333333333333, \"#9c179e\"], [0.4444444444444444, \"#bd3786\"], [0.5555555555555556, \"#d8576b\"], [0.6666666666666666, \"#ed7953\"], [0.7777777777777778, \"#fb9f3a\"], [0.8888888888888888, \"#fdca26\"], [1.0, \"#f0f921\"]], \"type\": \"histogram2d\"}], \"histogram2dcontour\": [{\"colorbar\": {\"outlinewidth\": 0, \"ticks\": \"\"}, \"colorscale\": [[0.0, \"#0d0887\"], [0.1111111111111111, \"#46039f\"], [0.2222222222222222, \"#7201a8\"], [0.3333333333333333, \"#9c179e\"], [0.4444444444444444, \"#bd3786\"], [0.5555555555555556, \"#d8576b\"], [0.6666666666666666, \"#ed7953\"], [0.7777777777777778, \"#fb9f3a\"], [0.8888888888888888, \"#fdca26\"], [1.0, \"#f0f921\"]], \"type\": \"histogram2dcontour\"}], \"mesh3d\": [{\"colorbar\": {\"outlinewidth\": 0, \"ticks\": \"\"}, \"type\": \"mesh3d\"}], \"parcoords\": [{\"line\": {\"colorbar\": {\"outlinewidth\": 0, \"ticks\": \"\"}}, \"type\": \"parcoords\"}], \"pie\": [{\"automargin\": true, \"type\": \"pie\"}], \"scatter\": [{\"marker\": {\"colorbar\": {\"outlinewidth\": 0, \"ticks\": \"\"}}, \"type\": \"scatter\"}], \"scatter3d\": [{\"line\": {\"colorbar\": {\"outlinewidth\": 0, \"ticks\": \"\"}}, \"marker\": {\"colorbar\": {\"outlinewidth\": 0, \"ticks\": \"\"}}, \"type\": \"scatter3d\"}], \"scattercarpet\": [{\"marker\": {\"colorbar\": {\"outlinewidth\": 0, \"ticks\": \"\"}}, \"type\": \"scattercarpet\"}], \"scattergeo\": [{\"marker\": {\"colorbar\": {\"outlinewidth\": 0, \"ticks\": \"\"}}, \"type\": \"scattergeo\"}], \"scattergl\": [{\"marker\": {\"colorbar\": {\"outlinewidth\": 0, \"ticks\": \"\"}}, \"type\": \"scattergl\"}], \"scattermapbox\": [{\"marker\": {\"colorbar\": {\"outlinewidth\": 0, \"ticks\": \"\"}}, \"type\": \"scattermapbox\"}], \"scatterpolar\": [{\"marker\": {\"colorbar\": {\"outlinewidth\": 0, \"ticks\": \"\"}}, \"type\": \"scatterpolar\"}], \"scatterpolargl\": [{\"marker\": {\"colorbar\": {\"outlinewidth\": 0, \"ticks\": \"\"}}, \"type\": \"scatterpolargl\"}], \"scatterternary\": [{\"marker\": {\"colorbar\": {\"outlinewidth\": 0, \"ticks\": \"\"}}, \"type\": \"scatterternary\"}], \"surface\": [{\"colorbar\": {\"outlinewidth\": 0, \"ticks\": \"\"}, \"colorscale\": [[0.0, \"#0d0887\"], [0.1111111111111111, \"#46039f\"], [0.2222222222222222, \"#7201a8\"], [0.3333333333333333, \"#9c179e\"], [0.4444444444444444, \"#bd3786\"], [0.5555555555555556, \"#d8576b\"], [0.6666666666666666, \"#ed7953\"], [0.7777777777777778, \"#fb9f3a\"], [0.8888888888888888, \"#fdca26\"], [1.0, \"#f0f921\"]], \"type\": \"surface\"}], \"table\": [{\"cells\": {\"fill\": {\"color\": \"#EBF0F8\"}, \"line\": {\"color\": \"white\"}}, \"header\": {\"fill\": {\"color\": \"#C8D4E3\"}, \"line\": {\"color\": \"white\"}}, \"type\": \"table\"}]}, \"layout\": {\"annotationdefaults\": {\"arrowcolor\": \"#2a3f5f\", \"arrowhead\": 0, \"arrowwidth\": 1}, \"coloraxis\": {\"colorbar\": {\"outlinewidth\": 0, \"ticks\": \"\"}}, \"colorscale\": {\"diverging\": [[0, \"#8e0152\"], [0.1, \"#c51b7d\"], [0.2, \"#de77ae\"], [0.3, \"#f1b6da\"], [0.4, \"#fde0ef\"], [0.5, \"#f7f7f7\"], [0.6, \"#e6f5d0\"], [0.7, \"#b8e186\"], [0.8, \"#7fbc41\"], [0.9, \"#4d9221\"], [1, \"#276419\"]], \"sequential\": [[0.0, \"#0d0887\"], [0.1111111111111111, \"#46039f\"], [0.2222222222222222, \"#7201a8\"], [0.3333333333333333, \"#9c179e\"], [0.4444444444444444, \"#bd3786\"], [0.5555555555555556, \"#d8576b\"], [0.6666666666666666, \"#ed7953\"], [0.7777777777777778, \"#fb9f3a\"], [0.8888888888888888, \"#fdca26\"], [1.0, \"#f0f921\"]], \"sequentialminus\": [[0.0, \"#0d0887\"], [0.1111111111111111, \"#46039f\"], [0.2222222222222222, \"#7201a8\"], [0.3333333333333333, \"#9c179e\"], [0.4444444444444444, \"#bd3786\"], [0.5555555555555556, \"#d8576b\"], [0.6666666666666666, \"#ed7953\"], [0.7777777777777778, \"#fb9f3a\"], [0.8888888888888888, \"#fdca26\"], [1.0, \"#f0f921\"]]}, \"colorway\": [\"#636efa\", \"#EF553B\", \"#00cc96\", \"#ab63fa\", \"#FFA15A\", \"#19d3f3\", \"#FF6692\", \"#B6E880\", \"#FF97FF\", \"#FECB52\"], \"font\": {\"color\": \"#2a3f5f\"}, \"geo\": {\"bgcolor\": \"white\", \"lakecolor\": \"white\", \"landcolor\": \"#E5ECF6\", \"showlakes\": true, \"showland\": true, \"subunitcolor\": \"white\"}, \"hoverlabel\": {\"align\": \"left\"}, \"hovermode\": \"closest\", \"mapbox\": {\"style\": \"light\"}, \"paper_bgcolor\": \"white\", \"plot_bgcolor\": \"#E5ECF6\", \"polar\": {\"angularaxis\": {\"gridcolor\": \"white\", \"linecolor\": \"white\", \"ticks\": \"\"}, \"bgcolor\": \"#E5ECF6\", \"radialaxis\": {\"gridcolor\": \"white\", \"linecolor\": \"white\", \"ticks\": \"\"}}, \"scene\": {\"xaxis\": {\"backgroundcolor\": \"#E5ECF6\", \"gridcolor\": \"white\", \"gridwidth\": 2, \"linecolor\": \"white\", \"showbackground\": true, \"ticks\": \"\", \"zerolinecolor\": \"white\"}, \"yaxis\": {\"backgroundcolor\": \"#E5ECF6\", \"gridcolor\": \"white\", \"gridwidth\": 2, \"linecolor\": \"white\", \"showbackground\": true, \"ticks\": \"\", \"zerolinecolor\": \"white\"}, \"zaxis\": {\"backgroundcolor\": \"#E5ECF6\", \"gridcolor\": \"white\", \"gridwidth\": 2, \"linecolor\": \"white\", \"showbackground\": true, \"ticks\": \"\", \"zerolinecolor\": \"white\"}}, \"shapedefaults\": {\"line\": {\"color\": \"#2a3f5f\"}}, \"ternary\": {\"aaxis\": {\"gridcolor\": \"white\", \"linecolor\": \"white\", \"ticks\": \"\"}, \"baxis\": {\"gridcolor\": \"white\", \"linecolor\": \"white\", \"ticks\": \"\"}, \"bgcolor\": \"#E5ECF6\", \"caxis\": {\"gridcolor\": \"white\", \"linecolor\": \"white\", \"ticks\": \"\"}}, \"title\": {\"x\": 0.05}, \"xaxis\": {\"automargin\": true, \"gridcolor\": \"white\", \"linecolor\": \"white\", \"ticks\": \"\", \"title\": {\"standoff\": 15}, \"zerolinecolor\": \"white\", \"zerolinewidth\": 2}, \"yaxis\": {\"automargin\": true, \"gridcolor\": \"white\", \"linecolor\": \"white\", \"ticks\": \"\", \"title\": {\"standoff\": 15}, \"zerolinecolor\": \"white\", \"zerolinewidth\": 2}}}},                        {\"responsive\": true}                    ).then(function(){\n",
       "                            \n",
       "var gd = document.getElementById('dc414ae6-3123-4743-a363-eae9e1b85a72');\n",
       "var x = new MutationObserver(function (mutations, observer) {{\n",
       "        var display = window.getComputedStyle(gd).display;\n",
       "        if (!display || display === 'none') {{\n",
       "            console.log([gd, 'removed!']);\n",
       "            Plotly.purge(gd);\n",
       "            observer.disconnect();\n",
       "        }}\n",
       "}});\n",
       "\n",
       "// Listen for the removal of the full notebook cells\n",
       "var notebookContainer = gd.closest('#notebook-container');\n",
       "if (notebookContainer) {{\n",
       "    x.observe(notebookContainer, {childList: true});\n",
       "}}\n",
       "\n",
       "// Listen for the clearing of the current output cell\n",
       "var outputEl = gd.closest('.output');\n",
       "if (outputEl) {{\n",
       "    x.observe(outputEl, {childList: true});\n",
       "}}\n",
       "\n",
       "                        })                };                });            </script>        </div>"
      ]
     },
     "metadata": {},
     "output_type": "display_data"
    }
   ],
   "source": [
    "fig = go.Figure()\n",
    "\n",
    "# 2020 data \n",
    "fig.add_trace(go.Indicator(\n",
    "    mode = \"number\",\n",
    "    value = 2020,\n",
    "    number={\"font\":{\"size\": 15}},\n",
    "    domain = {'x': [0, 0.04], 'y': [0.66, 1]}))\n",
    "\n",
    "fig.add_trace(go.Indicator(\n",
    "    mode = \"number\",\n",
    "    value = summary_2020[\"bail_amount\"],\n",
    "    title = {\"text\": \"<span style='font-size:1.4em'>Amount of bail set</span>\"},\n",
    "    number = {\"prefix\": \"$\",\n",
    "              \"font\":{\"size\": 40}},\n",
    "    domain = {'x': [0.04, 0.28], 'y': [0.66, 1]}))\n",
    "\n",
    "fig.add_trace(go.Indicator(\n",
    "    mode = \"number\",\n",
    "    value = summary_2020[\"monetary_bail_perct\"]*100,\n",
    "    title = {\"text\": \"<span style='font-size:1.4em'>Percentage of bail set</span>\"},\n",
    "    number = {\"suffix\": \"%\",\n",
    "              \"font\":{\"size\":40}},\n",
    "    domain = {'x': [0.28, 0.52], 'y': [0.66, 1]}))\n",
    "\n",
    "fig.add_trace(go.Indicator(\n",
    "    mode = \"number\",\n",
    "    value = summary_2020[\"monetary_bail\"],\n",
    "    title = {\"text\": \"<span style='font-size:1.4em'>Number of people impacted</span>\"},\n",
    "    number = {\n",
    "              \"font\":{\"size\": 40}},\n",
    "    domain = {'x': [0.52, 0.76], 'y': [0.66, 1]}))\n",
    "\n",
    "fig.add_trace(go.Indicator(\n",
    "    mode = \"number\",\n",
    "    value = summary_2020[\"bail_paid\"],\n",
    "    title = {\"text\": \"<span style='font-size:1.4em'>Amount of bail paid</span>\"},\n",
    "    number = {\"prefix\": \"$\",\n",
    "              \"font\":{\"size\":40}},\n",
    "    domain = {'x': [0.76, 1], 'y': [0.66, 1]}))\n",
    "\n",
    "# 2020 YTM data\n",
    "fig.add_trace(go.Indicator(\n",
    "    mode = \"number\",\n",
    "    value = 2020,\n",
    "    number={\"font\":{\"size\": 15},\n",
    "            \"suffix\": \" Jan-\"+month_str},\n",
    "    domain = {'x': [0, 0.04], 'y': [0.33, 0.66]}))\n",
    "\n",
    "fig.add_trace(go.Indicator(\n",
    "    mode = \"number\",\n",
    "    value = summary_2020_YTM[\"bail_amount\"],\n",
    "    #title = {\"text\": \"<span style='font-size:1.4em'>Amount of bail set</span>\"},\n",
    "    number = {\"prefix\": \"$\",\n",
    "              \"font\":{\"size\":40}},\n",
    "    domain = {'x': [0.04, 0.28], 'y': [0.33, 0.66]}))\n",
    "\n",
    "fig.add_trace(go.Indicator(\n",
    "    mode = \"number\",\n",
    "    value = summary_2020_YTM[\"monetary_bail_perct\"]*100,\n",
    "    #title = {\"text\": \"<span style='font-size:1.4em'>Percentage of bail set</span>\"},\n",
    "    number = {\"font\": {\"size\":40},\n",
    "             \"suffix\": \"%\"},\n",
    "    domain = {'x': [0.28, 0.52], 'y': [0.33, 0.66]}))\n",
    "\n",
    "fig.add_trace(go.Indicator(\n",
    "    mode = \"number\",\n",
    "    value = summary_2020_YTM[\"monetary_bail\"],\n",
    "    number = {\"font\": {\"size\":40}},\n",
    "    #title = {\"text\": \"<span style='font-size:1.4em'>Number of people impacted</span>\"},\n",
    "    domain = {'x': [0.52, 0.76], 'y': [0.33, 0.66]}))\n",
    "\n",
    "fig.add_trace(go.Indicator(\n",
    "    mode = \"number\",\n",
    "    value = summary_2020_YTM[\"bail_paid\"],\n",
    "    #title = {\"text\": \"<span style='font-size:1.4em'>Amount of bail paid</span>\"},\n",
    "    number = {\"prefix\": \"$\",\n",
    "             \"font\": {\"size\":40}},\n",
    "    domain = {'x': [0.76, 1], 'y': [0.33, 0.66]}))\n",
    "\n",
    "\n",
    "\n",
    "# 2021 data\n",
    "fig.add_trace(go.Indicator(\n",
    "    mode = \"number\",\n",
    "    value = 2021,\n",
    "    number={\"font\":{\"size\": 15},\n",
    "            \"suffix\": \" Jan-\"+month_str},\n",
    "    domain = {'x': [0, 0.04], 'y': [0.1, 0.33]}))\n",
    "\n",
    "fig.add_trace(go.Indicator(\n",
    "    mode = \"number\",\n",
    "    value = summary_2021[\"bail_amount\"],\n",
    "    #title = {\"text\": \"<span style='font-size:1.4em'>Amount of bail set</span>\"},\n",
    "    number = {\"prefix\": \"$\",\n",
    "              \"font\":{\"size\":40}},\n",
    "    domain = {'x': [0.04, 0.28], 'y': [0.1, 0.33]}))\n",
    "\n",
    "fig.add_trace(go.Indicator(\n",
    "    mode = \"number\",\n",
    "    value = summary_2021[\"monetary_bail_perct\"]*100,\n",
    "    #title = {\"text\": \"<span style='font-size:1.4em'>Percentage of bail set</span>\"},\n",
    "    number = {\"font\": {\"size\":40},\n",
    "             \"suffix\": \"%\"},\n",
    "    domain = {'x': [0.28, 0.52], 'y': [0.1, 0.33]}))\n",
    "\n",
    "fig.add_trace(go.Indicator(\n",
    "    mode = \"number\",\n",
    "    value = summary_2021[\"monetary_bail\"],\n",
    "    number = {\"font\": {\"size\":40}},\n",
    "    #title = {\"text\": \"<span style='font-size:1.4em'>Number of people impacted</span>\"},\n",
    "    domain = {'x': [0.52, 0.76], 'y': [0.1, 0.33]}))\n",
    "\n",
    "fig.add_trace(go.Indicator(\n",
    "    mode = \"number\",\n",
    "    value = summary_2021[\"bail_paid\"],\n",
    "    #title = {\"text\": \"<span style='font-size:1.4em'>Amount of bail paid</span>\"},\n",
    "    number = {\"prefix\": \"$\",\n",
    "             \"font\": {\"size\":40}},\n",
    "    domain = {'x': [0.76, 1], 'y': [0.1, 0.33]}))\n",
    "              \n",
    "fig.update_layout(\n",
    "    height = 200,\n",
    "    margin = dict(t = 0, b = 0)\n",
    ")\n",
    "fig.show()"
   ]
  },
  {
   "cell_type": "code",
   "execution_count": null,
   "metadata": {},
   "outputs": [],
   "source": []
  }
 ],
 "metadata": {
  "kernelspec": {
   "display_name": "Python 3",
   "language": "python",
   "name": "python3"
  },
  "language_info": {
   "codemirror_mode": {
    "name": "ipython",
    "version": 3
   },
   "file_extension": ".py",
   "mimetype": "text/x-python",
   "name": "python",
   "nbconvert_exporter": "python",
   "pygments_lexer": "ipython3",
   "version": "3.9.0"
  }
 },
 "nbformat": 4,
 "nbformat_minor": 4
}
