{
 "cells": [
  {
   "cell_type": "markdown",
   "metadata": {},
   "source": [
    "# By Numbers\n",
    "Generate figures and numbers for the \"By Numbers\" page of the dashboard:\n",
    "- Figures for bail type percentages and raw numbers for 2020 and 2021\n",
    "- Table of bail amounts and bail types"
   ]
  },
  {
   "cell_type": "markdown",
   "metadata": {},
   "source": [
    "# Setup"
   ]
  },
  {
   "cell_type": "code",
   "execution_count": 141,
   "metadata": {},
   "outputs": [],
   "source": [
    "import os\n",
    "import sys\n",
    "import pandas as pd\n",
    "\n",
    "import plotly.graph_objs as go"
   ]
  },
  {
   "cell_type": "code",
   "execution_count": 19,
   "metadata": {},
   "outputs": [],
   "source": [
    "# Set various data and figure directories relative to cwd\n",
    "# (which is hopefully always this file's dirname)\n",
    "cwd = os.getcwd()\n",
    "cwd_split = os.path.split(cwd)\n",
    "srcdir = cwd_split[0]\n",
    "sys.path.append(srcdir)\n",
    "root = os.path.split(srcdir)[0]\n",
    "rawdir = os.path.join(root, \"data/raw\") # Raw csv files; local only!\n",
    "tmpdir = os.path.join(root, \"data/tmp\") # Intermediate data products; local only!\n",
    "extdir = os.path.join(root, \"data/external\") # Data from external sources; in repo\n",
    "cleandir = os.path.join(root, \"data/cleaned\") # Data for dashboard generation; in repo\n",
    "figdir = os.path.join(root, \"figures\") # Final figures; in repo"
   ]
  },
  {
   "cell_type": "markdown",
   "metadata": {},
   "source": [
    "# Import and preprocess raw data"
   ]
  },
  {
   "cell_type": "code",
   "execution_count": 20,
   "metadata": {},
   "outputs": [],
   "source": [
    "import preprocess"
   ]
  },
  {
   "cell_type": "markdown",
   "metadata": {},
   "source": [
    "## 2020 data"
   ]
  },
  {
   "cell_type": "code",
   "execution_count": 21,
   "metadata": {},
   "outputs": [],
   "source": [
    "# Set raw data file paths\n",
    "docketcsv = \"docket_reparse_03_02_2021.csv\"\n",
    "courtcsv = \"court_summary.csv\"\n",
    "docketpath = os.path.join(rawdir, docketcsv)\n",
    "courtpath = os.path.join(rawdir, courtcsv)"
   ]
  },
  {
   "cell_type": "code",
   "execution_count": 22,
   "metadata": {},
   "outputs": [],
   "source": [
    "# Set processed output file paths\n",
    "outcsv = \"processed_data.csv\"\n",
    "trimmedcsv = \"app_data.csv\"\n",
    "outpath = os.path.join(tmpdir, outcsv)\n",
    "trimmedpath = os.path.join(cleandir, trimmedcsv)"
   ]
  },
  {
   "cell_type": "code",
   "execution_count": 23,
   "metadata": {},
   "outputs": [
    {
     "name": "stdout",
     "output_type": "stream",
     "text": [
      "Removing 13 cases for which prelim_hearing_dt - bail_date was more than 5...\n",
      "> Imported 24225 rows with 25 columns:\n",
      "age\n",
      "age_group\n",
      "arrest_dt\n",
      "arresting_officer\n",
      "attorney\n",
      "attorney_type\n",
      "bail_amount\n",
      "bail_date\n",
      "bail_paid\n",
      "bail_set_bin\n",
      "bail_set_by\n",
      "bail_type\n",
      "case_status\n",
      "dob\n",
      "is_bail_posted\n",
      "is_philly_zipcode\n",
      "offense_date\n",
      "offense_type\n",
      "offenses\n",
      "prelim_hearing_dt\n",
      "prelim_hearing_time\n",
      "race\n",
      "sex\n",
      "statute\n",
      "zip\n",
      "> Saved new file\n"
     ]
    }
   ],
   "source": [
    "# Merge and clean docket and court summary data and save to new csv file\n",
    "df_2020 = preprocess.merge_and_clean_data(docketpath, courtpath,\n",
    "                                     outPath=outpath, verbose=True)"
   ]
  },
  {
   "cell_type": "code",
   "execution_count": 24,
   "metadata": {},
   "outputs": [
    {
     "data": {
      "text/html": [
       "<div>\n",
       "<style scoped>\n",
       "    .dataframe tbody tr th:only-of-type {\n",
       "        vertical-align: middle;\n",
       "    }\n",
       "\n",
       "    .dataframe tbody tr th {\n",
       "        vertical-align: top;\n",
       "    }\n",
       "\n",
       "    .dataframe thead th {\n",
       "        text-align: right;\n",
       "    }\n",
       "</style>\n",
       "<table border=\"1\" class=\"dataframe\">\n",
       "  <thead>\n",
       "    <tr style=\"text-align: right;\">\n",
       "      <th></th>\n",
       "      <th>attorney</th>\n",
       "      <th>attorney_type</th>\n",
       "      <th>offenses</th>\n",
       "      <th>offense_date</th>\n",
       "      <th>statute</th>\n",
       "      <th>offense_type</th>\n",
       "      <th>bail_set_by</th>\n",
       "      <th>bail_amount</th>\n",
       "      <th>bail_paid</th>\n",
       "      <th>bail_date</th>\n",
       "      <th>...</th>\n",
       "      <th>arrest_dt</th>\n",
       "      <th>prelim_hearing_dt</th>\n",
       "      <th>prelim_hearing_time</th>\n",
       "      <th>sex</th>\n",
       "      <th>race</th>\n",
       "      <th>is_philly_zipcode</th>\n",
       "      <th>age</th>\n",
       "      <th>age_group</th>\n",
       "      <th>bail_set_bin</th>\n",
       "      <th>is_bail_posted</th>\n",
       "    </tr>\n",
       "  </thead>\n",
       "  <tbody>\n",
       "    <tr>\n",
       "      <th>0</th>\n",
       "      <td>Defender Association of Philadelphia</td>\n",
       "      <td>Public</td>\n",
       "      <td>[DUI: Gen Imp/Inc of Driving Safely - 1st Off,...</td>\n",
       "      <td>2019-12-31</td>\n",
       "      <td>[75 § 3802, 75 § 3323]</td>\n",
       "      <td>[driving after imbibing alcohol or utilizing d...</td>\n",
       "      <td>Bernard, Francis X.</td>\n",
       "      <td>0.0</td>\n",
       "      <td>0.0</td>\n",
       "      <td>2020-01-01</td>\n",
       "      <td>...</td>\n",
       "      <td>2020-01-01</td>\n",
       "      <td>2020-01-01</td>\n",
       "      <td>2021-04-12 04:05:00</td>\n",
       "      <td>Male</td>\n",
       "      <td>White</td>\n",
       "      <td>1</td>\n",
       "      <td>25.0</td>\n",
       "      <td>18 to 25</td>\n",
       "      <td>None</td>\n",
       "      <td>0</td>\n",
       "    </tr>\n",
       "    <tr>\n",
       "      <th>1</th>\n",
       "      <td>Joseph Kevin Kelly</td>\n",
       "      <td>Private</td>\n",
       "      <td>[DUI: Gen Imp/Inc of Driving Safely - 1st Off]</td>\n",
       "      <td>2019-12-31</td>\n",
       "      <td>[75 § 3802]</td>\n",
       "      <td>[driving after imbibing alcohol or utilizing d...</td>\n",
       "      <td>Bernard, Francis X.</td>\n",
       "      <td>0.0</td>\n",
       "      <td>0.0</td>\n",
       "      <td>2020-01-01</td>\n",
       "      <td>...</td>\n",
       "      <td>2020-01-01</td>\n",
       "      <td>2020-01-01</td>\n",
       "      <td>2021-04-12 04:07:00</td>\n",
       "      <td>Male</td>\n",
       "      <td>White</td>\n",
       "      <td>1</td>\n",
       "      <td>24.0</td>\n",
       "      <td>18 to 25</td>\n",
       "      <td>None</td>\n",
       "      <td>0</td>\n",
       "    </tr>\n",
       "    <tr>\n",
       "      <th>2</th>\n",
       "      <td>Defender Association of Philadelphia</td>\n",
       "      <td>Public</td>\n",
       "      <td>[Retail Theft-Take Mdse]</td>\n",
       "      <td>2019-12-31</td>\n",
       "      <td>[18 § 3929]</td>\n",
       "      <td>[theft and related offenses]</td>\n",
       "      <td>Bernard, Francis X.</td>\n",
       "      <td>0.0</td>\n",
       "      <td>0.0</td>\n",
       "      <td>2020-01-01</td>\n",
       "      <td>...</td>\n",
       "      <td>2019-12-31</td>\n",
       "      <td>2020-01-01</td>\n",
       "      <td>2021-04-12 04:10:00</td>\n",
       "      <td>Male</td>\n",
       "      <td>Black</td>\n",
       "      <td>1</td>\n",
       "      <td>57.0</td>\n",
       "      <td>26 to 64</td>\n",
       "      <td>None</td>\n",
       "      <td>0</td>\n",
       "    </tr>\n",
       "    <tr>\n",
       "      <th>3</th>\n",
       "      <td>Defender Association of Philadelphia</td>\n",
       "      <td>Public</td>\n",
       "      <td>[Simple Assault, Recklessly Endangering Anothe...</td>\n",
       "      <td>2019-12-31</td>\n",
       "      <td>[18 § 2701, 18 § 2705]</td>\n",
       "      <td>[assault, assault]</td>\n",
       "      <td>Bernard, Francis X.</td>\n",
       "      <td>30000.0</td>\n",
       "      <td>0.0</td>\n",
       "      <td>2020-01-01</td>\n",
       "      <td>...</td>\n",
       "      <td>2019-12-31</td>\n",
       "      <td>2020-01-01</td>\n",
       "      <td>2021-04-12 04:15:00</td>\n",
       "      <td>Male</td>\n",
       "      <td>Black</td>\n",
       "      <td>1</td>\n",
       "      <td>32.0</td>\n",
       "      <td>26 to 64</td>\n",
       "      <td>25k to 50k</td>\n",
       "      <td>0</td>\n",
       "    </tr>\n",
       "    <tr>\n",
       "      <th>4</th>\n",
       "      <td>Lee Mandell</td>\n",
       "      <td>Court Appointed</td>\n",
       "      <td>[Robbery-Inflict Threat Imm Bod Inj, Conspirac...</td>\n",
       "      <td>2019-12-31</td>\n",
       "      <td>[18 § 3701 §§ A1IV, 18 § 903 §§ C, 18 § 3921 §...</td>\n",
       "      <td>[robbery, inchoate crimes, theft and related o...</td>\n",
       "      <td>No Magistrate Found</td>\n",
       "      <td>30000.0</td>\n",
       "      <td>0.0</td>\n",
       "      <td>2020-01-01</td>\n",
       "      <td>...</td>\n",
       "      <td>2020-01-01</td>\n",
       "      <td>2020-01-01</td>\n",
       "      <td>2021-04-12 08:39:00</td>\n",
       "      <td>Male</td>\n",
       "      <td>Black</td>\n",
       "      <td>1</td>\n",
       "      <td>18.0</td>\n",
       "      <td>18 to 25</td>\n",
       "      <td>25k to 50k</td>\n",
       "      <td>0</td>\n",
       "    </tr>\n",
       "  </tbody>\n",
       "</table>\n",
       "<p>5 rows × 25 columns</p>\n",
       "</div>"
      ],
      "text/plain": [
       "                               attorney    attorney_type  \\\n",
       "0  Defender Association of Philadelphia           Public   \n",
       "1                    Joseph Kevin Kelly          Private   \n",
       "2  Defender Association of Philadelphia           Public   \n",
       "3  Defender Association of Philadelphia           Public   \n",
       "4                           Lee Mandell  Court Appointed   \n",
       "\n",
       "                                            offenses offense_date  \\\n",
       "0  [DUI: Gen Imp/Inc of Driving Safely - 1st Off,...   2019-12-31   \n",
       "1     [DUI: Gen Imp/Inc of Driving Safely - 1st Off]   2019-12-31   \n",
       "2                           [Retail Theft-Take Mdse]   2019-12-31   \n",
       "3  [Simple Assault, Recklessly Endangering Anothe...   2019-12-31   \n",
       "4  [Robbery-Inflict Threat Imm Bod Inj, Conspirac...   2019-12-31   \n",
       "\n",
       "                                             statute  \\\n",
       "0                             [75 § 3802, 75 § 3323]   \n",
       "1                                        [75 § 3802]   \n",
       "2                                        [18 § 3929]   \n",
       "3                             [18 § 2701, 18 § 2705]   \n",
       "4  [18 § 3701 §§ A1IV, 18 § 903 §§ C, 18 § 3921 §...   \n",
       "\n",
       "                                        offense_type          bail_set_by  \\\n",
       "0  [driving after imbibing alcohol or utilizing d...  Bernard, Francis X.   \n",
       "1  [driving after imbibing alcohol or utilizing d...  Bernard, Francis X.   \n",
       "2                       [theft and related offenses]  Bernard, Francis X.   \n",
       "3                                 [assault, assault]  Bernard, Francis X.   \n",
       "4  [robbery, inchoate crimes, theft and related o...  No Magistrate Found   \n",
       "\n",
       "   bail_amount  bail_paid  bail_date  ...  arrest_dt prelim_hearing_dt  \\\n",
       "0          0.0        0.0 2020-01-01  ... 2020-01-01        2020-01-01   \n",
       "1          0.0        0.0 2020-01-01  ... 2020-01-01        2020-01-01   \n",
       "2          0.0        0.0 2020-01-01  ... 2019-12-31        2020-01-01   \n",
       "3      30000.0        0.0 2020-01-01  ... 2019-12-31        2020-01-01   \n",
       "4      30000.0        0.0 2020-01-01  ... 2020-01-01        2020-01-01   \n",
       "\n",
       "  prelim_hearing_time   sex   race is_philly_zipcode   age age_group  \\\n",
       "0 2021-04-12 04:05:00  Male  White                 1  25.0  18 to 25   \n",
       "1 2021-04-12 04:07:00  Male  White                 1  24.0  18 to 25   \n",
       "2 2021-04-12 04:10:00  Male  Black                 1  57.0  26 to 64   \n",
       "3 2021-04-12 04:15:00  Male  Black                 1  32.0  26 to 64   \n",
       "4 2021-04-12 08:39:00  Male  Black                 1  18.0  18 to 25   \n",
       "\n",
       "  bail_set_bin is_bail_posted  \n",
       "0         None              0  \n",
       "1         None              0  \n",
       "2         None              0  \n",
       "3   25k to 50k              0  \n",
       "4   25k to 50k              0  \n",
       "\n",
       "[5 rows x 25 columns]"
      ]
     },
     "execution_count": 24,
     "metadata": {},
     "output_type": "execute_result"
    }
   ],
   "source": [
    "df_2020.head()"
   ]
  },
  {
   "cell_type": "markdown",
   "metadata": {},
   "source": [
    "## 2021 data"
   ]
  },
  {
   "cell_type": "code",
   "execution_count": 25,
   "metadata": {},
   "outputs": [],
   "source": [
    "# Set raw data file paths\n",
    "docketcsv = \"2021-jan_feb_march_dockets.csv\"\n",
    "courtcsv = \"2021-jan_feb_march_court.csv\"\n",
    "docketpath = os.path.join(rawdir, docketcsv)\n",
    "courtpath = os.path.join(rawdir, courtcsv)"
   ]
  },
  {
   "cell_type": "code",
   "execution_count": 26,
   "metadata": {},
   "outputs": [],
   "source": [
    "# Set processed output file paths\n",
    "outcsv = \"processed_data_2021.csv\"\n",
    "trimmedcsv = \"app_data_2021.csv\"\n",
    "outpath = os.path.join(tmpdir, outcsv)\n",
    "trimmedpath = os.path.join(cleandir, trimmedcsv)"
   ]
  },
  {
   "cell_type": "code",
   "execution_count": 27,
   "metadata": {},
   "outputs": [
    {
     "name": "stdout",
     "output_type": "stream",
     "text": [
      "Removing 1 cases for which prelim_hearing_dt - bail_date was more than 5...\n",
      "> Imported 6017 rows with 25 columns:\n",
      "age\n",
      "age_group\n",
      "arrest_dt\n",
      "arresting_officer\n",
      "attorney\n",
      "attorney_type\n",
      "bail_amount\n",
      "bail_date\n",
      "bail_paid\n",
      "bail_set_bin\n",
      "bail_set_by\n",
      "bail_type\n",
      "case_status\n",
      "dob\n",
      "is_bail_posted\n",
      "is_philly_zipcode\n",
      "offense_date\n",
      "offense_type\n",
      "offenses\n",
      "prelim_hearing_dt\n",
      "prelim_hearing_time\n",
      "race\n",
      "sex\n",
      "statute\n",
      "zip\n",
      "> Saved new file\n"
     ]
    }
   ],
   "source": [
    "# Merge and clean docket and court summary data and save to new csv file\n",
    "df_2021 = preprocess.merge_and_clean_data(docketpath, courtpath,\n",
    "                                     outPath=outpath, verbose=True)"
   ]
  },
  {
   "cell_type": "code",
   "execution_count": 28,
   "metadata": {},
   "outputs": [
    {
     "data": {
      "text/html": [
       "<div>\n",
       "<style scoped>\n",
       "    .dataframe tbody tr th:only-of-type {\n",
       "        vertical-align: middle;\n",
       "    }\n",
       "\n",
       "    .dataframe tbody tr th {\n",
       "        vertical-align: top;\n",
       "    }\n",
       "\n",
       "    .dataframe thead th {\n",
       "        text-align: right;\n",
       "    }\n",
       "</style>\n",
       "<table border=\"1\" class=\"dataframe\">\n",
       "  <thead>\n",
       "    <tr style=\"text-align: right;\">\n",
       "      <th></th>\n",
       "      <th>attorney</th>\n",
       "      <th>attorney_type</th>\n",
       "      <th>offenses</th>\n",
       "      <th>offense_date</th>\n",
       "      <th>statute</th>\n",
       "      <th>offense_type</th>\n",
       "      <th>bail_set_by</th>\n",
       "      <th>bail_amount</th>\n",
       "      <th>bail_paid</th>\n",
       "      <th>bail_date</th>\n",
       "      <th>...</th>\n",
       "      <th>arrest_dt</th>\n",
       "      <th>prelim_hearing_dt</th>\n",
       "      <th>prelim_hearing_time</th>\n",
       "      <th>sex</th>\n",
       "      <th>race</th>\n",
       "      <th>is_philly_zipcode</th>\n",
       "      <th>age</th>\n",
       "      <th>age_group</th>\n",
       "      <th>bail_set_bin</th>\n",
       "      <th>is_bail_posted</th>\n",
       "    </tr>\n",
       "  </thead>\n",
       "  <tbody>\n",
       "    <tr>\n",
       "      <th>0</th>\n",
       "      <td>Defender Association of Philadelphia</td>\n",
       "      <td>Public</td>\n",
       "      <td>[Manufacture, Delivery, or Possession With Int...</td>\n",
       "      <td>2020-12-31</td>\n",
       "      <td>[35 § 780-113, 18 § 903, 18 § 6105, 18 § 6106,...</td>\n",
       "      <td>[drug and substance, inchoate crimes, firearms...</td>\n",
       "      <td>Stack, Patrick</td>\n",
       "      <td>200000.0</td>\n",
       "      <td>0.0</td>\n",
       "      <td>2021-01-01</td>\n",
       "      <td>...</td>\n",
       "      <td>2021-01-01</td>\n",
       "      <td>2021-01-01</td>\n",
       "      <td>2021-04-12 04:10:00</td>\n",
       "      <td>Male</td>\n",
       "      <td>White</td>\n",
       "      <td>1</td>\n",
       "      <td>31.0</td>\n",
       "      <td>26 to 64</td>\n",
       "      <td>100k to 500k</td>\n",
       "      <td>0</td>\n",
       "    </tr>\n",
       "    <tr>\n",
       "      <th>1</th>\n",
       "      <td>NaN</td>\n",
       "      <td>NaN</td>\n",
       "      <td>[Manufacture, Delivery, or Possession With Int...</td>\n",
       "      <td>2020-12-31</td>\n",
       "      <td>[35 § 780-113, 18 § 6105, 18 § 6106, 35 § 780-...</td>\n",
       "      <td>[drug and substance, firearms and other danger...</td>\n",
       "      <td>Stack, Patrick</td>\n",
       "      <td>200000.0</td>\n",
       "      <td>0.0</td>\n",
       "      <td>2021-01-01</td>\n",
       "      <td>...</td>\n",
       "      <td>2021-01-01</td>\n",
       "      <td>2021-01-01</td>\n",
       "      <td>2021-04-12 04:13:00</td>\n",
       "      <td>Male</td>\n",
       "      <td>White</td>\n",
       "      <td>1</td>\n",
       "      <td>30.0</td>\n",
       "      <td>26 to 64</td>\n",
       "      <td>100k to 500k</td>\n",
       "      <td>0</td>\n",
       "    </tr>\n",
       "    <tr>\n",
       "      <th>2</th>\n",
       "      <td>Defender Association of Philadelphia</td>\n",
       "      <td>Public</td>\n",
       "      <td>[Burglary - Overnight Accommodations; Person P...</td>\n",
       "      <td>2020-12-31</td>\n",
       "      <td>[18 § 3502, 18 § 3503, 18 § 3921, 18 § 3925, 1...</td>\n",
       "      <td>[burglary and other criminal intrusion, burgla...</td>\n",
       "      <td>Stack, Patrick</td>\n",
       "      <td>0.0</td>\n",
       "      <td>0.0</td>\n",
       "      <td>2021-01-01</td>\n",
       "      <td>...</td>\n",
       "      <td>2020-12-31</td>\n",
       "      <td>2021-01-01</td>\n",
       "      <td>2021-04-12 04:14:00</td>\n",
       "      <td>Male</td>\n",
       "      <td>White</td>\n",
       "      <td>1</td>\n",
       "      <td>37.0</td>\n",
       "      <td>26 to 64</td>\n",
       "      <td>None</td>\n",
       "      <td>0</td>\n",
       "    </tr>\n",
       "    <tr>\n",
       "      <th>3</th>\n",
       "      <td>Defender Association of Philadelphia</td>\n",
       "      <td>Public</td>\n",
       "      <td>[Weapons of Mass Dest. - Unlawful Poss or Manu...</td>\n",
       "      <td>2020-12-31</td>\n",
       "      <td>[18 § 2716, 18 § 3921, 18 § 3925, 18 § 903]</td>\n",
       "      <td>[assault, theft and related offenses, theft an...</td>\n",
       "      <td>Stack, Patrick</td>\n",
       "      <td>100000.0</td>\n",
       "      <td>0.0</td>\n",
       "      <td>2021-01-01</td>\n",
       "      <td>...</td>\n",
       "      <td>2021-01-01</td>\n",
       "      <td>2021-01-01</td>\n",
       "      <td>2021-04-12 04:18:00</td>\n",
       "      <td>Female</td>\n",
       "      <td>White</td>\n",
       "      <td>0</td>\n",
       "      <td>27.0</td>\n",
       "      <td>26 to 64</td>\n",
       "      <td>100k to 500k</td>\n",
       "      <td>0</td>\n",
       "    </tr>\n",
       "    <tr>\n",
       "      <th>4</th>\n",
       "      <td>Defender Association of Philadelphia</td>\n",
       "      <td>Public</td>\n",
       "      <td>[Possession Of Firearm Prohibited, Firearms No...</td>\n",
       "      <td>2020-12-31</td>\n",
       "      <td>[18 § 6105, 18 § 6106, 18 § 6108]</td>\n",
       "      <td>[firearms and other dangerous articles, firear...</td>\n",
       "      <td>Stack, Patrick</td>\n",
       "      <td>100000.0</td>\n",
       "      <td>0.0</td>\n",
       "      <td>2021-01-01</td>\n",
       "      <td>...</td>\n",
       "      <td>2021-01-01</td>\n",
       "      <td>2021-01-01</td>\n",
       "      <td>2021-04-12 04:21:00</td>\n",
       "      <td>Male</td>\n",
       "      <td>Black</td>\n",
       "      <td>1</td>\n",
       "      <td>30.0</td>\n",
       "      <td>26 to 64</td>\n",
       "      <td>100k to 500k</td>\n",
       "      <td>0</td>\n",
       "    </tr>\n",
       "  </tbody>\n",
       "</table>\n",
       "<p>5 rows × 25 columns</p>\n",
       "</div>"
      ],
      "text/plain": [
       "                               attorney attorney_type  \\\n",
       "0  Defender Association of Philadelphia        Public   \n",
       "1                                   NaN           NaN   \n",
       "2  Defender Association of Philadelphia        Public   \n",
       "3  Defender Association of Philadelphia        Public   \n",
       "4  Defender Association of Philadelphia        Public   \n",
       "\n",
       "                                            offenses offense_date  \\\n",
       "0  [Manufacture, Delivery, or Possession With Int...   2020-12-31   \n",
       "1  [Manufacture, Delivery, or Possession With Int...   2020-12-31   \n",
       "2  [Burglary - Overnight Accommodations; Person P...   2020-12-31   \n",
       "3  [Weapons of Mass Dest. - Unlawful Poss or Manu...   2020-12-31   \n",
       "4  [Possession Of Firearm Prohibited, Firearms No...   2020-12-31   \n",
       "\n",
       "                                             statute  \\\n",
       "0  [35 § 780-113, 18 § 903, 18 § 6105, 18 § 6106,...   \n",
       "1  [35 § 780-113, 18 § 6105, 18 § 6106, 35 § 780-...   \n",
       "2  [18 § 3502, 18 § 3503, 18 § 3921, 18 § 3925, 1...   \n",
       "3        [18 § 2716, 18 § 3921, 18 § 3925, 18 § 903]   \n",
       "4                  [18 § 6105, 18 § 6106, 18 § 6108]   \n",
       "\n",
       "                                        offense_type     bail_set_by  \\\n",
       "0  [drug and substance, inchoate crimes, firearms...  Stack, Patrick   \n",
       "1  [drug and substance, firearms and other danger...  Stack, Patrick   \n",
       "2  [burglary and other criminal intrusion, burgla...  Stack, Patrick   \n",
       "3  [assault, theft and related offenses, theft an...  Stack, Patrick   \n",
       "4  [firearms and other dangerous articles, firear...  Stack, Patrick   \n",
       "\n",
       "   bail_amount  bail_paid  bail_date  ...  arrest_dt prelim_hearing_dt  \\\n",
       "0     200000.0        0.0 2021-01-01  ... 2021-01-01        2021-01-01   \n",
       "1     200000.0        0.0 2021-01-01  ... 2021-01-01        2021-01-01   \n",
       "2          0.0        0.0 2021-01-01  ... 2020-12-31        2021-01-01   \n",
       "3     100000.0        0.0 2021-01-01  ... 2021-01-01        2021-01-01   \n",
       "4     100000.0        0.0 2021-01-01  ... 2021-01-01        2021-01-01   \n",
       "\n",
       "  prelim_hearing_time     sex   race is_philly_zipcode   age age_group  \\\n",
       "0 2021-04-12 04:10:00    Male  White                 1  31.0  26 to 64   \n",
       "1 2021-04-12 04:13:00    Male  White                 1  30.0  26 to 64   \n",
       "2 2021-04-12 04:14:00    Male  White                 1  37.0  26 to 64   \n",
       "3 2021-04-12 04:18:00  Female  White                 0  27.0  26 to 64   \n",
       "4 2021-04-12 04:21:00    Male  Black                 1  30.0  26 to 64   \n",
       "\n",
       "   bail_set_bin is_bail_posted  \n",
       "0  100k to 500k              0  \n",
       "1  100k to 500k              0  \n",
       "2          None              0  \n",
       "3  100k to 500k              0  \n",
       "4  100k to 500k              0  \n",
       "\n",
       "[5 rows x 25 columns]"
      ]
     },
     "execution_count": 28,
     "metadata": {},
     "output_type": "execute_result"
    }
   ],
   "source": [
    "df_2021.head()"
   ]
  },
  {
   "cell_type": "code",
   "execution_count": 29,
   "metadata": {},
   "outputs": [],
   "source": [
    "# Get bin labels\n",
    "bail_bin_labels = preprocess.get_bail_bin_labels()\n",
    "age_labels = preprocess.get_age_bin_labels()"
   ]
  },
  {
   "cell_type": "markdown",
   "metadata": {},
   "source": [
    "## Aggregate data"
   ]
  },
  {
   "cell_type": "code",
   "execution_count": 30,
   "metadata": {},
   "outputs": [],
   "source": [
    "# Concatenate data\n",
    "df = pd.concat([df_2020, df_2021])\n",
    "df.reset_index(inplace = True, drop = True)"
   ]
  },
  {
   "cell_type": "code",
   "execution_count": 31,
   "metadata": {},
   "outputs": [],
   "source": [
    "# Create columns for year and month\n",
    "df['bail_year'] = df['bail_date'].dt.year\n",
    "df['bail_month'] = df['bail_date'].dt.month"
   ]
  },
  {
   "cell_type": "markdown",
   "metadata": {},
   "source": [
    "# Figure: Bail types distributions\n",
    "- Dropdown 1: year-end comparison of bail amount paid for 2020 vs 2021 (YTD)\n",
    "- Dropdown 2: monthly summary for year 2020, 2021?"
   ]
  },
  {
   "cell_type": "code",
   "execution_count": 132,
   "metadata": {},
   "outputs": [
    {
     "name": "stdout",
     "output_type": "stream",
     "text": [
      "    bail_year  bail_month    bail_type  count\n",
      "0        2020           1       Denied     22\n",
      "1        2020           1     Monetary   1308\n",
      "2        2020           1  Nonmonetary     74\n",
      "3        2020           1          ROR    831\n",
      "4        2020           1    Unsecured    281\n",
      "..        ...         ...          ...    ...\n",
      "60       2021           2    Unsecured    365\n",
      "61       2021           3       Denied     39\n",
      "62       2021           3     Monetary   1125\n",
      "63       2021           3          ROR    492\n",
      "64       2021           3    Unsecured    429\n",
      "\n",
      "[65 rows x 4 columns]\n"
     ]
    }
   ],
   "source": [
    "# Group by month\n",
    "df_month = df.groupby(['bail_year', 'bail_month', 'bail_type'])['bail_type'].count().reset_index(name='count')\n",
    "print(df_month)"
   ]
  },
  {
   "cell_type": "code",
   "execution_count": 146,
   "metadata": {},
   "outputs": [
    {
     "name": "stdout",
     "output_type": "stream",
     "text": [
      "bail_year  bail_type  \n",
      "2020       Denied           346\n",
      "           Monetary       11807\n",
      "           Nonmonetary      165\n",
      "           ROR             6846\n",
      "           Unsecured       5049\n",
      "2021       Denied           116\n",
      "           Monetary        3261\n",
      "           Nonmonetary        1\n",
      "           ROR             1435\n",
      "           Unsecured       1216\n",
      "Name: count, dtype: int64\n"
     ]
    }
   ],
   "source": [
    "df_year = df_month.groupby(['bail_year', 'bail_type'])['count'].sum()#.reset_index(name='count')\n",
    "print(df_year)"
   ]
  },
  {
   "cell_type": "code",
   "execution_count": 135,
   "metadata": {},
   "outputs": [
    {
     "name": "stdout",
     "output_type": "stream",
     "text": [
      "    bail_year  bail_month    bail_type  count\n",
      "0        2020           1       Denied     22\n",
      "1        2020           1     Monetary   1308\n",
      "2        2020           1  Nonmonetary     74\n",
      "3        2020           1          ROR    831\n",
      "4        2020           1    Unsecured    281\n",
      "..        ...         ...          ...    ...\n",
      "60       2021           2    Unsecured    365\n",
      "61       2021           3       Denied     39\n",
      "62       2021           3     Monetary   1125\n",
      "63       2021           3          ROR    492\n",
      "64       2021           3    Unsecured    429\n",
      "\n",
      "[65 rows x 4 columns]\n"
     ]
    }
   ],
   "source": [
    "# save data\n",
    "bail_type_month = os.path.join(cleandir, \"app_bail_type.csv\")\n",
    "#df_month.to_csv(bail_type_month, index=False)\n",
    "df_month = pd.read_csv(bail_type_month)\n",
    "print(df_month)"
   ]
  },
  {
   "cell_type": "code",
   "execution_count": 139,
   "metadata": {},
   "outputs": [
    {
     "name": "stdout",
     "output_type": "stream",
     "text": [
      "0          Denied\n",
      "1        Monetary\n",
      "2     Nonmonetary\n",
      "3             ROR\n",
      "4       Unsecured\n",
      "         ...     \n",
      "60      Unsecured\n",
      "61         Denied\n",
      "62       Monetary\n",
      "63            ROR\n",
      "64      Unsecured\n",
      "Name: bail_type, Length: 65, dtype: object\n"
     ]
    }
   ],
   "source": [
    "month_data = df_month['bail_type']\n",
    "print(month_data)\n",
    "\n",
    "bail_type_2020 = df_year[2020]\n",
    "bail_type_2021 = df_year[2021]\n",
    "\n",
    "months = ['Jan', 'Feb', 'Mar', 'Apr', 'May', 'Jun', 'Jul', 'Aug', 'Sep', 'Oct', 'Nov', 'Dec']"
   ]
  },
  {
   "cell_type": "code",
   "execution_count": 173,
   "metadata": {},
   "outputs": [
    {
     "name": "stdout",
     "output_type": "stream",
     "text": [
      "24213\n"
     ]
    }
   ],
   "source": [
    "print(df_year[2020].sum())"
   ]
  },
  {
   "cell_type": "code",
   "execution_count": 167,
   "metadata": {},
   "outputs": [
    {
     "data": {
      "application/vnd.plotly.v1+json": {
       "config": {
        "plotlyServerURL": "https://plot.ly"
       },
       "data": [
        {
         "hoverinfo": "text",
         "hovertext": [
          "Denied bail in 2020: 346 people"
         ],
         "name": "Denied",
         "orientation": "v",
         "text": "",
         "textposition": "inside",
         "type": "bar",
         "x": [
          0
         ],
         "y": [
          346
         ]
        },
        {
         "hoverinfo": "text",
         "hovertext": [
          "Denied bail in 2021: 116 people"
         ],
         "name": "Denied",
         "orientation": "v",
         "text": "",
         "textposition": "inside",
         "type": "bar",
         "x": [
          1
         ],
         "y": [
          116
         ]
        },
        {
         "hoverinfo": "text",
         "hovertext": [
          "Monetary bail in 2020: 11807 people"
         ],
         "name": "Monetary",
         "orientation": "v",
         "text": "",
         "textposition": "inside",
         "type": "bar",
         "x": [
          0
         ],
         "y": [
          11807
         ]
        },
        {
         "hoverinfo": "text",
         "hovertext": [
          "Monetary bail in 2021: 3261 people"
         ],
         "name": "Monetary",
         "orientation": "v",
         "text": "",
         "textposition": "inside",
         "type": "bar",
         "x": [
          1
         ],
         "y": [
          3261
         ]
        },
        {
         "hoverinfo": "text",
         "hovertext": [
          "Unsecured bail in 2020: 5049 people"
         ],
         "name": "Unsecured",
         "orientation": "v",
         "text": "",
         "textposition": "inside",
         "type": "bar",
         "x": [
          0
         ],
         "y": [
          5049
         ]
        },
        {
         "hoverinfo": "text",
         "hovertext": [
          "Unsecured bail in 2021: 1216 people"
         ],
         "name": "Unsecured",
         "orientation": "v",
         "text": "",
         "textposition": "inside",
         "type": "bar",
         "x": [
          1
         ],
         "y": [
          1216
         ]
        },
        {
         "hoverinfo": "text",
         "hovertext": [
          "Nonmonetary bail in 2020: 165 people"
         ],
         "name": "Nonmonetary",
         "orientation": "v",
         "text": "",
         "textposition": "inside",
         "type": "bar",
         "x": [
          0
         ],
         "y": [
          165
         ]
        },
        {
         "hoverinfo": "text",
         "hovertext": [
          "Nonmonetary bail in 2021: 1 people"
         ],
         "name": "Nonmonetary",
         "orientation": "v",
         "text": "",
         "textposition": "inside",
         "type": "bar",
         "x": [
          1
         ],
         "y": [
          1
         ]
        },
        {
         "hoverinfo": "text",
         "hovertext": [
          "ROR bail in 2020: 6846 people"
         ],
         "name": "ROR",
         "orientation": "v",
         "text": "",
         "textposition": "inside",
         "type": "bar",
         "x": [
          0
         ],
         "y": [
          6846
         ]
        },
        {
         "hoverinfo": "text",
         "hovertext": [
          "ROR bail in 2021: 1435 people"
         ],
         "name": "ROR",
         "orientation": "v",
         "text": "",
         "textposition": "inside",
         "type": "bar",
         "x": [
          1
         ],
         "y": [
          1435
         ]
        }
       ],
       "layout": {
        "barmode": "stack",
        "legend": {
         "title": {
          "text": "Bail Types"
         },
         "traceorder": "normal"
        },
        "template": {
         "data": {
          "bar": [
           {
            "error_x": {
             "color": "#2a3f5f"
            },
            "error_y": {
             "color": "#2a3f5f"
            },
            "marker": {
             "line": {
              "color": "#E5ECF6",
              "width": 0.5
             }
            },
            "type": "bar"
           }
          ],
          "barpolar": [
           {
            "marker": {
             "line": {
              "color": "#E5ECF6",
              "width": 0.5
             }
            },
            "type": "barpolar"
           }
          ],
          "carpet": [
           {
            "aaxis": {
             "endlinecolor": "#2a3f5f",
             "gridcolor": "white",
             "linecolor": "white",
             "minorgridcolor": "white",
             "startlinecolor": "#2a3f5f"
            },
            "baxis": {
             "endlinecolor": "#2a3f5f",
             "gridcolor": "white",
             "linecolor": "white",
             "minorgridcolor": "white",
             "startlinecolor": "#2a3f5f"
            },
            "type": "carpet"
           }
          ],
          "choropleth": [
           {
            "colorbar": {
             "outlinewidth": 0,
             "ticks": ""
            },
            "type": "choropleth"
           }
          ],
          "contour": [
           {
            "colorbar": {
             "outlinewidth": 0,
             "ticks": ""
            },
            "colorscale": [
             [
              0,
              "#0d0887"
             ],
             [
              0.1111111111111111,
              "#46039f"
             ],
             [
              0.2222222222222222,
              "#7201a8"
             ],
             [
              0.3333333333333333,
              "#9c179e"
             ],
             [
              0.4444444444444444,
              "#bd3786"
             ],
             [
              0.5555555555555556,
              "#d8576b"
             ],
             [
              0.6666666666666666,
              "#ed7953"
             ],
             [
              0.7777777777777778,
              "#fb9f3a"
             ],
             [
              0.8888888888888888,
              "#fdca26"
             ],
             [
              1,
              "#f0f921"
             ]
            ],
            "type": "contour"
           }
          ],
          "contourcarpet": [
           {
            "colorbar": {
             "outlinewidth": 0,
             "ticks": ""
            },
            "type": "contourcarpet"
           }
          ],
          "heatmap": [
           {
            "colorbar": {
             "outlinewidth": 0,
             "ticks": ""
            },
            "colorscale": [
             [
              0,
              "#0d0887"
             ],
             [
              0.1111111111111111,
              "#46039f"
             ],
             [
              0.2222222222222222,
              "#7201a8"
             ],
             [
              0.3333333333333333,
              "#9c179e"
             ],
             [
              0.4444444444444444,
              "#bd3786"
             ],
             [
              0.5555555555555556,
              "#d8576b"
             ],
             [
              0.6666666666666666,
              "#ed7953"
             ],
             [
              0.7777777777777778,
              "#fb9f3a"
             ],
             [
              0.8888888888888888,
              "#fdca26"
             ],
             [
              1,
              "#f0f921"
             ]
            ],
            "type": "heatmap"
           }
          ],
          "heatmapgl": [
           {
            "colorbar": {
             "outlinewidth": 0,
             "ticks": ""
            },
            "colorscale": [
             [
              0,
              "#0d0887"
             ],
             [
              0.1111111111111111,
              "#46039f"
             ],
             [
              0.2222222222222222,
              "#7201a8"
             ],
             [
              0.3333333333333333,
              "#9c179e"
             ],
             [
              0.4444444444444444,
              "#bd3786"
             ],
             [
              0.5555555555555556,
              "#d8576b"
             ],
             [
              0.6666666666666666,
              "#ed7953"
             ],
             [
              0.7777777777777778,
              "#fb9f3a"
             ],
             [
              0.8888888888888888,
              "#fdca26"
             ],
             [
              1,
              "#f0f921"
             ]
            ],
            "type": "heatmapgl"
           }
          ],
          "histogram": [
           {
            "marker": {
             "colorbar": {
              "outlinewidth": 0,
              "ticks": ""
             }
            },
            "type": "histogram"
           }
          ],
          "histogram2d": [
           {
            "colorbar": {
             "outlinewidth": 0,
             "ticks": ""
            },
            "colorscale": [
             [
              0,
              "#0d0887"
             ],
             [
              0.1111111111111111,
              "#46039f"
             ],
             [
              0.2222222222222222,
              "#7201a8"
             ],
             [
              0.3333333333333333,
              "#9c179e"
             ],
             [
              0.4444444444444444,
              "#bd3786"
             ],
             [
              0.5555555555555556,
              "#d8576b"
             ],
             [
              0.6666666666666666,
              "#ed7953"
             ],
             [
              0.7777777777777778,
              "#fb9f3a"
             ],
             [
              0.8888888888888888,
              "#fdca26"
             ],
             [
              1,
              "#f0f921"
             ]
            ],
            "type": "histogram2d"
           }
          ],
          "histogram2dcontour": [
           {
            "colorbar": {
             "outlinewidth": 0,
             "ticks": ""
            },
            "colorscale": [
             [
              0,
              "#0d0887"
             ],
             [
              0.1111111111111111,
              "#46039f"
             ],
             [
              0.2222222222222222,
              "#7201a8"
             ],
             [
              0.3333333333333333,
              "#9c179e"
             ],
             [
              0.4444444444444444,
              "#bd3786"
             ],
             [
              0.5555555555555556,
              "#d8576b"
             ],
             [
              0.6666666666666666,
              "#ed7953"
             ],
             [
              0.7777777777777778,
              "#fb9f3a"
             ],
             [
              0.8888888888888888,
              "#fdca26"
             ],
             [
              1,
              "#f0f921"
             ]
            ],
            "type": "histogram2dcontour"
           }
          ],
          "mesh3d": [
           {
            "colorbar": {
             "outlinewidth": 0,
             "ticks": ""
            },
            "type": "mesh3d"
           }
          ],
          "parcoords": [
           {
            "line": {
             "colorbar": {
              "outlinewidth": 0,
              "ticks": ""
             }
            },
            "type": "parcoords"
           }
          ],
          "pie": [
           {
            "automargin": true,
            "type": "pie"
           }
          ],
          "scatter": [
           {
            "marker": {
             "colorbar": {
              "outlinewidth": 0,
              "ticks": ""
             }
            },
            "type": "scatter"
           }
          ],
          "scatter3d": [
           {
            "line": {
             "colorbar": {
              "outlinewidth": 0,
              "ticks": ""
             }
            },
            "marker": {
             "colorbar": {
              "outlinewidth": 0,
              "ticks": ""
             }
            },
            "type": "scatter3d"
           }
          ],
          "scattercarpet": [
           {
            "marker": {
             "colorbar": {
              "outlinewidth": 0,
              "ticks": ""
             }
            },
            "type": "scattercarpet"
           }
          ],
          "scattergeo": [
           {
            "marker": {
             "colorbar": {
              "outlinewidth": 0,
              "ticks": ""
             }
            },
            "type": "scattergeo"
           }
          ],
          "scattergl": [
           {
            "marker": {
             "colorbar": {
              "outlinewidth": 0,
              "ticks": ""
             }
            },
            "type": "scattergl"
           }
          ],
          "scattermapbox": [
           {
            "marker": {
             "colorbar": {
              "outlinewidth": 0,
              "ticks": ""
             }
            },
            "type": "scattermapbox"
           }
          ],
          "scatterpolar": [
           {
            "marker": {
             "colorbar": {
              "outlinewidth": 0,
              "ticks": ""
             }
            },
            "type": "scatterpolar"
           }
          ],
          "scatterpolargl": [
           {
            "marker": {
             "colorbar": {
              "outlinewidth": 0,
              "ticks": ""
             }
            },
            "type": "scatterpolargl"
           }
          ],
          "scatterternary": [
           {
            "marker": {
             "colorbar": {
              "outlinewidth": 0,
              "ticks": ""
             }
            },
            "type": "scatterternary"
           }
          ],
          "surface": [
           {
            "colorbar": {
             "outlinewidth": 0,
             "ticks": ""
            },
            "colorscale": [
             [
              0,
              "#0d0887"
             ],
             [
              0.1111111111111111,
              "#46039f"
             ],
             [
              0.2222222222222222,
              "#7201a8"
             ],
             [
              0.3333333333333333,
              "#9c179e"
             ],
             [
              0.4444444444444444,
              "#bd3786"
             ],
             [
              0.5555555555555556,
              "#d8576b"
             ],
             [
              0.6666666666666666,
              "#ed7953"
             ],
             [
              0.7777777777777778,
              "#fb9f3a"
             ],
             [
              0.8888888888888888,
              "#fdca26"
             ],
             [
              1,
              "#f0f921"
             ]
            ],
            "type": "surface"
           }
          ],
          "table": [
           {
            "cells": {
             "fill": {
              "color": "#EBF0F8"
             },
             "line": {
              "color": "white"
             }
            },
            "header": {
             "fill": {
              "color": "#C8D4E3"
             },
             "line": {
              "color": "white"
             }
            },
            "type": "table"
           }
          ]
         },
         "layout": {
          "annotationdefaults": {
           "arrowcolor": "#2a3f5f",
           "arrowhead": 0,
           "arrowwidth": 1
          },
          "coloraxis": {
           "colorbar": {
            "outlinewidth": 0,
            "ticks": ""
           }
          },
          "colorscale": {
           "diverging": [
            [
             0,
             "#8e0152"
            ],
            [
             0.1,
             "#c51b7d"
            ],
            [
             0.2,
             "#de77ae"
            ],
            [
             0.3,
             "#f1b6da"
            ],
            [
             0.4,
             "#fde0ef"
            ],
            [
             0.5,
             "#f7f7f7"
            ],
            [
             0.6,
             "#e6f5d0"
            ],
            [
             0.7,
             "#b8e186"
            ],
            [
             0.8,
             "#7fbc41"
            ],
            [
             0.9,
             "#4d9221"
            ],
            [
             1,
             "#276419"
            ]
           ],
           "sequential": [
            [
             0,
             "#0d0887"
            ],
            [
             0.1111111111111111,
             "#46039f"
            ],
            [
             0.2222222222222222,
             "#7201a8"
            ],
            [
             0.3333333333333333,
             "#9c179e"
            ],
            [
             0.4444444444444444,
             "#bd3786"
            ],
            [
             0.5555555555555556,
             "#d8576b"
            ],
            [
             0.6666666666666666,
             "#ed7953"
            ],
            [
             0.7777777777777778,
             "#fb9f3a"
            ],
            [
             0.8888888888888888,
             "#fdca26"
            ],
            [
             1,
             "#f0f921"
            ]
           ],
           "sequentialminus": [
            [
             0,
             "#0d0887"
            ],
            [
             0.1111111111111111,
             "#46039f"
            ],
            [
             0.2222222222222222,
             "#7201a8"
            ],
            [
             0.3333333333333333,
             "#9c179e"
            ],
            [
             0.4444444444444444,
             "#bd3786"
            ],
            [
             0.5555555555555556,
             "#d8576b"
            ],
            [
             0.6666666666666666,
             "#ed7953"
            ],
            [
             0.7777777777777778,
             "#fb9f3a"
            ],
            [
             0.8888888888888888,
             "#fdca26"
            ],
            [
             1,
             "#f0f921"
            ]
           ]
          },
          "colorway": [
           "#636efa",
           "#EF553B",
           "#00cc96",
           "#ab63fa",
           "#FFA15A",
           "#19d3f3",
           "#FF6692",
           "#B6E880",
           "#FF97FF",
           "#FECB52"
          ],
          "font": {
           "color": "#2a3f5f"
          },
          "geo": {
           "bgcolor": "white",
           "lakecolor": "white",
           "landcolor": "#E5ECF6",
           "showlakes": true,
           "showland": true,
           "subunitcolor": "white"
          },
          "hoverlabel": {
           "align": "left"
          },
          "hovermode": "closest",
          "mapbox": {
           "style": "light"
          },
          "paper_bgcolor": "white",
          "plot_bgcolor": "#E5ECF6",
          "polar": {
           "angularaxis": {
            "gridcolor": "white",
            "linecolor": "white",
            "ticks": ""
           },
           "bgcolor": "#E5ECF6",
           "radialaxis": {
            "gridcolor": "white",
            "linecolor": "white",
            "ticks": ""
           }
          },
          "scene": {
           "xaxis": {
            "backgroundcolor": "#E5ECF6",
            "gridcolor": "white",
            "gridwidth": 2,
            "linecolor": "white",
            "showbackground": true,
            "ticks": "",
            "zerolinecolor": "white"
           },
           "yaxis": {
            "backgroundcolor": "#E5ECF6",
            "gridcolor": "white",
            "gridwidth": 2,
            "linecolor": "white",
            "showbackground": true,
            "ticks": "",
            "zerolinecolor": "white"
           },
           "zaxis": {
            "backgroundcolor": "#E5ECF6",
            "gridcolor": "white",
            "gridwidth": 2,
            "linecolor": "white",
            "showbackground": true,
            "ticks": "",
            "zerolinecolor": "white"
           }
          },
          "shapedefaults": {
           "line": {
            "color": "#2a3f5f"
           }
          },
          "ternary": {
           "aaxis": {
            "gridcolor": "white",
            "linecolor": "white",
            "ticks": ""
           },
           "baxis": {
            "gridcolor": "white",
            "linecolor": "white",
            "ticks": ""
           },
           "bgcolor": "#E5ECF6",
           "caxis": {
            "gridcolor": "white",
            "linecolor": "white",
            "ticks": ""
           }
          },
          "title": {
           "x": 0.05
          },
          "xaxis": {
           "automargin": true,
           "gridcolor": "white",
           "linecolor": "white",
           "ticks": "",
           "title": {
            "standoff": 15
           },
           "zerolinecolor": "white",
           "zerolinewidth": 2
          },
          "yaxis": {
           "automargin": true,
           "gridcolor": "white",
           "linecolor": "white",
           "ticks": "",
           "title": {
            "standoff": 15
           },
           "zerolinecolor": "white",
           "zerolinewidth": 2
          }
         }
        },
        "title": {
         "text": "Breakdown of Bail Types Set"
        },
        "xaxis": {
         "ticktext": [
          "2020",
          "2021 YTD"
         ],
         "tickvals": [
          0,
          1
         ],
         "title": {
          "text": "Year"
         }
        },
        "yaxis": {
         "title": {
          "text": "Number of People"
         }
        }
       }
      },
      "text/html": [
       "<div>                            <div id=\"fa70a41d-898a-4250-b2f2-ab1189e61826\" class=\"plotly-graph-div\" style=\"height:525px; width:100%;\"></div>            <script type=\"text/javascript\">                require([\"plotly\"], function(Plotly) {                    window.PLOTLYENV=window.PLOTLYENV || {};                                    if (document.getElementById(\"fa70a41d-898a-4250-b2f2-ab1189e61826\")) {                    Plotly.newPlot(                        \"fa70a41d-898a-4250-b2f2-ab1189e61826\",                        [{\"hoverinfo\": \"text\", \"hovertext\": [\"Denied bail in 2020: 346 people\"], \"name\": \"Denied\", \"orientation\": \"v\", \"text\": \"\", \"textposition\": \"inside\", \"type\": \"bar\", \"x\": [0], \"y\": [346]}, {\"hoverinfo\": \"text\", \"hovertext\": [\"Denied bail in 2021: 116 people\"], \"name\": \"Denied\", \"orientation\": \"v\", \"text\": \"\", \"textposition\": \"inside\", \"type\": \"bar\", \"x\": [1], \"y\": [116]}, {\"hoverinfo\": \"text\", \"hovertext\": [\"Monetary bail in 2020: 11807 people\"], \"name\": \"Monetary\", \"orientation\": \"v\", \"text\": \"\", \"textposition\": \"inside\", \"type\": \"bar\", \"x\": [0], \"y\": [11807]}, {\"hoverinfo\": \"text\", \"hovertext\": [\"Monetary bail in 2021: 3261 people\"], \"name\": \"Monetary\", \"orientation\": \"v\", \"text\": \"\", \"textposition\": \"inside\", \"type\": \"bar\", \"x\": [1], \"y\": [3261]}, {\"hoverinfo\": \"text\", \"hovertext\": [\"Unsecured bail in 2020: 5049 people\"], \"name\": \"Unsecured\", \"orientation\": \"v\", \"text\": \"\", \"textposition\": \"inside\", \"type\": \"bar\", \"x\": [0], \"y\": [5049]}, {\"hoverinfo\": \"text\", \"hovertext\": [\"Unsecured bail in 2021: 1216 people\"], \"name\": \"Unsecured\", \"orientation\": \"v\", \"text\": \"\", \"textposition\": \"inside\", \"type\": \"bar\", \"x\": [1], \"y\": [1216]}, {\"hoverinfo\": \"text\", \"hovertext\": [\"Nonmonetary bail in 2020: 165 people\"], \"name\": \"Nonmonetary\", \"orientation\": \"v\", \"text\": \"\", \"textposition\": \"inside\", \"type\": \"bar\", \"x\": [0], \"y\": [165]}, {\"hoverinfo\": \"text\", \"hovertext\": [\"Nonmonetary bail in 2021: 1 people\"], \"name\": \"Nonmonetary\", \"orientation\": \"v\", \"text\": \"\", \"textposition\": \"inside\", \"type\": \"bar\", \"x\": [1], \"y\": [1]}, {\"hoverinfo\": \"text\", \"hovertext\": [\"ROR bail in 2020: 6846 people\"], \"name\": \"ROR\", \"orientation\": \"v\", \"text\": \"\", \"textposition\": \"inside\", \"type\": \"bar\", \"x\": [0], \"y\": [6846]}, {\"hoverinfo\": \"text\", \"hovertext\": [\"ROR bail in 2021: 1435 people\"], \"name\": \"ROR\", \"orientation\": \"v\", \"text\": \"\", \"textposition\": \"inside\", \"type\": \"bar\", \"x\": [1], \"y\": [1435]}],                        {\"barmode\": \"stack\", \"legend\": {\"title\": {\"text\": \"Bail Types\"}, \"traceorder\": \"normal\"}, \"template\": {\"data\": {\"bar\": [{\"error_x\": {\"color\": \"#2a3f5f\"}, \"error_y\": {\"color\": \"#2a3f5f\"}, \"marker\": {\"line\": {\"color\": \"#E5ECF6\", \"width\": 0.5}}, \"type\": \"bar\"}], \"barpolar\": [{\"marker\": {\"line\": {\"color\": \"#E5ECF6\", \"width\": 0.5}}, \"type\": \"barpolar\"}], \"carpet\": [{\"aaxis\": {\"endlinecolor\": \"#2a3f5f\", \"gridcolor\": \"white\", \"linecolor\": \"white\", \"minorgridcolor\": \"white\", \"startlinecolor\": \"#2a3f5f\"}, \"baxis\": {\"endlinecolor\": \"#2a3f5f\", \"gridcolor\": \"white\", \"linecolor\": \"white\", \"minorgridcolor\": \"white\", \"startlinecolor\": \"#2a3f5f\"}, \"type\": \"carpet\"}], \"choropleth\": [{\"colorbar\": {\"outlinewidth\": 0, \"ticks\": \"\"}, \"type\": \"choropleth\"}], \"contour\": [{\"colorbar\": {\"outlinewidth\": 0, \"ticks\": \"\"}, \"colorscale\": [[0.0, \"#0d0887\"], [0.1111111111111111, \"#46039f\"], [0.2222222222222222, \"#7201a8\"], [0.3333333333333333, \"#9c179e\"], [0.4444444444444444, \"#bd3786\"], [0.5555555555555556, \"#d8576b\"], [0.6666666666666666, \"#ed7953\"], [0.7777777777777778, \"#fb9f3a\"], [0.8888888888888888, \"#fdca26\"], [1.0, \"#f0f921\"]], \"type\": \"contour\"}], \"contourcarpet\": [{\"colorbar\": {\"outlinewidth\": 0, \"ticks\": \"\"}, \"type\": \"contourcarpet\"}], \"heatmap\": [{\"colorbar\": {\"outlinewidth\": 0, \"ticks\": \"\"}, \"colorscale\": [[0.0, \"#0d0887\"], [0.1111111111111111, \"#46039f\"], [0.2222222222222222, \"#7201a8\"], [0.3333333333333333, \"#9c179e\"], [0.4444444444444444, \"#bd3786\"], [0.5555555555555556, \"#d8576b\"], [0.6666666666666666, \"#ed7953\"], [0.7777777777777778, \"#fb9f3a\"], [0.8888888888888888, \"#fdca26\"], [1.0, \"#f0f921\"]], \"type\": \"heatmap\"}], \"heatmapgl\": [{\"colorbar\": {\"outlinewidth\": 0, \"ticks\": \"\"}, \"colorscale\": [[0.0, \"#0d0887\"], [0.1111111111111111, \"#46039f\"], [0.2222222222222222, \"#7201a8\"], [0.3333333333333333, \"#9c179e\"], [0.4444444444444444, \"#bd3786\"], [0.5555555555555556, \"#d8576b\"], [0.6666666666666666, \"#ed7953\"], [0.7777777777777778, \"#fb9f3a\"], [0.8888888888888888, \"#fdca26\"], [1.0, \"#f0f921\"]], \"type\": \"heatmapgl\"}], \"histogram\": [{\"marker\": {\"colorbar\": {\"outlinewidth\": 0, \"ticks\": \"\"}}, \"type\": \"histogram\"}], \"histogram2d\": [{\"colorbar\": {\"outlinewidth\": 0, \"ticks\": \"\"}, \"colorscale\": [[0.0, \"#0d0887\"], [0.1111111111111111, \"#46039f\"], [0.2222222222222222, \"#7201a8\"], [0.3333333333333333, \"#9c179e\"], [0.4444444444444444, \"#bd3786\"], [0.5555555555555556, \"#d8576b\"], [0.6666666666666666, \"#ed7953\"], [0.7777777777777778, \"#fb9f3a\"], [0.8888888888888888, \"#fdca26\"], [1.0, \"#f0f921\"]], \"type\": \"histogram2d\"}], \"histogram2dcontour\": [{\"colorbar\": {\"outlinewidth\": 0, \"ticks\": \"\"}, \"colorscale\": [[0.0, \"#0d0887\"], [0.1111111111111111, \"#46039f\"], [0.2222222222222222, \"#7201a8\"], [0.3333333333333333, \"#9c179e\"], [0.4444444444444444, \"#bd3786\"], [0.5555555555555556, \"#d8576b\"], [0.6666666666666666, \"#ed7953\"], [0.7777777777777778, \"#fb9f3a\"], [0.8888888888888888, \"#fdca26\"], [1.0, \"#f0f921\"]], \"type\": \"histogram2dcontour\"}], \"mesh3d\": [{\"colorbar\": {\"outlinewidth\": 0, \"ticks\": \"\"}, \"type\": \"mesh3d\"}], \"parcoords\": [{\"line\": {\"colorbar\": {\"outlinewidth\": 0, \"ticks\": \"\"}}, \"type\": \"parcoords\"}], \"pie\": [{\"automargin\": true, \"type\": \"pie\"}], \"scatter\": [{\"marker\": {\"colorbar\": {\"outlinewidth\": 0, \"ticks\": \"\"}}, \"type\": \"scatter\"}], \"scatter3d\": [{\"line\": {\"colorbar\": {\"outlinewidth\": 0, \"ticks\": \"\"}}, \"marker\": {\"colorbar\": {\"outlinewidth\": 0, \"ticks\": \"\"}}, \"type\": \"scatter3d\"}], \"scattercarpet\": [{\"marker\": {\"colorbar\": {\"outlinewidth\": 0, \"ticks\": \"\"}}, \"type\": \"scattercarpet\"}], \"scattergeo\": [{\"marker\": {\"colorbar\": {\"outlinewidth\": 0, \"ticks\": \"\"}}, \"type\": \"scattergeo\"}], \"scattergl\": [{\"marker\": {\"colorbar\": {\"outlinewidth\": 0, \"ticks\": \"\"}}, \"type\": \"scattergl\"}], \"scattermapbox\": [{\"marker\": {\"colorbar\": {\"outlinewidth\": 0, \"ticks\": \"\"}}, \"type\": \"scattermapbox\"}], \"scatterpolar\": [{\"marker\": {\"colorbar\": {\"outlinewidth\": 0, \"ticks\": \"\"}}, \"type\": \"scatterpolar\"}], \"scatterpolargl\": [{\"marker\": {\"colorbar\": {\"outlinewidth\": 0, \"ticks\": \"\"}}, \"type\": \"scatterpolargl\"}], \"scatterternary\": [{\"marker\": {\"colorbar\": {\"outlinewidth\": 0, \"ticks\": \"\"}}, \"type\": \"scatterternary\"}], \"surface\": [{\"colorbar\": {\"outlinewidth\": 0, \"ticks\": \"\"}, \"colorscale\": [[0.0, \"#0d0887\"], [0.1111111111111111, \"#46039f\"], [0.2222222222222222, \"#7201a8\"], [0.3333333333333333, \"#9c179e\"], [0.4444444444444444, \"#bd3786\"], [0.5555555555555556, \"#d8576b\"], [0.6666666666666666, \"#ed7953\"], [0.7777777777777778, \"#fb9f3a\"], [0.8888888888888888, \"#fdca26\"], [1.0, \"#f0f921\"]], \"type\": \"surface\"}], \"table\": [{\"cells\": {\"fill\": {\"color\": \"#EBF0F8\"}, \"line\": {\"color\": \"white\"}}, \"header\": {\"fill\": {\"color\": \"#C8D4E3\"}, \"line\": {\"color\": \"white\"}}, \"type\": \"table\"}]}, \"layout\": {\"annotationdefaults\": {\"arrowcolor\": \"#2a3f5f\", \"arrowhead\": 0, \"arrowwidth\": 1}, \"coloraxis\": {\"colorbar\": {\"outlinewidth\": 0, \"ticks\": \"\"}}, \"colorscale\": {\"diverging\": [[0, \"#8e0152\"], [0.1, \"#c51b7d\"], [0.2, \"#de77ae\"], [0.3, \"#f1b6da\"], [0.4, \"#fde0ef\"], [0.5, \"#f7f7f7\"], [0.6, \"#e6f5d0\"], [0.7, \"#b8e186\"], [0.8, \"#7fbc41\"], [0.9, \"#4d9221\"], [1, \"#276419\"]], \"sequential\": [[0.0, \"#0d0887\"], [0.1111111111111111, \"#46039f\"], [0.2222222222222222, \"#7201a8\"], [0.3333333333333333, \"#9c179e\"], [0.4444444444444444, \"#bd3786\"], [0.5555555555555556, \"#d8576b\"], [0.6666666666666666, \"#ed7953\"], [0.7777777777777778, \"#fb9f3a\"], [0.8888888888888888, \"#fdca26\"], [1.0, \"#f0f921\"]], \"sequentialminus\": [[0.0, \"#0d0887\"], [0.1111111111111111, \"#46039f\"], [0.2222222222222222, \"#7201a8\"], [0.3333333333333333, \"#9c179e\"], [0.4444444444444444, \"#bd3786\"], [0.5555555555555556, \"#d8576b\"], [0.6666666666666666, \"#ed7953\"], [0.7777777777777778, \"#fb9f3a\"], [0.8888888888888888, \"#fdca26\"], [1.0, \"#f0f921\"]]}, \"colorway\": [\"#636efa\", \"#EF553B\", \"#00cc96\", \"#ab63fa\", \"#FFA15A\", \"#19d3f3\", \"#FF6692\", \"#B6E880\", \"#FF97FF\", \"#FECB52\"], \"font\": {\"color\": \"#2a3f5f\"}, \"geo\": {\"bgcolor\": \"white\", \"lakecolor\": \"white\", \"landcolor\": \"#E5ECF6\", \"showlakes\": true, \"showland\": true, \"subunitcolor\": \"white\"}, \"hoverlabel\": {\"align\": \"left\"}, \"hovermode\": \"closest\", \"mapbox\": {\"style\": \"light\"}, \"paper_bgcolor\": \"white\", \"plot_bgcolor\": \"#E5ECF6\", \"polar\": {\"angularaxis\": {\"gridcolor\": \"white\", \"linecolor\": \"white\", \"ticks\": \"\"}, \"bgcolor\": \"#E5ECF6\", \"radialaxis\": {\"gridcolor\": \"white\", \"linecolor\": \"white\", \"ticks\": \"\"}}, \"scene\": {\"xaxis\": {\"backgroundcolor\": \"#E5ECF6\", \"gridcolor\": \"white\", \"gridwidth\": 2, \"linecolor\": \"white\", \"showbackground\": true, \"ticks\": \"\", \"zerolinecolor\": \"white\"}, \"yaxis\": {\"backgroundcolor\": \"#E5ECF6\", \"gridcolor\": \"white\", \"gridwidth\": 2, \"linecolor\": \"white\", \"showbackground\": true, \"ticks\": \"\", \"zerolinecolor\": \"white\"}, \"zaxis\": {\"backgroundcolor\": \"#E5ECF6\", \"gridcolor\": \"white\", \"gridwidth\": 2, \"linecolor\": \"white\", \"showbackground\": true, \"ticks\": \"\", \"zerolinecolor\": \"white\"}}, \"shapedefaults\": {\"line\": {\"color\": \"#2a3f5f\"}}, \"ternary\": {\"aaxis\": {\"gridcolor\": \"white\", \"linecolor\": \"white\", \"ticks\": \"\"}, \"baxis\": {\"gridcolor\": \"white\", \"linecolor\": \"white\", \"ticks\": \"\"}, \"bgcolor\": \"#E5ECF6\", \"caxis\": {\"gridcolor\": \"white\", \"linecolor\": \"white\", \"ticks\": \"\"}}, \"title\": {\"x\": 0.05}, \"xaxis\": {\"automargin\": true, \"gridcolor\": \"white\", \"linecolor\": \"white\", \"ticks\": \"\", \"title\": {\"standoff\": 15}, \"zerolinecolor\": \"white\", \"zerolinewidth\": 2}, \"yaxis\": {\"automargin\": true, \"gridcolor\": \"white\", \"linecolor\": \"white\", \"ticks\": \"\", \"title\": {\"standoff\": 15}, \"zerolinecolor\": \"white\", \"zerolinewidth\": 2}}}, \"title\": {\"text\": \"Breakdown of Bail Types Set\"}, \"xaxis\": {\"ticktext\": [\"2020\", \"2021 YTD\"], \"tickvals\": [0, 1], \"title\": {\"text\": \"Year\"}}, \"yaxis\": {\"title\": {\"text\": \"Number of People\"}}},                        {\"responsive\": true}                    ).then(function(){\n",
       "                            \n",
       "var gd = document.getElementById('fa70a41d-898a-4250-b2f2-ab1189e61826');\n",
       "var x = new MutationObserver(function (mutations, observer) {{\n",
       "        var display = window.getComputedStyle(gd).display;\n",
       "        if (!display || display === 'none') {{\n",
       "            console.log([gd, 'removed!']);\n",
       "            Plotly.purge(gd);\n",
       "            observer.disconnect();\n",
       "        }}\n",
       "}});\n",
       "\n",
       "// Listen for the removal of the full notebook cells\n",
       "var notebookContainer = gd.closest('#notebook-container');\n",
       "if (notebookContainer) {{\n",
       "    x.observe(notebookContainer, {childList: true});\n",
       "}}\n",
       "\n",
       "// Listen for the clearing of the current output cell\n",
       "var outputEl = gd.closest('.output');\n",
       "if (outputEl) {{\n",
       "    x.observe(outputEl, {childList: true});\n",
       "}}\n",
       "\n",
       "                        })                };                });            </script>        </div>"
      ]
     },
     "metadata": {},
     "output_type": "display_data"
    }
   ],
   "source": [
    "# Initialize figure\n",
    "fig = go.Figure()\n",
    "\n",
    "bail_types = ['Denied', 'Monetary', 'Unsecured', 'Nonmonetary', 'ROR']\n",
    "\n",
    "for bailType in bail_types:\n",
    "    for i, year in enumerate([2020, 2021]):\n",
    "        bailCount = df_year[year][bailType]\n",
    "        fig.add_trace(go.Bar(\n",
    "            x = [i],\n",
    "            y = [bailCount],\n",
    "            orientation = \"v\",\n",
    "            text = {count},\n",
    "            textposition = \"inside\",\n",
    "            name = bailType,\n",
    "            hoverinfo = \"text\",\n",
    "            hovertext = [f\"{bailType} bail in {year}: {bailCount} people\"]\n",
    "        ))\n",
    "\n",
    "fig.update_layout(\n",
    "    barmode='stack',\n",
    "    legend={'traceorder': 'normal'},\n",
    "    legend_title=\"Bail Types\",\n",
    "    title=\"Breakdown of Bail Types Set\",\n",
    "    xaxis_title=\"Year\",\n",
    "    yaxis_title=\"Number of People\",\n",
    "    xaxis_tickvals=[0, 1],\n",
    "    xaxis_ticktext=[\"2020\",\"2021 YTD\"]\n",
    ")\n",
    "\n",
    "fig.show()\n",
    "\n"
   ]
  },
  {
   "cell_type": "code",
   "execution_count": null,
   "metadata": {},
   "outputs": [],
   "source": []
  }
 ],
 "metadata": {
  "kernelspec": {
   "display_name": "Python 3",
   "language": "python",
   "name": "python3"
  },
  "language_info": {
   "codemirror_mode": {
    "name": "ipython",
    "version": 3
   },
   "file_extension": ".py",
   "mimetype": "text/x-python",
   "name": "python",
   "nbconvert_exporter": "python",
   "pygments_lexer": "ipython3",
   "version": "3.8.5"
  }
 },
 "nbformat": 4,
 "nbformat_minor": 4
}
