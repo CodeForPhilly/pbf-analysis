{
 "cells": [
  {
   "cell_type": "markdown",
   "metadata": {},
   "source": [
    "# By Numbers\n",
    "Generate figures and numbers for the \"By Numbers\" page of the dashboard:\n",
    "- Figures for bail type percentages and raw numbers for 2020 and 2021\n",
    "- Table of bail amounts and bail types"
   ]
  },
  {
   "cell_type": "markdown",
   "metadata": {},
   "source": [
    "# Setup"
   ]
  },
  {
   "cell_type": "code",
   "execution_count": 2,
   "metadata": {},
   "outputs": [],
   "source": [
    "import os\n",
    "import sys\n",
    "import pandas as pd\n",
    "\n",
    "import plotly.graph_objs as go"
   ]
  },
  {
   "cell_type": "code",
   "execution_count": 3,
   "metadata": {},
   "outputs": [],
   "source": [
    "# Set various data and figure directories relative to cwd\n",
    "# (which is hopefully always this file's dirname)\n",
    "cwd = os.getcwd()\n",
    "cwd_split = os.path.split(cwd)\n",
    "srcdir = cwd_split[0]\n",
    "sys.path.append(srcdir)\n",
    "root = os.path.split(srcdir)[0]\n",
    "rawdir = os.path.join(root, \"data/raw\") # Raw csv files; local only!\n",
    "tmpdir = os.path.join(root, \"data/tmp\") # Intermediate data products; local only!\n",
    "extdir = os.path.join(root, \"data/external\") # Data from external sources; in repo\n",
    "cleandir = os.path.join(root, \"data/cleaned\") # Data for dashboard generation; in repo\n",
    "figdir = os.path.join(root, \"figures\") # Final figures; in repo"
   ]
  },
  {
   "cell_type": "markdown",
   "metadata": {},
   "source": [
    "# Import and preprocess raw data"
   ]
  },
  {
   "cell_type": "code",
   "execution_count": 4,
   "metadata": {},
   "outputs": [],
   "source": [
    "import preprocess"
   ]
  },
  {
   "cell_type": "markdown",
   "metadata": {},
   "source": [
    "## 2020 data"
   ]
  },
  {
   "cell_type": "code",
   "execution_count": 5,
   "metadata": {},
   "outputs": [],
   "source": [
    "# Set raw data file paths\n",
    "docketcsv = \"docket_reparse_03_02_2021.csv\"\n",
    "courtcsv = \"court_summary.csv\"\n",
    "docketpath = os.path.join(rawdir, docketcsv)\n",
    "courtpath = os.path.join(rawdir, courtcsv)"
   ]
  },
  {
   "cell_type": "code",
   "execution_count": 6,
   "metadata": {},
   "outputs": [],
   "source": [
    "# Set processed output file paths\n",
    "outcsv = \"processed_data.csv\"\n",
    "trimmedcsv = \"app_data.csv\"\n",
    "outpath = os.path.join(tmpdir, outcsv)\n",
    "trimmedpath = os.path.join(cleandir, trimmedcsv)"
   ]
  },
  {
   "cell_type": "code",
   "execution_count": 7,
   "metadata": {},
   "outputs": [
    {
     "name": "stdout",
     "output_type": "stream",
     "text": [
      "Removing 13 cases for which prelim_hearing_dt - bail_date was more than 5...\n",
      "> Imported 24225 rows with 25 columns:\n",
      "age\n",
      "age_group\n",
      "arrest_dt\n",
      "arresting_officer\n",
      "attorney\n",
      "attorney_type\n",
      "bail_amount\n",
      "bail_date\n",
      "bail_paid\n",
      "bail_set_bin\n",
      "bail_set_by\n",
      "bail_type\n",
      "case_status\n",
      "dob\n",
      "is_bail_posted\n",
      "is_philly_zipcode\n",
      "offense_date\n",
      "offense_type\n",
      "offenses\n",
      "prelim_hearing_dt\n",
      "prelim_hearing_time\n",
      "race\n",
      "sex\n",
      "statute\n",
      "zip\n",
      "> Saved new file\n"
     ]
    }
   ],
   "source": [
    "# Merge and clean docket and court summary data and save to new csv file\n",
    "df_2020 = preprocess.merge_and_clean_data(docketpath, courtpath,\n",
    "                                     outPath=outpath, verbose=True)"
   ]
  },
  {
   "cell_type": "code",
   "execution_count": 8,
   "metadata": {},
   "outputs": [
    {
     "data": {
      "text/html": [
       "<div>\n",
       "<style scoped>\n",
       "    .dataframe tbody tr th:only-of-type {\n",
       "        vertical-align: middle;\n",
       "    }\n",
       "\n",
       "    .dataframe tbody tr th {\n",
       "        vertical-align: top;\n",
       "    }\n",
       "\n",
       "    .dataframe thead th {\n",
       "        text-align: right;\n",
       "    }\n",
       "</style>\n",
       "<table border=\"1\" class=\"dataframe\">\n",
       "  <thead>\n",
       "    <tr style=\"text-align: right;\">\n",
       "      <th></th>\n",
       "      <th>attorney</th>\n",
       "      <th>attorney_type</th>\n",
       "      <th>offenses</th>\n",
       "      <th>offense_date</th>\n",
       "      <th>statute</th>\n",
       "      <th>offense_type</th>\n",
       "      <th>bail_set_by</th>\n",
       "      <th>bail_amount</th>\n",
       "      <th>bail_paid</th>\n",
       "      <th>bail_date</th>\n",
       "      <th>...</th>\n",
       "      <th>arrest_dt</th>\n",
       "      <th>prelim_hearing_dt</th>\n",
       "      <th>prelim_hearing_time</th>\n",
       "      <th>sex</th>\n",
       "      <th>race</th>\n",
       "      <th>is_philly_zipcode</th>\n",
       "      <th>age</th>\n",
       "      <th>age_group</th>\n",
       "      <th>bail_set_bin</th>\n",
       "      <th>is_bail_posted</th>\n",
       "    </tr>\n",
       "  </thead>\n",
       "  <tbody>\n",
       "    <tr>\n",
       "      <th>0</th>\n",
       "      <td>Defender Association of Philadelphia</td>\n",
       "      <td>Public</td>\n",
       "      <td>[DUI: Gen Imp/Inc of Driving Safely - 1st Off,...</td>\n",
       "      <td>2019-12-31</td>\n",
       "      <td>[75 § 3802, 75 § 3323]</td>\n",
       "      <td>[driving after imbibing alcohol or utilizing d...</td>\n",
       "      <td>Bernard, Francis X.</td>\n",
       "      <td>0.0</td>\n",
       "      <td>0.0</td>\n",
       "      <td>2020-01-01</td>\n",
       "      <td>...</td>\n",
       "      <td>2020-01-01</td>\n",
       "      <td>2020-01-01</td>\n",
       "      <td>2021-04-20 04:05:00</td>\n",
       "      <td>Male</td>\n",
       "      <td>White</td>\n",
       "      <td>1</td>\n",
       "      <td>25.0</td>\n",
       "      <td>18 to 25</td>\n",
       "      <td>None</td>\n",
       "      <td>0</td>\n",
       "    </tr>\n",
       "    <tr>\n",
       "      <th>1</th>\n",
       "      <td>Joseph Kevin Kelly</td>\n",
       "      <td>Private</td>\n",
       "      <td>[DUI: Gen Imp/Inc of Driving Safely - 1st Off]</td>\n",
       "      <td>2019-12-31</td>\n",
       "      <td>[75 § 3802]</td>\n",
       "      <td>[driving after imbibing alcohol or utilizing d...</td>\n",
       "      <td>Bernard, Francis X.</td>\n",
       "      <td>0.0</td>\n",
       "      <td>0.0</td>\n",
       "      <td>2020-01-01</td>\n",
       "      <td>...</td>\n",
       "      <td>2020-01-01</td>\n",
       "      <td>2020-01-01</td>\n",
       "      <td>2021-04-20 04:07:00</td>\n",
       "      <td>Male</td>\n",
       "      <td>White</td>\n",
       "      <td>1</td>\n",
       "      <td>24.0</td>\n",
       "      <td>18 to 25</td>\n",
       "      <td>None</td>\n",
       "      <td>0</td>\n",
       "    </tr>\n",
       "    <tr>\n",
       "      <th>2</th>\n",
       "      <td>Defender Association of Philadelphia</td>\n",
       "      <td>Public</td>\n",
       "      <td>[Retail Theft-Take Mdse]</td>\n",
       "      <td>2019-12-31</td>\n",
       "      <td>[18 § 3929]</td>\n",
       "      <td>[theft and related offenses]</td>\n",
       "      <td>Bernard, Francis X.</td>\n",
       "      <td>0.0</td>\n",
       "      <td>0.0</td>\n",
       "      <td>2020-01-01</td>\n",
       "      <td>...</td>\n",
       "      <td>2019-12-31</td>\n",
       "      <td>2020-01-01</td>\n",
       "      <td>2021-04-20 04:10:00</td>\n",
       "      <td>Male</td>\n",
       "      <td>Black</td>\n",
       "      <td>1</td>\n",
       "      <td>57.0</td>\n",
       "      <td>26 to 64</td>\n",
       "      <td>None</td>\n",
       "      <td>0</td>\n",
       "    </tr>\n",
       "    <tr>\n",
       "      <th>3</th>\n",
       "      <td>Defender Association of Philadelphia</td>\n",
       "      <td>Public</td>\n",
       "      <td>[Simple Assault, Recklessly Endangering Anothe...</td>\n",
       "      <td>2019-12-31</td>\n",
       "      <td>[18 § 2701, 18 § 2705]</td>\n",
       "      <td>[assault, assault]</td>\n",
       "      <td>Bernard, Francis X.</td>\n",
       "      <td>30000.0</td>\n",
       "      <td>0.0</td>\n",
       "      <td>2020-01-01</td>\n",
       "      <td>...</td>\n",
       "      <td>2019-12-31</td>\n",
       "      <td>2020-01-01</td>\n",
       "      <td>2021-04-20 04:15:00</td>\n",
       "      <td>Male</td>\n",
       "      <td>Black</td>\n",
       "      <td>1</td>\n",
       "      <td>32.0</td>\n",
       "      <td>26 to 64</td>\n",
       "      <td>25k to 50k</td>\n",
       "      <td>0</td>\n",
       "    </tr>\n",
       "    <tr>\n",
       "      <th>4</th>\n",
       "      <td>Lee Mandell</td>\n",
       "      <td>Court Appointed</td>\n",
       "      <td>[Robbery-Inflict Threat Imm Bod Inj, Conspirac...</td>\n",
       "      <td>2019-12-31</td>\n",
       "      <td>[18 § 3701 §§ A1IV, 18 § 903 §§ C, 18 § 3921 §...</td>\n",
       "      <td>[robbery, inchoate crimes, theft and related o...</td>\n",
       "      <td>No Magistrate Found</td>\n",
       "      <td>30000.0</td>\n",
       "      <td>0.0</td>\n",
       "      <td>2020-01-01</td>\n",
       "      <td>...</td>\n",
       "      <td>2020-01-01</td>\n",
       "      <td>2020-01-01</td>\n",
       "      <td>2021-04-20 08:39:00</td>\n",
       "      <td>Male</td>\n",
       "      <td>Black</td>\n",
       "      <td>1</td>\n",
       "      <td>18.0</td>\n",
       "      <td>18 to 25</td>\n",
       "      <td>25k to 50k</td>\n",
       "      <td>0</td>\n",
       "    </tr>\n",
       "  </tbody>\n",
       "</table>\n",
       "<p>5 rows × 25 columns</p>\n",
       "</div>"
      ],
      "text/plain": [
       "                               attorney    attorney_type  \\\n",
       "0  Defender Association of Philadelphia           Public   \n",
       "1                    Joseph Kevin Kelly          Private   \n",
       "2  Defender Association of Philadelphia           Public   \n",
       "3  Defender Association of Philadelphia           Public   \n",
       "4                           Lee Mandell  Court Appointed   \n",
       "\n",
       "                                            offenses offense_date  \\\n",
       "0  [DUI: Gen Imp/Inc of Driving Safely - 1st Off,...   2019-12-31   \n",
       "1     [DUI: Gen Imp/Inc of Driving Safely - 1st Off]   2019-12-31   \n",
       "2                           [Retail Theft-Take Mdse]   2019-12-31   \n",
       "3  [Simple Assault, Recklessly Endangering Anothe...   2019-12-31   \n",
       "4  [Robbery-Inflict Threat Imm Bod Inj, Conspirac...   2019-12-31   \n",
       "\n",
       "                                             statute  \\\n",
       "0                             [75 § 3802, 75 § 3323]   \n",
       "1                                        [75 § 3802]   \n",
       "2                                        [18 § 3929]   \n",
       "3                             [18 § 2701, 18 § 2705]   \n",
       "4  [18 § 3701 §§ A1IV, 18 § 903 §§ C, 18 § 3921 §...   \n",
       "\n",
       "                                        offense_type          bail_set_by  \\\n",
       "0  [driving after imbibing alcohol or utilizing d...  Bernard, Francis X.   \n",
       "1  [driving after imbibing alcohol or utilizing d...  Bernard, Francis X.   \n",
       "2                       [theft and related offenses]  Bernard, Francis X.   \n",
       "3                                 [assault, assault]  Bernard, Francis X.   \n",
       "4  [robbery, inchoate crimes, theft and related o...  No Magistrate Found   \n",
       "\n",
       "   bail_amount  bail_paid  bail_date  ...  arrest_dt prelim_hearing_dt  \\\n",
       "0          0.0        0.0 2020-01-01  ... 2020-01-01        2020-01-01   \n",
       "1          0.0        0.0 2020-01-01  ... 2020-01-01        2020-01-01   \n",
       "2          0.0        0.0 2020-01-01  ... 2019-12-31        2020-01-01   \n",
       "3      30000.0        0.0 2020-01-01  ... 2019-12-31        2020-01-01   \n",
       "4      30000.0        0.0 2020-01-01  ... 2020-01-01        2020-01-01   \n",
       "\n",
       "  prelim_hearing_time   sex   race is_philly_zipcode   age age_group  \\\n",
       "0 2021-04-20 04:05:00  Male  White                 1  25.0  18 to 25   \n",
       "1 2021-04-20 04:07:00  Male  White                 1  24.0  18 to 25   \n",
       "2 2021-04-20 04:10:00  Male  Black                 1  57.0  26 to 64   \n",
       "3 2021-04-20 04:15:00  Male  Black                 1  32.0  26 to 64   \n",
       "4 2021-04-20 08:39:00  Male  Black                 1  18.0  18 to 25   \n",
       "\n",
       "  bail_set_bin is_bail_posted  \n",
       "0         None              0  \n",
       "1         None              0  \n",
       "2         None              0  \n",
       "3   25k to 50k              0  \n",
       "4   25k to 50k              0  \n",
       "\n",
       "[5 rows x 25 columns]"
      ]
     },
     "execution_count": 8,
     "metadata": {},
     "output_type": "execute_result"
    }
   ],
   "source": [
    "df_2020.head()"
   ]
  },
  {
   "cell_type": "markdown",
   "metadata": {},
   "source": [
    "## 2021 data"
   ]
  },
  {
   "cell_type": "code",
   "execution_count": 9,
   "metadata": {},
   "outputs": [],
   "source": [
    "# Set raw data file paths\n",
    "docketcsv = \"2021-jan_feb_march_dockets.csv\"\n",
    "courtcsv = \"2021-jan_feb_march_court.csv\"\n",
    "docketpath = os.path.join(rawdir, docketcsv)\n",
    "courtpath = os.path.join(rawdir, courtcsv)"
   ]
  },
  {
   "cell_type": "code",
   "execution_count": 10,
   "metadata": {},
   "outputs": [],
   "source": [
    "# Set processed output file paths\n",
    "outcsv = \"processed_data_2021.csv\"\n",
    "trimmedcsv = \"app_data_2021.csv\"\n",
    "outpath = os.path.join(tmpdir, outcsv)\n",
    "trimmedpath = os.path.join(cleandir, trimmedcsv)"
   ]
  },
  {
   "cell_type": "code",
   "execution_count": 11,
   "metadata": {},
   "outputs": [
    {
     "name": "stdout",
     "output_type": "stream",
     "text": [
      "Removing 1 cases for which prelim_hearing_dt - bail_date was more than 5...\n",
      "> Imported 6017 rows with 25 columns:\n",
      "age\n",
      "age_group\n",
      "arrest_dt\n",
      "arresting_officer\n",
      "attorney\n",
      "attorney_type\n",
      "bail_amount\n",
      "bail_date\n",
      "bail_paid\n",
      "bail_set_bin\n",
      "bail_set_by\n",
      "bail_type\n",
      "case_status\n",
      "dob\n",
      "is_bail_posted\n",
      "is_philly_zipcode\n",
      "offense_date\n",
      "offense_type\n",
      "offenses\n",
      "prelim_hearing_dt\n",
      "prelim_hearing_time\n",
      "race\n",
      "sex\n",
      "statute\n",
      "zip\n",
      "> Saved new file\n"
     ]
    }
   ],
   "source": [
    "# Merge and clean docket and court summary data and save to new csv file\n",
    "df_2021 = preprocess.merge_and_clean_data(docketpath, courtpath,\n",
    "                                     outPath=outpath, verbose=True)"
   ]
  },
  {
   "cell_type": "code",
   "execution_count": 12,
   "metadata": {},
   "outputs": [
    {
     "data": {
      "text/html": [
       "<div>\n",
       "<style scoped>\n",
       "    .dataframe tbody tr th:only-of-type {\n",
       "        vertical-align: middle;\n",
       "    }\n",
       "\n",
       "    .dataframe tbody tr th {\n",
       "        vertical-align: top;\n",
       "    }\n",
       "\n",
       "    .dataframe thead th {\n",
       "        text-align: right;\n",
       "    }\n",
       "</style>\n",
       "<table border=\"1\" class=\"dataframe\">\n",
       "  <thead>\n",
       "    <tr style=\"text-align: right;\">\n",
       "      <th></th>\n",
       "      <th>attorney</th>\n",
       "      <th>attorney_type</th>\n",
       "      <th>offenses</th>\n",
       "      <th>offense_date</th>\n",
       "      <th>statute</th>\n",
       "      <th>offense_type</th>\n",
       "      <th>bail_set_by</th>\n",
       "      <th>bail_amount</th>\n",
       "      <th>bail_paid</th>\n",
       "      <th>bail_date</th>\n",
       "      <th>...</th>\n",
       "      <th>arrest_dt</th>\n",
       "      <th>prelim_hearing_dt</th>\n",
       "      <th>prelim_hearing_time</th>\n",
       "      <th>sex</th>\n",
       "      <th>race</th>\n",
       "      <th>is_philly_zipcode</th>\n",
       "      <th>age</th>\n",
       "      <th>age_group</th>\n",
       "      <th>bail_set_bin</th>\n",
       "      <th>is_bail_posted</th>\n",
       "    </tr>\n",
       "  </thead>\n",
       "  <tbody>\n",
       "    <tr>\n",
       "      <th>0</th>\n",
       "      <td>Defender Association of Philadelphia</td>\n",
       "      <td>Public</td>\n",
       "      <td>[Manufacture, Delivery, or Possession With Int...</td>\n",
       "      <td>2020-12-31</td>\n",
       "      <td>[35 § 780-113, 18 § 903, 18 § 6105, 18 § 6106,...</td>\n",
       "      <td>[drug and substance, inchoate crimes, firearms...</td>\n",
       "      <td>Stack, Patrick</td>\n",
       "      <td>200000.0</td>\n",
       "      <td>0.0</td>\n",
       "      <td>2021-01-01</td>\n",
       "      <td>...</td>\n",
       "      <td>2021-01-01</td>\n",
       "      <td>2021-01-01</td>\n",
       "      <td>2021-04-20 04:10:00</td>\n",
       "      <td>Male</td>\n",
       "      <td>White</td>\n",
       "      <td>1</td>\n",
       "      <td>31.0</td>\n",
       "      <td>26 to 64</td>\n",
       "      <td>100k to 500k</td>\n",
       "      <td>0</td>\n",
       "    </tr>\n",
       "    <tr>\n",
       "      <th>1</th>\n",
       "      <td>NaN</td>\n",
       "      <td>NaN</td>\n",
       "      <td>[Manufacture, Delivery, or Possession With Int...</td>\n",
       "      <td>2020-12-31</td>\n",
       "      <td>[35 § 780-113, 18 § 6105, 18 § 6106, 35 § 780-...</td>\n",
       "      <td>[drug and substance, firearms and other danger...</td>\n",
       "      <td>Stack, Patrick</td>\n",
       "      <td>200000.0</td>\n",
       "      <td>0.0</td>\n",
       "      <td>2021-01-01</td>\n",
       "      <td>...</td>\n",
       "      <td>2021-01-01</td>\n",
       "      <td>2021-01-01</td>\n",
       "      <td>2021-04-20 04:13:00</td>\n",
       "      <td>Male</td>\n",
       "      <td>White</td>\n",
       "      <td>1</td>\n",
       "      <td>30.0</td>\n",
       "      <td>26 to 64</td>\n",
       "      <td>100k to 500k</td>\n",
       "      <td>0</td>\n",
       "    </tr>\n",
       "    <tr>\n",
       "      <th>2</th>\n",
       "      <td>Defender Association of Philadelphia</td>\n",
       "      <td>Public</td>\n",
       "      <td>[Burglary - Overnight Accommodations; Person P...</td>\n",
       "      <td>2020-12-31</td>\n",
       "      <td>[18 § 3502, 18 § 3503, 18 § 3921, 18 § 3925, 1...</td>\n",
       "      <td>[burglary and other criminal intrusion, burgla...</td>\n",
       "      <td>Stack, Patrick</td>\n",
       "      <td>0.0</td>\n",
       "      <td>0.0</td>\n",
       "      <td>2021-01-01</td>\n",
       "      <td>...</td>\n",
       "      <td>2020-12-31</td>\n",
       "      <td>2021-01-01</td>\n",
       "      <td>2021-04-20 04:14:00</td>\n",
       "      <td>Male</td>\n",
       "      <td>White</td>\n",
       "      <td>1</td>\n",
       "      <td>37.0</td>\n",
       "      <td>26 to 64</td>\n",
       "      <td>None</td>\n",
       "      <td>0</td>\n",
       "    </tr>\n",
       "    <tr>\n",
       "      <th>3</th>\n",
       "      <td>Defender Association of Philadelphia</td>\n",
       "      <td>Public</td>\n",
       "      <td>[Weapons of Mass Dest. - Unlawful Poss or Manu...</td>\n",
       "      <td>2020-12-31</td>\n",
       "      <td>[18 § 2716, 18 § 3921, 18 § 3925, 18 § 903]</td>\n",
       "      <td>[assault, theft and related offenses, theft an...</td>\n",
       "      <td>Stack, Patrick</td>\n",
       "      <td>100000.0</td>\n",
       "      <td>0.0</td>\n",
       "      <td>2021-01-01</td>\n",
       "      <td>...</td>\n",
       "      <td>2021-01-01</td>\n",
       "      <td>2021-01-01</td>\n",
       "      <td>2021-04-20 04:18:00</td>\n",
       "      <td>Female</td>\n",
       "      <td>White</td>\n",
       "      <td>0</td>\n",
       "      <td>27.0</td>\n",
       "      <td>26 to 64</td>\n",
       "      <td>100k to 500k</td>\n",
       "      <td>0</td>\n",
       "    </tr>\n",
       "    <tr>\n",
       "      <th>4</th>\n",
       "      <td>Defender Association of Philadelphia</td>\n",
       "      <td>Public</td>\n",
       "      <td>[Possession Of Firearm Prohibited, Firearms No...</td>\n",
       "      <td>2020-12-31</td>\n",
       "      <td>[18 § 6105, 18 § 6106, 18 § 6108]</td>\n",
       "      <td>[firearms and other dangerous articles, firear...</td>\n",
       "      <td>Stack, Patrick</td>\n",
       "      <td>100000.0</td>\n",
       "      <td>0.0</td>\n",
       "      <td>2021-01-01</td>\n",
       "      <td>...</td>\n",
       "      <td>2021-01-01</td>\n",
       "      <td>2021-01-01</td>\n",
       "      <td>2021-04-20 04:21:00</td>\n",
       "      <td>Male</td>\n",
       "      <td>Black</td>\n",
       "      <td>1</td>\n",
       "      <td>30.0</td>\n",
       "      <td>26 to 64</td>\n",
       "      <td>100k to 500k</td>\n",
       "      <td>0</td>\n",
       "    </tr>\n",
       "  </tbody>\n",
       "</table>\n",
       "<p>5 rows × 25 columns</p>\n",
       "</div>"
      ],
      "text/plain": [
       "                               attorney attorney_type  \\\n",
       "0  Defender Association of Philadelphia        Public   \n",
       "1                                   NaN           NaN   \n",
       "2  Defender Association of Philadelphia        Public   \n",
       "3  Defender Association of Philadelphia        Public   \n",
       "4  Defender Association of Philadelphia        Public   \n",
       "\n",
       "                                            offenses offense_date  \\\n",
       "0  [Manufacture, Delivery, or Possession With Int...   2020-12-31   \n",
       "1  [Manufacture, Delivery, or Possession With Int...   2020-12-31   \n",
       "2  [Burglary - Overnight Accommodations; Person P...   2020-12-31   \n",
       "3  [Weapons of Mass Dest. - Unlawful Poss or Manu...   2020-12-31   \n",
       "4  [Possession Of Firearm Prohibited, Firearms No...   2020-12-31   \n",
       "\n",
       "                                             statute  \\\n",
       "0  [35 § 780-113, 18 § 903, 18 § 6105, 18 § 6106,...   \n",
       "1  [35 § 780-113, 18 § 6105, 18 § 6106, 35 § 780-...   \n",
       "2  [18 § 3502, 18 § 3503, 18 § 3921, 18 § 3925, 1...   \n",
       "3        [18 § 2716, 18 § 3921, 18 § 3925, 18 § 903]   \n",
       "4                  [18 § 6105, 18 § 6106, 18 § 6108]   \n",
       "\n",
       "                                        offense_type     bail_set_by  \\\n",
       "0  [drug and substance, inchoate crimes, firearms...  Stack, Patrick   \n",
       "1  [drug and substance, firearms and other danger...  Stack, Patrick   \n",
       "2  [burglary and other criminal intrusion, burgla...  Stack, Patrick   \n",
       "3  [assault, theft and related offenses, theft an...  Stack, Patrick   \n",
       "4  [firearms and other dangerous articles, firear...  Stack, Patrick   \n",
       "\n",
       "   bail_amount  bail_paid  bail_date  ...  arrest_dt prelim_hearing_dt  \\\n",
       "0     200000.0        0.0 2021-01-01  ... 2021-01-01        2021-01-01   \n",
       "1     200000.0        0.0 2021-01-01  ... 2021-01-01        2021-01-01   \n",
       "2          0.0        0.0 2021-01-01  ... 2020-12-31        2021-01-01   \n",
       "3     100000.0        0.0 2021-01-01  ... 2021-01-01        2021-01-01   \n",
       "4     100000.0        0.0 2021-01-01  ... 2021-01-01        2021-01-01   \n",
       "\n",
       "  prelim_hearing_time     sex   race is_philly_zipcode   age age_group  \\\n",
       "0 2021-04-20 04:10:00    Male  White                 1  31.0  26 to 64   \n",
       "1 2021-04-20 04:13:00    Male  White                 1  30.0  26 to 64   \n",
       "2 2021-04-20 04:14:00    Male  White                 1  37.0  26 to 64   \n",
       "3 2021-04-20 04:18:00  Female  White                 0  27.0  26 to 64   \n",
       "4 2021-04-20 04:21:00    Male  Black                 1  30.0  26 to 64   \n",
       "\n",
       "   bail_set_bin is_bail_posted  \n",
       "0  100k to 500k              0  \n",
       "1  100k to 500k              0  \n",
       "2          None              0  \n",
       "3  100k to 500k              0  \n",
       "4  100k to 500k              0  \n",
       "\n",
       "[5 rows x 25 columns]"
      ]
     },
     "execution_count": 12,
     "metadata": {},
     "output_type": "execute_result"
    }
   ],
   "source": [
    "df_2021.head()"
   ]
  },
  {
   "cell_type": "code",
   "execution_count": 13,
   "metadata": {},
   "outputs": [
    {
     "name": "stdout",
     "output_type": "stream",
     "text": [
      "['minor', '18 to 25', '26 to 64', '65+']\n"
     ]
    }
   ],
   "source": [
    "# Get bin labels\n",
    "bail_bin_labels = preprocess.get_bail_bin_labels()\n",
    "age_labels = preprocess.get_age_bin_labels()\n",
    "print(age_labels)"
   ]
  },
  {
   "cell_type": "markdown",
   "metadata": {},
   "source": [
    "## Aggregate data"
   ]
  },
  {
   "cell_type": "code",
   "execution_count": 14,
   "metadata": {},
   "outputs": [],
   "source": [
    "# Concatenate data\n",
    "df = pd.concat([df_2020, df_2021])\n",
    "df.reset_index(inplace = True, drop = True)"
   ]
  },
  {
   "cell_type": "code",
   "execution_count": 27,
   "metadata": {},
   "outputs": [
    {
     "name": "stdout",
     "output_type": "stream",
     "text": [
      "30242 cases as of March 2021\n"
     ]
    }
   ],
   "source": [
    "print(f\"{len(df)} cases as of {df_2021['offense_date'].max().strftime('%B %Y')}\")\n",
    "csv_totals = os.path.join(cleandir, \"app_total_number.txt\")\n",
    "with open(csv_totals, 'w') as f:\n",
    "    f.write(f\"{len(df)}\")"
   ]
  },
  {
   "cell_type": "code",
   "execution_count": 61,
   "metadata": {},
   "outputs": [],
   "source": [
    "# Create columns for year and month\n",
    "df['bail_year'] = df['bail_date'].dt.year\n",
    "df['bail_month'] = df['bail_date'].dt.month"
   ]
  },
  {
   "cell_type": "markdown",
   "metadata": {},
   "source": [
    "# Figure: Bail types distributions\n",
    "- Dropdown 1: year-end comparison of bail amount paid for 2020 vs 2021 (YTD)\n",
    "- Dropdown 2: monthly summary for year 2020, 2021?"
   ]
  },
  {
   "cell_type": "code",
   "execution_count": 62,
   "metadata": {},
   "outputs": [
    {
     "name": "stdout",
     "output_type": "stream",
     "text": [
      "    bail_year  bail_month    bail_type  count\n",
      "0        2020           1       Denied     22\n",
      "1        2020           1     Monetary   1308\n",
      "2        2020           1  Nonmonetary     74\n",
      "3        2020           1          ROR    831\n",
      "4        2020           1    Unsecured    281\n",
      "..        ...         ...          ...    ...\n",
      "60       2021           2    Unsecured    365\n",
      "61       2021           3       Denied     39\n",
      "62       2021           3     Monetary   1125\n",
      "63       2021           3          ROR    492\n",
      "64       2021           3    Unsecured    429\n",
      "\n",
      "[65 rows x 4 columns]\n"
     ]
    }
   ],
   "source": [
    "# Group by month\n",
    "df_month = df.groupby(['bail_year', 'bail_month', 'bail_type'])['bail_type'].count().reset_index(name='count')\n",
    "print(df_month)"
   ]
  },
  {
   "cell_type": "code",
   "execution_count": 63,
   "metadata": {},
   "outputs": [
    {
     "name": "stdout",
     "output_type": "stream",
     "text": [
      "bail_year  bail_type  \n",
      "2020       Denied           346\n",
      "           Monetary       11807\n",
      "           Nonmonetary      165\n",
      "           ROR             6846\n",
      "           Unsecured       5049\n",
      "2021       Denied           116\n",
      "           Monetary        3261\n",
      "           Nonmonetary        1\n",
      "           ROR             1435\n",
      "           Unsecured       1216\n",
      "Name: count, dtype: int64\n"
     ]
    }
   ],
   "source": [
    "df_year = df_month.groupby(['bail_year', 'bail_type'])['count'].sum()#.reset_index(name='count')\n",
    "print(df_year)"
   ]
  },
  {
   "cell_type": "code",
   "execution_count": 64,
   "metadata": {},
   "outputs": [
    {
     "name": "stdout",
     "output_type": "stream",
     "text": [
      "     Year  Percentage of Cases  People Impacted  Total Bail Set  \\\n",
      "0  2020.0            48.763061          11807.0    1.392303e+09   \n",
      "0  2021.0            54.088572           3261.0    4.790973e+08   \n",
      "\n",
      "   Median Bail Set  Median Bail Paid  \n",
      "0          40000.0               0.0  \n",
      "0          50000.0               0.0  \n"
     ]
    }
   ],
   "source": [
    "df_year_all = df.groupby(['bail_year'])# Build table for YTD comparison\n",
    "df_aggregate = pd.DataFrame()\n",
    "for i, year in enumerate([2020, 2021]):\n",
    "    df_bail = df_year_all.get_group(year).groupby('bail_type').get_group('Monetary')\n",
    "    s = pd.Series({'Year': year,\n",
    "                   'Percentage of Cases': 100*df_bail['bail_type'].count()/df_year_all.get_group(year)['bail_type'].count(),\n",
    "                   'People Impacted': df_bail['bail_type'].count(),\n",
    "                   'Total Bail Set': df_bail['bail_amount'].sum(),\n",
    "                   'Median Bail Set': df_bail['bail_amount'].median(),\n",
    "                   'Median Bail Paid': df_bail['bail_paid'].median()})\n",
    "    df_aggregate = pd.concat([df_aggregate, s.to_frame().T])\n",
    "    \n",
    "print(df_aggregate)\n",
    "bail_by_numbers = os.path.join(cleandir, \"app_by_numbers.csv\")\n",
    "df_aggregate.to_csv(bail_by_numbers, index=False)"
   ]
  },
  {
   "cell_type": "code",
   "execution_count": 65,
   "metadata": {},
   "outputs": [
    {
     "name": "stdout",
     "output_type": "stream",
     "text": [
      "    bail_year  bail_month    bail_type  count\n",
      "0        2020           1       Denied     22\n",
      "1        2020           1     Monetary   1308\n",
      "2        2020           1  Nonmonetary     74\n",
      "3        2020           1          ROR    831\n",
      "4        2020           1    Unsecured    281\n",
      "..        ...         ...          ...    ...\n",
      "60       2021           2    Unsecured    365\n",
      "61       2021           3       Denied     39\n",
      "62       2021           3     Monetary   1125\n",
      "63       2021           3          ROR    492\n",
      "64       2021           3    Unsecured    429\n",
      "\n",
      "[65 rows x 4 columns]\n"
     ]
    }
   ],
   "source": [
    "# save data\n",
    "bail_type_month = os.path.join(cleandir, \"app_bail_type.csv\")\n",
    "#df_month.to_csv(bail_type_month, index=False)\n",
    "df_month = pd.read_csv(bail_type_month)\n",
    "print(df_month)"
   ]
  },
  {
   "cell_type": "code",
   "execution_count": 66,
   "metadata": {},
   "outputs": [
    {
     "name": "stdout",
     "output_type": "stream",
     "text": [
      "0          Denied\n",
      "1        Monetary\n",
      "2     Nonmonetary\n",
      "3             ROR\n",
      "4       Unsecured\n",
      "         ...     \n",
      "60      Unsecured\n",
      "61         Denied\n",
      "62       Monetary\n",
      "63            ROR\n",
      "64      Unsecured\n",
      "Name: bail_type, Length: 65, dtype: object\n"
     ]
    }
   ],
   "source": [
    "month_data = df_month['bail_type']\n",
    "print(month_data)\n",
    "\n",
    "bail_type_2020 = df_year[2020]\n",
    "bail_type_2021 = df_year[2021]\n",
    "\n",
    "months = ['Jan', 'Feb', 'Mar', 'Apr', 'May', 'Jun', 'Jul', 'Aug', 'Sep', 'Oct', 'Nov', 'Dec']"
   ]
  },
  {
   "cell_type": "code",
   "execution_count": 67,
   "metadata": {},
   "outputs": [
    {
     "name": "stdout",
     "output_type": "stream",
     "text": [
      "24213\n"
     ]
    }
   ],
   "source": [
    "print(df_year[2020].sum())"
   ]
  },
  {
   "cell_type": "markdown",
   "metadata": {},
   "source": [
    "## Demographics"
   ]
  },
  {
   "cell_type": "markdown",
   "metadata": {},
   "source": [
    "### Race"
   ]
  },
  {
   "cell_type": "code",
   "execution_count": 68,
   "metadata": {},
   "outputs": [
    {
     "name": "stdout",
     "output_type": "stream",
     "text": [
      "   bail_year race_group  total_count\n",
      "0       2020      Black        15466\n",
      "1       2020      Other         1313\n",
      "2       2020      White         7434\n",
      "3       2021      Black         3903\n",
      "4       2021      Other           73\n",
      "5       2021      White         2053\n",
      "    bail_year race_group    bail_type  bail_type_count  bail_type_pct\n",
      "0        2020      Black       Denied              283       1.829820\n",
      "1        2020      Black     Monetary             8021      51.862149\n",
      "2        2020      Black  Nonmonetary               90       0.581922\n",
      "3        2020      Black          ROR             3747      24.227337\n",
      "4        2020      Black    Unsecured             3325      21.498771\n",
      "5        2020      Other       Denied                6       0.456969\n",
      "6        2020      Other     Monetary              463      35.262757\n",
      "7        2020      Other  Nonmonetary               34       2.589490\n",
      "8        2020      Other          ROR              618      47.067784\n",
      "9        2020      Other    Unsecured              192      14.623001\n",
      "10       2020      White       Denied               57       0.766747\n",
      "11       2020      White     Monetary             3323      44.700027\n",
      "12       2020      White  Nonmonetary               41       0.551520\n",
      "13       2020      White          ROR             2481      33.373688\n",
      "14       2020      White    Unsecured             1532      20.608017\n",
      "15       2021      Black       Denied               95       2.434025\n",
      "16       2021      Black     Monetary             2242      57.442993\n",
      "17       2021      Black  Nonmonetary                0       0.000000\n",
      "18       2021      Black          ROR              803      20.573917\n",
      "19       2021      Black    Unsecured              763      19.549065\n",
      "20       2021      Other       Denied                0       0.000000\n",
      "21       2021      Other     Monetary               36      49.315068\n",
      "22       2021      Other  Nonmonetary                0       0.000000\n",
      "23       2021      Other          ROR               22      30.136986\n",
      "24       2021      Other    Unsecured               15      20.547945\n",
      "25       2021      White       Denied               21       1.022893\n",
      "26       2021      White     Monetary              983      47.881150\n",
      "27       2021      White  Nonmonetary                1       0.048709\n",
      "28       2021      White          ROR              610      29.712616\n",
      "29       2021      White    Unsecured              438      21.334632\n",
      "   bail_year race_group  bail_amount_sum\n",
      "0       2020      Black     1.103817e+09\n",
      "1       2020      Other     5.851020e+07\n",
      "2       2020      White     4.085848e+08\n",
      "3       2021      Black     3.994161e+08\n",
      "4       2021      Other     7.255500e+06\n",
      "5       2021      White     1.302457e+08\n"
     ]
    }
   ],
   "source": [
    "df['race_group'] = df['race'].apply(lambda x: x if x in ['Black', 'White'] else 'Other')\n",
    "\n",
    "df_race_bail = df.groupby(['bail_year', 'race_group'])['bail_type'].count().unstack(fill_value=0).stack().reset_index(name='total_count')\n",
    "print(df_race_bail)\n",
    "\n",
    "df_race_bail_type = df.groupby(['bail_year', 'race_group', 'bail_type'])['bail_type'].count().unstack(fill_value=0).stack().reset_index(name='bail_type_count')\n",
    "df_race_bail_type['bail_type_pct'] = df_race_bail_type.apply(lambda row:\n",
    "    (100*row['bail_type_count']/df_race_bail[(df_race_bail['bail_year'] == row['bail_year']) &\n",
    "                                            (df_race_bail['race_group'] == row['race_group'])]['total_count']).iloc[0],\n",
    "                                                             axis=1)\n",
    "\n",
    "df_race_bail_set = df.groupby(['bail_year', 'race_group'])['bail_amount'].sum().reset_index(name='bail_amount_sum')\n",
    "\n",
    "\n",
    "print(df_race_bail_type)\n",
    "print(df_race_bail_set)\n",
    "\n",
    "csv_race_bail_type = os.path.join(cleandir, \"app_race_bail_type.csv\")\n",
    "csv_race_bail_set = os.path.join(cleandir, \"app_race_bail_set.csv\")\n",
    "df_race_bail_type.to_csv(csv_race_bail_type, index=False)\n",
    "df_race_bail_set.to_csv(csv_race_bail_set, index=False)"
   ]
  },
  {
   "cell_type": "markdown",
   "metadata": {},
   "source": [
    "### Gender"
   ]
  },
  {
   "cell_type": "code",
   "execution_count": 69,
   "metadata": {},
   "outputs": [
    {
     "name": "stdout",
     "output_type": "stream",
     "text": [
      "   bail_year                 sex  total_count\n",
      "0       2020              Female         3744\n",
      "1       2020                Male        19441\n",
      "2       2020  Unreported/Unknown            1\n",
      "3       2021              Female          952\n",
      "4       2021                Male         5074\n",
      "5       2021  Unreported/Unknown            0\n",
      "    bail_year                 sex    bail_type  bail_type_count  bail_type_pct\n",
      "0        2020              Female       Denied               15       0.400641\n",
      "1        2020              Female     Monetary             1247      33.306624\n",
      "2        2020              Female  Nonmonetary               28       0.747863\n",
      "3        2020              Female          ROR             1376      36.752137\n",
      "4        2020              Female    Unsecured             1078      28.792735\n",
      "5        2020                Male       Denied              328       1.687156\n",
      "6        2020                Male     Monetary            10229      52.615606\n",
      "7        2020                Male  Nonmonetary              104       0.534952\n",
      "8        2020                Male          ROR             4943      25.425647\n",
      "9        2020                Male    Unsecured             3837      19.736639\n",
      "10       2020  Unreported/Unknown       Denied                0       0.000000\n",
      "11       2020  Unreported/Unknown     Monetary                0       0.000000\n",
      "12       2020  Unreported/Unknown  Nonmonetary                0       0.000000\n",
      "13       2020  Unreported/Unknown          ROR                1     100.000000\n",
      "14       2020  Unreported/Unknown    Unsecured                0       0.000000\n",
      "15       2021              Female       Denied               15       1.575630\n",
      "16       2021              Female     Monetary              338      35.504202\n",
      "17       2021              Female  Nonmonetary                0       0.000000\n",
      "18       2021              Female          ROR              336      35.294118\n",
      "19       2021              Female    Unsecured              263      27.626050\n",
      "20       2021                Male       Denied              101       1.990540\n",
      "21       2021                Male     Monetary             2922      57.587702\n",
      "22       2021                Male  Nonmonetary                1       0.019708\n",
      "23       2021                Male          ROR             1099      21.659440\n",
      "24       2021                Male    Unsecured              951      18.742609\n",
      "   bail_year                 sex  bail_amount_sum\n",
      "0       2020              Female     1.193620e+08\n",
      "1       2020                Male     1.423817e+09\n",
      "2       2020  Unreported/Unknown     0.000000e+00\n",
      "3       2021              Female     4.621395e+07\n",
      "4       2021                Male     4.905759e+08\n"
     ]
    }
   ],
   "source": [
    "df_sex_bail_type = df.groupby(['bail_year', 'sex', 'bail_type'])['bail_type'].count().unstack(fill_value=0).stack().reset_index(name='bail_type_count')\n",
    "\n",
    "df_sex_bail = df.groupby(['bail_year', 'sex'])['bail_type'].count().unstack(fill_value=0).stack().reset_index(name='total_count')\n",
    "print(df_sex_bail)\n",
    "\n",
    "df_sex_bail_type['bail_type_pct'] = df_sex_bail_type.apply(lambda row:\n",
    "    (100*row['bail_type_count']/df_sex_bail[(df_sex_bail['bail_year'] == row['bail_year']) &\n",
    "                                            (df_sex_bail['sex'] == row['sex'])]['total_count']).iloc[0],\n",
    "                                                             axis=1)\n",
    "\n",
    "df_sex_bail_set = df.groupby(['bail_year', 'sex'])['bail_amount'].sum().reset_index(name='bail_amount_sum')\n",
    "\n",
    "\n",
    "print(df_sex_bail_type)\n",
    "print(df_sex_bail_set)\n",
    "\n",
    "csv_sex_bail_type = os.path.join(cleandir, \"app_sex_bail_type.csv\")\n",
    "csv_sex_bail_set = os.path.join(cleandir, \"app_sex_bail_set.csv\")\n",
    "df_sex_bail_type.to_csv(csv_sex_bail_type, index=False)\n",
    "df_sex_bail_set.to_csv(csv_sex_bail_set, index=False)"
   ]
  },
  {
   "cell_type": "markdown",
   "metadata": {},
   "source": [
    "### Age group"
   ]
  },
  {
   "cell_type": "code",
   "execution_count": 70,
   "metadata": {},
   "outputs": [
    {
     "name": "stdout",
     "output_type": "stream",
     "text": [
      "   bail_year age_group  total_count\n",
      "0       2020  18 to 25         6922\n",
      "1       2020  26 to 64        16927\n",
      "2       2020       65+          229\n",
      "3       2020     minor          135\n",
      "4       2021  18 to 25         1577\n",
      "5       2021  26 to 64         4295\n",
      "6       2021       65+           75\n",
      "7       2021     minor           82\n",
      "    bail_year age_group    bail_type  bail_type_count  bail_type_pct\n",
      "0        2020  18 to 25       Denied              145       2.094770\n",
      "1        2020  18 to 25     Monetary             3767      54.420688\n",
      "2        2020  18 to 25  Nonmonetary               35       0.505634\n",
      "3        2020  18 to 25          ROR             1568      22.652413\n",
      "4        2020  18 to 25    Unsecured             1407      20.326495\n",
      "5        2020  26 to 64       Denied              182       1.075205\n",
      "6        2020  26 to 64     Monetary             7869      46.487860\n",
      "7        2020  26 to 64  Nonmonetary              128       0.756188\n",
      "8        2020  26 to 64          ROR             5159      30.477935\n",
      "9        2020  26 to 64    Unsecured             3589      21.202812\n",
      "10       2020       65+       Denied                3       1.310044\n",
      "11       2020       65+     Monetary               67      29.257642\n",
      "12       2020       65+  Nonmonetary                2       0.873362\n",
      "13       2020       65+          ROR              112      48.908297\n",
      "14       2020       65+    Unsecured               45      19.650655\n",
      "15       2020     minor       Denied               16      11.851852\n",
      "16       2020     minor     Monetary              104      77.037037\n",
      "17       2020     minor  Nonmonetary                0       0.000000\n",
      "18       2020     minor          ROR                7       5.185185\n",
      "19       2020     minor    Unsecured                8       5.925926\n",
      "20       2021  18 to 25       Denied               23       1.458465\n",
      "21       2021  18 to 25     Monetary             1052      66.708941\n",
      "22       2021  18 to 25  Nonmonetary                0       0.000000\n",
      "23       2021  18 to 25          ROR              262      16.613824\n",
      "24       2021  18 to 25    Unsecured              240      15.218770\n",
      "25       2021  26 to 64       Denied               81       1.885914\n",
      "26       2021  26 to 64     Monetary             2109      49.103609\n",
      "27       2021  26 to 64  Nonmonetary                1       0.023283\n",
      "28       2021  26 to 64          ROR             1152      26.821886\n",
      "29       2021  26 to 64    Unsecured              952      22.165308\n",
      "30       2021       65+       Denied                0       0.000000\n",
      "31       2021       65+     Monetary               31      41.333333\n",
      "32       2021       65+  Nonmonetary                0       0.000000\n",
      "33       2021       65+          ROR               21      28.000000\n",
      "34       2021       65+    Unsecured               23      30.666667\n",
      "35       2021     minor       Denied               12      14.634146\n",
      "36       2021     minor     Monetary               69      84.146341\n",
      "37       2021     minor  Nonmonetary                0       0.000000\n",
      "38       2021     minor          ROR                0       0.000000\n",
      "39       2021     minor    Unsecured                1       1.219512\n",
      "   bail_year age_group  bail_amount_sum\n",
      "0       2020  18 to 25      563282200.0\n",
      "1       2020  26 to 64      967060592.0\n",
      "2       2020       65+       11134000.0\n",
      "3       2020     minor       29435000.0\n",
      "4       2021  18 to 25      194329700.0\n",
      "5       2021  26 to 64      318799647.0\n",
      "6       2021       65+        3313000.0\n",
      "7       2021     minor       20475000.0\n"
     ]
    }
   ],
   "source": [
    "df_age_bail_type = df.groupby(['bail_year', 'age_group', 'bail_type'])['bail_type'].count().unstack(fill_value=0).stack().reset_index(name='bail_type_count')\n",
    "\n",
    "df_age_bail = df.groupby(['bail_year', 'age_group'])['bail_type'].count().unstack(fill_value=0).stack().reset_index(name='total_count')\n",
    "print(df_age_bail)\n",
    "\n",
    "df_age_bail_type['bail_type_pct'] = df_age_bail_type.apply(lambda row:\n",
    "    (100*row['bail_type_count']/df_age_bail[(df_age_bail['bail_year'] == row['bail_year']) &\n",
    "                                            (df_age_bail['age_group'] == row['age_group'])]['total_count']).iloc[0],\n",
    "                                                             axis=1)\n",
    "\n",
    "df_age_bail_set = df.groupby(['bail_year', 'age_group'])['bail_amount'].sum().unstack(fill_value=0).stack().reset_index(name='bail_amount_sum')\n",
    "\n",
    "\n",
    "print(df_age_bail_type)\n",
    "print(df_age_bail_set)\n",
    "\n",
    "csv_age_bail_type = os.path.join(cleandir, \"app_age_bail_type.csv\")\n",
    "csv_age_bail_set = os.path.join(cleandir, \"app_age_bail_set.csv\")\n",
    "df_age_bail_type.to_csv(csv_age_bail_type, index=False)\n",
    "df_age_bail_set.to_csv(csv_age_bail_set, index=False)"
   ]
  },
  {
   "cell_type": "code",
   "execution_count": null,
   "metadata": {},
   "outputs": [],
   "source": []
  }
 ],
 "metadata": {
  "kernelspec": {
   "display_name": "Python 3",
   "language": "python",
   "name": "python3"
  },
  "language_info": {
   "codemirror_mode": {
    "name": "ipython",
    "version": 3
   },
   "file_extension": ".py",
   "mimetype": "text/x-python",
   "name": "python",
   "nbconvert_exporter": "python",
   "pygments_lexer": "ipython3",
   "version": "3.8.5"
  }
 },
 "nbformat": 4,
 "nbformat_minor": 4
}
