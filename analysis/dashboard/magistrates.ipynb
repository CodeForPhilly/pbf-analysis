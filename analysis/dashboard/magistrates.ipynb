{
 "cells": [
  {
   "cell_type": "markdown",
   "metadata": {},
   "source": [
    "# Magistrates\n",
    "* This notebook generates figures for the 'bail set by' page of the dashboard. \n",
    "* Note that some of these figures overlap with the magistrate section in 'dashboard.ipynb'"
   ]
  },
  {
   "cell_type": "code",
   "execution_count": 1,
   "metadata": {},
   "outputs": [],
   "source": [
    "import ast\n",
    "import datetime\n",
    "import itertools\n",
    "import matplotlib.pyplot as plt\n",
    "from matplotlib import rc_file_defaults\n",
    "from matplotlib import ticker\n",
    "\n",
    "plt.style.use('ggplot')\n",
    "\n",
    "import os\n",
    "import sys\n",
    "import numpy as np\n",
    "import pandas as pd\n",
    "import random\n",
    "import regex as re\n",
    "import seaborn as sns\n",
    "\n",
    "from dateutil.relativedelta import relativedelta\n",
    "from gensim.models.nmf import Nmf\n",
    "from gensim.corpora import Dictionary\n",
    "from gensim.models.coherencemodel import CoherenceModel\n",
    "from scipy.stats import chi2_contingency, mannwhitneyu, wilcoxon\n",
    "from scipy.spatial.distance import pdist\n",
    "from scipy.spatial.distance import squareform\n",
    "from wordcloud import WordCloud\n",
    "\n",
    "import plotly.express as px\n",
    "import plotly.graph_objs as go\n",
    "from ipywidgets import widgets\n",
    "from plotly.subplots import make_subplots\n",
    "\n",
    "import json\n",
    "import copy"
   ]
  },
  {
   "cell_type": "code",
   "execution_count": 2,
   "metadata": {},
   "outputs": [],
   "source": [
    "# Set various data and figure directories relative to cwd\n",
    "# (which is hopefully always this file's dirname)\n",
    "cwd = os.getcwd()\n",
    "cwd_split = os.path.split(cwd)\n",
    "srcdir = cwd_split[0]\n",
    "#sys.path.append(os.path.abspath(os.path.join('..', cwd_split[-1])))\n",
    "sys.path.append(srcdir)\n",
    "root = os.path.split(srcdir)[0]\n",
    "rawdir = os.path.join(root, \"data/raw\") # Raw csv files; local only!\n",
    "tmpdir = os.path.join(root, \"data/tmp\") # Intermediate data products; local only!\n",
    "extdir = os.path.join(root, \"data/external\") # Data from external sources; in repo\n",
    "cleandir = os.path.join(root, \"data/cleaned\") # Data for dashboard generation; in repo\n",
    "figdir = os.path.join(root, \"figures\") # Final figures; in repo"
   ]
  },
  {
   "cell_type": "code",
   "execution_count": 3,
   "metadata": {},
   "outputs": [],
   "source": [
    "import pltformat\n",
    "colorDict = pltformat.get_color_dictionary()"
   ]
  },
  {
   "cell_type": "markdown",
   "metadata": {},
   "source": [
    "# 1. Import and preprocess"
   ]
  },
  {
   "cell_type": "code",
   "execution_count": 4,
   "metadata": {},
   "outputs": [],
   "source": [
    "import preprocess"
   ]
  },
  {
   "cell_type": "markdown",
   "metadata": {},
   "source": [
    "## 1(a) 2020 data"
   ]
  },
  {
   "cell_type": "code",
   "execution_count": 151,
   "metadata": {},
   "outputs": [],
   "source": [
    "# Set raw csv data file paths\n",
    "docketcsv = \"docket_reparse_03_02_2021.csv\"\n",
    "courtcsv = \"court_summary.csv\"\n",
    "outcsv = \"processed_data.csv\"\n",
    "trimmedcsv = \"app_data.csv\"\n",
    "\n",
    "docketpath = os.path.join(rawdir, docketcsv)\n",
    "courtpath = os.path.join(rawdir, courtcsv)\n",
    "outpath = os.path.join(tmpdir, outcsv)\n",
    "trimmedpath = os.path.join(cleandir, trimmedcsv)\n"
   ]
  },
  {
   "cell_type": "code",
   "execution_count": 153,
   "metadata": {},
   "outputs": [
    {
     "name": "stdout",
     "output_type": "stream",
     "text": [
      "Removing 13 cases for which prelim_hearing_dt - bail_date was more than 5...\n",
      "> Imported 24225 rows with 25 columns:\n",
      "age\n",
      "age_group\n",
      "arrest_dt\n",
      "arresting_officer\n",
      "attorney\n",
      "attorney_type\n",
      "bail_amount\n",
      "bail_date\n",
      "bail_paid\n",
      "bail_set_bin\n",
      "bail_set_by\n",
      "bail_type\n",
      "case_status\n",
      "dob\n",
      "is_bail_posted\n",
      "is_philly_zipcode\n",
      "offense_date\n",
      "offense_type\n",
      "offenses\n",
      "prelim_hearing_dt\n",
      "prelim_hearing_time\n",
      "race\n",
      "sex\n",
      "statute\n",
      "zip\n",
      "> Saved new file\n"
     ]
    }
   ],
   "source": [
    "# Merge and clean docket and court summary data and save to new csv file\n",
    "df_2020 = preprocess.merge_and_clean_data(docketpath, courtpath,\n",
    "                                     outPath=outpath, verbose=True)"
   ]
  },
  {
   "cell_type": "code",
   "execution_count": 154,
   "metadata": {
    "scrolled": true
   },
   "outputs": [
    {
     "data": {
      "text/html": [
       "<div>\n",
       "<style scoped>\n",
       "    .dataframe tbody tr th:only-of-type {\n",
       "        vertical-align: middle;\n",
       "    }\n",
       "\n",
       "    .dataframe tbody tr th {\n",
       "        vertical-align: top;\n",
       "    }\n",
       "\n",
       "    .dataframe thead th {\n",
       "        text-align: right;\n",
       "    }\n",
       "</style>\n",
       "<table border=\"1\" class=\"dataframe\">\n",
       "  <thead>\n",
       "    <tr style=\"text-align: right;\">\n",
       "      <th></th>\n",
       "      <th>attorney</th>\n",
       "      <th>attorney_type</th>\n",
       "      <th>offenses</th>\n",
       "      <th>offense_date</th>\n",
       "      <th>statute</th>\n",
       "      <th>offense_type</th>\n",
       "      <th>bail_set_by</th>\n",
       "      <th>bail_amount</th>\n",
       "      <th>bail_paid</th>\n",
       "      <th>bail_date</th>\n",
       "      <th>...</th>\n",
       "      <th>arrest_dt</th>\n",
       "      <th>prelim_hearing_dt</th>\n",
       "      <th>prelim_hearing_time</th>\n",
       "      <th>sex</th>\n",
       "      <th>race</th>\n",
       "      <th>is_philly_zipcode</th>\n",
       "      <th>age</th>\n",
       "      <th>age_group</th>\n",
       "      <th>bail_set_bin</th>\n",
       "      <th>is_bail_posted</th>\n",
       "    </tr>\n",
       "  </thead>\n",
       "  <tbody>\n",
       "    <tr>\n",
       "      <th>0</th>\n",
       "      <td>Defender Association of Philadelphia</td>\n",
       "      <td>Public</td>\n",
       "      <td>[DUI: Gen Imp/Inc of Driving Safely - 1st Off,...</td>\n",
       "      <td>2019-12-31</td>\n",
       "      <td>[75 § 3802, 75 § 3323]</td>\n",
       "      <td>[driving after imbibing alcohol or utilizing d...</td>\n",
       "      <td>Bernard, Francis X.</td>\n",
       "      <td>0.0</td>\n",
       "      <td>0.0</td>\n",
       "      <td>2020-01-01</td>\n",
       "      <td>...</td>\n",
       "      <td>2020-01-01</td>\n",
       "      <td>2020-01-01</td>\n",
       "      <td>2021-04-04 04:05:00</td>\n",
       "      <td>Male</td>\n",
       "      <td>White</td>\n",
       "      <td>1</td>\n",
       "      <td>25.0</td>\n",
       "      <td>18 to 25</td>\n",
       "      <td>None</td>\n",
       "      <td>0</td>\n",
       "    </tr>\n",
       "    <tr>\n",
       "      <th>1</th>\n",
       "      <td>Joseph Kevin Kelly</td>\n",
       "      <td>Private</td>\n",
       "      <td>[DUI: Gen Imp/Inc of Driving Safely - 1st Off]</td>\n",
       "      <td>2019-12-31</td>\n",
       "      <td>[75 § 3802]</td>\n",
       "      <td>[driving after imbibing alcohol or utilizing d...</td>\n",
       "      <td>Bernard, Francis X.</td>\n",
       "      <td>0.0</td>\n",
       "      <td>0.0</td>\n",
       "      <td>2020-01-01</td>\n",
       "      <td>...</td>\n",
       "      <td>2020-01-01</td>\n",
       "      <td>2020-01-01</td>\n",
       "      <td>2021-04-04 04:07:00</td>\n",
       "      <td>Male</td>\n",
       "      <td>White</td>\n",
       "      <td>1</td>\n",
       "      <td>24.0</td>\n",
       "      <td>18 to 25</td>\n",
       "      <td>None</td>\n",
       "      <td>0</td>\n",
       "    </tr>\n",
       "    <tr>\n",
       "      <th>2</th>\n",
       "      <td>Defender Association of Philadelphia</td>\n",
       "      <td>Public</td>\n",
       "      <td>[Retail Theft-Take Mdse]</td>\n",
       "      <td>2019-12-31</td>\n",
       "      <td>[18 § 3929]</td>\n",
       "      <td>[theft and related offenses]</td>\n",
       "      <td>Bernard, Francis X.</td>\n",
       "      <td>0.0</td>\n",
       "      <td>0.0</td>\n",
       "      <td>2020-01-01</td>\n",
       "      <td>...</td>\n",
       "      <td>2019-12-31</td>\n",
       "      <td>2020-01-01</td>\n",
       "      <td>2021-04-04 04:10:00</td>\n",
       "      <td>Male</td>\n",
       "      <td>Black</td>\n",
       "      <td>1</td>\n",
       "      <td>57.0</td>\n",
       "      <td>26 to 64</td>\n",
       "      <td>None</td>\n",
       "      <td>0</td>\n",
       "    </tr>\n",
       "    <tr>\n",
       "      <th>3</th>\n",
       "      <td>Defender Association of Philadelphia</td>\n",
       "      <td>Public</td>\n",
       "      <td>[Simple Assault, Recklessly Endangering Anothe...</td>\n",
       "      <td>2019-12-31</td>\n",
       "      <td>[18 § 2701, 18 § 2705]</td>\n",
       "      <td>[assault, assault]</td>\n",
       "      <td>Bernard, Francis X.</td>\n",
       "      <td>30000.0</td>\n",
       "      <td>0.0</td>\n",
       "      <td>2020-01-01</td>\n",
       "      <td>...</td>\n",
       "      <td>2019-12-31</td>\n",
       "      <td>2020-01-01</td>\n",
       "      <td>2021-04-04 04:15:00</td>\n",
       "      <td>Male</td>\n",
       "      <td>Black</td>\n",
       "      <td>1</td>\n",
       "      <td>32.0</td>\n",
       "      <td>26 to 64</td>\n",
       "      <td>25k to 50k</td>\n",
       "      <td>0</td>\n",
       "    </tr>\n",
       "    <tr>\n",
       "      <th>4</th>\n",
       "      <td>Lee Mandell</td>\n",
       "      <td>Court Appointed</td>\n",
       "      <td>[Robbery-Inflict Threat Imm Bod Inj, Conspirac...</td>\n",
       "      <td>2019-12-31</td>\n",
       "      <td>[18 § 3701 §§ A1IV, 18 § 903 §§ C, 18 § 3921 §...</td>\n",
       "      <td>[robbery, inchoate crimes, theft and related o...</td>\n",
       "      <td>No Magistrate Found</td>\n",
       "      <td>30000.0</td>\n",
       "      <td>0.0</td>\n",
       "      <td>2020-01-01</td>\n",
       "      <td>...</td>\n",
       "      <td>2020-01-01</td>\n",
       "      <td>2020-01-01</td>\n",
       "      <td>2021-04-04 08:39:00</td>\n",
       "      <td>Male</td>\n",
       "      <td>Black</td>\n",
       "      <td>1</td>\n",
       "      <td>18.0</td>\n",
       "      <td>18 to 25</td>\n",
       "      <td>25k to 50k</td>\n",
       "      <td>0</td>\n",
       "    </tr>\n",
       "  </tbody>\n",
       "</table>\n",
       "<p>5 rows × 25 columns</p>\n",
       "</div>"
      ],
      "text/plain": [
       "                               attorney    attorney_type  \\\n",
       "0  Defender Association of Philadelphia           Public   \n",
       "1                    Joseph Kevin Kelly          Private   \n",
       "2  Defender Association of Philadelphia           Public   \n",
       "3  Defender Association of Philadelphia           Public   \n",
       "4                           Lee Mandell  Court Appointed   \n",
       "\n",
       "                                            offenses offense_date  \\\n",
       "0  [DUI: Gen Imp/Inc of Driving Safely - 1st Off,...   2019-12-31   \n",
       "1     [DUI: Gen Imp/Inc of Driving Safely - 1st Off]   2019-12-31   \n",
       "2                           [Retail Theft-Take Mdse]   2019-12-31   \n",
       "3  [Simple Assault, Recklessly Endangering Anothe...   2019-12-31   \n",
       "4  [Robbery-Inflict Threat Imm Bod Inj, Conspirac...   2019-12-31   \n",
       "\n",
       "                                             statute  \\\n",
       "0                             [75 § 3802, 75 § 3323]   \n",
       "1                                        [75 § 3802]   \n",
       "2                                        [18 § 3929]   \n",
       "3                             [18 § 2701, 18 § 2705]   \n",
       "4  [18 § 3701 §§ A1IV, 18 § 903 §§ C, 18 § 3921 §...   \n",
       "\n",
       "                                        offense_type          bail_set_by  \\\n",
       "0  [driving after imbibing alcohol or utilizing d...  Bernard, Francis X.   \n",
       "1  [driving after imbibing alcohol or utilizing d...  Bernard, Francis X.   \n",
       "2                       [theft and related offenses]  Bernard, Francis X.   \n",
       "3                                 [assault, assault]  Bernard, Francis X.   \n",
       "4  [robbery, inchoate crimes, theft and related o...  No Magistrate Found   \n",
       "\n",
       "   bail_amount  bail_paid  bail_date  ...  arrest_dt prelim_hearing_dt  \\\n",
       "0          0.0        0.0 2020-01-01  ... 2020-01-01        2020-01-01   \n",
       "1          0.0        0.0 2020-01-01  ... 2020-01-01        2020-01-01   \n",
       "2          0.0        0.0 2020-01-01  ... 2019-12-31        2020-01-01   \n",
       "3      30000.0        0.0 2020-01-01  ... 2019-12-31        2020-01-01   \n",
       "4      30000.0        0.0 2020-01-01  ... 2020-01-01        2020-01-01   \n",
       "\n",
       "  prelim_hearing_time   sex   race is_philly_zipcode   age age_group  \\\n",
       "0 2021-04-04 04:05:00  Male  White                 1  25.0  18 to 25   \n",
       "1 2021-04-04 04:07:00  Male  White                 1  24.0  18 to 25   \n",
       "2 2021-04-04 04:10:00  Male  Black                 1  57.0  26 to 64   \n",
       "3 2021-04-04 04:15:00  Male  Black                 1  32.0  26 to 64   \n",
       "4 2021-04-04 08:39:00  Male  Black                 1  18.0  18 to 25   \n",
       "\n",
       "  bail_set_bin is_bail_posted  \n",
       "0         None              0  \n",
       "1         None              0  \n",
       "2         None              0  \n",
       "3   25k to 50k              0  \n",
       "4   25k to 50k              0  \n",
       "\n",
       "[5 rows x 25 columns]"
      ]
     },
     "execution_count": 154,
     "metadata": {},
     "output_type": "execute_result"
    }
   ],
   "source": [
    "df_2020.head()"
   ]
  },
  {
   "cell_type": "markdown",
   "metadata": {},
   "source": [
    "## 1(b) 2021 data"
   ]
  },
  {
   "cell_type": "code",
   "execution_count": 71,
   "metadata": {},
   "outputs": [],
   "source": [
    "# Set raw csv data file paths\n",
    "docketcsv = \"2021-jan_feb_march_dockets.csv\"\n",
    "courtcsv = \"2021-jan_feb_march_court.csv\"\n",
    "outcsv = \"processed_data_2021.csv\"\n",
    "trimmedcsv = \"app_data_2021.csv\"\n",
    "\n",
    "docketpath = os.path.join(rawdir, docketcsv)\n",
    "courtpath = os.path.join(rawdir, courtcsv)\n",
    "outpath = os.path.join(tmpdir, outcsv)\n",
    "trimmedpath = os.path.join(cleandir, trimmedcsv)\n"
   ]
  },
  {
   "cell_type": "code",
   "execution_count": 72,
   "metadata": {
    "scrolled": true
   },
   "outputs": [
    {
     "name": "stdout",
     "output_type": "stream",
     "text": [
      "Removing 1 cases for which prelim_hearing_dt - bail_date was more than 5...\n",
      "> Imported 6017 rows with 25 columns:\n",
      "age\n",
      "age_group\n",
      "arrest_dt\n",
      "arresting_officer\n",
      "attorney\n",
      "attorney_type\n",
      "bail_amount\n",
      "bail_date\n",
      "bail_paid\n",
      "bail_set_bin\n",
      "bail_set_by\n",
      "bail_type\n",
      "case_status\n",
      "dob\n",
      "is_bail_posted\n",
      "is_philly_zipcode\n",
      "offense_date\n",
      "offense_type\n",
      "offenses\n",
      "prelim_hearing_dt\n",
      "prelim_hearing_time\n",
      "race\n",
      "sex\n",
      "statute\n",
      "zip\n",
      "> Saved new file\n"
     ]
    }
   ],
   "source": [
    "# Merge and clean docket and court summary data and save to new csv file\n",
    "df_2021 = preprocess.merge_and_clean_data(docketpath, courtpath,\n",
    "                                     outPath=outpath, verbose=True)"
   ]
  },
  {
   "cell_type": "markdown",
   "metadata": {},
   "source": [
    "# 2. Select magistrates"
   ]
  },
  {
   "cell_type": "markdown",
   "metadata": {},
   "source": [
    "## 2(a) Select magistrates for year 2020\n",
    "* Select 10 magistrates who handled the most number of cases in 2020 "
   ]
  },
  {
   "cell_type": "code",
   "execution_count": 167,
   "metadata": {},
   "outputs": [],
   "source": [
    "magistrates_2020 = list(df_2020['bail_set_by'].value_counts()[:10].index)"
   ]
  },
  {
   "cell_type": "code",
   "execution_count": 168,
   "metadata": {},
   "outputs": [
    {
     "data": {
      "text/plain": [
       "[\"O'Brien, James\",\n",
       " 'Bernard, Francis X.',\n",
       " 'Stack, Patrick',\n",
       " 'E-Filing Judge',\n",
       " 'Rigmaiden-DeLeon, Marilyn',\n",
       " 'Rainey, Debra',\n",
       " 'Williams, Naomi',\n",
       " 'Connor, Lauren',\n",
       " 'Devlin, Kevin R.',\n",
       " 'No Magistrate Found']"
      ]
     },
     "execution_count": 168,
     "metadata": {},
     "output_type": "execute_result"
    }
   ],
   "source": [
    "magistrates_2020"
   ]
  },
  {
   "cell_type": "markdown",
   "metadata": {},
   "source": [
    "## 2(b) Select magistrates for year 2021\n",
    "* Select all magistrates"
   ]
  },
  {
   "cell_type": "code",
   "execution_count": 169,
   "metadata": {},
   "outputs": [],
   "source": [
    "magistrates_2021 = list(df_2021['bail_set_by'].value_counts().index)"
   ]
  },
  {
   "cell_type": "code",
   "execution_count": 170,
   "metadata": {},
   "outputs": [
    {
     "data": {
      "text/plain": [
       "['Stack, Patrick',\n",
       " 'Rainey, Debra',\n",
       " 'Connor, Lauren',\n",
       " 'Rigmaiden-DeLeon, Marilyn',\n",
       " 'Bernard, Francis X.',\n",
       " \"O'Brien, James\",\n",
       " 'Williams, Naomi',\n",
       " 'No Magistrate Found',\n",
       " 'Caudo, Michael A.',\n",
       " 'E-Filing Judge']"
      ]
     },
     "execution_count": 170,
     "metadata": {},
     "output_type": "execute_result"
    }
   ],
   "source": [
    "magistrates_2021"
   ]
  },
  {
   "cell_type": "markdown",
   "metadata": {},
   "source": [
    "# 3. plot year-end summary of bail type by magistrate \n",
    "* For year-end summary, report for the 9 selected magistrates (who handled more than 500 cases) and all others (under category 'Other')"
   ]
  },
  {
   "cell_type": "markdown",
   "metadata": {},
   "source": [
    "## 3(a) Prepare dataframe"
   ]
  },
  {
   "cell_type": "code",
   "execution_count": 172,
   "metadata": {},
   "outputs": [],
   "source": [
    "def prep_barplot_data(df, magistrates = []):\n",
    "    # create dataframe for plotting interactive bar plot\n",
    "    \n",
    "    \"\"\"\n",
    "    --- input ---\n",
    "    df: (dataframe) of 2020 data or 2021 data\n",
    "    magistrates: (list) of selected magistrate for plotting.\n",
    "                If empty, show all the magistrates involved in df\n",
    "    --- output ---\n",
    "    df_magistrate: (dataframe) containing data for interative bar plot\n",
    "    \"\"\"\n",
    "    # create column \n",
    "    df['magistrate'] = df['bail_set_by'].apply(lambda x: x if x in magistrates else 'Other') \n",
    "\n",
    "    # find bail type by magistrate\n",
    "    df_magistrate = pd.crosstab(index = df['magistrate'], columns =df['bail_type'])\n",
    "    # note: total excludes any entries with 'bail_type' == NaN\n",
    "    df_magistrate['Total'] = df_magistrate.sum(axis = 1)\n",
    "    df_magistrate.sort_values(by = ['Total'], ascending = False, inplace = True)\n",
    "    \n",
    "    # if magistrates list is empty, select all magistrates in dataframe\n",
    "    if magistrates == []:\n",
    "        magistrates = df_magistrate[df_magistrate['Total']> 0].index\n",
    "\n",
    "    # get total bail amount set\n",
    "    df_amount = df[['magistrate','bail_amount']].groupby(by = ['magistrate']).sum()\n",
    "\n",
    "    # merge the two \n",
    "    df_magistrate = pd.concat([df_magistrate.stack(), df_amount.stack()[magistrates]], axis = 0).unstack()\n",
    "    \n",
    "    # convert bail type count to percentage\n",
    "    df_magistrate[[\"Monetary_count\", \"Nonmonetary_count\", \"Denied_count\", \"ROR_count\", \"Unsecured_count\"]] = df_magistrate[['Monetary', 'Nonmonetary', 'Denied', 'ROR','Unsecured']]\n",
    "    df_magistrate[['Monetary', 'Nonmonetary', 'Denied', 'ROR','Unsecured']] = df_magistrate[['Monetary', 'Nonmonetary', 'Denied', 'ROR','Unsecured']].apply(lambda x: x* 100/ df_magistrate['Total'])\n",
    "\n",
    "    # change column formats\n",
    "    df_magistrate[[\"Monetary\", \"ROR\",\"Unsecured\", \"Nonmonetary\", \"Denied\"]] = df_magistrate[[\"Monetary\", \"ROR\",\"Unsecured\", \"Nonmonetary\", \"Denied\"]].apply(lambda x: round(x,2))\n",
    "    df_magistrate[[\"Monetary_count\", \"ROR_count\", \"Unsecured_count\", \"Nonmonetary_count\", \"Denied_count\",\"Total\"]] = df_magistrate[[\"Monetary_count\", \"ROR_count\", \"Unsecured_count\", \"Nonmonetary_count\", \"Denied_count\", \"Total\"]].astype(int)\n",
    "\n",
    "    # format bail amount\n",
    "    df_magistrate[\"bail_amount\"] = df_magistrate[\"bail_amount\"].apply(lambda x: \"${:,.0f}\".format(x/1000))\n",
    "\n",
    "    # keep last names of magistrates\n",
    "    df_magistrate.rename(index = lambda x: x.split(',')[0] if x != \"No Magistrate Found\" else x, inplace = True)\n",
    "\n",
    "    df_magistrate.sort_values(by = ['Total'], ascending = True, inplace = True)\n",
    "\n",
    "    \n",
    "    return df_magistrate"
   ]
  },
  {
   "cell_type": "code",
   "execution_count": 175,
   "metadata": {},
   "outputs": [],
   "source": [
    "# get data for 2020 and 2021\n",
    "df_magistrate_2020 = prep_barplot_data(df_2020, magistrates_2020)\n",
    "df_magistrate_2021 = prep_barplot_data(df_2021, magistrates_2021)"
   ]
  },
  {
   "cell_type": "code",
   "execution_count": 177,
   "metadata": {},
   "outputs": [],
   "source": [
    "# save data\n",
    "magistrate_path_2020 = os.path.join(cleandir, \"app_magistrate_data_2020.csv\")\n",
    "#df_magistrate_2020.to_csv(magistrate_path_2020)\n",
    "magistrate_path_2021 = os.path.join(cleandir, \"app_magistrate_data_2021.csv\")\n",
    "#df_magistrate_2021.to_csv(magistrate_path_2021)"
   ]
  },
  {
   "cell_type": "markdown",
   "metadata": {},
   "source": [
    "## 3(b) Plot year-end summary interactive bar plot"
   ]
  },
  {
   "cell_type": "code",
   "execution_count": 178,
   "metadata": {},
   "outputs": [],
   "source": [
    "# load data\n",
    "magistrate_path_2020 = os.path.join(cleandir, \"app_magistrate_data_2020.csv\")\n",
    "magistrate_path_2021 = os.path.join(cleandir, \"app_magistrate_data_2021.csv\")\n",
    "\n",
    "df_magistrate_2020 = pd.read_csv(magistrate_path_2020)\n",
    "df_magistrate_2021 = pd.read_csv(magistrate_path_2021)"
   ]
  },
  {
   "cell_type": "code",
   "execution_count": 183,
   "metadata": {},
   "outputs": [],
   "source": [
    "# prepare data\n",
    "bail_type = [\"Monetary\", \"ROR\", \"Unsecured\", \"Nonmonetary\", \"Denied\"]\n",
    "bail_type_count = [\"Monetary_count\", \"ROR_count\", \"Unsecured_count\", \"Nonmonetary_count\", \"Denied_count\"]\n",
    "\n",
    "data_2020 = np.array(df_magistrate_2020[bail_type]).transpose()\n",
    "count_2020 = np.array(df_magistrate_2020[bail_type_count]).transpose()\n",
    "names_2020 = list(df_magistrate_2020['magistrate'].values)\n",
    "total_2020 = df_magistrate_2020['Total'].astype(int)\n",
    "bail_set_2020 = df_magistrate_2020['bail_amount']\n",
    "\n",
    "data_2021 = np.array(df_magistrate_2021[bail_type]).transpose()\n",
    "count_2021 = np.array(df_magistrate_2021[bail_type_count]).transpose()\n",
    "names_2021 = list(df_magistrate_2021['magistrate'].values)\n",
    "total_2021 = df_magistrate_2021['Total'].astype(int)\n",
    "bail_set_2021 = df_magistrate_2021['bail_amount']"
   ]
  },
  {
   "cell_type": "code",
   "execution_count": 184,
   "metadata": {},
   "outputs": [
    {
     "data": {
      "application/vnd.plotly.v1+json": {
       "config": {
        "plotlyServerURL": "https://plot.ly"
       },
       "data": [
        {
         "hoverinfo": "text",
         "hovertext": [
          "name: No Magistrate Found<br>percentage: 49.86%<br>case count: 366 / 734<br>total monetary bail amount set: $60,819",
          "name: Devlin<br>percentage: 53.28%<br>case count: 479 / 899<br>total monetary bail amount set: $50,214",
          "name: Connor<br>percentage: 49.34%<br>case count: 486 / 985<br>total monetary bail amount set: $93,792",
          "name: Williams<br>percentage: 45.46%<br>case count: 451 / 992<br>total monetary bail amount set: $43,290",
          "name: Rainey<br>percentage: 48.73%<br>case count: 539 / 1106<br>total monetary bail amount set: $57,307",
          "name: Other<br>percentage: 45.54%<br>case count: 556 / 1221<br>total monetary bail amount set: $nan",
          "name: Rigmaiden-DeLeon<br>percentage: 50.82%<br>case count: 895 / 1761<br>total monetary bail amount set: $96,682",
          "name: E-Filing Judge<br>percentage: 38.36%<br>case count: 1338 / 3488<br>total monetary bail amount set: $151,629",
          "name: Stack<br>percentage: 49.13%<br>case count: 1996 / 4063<br>total monetary bail amount set: $178,375",
          "name: Bernard<br>percentage: 53.5%<br>case count: 2385 / 4458<br>total monetary bail amount set: $503,404",
          "name: O'Brien<br>percentage: 51.35%<br>case count: 2320 / 4518<br>total monetary bail amount set: $264,058"
         ],
         "name": "Monetary",
         "orientation": "h",
         "text": [
          "49.86%",
          "53.28%",
          "49.34%",
          "45.46%",
          "48.73%",
          "45.54%",
          "50.82%",
          "38.36%",
          "49.13%",
          "53.5%",
          "51.35%"
         ],
         "textposition": "inside",
         "type": "bar",
         "x": [
          49.86,
          53.28,
          49.34,
          45.46,
          48.73,
          45.54,
          50.82,
          38.36,
          49.13,
          53.5,
          51.35
         ],
         "y": [
          "No Magistrate Found",
          "Devlin",
          "Connor",
          "Williams",
          "Rainey",
          "Other",
          "Rigmaiden-DeLeon",
          "E-Filing Judge",
          "Stack",
          "Bernard",
          "O'Brien"
         ]
        },
        {
         "hoverinfo": "text",
         "hovertext": [
          "name: No Magistrate Found<br>percentage: 1.36%<br>case count: 10 / 734",
          "name: Devlin<br>percentage: 39.82%<br>case count: 358 / 899",
          "name: Connor<br>percentage: 22.44%<br>case count: 221 / 985",
          "name: Williams<br>percentage: 28.33%<br>case count: 281 / 992",
          "name: Rainey<br>percentage: 26.31%<br>case count: 291 / 1106",
          "name: Other<br>percentage: 31.2%<br>case count: 381 / 1221",
          "name: Rigmaiden-DeLeon<br>percentage: 26.86%<br>case count: 473 / 1761",
          "name: E-Filing Judge<br>percentage: 33.8%<br>case count: 1179 / 3488",
          "name: Stack<br>percentage: 41.2%<br>case count: 1674 / 4063",
          "name: Bernard<br>percentage: 22.86%<br>case count: 1019 / 4458",
          "name: O'Brien<br>percentage: 21.36%<br>case count: 965 / 4518"
         ],
         "name": "ROR",
         "orientation": "h",
         "text": [
          "",
          "39.82%",
          "22.44%",
          "28.33%",
          "26.31%",
          "31.2%",
          "26.86%",
          "33.8%",
          "41.2%",
          "22.86%",
          "21.36%"
         ],
         "textposition": "inside",
         "type": "bar",
         "x": [
          1.36,
          39.82,
          22.44,
          28.33,
          26.31,
          31.2,
          26.86,
          33.8,
          41.2,
          22.86,
          21.36
         ],
         "y": [
          "No Magistrate Found",
          "Devlin",
          "Connor",
          "Williams",
          "Rainey",
          "Other",
          "Rigmaiden-DeLeon",
          "E-Filing Judge",
          "Stack",
          "Bernard",
          "O'Brien"
         ]
        },
        {
         "hoverinfo": "text",
         "hovertext": [
          "name: No Magistrate Found<br>percentage: 1.63%<br>case count: 12 / 734",
          "name: Devlin<br>percentage: 5.9%<br>case count: 53 / 899",
          "name: Connor<br>percentage: 28.22%<br>case count: 278 / 985",
          "name: Williams<br>percentage: 26.11%<br>case count: 259 / 992",
          "name: Rainey<br>percentage: 24.95%<br>case count: 276 / 1106",
          "name: Other<br>percentage: 23.26%<br>case count: 284 / 1221",
          "name: Rigmaiden-DeLeon<br>percentage: 22.32%<br>case count: 393 / 1761",
          "name: E-Filing Judge<br>percentage: 26.46%<br>case count: 923 / 3488",
          "name: Stack<br>percentage: 9.6%<br>case count: 390 / 4063",
          "name: Bernard<br>percentage: 22.48%<br>case count: 1002 / 4458",
          "name: O'Brien<br>percentage: 26.14%<br>case count: 1181 / 4518"
         ],
         "name": "Unsecured",
         "orientation": "h",
         "text": [
          "",
          "5.9%",
          "28.22%",
          "26.11%",
          "24.95%",
          "23.26%",
          "22.32%",
          "26.46%",
          "9.6%",
          "22.48%",
          "26.14%"
         ],
         "textposition": "inside",
         "type": "bar",
         "x": [
          1.63,
          5.9,
          28.22,
          26.11,
          24.95,
          23.26,
          22.32,
          26.46,
          9.6,
          22.48,
          26.14
         ],
         "y": [
          "No Magistrate Found",
          "Devlin",
          "Connor",
          "Williams",
          "Rainey",
          "Other",
          "Rigmaiden-DeLeon",
          "E-Filing Judge",
          "Stack",
          "Bernard",
          "O'Brien"
         ]
        },
        {
         "hoverinfo": "text",
         "hovertext": [
          "name: No Magistrate Found<br>percentage: 0.14%<br>case count: 1 / 734",
          "name: Devlin<br>percentage: 1.0%<br>case count: 9 / 899",
          "name: Connor<br>percentage: 0.0%<br>case count: 0 / 985",
          "name: Williams<br>percentage: 0.0%<br>case count: 0 / 992",
          "name: Rainey<br>percentage: 0.0%<br>case count: 0 / 1106",
          "name: Other<br>percentage: 0.0%<br>case count: 0 / 1221",
          "name: Rigmaiden-DeLeon<br>percentage: 0.0%<br>case count: 0 / 1761",
          "name: E-Filing Judge<br>percentage: 1.38%<br>case count: 48 / 3488",
          "name: Stack<br>percentage: 0.07%<br>case count: 3 / 4063",
          "name: Bernard<br>percentage: 1.17%<br>case count: 52 / 4458",
          "name: O'Brien<br>percentage: 1.15%<br>case count: 52 / 4518"
         ],
         "name": "Nonmonetary",
         "orientation": "h",
         "text": [
          "",
          "",
          "",
          "",
          "",
          "",
          "",
          "",
          "",
          "",
          ""
         ],
         "textposition": "inside",
         "type": "bar",
         "x": [
          0.14,
          1,
          0,
          0,
          0,
          0,
          0,
          1.38,
          0.07,
          1.17,
          1.15
         ],
         "y": [
          "No Magistrate Found",
          "Devlin",
          "Connor",
          "Williams",
          "Rainey",
          "Other",
          "Rigmaiden-DeLeon",
          "E-Filing Judge",
          "Stack",
          "Bernard",
          "O'Brien"
         ]
        },
        {
         "hoverinfo": "text",
         "hovertext": [
          "name: No Magistrate Found<br>percentage: 47.0%<br>case count: 345 / 734",
          "name: Devlin<br>percentage: 0.0%<br>case count: 0 / 899",
          "name: Connor<br>percentage: 0.0%<br>case count: 0 / 985",
          "name: Williams<br>percentage: 0.1%<br>case count: 1 / 992",
          "name: Rainey<br>percentage: 0.0%<br>case count: 0 / 1106",
          "name: Other<br>percentage: 0.0%<br>case count: 0 / 1221",
          "name: Rigmaiden-DeLeon<br>percentage: 0.0%<br>case count: 0 / 1761",
          "name: E-Filing Judge<br>percentage: 0.0%<br>case count: 0 / 3488",
          "name: Stack<br>percentage: 0.0%<br>case count: 0 / 4063",
          "name: Bernard<br>percentage: 0.0%<br>case count: 0 / 4458",
          "name: O'Brien<br>percentage: 0.0%<br>case count: 0 / 4518"
         ],
         "name": "Denied",
         "orientation": "h",
         "text": [
          "47.0%",
          "",
          "",
          "",
          "",
          "",
          "",
          "",
          "",
          "",
          ""
         ],
         "textposition": "inside",
         "type": "bar",
         "x": [
          47,
          0,
          0,
          0.1,
          0,
          0,
          0,
          0,
          0,
          0,
          0
         ],
         "y": [
          "No Magistrate Found",
          "Devlin",
          "Connor",
          "Williams",
          "Rainey",
          "Other",
          "Rigmaiden-DeLeon",
          "E-Filing Judge",
          "Stack",
          "Bernard",
          "O'Brien"
         ]
        },
        {
         "hoverinfo": "text",
         "hovertext": [
          "name: E-Filing Judge<br>percentage: 100.0%<br>case count: 1 / 1<br>total monetary bail amount set: $0",
          "name: Caudo<br>percentage: 55.0%<br>case count: 11 / 20<br>total monetary bail amount set: $2,760",
          "name: No Magistrate Found<br>percentage: 0.85%<br>case count: 1 / 117<br>total monetary bail amount set: $12",
          "name: Williams<br>percentage: 60.47%<br>case count: 231 / 382<br>total monetary bail amount set: $27,260",
          "name: O'Brien<br>percentage: 55.26%<br>case count: 268 / 485<br>total monetary bail amount set: $38,876",
          "name: Bernard<br>percentage: 64.2%<br>case count: 590 / 919<br>total monetary bail amount set: $152,485",
          "name: Rigmaiden-DeLeon<br>percentage: 50.98%<br>case count: 492 / 965<br>total monetary bail amount set: $48,602",
          "name: Connor<br>percentage: 47.95%<br>case count: 467 / 974<br>total monetary bail amount set: $113,516",
          "name: Rainey<br>percentage: 49.81%<br>case count: 514 / 1032<br>total monetary bail amount set: $83,153",
          "name: Stack<br>percentage: 60.78%<br>case count: 682 / 1122<br>total monetary bail amount set: $69,622"
         ],
         "name": "Monetary",
         "orientation": "h",
         "text": [
          "100.0%",
          "55.0%",
          "",
          "60.47%",
          "55.26%",
          "64.2%",
          "50.98%",
          "47.95%",
          "49.81%",
          "60.78%"
         ],
         "textposition": "inside",
         "type": "bar",
         "visible": false,
         "x": [
          100,
          55,
          0.85,
          60.47,
          55.26,
          64.2,
          50.98,
          47.95,
          49.81,
          60.78
         ],
         "y": [
          "E-Filing Judge",
          "Caudo",
          "No Magistrate Found",
          "Williams",
          "O'Brien",
          "Bernard",
          "Rigmaiden-DeLeon",
          "Connor",
          "Rainey",
          "Stack"
         ]
        },
        {
         "hoverinfo": "text",
         "hovertext": [
          "name: E-Filing Judge<br>percentage: 0.0%<br>case count: 0 / 1",
          "name: Caudo<br>percentage: 10.0%<br>case count: 2 / 20",
          "name: No Magistrate Found<br>percentage: 0.0%<br>case count: 0 / 117",
          "name: Williams<br>percentage: 18.85%<br>case count: 72 / 382",
          "name: O'Brien<br>percentage: 16.08%<br>case count: 78 / 485",
          "name: Bernard<br>percentage: 14.58%<br>case count: 134 / 919",
          "name: Rigmaiden-DeLeon<br>percentage: 24.56%<br>case count: 237 / 965",
          "name: Connor<br>percentage: 23.92%<br>case count: 233 / 974",
          "name: Rainey<br>percentage: 27.52%<br>case count: 284 / 1032",
          "name: Stack<br>percentage: 34.67%<br>case count: 389 / 1122"
         ],
         "name": "ROR",
         "orientation": "h",
         "text": [
          "",
          "10.0%",
          "",
          "18.85%",
          "16.08%",
          "14.58%",
          "24.56%",
          "23.92%",
          "27.52%",
          "34.67%"
         ],
         "textposition": "inside",
         "type": "bar",
         "visible": false,
         "x": [
          0,
          10,
          0,
          18.85,
          16.08,
          14.58,
          24.56,
          23.92,
          27.52,
          34.67
         ],
         "y": [
          "E-Filing Judge",
          "Caudo",
          "No Magistrate Found",
          "Williams",
          "O'Brien",
          "Bernard",
          "Rigmaiden-DeLeon",
          "Connor",
          "Rainey",
          "Stack"
         ]
        },
        {
         "hoverinfo": "text",
         "hovertext": [
          "name: E-Filing Judge<br>percentage: 0.0%<br>case count: 0 / 1",
          "name: Caudo<br>percentage: 35.0%<br>case count: 7 / 20",
          "name: No Magistrate Found<br>percentage: 0.0%<br>case count: 0 / 117",
          "name: Williams<br>percentage: 20.68%<br>case count: 79 / 382",
          "name: O'Brien<br>percentage: 28.45%<br>case count: 138 / 485",
          "name: Bernard<br>percentage: 21.22%<br>case count: 195 / 919",
          "name: Rigmaiden-DeLeon<br>percentage: 24.46%<br>case count: 236 / 965",
          "name: Connor<br>percentage: 28.13%<br>case count: 274 / 974",
          "name: Rainey<br>percentage: 22.67%<br>case count: 234 / 1032",
          "name: Stack<br>percentage: 4.55%<br>case count: 51 / 1122"
         ],
         "name": "Unsecured",
         "orientation": "h",
         "text": [
          "",
          "35.0%",
          "",
          "20.68%",
          "28.45%",
          "21.22%",
          "24.46%",
          "28.13%",
          "22.67%",
          ""
         ],
         "textposition": "inside",
         "type": "bar",
         "visible": false,
         "x": [
          0,
          35,
          0,
          20.68,
          28.45,
          21.22,
          24.46,
          28.13,
          22.67,
          4.55
         ],
         "y": [
          "E-Filing Judge",
          "Caudo",
          "No Magistrate Found",
          "Williams",
          "O'Brien",
          "Bernard",
          "Rigmaiden-DeLeon",
          "Connor",
          "Rainey",
          "Stack"
         ]
        },
        {
         "hoverinfo": "text",
         "hovertext": [
          "name: E-Filing Judge<br>percentage: 0.0%<br>case count: 0 / 1",
          "name: Caudo<br>percentage: 0.0%<br>case count: 0 / 20",
          "name: No Magistrate Found<br>percentage: 0.0%<br>case count: 0 / 117",
          "name: Williams<br>percentage: 0.0%<br>case count: 0 / 382",
          "name: O'Brien<br>percentage: 0.21%<br>case count: 1 / 485",
          "name: Bernard<br>percentage: 0.0%<br>case count: 0 / 919",
          "name: Rigmaiden-DeLeon<br>percentage: 0.0%<br>case count: 0 / 965",
          "name: Connor<br>percentage: 0.0%<br>case count: 0 / 974",
          "name: Rainey<br>percentage: 0.0%<br>case count: 0 / 1032",
          "name: Stack<br>percentage: 0.0%<br>case count: 0 / 1122"
         ],
         "name": "Nonmonetary",
         "orientation": "h",
         "text": [
          "",
          "",
          "",
          "",
          "",
          "",
          "",
          "",
          "",
          ""
         ],
         "textposition": "inside",
         "type": "bar",
         "visible": false,
         "x": [
          0,
          0,
          0,
          0,
          0.21,
          0,
          0,
          0,
          0,
          0
         ],
         "y": [
          "E-Filing Judge",
          "Caudo",
          "No Magistrate Found",
          "Williams",
          "O'Brien",
          "Bernard",
          "Rigmaiden-DeLeon",
          "Connor",
          "Rainey",
          "Stack"
         ]
        },
        {
         "hoverinfo": "text",
         "hovertext": [
          "name: E-Filing Judge<br>percentage: 0.0%<br>case count: 0 / 1",
          "name: Caudo<br>percentage: 0.0%<br>case count: 0 / 20",
          "name: No Magistrate Found<br>percentage: 99.15%<br>case count: 116 / 117",
          "name: Williams<br>percentage: 0.0%<br>case count: 0 / 382",
          "name: O'Brien<br>percentage: 0.0%<br>case count: 0 / 485",
          "name: Bernard<br>percentage: 0.0%<br>case count: 0 / 919",
          "name: Rigmaiden-DeLeon<br>percentage: 0.0%<br>case count: 0 / 965",
          "name: Connor<br>percentage: 0.0%<br>case count: 0 / 974",
          "name: Rainey<br>percentage: 0.0%<br>case count: 0 / 1032",
          "name: Stack<br>percentage: 0.0%<br>case count: 0 / 1122"
         ],
         "name": "Denied",
         "orientation": "h",
         "text": [
          "",
          "",
          "99.15%",
          "",
          "",
          "",
          "",
          "",
          "",
          ""
         ],
         "textposition": "inside",
         "type": "bar",
         "visible": false,
         "x": [
          0,
          0,
          99.15,
          0,
          0,
          0,
          0,
          0,
          0,
          0
         ],
         "y": [
          "E-Filing Judge",
          "Caudo",
          "No Magistrate Found",
          "Williams",
          "O'Brien",
          "Bernard",
          "Rigmaiden-DeLeon",
          "Connor",
          "Rainey",
          "Stack"
         ]
        }
       ],
       "layout": {
        "annotations": [
         {
          "align": "left",
          "showarrow": false,
          "text": "Select year",
          "x": -0.15,
          "xref": "paper",
          "y": 1.06,
          "yref": "paper"
         }
        ],
        "barmode": "stack",
        "legend": {
         "title": {
          "text": "bail type"
         },
         "traceorder": "normal"
        },
        "margin": {
         "b": 0,
         "l": 0,
         "r": 0,
         "t": 100
        },
        "template": {
         "data": {
          "bar": [
           {
            "error_x": {
             "color": "#2a3f5f"
            },
            "error_y": {
             "color": "#2a3f5f"
            },
            "marker": {
             "line": {
              "color": "#E5ECF6",
              "width": 0.5
             }
            },
            "type": "bar"
           }
          ],
          "barpolar": [
           {
            "marker": {
             "line": {
              "color": "#E5ECF6",
              "width": 0.5
             }
            },
            "type": "barpolar"
           }
          ],
          "carpet": [
           {
            "aaxis": {
             "endlinecolor": "#2a3f5f",
             "gridcolor": "white",
             "linecolor": "white",
             "minorgridcolor": "white",
             "startlinecolor": "#2a3f5f"
            },
            "baxis": {
             "endlinecolor": "#2a3f5f",
             "gridcolor": "white",
             "linecolor": "white",
             "minorgridcolor": "white",
             "startlinecolor": "#2a3f5f"
            },
            "type": "carpet"
           }
          ],
          "choropleth": [
           {
            "colorbar": {
             "outlinewidth": 0,
             "ticks": ""
            },
            "type": "choropleth"
           }
          ],
          "contour": [
           {
            "colorbar": {
             "outlinewidth": 0,
             "ticks": ""
            },
            "colorscale": [
             [
              0,
              "#0d0887"
             ],
             [
              0.1111111111111111,
              "#46039f"
             ],
             [
              0.2222222222222222,
              "#7201a8"
             ],
             [
              0.3333333333333333,
              "#9c179e"
             ],
             [
              0.4444444444444444,
              "#bd3786"
             ],
             [
              0.5555555555555556,
              "#d8576b"
             ],
             [
              0.6666666666666666,
              "#ed7953"
             ],
             [
              0.7777777777777778,
              "#fb9f3a"
             ],
             [
              0.8888888888888888,
              "#fdca26"
             ],
             [
              1,
              "#f0f921"
             ]
            ],
            "type": "contour"
           }
          ],
          "contourcarpet": [
           {
            "colorbar": {
             "outlinewidth": 0,
             "ticks": ""
            },
            "type": "contourcarpet"
           }
          ],
          "heatmap": [
           {
            "colorbar": {
             "outlinewidth": 0,
             "ticks": ""
            },
            "colorscale": [
             [
              0,
              "#0d0887"
             ],
             [
              0.1111111111111111,
              "#46039f"
             ],
             [
              0.2222222222222222,
              "#7201a8"
             ],
             [
              0.3333333333333333,
              "#9c179e"
             ],
             [
              0.4444444444444444,
              "#bd3786"
             ],
             [
              0.5555555555555556,
              "#d8576b"
             ],
             [
              0.6666666666666666,
              "#ed7953"
             ],
             [
              0.7777777777777778,
              "#fb9f3a"
             ],
             [
              0.8888888888888888,
              "#fdca26"
             ],
             [
              1,
              "#f0f921"
             ]
            ],
            "type": "heatmap"
           }
          ],
          "heatmapgl": [
           {
            "colorbar": {
             "outlinewidth": 0,
             "ticks": ""
            },
            "colorscale": [
             [
              0,
              "#0d0887"
             ],
             [
              0.1111111111111111,
              "#46039f"
             ],
             [
              0.2222222222222222,
              "#7201a8"
             ],
             [
              0.3333333333333333,
              "#9c179e"
             ],
             [
              0.4444444444444444,
              "#bd3786"
             ],
             [
              0.5555555555555556,
              "#d8576b"
             ],
             [
              0.6666666666666666,
              "#ed7953"
             ],
             [
              0.7777777777777778,
              "#fb9f3a"
             ],
             [
              0.8888888888888888,
              "#fdca26"
             ],
             [
              1,
              "#f0f921"
             ]
            ],
            "type": "heatmapgl"
           }
          ],
          "histogram": [
           {
            "marker": {
             "colorbar": {
              "outlinewidth": 0,
              "ticks": ""
             }
            },
            "type": "histogram"
           }
          ],
          "histogram2d": [
           {
            "colorbar": {
             "outlinewidth": 0,
             "ticks": ""
            },
            "colorscale": [
             [
              0,
              "#0d0887"
             ],
             [
              0.1111111111111111,
              "#46039f"
             ],
             [
              0.2222222222222222,
              "#7201a8"
             ],
             [
              0.3333333333333333,
              "#9c179e"
             ],
             [
              0.4444444444444444,
              "#bd3786"
             ],
             [
              0.5555555555555556,
              "#d8576b"
             ],
             [
              0.6666666666666666,
              "#ed7953"
             ],
             [
              0.7777777777777778,
              "#fb9f3a"
             ],
             [
              0.8888888888888888,
              "#fdca26"
             ],
             [
              1,
              "#f0f921"
             ]
            ],
            "type": "histogram2d"
           }
          ],
          "histogram2dcontour": [
           {
            "colorbar": {
             "outlinewidth": 0,
             "ticks": ""
            },
            "colorscale": [
             [
              0,
              "#0d0887"
             ],
             [
              0.1111111111111111,
              "#46039f"
             ],
             [
              0.2222222222222222,
              "#7201a8"
             ],
             [
              0.3333333333333333,
              "#9c179e"
             ],
             [
              0.4444444444444444,
              "#bd3786"
             ],
             [
              0.5555555555555556,
              "#d8576b"
             ],
             [
              0.6666666666666666,
              "#ed7953"
             ],
             [
              0.7777777777777778,
              "#fb9f3a"
             ],
             [
              0.8888888888888888,
              "#fdca26"
             ],
             [
              1,
              "#f0f921"
             ]
            ],
            "type": "histogram2dcontour"
           }
          ],
          "mesh3d": [
           {
            "colorbar": {
             "outlinewidth": 0,
             "ticks": ""
            },
            "type": "mesh3d"
           }
          ],
          "parcoords": [
           {
            "line": {
             "colorbar": {
              "outlinewidth": 0,
              "ticks": ""
             }
            },
            "type": "parcoords"
           }
          ],
          "pie": [
           {
            "automargin": true,
            "type": "pie"
           }
          ],
          "scatter": [
           {
            "marker": {
             "colorbar": {
              "outlinewidth": 0,
              "ticks": ""
             }
            },
            "type": "scatter"
           }
          ],
          "scatter3d": [
           {
            "line": {
             "colorbar": {
              "outlinewidth": 0,
              "ticks": ""
             }
            },
            "marker": {
             "colorbar": {
              "outlinewidth": 0,
              "ticks": ""
             }
            },
            "type": "scatter3d"
           }
          ],
          "scattercarpet": [
           {
            "marker": {
             "colorbar": {
              "outlinewidth": 0,
              "ticks": ""
             }
            },
            "type": "scattercarpet"
           }
          ],
          "scattergeo": [
           {
            "marker": {
             "colorbar": {
              "outlinewidth": 0,
              "ticks": ""
             }
            },
            "type": "scattergeo"
           }
          ],
          "scattergl": [
           {
            "marker": {
             "colorbar": {
              "outlinewidth": 0,
              "ticks": ""
             }
            },
            "type": "scattergl"
           }
          ],
          "scattermapbox": [
           {
            "marker": {
             "colorbar": {
              "outlinewidth": 0,
              "ticks": ""
             }
            },
            "type": "scattermapbox"
           }
          ],
          "scatterpolar": [
           {
            "marker": {
             "colorbar": {
              "outlinewidth": 0,
              "ticks": ""
             }
            },
            "type": "scatterpolar"
           }
          ],
          "scatterpolargl": [
           {
            "marker": {
             "colorbar": {
              "outlinewidth": 0,
              "ticks": ""
             }
            },
            "type": "scatterpolargl"
           }
          ],
          "scatterternary": [
           {
            "marker": {
             "colorbar": {
              "outlinewidth": 0,
              "ticks": ""
             }
            },
            "type": "scatterternary"
           }
          ],
          "surface": [
           {
            "colorbar": {
             "outlinewidth": 0,
             "ticks": ""
            },
            "colorscale": [
             [
              0,
              "#0d0887"
             ],
             [
              0.1111111111111111,
              "#46039f"
             ],
             [
              0.2222222222222222,
              "#7201a8"
             ],
             [
              0.3333333333333333,
              "#9c179e"
             ],
             [
              0.4444444444444444,
              "#bd3786"
             ],
             [
              0.5555555555555556,
              "#d8576b"
             ],
             [
              0.6666666666666666,
              "#ed7953"
             ],
             [
              0.7777777777777778,
              "#fb9f3a"
             ],
             [
              0.8888888888888888,
              "#fdca26"
             ],
             [
              1,
              "#f0f921"
             ]
            ],
            "type": "surface"
           }
          ],
          "table": [
           {
            "cells": {
             "fill": {
              "color": "#EBF0F8"
             },
             "line": {
              "color": "white"
             }
            },
            "header": {
             "fill": {
              "color": "#C8D4E3"
             },
             "line": {
              "color": "white"
             }
            },
            "type": "table"
           }
          ]
         },
         "layout": {
          "annotationdefaults": {
           "arrowcolor": "#2a3f5f",
           "arrowhead": 0,
           "arrowwidth": 1
          },
          "coloraxis": {
           "colorbar": {
            "outlinewidth": 0,
            "ticks": ""
           }
          },
          "colorscale": {
           "diverging": [
            [
             0,
             "#8e0152"
            ],
            [
             0.1,
             "#c51b7d"
            ],
            [
             0.2,
             "#de77ae"
            ],
            [
             0.3,
             "#f1b6da"
            ],
            [
             0.4,
             "#fde0ef"
            ],
            [
             0.5,
             "#f7f7f7"
            ],
            [
             0.6,
             "#e6f5d0"
            ],
            [
             0.7,
             "#b8e186"
            ],
            [
             0.8,
             "#7fbc41"
            ],
            [
             0.9,
             "#4d9221"
            ],
            [
             1,
             "#276419"
            ]
           ],
           "sequential": [
            [
             0,
             "#0d0887"
            ],
            [
             0.1111111111111111,
             "#46039f"
            ],
            [
             0.2222222222222222,
             "#7201a8"
            ],
            [
             0.3333333333333333,
             "#9c179e"
            ],
            [
             0.4444444444444444,
             "#bd3786"
            ],
            [
             0.5555555555555556,
             "#d8576b"
            ],
            [
             0.6666666666666666,
             "#ed7953"
            ],
            [
             0.7777777777777778,
             "#fb9f3a"
            ],
            [
             0.8888888888888888,
             "#fdca26"
            ],
            [
             1,
             "#f0f921"
            ]
           ],
           "sequentialminus": [
            [
             0,
             "#0d0887"
            ],
            [
             0.1111111111111111,
             "#46039f"
            ],
            [
             0.2222222222222222,
             "#7201a8"
            ],
            [
             0.3333333333333333,
             "#9c179e"
            ],
            [
             0.4444444444444444,
             "#bd3786"
            ],
            [
             0.5555555555555556,
             "#d8576b"
            ],
            [
             0.6666666666666666,
             "#ed7953"
            ],
            [
             0.7777777777777778,
             "#fb9f3a"
            ],
            [
             0.8888888888888888,
             "#fdca26"
            ],
            [
             1,
             "#f0f921"
            ]
           ]
          },
          "colorway": [
           "#636efa",
           "#EF553B",
           "#00cc96",
           "#ab63fa",
           "#FFA15A",
           "#19d3f3",
           "#FF6692",
           "#B6E880",
           "#FF97FF",
           "#FECB52"
          ],
          "font": {
           "color": "#2a3f5f"
          },
          "geo": {
           "bgcolor": "white",
           "lakecolor": "white",
           "landcolor": "#E5ECF6",
           "showlakes": true,
           "showland": true,
           "subunitcolor": "white"
          },
          "hoverlabel": {
           "align": "left"
          },
          "hovermode": "closest",
          "mapbox": {
           "style": "light"
          },
          "paper_bgcolor": "white",
          "plot_bgcolor": "#E5ECF6",
          "polar": {
           "angularaxis": {
            "gridcolor": "white",
            "linecolor": "white",
            "ticks": ""
           },
           "bgcolor": "#E5ECF6",
           "radialaxis": {
            "gridcolor": "white",
            "linecolor": "white",
            "ticks": ""
           }
          },
          "scene": {
           "xaxis": {
            "backgroundcolor": "#E5ECF6",
            "gridcolor": "white",
            "gridwidth": 2,
            "linecolor": "white",
            "showbackground": true,
            "ticks": "",
            "zerolinecolor": "white"
           },
           "yaxis": {
            "backgroundcolor": "#E5ECF6",
            "gridcolor": "white",
            "gridwidth": 2,
            "linecolor": "white",
            "showbackground": true,
            "ticks": "",
            "zerolinecolor": "white"
           },
           "zaxis": {
            "backgroundcolor": "#E5ECF6",
            "gridcolor": "white",
            "gridwidth": 2,
            "linecolor": "white",
            "showbackground": true,
            "ticks": "",
            "zerolinecolor": "white"
           }
          },
          "shapedefaults": {
           "line": {
            "color": "#2a3f5f"
           }
          },
          "ternary": {
           "aaxis": {
            "gridcolor": "white",
            "linecolor": "white",
            "ticks": ""
           },
           "baxis": {
            "gridcolor": "white",
            "linecolor": "white",
            "ticks": ""
           },
           "bgcolor": "#E5ECF6",
           "caxis": {
            "gridcolor": "white",
            "linecolor": "white",
            "ticks": ""
           }
          },
          "title": {
           "x": 0.05
          },
          "xaxis": {
           "automargin": true,
           "gridcolor": "white",
           "linecolor": "white",
           "ticks": "",
           "title": {
            "standoff": 15
           },
           "zerolinecolor": "white",
           "zerolinewidth": 2
          },
          "yaxis": {
           "automargin": true,
           "gridcolor": "white",
           "linecolor": "white",
           "ticks": "",
           "title": {
            "standoff": 15
           },
           "zerolinecolor": "white",
           "zerolinewidth": 2
          }
         }
        },
        "title": {
         "text": "Bail type by actor in 2020"
        },
        "updatemenus": [
         {
          "active": 0,
          "buttons": [
           {
            "args": [
             {
              "visible": [
               true,
               true,
               true,
               true,
               true,
               false,
               false,
               false,
               false,
               false
              ]
             },
             {
              "title": "Bail type by actor in 2020"
             }
            ],
            "label": "2020",
            "method": "update"
           },
           {
            "args": [
             {
              "visible": [
               false,
               false,
               false,
               false,
               false,
               true,
               true,
               true,
               true,
               true
              ]
             },
             {
              "title": "Bail type by actor in 2021"
             }
            ],
            "label": "2021",
            "method": "update"
           }
          ]
         }
        ],
        "xaxis": {
         "title": {
          "text": "percentage"
         }
        },
        "yaxis": {
         "title": {
          "text": "magistrate"
         }
        }
       }
      },
      "text/html": [
       "<div>                            <div id=\"19c6cef5-fb64-4538-8a39-65df1556ddc5\" class=\"plotly-graph-div\" style=\"height:525px; width:100%;\"></div>            <script type=\"text/javascript\">                require([\"plotly\"], function(Plotly) {                    window.PLOTLYENV=window.PLOTLYENV || {};                                    if (document.getElementById(\"19c6cef5-fb64-4538-8a39-65df1556ddc5\")) {                    Plotly.newPlot(                        \"19c6cef5-fb64-4538-8a39-65df1556ddc5\",                        [{\"hoverinfo\": \"text\", \"hovertext\": [\"name: No Magistrate Found<br>percentage: 49.86%<br>case count: 366 / 734<br>total monetary bail amount set: $60,819\", \"name: Devlin<br>percentage: 53.28%<br>case count: 479 / 899<br>total monetary bail amount set: $50,214\", \"name: Connor<br>percentage: 49.34%<br>case count: 486 / 985<br>total monetary bail amount set: $93,792\", \"name: Williams<br>percentage: 45.46%<br>case count: 451 / 992<br>total monetary bail amount set: $43,290\", \"name: Rainey<br>percentage: 48.73%<br>case count: 539 / 1106<br>total monetary bail amount set: $57,307\", \"name: Other<br>percentage: 45.54%<br>case count: 556 / 1221<br>total monetary bail amount set: $nan\", \"name: Rigmaiden-DeLeon<br>percentage: 50.82%<br>case count: 895 / 1761<br>total monetary bail amount set: $96,682\", \"name: E-Filing Judge<br>percentage: 38.36%<br>case count: 1338 / 3488<br>total monetary bail amount set: $151,629\", \"name: Stack<br>percentage: 49.13%<br>case count: 1996 / 4063<br>total monetary bail amount set: $178,375\", \"name: Bernard<br>percentage: 53.5%<br>case count: 2385 / 4458<br>total monetary bail amount set: $503,404\", \"name: O'Brien<br>percentage: 51.35%<br>case count: 2320 / 4518<br>total monetary bail amount set: $264,058\"], \"name\": \"Monetary\", \"orientation\": \"h\", \"text\": [\"49.86%\", \"53.28%\", \"49.34%\", \"45.46%\", \"48.73%\", \"45.54%\", \"50.82%\", \"38.36%\", \"49.13%\", \"53.5%\", \"51.35%\"], \"textposition\": \"inside\", \"type\": \"bar\", \"x\": [49.86, 53.28, 49.34, 45.46, 48.73, 45.54, 50.82, 38.36, 49.13, 53.5, 51.35], \"y\": [\"No Magistrate Found\", \"Devlin\", \"Connor\", \"Williams\", \"Rainey\", \"Other\", \"Rigmaiden-DeLeon\", \"E-Filing Judge\", \"Stack\", \"Bernard\", \"O'Brien\"]}, {\"hoverinfo\": \"text\", \"hovertext\": [\"name: No Magistrate Found<br>percentage: 1.36%<br>case count: 10 / 734\", \"name: Devlin<br>percentage: 39.82%<br>case count: 358 / 899\", \"name: Connor<br>percentage: 22.44%<br>case count: 221 / 985\", \"name: Williams<br>percentage: 28.33%<br>case count: 281 / 992\", \"name: Rainey<br>percentage: 26.31%<br>case count: 291 / 1106\", \"name: Other<br>percentage: 31.2%<br>case count: 381 / 1221\", \"name: Rigmaiden-DeLeon<br>percentage: 26.86%<br>case count: 473 / 1761\", \"name: E-Filing Judge<br>percentage: 33.8%<br>case count: 1179 / 3488\", \"name: Stack<br>percentage: 41.2%<br>case count: 1674 / 4063\", \"name: Bernard<br>percentage: 22.86%<br>case count: 1019 / 4458\", \"name: O'Brien<br>percentage: 21.36%<br>case count: 965 / 4518\"], \"name\": \"ROR\", \"orientation\": \"h\", \"text\": [\"\", \"39.82%\", \"22.44%\", \"28.33%\", \"26.31%\", \"31.2%\", \"26.86%\", \"33.8%\", \"41.2%\", \"22.86%\", \"21.36%\"], \"textposition\": \"inside\", \"type\": \"bar\", \"x\": [1.36, 39.82, 22.44, 28.33, 26.31, 31.2, 26.86, 33.8, 41.2, 22.86, 21.36], \"y\": [\"No Magistrate Found\", \"Devlin\", \"Connor\", \"Williams\", \"Rainey\", \"Other\", \"Rigmaiden-DeLeon\", \"E-Filing Judge\", \"Stack\", \"Bernard\", \"O'Brien\"]}, {\"hoverinfo\": \"text\", \"hovertext\": [\"name: No Magistrate Found<br>percentage: 1.63%<br>case count: 12 / 734\", \"name: Devlin<br>percentage: 5.9%<br>case count: 53 / 899\", \"name: Connor<br>percentage: 28.22%<br>case count: 278 / 985\", \"name: Williams<br>percentage: 26.11%<br>case count: 259 / 992\", \"name: Rainey<br>percentage: 24.95%<br>case count: 276 / 1106\", \"name: Other<br>percentage: 23.26%<br>case count: 284 / 1221\", \"name: Rigmaiden-DeLeon<br>percentage: 22.32%<br>case count: 393 / 1761\", \"name: E-Filing Judge<br>percentage: 26.46%<br>case count: 923 / 3488\", \"name: Stack<br>percentage: 9.6%<br>case count: 390 / 4063\", \"name: Bernard<br>percentage: 22.48%<br>case count: 1002 / 4458\", \"name: O'Brien<br>percentage: 26.14%<br>case count: 1181 / 4518\"], \"name\": \"Unsecured\", \"orientation\": \"h\", \"text\": [\"\", \"5.9%\", \"28.22%\", \"26.11%\", \"24.95%\", \"23.26%\", \"22.32%\", \"26.46%\", \"9.6%\", \"22.48%\", \"26.14%\"], \"textposition\": \"inside\", \"type\": \"bar\", \"x\": [1.63, 5.9, 28.22, 26.11, 24.95, 23.26, 22.32, 26.46, 9.6, 22.48, 26.14], \"y\": [\"No Magistrate Found\", \"Devlin\", \"Connor\", \"Williams\", \"Rainey\", \"Other\", \"Rigmaiden-DeLeon\", \"E-Filing Judge\", \"Stack\", \"Bernard\", \"O'Brien\"]}, {\"hoverinfo\": \"text\", \"hovertext\": [\"name: No Magistrate Found<br>percentage: 0.14%<br>case count: 1 / 734\", \"name: Devlin<br>percentage: 1.0%<br>case count: 9 / 899\", \"name: Connor<br>percentage: 0.0%<br>case count: 0 / 985\", \"name: Williams<br>percentage: 0.0%<br>case count: 0 / 992\", \"name: Rainey<br>percentage: 0.0%<br>case count: 0 / 1106\", \"name: Other<br>percentage: 0.0%<br>case count: 0 / 1221\", \"name: Rigmaiden-DeLeon<br>percentage: 0.0%<br>case count: 0 / 1761\", \"name: E-Filing Judge<br>percentage: 1.38%<br>case count: 48 / 3488\", \"name: Stack<br>percentage: 0.07%<br>case count: 3 / 4063\", \"name: Bernard<br>percentage: 1.17%<br>case count: 52 / 4458\", \"name: O'Brien<br>percentage: 1.15%<br>case count: 52 / 4518\"], \"name\": \"Nonmonetary\", \"orientation\": \"h\", \"text\": [\"\", \"\", \"\", \"\", \"\", \"\", \"\", \"\", \"\", \"\", \"\"], \"textposition\": \"inside\", \"type\": \"bar\", \"x\": [0.14, 1.0, 0.0, 0.0, 0.0, 0.0, 0.0, 1.38, 0.07, 1.17, 1.15], \"y\": [\"No Magistrate Found\", \"Devlin\", \"Connor\", \"Williams\", \"Rainey\", \"Other\", \"Rigmaiden-DeLeon\", \"E-Filing Judge\", \"Stack\", \"Bernard\", \"O'Brien\"]}, {\"hoverinfo\": \"text\", \"hovertext\": [\"name: No Magistrate Found<br>percentage: 47.0%<br>case count: 345 / 734\", \"name: Devlin<br>percentage: 0.0%<br>case count: 0 / 899\", \"name: Connor<br>percentage: 0.0%<br>case count: 0 / 985\", \"name: Williams<br>percentage: 0.1%<br>case count: 1 / 992\", \"name: Rainey<br>percentage: 0.0%<br>case count: 0 / 1106\", \"name: Other<br>percentage: 0.0%<br>case count: 0 / 1221\", \"name: Rigmaiden-DeLeon<br>percentage: 0.0%<br>case count: 0 / 1761\", \"name: E-Filing Judge<br>percentage: 0.0%<br>case count: 0 / 3488\", \"name: Stack<br>percentage: 0.0%<br>case count: 0 / 4063\", \"name: Bernard<br>percentage: 0.0%<br>case count: 0 / 4458\", \"name: O'Brien<br>percentage: 0.0%<br>case count: 0 / 4518\"], \"name\": \"Denied\", \"orientation\": \"h\", \"text\": [\"47.0%\", \"\", \"\", \"\", \"\", \"\", \"\", \"\", \"\", \"\", \"\"], \"textposition\": \"inside\", \"type\": \"bar\", \"x\": [47.0, 0.0, 0.0, 0.1, 0.0, 0.0, 0.0, 0.0, 0.0, 0.0, 0.0], \"y\": [\"No Magistrate Found\", \"Devlin\", \"Connor\", \"Williams\", \"Rainey\", \"Other\", \"Rigmaiden-DeLeon\", \"E-Filing Judge\", \"Stack\", \"Bernard\", \"O'Brien\"]}, {\"hoverinfo\": \"text\", \"hovertext\": [\"name: E-Filing Judge<br>percentage: 100.0%<br>case count: 1 / 1<br>total monetary bail amount set: $0\", \"name: Caudo<br>percentage: 55.0%<br>case count: 11 / 20<br>total monetary bail amount set: $2,760\", \"name: No Magistrate Found<br>percentage: 0.85%<br>case count: 1 / 117<br>total monetary bail amount set: $12\", \"name: Williams<br>percentage: 60.47%<br>case count: 231 / 382<br>total monetary bail amount set: $27,260\", \"name: O'Brien<br>percentage: 55.26%<br>case count: 268 / 485<br>total monetary bail amount set: $38,876\", \"name: Bernard<br>percentage: 64.2%<br>case count: 590 / 919<br>total monetary bail amount set: $152,485\", \"name: Rigmaiden-DeLeon<br>percentage: 50.98%<br>case count: 492 / 965<br>total monetary bail amount set: $48,602\", \"name: Connor<br>percentage: 47.95%<br>case count: 467 / 974<br>total monetary bail amount set: $113,516\", \"name: Rainey<br>percentage: 49.81%<br>case count: 514 / 1032<br>total monetary bail amount set: $83,153\", \"name: Stack<br>percentage: 60.78%<br>case count: 682 / 1122<br>total monetary bail amount set: $69,622\"], \"name\": \"Monetary\", \"orientation\": \"h\", \"text\": [\"100.0%\", \"55.0%\", \"\", \"60.47%\", \"55.26%\", \"64.2%\", \"50.98%\", \"47.95%\", \"49.81%\", \"60.78%\"], \"textposition\": \"inside\", \"type\": \"bar\", \"visible\": false, \"x\": [100.0, 55.0, 0.85, 60.47, 55.26, 64.2, 50.98, 47.95, 49.81, 60.78], \"y\": [\"E-Filing Judge\", \"Caudo\", \"No Magistrate Found\", \"Williams\", \"O'Brien\", \"Bernard\", \"Rigmaiden-DeLeon\", \"Connor\", \"Rainey\", \"Stack\"]}, {\"hoverinfo\": \"text\", \"hovertext\": [\"name: E-Filing Judge<br>percentage: 0.0%<br>case count: 0 / 1\", \"name: Caudo<br>percentage: 10.0%<br>case count: 2 / 20\", \"name: No Magistrate Found<br>percentage: 0.0%<br>case count: 0 / 117\", \"name: Williams<br>percentage: 18.85%<br>case count: 72 / 382\", \"name: O'Brien<br>percentage: 16.08%<br>case count: 78 / 485\", \"name: Bernard<br>percentage: 14.58%<br>case count: 134 / 919\", \"name: Rigmaiden-DeLeon<br>percentage: 24.56%<br>case count: 237 / 965\", \"name: Connor<br>percentage: 23.92%<br>case count: 233 / 974\", \"name: Rainey<br>percentage: 27.52%<br>case count: 284 / 1032\", \"name: Stack<br>percentage: 34.67%<br>case count: 389 / 1122\"], \"name\": \"ROR\", \"orientation\": \"h\", \"text\": [\"\", \"10.0%\", \"\", \"18.85%\", \"16.08%\", \"14.58%\", \"24.56%\", \"23.92%\", \"27.52%\", \"34.67%\"], \"textposition\": \"inside\", \"type\": \"bar\", \"visible\": false, \"x\": [0.0, 10.0, 0.0, 18.85, 16.08, 14.58, 24.56, 23.92, 27.52, 34.67], \"y\": [\"E-Filing Judge\", \"Caudo\", \"No Magistrate Found\", \"Williams\", \"O'Brien\", \"Bernard\", \"Rigmaiden-DeLeon\", \"Connor\", \"Rainey\", \"Stack\"]}, {\"hoverinfo\": \"text\", \"hovertext\": [\"name: E-Filing Judge<br>percentage: 0.0%<br>case count: 0 / 1\", \"name: Caudo<br>percentage: 35.0%<br>case count: 7 / 20\", \"name: No Magistrate Found<br>percentage: 0.0%<br>case count: 0 / 117\", \"name: Williams<br>percentage: 20.68%<br>case count: 79 / 382\", \"name: O'Brien<br>percentage: 28.45%<br>case count: 138 / 485\", \"name: Bernard<br>percentage: 21.22%<br>case count: 195 / 919\", \"name: Rigmaiden-DeLeon<br>percentage: 24.46%<br>case count: 236 / 965\", \"name: Connor<br>percentage: 28.13%<br>case count: 274 / 974\", \"name: Rainey<br>percentage: 22.67%<br>case count: 234 / 1032\", \"name: Stack<br>percentage: 4.55%<br>case count: 51 / 1122\"], \"name\": \"Unsecured\", \"orientation\": \"h\", \"text\": [\"\", \"35.0%\", \"\", \"20.68%\", \"28.45%\", \"21.22%\", \"24.46%\", \"28.13%\", \"22.67%\", \"\"], \"textposition\": \"inside\", \"type\": \"bar\", \"visible\": false, \"x\": [0.0, 35.0, 0.0, 20.68, 28.45, 21.22, 24.46, 28.13, 22.67, 4.55], \"y\": [\"E-Filing Judge\", \"Caudo\", \"No Magistrate Found\", \"Williams\", \"O'Brien\", \"Bernard\", \"Rigmaiden-DeLeon\", \"Connor\", \"Rainey\", \"Stack\"]}, {\"hoverinfo\": \"text\", \"hovertext\": [\"name: E-Filing Judge<br>percentage: 0.0%<br>case count: 0 / 1\", \"name: Caudo<br>percentage: 0.0%<br>case count: 0 / 20\", \"name: No Magistrate Found<br>percentage: 0.0%<br>case count: 0 / 117\", \"name: Williams<br>percentage: 0.0%<br>case count: 0 / 382\", \"name: O'Brien<br>percentage: 0.21%<br>case count: 1 / 485\", \"name: Bernard<br>percentage: 0.0%<br>case count: 0 / 919\", \"name: Rigmaiden-DeLeon<br>percentage: 0.0%<br>case count: 0 / 965\", \"name: Connor<br>percentage: 0.0%<br>case count: 0 / 974\", \"name: Rainey<br>percentage: 0.0%<br>case count: 0 / 1032\", \"name: Stack<br>percentage: 0.0%<br>case count: 0 / 1122\"], \"name\": \"Nonmonetary\", \"orientation\": \"h\", \"text\": [\"\", \"\", \"\", \"\", \"\", \"\", \"\", \"\", \"\", \"\"], \"textposition\": \"inside\", \"type\": \"bar\", \"visible\": false, \"x\": [0.0, 0.0, 0.0, 0.0, 0.21, 0.0, 0.0, 0.0, 0.0, 0.0], \"y\": [\"E-Filing Judge\", \"Caudo\", \"No Magistrate Found\", \"Williams\", \"O'Brien\", \"Bernard\", \"Rigmaiden-DeLeon\", \"Connor\", \"Rainey\", \"Stack\"]}, {\"hoverinfo\": \"text\", \"hovertext\": [\"name: E-Filing Judge<br>percentage: 0.0%<br>case count: 0 / 1\", \"name: Caudo<br>percentage: 0.0%<br>case count: 0 / 20\", \"name: No Magistrate Found<br>percentage: 99.15%<br>case count: 116 / 117\", \"name: Williams<br>percentage: 0.0%<br>case count: 0 / 382\", \"name: O'Brien<br>percentage: 0.0%<br>case count: 0 / 485\", \"name: Bernard<br>percentage: 0.0%<br>case count: 0 / 919\", \"name: Rigmaiden-DeLeon<br>percentage: 0.0%<br>case count: 0 / 965\", \"name: Connor<br>percentage: 0.0%<br>case count: 0 / 974\", \"name: Rainey<br>percentage: 0.0%<br>case count: 0 / 1032\", \"name: Stack<br>percentage: 0.0%<br>case count: 0 / 1122\"], \"name\": \"Denied\", \"orientation\": \"h\", \"text\": [\"\", \"\", \"99.15%\", \"\", \"\", \"\", \"\", \"\", \"\", \"\"], \"textposition\": \"inside\", \"type\": \"bar\", \"visible\": false, \"x\": [0.0, 0.0, 99.15, 0.0, 0.0, 0.0, 0.0, 0.0, 0.0, 0.0], \"y\": [\"E-Filing Judge\", \"Caudo\", \"No Magistrate Found\", \"Williams\", \"O'Brien\", \"Bernard\", \"Rigmaiden-DeLeon\", \"Connor\", \"Rainey\", \"Stack\"]}],                        {\"annotations\": [{\"align\": \"left\", \"showarrow\": false, \"text\": \"Select year\", \"x\": -0.15, \"xref\": \"paper\", \"y\": 1.06, \"yref\": \"paper\"}], \"barmode\": \"stack\", \"legend\": {\"title\": {\"text\": \"bail type\"}, \"traceorder\": \"normal\"}, \"margin\": {\"b\": 0, \"l\": 0, \"r\": 0, \"t\": 100}, \"template\": {\"data\": {\"bar\": [{\"error_x\": {\"color\": \"#2a3f5f\"}, \"error_y\": {\"color\": \"#2a3f5f\"}, \"marker\": {\"line\": {\"color\": \"#E5ECF6\", \"width\": 0.5}}, \"type\": \"bar\"}], \"barpolar\": [{\"marker\": {\"line\": {\"color\": \"#E5ECF6\", \"width\": 0.5}}, \"type\": \"barpolar\"}], \"carpet\": [{\"aaxis\": {\"endlinecolor\": \"#2a3f5f\", \"gridcolor\": \"white\", \"linecolor\": \"white\", \"minorgridcolor\": \"white\", \"startlinecolor\": \"#2a3f5f\"}, \"baxis\": {\"endlinecolor\": \"#2a3f5f\", \"gridcolor\": \"white\", \"linecolor\": \"white\", \"minorgridcolor\": \"white\", \"startlinecolor\": \"#2a3f5f\"}, \"type\": \"carpet\"}], \"choropleth\": [{\"colorbar\": {\"outlinewidth\": 0, \"ticks\": \"\"}, \"type\": \"choropleth\"}], \"contour\": [{\"colorbar\": {\"outlinewidth\": 0, \"ticks\": \"\"}, \"colorscale\": [[0.0, \"#0d0887\"], [0.1111111111111111, \"#46039f\"], [0.2222222222222222, \"#7201a8\"], [0.3333333333333333, \"#9c179e\"], [0.4444444444444444, \"#bd3786\"], [0.5555555555555556, \"#d8576b\"], [0.6666666666666666, \"#ed7953\"], [0.7777777777777778, \"#fb9f3a\"], [0.8888888888888888, \"#fdca26\"], [1.0, \"#f0f921\"]], \"type\": \"contour\"}], \"contourcarpet\": [{\"colorbar\": {\"outlinewidth\": 0, \"ticks\": \"\"}, \"type\": \"contourcarpet\"}], \"heatmap\": [{\"colorbar\": {\"outlinewidth\": 0, \"ticks\": \"\"}, \"colorscale\": [[0.0, \"#0d0887\"], [0.1111111111111111, \"#46039f\"], [0.2222222222222222, \"#7201a8\"], [0.3333333333333333, \"#9c179e\"], [0.4444444444444444, \"#bd3786\"], [0.5555555555555556, \"#d8576b\"], [0.6666666666666666, \"#ed7953\"], [0.7777777777777778, \"#fb9f3a\"], [0.8888888888888888, \"#fdca26\"], [1.0, \"#f0f921\"]], \"type\": \"heatmap\"}], \"heatmapgl\": [{\"colorbar\": {\"outlinewidth\": 0, \"ticks\": \"\"}, \"colorscale\": [[0.0, \"#0d0887\"], [0.1111111111111111, \"#46039f\"], [0.2222222222222222, \"#7201a8\"], [0.3333333333333333, \"#9c179e\"], [0.4444444444444444, \"#bd3786\"], [0.5555555555555556, \"#d8576b\"], [0.6666666666666666, \"#ed7953\"], [0.7777777777777778, \"#fb9f3a\"], [0.8888888888888888, \"#fdca26\"], [1.0, \"#f0f921\"]], \"type\": \"heatmapgl\"}], \"histogram\": [{\"marker\": {\"colorbar\": {\"outlinewidth\": 0, \"ticks\": \"\"}}, \"type\": \"histogram\"}], \"histogram2d\": [{\"colorbar\": {\"outlinewidth\": 0, \"ticks\": \"\"}, \"colorscale\": [[0.0, \"#0d0887\"], [0.1111111111111111, \"#46039f\"], [0.2222222222222222, \"#7201a8\"], [0.3333333333333333, \"#9c179e\"], [0.4444444444444444, \"#bd3786\"], [0.5555555555555556, \"#d8576b\"], [0.6666666666666666, \"#ed7953\"], [0.7777777777777778, \"#fb9f3a\"], [0.8888888888888888, \"#fdca26\"], [1.0, \"#f0f921\"]], \"type\": \"histogram2d\"}], \"histogram2dcontour\": [{\"colorbar\": {\"outlinewidth\": 0, \"ticks\": \"\"}, \"colorscale\": [[0.0, \"#0d0887\"], [0.1111111111111111, \"#46039f\"], [0.2222222222222222, \"#7201a8\"], [0.3333333333333333, \"#9c179e\"], [0.4444444444444444, \"#bd3786\"], [0.5555555555555556, \"#d8576b\"], [0.6666666666666666, \"#ed7953\"], [0.7777777777777778, \"#fb9f3a\"], [0.8888888888888888, \"#fdca26\"], [1.0, \"#f0f921\"]], \"type\": \"histogram2dcontour\"}], \"mesh3d\": [{\"colorbar\": {\"outlinewidth\": 0, \"ticks\": \"\"}, \"type\": \"mesh3d\"}], \"parcoords\": [{\"line\": {\"colorbar\": {\"outlinewidth\": 0, \"ticks\": \"\"}}, \"type\": \"parcoords\"}], \"pie\": [{\"automargin\": true, \"type\": \"pie\"}], \"scatter\": [{\"marker\": {\"colorbar\": {\"outlinewidth\": 0, \"ticks\": \"\"}}, \"type\": \"scatter\"}], \"scatter3d\": [{\"line\": {\"colorbar\": {\"outlinewidth\": 0, \"ticks\": \"\"}}, \"marker\": {\"colorbar\": {\"outlinewidth\": 0, \"ticks\": \"\"}}, \"type\": \"scatter3d\"}], \"scattercarpet\": [{\"marker\": {\"colorbar\": {\"outlinewidth\": 0, \"ticks\": \"\"}}, \"type\": \"scattercarpet\"}], \"scattergeo\": [{\"marker\": {\"colorbar\": {\"outlinewidth\": 0, \"ticks\": \"\"}}, \"type\": \"scattergeo\"}], \"scattergl\": [{\"marker\": {\"colorbar\": {\"outlinewidth\": 0, \"ticks\": \"\"}}, \"type\": \"scattergl\"}], \"scattermapbox\": [{\"marker\": {\"colorbar\": {\"outlinewidth\": 0, \"ticks\": \"\"}}, \"type\": \"scattermapbox\"}], \"scatterpolar\": [{\"marker\": {\"colorbar\": {\"outlinewidth\": 0, \"ticks\": \"\"}}, \"type\": \"scatterpolar\"}], \"scatterpolargl\": [{\"marker\": {\"colorbar\": {\"outlinewidth\": 0, \"ticks\": \"\"}}, \"type\": \"scatterpolargl\"}], \"scatterternary\": [{\"marker\": {\"colorbar\": {\"outlinewidth\": 0, \"ticks\": \"\"}}, \"type\": \"scatterternary\"}], \"surface\": [{\"colorbar\": {\"outlinewidth\": 0, \"ticks\": \"\"}, \"colorscale\": [[0.0, \"#0d0887\"], [0.1111111111111111, \"#46039f\"], [0.2222222222222222, \"#7201a8\"], [0.3333333333333333, \"#9c179e\"], [0.4444444444444444, \"#bd3786\"], [0.5555555555555556, \"#d8576b\"], [0.6666666666666666, \"#ed7953\"], [0.7777777777777778, \"#fb9f3a\"], [0.8888888888888888, \"#fdca26\"], [1.0, \"#f0f921\"]], \"type\": \"surface\"}], \"table\": [{\"cells\": {\"fill\": {\"color\": \"#EBF0F8\"}, \"line\": {\"color\": \"white\"}}, \"header\": {\"fill\": {\"color\": \"#C8D4E3\"}, \"line\": {\"color\": \"white\"}}, \"type\": \"table\"}]}, \"layout\": {\"annotationdefaults\": {\"arrowcolor\": \"#2a3f5f\", \"arrowhead\": 0, \"arrowwidth\": 1}, \"coloraxis\": {\"colorbar\": {\"outlinewidth\": 0, \"ticks\": \"\"}}, \"colorscale\": {\"diverging\": [[0, \"#8e0152\"], [0.1, \"#c51b7d\"], [0.2, \"#de77ae\"], [0.3, \"#f1b6da\"], [0.4, \"#fde0ef\"], [0.5, \"#f7f7f7\"], [0.6, \"#e6f5d0\"], [0.7, \"#b8e186\"], [0.8, \"#7fbc41\"], [0.9, \"#4d9221\"], [1, \"#276419\"]], \"sequential\": [[0.0, \"#0d0887\"], [0.1111111111111111, \"#46039f\"], [0.2222222222222222, \"#7201a8\"], [0.3333333333333333, \"#9c179e\"], [0.4444444444444444, \"#bd3786\"], [0.5555555555555556, \"#d8576b\"], [0.6666666666666666, \"#ed7953\"], [0.7777777777777778, \"#fb9f3a\"], [0.8888888888888888, \"#fdca26\"], [1.0, \"#f0f921\"]], \"sequentialminus\": [[0.0, \"#0d0887\"], [0.1111111111111111, \"#46039f\"], [0.2222222222222222, \"#7201a8\"], [0.3333333333333333, \"#9c179e\"], [0.4444444444444444, \"#bd3786\"], [0.5555555555555556, \"#d8576b\"], [0.6666666666666666, \"#ed7953\"], [0.7777777777777778, \"#fb9f3a\"], [0.8888888888888888, \"#fdca26\"], [1.0, \"#f0f921\"]]}, \"colorway\": [\"#636efa\", \"#EF553B\", \"#00cc96\", \"#ab63fa\", \"#FFA15A\", \"#19d3f3\", \"#FF6692\", \"#B6E880\", \"#FF97FF\", \"#FECB52\"], \"font\": {\"color\": \"#2a3f5f\"}, \"geo\": {\"bgcolor\": \"white\", \"lakecolor\": \"white\", \"landcolor\": \"#E5ECF6\", \"showlakes\": true, \"showland\": true, \"subunitcolor\": \"white\"}, \"hoverlabel\": {\"align\": \"left\"}, \"hovermode\": \"closest\", \"mapbox\": {\"style\": \"light\"}, \"paper_bgcolor\": \"white\", \"plot_bgcolor\": \"#E5ECF6\", \"polar\": {\"angularaxis\": {\"gridcolor\": \"white\", \"linecolor\": \"white\", \"ticks\": \"\"}, \"bgcolor\": \"#E5ECF6\", \"radialaxis\": {\"gridcolor\": \"white\", \"linecolor\": \"white\", \"ticks\": \"\"}}, \"scene\": {\"xaxis\": {\"backgroundcolor\": \"#E5ECF6\", \"gridcolor\": \"white\", \"gridwidth\": 2, \"linecolor\": \"white\", \"showbackground\": true, \"ticks\": \"\", \"zerolinecolor\": \"white\"}, \"yaxis\": {\"backgroundcolor\": \"#E5ECF6\", \"gridcolor\": \"white\", \"gridwidth\": 2, \"linecolor\": \"white\", \"showbackground\": true, \"ticks\": \"\", \"zerolinecolor\": \"white\"}, \"zaxis\": {\"backgroundcolor\": \"#E5ECF6\", \"gridcolor\": \"white\", \"gridwidth\": 2, \"linecolor\": \"white\", \"showbackground\": true, \"ticks\": \"\", \"zerolinecolor\": \"white\"}}, \"shapedefaults\": {\"line\": {\"color\": \"#2a3f5f\"}}, \"ternary\": {\"aaxis\": {\"gridcolor\": \"white\", \"linecolor\": \"white\", \"ticks\": \"\"}, \"baxis\": {\"gridcolor\": \"white\", \"linecolor\": \"white\", \"ticks\": \"\"}, \"bgcolor\": \"#E5ECF6\", \"caxis\": {\"gridcolor\": \"white\", \"linecolor\": \"white\", \"ticks\": \"\"}}, \"title\": {\"x\": 0.05}, \"xaxis\": {\"automargin\": true, \"gridcolor\": \"white\", \"linecolor\": \"white\", \"ticks\": \"\", \"title\": {\"standoff\": 15}, \"zerolinecolor\": \"white\", \"zerolinewidth\": 2}, \"yaxis\": {\"automargin\": true, \"gridcolor\": \"white\", \"linecolor\": \"white\", \"ticks\": \"\", \"title\": {\"standoff\": 15}, \"zerolinecolor\": \"white\", \"zerolinewidth\": 2}}}, \"title\": {\"text\": \"Bail type by actor in 2020\"}, \"updatemenus\": [{\"active\": 0, \"buttons\": [{\"args\": [{\"visible\": [true, true, true, true, true, false, false, false, false, false]}, {\"title\": \"Bail type by actor in 2020\"}], \"label\": \"2020\", \"method\": \"update\"}, {\"args\": [{\"visible\": [false, false, false, false, false, true, true, true, true, true]}, {\"title\": \"Bail type by actor in 2021\"}], \"label\": \"2021\", \"method\": \"update\"}]}], \"xaxis\": {\"title\": {\"text\": \"percentage\"}}, \"yaxis\": {\"title\": {\"text\": \"magistrate\"}}},                        {\"responsive\": true}                    ).then(function(){\n",
       "                            \n",
       "var gd = document.getElementById('19c6cef5-fb64-4538-8a39-65df1556ddc5');\n",
       "var x = new MutationObserver(function (mutations, observer) {{\n",
       "        var display = window.getComputedStyle(gd).display;\n",
       "        if (!display || display === 'none') {{\n",
       "            console.log([gd, 'removed!']);\n",
       "            Plotly.purge(gd);\n",
       "            observer.disconnect();\n",
       "        }}\n",
       "}});\n",
       "\n",
       "// Listen for the removal of the full notebook cells\n",
       "var notebookContainer = gd.closest('#notebook-container');\n",
       "if (notebookContainer) {{\n",
       "    x.observe(notebookContainer, {childList: true});\n",
       "}}\n",
       "\n",
       "// Listen for the clearing of the current output cell\n",
       "var outputEl = gd.closest('.output');\n",
       "if (outputEl) {{\n",
       "    x.observe(outputEl, {childList: true});\n",
       "}}\n",
       "\n",
       "                        })                };                });            </script>        </div>"
      ]
     },
     "metadata": {},
     "output_type": "display_data"
    }
   ],
   "source": [
    "# Initialize figure\n",
    "fig = go.Figure()\n",
    "\n",
    "##### add traces for 2020\n",
    "for i in range(5):\n",
    "    \n",
    "    # text\n",
    "    text = [str(item)+\"%\"  if item > 5 else \"\" for item in data_2020[i]]\n",
    "    \n",
    "    # hover text\n",
    "    # include monetary bail\n",
    "    if i == 0: \n",
    "        hovertext = [\"name: \" + name + \"<br>\"\n",
    "                 + \"percentage: \" + str(perct) + \"%\" + \"<br>\"\n",
    "                 + \"case count: \" + str(case) + \" / \" + str(total) + \"<br>\"\n",
    "                 + \"total monetary bail amount set: \" + str(amount) \n",
    "                 for name, perct, case, total, amount in zip(names_2020, data_2020[i], count_2020[i], total_2020, bail_set_2020)]\n",
    "    else:\n",
    "        hovertext = [\"name: \" + name + \"<br>\"\n",
    "                 + \"percentage: \" + str(perct) + \"%\" + \"<br>\"\n",
    "                 + \"case count: \" + str(case) + \" / \" + str(total)\n",
    "                 for name, perct, case, total in zip(names_2020, data_2020[i], count_2020[i], total_2020)]\n",
    "        \n",
    "    fig.add_trace(go.Bar(\n",
    "        y = names_2020,\n",
    "        x = data_2020[i],\n",
    "        text = text,\n",
    "        textposition = \"inside\",\n",
    "        name = bail_type[i],\n",
    "        hoverinfo = 'text',\n",
    "        hovertext = hovertext,\n",
    "        orientation = 'h'))\n",
    "    \n",
    "##### add traces for 2021\n",
    "for i in range(5):\n",
    "    \n",
    "    # text\n",
    "    text = [str(item)+\"%\"  if item > 5 else \"\" for item in data_2021[i]]\n",
    "    \n",
    "    # hover text\n",
    "    # include monetary bail\n",
    "    if i == 0: \n",
    "        hovertext = [\"name: \" + name + \"<br>\"\n",
    "                 + \"percentage: \" + str(perct) + \"%\" + \"<br>\"\n",
    "                 + \"case count: \" + str(case) + \" / \" + str(total) + \"<br>\"\n",
    "                 + \"total monetary bail amount set: \" + str(amount) \n",
    "                 for name, perct, case, total, amount in zip(names_2021, data_2021[i], count_2021[i], total_2021, bail_set_2021)]\n",
    "    else:\n",
    "        hovertext = [\"name: \" + name + \"<br>\"\n",
    "                 + \"percentage: \" + str(perct) + \"%\" + \"<br>\"\n",
    "                 + \"case count: \" + str(case) + \" / \" + str(total)\n",
    "                 for name, perct, case, total in zip(names_2021, data_2021[i], count_2021[i], total_2021)]\n",
    "        \n",
    "    fig.add_trace(go.Bar(\n",
    "        y = names_2021,\n",
    "        x = data_2021[i],\n",
    "        text = text,\n",
    "        textposition = \"inside\",\n",
    "        name = bail_type[i],\n",
    "        hoverinfo = 'text',\n",
    "        hovertext = hovertext,\n",
    "        orientation = 'h',\n",
    "        visible = False # hide in initial plot\n",
    "        ))\n",
    "\n",
    "fig.update_layout(barmode='stack',\n",
    "                 legend = {'traceorder': 'normal'},\n",
    "                 xaxis_title=\"percentage\",\n",
    "                 yaxis_title=\"magistrate\",\n",
    "                 legend_title=\"bail type\")\n",
    "    \n",
    "# update\n",
    "fig.update_layout(\n",
    "    updatemenus=[\n",
    "        dict(\n",
    "            active=0,\n",
    "            buttons=list([\n",
    "                dict(label=\"2020\",\n",
    "                     method=\"update\",\n",
    "                     args=[{\"visible\": [True, True, True, True, True, False, False, False, False, False]},\n",
    "                           {\"title\": \"Bail type by actor in 2020\"}]),\n",
    "                dict(label=\"2021\",\n",
    "                     method=\"update\",\n",
    "                     args=[{\"visible\": [False, False, False, False, False, True, True, True, True, True]},\n",
    "                           {\"title\": \"Bail type by actor in 2021\"}])\n",
    "            ]),\n",
    "        )\n",
    "        \n",
    "    ])\n",
    "\n",
    "\n",
    "fig.update_layout(\n",
    "    annotations=[\n",
    "        dict(text=\"Select year\", x=-0.15, xref=\"paper\", y=1.06, yref=\"paper\",\n",
    "                             align=\"left\", showarrow=False)\n",
    "    ])\n",
    "\n",
    "# Update plot sizing\n",
    "fig.update_layout(\n",
    "    margin=dict(t=100, b=0, l=0, r=0),\n",
    "    title = \"Bail type by actor in 2020\"\n",
    ")\n",
    "\n",
    "\n",
    "fig.show()"
   ]
  }
 ],
 "metadata": {
  "@webio": {
   "lastCommId": null,
   "lastKernelId": null
  },
  "kernelspec": {
   "display_name": "Python 3",
   "language": "python",
   "name": "python3"
  },
  "language_info": {
   "codemirror_mode": {
    "name": "ipython",
    "version": 3
   },
   "file_extension": ".py",
   "mimetype": "text/x-python",
   "name": "python",
   "nbconvert_exporter": "python",
   "pygments_lexer": "ipython3",
   "version": "3.9.0"
  }
 },
 "nbformat": 4,
 "nbformat_minor": 4
}
