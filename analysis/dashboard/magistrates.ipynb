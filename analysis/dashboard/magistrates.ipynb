{
 "cells": [
  {
   "cell_type": "markdown",
   "metadata": {},
   "source": [
    "# Magistrates\n",
    "* This notebook generates figures for the 'bail set by' page of the dashboard. \n",
    "* Note that some of these figures overlap with the magistrate section in 'dashboard.ipynb'"
   ]
  },
  {
   "cell_type": "code",
   "execution_count": 1,
   "metadata": {},
   "outputs": [],
   "source": [
    "import ast\n",
    "import datetime\n",
    "import itertools\n",
    "import matplotlib.pyplot as plt\n",
    "from matplotlib import rc_file_defaults\n",
    "from matplotlib import ticker\n",
    "\n",
    "plt.style.use('ggplot')\n",
    "\n",
    "import os\n",
    "import sys\n",
    "import numpy as np\n",
    "import pandas as pd\n",
    "import random\n",
    "import regex as re\n",
    "import seaborn as sns\n",
    "\n",
    "from dateutil.relativedelta import relativedelta\n",
    "from gensim.models.nmf import Nmf\n",
    "from gensim.corpora import Dictionary\n",
    "from gensim.models.coherencemodel import CoherenceModel\n",
    "from scipy.stats import chi2_contingency, mannwhitneyu, wilcoxon\n",
    "from scipy.spatial.distance import pdist\n",
    "from scipy.spatial.distance import squareform\n",
    "from wordcloud import WordCloud\n",
    "\n",
    "import plotly.express as px\n",
    "import plotly.graph_objs as go\n",
    "from ipywidgets import widgets\n",
    "from plotly.subplots import make_subplots\n",
    "\n",
    "import json\n",
    "import copy"
   ]
  },
  {
   "cell_type": "code",
   "execution_count": 2,
   "metadata": {},
   "outputs": [],
   "source": [
    "# Set various data and figure directories relative to cwd\n",
    "# (which is hopefully always this file's dirname)\n",
    "cwd = os.getcwd()\n",
    "cwd_split = os.path.split(cwd)\n",
    "srcdir = cwd_split[0]\n",
    "#sys.path.append(os.path.abspath(os.path.join('..', cwd_split[-1])))\n",
    "sys.path.append(srcdir)\n",
    "root = os.path.split(srcdir)[0]\n",
    "rawdir = os.path.join(root, \"data/raw\") # Raw csv files; local only!\n",
    "tmpdir = os.path.join(root, \"data/tmp\") # Intermediate data products; local only!\n",
    "extdir = os.path.join(root, \"data/external\") # Data from external sources; in repo\n",
    "cleandir = os.path.join(root, \"data/cleaned\") # Data for dashboard generation; in repo\n",
    "figdir = os.path.join(root, \"figures\") # Final figures; in repo"
   ]
  },
  {
   "cell_type": "code",
   "execution_count": 3,
   "metadata": {},
   "outputs": [],
   "source": [
    "import pltformat\n",
    "colorDict = pltformat.get_color_dictionary()"
   ]
  },
  {
   "cell_type": "markdown",
   "metadata": {},
   "source": [
    "# Import and preprocess"
   ]
  },
  {
   "cell_type": "code",
   "execution_count": 4,
   "metadata": {},
   "outputs": [],
   "source": [
    "import preprocess"
   ]
  },
  {
   "cell_type": "code",
   "execution_count": 7,
   "metadata": {},
   "outputs": [],
   "source": [
    "# Set raw csv data file paths\n",
    "docketcsv = \"docket_reparse_03_02_2021.csv\"\n",
    "courtcsv = \"court_summary.csv\"\n",
    "outcsv = \"processed_data.csv\"\n",
    "trimmedcsv = \"app_data.csv\"\n",
    "\n",
    "docketpath = os.path.join(rawdir, docketcsv)\n",
    "courtpath = os.path.join(rawdir, courtcsv)\n",
    "outpath = os.path.join(tmpdir, outcsv)\n",
    "trimmedpath = os.path.join(cleandir, trimmedcsv)\n"
   ]
  },
  {
   "cell_type": "code",
   "execution_count": 202,
   "metadata": {},
   "outputs": [
    {
     "name": "stdout",
     "output_type": "stream",
     "text": [
      "Removing 13 cases for which prelim_hearing_dt - bail_date was more than 5...\n",
      "> Imported 24225 rows with 25 columns:\n",
      "age\n",
      "age_group\n",
      "arrest_dt\n",
      "arresting_officer\n",
      "attorney\n",
      "attorney_type\n",
      "bail_amount\n",
      "bail_date\n",
      "bail_paid\n",
      "bail_set_bin\n",
      "bail_set_by\n",
      "bail_type\n",
      "case_status\n",
      "dob\n",
      "is_bail_posted\n",
      "is_philly_zipcode\n",
      "offense_date\n",
      "offense_type\n",
      "offenses\n",
      "prelim_hearing_dt\n",
      "prelim_hearing_time\n",
      "race\n",
      "sex\n",
      "statute\n",
      "zip\n",
      "> Saved new file\n"
     ]
    }
   ],
   "source": [
    "# Merge and clean docket and court summary data and save to new csv file\n",
    "df = preprocess.merge_and_clean_data(docketpath, courtpath,\n",
    "                                     outPath=outpath, verbose=True)"
   ]
  },
  {
   "cell_type": "code",
   "execution_count": 203,
   "metadata": {},
   "outputs": [
    {
     "data": {
      "text/html": [
       "<div>\n",
       "<style scoped>\n",
       "    .dataframe tbody tr th:only-of-type {\n",
       "        vertical-align: middle;\n",
       "    }\n",
       "\n",
       "    .dataframe tbody tr th {\n",
       "        vertical-align: top;\n",
       "    }\n",
       "\n",
       "    .dataframe thead th {\n",
       "        text-align: right;\n",
       "    }\n",
       "</style>\n",
       "<table border=\"1\" class=\"dataframe\">\n",
       "  <thead>\n",
       "    <tr style=\"text-align: right;\">\n",
       "      <th></th>\n",
       "      <th>attorney</th>\n",
       "      <th>attorney_type</th>\n",
       "      <th>offenses</th>\n",
       "      <th>offense_date</th>\n",
       "      <th>statute</th>\n",
       "      <th>offense_type</th>\n",
       "      <th>bail_set_by</th>\n",
       "      <th>bail_amount</th>\n",
       "      <th>bail_paid</th>\n",
       "      <th>bail_date</th>\n",
       "      <th>...</th>\n",
       "      <th>arrest_dt</th>\n",
       "      <th>prelim_hearing_dt</th>\n",
       "      <th>prelim_hearing_time</th>\n",
       "      <th>sex</th>\n",
       "      <th>race</th>\n",
       "      <th>is_philly_zipcode</th>\n",
       "      <th>age</th>\n",
       "      <th>age_group</th>\n",
       "      <th>bail_set_bin</th>\n",
       "      <th>is_bail_posted</th>\n",
       "    </tr>\n",
       "  </thead>\n",
       "  <tbody>\n",
       "    <tr>\n",
       "      <th>0</th>\n",
       "      <td>Defender Association of Philadelphia</td>\n",
       "      <td>Public</td>\n",
       "      <td>[DUI: Gen Imp/Inc of Driving Safely - 1st Off,...</td>\n",
       "      <td>2019-12-31</td>\n",
       "      <td>[75 § 3802, 75 § 3323]</td>\n",
       "      <td>[driving after imbibing alcohol or utilizing d...</td>\n",
       "      <td>Bernard, Francis X.</td>\n",
       "      <td>0.0</td>\n",
       "      <td>0.0</td>\n",
       "      <td>2020-01-01</td>\n",
       "      <td>...</td>\n",
       "      <td>2020-01-01</td>\n",
       "      <td>2020-01-01</td>\n",
       "      <td>2021-03-28 04:05:00</td>\n",
       "      <td>Male</td>\n",
       "      <td>White</td>\n",
       "      <td>1</td>\n",
       "      <td>25.0</td>\n",
       "      <td>18 to 25</td>\n",
       "      <td>None</td>\n",
       "      <td>0</td>\n",
       "    </tr>\n",
       "    <tr>\n",
       "      <th>1</th>\n",
       "      <td>Joseph Kevin Kelly</td>\n",
       "      <td>Private</td>\n",
       "      <td>[DUI: Gen Imp/Inc of Driving Safely - 1st Off]</td>\n",
       "      <td>2019-12-31</td>\n",
       "      <td>[75 § 3802]</td>\n",
       "      <td>[driving after imbibing alcohol or utilizing d...</td>\n",
       "      <td>Bernard, Francis X.</td>\n",
       "      <td>0.0</td>\n",
       "      <td>0.0</td>\n",
       "      <td>2020-01-01</td>\n",
       "      <td>...</td>\n",
       "      <td>2020-01-01</td>\n",
       "      <td>2020-01-01</td>\n",
       "      <td>2021-03-28 04:07:00</td>\n",
       "      <td>Male</td>\n",
       "      <td>White</td>\n",
       "      <td>1</td>\n",
       "      <td>24.0</td>\n",
       "      <td>18 to 25</td>\n",
       "      <td>None</td>\n",
       "      <td>0</td>\n",
       "    </tr>\n",
       "    <tr>\n",
       "      <th>2</th>\n",
       "      <td>Defender Association of Philadelphia</td>\n",
       "      <td>Public</td>\n",
       "      <td>[Retail Theft-Take Mdse]</td>\n",
       "      <td>2019-12-31</td>\n",
       "      <td>[18 § 3929]</td>\n",
       "      <td>[theft and related offenses]</td>\n",
       "      <td>Bernard, Francis X.</td>\n",
       "      <td>0.0</td>\n",
       "      <td>0.0</td>\n",
       "      <td>2020-01-01</td>\n",
       "      <td>...</td>\n",
       "      <td>2019-12-31</td>\n",
       "      <td>2020-01-01</td>\n",
       "      <td>2021-03-28 04:10:00</td>\n",
       "      <td>Male</td>\n",
       "      <td>Black</td>\n",
       "      <td>1</td>\n",
       "      <td>57.0</td>\n",
       "      <td>26 to 64</td>\n",
       "      <td>None</td>\n",
       "      <td>0</td>\n",
       "    </tr>\n",
       "    <tr>\n",
       "      <th>3</th>\n",
       "      <td>Defender Association of Philadelphia</td>\n",
       "      <td>Public</td>\n",
       "      <td>[Simple Assault, Recklessly Endangering Anothe...</td>\n",
       "      <td>2019-12-31</td>\n",
       "      <td>[18 § 2701, 18 § 2705]</td>\n",
       "      <td>[assault, assault]</td>\n",
       "      <td>Bernard, Francis X.</td>\n",
       "      <td>30000.0</td>\n",
       "      <td>0.0</td>\n",
       "      <td>2020-01-01</td>\n",
       "      <td>...</td>\n",
       "      <td>2019-12-31</td>\n",
       "      <td>2020-01-01</td>\n",
       "      <td>2021-03-28 04:15:00</td>\n",
       "      <td>Male</td>\n",
       "      <td>Black</td>\n",
       "      <td>1</td>\n",
       "      <td>32.0</td>\n",
       "      <td>26 to 64</td>\n",
       "      <td>25k to 50k</td>\n",
       "      <td>0</td>\n",
       "    </tr>\n",
       "    <tr>\n",
       "      <th>4</th>\n",
       "      <td>Lee Mandell</td>\n",
       "      <td>Court Appointed</td>\n",
       "      <td>[Robbery-Inflict Threat Imm Bod Inj, Conspirac...</td>\n",
       "      <td>2019-12-31</td>\n",
       "      <td>[18 § 3701 §§ A1IV, 18 § 903 §§ C, 18 § 3921 §...</td>\n",
       "      <td>[robbery, inchoate crimes, theft and related o...</td>\n",
       "      <td>No Magistrate Found</td>\n",
       "      <td>30000.0</td>\n",
       "      <td>0.0</td>\n",
       "      <td>2020-01-01</td>\n",
       "      <td>...</td>\n",
       "      <td>2020-01-01</td>\n",
       "      <td>2020-01-01</td>\n",
       "      <td>2021-03-28 08:39:00</td>\n",
       "      <td>Male</td>\n",
       "      <td>Black</td>\n",
       "      <td>1</td>\n",
       "      <td>18.0</td>\n",
       "      <td>18 to 25</td>\n",
       "      <td>25k to 50k</td>\n",
       "      <td>0</td>\n",
       "    </tr>\n",
       "  </tbody>\n",
       "</table>\n",
       "<p>5 rows × 25 columns</p>\n",
       "</div>"
      ],
      "text/plain": [
       "                               attorney    attorney_type  \\\n",
       "0  Defender Association of Philadelphia           Public   \n",
       "1                    Joseph Kevin Kelly          Private   \n",
       "2  Defender Association of Philadelphia           Public   \n",
       "3  Defender Association of Philadelphia           Public   \n",
       "4                           Lee Mandell  Court Appointed   \n",
       "\n",
       "                                            offenses offense_date  \\\n",
       "0  [DUI: Gen Imp/Inc of Driving Safely - 1st Off,...   2019-12-31   \n",
       "1     [DUI: Gen Imp/Inc of Driving Safely - 1st Off]   2019-12-31   \n",
       "2                           [Retail Theft-Take Mdse]   2019-12-31   \n",
       "3  [Simple Assault, Recklessly Endangering Anothe...   2019-12-31   \n",
       "4  [Robbery-Inflict Threat Imm Bod Inj, Conspirac...   2019-12-31   \n",
       "\n",
       "                                             statute  \\\n",
       "0                             [75 § 3802, 75 § 3323]   \n",
       "1                                        [75 § 3802]   \n",
       "2                                        [18 § 3929]   \n",
       "3                             [18 § 2701, 18 § 2705]   \n",
       "4  [18 § 3701 §§ A1IV, 18 § 903 §§ C, 18 § 3921 §...   \n",
       "\n",
       "                                        offense_type          bail_set_by  \\\n",
       "0  [driving after imbibing alcohol or utilizing d...  Bernard, Francis X.   \n",
       "1  [driving after imbibing alcohol or utilizing d...  Bernard, Francis X.   \n",
       "2                       [theft and related offenses]  Bernard, Francis X.   \n",
       "3                                 [assault, assault]  Bernard, Francis X.   \n",
       "4  [robbery, inchoate crimes, theft and related o...  No Magistrate Found   \n",
       "\n",
       "   bail_amount  bail_paid  bail_date  ...  arrest_dt prelim_hearing_dt  \\\n",
       "0          0.0        0.0 2020-01-01  ... 2020-01-01        2020-01-01   \n",
       "1          0.0        0.0 2020-01-01  ... 2020-01-01        2020-01-01   \n",
       "2          0.0        0.0 2020-01-01  ... 2019-12-31        2020-01-01   \n",
       "3      30000.0        0.0 2020-01-01  ... 2019-12-31        2020-01-01   \n",
       "4      30000.0        0.0 2020-01-01  ... 2020-01-01        2020-01-01   \n",
       "\n",
       "  prelim_hearing_time   sex   race is_philly_zipcode   age age_group  \\\n",
       "0 2021-03-28 04:05:00  Male  White                 1  25.0  18 to 25   \n",
       "1 2021-03-28 04:07:00  Male  White                 1  24.0  18 to 25   \n",
       "2 2021-03-28 04:10:00  Male  Black                 1  57.0  26 to 64   \n",
       "3 2021-03-28 04:15:00  Male  Black                 1  32.0  26 to 64   \n",
       "4 2021-03-28 08:39:00  Male  Black                 1  18.0  18 to 25   \n",
       "\n",
       "  bail_set_bin is_bail_posted  \n",
       "0         None              0  \n",
       "1         None              0  \n",
       "2         None              0  \n",
       "3   25k to 50k              0  \n",
       "4   25k to 50k              0  \n",
       "\n",
       "[5 rows x 25 columns]"
      ]
     },
     "execution_count": 203,
     "metadata": {},
     "output_type": "execute_result"
    }
   ],
   "source": [
    "df.head()"
   ]
  },
  {
   "cell_type": "markdown",
   "metadata": {},
   "source": [
    "# 1. Select magistrates"
   ]
  },
  {
   "cell_type": "code",
   "execution_count": 204,
   "metadata": {},
   "outputs": [
    {
     "name": "stdout",
     "output_type": "stream",
     "text": [
      "Total number of magistrates:  37\n"
     ]
    }
   ],
   "source": [
    "print('Total number of magistrates: ', len(df['bail_set_by'].value_counts()))"
   ]
  },
  {
   "cell_type": "code",
   "execution_count": 205,
   "metadata": {},
   "outputs": [
    {
     "data": {
      "image/png": "[encoded data removed]",
      "text/plain": [
       "<Figure size 432x288 with 1 Axes>"
      ]
     },
     "metadata": {},
     "output_type": "display_data"
    }
   ],
   "source": [
    "# number of cases handled by each magistrate\n",
    "n_magistrates = 20\n",
    "plt.barh(df['bail_set_by'].value_counts()[:n_magistrates].keys()[::-1], df['bail_set_by'].value_counts()[:n_magistrates].values[::-1])\n",
    "plt.xlabel('number of cases')\n",
    "plt.ylabel('magistrate')\n",
    "plt.title('Total number of cases by magistrate')\n",
    "plt.show()"
   ]
  },
  {
   "cell_type": "code",
   "execution_count": 206,
   "metadata": {},
   "outputs": [
    {
     "name": "stdout",
     "output_type": "stream",
     "text": [
      "Total number of magistrates (with valid bail type): 37\n",
      "Number of magistrates with more than 300 cases: 10\n"
     ]
    }
   ],
   "source": [
    "# create dataframe summarizing magistrate-level information\n",
    "df_magistrate = pd.crosstab(index = df['bail_set_by'], columns =df['bail_type'])\n",
    "# note: total excludes any entries with 'bail_type' == NaN\n",
    "df_magistrate['Total'] = df_magistrate.sum(axis = 1)\n",
    "df_magistrate.sort_values(by = ['Total'], ascending = False, inplace = True)\n",
    "print('Total number of magistrates (with valid bail type): {0}'.format(len(df_magistrate.index)))\n",
    "\n",
    "# Magistrates that were involved in more than caseFloor cases\n",
    "caseFloor = 300\n",
    "magistrates = df_magistrate[df_magistrate['Total'] > caseFloor].index\n",
    "print(\"Number of magistrates with more than {0} cases: {1}\".format(caseFloor, len(magistrates)))"
   ]
  },
  {
   "cell_type": "code",
   "execution_count": 207,
   "metadata": {},
   "outputs": [
    {
     "name": "stdout",
     "output_type": "stream",
     "text": [
      "Number of magistrates with more than 1000 cases: 6\n"
     ]
    }
   ],
   "source": [
    "# Select 'core_magistrates' to be those who handled more than 1000 cases in 2020\n",
    "caseFloor = 1000\n",
    "core_magistrates = df_magistrate[df_magistrate['Total'] > caseFloor].index\n",
    "print(\"Number of magistrates with more than {0} cases: {1}\".format(caseFloor, len(core_magistrates)))"
   ]
  },
  {
   "cell_type": "code",
   "execution_count": 208,
   "metadata": {},
   "outputs": [
    {
     "data": {
      "image/png": "[encoded data removed]",
      "text/plain": [
       "<Figure size 1440x432 with 12 Axes>"
      ]
     },
     "metadata": {},
     "output_type": "display_data"
    }
   ],
   "source": [
    "# get date ranges\n",
    "start_date = datetime.date(2020, 1, 1)\n",
    "end_date = datetime.date(2020, 12, 31)\n",
    "delta = relativedelta(months = 1)\n",
    "date_range = []\n",
    "\n",
    "while start_date <= end_date:\n",
    "    date_range.append(start_date)\n",
    "    start_date += delta\n",
    "\n",
    "# plot\n",
    "fig, ax = plt.subplots(nrows = 2, ncols = 6, figsize = (20, 6))\n",
    "plt.rcParams['font.size'] = 10\n",
    "fig.suptitle('prelim hearing date for magistrate')\n",
    "for idx, name in enumerate(magistrates):\n",
    "    row = idx // 6\n",
    "    col = idx % 6\n",
    "    ax[row][col].hist(df[df['bail_set_by'] == name].prelim_hearing_dt, bins = 12, range = (datetime.date(2020,1,1), datetime.date(2020, 12 ,31)))\n",
    "    ax[row][col].set_title(name)\n",
    "\n",
    "for sub in ax.flat:\n",
    "    sub.set_xticks(date_range)\n",
    "    sub.set_xticklabels([item.month for item in date_range])\n",
    "    sub.set_xlabel('month')\n",
    "    sub.set_ylabel('count')\n",
    "plt.tight_layout()\n",
    "plt.show()"
   ]
  },
  {
   "cell_type": "markdown",
   "metadata": {},
   "source": [
    "* O'Brien, Bernard, and Stack have been consistently setting bail throughout the year 2020.\n",
    "* E-Filing Judge stopped around september.\n",
    "* Rigmaiden-DeLeon, Rainey, and Connor started setting bail in the Fall of 2020.\n",
    "* Devlin was involved only upto February 2020.\n",
    "* Williams was setting bail only during the summer. "
   ]
  },
  {
   "cell_type": "code",
   "execution_count": 209,
   "metadata": {},
   "outputs": [
    {
     "name": "stdout",
     "output_type": "stream",
     "text": [
      "\n",
      "Magistrates who handled more than 500 cases in 2020\n",
      "O'Brien, James\n",
      "Bernard, Francis X.\n",
      "Stack, Patrick\n",
      "E-Filing Judge\n",
      "Rigmaiden-DeLeon, Marilyn\n",
      "Rainey, Debra\n",
      "Williams, Naomi\n",
      "Connor, Lauren\n",
      "Devlin, Kevin R.\n",
      "No Magistrate Found\n",
      "\n",
      "Selected core magistrates: Magistrates who handled more than 1000 cases in 2020 \n",
      "O'Brien, James\n",
      "Bernard, Francis X.\n",
      "Stack, Patrick\n",
      "E-Filing Judge\n",
      "Rigmaiden-DeLeon, Marilyn\n",
      "Rainey, Debra\n"
     ]
    }
   ],
   "source": [
    "# print the selected magistrates\n",
    "print(\"\\nMagistrates who handled more than 500 cases in 2020\")\n",
    "for name in magistrates:\n",
    "    print(name)\n",
    "    \n",
    "# select core magistrates\n",
    "print(\"\\nSelected core magistrates: Magistrates who handled more than 1000 cases in 2020 \")\n",
    "for name in core_magistrates:\n",
    "    print(name)\n",
    "    \n",
    "# create column\n",
    "df['core_magistrate'] = df['bail_set_by'].apply(lambda x: 1 if x in core_magistrates else 0)"
   ]
  },
  {
   "cell_type": "code",
   "execution_count": 210,
   "metadata": {},
   "outputs": [],
   "source": [
    "# assign specific colors to each magistrate\n",
    "magistrate_colors = dict({\"Bernard, Francis X.\": '#E84855',\n",
    "    \"Rigmaiden-DeLeon, Marilyn\": '#17C3B2',\n",
    "    \"O'Brien, James\": '#FE8589',\n",
    "    \"Stack, Patrick\": '#FFCB77',\n",
    "    \"E-Filing Judge\": '#19647E',\n",
    "    \"Rainey, Debra\": '#FA9E3B',\n",
    "    \"Connor, Lauren\": '#227C9D',\n",
    "    \"Williams, Naomi\": '#9BD3A6',\n",
    "    \"Devlin, Kevin R.\": '#415865',\n",
    "    \"No Magistrate Found\": '#fec5bb', \n",
    "    \"Other\": '#2E4756'})"
   ]
  },
  {
   "cell_type": "markdown",
   "metadata": {},
   "source": [
    "## 2.2 Are preliminary hearing date and time related to magistrates?"
   ]
  },
  {
   "cell_type": "markdown",
   "metadata": {},
   "source": [
    "This may be relevant, as offense severity may depend on hearing time "
   ]
  },
  {
   "cell_type": "code",
   "execution_count": 211,
   "metadata": {},
   "outputs": [
    {
     "data": {
      "image/png": "[encoded data removed]",
      "text/plain": [
       "<Figure size 1080x288 with 10 Axes>"
      ]
     },
     "metadata": {},
     "output_type": "display_data"
    }
   ],
   "source": [
    "df['prelim_hearing_hour'] = df['prelim_hearing_time'].apply(lambda x: x.hour)\n",
    "# prelim hearing time (hour) of each magistrate\n",
    "\n",
    "fig, ax = plt.subplots(ncols = 5, nrows = 2, figsize = (15, 4))\n",
    "plt.rcParams['font.size'] = 10\n",
    "fig.suptitle('prelim hearing time for magistrate')\n",
    "for idx, name in enumerate(magistrates):\n",
    "    row = idx //5 \n",
    "    col = idx % 5\n",
    "    ax[row][col].hist(df[df['bail_set_by'] == name].prelim_hearing_hour, bins=24, range=(0,24))\n",
    "    ax[row][col].set_title(name)\n",
    "\n",
    "for sub in ax.flat:\n",
    "    sub.set_xlim(0,24)\n",
    "    sub.set_xlabel('prelim hearing time')\n",
    "    sub.set_ylabel('case count')\n",
    "plt.tight_layout()\n",
    "plt.show()"
   ]
  },
  {
   "cell_type": "markdown",
   "metadata": {},
   "source": [
    "## 2.3 2020 year-end summary by magistrate \n",
    "* For year-end summary, report for the 9 selected magistrates (who handled more than 500 cases) and all others (under category 'Other')"
   ]
  },
  {
   "cell_type": "code",
   "execution_count": 334,
   "metadata": {},
   "outputs": [
    {
     "data": {
      "image/png": "[encoded data removed]",
      "text/plain": [
       "<Figure size 432x288 with 1 Axes>"
      ]
     },
     "metadata": {},
     "output_type": "display_data"
    }
   ],
   "source": [
    "# Pie chart visualizing the number of cases handled by each magistrate\n",
    "# dataframe of magistrates & 'Other'\n",
    "df['magistrate'] = df['bail_set_by'].apply(lambda x: x if x in magistrates else 'Other')\n",
    "\n",
    "sizes = df['magistrate'].value_counts().values\n",
    "def absolute_value(val):\n",
    "    a  = np.round(val/100.*sizes.sum(), 0)\n",
    "    return int(a)\n",
    "\n",
    "case_count = df['magistrate'].value_counts()\n",
    "magistrate_order = case_count.keys()\n",
    "colors = [magistrate_colors[name] for name in magistrate_order]\n",
    "\n",
    "magistrate_label = [item.split(',')[0] for item in df['magistrate'].value_counts().keys()]\n",
    "plt.pie(df['magistrate'].value_counts(), colors = colors, labels = magistrate_label, autopct=absolute_value)\n",
    "plt.savefig(os.path.join(figdir,'magistrate_case_count.png'), bbox_inches='tight')\n",
    "plt.show()"
   ]
  },
  {
   "cell_type": "code",
   "execution_count": 335,
   "metadata": {},
   "outputs": [
    {
     "ename": "ValueError",
     "evalue": "list.remove(x): x not in list",
     "output_type": "error",
     "traceback": [
      "\u001b[0;31m---------------------------------------------------------------------------\u001b[0m",
      "\u001b[0;31mValueError\u001b[0m                                Traceback (most recent call last)",
      "\u001b[0;32m<ipython-input-335-9cf95b0fabcd>\u001b[0m in \u001b[0;36m<module>\u001b[0;34m\u001b[0m\n\u001b[1;32m      1\u001b[0m \u001b[0;31m# remove \"No magistrate found\" from list of magistrates\u001b[0m\u001b[0;34m\u001b[0m\u001b[0;34m\u001b[0m\u001b[0;34m\u001b[0m\u001b[0m\n\u001b[1;32m      2\u001b[0m \u001b[0mmagistrates\u001b[0m \u001b[0;34m=\u001b[0m \u001b[0mlist\u001b[0m\u001b[0;34m(\u001b[0m\u001b[0mmagistrates\u001b[0m\u001b[0;34m)\u001b[0m\u001b[0;34m\u001b[0m\u001b[0;34m\u001b[0m\u001b[0m\n\u001b[0;32m----> 3\u001b[0;31m \u001b[0mmagistrates\u001b[0m\u001b[0;34m.\u001b[0m\u001b[0mremove\u001b[0m\u001b[0;34m(\u001b[0m\u001b[0;34m'No Magistrate Found'\u001b[0m\u001b[0;34m)\u001b[0m\u001b[0;34m\u001b[0m\u001b[0;34m\u001b[0m\u001b[0m\n\u001b[0m",
      "\u001b[0;31mValueError\u001b[0m: list.remove(x): x not in list"
     ]
    }
   ],
   "source": [
    "# remove \"No magistrate found\" from list of magistrates\n",
    "magistrates = list(magistrates)\n",
    "magistrates.remove('No Magistrate Found')"
   ]
  },
  {
   "cell_type": "code",
   "execution_count": 336,
   "metadata": {},
   "outputs": [
    {
     "data": {
      "image/png": "[encoded data removed]",
      "text/plain": [
       "<Figure size 1080x360 with 10 Axes>"
      ]
     },
     "metadata": {},
     "output_type": "display_data"
    }
   ],
   "source": [
    "# Pie chart of magistrates\n",
    "df_magistrate = pd.crosstab(index = df['magistrate'], columns =df['bail_type'])\n",
    "# note: total excludes any entries with 'bail_type' == NaN\n",
    "df_magistrate['Total'] = df_magistrate.sum(axis = 1)\n",
    "df_magistrate.sort_values(by = ['Total'], ascending = False, inplace = True)\n",
    "\n",
    "# combine 'nonmonetary', and 'denied' to 'other'\n",
    "df_magistrate['Other'] = df_magistrate['Nonmonetary'] + df_magistrate['Denied']\n",
    "\n",
    "bail_types = ['Monetary','ROR', 'Unsecured', 'Other']\n",
    "fig, ax = plt.subplots(ncols = 5, nrows = 2, figsize = (15, 5))\n",
    "plt.rcParams['font.size'] = 15\n",
    "#fig.suptitle('% of bail type for magistrate')\n",
    "for idx, name in enumerate(magistrates):\n",
    "    row = idx // 5\n",
    "    col = idx % 5\n",
    "    ax[row][col].pie(df_magistrate.loc[name, bail_types], autopct='%1.0f%%')\n",
    "    ax[row][col].set_title(name.split(',')[0], fontsize = 15)\n",
    "\n",
    "# plot summary for 'other'\n",
    "ax[1][4].pie(df_magistrate.loc['Other', bail_types], autopct = '%1.0f%%')\n",
    "ax[1][4].set_title('Other', fontsize = 15)\n",
    "\n",
    "# common legend\n",
    "fig.subplots_adjust(top=1, left=0.1, right=0.9, bottom=0.12)  # create some space below the plots by increasing the bottom-value\n",
    "ax.flatten()[-2].legend(loc='upper center', bbox_to_anchor=(-0.7, 0), ncol=5, labels = bail_types, fontsize = 15)\n",
    "#plt.savefig(os.path.join(figdir,'magistrate_type_summary.png'), bbox_inches='tight')\n",
    "plt.show()"
   ]
  },
  {
   "cell_type": "code",
   "execution_count": 337,
   "metadata": {},
   "outputs": [],
   "source": [
    "# reorder magistrates list\n",
    "magistrates_list = ['Connor, Lauren',\n",
    "                    'Bernard, Francis X.', \n",
    "                    'Rigmaiden-DeLeon, Marilyn',\n",
    "                    'Rainey, Debra',\n",
    "                    \"O'Brien, James\",\n",
    "                    'Stack, Patrick',\n",
    "                    'E-Filing Judge',\n",
    "                    'Williams, Naomi',\n",
    "                    'Devlin, Kevin R.',\n",
    "                    'Other']"
   ]
  },
  {
   "cell_type": "code",
   "execution_count": 338,
   "metadata": {},
   "outputs": [],
   "source": [
    "df_magistrate = pd.crosstab(index = df['magistrate'], columns =df['bail_type'])\n",
    "# note: total excludes any entries with 'bail_type' == NaN\n",
    "df_magistrate['Total'] = df_magistrate.sum(axis = 1)\n",
    "df_magistrate.sort_values(by = ['Total'], ascending = False, inplace = True)\n",
    "\n",
    "# get the first 10 magistrates\n",
    "df_magistrate = df_magistrate[:10].copy()\n",
    "\n",
    "# get total bail amount set\n",
    "df_amount = df[['magistrate','bail_amount']].groupby(by = ['magistrate']).sum()\n",
    "\n",
    "# merge the two \n",
    "df_magistrate = pd.concat([df_magistrate.stack(), df_amount.stack()[magistrates_list]], axis = 0).unstack()"
   ]
  },
  {
   "cell_type": "code",
   "execution_count": 339,
   "metadata": {},
   "outputs": [],
   "source": [
    "# convert bail type count to percentage\n",
    "df_magistrate[['Monetary', 'Nonmonetary', 'Denied', 'ROR','Unsecured']] = df_magistrate[['Monetary', 'Nonmonetary', 'Denied', 'ROR','Unsecured']].apply(lambda x: x* 100/ df_magistrate['Total'])\n",
    "# combine 'nonmonetary' and 'denied'\n",
    "df_magistrate['Other'] = df_magistrate['Nonmonetary'] + df_magistrate['Denied']\n",
    "df_magistrate.drop(columns = ['Nonmonetary', 'Denied'], inplace = True)"
   ]
  },
  {
   "cell_type": "markdown",
   "metadata": {},
   "source": [
    "<b> New figure with hovering </b>"
   ]
  },
  {
   "cell_type": "code",
   "execution_count": 340,
   "metadata": {},
   "outputs": [],
   "source": [
    "# keep last names of magistrates\n",
    "df_magistrate.rename(index = lambda x: x.split(',')[0], inplace = True)\n",
    "\n",
    "# sort\n",
    "df_magistrate.sort_values(by = ['Total'], ascending = True, inplace = True)"
   ]
  },
  {
   "cell_type": "code",
   "execution_count": 346,
   "metadata": {},
   "outputs": [],
   "source": [
    "# format: round to 2 decimals\n",
    "df_magistrate[[\"Monetary\", \"ROR\",\"Unsecured\", \"Other\"]] = df_magistrate[[\"Monetary\", \"ROR\",\"Unsecured\", \"Other\"]].apply(lambda x: round(x,2))\n",
    "\n",
    "# format bail amount\n",
    "df_magistrate[\"bail_amount\"] = df_magistrate[\"bail_amount\"].apply(lambda x: \"${:,.0f}\".format(x/1000))"
   ]
  },
  {
   "cell_type": "code",
   "execution_count": 348,
   "metadata": {},
   "outputs": [
    {
     "data": {
      "application/vnd.plotly.v1+json": {
       "config": {
        "plotlyServerURL": "https://plot.ly"
       },
       "data": [
        {
         "alignmentgroup": "True",
         "customdata": [
          [
           899,
           "$50,214",
           53.28,
           "Monetary"
          ],
          [
           985,
           "$93,792",
           49.34,
           "Monetary"
          ],
          [
           992,
           "$43,290",
           45.46,
           "Monetary"
          ],
          [
           1106,
           "$57,307",
           48.73,
           "Monetary"
          ],
          [
           1761,
           "$96,682",
           50.82,
           "Monetary"
          ],
          [
           1955,
           "$132,790",
           47.16,
           "Monetary"
          ],
          [
           3488,
           "$151,629",
           38.36,
           "Monetary"
          ],
          [
           4063,
           "$178,375",
           49.13,
           "Monetary"
          ],
          [
           4458,
           "$503,404",
           53.5,
           "Monetary"
          ],
          [
           4518,
           "$264,058",
           51.35,
           "Monetary"
          ]
         ],
         "hovertemplate": "magistrate=%{y}<br>Total case count=%{customdata[0]}<br>Total bail amount set=%{customdata[1]}<extra></extra>",
         "legendgroup": "Monetary",
         "marker": {
          "color": "#636efa"
         },
         "name": "Monetary",
         "offsetgroup": "Monetary",
         "orientation": "h",
         "showlegend": true,
         "text": [
          53.28,
          49.34,
          45.46,
          48.73,
          50.82,
          47.16,
          38.36,
          49.13,
          53.5,
          51.35
         ],
         "textposition": "auto",
         "type": "bar",
         "x": [
          53.28,
          49.34,
          45.46,
          48.73,
          50.82,
          47.16,
          38.36,
          49.13,
          53.5,
          51.35
         ],
         "xaxis": "x",
         "y": [
          "Devlin",
          "Connor",
          "Williams",
          "Rainey",
          "Rigmaiden-DeLeon",
          "Other",
          "E-Filing Judge",
          "Stack",
          "Bernard",
          "O'Brien"
         ],
         "yaxis": "y"
        },
        {
         "alignmentgroup": "True",
         "customdata": [
          [
           899,
           "$50,214",
           39.82,
           "ROR"
          ],
          [
           985,
           "$93,792",
           22.44,
           "ROR"
          ],
          [
           992,
           "$43,290",
           28.33,
           "ROR"
          ],
          [
           1106,
           "$57,307",
           26.31,
           "ROR"
          ],
          [
           1761,
           "$96,682",
           26.86,
           "ROR"
          ],
          [
           1955,
           "$132,790",
           20,
           "ROR"
          ],
          [
           3488,
           "$151,629",
           33.8,
           "ROR"
          ],
          [
           4063,
           "$178,375",
           41.2,
           "ROR"
          ],
          [
           4458,
           "$503,404",
           22.86,
           "ROR"
          ],
          [
           4518,
           "$264,058",
           21.36,
           "ROR"
          ]
         ],
         "hovertemplate": "magistrate=%{y}<br>Total case count=%{customdata[0]}<br>Total bail amount set=%{customdata[1]}<extra></extra>",
         "legendgroup": "ROR",
         "marker": {
          "color": "#EF553B"
         },
         "name": "ROR",
         "offsetgroup": "ROR",
         "orientation": "h",
         "showlegend": true,
         "text": [
          39.82,
          22.44,
          28.33,
          26.31,
          26.86,
          20,
          33.8,
          41.2,
          22.86,
          21.36
         ],
         "textposition": "auto",
         "type": "bar",
         "x": [
          39.82,
          22.44,
          28.33,
          26.31,
          26.86,
          20,
          33.8,
          41.2,
          22.86,
          21.36
         ],
         "xaxis": "x",
         "y": [
          "Devlin",
          "Connor",
          "Williams",
          "Rainey",
          "Rigmaiden-DeLeon",
          "Other",
          "E-Filing Judge",
          "Stack",
          "Bernard",
          "O'Brien"
         ],
         "yaxis": "y"
        },
        {
         "alignmentgroup": "True",
         "customdata": [
          [
           899,
           "$50,214",
           5.9,
           "Unsecured"
          ],
          [
           985,
           "$93,792",
           28.22,
           "Unsecured"
          ],
          [
           992,
           "$43,290",
           26.11,
           "Unsecured"
          ],
          [
           1106,
           "$57,307",
           24.95,
           "Unsecured"
          ],
          [
           1761,
           "$96,682",
           22.32,
           "Unsecured"
          ],
          [
           1955,
           "$132,790",
           15.14,
           "Unsecured"
          ],
          [
           3488,
           "$151,629",
           26.46,
           "Unsecured"
          ],
          [
           4063,
           "$178,375",
           9.6,
           "Unsecured"
          ],
          [
           4458,
           "$503,404",
           22.48,
           "Unsecured"
          ],
          [
           4518,
           "$264,058",
           26.14,
           "Unsecured"
          ]
         ],
         "hovertemplate": "magistrate=%{y}<br>Total case count=%{customdata[0]}<br>Total bail amount set=%{customdata[1]}<extra></extra>",
         "legendgroup": "Unsecured",
         "marker": {
          "color": "#00cc96"
         },
         "name": "Unsecured",
         "offsetgroup": "Unsecured",
         "orientation": "h",
         "showlegend": true,
         "text": [
          5.9,
          28.22,
          26.11,
          24.95,
          22.32,
          15.14,
          26.46,
          9.6,
          22.48,
          26.14
         ],
         "textposition": "auto",
         "type": "bar",
         "x": [
          5.9,
          28.22,
          26.11,
          24.95,
          22.32,
          15.14,
          26.46,
          9.6,
          22.48,
          26.14
         ],
         "xaxis": "x",
         "y": [
          "Devlin",
          "Connor",
          "Williams",
          "Rainey",
          "Rigmaiden-DeLeon",
          "Other",
          "E-Filing Judge",
          "Stack",
          "Bernard",
          "O'Brien"
         ],
         "yaxis": "y"
        },
        {
         "alignmentgroup": "True",
         "customdata": [
          [
           899,
           "$50,214",
           1,
           "Other"
          ],
          [
           985,
           "$93,792",
           0,
           "Other"
          ],
          [
           992,
           "$43,290",
           0.1,
           "Other"
          ],
          [
           1106,
           "$57,307",
           0,
           "Other"
          ],
          [
           1761,
           "$96,682",
           0,
           "Other"
          ],
          [
           1955,
           "$132,790",
           17.7,
           "Other"
          ],
          [
           3488,
           "$151,629",
           1.38,
           "Other"
          ],
          [
           4063,
           "$178,375",
           0.07,
           "Other"
          ],
          [
           4458,
           "$503,404",
           1.17,
           "Other"
          ],
          [
           4518,
           "$264,058",
           1.15,
           "Other"
          ]
         ],
         "hovertemplate": "magistrate=%{y}<br>Total case count=%{customdata[0]}<br>Total bail amount set=%{customdata[1]}<extra></extra>",
         "legendgroup": "Other",
         "marker": {
          "color": "#ab63fa"
         },
         "name": "Other",
         "offsetgroup": "Other",
         "orientation": "h",
         "showlegend": true,
         "text": [
          1,
          0,
          0.1,
          0,
          0,
          17.7,
          1.38,
          0.07,
          1.17,
          1.15
         ],
         "textposition": "auto",
         "type": "bar",
         "x": [
          1,
          0,
          0.1,
          0,
          0,
          17.7,
          1.38,
          0.07,
          1.17,
          1.15
         ],
         "xaxis": "x",
         "y": [
          "Devlin",
          "Connor",
          "Williams",
          "Rainey",
          "Rigmaiden-DeLeon",
          "Other",
          "E-Filing Judge",
          "Stack",
          "Bernard",
          "O'Brien"
         ],
         "yaxis": "y"
        }
       ],
       "layout": {
        "barmode": "stack",
        "legend": {
         "title": {
          "text": "bail type"
         },
         "tracegroupgap": 0
        },
        "margin": {
         "t": 60
        },
        "template": {
         "data": {
          "bar": [
           {
            "error_x": {
             "color": "#2a3f5f"
            },
            "error_y": {
             "color": "#2a3f5f"
            },
            "marker": {
             "line": {
              "color": "#E5ECF6",
              "width": 0.5
             }
            },
            "type": "bar"
           }
          ],
          "barpolar": [
           {
            "marker": {
             "line": {
              "color": "#E5ECF6",
              "width": 0.5
             }
            },
            "type": "barpolar"
           }
          ],
          "carpet": [
           {
            "aaxis": {
             "endlinecolor": "#2a3f5f",
             "gridcolor": "white",
             "linecolor": "white",
             "minorgridcolor": "white",
             "startlinecolor": "#2a3f5f"
            },
            "baxis": {
             "endlinecolor": "#2a3f5f",
             "gridcolor": "white",
             "linecolor": "white",
             "minorgridcolor": "white",
             "startlinecolor": "#2a3f5f"
            },
            "type": "carpet"
           }
          ],
          "choropleth": [
           {
            "colorbar": {
             "outlinewidth": 0,
             "ticks": ""
            },
            "type": "choropleth"
           }
          ],
          "contour": [
           {
            "colorbar": {
             "outlinewidth": 0,
             "ticks": ""
            },
            "colorscale": [
             [
              0,
              "#0d0887"
             ],
             [
              0.1111111111111111,
              "#46039f"
             ],
             [
              0.2222222222222222,
              "#7201a8"
             ],
             [
              0.3333333333333333,
              "#9c179e"
             ],
             [
              0.4444444444444444,
              "#bd3786"
             ],
             [
              0.5555555555555556,
              "#d8576b"
             ],
             [
              0.6666666666666666,
              "#ed7953"
             ],
             [
              0.7777777777777778,
              "#fb9f3a"
             ],
             [
              0.8888888888888888,
              "#fdca26"
             ],
             [
              1,
              "#f0f921"
             ]
            ],
            "type": "contour"
           }
          ],
          "contourcarpet": [
           {
            "colorbar": {
             "outlinewidth": 0,
             "ticks": ""
            },
            "type": "contourcarpet"
           }
          ],
          "heatmap": [
           {
            "colorbar": {
             "outlinewidth": 0,
             "ticks": ""
            },
            "colorscale": [
             [
              0,
              "#0d0887"
             ],
             [
              0.1111111111111111,
              "#46039f"
             ],
             [
              0.2222222222222222,
              "#7201a8"
             ],
             [
              0.3333333333333333,
              "#9c179e"
             ],
             [
              0.4444444444444444,
              "#bd3786"
             ],
             [
              0.5555555555555556,
              "#d8576b"
             ],
             [
              0.6666666666666666,
              "#ed7953"
             ],
             [
              0.7777777777777778,
              "#fb9f3a"
             ],
             [
              0.8888888888888888,
              "#fdca26"
             ],
             [
              1,
              "#f0f921"
             ]
            ],
            "type": "heatmap"
           }
          ],
          "heatmapgl": [
           {
            "colorbar": {
             "outlinewidth": 0,
             "ticks": ""
            },
            "colorscale": [
             [
              0,
              "#0d0887"
             ],
             [
              0.1111111111111111,
              "#46039f"
             ],
             [
              0.2222222222222222,
              "#7201a8"
             ],
             [
              0.3333333333333333,
              "#9c179e"
             ],
             [
              0.4444444444444444,
              "#bd3786"
             ],
             [
              0.5555555555555556,
              "#d8576b"
             ],
             [
              0.6666666666666666,
              "#ed7953"
             ],
             [
              0.7777777777777778,
              "#fb9f3a"
             ],
             [
              0.8888888888888888,
              "#fdca26"
             ],
             [
              1,
              "#f0f921"
             ]
            ],
            "type": "heatmapgl"
           }
          ],
          "histogram": [
           {
            "marker": {
             "colorbar": {
              "outlinewidth": 0,
              "ticks": ""
             }
            },
            "type": "histogram"
           }
          ],
          "histogram2d": [
           {
            "colorbar": {
             "outlinewidth": 0,
             "ticks": ""
            },
            "colorscale": [
             [
              0,
              "#0d0887"
             ],
             [
              0.1111111111111111,
              "#46039f"
             ],
             [
              0.2222222222222222,
              "#7201a8"
             ],
             [
              0.3333333333333333,
              "#9c179e"
             ],
             [
              0.4444444444444444,
              "#bd3786"
             ],
             [
              0.5555555555555556,
              "#d8576b"
             ],
             [
              0.6666666666666666,
              "#ed7953"
             ],
             [
              0.7777777777777778,
              "#fb9f3a"
             ],
             [
              0.8888888888888888,
              "#fdca26"
             ],
             [
              1,
              "#f0f921"
             ]
            ],
            "type": "histogram2d"
           }
          ],
          "histogram2dcontour": [
           {
            "colorbar": {
             "outlinewidth": 0,
             "ticks": ""
            },
            "colorscale": [
             [
              0,
              "#0d0887"
             ],
             [
              0.1111111111111111,
              "#46039f"
             ],
             [
              0.2222222222222222,
              "#7201a8"
             ],
             [
              0.3333333333333333,
              "#9c179e"
             ],
             [
              0.4444444444444444,
              "#bd3786"
             ],
             [
              0.5555555555555556,
              "#d8576b"
             ],
             [
              0.6666666666666666,
              "#ed7953"
             ],
             [
              0.7777777777777778,
              "#fb9f3a"
             ],
             [
              0.8888888888888888,
              "#fdca26"
             ],
             [
              1,
              "#f0f921"
             ]
            ],
            "type": "histogram2dcontour"
           }
          ],
          "mesh3d": [
           {
            "colorbar": {
             "outlinewidth": 0,
             "ticks": ""
            },
            "type": "mesh3d"
           }
          ],
          "parcoords": [
           {
            "line": {
             "colorbar": {
              "outlinewidth": 0,
              "ticks": ""
             }
            },
            "type": "parcoords"
           }
          ],
          "pie": [
           {
            "automargin": true,
            "type": "pie"
           }
          ],
          "scatter": [
           {
            "marker": {
             "colorbar": {
              "outlinewidth": 0,
              "ticks": ""
             }
            },
            "type": "scatter"
           }
          ],
          "scatter3d": [
           {
            "line": {
             "colorbar": {
              "outlinewidth": 0,
              "ticks": ""
             }
            },
            "marker": {
             "colorbar": {
              "outlinewidth": 0,
              "ticks": ""
             }
            },
            "type": "scatter3d"
           }
          ],
          "scattercarpet": [
           {
            "marker": {
             "colorbar": {
              "outlinewidth": 0,
              "ticks": ""
             }
            },
            "type": "scattercarpet"
           }
          ],
          "scattergeo": [
           {
            "marker": {
             "colorbar": {
              "outlinewidth": 0,
              "ticks": ""
             }
            },
            "type": "scattergeo"
           }
          ],
          "scattergl": [
           {
            "marker": {
             "colorbar": {
              "outlinewidth": 0,
              "ticks": ""
             }
            },
            "type": "scattergl"
           }
          ],
          "scattermapbox": [
           {
            "marker": {
             "colorbar": {
              "outlinewidth": 0,
              "ticks": ""
             }
            },
            "type": "scattermapbox"
           }
          ],
          "scatterpolar": [
           {
            "marker": {
             "colorbar": {
              "outlinewidth": 0,
              "ticks": ""
             }
            },
            "type": "scatterpolar"
           }
          ],
          "scatterpolargl": [
           {
            "marker": {
             "colorbar": {
              "outlinewidth": 0,
              "ticks": ""
             }
            },
            "type": "scatterpolargl"
           }
          ],
          "scatterternary": [
           {
            "marker": {
             "colorbar": {
              "outlinewidth": 0,
              "ticks": ""
             }
            },
            "type": "scatterternary"
           }
          ],
          "surface": [
           {
            "colorbar": {
             "outlinewidth": 0,
             "ticks": ""
            },
            "colorscale": [
             [
              0,
              "#0d0887"
             ],
             [
              0.1111111111111111,
              "#46039f"
             ],
             [
              0.2222222222222222,
              "#7201a8"
             ],
             [
              0.3333333333333333,
              "#9c179e"
             ],
             [
              0.4444444444444444,
              "#bd3786"
             ],
             [
              0.5555555555555556,
              "#d8576b"
             ],
             [
              0.6666666666666666,
              "#ed7953"
             ],
             [
              0.7777777777777778,
              "#fb9f3a"
             ],
             [
              0.8888888888888888,
              "#fdca26"
             ],
             [
              1,
              "#f0f921"
             ]
            ],
            "type": "surface"
           }
          ],
          "table": [
           {
            "cells": {
             "fill": {
              "color": "#EBF0F8"
             },
             "line": {
              "color": "white"
             }
            },
            "header": {
             "fill": {
              "color": "#C8D4E3"
             },
             "line": {
              "color": "white"
             }
            },
            "type": "table"
           }
          ]
         },
         "layout": {
          "annotationdefaults": {
           "arrowcolor": "#2a3f5f",
           "arrowhead": 0,
           "arrowwidth": 1
          },
          "coloraxis": {
           "colorbar": {
            "outlinewidth": 0,
            "ticks": ""
           }
          },
          "colorscale": {
           "diverging": [
            [
             0,
             "#8e0152"
            ],
            [
             0.1,
             "#c51b7d"
            ],
            [
             0.2,
             "#de77ae"
            ],
            [
             0.3,
             "#f1b6da"
            ],
            [
             0.4,
             "#fde0ef"
            ],
            [
             0.5,
             "#f7f7f7"
            ],
            [
             0.6,
             "#e6f5d0"
            ],
            [
             0.7,
             "#b8e186"
            ],
            [
             0.8,
             "#7fbc41"
            ],
            [
             0.9,
             "#4d9221"
            ],
            [
             1,
             "#276419"
            ]
           ],
           "sequential": [
            [
             0,
             "#0d0887"
            ],
            [
             0.1111111111111111,
             "#46039f"
            ],
            [
             0.2222222222222222,
             "#7201a8"
            ],
            [
             0.3333333333333333,
             "#9c179e"
            ],
            [
             0.4444444444444444,
             "#bd3786"
            ],
            [
             0.5555555555555556,
             "#d8576b"
            ],
            [
             0.6666666666666666,
             "#ed7953"
            ],
            [
             0.7777777777777778,
             "#fb9f3a"
            ],
            [
             0.8888888888888888,
             "#fdca26"
            ],
            [
             1,
             "#f0f921"
            ]
           ],
           "sequentialminus": [
            [
             0,
             "#0d0887"
            ],
            [
             0.1111111111111111,
             "#46039f"
            ],
            [
             0.2222222222222222,
             "#7201a8"
            ],
            [
             0.3333333333333333,
             "#9c179e"
            ],
            [
             0.4444444444444444,
             "#bd3786"
            ],
            [
             0.5555555555555556,
             "#d8576b"
            ],
            [
             0.6666666666666666,
             "#ed7953"
            ],
            [
             0.7777777777777778,
             "#fb9f3a"
            ],
            [
             0.8888888888888888,
             "#fdca26"
            ],
            [
             1,
             "#f0f921"
            ]
           ]
          },
          "colorway": [
           "#636efa",
           "#EF553B",
           "#00cc96",
           "#ab63fa",
           "#FFA15A",
           "#19d3f3",
           "#FF6692",
           "#B6E880",
           "#FF97FF",
           "#FECB52"
          ],
          "font": {
           "color": "#2a3f5f"
          },
          "geo": {
           "bgcolor": "white",
           "lakecolor": "white",
           "landcolor": "#E5ECF6",
           "showlakes": true,
           "showland": true,
           "subunitcolor": "white"
          },
          "hoverlabel": {
           "align": "left"
          },
          "hovermode": "closest",
          "mapbox": {
           "style": "light"
          },
          "paper_bgcolor": "white",
          "plot_bgcolor": "#E5ECF6",
          "polar": {
           "angularaxis": {
            "gridcolor": "white",
            "linecolor": "white",
            "ticks": ""
           },
           "bgcolor": "#E5ECF6",
           "radialaxis": {
            "gridcolor": "white",
            "linecolor": "white",
            "ticks": ""
           }
          },
          "scene": {
           "xaxis": {
            "backgroundcolor": "#E5ECF6",
            "gridcolor": "white",
            "gridwidth": 2,
            "linecolor": "white",
            "showbackground": true,
            "ticks": "",
            "zerolinecolor": "white"
           },
           "yaxis": {
            "backgroundcolor": "#E5ECF6",
            "gridcolor": "white",
            "gridwidth": 2,
            "linecolor": "white",
            "showbackground": true,
            "ticks": "",
            "zerolinecolor": "white"
           },
           "zaxis": {
            "backgroundcolor": "#E5ECF6",
            "gridcolor": "white",
            "gridwidth": 2,
            "linecolor": "white",
            "showbackground": true,
            "ticks": "",
            "zerolinecolor": "white"
           }
          },
          "shapedefaults": {
           "line": {
            "color": "#2a3f5f"
           }
          },
          "ternary": {
           "aaxis": {
            "gridcolor": "white",
            "linecolor": "white",
            "ticks": ""
           },
           "baxis": {
            "gridcolor": "white",
            "linecolor": "white",
            "ticks": ""
           },
           "bgcolor": "#E5ECF6",
           "caxis": {
            "gridcolor": "white",
            "linecolor": "white",
            "ticks": ""
           }
          },
          "title": {
           "x": 0.05
          },
          "xaxis": {
           "automargin": true,
           "gridcolor": "white",
           "linecolor": "white",
           "ticks": "",
           "title": {
            "standoff": 15
           },
           "zerolinecolor": "white",
           "zerolinewidth": 2
          },
          "yaxis": {
           "automargin": true,
           "gridcolor": "white",
           "linecolor": "white",
           "ticks": "",
           "title": {
            "standoff": 15
           },
           "zerolinecolor": "white",
           "zerolinewidth": 2
          }
         }
        },
        "xaxis": {
         "anchor": "y",
         "domain": [
          0,
          1
         ],
         "title": {
          "text": "percentage"
         }
        },
        "yaxis": {
         "anchor": "x",
         "domain": [
          0,
          1
         ],
         "title": {
          "text": "magistrate"
         }
        }
       }
      },
      "text/html": [
       "<div>                            <div id=\"3b13ecdf-abf8-4f7a-9df0-e7a756ddff83\" class=\"plotly-graph-div\" style=\"height:525px; width:100%;\"></div>            <script type=\"text/javascript\">                require([\"plotly\"], function(Plotly) {                    window.PLOTLYENV=window.PLOTLYENV || {};                                    if (document.getElementById(\"3b13ecdf-abf8-4f7a-9df0-e7a756ddff83\")) {                    Plotly.newPlot(                        \"3b13ecdf-abf8-4f7a-9df0-e7a756ddff83\",                        [{\"alignmentgroup\": \"True\", \"customdata\": [[899.0, \"$50,214\", 53.28, \"Monetary\"], [985.0, \"$93,792\", 49.34, \"Monetary\"], [992.0, \"$43,290\", 45.46, \"Monetary\"], [1106.0, \"$57,307\", 48.73, \"Monetary\"], [1761.0, \"$96,682\", 50.82, \"Monetary\"], [1955.0, \"$132,790\", 47.16, \"Monetary\"], [3488.0, \"$151,629\", 38.36, \"Monetary\"], [4063.0, \"$178,375\", 49.13, \"Monetary\"], [4458.0, \"$503,404\", 53.5, \"Monetary\"], [4518.0, \"$264,058\", 51.35, \"Monetary\"]], \"hovertemplate\": \"magistrate=%{y}<br>Total case count=%{customdata[0]}<br>Total bail amount set=%{customdata[1]}<extra></extra>\", \"legendgroup\": \"Monetary\", \"marker\": {\"color\": \"#636efa\"}, \"name\": \"Monetary\", \"offsetgroup\": \"Monetary\", \"orientation\": \"h\", \"showlegend\": true, \"text\": [53.28, 49.34, 45.46, 48.73, 50.82, 47.16, 38.36, 49.13, 53.5, 51.35], \"textposition\": \"auto\", \"type\": \"bar\", \"x\": [53.28, 49.34, 45.46, 48.73, 50.82, 47.16, 38.36, 49.13, 53.5, 51.35], \"xaxis\": \"x\", \"y\": [\"Devlin\", \"Connor\", \"Williams\", \"Rainey\", \"Rigmaiden-DeLeon\", \"Other\", \"E-Filing Judge\", \"Stack\", \"Bernard\", \"O'Brien\"], \"yaxis\": \"y\"}, {\"alignmentgroup\": \"True\", \"customdata\": [[899.0, \"$50,214\", 39.82, \"ROR\"], [985.0, \"$93,792\", 22.44, \"ROR\"], [992.0, \"$43,290\", 28.33, \"ROR\"], [1106.0, \"$57,307\", 26.31, \"ROR\"], [1761.0, \"$96,682\", 26.86, \"ROR\"], [1955.0, \"$132,790\", 20.0, \"ROR\"], [3488.0, \"$151,629\", 33.8, \"ROR\"], [4063.0, \"$178,375\", 41.2, \"ROR\"], [4458.0, \"$503,404\", 22.86, \"ROR\"], [4518.0, \"$264,058\", 21.36, \"ROR\"]], \"hovertemplate\": \"magistrate=%{y}<br>Total case count=%{customdata[0]}<br>Total bail amount set=%{customdata[1]}<extra></extra>\", \"legendgroup\": \"ROR\", \"marker\": {\"color\": \"#EF553B\"}, \"name\": \"ROR\", \"offsetgroup\": \"ROR\", \"orientation\": \"h\", \"showlegend\": true, \"text\": [39.82, 22.44, 28.33, 26.31, 26.86, 20.0, 33.8, 41.2, 22.86, 21.36], \"textposition\": \"auto\", \"type\": \"bar\", \"x\": [39.82, 22.44, 28.33, 26.31, 26.86, 20.0, 33.8, 41.2, 22.86, 21.36], \"xaxis\": \"x\", \"y\": [\"Devlin\", \"Connor\", \"Williams\", \"Rainey\", \"Rigmaiden-DeLeon\", \"Other\", \"E-Filing Judge\", \"Stack\", \"Bernard\", \"O'Brien\"], \"yaxis\": \"y\"}, {\"alignmentgroup\": \"True\", \"customdata\": [[899.0, \"$50,214\", 5.9, \"Unsecured\"], [985.0, \"$93,792\", 28.22, \"Unsecured\"], [992.0, \"$43,290\", 26.11, \"Unsecured\"], [1106.0, \"$57,307\", 24.95, \"Unsecured\"], [1761.0, \"$96,682\", 22.32, \"Unsecured\"], [1955.0, \"$132,790\", 15.14, \"Unsecured\"], [3488.0, \"$151,629\", 26.46, \"Unsecured\"], [4063.0, \"$178,375\", 9.6, \"Unsecured\"], [4458.0, \"$503,404\", 22.48, \"Unsecured\"], [4518.0, \"$264,058\", 26.14, \"Unsecured\"]], \"hovertemplate\": \"magistrate=%{y}<br>Total case count=%{customdata[0]}<br>Total bail amount set=%{customdata[1]}<extra></extra>\", \"legendgroup\": \"Unsecured\", \"marker\": {\"color\": \"#00cc96\"}, \"name\": \"Unsecured\", \"offsetgroup\": \"Unsecured\", \"orientation\": \"h\", \"showlegend\": true, \"text\": [5.9, 28.22, 26.11, 24.95, 22.32, 15.14, 26.46, 9.6, 22.48, 26.14], \"textposition\": \"auto\", \"type\": \"bar\", \"x\": [5.9, 28.22, 26.11, 24.95, 22.32, 15.14, 26.46, 9.6, 22.48, 26.14], \"xaxis\": \"x\", \"y\": [\"Devlin\", \"Connor\", \"Williams\", \"Rainey\", \"Rigmaiden-DeLeon\", \"Other\", \"E-Filing Judge\", \"Stack\", \"Bernard\", \"O'Brien\"], \"yaxis\": \"y\"}, {\"alignmentgroup\": \"True\", \"customdata\": [[899.0, \"$50,214\", 1.0, \"Other\"], [985.0, \"$93,792\", 0.0, \"Other\"], [992.0, \"$43,290\", 0.1, \"Other\"], [1106.0, \"$57,307\", 0.0, \"Other\"], [1761.0, \"$96,682\", 0.0, \"Other\"], [1955.0, \"$132,790\", 17.7, \"Other\"], [3488.0, \"$151,629\", 1.38, \"Other\"], [4063.0, \"$178,375\", 0.07, \"Other\"], [4458.0, \"$503,404\", 1.17, \"Other\"], [4518.0, \"$264,058\", 1.15, \"Other\"]], \"hovertemplate\": \"magistrate=%{y}<br>Total case count=%{customdata[0]}<br>Total bail amount set=%{customdata[1]}<extra></extra>\", \"legendgroup\": \"Other\", \"marker\": {\"color\": \"#ab63fa\"}, \"name\": \"Other\", \"offsetgroup\": \"Other\", \"orientation\": \"h\", \"showlegend\": true, \"text\": [1.0, 0.0, 0.1, 0.0, 0.0, 17.7, 1.38, 0.07, 1.17, 1.15], \"textposition\": \"auto\", \"type\": \"bar\", \"x\": [1.0, 0.0, 0.1, 0.0, 0.0, 17.7, 1.38, 0.07, 1.17, 1.15], \"xaxis\": \"x\", \"y\": [\"Devlin\", \"Connor\", \"Williams\", \"Rainey\", \"Rigmaiden-DeLeon\", \"Other\", \"E-Filing Judge\", \"Stack\", \"Bernard\", \"O'Brien\"], \"yaxis\": \"y\"}],                        {\"barmode\": \"stack\", \"legend\": {\"title\": {\"text\": \"bail type\"}, \"tracegroupgap\": 0}, \"margin\": {\"t\": 60}, \"template\": {\"data\": {\"bar\": [{\"error_x\": {\"color\": \"#2a3f5f\"}, \"error_y\": {\"color\": \"#2a3f5f\"}, \"marker\": {\"line\": {\"color\": \"#E5ECF6\", \"width\": 0.5}}, \"type\": \"bar\"}], \"barpolar\": [{\"marker\": {\"line\": {\"color\": \"#E5ECF6\", \"width\": 0.5}}, \"type\": \"barpolar\"}], \"carpet\": [{\"aaxis\": {\"endlinecolor\": \"#2a3f5f\", \"gridcolor\": \"white\", \"linecolor\": \"white\", \"minorgridcolor\": \"white\", \"startlinecolor\": \"#2a3f5f\"}, \"baxis\": {\"endlinecolor\": \"#2a3f5f\", \"gridcolor\": \"white\", \"linecolor\": \"white\", \"minorgridcolor\": \"white\", \"startlinecolor\": \"#2a3f5f\"}, \"type\": \"carpet\"}], \"choropleth\": [{\"colorbar\": {\"outlinewidth\": 0, \"ticks\": \"\"}, \"type\": \"choropleth\"}], \"contour\": [{\"colorbar\": {\"outlinewidth\": 0, \"ticks\": \"\"}, \"colorscale\": [[0.0, \"#0d0887\"], [0.1111111111111111, \"#46039f\"], [0.2222222222222222, \"#7201a8\"], [0.3333333333333333, \"#9c179e\"], [0.4444444444444444, \"#bd3786\"], [0.5555555555555556, \"#d8576b\"], [0.6666666666666666, \"#ed7953\"], [0.7777777777777778, \"#fb9f3a\"], [0.8888888888888888, \"#fdca26\"], [1.0, \"#f0f921\"]], \"type\": \"contour\"}], \"contourcarpet\": [{\"colorbar\": {\"outlinewidth\": 0, \"ticks\": \"\"}, \"type\": \"contourcarpet\"}], \"heatmap\": [{\"colorbar\": {\"outlinewidth\": 0, \"ticks\": \"\"}, \"colorscale\": [[0.0, \"#0d0887\"], [0.1111111111111111, \"#46039f\"], [0.2222222222222222, \"#7201a8\"], [0.3333333333333333, \"#9c179e\"], [0.4444444444444444, \"#bd3786\"], [0.5555555555555556, \"#d8576b\"], [0.6666666666666666, \"#ed7953\"], [0.7777777777777778, \"#fb9f3a\"], [0.8888888888888888, \"#fdca26\"], [1.0, \"#f0f921\"]], \"type\": \"heatmap\"}], \"heatmapgl\": [{\"colorbar\": {\"outlinewidth\": 0, \"ticks\": \"\"}, \"colorscale\": [[0.0, \"#0d0887\"], [0.1111111111111111, \"#46039f\"], [0.2222222222222222, \"#7201a8\"], [0.3333333333333333, \"#9c179e\"], [0.4444444444444444, \"#bd3786\"], [0.5555555555555556, \"#d8576b\"], [0.6666666666666666, \"#ed7953\"], [0.7777777777777778, \"#fb9f3a\"], [0.8888888888888888, \"#fdca26\"], [1.0, \"#f0f921\"]], \"type\": \"heatmapgl\"}], \"histogram\": [{\"marker\": {\"colorbar\": {\"outlinewidth\": 0, \"ticks\": \"\"}}, \"type\": \"histogram\"}], \"histogram2d\": [{\"colorbar\": {\"outlinewidth\": 0, \"ticks\": \"\"}, \"colorscale\": [[0.0, \"#0d0887\"], [0.1111111111111111, \"#46039f\"], [0.2222222222222222, \"#7201a8\"], [0.3333333333333333, \"#9c179e\"], [0.4444444444444444, \"#bd3786\"], [0.5555555555555556, \"#d8576b\"], [0.6666666666666666, \"#ed7953\"], [0.7777777777777778, \"#fb9f3a\"], [0.8888888888888888, \"#fdca26\"], [1.0, \"#f0f921\"]], \"type\": \"histogram2d\"}], \"histogram2dcontour\": [{\"colorbar\": {\"outlinewidth\": 0, \"ticks\": \"\"}, \"colorscale\": [[0.0, \"#0d0887\"], [0.1111111111111111, \"#46039f\"], [0.2222222222222222, \"#7201a8\"], [0.3333333333333333, \"#9c179e\"], [0.4444444444444444, \"#bd3786\"], [0.5555555555555556, \"#d8576b\"], [0.6666666666666666, \"#ed7953\"], [0.7777777777777778, \"#fb9f3a\"], [0.8888888888888888, \"#fdca26\"], [1.0, \"#f0f921\"]], \"type\": \"histogram2dcontour\"}], \"mesh3d\": [{\"colorbar\": {\"outlinewidth\": 0, \"ticks\": \"\"}, \"type\": \"mesh3d\"}], \"parcoords\": [{\"line\": {\"colorbar\": {\"outlinewidth\": 0, \"ticks\": \"\"}}, \"type\": \"parcoords\"}], \"pie\": [{\"automargin\": true, \"type\": \"pie\"}], \"scatter\": [{\"marker\": {\"colorbar\": {\"outlinewidth\": 0, \"ticks\": \"\"}}, \"type\": \"scatter\"}], \"scatter3d\": [{\"line\": {\"colorbar\": {\"outlinewidth\": 0, \"ticks\": \"\"}}, \"marker\": {\"colorbar\": {\"outlinewidth\": 0, \"ticks\": \"\"}}, \"type\": \"scatter3d\"}], \"scattercarpet\": [{\"marker\": {\"colorbar\": {\"outlinewidth\": 0, \"ticks\": \"\"}}, \"type\": \"scattercarpet\"}], \"scattergeo\": [{\"marker\": {\"colorbar\": {\"outlinewidth\": 0, \"ticks\": \"\"}}, \"type\": \"scattergeo\"}], \"scattergl\": [{\"marker\": {\"colorbar\": {\"outlinewidth\": 0, \"ticks\": \"\"}}, \"type\": \"scattergl\"}], \"scattermapbox\": [{\"marker\": {\"colorbar\": {\"outlinewidth\": 0, \"ticks\": \"\"}}, \"type\": \"scattermapbox\"}], \"scatterpolar\": [{\"marker\": {\"colorbar\": {\"outlinewidth\": 0, \"ticks\": \"\"}}, \"type\": \"scatterpolar\"}], \"scatterpolargl\": [{\"marker\": {\"colorbar\": {\"outlinewidth\": 0, \"ticks\": \"\"}}, \"type\": \"scatterpolargl\"}], \"scatterternary\": [{\"marker\": {\"colorbar\": {\"outlinewidth\": 0, \"ticks\": \"\"}}, \"type\": \"scatterternary\"}], \"surface\": [{\"colorbar\": {\"outlinewidth\": 0, \"ticks\": \"\"}, \"colorscale\": [[0.0, \"#0d0887\"], [0.1111111111111111, \"#46039f\"], [0.2222222222222222, \"#7201a8\"], [0.3333333333333333, \"#9c179e\"], [0.4444444444444444, \"#bd3786\"], [0.5555555555555556, \"#d8576b\"], [0.6666666666666666, \"#ed7953\"], [0.7777777777777778, \"#fb9f3a\"], [0.8888888888888888, \"#fdca26\"], [1.0, \"#f0f921\"]], \"type\": \"surface\"}], \"table\": [{\"cells\": {\"fill\": {\"color\": \"#EBF0F8\"}, \"line\": {\"color\": \"white\"}}, \"header\": {\"fill\": {\"color\": \"#C8D4E3\"}, \"line\": {\"color\": \"white\"}}, \"type\": \"table\"}]}, \"layout\": {\"annotationdefaults\": {\"arrowcolor\": \"#2a3f5f\", \"arrowhead\": 0, \"arrowwidth\": 1}, \"coloraxis\": {\"colorbar\": {\"outlinewidth\": 0, \"ticks\": \"\"}}, \"colorscale\": {\"diverging\": [[0, \"#8e0152\"], [0.1, \"#c51b7d\"], [0.2, \"#de77ae\"], [0.3, \"#f1b6da\"], [0.4, \"#fde0ef\"], [0.5, \"#f7f7f7\"], [0.6, \"#e6f5d0\"], [0.7, \"#b8e186\"], [0.8, \"#7fbc41\"], [0.9, \"#4d9221\"], [1, \"#276419\"]], \"sequential\": [[0.0, \"#0d0887\"], [0.1111111111111111, \"#46039f\"], [0.2222222222222222, \"#7201a8\"], [0.3333333333333333, \"#9c179e\"], [0.4444444444444444, \"#bd3786\"], [0.5555555555555556, \"#d8576b\"], [0.6666666666666666, \"#ed7953\"], [0.7777777777777778, \"#fb9f3a\"], [0.8888888888888888, \"#fdca26\"], [1.0, \"#f0f921\"]], \"sequentialminus\": [[0.0, \"#0d0887\"], [0.1111111111111111, \"#46039f\"], [0.2222222222222222, \"#7201a8\"], [0.3333333333333333, \"#9c179e\"], [0.4444444444444444, \"#bd3786\"], [0.5555555555555556, \"#d8576b\"], [0.6666666666666666, \"#ed7953\"], [0.7777777777777778, \"#fb9f3a\"], [0.8888888888888888, \"#fdca26\"], [1.0, \"#f0f921\"]]}, \"colorway\": [\"#636efa\", \"#EF553B\", \"#00cc96\", \"#ab63fa\", \"#FFA15A\", \"#19d3f3\", \"#FF6692\", \"#B6E880\", \"#FF97FF\", \"#FECB52\"], \"font\": {\"color\": \"#2a3f5f\"}, \"geo\": {\"bgcolor\": \"white\", \"lakecolor\": \"white\", \"landcolor\": \"#E5ECF6\", \"showlakes\": true, \"showland\": true, \"subunitcolor\": \"white\"}, \"hoverlabel\": {\"align\": \"left\"}, \"hovermode\": \"closest\", \"mapbox\": {\"style\": \"light\"}, \"paper_bgcolor\": \"white\", \"plot_bgcolor\": \"#E5ECF6\", \"polar\": {\"angularaxis\": {\"gridcolor\": \"white\", \"linecolor\": \"white\", \"ticks\": \"\"}, \"bgcolor\": \"#E5ECF6\", \"radialaxis\": {\"gridcolor\": \"white\", \"linecolor\": \"white\", \"ticks\": \"\"}}, \"scene\": {\"xaxis\": {\"backgroundcolor\": \"#E5ECF6\", \"gridcolor\": \"white\", \"gridwidth\": 2, \"linecolor\": \"white\", \"showbackground\": true, \"ticks\": \"\", \"zerolinecolor\": \"white\"}, \"yaxis\": {\"backgroundcolor\": \"#E5ECF6\", \"gridcolor\": \"white\", \"gridwidth\": 2, \"linecolor\": \"white\", \"showbackground\": true, \"ticks\": \"\", \"zerolinecolor\": \"white\"}, \"zaxis\": {\"backgroundcolor\": \"#E5ECF6\", \"gridcolor\": \"white\", \"gridwidth\": 2, \"linecolor\": \"white\", \"showbackground\": true, \"ticks\": \"\", \"zerolinecolor\": \"white\"}}, \"shapedefaults\": {\"line\": {\"color\": \"#2a3f5f\"}}, \"ternary\": {\"aaxis\": {\"gridcolor\": \"white\", \"linecolor\": \"white\", \"ticks\": \"\"}, \"baxis\": {\"gridcolor\": \"white\", \"linecolor\": \"white\", \"ticks\": \"\"}, \"bgcolor\": \"#E5ECF6\", \"caxis\": {\"gridcolor\": \"white\", \"linecolor\": \"white\", \"ticks\": \"\"}}, \"title\": {\"x\": 0.05}, \"xaxis\": {\"automargin\": true, \"gridcolor\": \"white\", \"linecolor\": \"white\", \"ticks\": \"\", \"title\": {\"standoff\": 15}, \"zerolinecolor\": \"white\", \"zerolinewidth\": 2}, \"yaxis\": {\"automargin\": true, \"gridcolor\": \"white\", \"linecolor\": \"white\", \"ticks\": \"\", \"title\": {\"standoff\": 15}, \"zerolinecolor\": \"white\", \"zerolinewidth\": 2}}}, \"xaxis\": {\"anchor\": \"y\", \"domain\": [0.0, 1.0], \"title\": {\"text\": \"percentage\"}}, \"yaxis\": {\"anchor\": \"x\", \"domain\": [0.0, 1.0], \"title\": {\"text\": \"magistrate\"}}},                        {\"responsive\": true}                    ).then(function(){\n",
       "                            \n",
       "var gd = document.getElementById('3b13ecdf-abf8-4f7a-9df0-e7a756ddff83');\n",
       "var x = new MutationObserver(function (mutations, observer) {{\n",
       "        var display = window.getComputedStyle(gd).display;\n",
       "        if (!display || display === 'none') {{\n",
       "            console.log([gd, 'removed!']);\n",
       "            Plotly.purge(gd);\n",
       "            observer.disconnect();\n",
       "        }}\n",
       "}});\n",
       "\n",
       "// Listen for the removal of the full notebook cells\n",
       "var notebookContainer = gd.closest('#notebook-container');\n",
       "if (notebookContainer) {{\n",
       "    x.observe(notebookContainer, {childList: true});\n",
       "}}\n",
       "\n",
       "// Listen for the clearing of the current output cell\n",
       "var outputEl = gd.closest('.output');\n",
       "if (outputEl) {{\n",
       "    x.observe(outputEl, {childList: true});\n",
       "}}\n",
       "\n",
       "                        })                };                });            </script>        </div>"
      ]
     },
     "metadata": {},
     "output_type": "display_data"
    }
   ],
   "source": [
    "fig = px.bar(df_magistrate,\n",
    "             orientation = \"h\",\n",
    "             barmode = \"stack\",\n",
    "             x = [\"Monetary\", \"ROR\", \"Unsecured\", \"Other\"],\n",
    "             text = \"value\",\n",
    "             hover_data={\"Total\": True, \"bail_amount\": True, \"value\": False, \"variable\": False},\n",
    "             labels = {\"value\": \"percentage\",\n",
    "                       \"variable\": \"bail type\",\n",
    "                       \"bail_amount\": \"Total bail amount set\",\n",
    "                       \"Total\": \"Total case count\"}\n",
    "            )\n",
    "fig.show()"
   ]
  },
  {
   "cell_type": "markdown",
   "metadata": {},
   "source": [
    "<b> To do </b>\n",
    "* Colors of the bars?\n",
    "* The hovering right now makes it look like the count is for cases of the specific bail type... May want to make this clearer."
   ]
  },
  {
   "cell_type": "code",
   "execution_count": null,
   "metadata": {},
   "outputs": [],
   "source": []
  }
 ],
 "metadata": {
  "@webio": {
   "lastCommId": null,
   "lastKernelId": null
  },
  "kernelspec": {
   "display_name": "Python 3",
   "language": "python",
   "name": "python3"
  },
  "language_info": {
   "codemirror_mode": {
    "name": "ipython",
    "version": 3
   },
   "file_extension": ".py",
   "mimetype": "text/x-python",
   "name": "python",
   "nbconvert_exporter": "python",
   "pygments_lexer": "ipython3",
   "version": "3.9.0"
  }
 },
 "nbformat": 4,
 "nbformat_minor": 4
}
